{
  "cells": [
    {
      "metadata": {
        "trusted": true
      },
      "cell_type": "code",
      "source": "import pandas as pd\nimport numpy as np",
      "execution_count": 1,
      "outputs": []
    },
    {
      "metadata": {
        "trusted": true
      },
      "cell_type": "code",
      "source": "#!pip install cvxpy",
      "execution_count": 2,
      "outputs": []
    },
    {
      "metadata": {
        "trusted": true
      },
      "cell_type": "code",
      "source": "#import cvxpy as cp",
      "execution_count": 3,
      "outputs": []
    },
    {
      "metadata": {
        "trusted": true
      },
      "cell_type": "code",
      "source": "#First, need a function that picks elements from list L with probabilies probs\ndef pick_element_per_probs(L,probs):\n    #make sure probs are normalized\n    probs = [x / sum(probs) for x in probs]\n    #pick a random number\n    r = np.random.random()\n    c = 0 #cumulative sum\n    for i, prob in enumerate(probs):\n        if r < prob + c:\n            return L[i]\n        c += prob",
      "execution_count": 4,
      "outputs": []
    },
    {
      "metadata": {},
      "cell_type": "markdown",
      "source": "# Read in Data"
    },
    {
      "metadata": {},
      "cell_type": "markdown",
      "source": "### Option 1: Read in DR projections and DK salaries, and make sure names match"
    },
    {
      "metadata": {
        "trusted": true,
        "scrolled": false
      },
      "cell_type": "code",
      "source": "df = pd.read_csv('https://www.draftkings.com/lineup/getavailableplayerscsv?contestTypeId=129&draftGroupId=32040')\ndf.iloc[np.r_[0:3,-3:0]]",
      "execution_count": 15,
      "outputs": [
        {
          "output_type": "execute_result",
          "execution_count": 15,
          "data": {
            "text/html": "<div>\n<style scoped>\n    .dataframe tbody tr th:only-of-type {\n        vertical-align: middle;\n    }\n\n    .dataframe tbody tr th {\n        vertical-align: top;\n    }\n\n    .dataframe thead th {\n        text-align: right;\n    }\n</style>\n<table border=\"1\" class=\"dataframe\">\n  <thead>\n    <tr style=\"text-align: right;\">\n      <th></th>\n      <th>Position</th>\n      <th>Name + ID</th>\n      <th>Name</th>\n      <th>ID</th>\n      <th>Roster Position</th>\n      <th>Salary</th>\n      <th>Game Info</th>\n      <th>TeamAbbrev</th>\n      <th>AvgPointsPerGame</th>\n    </tr>\n  </thead>\n  <tbody>\n    <tr>\n      <th>0</th>\n      <td>G</td>\n      <td>Justin Thomas (13919919)</td>\n      <td>Justin Thomas</td>\n      <td>13919919</td>\n      <td>CPT</td>\n      <td>16200</td>\n      <td>Presidents Cup</td>\n      <td>Golf</td>\n      <td>102.70</td>\n    </tr>\n    <tr>\n      <th>1</th>\n      <td>G</td>\n      <td>Xander Schauffele (13919920)</td>\n      <td>Xander Schauffele</td>\n      <td>13919920</td>\n      <td>CPT</td>\n      <td>15300</td>\n      <td>Presidents Cup</td>\n      <td>Golf</td>\n      <td>90.25</td>\n    </tr>\n    <tr>\n      <th>2</th>\n      <td>G</td>\n      <td>Adam Scott (13919921)</td>\n      <td>Adam Scott</td>\n      <td>13919921</td>\n      <td>CPT</td>\n      <td>14400</td>\n      <td>Presidents Cup</td>\n      <td>Golf</td>\n      <td>86.62</td>\n    </tr>\n    <tr>\n      <th>45</th>\n      <td>G</td>\n      <td>Hao-Tong Li (13919916)</td>\n      <td>Hao-Tong Li</td>\n      <td>13919916</td>\n      <td>G</td>\n      <td>4400</td>\n      <td>Presidents Cup</td>\n      <td>Golf</td>\n      <td>71.93</td>\n    </tr>\n    <tr>\n      <th>46</th>\n      <td>G</td>\n      <td>Adam Hadwin (13919917)</td>\n      <td>Adam Hadwin</td>\n      <td>13919917</td>\n      <td>G</td>\n      <td>4200</td>\n      <td>Presidents Cup</td>\n      <td>Golf</td>\n      <td>83.60</td>\n    </tr>\n    <tr>\n      <th>47</th>\n      <td>G</td>\n      <td>C.T. Pan (13919918)</td>\n      <td>C.T. Pan</td>\n      <td>13919918</td>\n      <td>G</td>\n      <td>4000</td>\n      <td>Presidents Cup</td>\n      <td>Golf</td>\n      <td>51.43</td>\n    </tr>\n  </tbody>\n</table>\n</div>",
            "text/plain": "   Position                     Name + ID               Name        ID  \\\n0         G      Justin Thomas (13919919)      Justin Thomas  13919919   \n1         G  Xander Schauffele (13919920)  Xander Schauffele  13919920   \n2         G         Adam Scott (13919921)         Adam Scott  13919921   \n45        G        Hao-Tong Li (13919916)        Hao-Tong Li  13919916   \n46        G        Adam Hadwin (13919917)        Adam Hadwin  13919917   \n47        G           C.T. Pan (13919918)           C.T. Pan  13919918   \n\n   Roster Position  Salary       Game Info TeamAbbrev  AvgPointsPerGame  \n0              CPT   16200  Presidents Cup       Golf            102.70  \n1              CPT   15300  Presidents Cup       Golf             90.25  \n2              CPT   14400  Presidents Cup       Golf             86.62  \n45               G    4400  Presidents Cup       Golf             71.93  \n46               G    4200  Presidents Cup       Golf             83.60  \n47               G    4000  Presidents Cup       Golf             51.43  "
          },
          "metadata": {}
        }
      ]
    },
    {
      "metadata": {},
      "cell_type": "markdown",
      "source": "Account for R1"
    },
    {
      "metadata": {
        "trusted": true
      },
      "cell_type": "code",
      "source": "df[df.Name.str.contains('Smith')]",
      "execution_count": 16,
      "outputs": [
        {
          "output_type": "execute_result",
          "execution_count": 16,
          "data": {
            "text/html": "<div>\n<style scoped>\n    .dataframe tbody tr th:only-of-type {\n        vertical-align: middle;\n    }\n\n    .dataframe tbody tr th {\n        vertical-align: top;\n    }\n\n    .dataframe thead th {\n        text-align: right;\n    }\n</style>\n<table border=\"1\" class=\"dataframe\">\n  <thead>\n    <tr style=\"text-align: right;\">\n      <th></th>\n      <th>Position</th>\n      <th>Name + ID</th>\n      <th>Name</th>\n      <th>ID</th>\n      <th>Roster Position</th>\n      <th>Salary</th>\n      <th>Game Info</th>\n      <th>TeamAbbrev</th>\n      <th>AvgPointsPerGame</th>\n    </tr>\n  </thead>\n  <tbody>\n    <tr>\n      <th>18</th>\n      <td>G</td>\n      <td>Cameron Smith (13919932)</td>\n      <td>Cameron Smith</td>\n      <td>13919932</td>\n      <td>CPT</td>\n      <td>9000</td>\n      <td>Presidents Cup</td>\n      <td>Golf</td>\n      <td>88.33</td>\n    </tr>\n    <tr>\n      <th>36</th>\n      <td>G</td>\n      <td>Cameron Smith (13919908)</td>\n      <td>Cameron Smith</td>\n      <td>13919908</td>\n      <td>G</td>\n      <td>6000</td>\n      <td>Presidents Cup</td>\n      <td>Golf</td>\n      <td>88.33</td>\n    </tr>\n  </tbody>\n</table>\n</div>",
            "text/plain": "   Position                 Name + ID           Name        ID  \\\n18        G  Cameron Smith (13919932)  Cameron Smith  13919932   \n36        G  Cameron Smith (13919908)  Cameron Smith  13919908   \n\n   Roster Position  Salary       Game Info TeamAbbrev  AvgPointsPerGame  \n18             CPT    9000  Presidents Cup       Golf             88.33  \n36               G    6000  Presidents Cup       Golf             88.33  "
          },
          "metadata": {}
        }
      ]
    },
    {
      "metadata": {
        "trusted": true
      },
      "cell_type": "code",
      "source": "to_remove = ['Matt Kuchar','Rickie Fowler','Hao-Tong Li','Cameron Smith']\ndf = df[~df.Name.isin(to_remove)]\ndf.tail()",
      "execution_count": 17,
      "outputs": [
        {
          "output_type": "execute_result",
          "execution_count": 17,
          "data": {
            "text/html": "<div>\n<style scoped>\n    .dataframe tbody tr th:only-of-type {\n        vertical-align: middle;\n    }\n\n    .dataframe tbody tr th {\n        vertical-align: top;\n    }\n\n    .dataframe thead th {\n        text-align: right;\n    }\n</style>\n<table border=\"1\" class=\"dataframe\">\n  <thead>\n    <tr style=\"text-align: right;\">\n      <th></th>\n      <th>Position</th>\n      <th>Name + ID</th>\n      <th>Name</th>\n      <th>ID</th>\n      <th>Roster Position</th>\n      <th>Salary</th>\n      <th>Game Info</th>\n      <th>TeamAbbrev</th>\n      <th>AvgPointsPerGame</th>\n    </tr>\n  </thead>\n  <tbody>\n    <tr>\n      <th>42</th>\n      <td>G</td>\n      <td>Abraham Ancer (13919913)</td>\n      <td>Abraham Ancer</td>\n      <td>13919913</td>\n      <td>G</td>\n      <td>5000</td>\n      <td>Presidents Cup</td>\n      <td>Golf</td>\n      <td>66.21</td>\n    </tr>\n    <tr>\n      <th>43</th>\n      <td>G</td>\n      <td>Byeong Hun An (13919914)</td>\n      <td>Byeong Hun An</td>\n      <td>13919914</td>\n      <td>G</td>\n      <td>4800</td>\n      <td>Presidents Cup</td>\n      <td>Golf</td>\n      <td>69.72</td>\n    </tr>\n    <tr>\n      <th>44</th>\n      <td>G</td>\n      <td>Joaquin Niemann (13919915)</td>\n      <td>Joaquin Niemann</td>\n      <td>13919915</td>\n      <td>G</td>\n      <td>4600</td>\n      <td>Presidents Cup</td>\n      <td>Golf</td>\n      <td>71.17</td>\n    </tr>\n    <tr>\n      <th>46</th>\n      <td>G</td>\n      <td>Adam Hadwin (13919917)</td>\n      <td>Adam Hadwin</td>\n      <td>13919917</td>\n      <td>G</td>\n      <td>4200</td>\n      <td>Presidents Cup</td>\n      <td>Golf</td>\n      <td>83.60</td>\n    </tr>\n    <tr>\n      <th>47</th>\n      <td>G</td>\n      <td>C.T. Pan (13919918)</td>\n      <td>C.T. Pan</td>\n      <td>13919918</td>\n      <td>G</td>\n      <td>4000</td>\n      <td>Presidents Cup</td>\n      <td>Golf</td>\n      <td>51.43</td>\n    </tr>\n  </tbody>\n</table>\n</div>",
            "text/plain": "   Position                   Name + ID             Name        ID  \\\n42        G    Abraham Ancer (13919913)    Abraham Ancer  13919913   \n43        G    Byeong Hun An (13919914)    Byeong Hun An  13919914   \n44        G  Joaquin Niemann (13919915)  Joaquin Niemann  13919915   \n46        G      Adam Hadwin (13919917)      Adam Hadwin  13919917   \n47        G         C.T. Pan (13919918)         C.T. Pan  13919918   \n\n   Roster Position  Salary       Game Info TeamAbbrev  AvgPointsPerGame  \n42               G    5000  Presidents Cup       Golf             66.21  \n43               G    4800  Presidents Cup       Golf             69.72  \n44               G    4600  Presidents Cup       Golf             71.17  \n46               G    4200  Presidents Cup       Golf             83.60  \n47               G    4000  Presidents Cup       Golf             51.43  "
          },
          "metadata": {}
        }
      ]
    },
    {
      "metadata": {
        "trusted": true
      },
      "cell_type": "code",
      "source": "lock = ['Adam Scott','Hideki Matsuyama','Louis Oosthuizen']\n\ndf = df[~df.Name.isin(lock)]\ndf[df['Roster Position']=='CPT']",
      "execution_count": 11,
      "outputs": [
        {
          "output_type": "execute_result",
          "execution_count": 11,
          "data": {
            "text/html": "<div>\n<style scoped>\n    .dataframe tbody tr th:only-of-type {\n        vertical-align: middle;\n    }\n\n    .dataframe tbody tr th {\n        vertical-align: top;\n    }\n\n    .dataframe thead th {\n        text-align: right;\n    }\n</style>\n<table border=\"1\" class=\"dataframe\">\n  <thead>\n    <tr style=\"text-align: right;\">\n      <th></th>\n      <th>Position</th>\n      <th>Name + ID</th>\n      <th>Name</th>\n      <th>ID</th>\n      <th>Roster Position</th>\n      <th>Salary</th>\n      <th>Game Info</th>\n      <th>TeamAbbrev</th>\n      <th>AvgPointsPerGame</th>\n    </tr>\n  </thead>\n  <tbody>\n    <tr>\n      <th>0</th>\n      <td>G</td>\n      <td>Justin Thomas (13919919)</td>\n      <td>Justin Thomas</td>\n      <td>13919919</td>\n      <td>CPT</td>\n      <td>16200</td>\n      <td>Presidents Cup</td>\n      <td>Golf</td>\n      <td>102.70</td>\n    </tr>\n    <tr>\n      <th>1</th>\n      <td>G</td>\n      <td>Xander Schauffele (13919920)</td>\n      <td>Xander Schauffele</td>\n      <td>13919920</td>\n      <td>CPT</td>\n      <td>15300</td>\n      <td>Presidents Cup</td>\n      <td>Golf</td>\n      <td>90.25</td>\n    </tr>\n    <tr>\n      <th>3</th>\n      <td>G</td>\n      <td>Dustin Johnson (13919922)</td>\n      <td>Dustin Johnson</td>\n      <td>13919922</td>\n      <td>CPT</td>\n      <td>14100</td>\n      <td>Presidents Cup</td>\n      <td>Golf</td>\n      <td>105.75</td>\n    </tr>\n    <tr>\n      <th>6</th>\n      <td>G</td>\n      <td>Tiger Woods (13919925)</td>\n      <td>Tiger Woods</td>\n      <td>13919925</td>\n      <td>CPT</td>\n      <td>12600</td>\n      <td>Presidents Cup</td>\n      <td>Golf</td>\n      <td>122.00</td>\n    </tr>\n    <tr>\n      <th>7</th>\n      <td>G</td>\n      <td>Patrick Cantlay (13919926)</td>\n      <td>Patrick Cantlay</td>\n      <td>13919926</td>\n      <td>CPT</td>\n      <td>12300</td>\n      <td>Presidents Cup</td>\n      <td>Golf</td>\n      <td>95.67</td>\n    </tr>\n    <tr>\n      <th>8</th>\n      <td>G</td>\n      <td>Patrick Reed (13919927)</td>\n      <td>Patrick Reed</td>\n      <td>13919927</td>\n      <td>CPT</td>\n      <td>11700</td>\n      <td>Presidents Cup</td>\n      <td>Golf</td>\n      <td>83.60</td>\n    </tr>\n    <tr>\n      <th>9</th>\n      <td>G</td>\n      <td>Webb Simpson (13919928)</td>\n      <td>Webb Simpson</td>\n      <td>13919928</td>\n      <td>CPT</td>\n      <td>11100</td>\n      <td>Presidents Cup</td>\n      <td>Golf</td>\n      <td>107.33</td>\n    </tr>\n    <tr>\n      <th>13</th>\n      <td>G</td>\n      <td>Gary Woodland (13919930)</td>\n      <td>Gary Woodland</td>\n      <td>13919930</td>\n      <td>CPT</td>\n      <td>9900</td>\n      <td>Presidents Cup</td>\n      <td>Golf</td>\n      <td>96.12</td>\n    </tr>\n    <tr>\n      <th>16</th>\n      <td>G</td>\n      <td>Marc Leishman (13919931)</td>\n      <td>Marc Leishman</td>\n      <td>13919931</td>\n      <td>CPT</td>\n      <td>9300</td>\n      <td>Presidents Cup</td>\n      <td>Golf</td>\n      <td>66.80</td>\n    </tr>\n    <tr>\n      <th>20</th>\n      <td>G</td>\n      <td>Bryson DeChambeau (13919933)</td>\n      <td>Bryson DeChambeau</td>\n      <td>13919933</td>\n      <td>CPT</td>\n      <td>8700</td>\n      <td>Presidents Cup</td>\n      <td>Golf</td>\n      <td>96.50</td>\n    </tr>\n    <tr>\n      <th>22</th>\n      <td>G</td>\n      <td>Sungjae Im (13919934)</td>\n      <td>Sungjae Im</td>\n      <td>13919934</td>\n      <td>CPT</td>\n      <td>8400</td>\n      <td>Presidents Cup</td>\n      <td>Golf</td>\n      <td>88.67</td>\n    </tr>\n    <tr>\n      <th>24</th>\n      <td>G</td>\n      <td>Tony Finau (13919935)</td>\n      <td>Tony Finau</td>\n      <td>13919935</td>\n      <td>CPT</td>\n      <td>8100</td>\n      <td>Presidents Cup</td>\n      <td>Golf</td>\n      <td>74.21</td>\n    </tr>\n    <tr>\n      <th>27</th>\n      <td>G</td>\n      <td>Abraham Ancer (13919937)</td>\n      <td>Abraham Ancer</td>\n      <td>13919937</td>\n      <td>CPT</td>\n      <td>7500</td>\n      <td>Presidents Cup</td>\n      <td>Golf</td>\n      <td>66.21</td>\n    </tr>\n    <tr>\n      <th>29</th>\n      <td>G</td>\n      <td>Byeong Hun An (13919938)</td>\n      <td>Byeong Hun An</td>\n      <td>13919938</td>\n      <td>CPT</td>\n      <td>7200</td>\n      <td>Presidents Cup</td>\n      <td>Golf</td>\n      <td>69.72</td>\n    </tr>\n    <tr>\n      <th>31</th>\n      <td>G</td>\n      <td>Joaquin Niemann (13919939)</td>\n      <td>Joaquin Niemann</td>\n      <td>13919939</td>\n      <td>CPT</td>\n      <td>6900</td>\n      <td>Presidents Cup</td>\n      <td>Golf</td>\n      <td>71.17</td>\n    </tr>\n    <tr>\n      <th>34</th>\n      <td>G</td>\n      <td>Adam Hadwin (13919941)</td>\n      <td>Adam Hadwin</td>\n      <td>13919941</td>\n      <td>CPT</td>\n      <td>6300</td>\n      <td>Presidents Cup</td>\n      <td>Golf</td>\n      <td>83.60</td>\n    </tr>\n    <tr>\n      <th>37</th>\n      <td>G</td>\n      <td>C.T. Pan (13919942)</td>\n      <td>C.T. Pan</td>\n      <td>13919942</td>\n      <td>CPT</td>\n      <td>6000</td>\n      <td>Presidents Cup</td>\n      <td>Golf</td>\n      <td>51.43</td>\n    </tr>\n  </tbody>\n</table>\n</div>",
            "text/plain": "   Position                     Name + ID               Name        ID  \\\n0         G      Justin Thomas (13919919)      Justin Thomas  13919919   \n1         G  Xander Schauffele (13919920)  Xander Schauffele  13919920   \n3         G     Dustin Johnson (13919922)     Dustin Johnson  13919922   \n6         G        Tiger Woods (13919925)        Tiger Woods  13919925   \n7         G    Patrick Cantlay (13919926)    Patrick Cantlay  13919926   \n8         G       Patrick Reed (13919927)       Patrick Reed  13919927   \n9         G       Webb Simpson (13919928)       Webb Simpson  13919928   \n13        G      Gary Woodland (13919930)      Gary Woodland  13919930   \n16        G      Marc Leishman (13919931)      Marc Leishman  13919931   \n20        G  Bryson DeChambeau (13919933)  Bryson DeChambeau  13919933   \n22        G         Sungjae Im (13919934)         Sungjae Im  13919934   \n24        G         Tony Finau (13919935)         Tony Finau  13919935   \n27        G      Abraham Ancer (13919937)      Abraham Ancer  13919937   \n29        G      Byeong Hun An (13919938)      Byeong Hun An  13919938   \n31        G    Joaquin Niemann (13919939)    Joaquin Niemann  13919939   \n34        G        Adam Hadwin (13919941)        Adam Hadwin  13919941   \n37        G           C.T. Pan (13919942)           C.T. Pan  13919942   \n\n   Roster Position  Salary       Game Info TeamAbbrev  AvgPointsPerGame  \n0              CPT   16200  Presidents Cup       Golf            102.70  \n1              CPT   15300  Presidents Cup       Golf             90.25  \n3              CPT   14100  Presidents Cup       Golf            105.75  \n6              CPT   12600  Presidents Cup       Golf            122.00  \n7              CPT   12300  Presidents Cup       Golf             95.67  \n8              CPT   11700  Presidents Cup       Golf             83.60  \n9              CPT   11100  Presidents Cup       Golf            107.33  \n13             CPT    9900  Presidents Cup       Golf             96.12  \n16             CPT    9300  Presidents Cup       Golf             66.80  \n20             CPT    8700  Presidents Cup       Golf             96.50  \n22             CPT    8400  Presidents Cup       Golf             88.67  \n24             CPT    8100  Presidents Cup       Golf             74.21  \n27             CPT    7500  Presidents Cup       Golf             66.21  \n29             CPT    7200  Presidents Cup       Golf             69.72  \n31             CPT    6900  Presidents Cup       Golf             71.17  \n34             CPT    6300  Presidents Cup       Golf             83.60  \n37             CPT    6000  Presidents Cup       Golf             51.43  "
          },
          "metadata": {}
        }
      ]
    },
    {
      "metadata": {
        "trusted": true
      },
      "cell_type": "code",
      "source": "cpt_list = ['Patrick Cantlay','Patrick Reed','Webb Simpson','Gary Woodland','Bryson DeChambeau','Tony Finau']",
      "execution_count": 12,
      "outputs": []
    },
    {
      "metadata": {
        "trusted": true
      },
      "cell_type": "code",
      "source": "df['Exposure'] = 0",
      "execution_count": 14,
      "outputs": []
    },
    {
      "metadata": {},
      "cell_type": "markdown",
      "source": "## Generate lineups!"
    },
    {
      "metadata": {
        "trusted": true
      },
      "cell_type": "code",
      "source": "#initialize df_lineups, which will be written to csv\ndf_lineups = pd.DataFrame(columns=['G1','G2','G3','G4','G5','G6'])\ndf_lineups",
      "execution_count": 13,
      "outputs": [
        {
          "output_type": "execute_result",
          "execution_count": 13,
          "data": {
            "text/html": "<div>\n<style scoped>\n    .dataframe tbody tr th:only-of-type {\n        vertical-align: middle;\n    }\n\n    .dataframe tbody tr th {\n        vertical-align: top;\n    }\n\n    .dataframe thead th {\n        text-align: right;\n    }\n</style>\n<table border=\"1\" class=\"dataframe\">\n  <thead>\n    <tr style=\"text-align: right;\">\n      <th></th>\n      <th>G1</th>\n      <th>G2</th>\n      <th>G3</th>\n      <th>G4</th>\n      <th>G5</th>\n      <th>G6</th>\n    </tr>\n  </thead>\n  <tbody>\n  </tbody>\n</table>\n</div>",
            "text/plain": "Empty DataFrame\nColumns: [G1, G2, G3, G4, G5, G6]\nIndex: []"
          },
          "metadata": {}
        }
      ]
    },
    {
      "metadata": {
        "trusted": true
      },
      "cell_type": "code",
      "source": "",
      "execution_count": 61,
      "outputs": [
        {
          "output_type": "execute_result",
          "execution_count": 61,
          "data": {
            "text/plain": "680"
          },
          "metadata": {}
        }
      ]
    },
    {
      "metadata": {
        "trusted": true,
        "scrolled": false
      },
      "cell_type": "code",
      "source": "#Now start churning\n#Now set parameters for number of teams and salary limits\nnum_teams = 85\nmin_sal = 49400\nmax_sal = 50000\n\n#Reset df_teams\ndf_teams['Actual Exposure'] = 0\n\nm = 0 #Completed teams so far\nwhile (m < num_teams):\n    #pick 6 players per probabilties\n    curr_team = []\n    df_now = df_teams.copy()\n    players = df_now['Name + ID'].tolist()\n    probs = df_now['Exposure'].tolist()\n    for i in range(players_left):\n        p = pick_element_per_probs(players,probs)\n        curr_team.append(p)\n        #prit('picked player {}'.format(p))\n        df_now = df_now[df_now['Name + ID']!=p]\n        players = df_now['Name + ID'].tolist()\n        probs = df_now['Exposure'].tolist()\n        \n    #Now curr_team is list of 6 names.  Check if salary matches\n    df_now = df_teams[df_teams['Name + ID'].isin(curr_team)]\n    total_own = df_now.Ownership.sum()\n    total_sal = df_now.Salary.sum() + sal_used\n    ##print(total_sal)\n    if (total_sal < min_sal or total_sal > max_sal or total_own > 80):\n        continue\n        \n    #Put team in order of decreasing salary\n    df_now.sort_values(by='Salary',ascending=False,inplace=True)\n    curr_team = lock_full_names + df_now['Name + ID'].tolist()\n    \n    #Check if team has shown up before in df_lineups\n    df3 = (df_lineups == np.array(curr_team))\n    old_team = df3.transpose().all().any() #True if team is already in df_lineups\n    if old_team:\n        continue\n        \n    #OK, so now we have a new team!  Add it to df_lineups\n    df_lineups.loc[m] = curr_team\n    #Also update 'Actual Exposure' in df_teams\n    new_players = np.where(df_teams['Name + ID'].isin(curr_team),1,0)\n    df_teams['Actual Exposure'] = df_teams['Actual Exposure'] + new_players\n    \n    #Finally increment m\n    m += 1\n    #print('m = {}'.format(m))\n\n    #print('Team {}, sal = {}'.format(m,total_sal))\n    \ndf_teams[['Name + ID','Actual Exposure','Exposure','Salary']]",
      "execution_count": 62,
      "outputs": [
        {
          "output_type": "stream",
          "text": "/home/nbuser/anaconda3_501/lib/python3.6/site-packages/ipykernel/__main__.py:34: SettingWithCopyWarning: \nA value is trying to be set on a copy of a slice from a DataFrame\n\nSee the caveats in the documentation: http://pandas.pydata.org/pandas-docs/stable/indexing.html#indexing-view-versus-copy\n",
          "name": "stderr"
        },
        {
          "output_type": "execute_result",
          "execution_count": 62,
          "data": {
            "text/html": "<div>\n<style scoped>\n    .dataframe tbody tr th:only-of-type {\n        vertical-align: middle;\n    }\n\n    .dataframe tbody tr th {\n        vertical-align: top;\n    }\n\n    .dataframe thead th {\n        text-align: right;\n    }\n</style>\n<table border=\"1\" class=\"dataframe\">\n  <thead>\n    <tr style=\"text-align: right;\">\n      <th></th>\n      <th>Name + ID</th>\n      <th>Actual Exposure</th>\n      <th>Exposure</th>\n      <th>Salary</th>\n    </tr>\n  </thead>\n  <tbody>\n    <tr>\n      <th>0</th>\n      <td>Viktor Hovland (13745197)</td>\n      <td>20</td>\n      <td>46</td>\n      <td>11200</td>\n    </tr>\n    <tr>\n      <th>1</th>\n      <td>Jason Day (13745198)</td>\n      <td>19</td>\n      <td>48</td>\n      <td>11000</td>\n    </tr>\n    <tr>\n      <th>2</th>\n      <td>Tony Finau (13745199)</td>\n      <td>21</td>\n      <td>46</td>\n      <td>10600</td>\n    </tr>\n    <tr>\n      <th>3</th>\n      <td>Billy Horschel (13745200)</td>\n      <td>25</td>\n      <td>50</td>\n      <td>10200</td>\n    </tr>\n    <tr>\n      <th>4</th>\n      <td>Joaquin Niemann (13745201)</td>\n      <td>18</td>\n      <td>44</td>\n      <td>9800</td>\n    </tr>\n    <tr>\n      <th>5</th>\n      <td>Charles Howell III (13745202)</td>\n      <td>23</td>\n      <td>44</td>\n      <td>9600</td>\n    </tr>\n    <tr>\n      <th>6</th>\n      <td>Aaron Wise (13745203)</td>\n      <td>25</td>\n      <td>50</td>\n      <td>9400</td>\n    </tr>\n    <tr>\n      <th>7</th>\n      <td>Scottie Scheffler (13745206)</td>\n      <td>20</td>\n      <td>44</td>\n      <td>9100</td>\n    </tr>\n    <tr>\n      <th>8</th>\n      <td>Denny McCarthy (13745213)</td>\n      <td>17</td>\n      <td>44</td>\n      <td>8400</td>\n    </tr>\n    <tr>\n      <th>9</th>\n      <td>J.T. Poston (13745215)</td>\n      <td>17</td>\n      <td>48</td>\n      <td>8200</td>\n    </tr>\n    <tr>\n      <th>10</th>\n      <td>Dylan Frittelli (13745217)</td>\n      <td>24</td>\n      <td>50</td>\n      <td>8000</td>\n    </tr>\n    <tr>\n      <th>11</th>\n      <td>Rory Sabbatini (13745221)</td>\n      <td>18</td>\n      <td>50</td>\n      <td>7800</td>\n    </tr>\n    <tr>\n      <th>12</th>\n      <td>Carlos Ortiz (13745225)</td>\n      <td>23</td>\n      <td>48</td>\n      <td>7700</td>\n    </tr>\n    <tr>\n      <th>13</th>\n      <td>Brian Harman (13745224)</td>\n      <td>21</td>\n      <td>48</td>\n      <td>7700</td>\n    </tr>\n    <tr>\n      <th>14</th>\n      <td>Sebastian Munoz (13745223)</td>\n      <td>16</td>\n      <td>48</td>\n      <td>7700</td>\n    </tr>\n    <tr>\n      <th>15</th>\n      <td>Kevin Streelman (13745231)</td>\n      <td>26</td>\n      <td>46</td>\n      <td>7500</td>\n    </tr>\n    <tr>\n      <th>16</th>\n      <td>Bronson Burgoon (13745235)</td>\n      <td>20</td>\n      <td>50</td>\n      <td>7400</td>\n    </tr>\n    <tr>\n      <th>17</th>\n      <td>Adam Schenk (13745233)</td>\n      <td>18</td>\n      <td>48</td>\n      <td>7400</td>\n    </tr>\n    <tr>\n      <th>18</th>\n      <td>Kyle Stanley (13745239)</td>\n      <td>19</td>\n      <td>46</td>\n      <td>7300</td>\n    </tr>\n    <tr>\n      <th>19</th>\n      <td>Nick Taylor (13745243)</td>\n      <td>26</td>\n      <td>50</td>\n      <td>7200</td>\n    </tr>\n    <tr>\n      <th>20</th>\n      <td>Brandon Wu (13745258)</td>\n      <td>14</td>\n      <td>35</td>\n      <td>6800</td>\n    </tr>\n    <tr>\n      <th>21</th>\n      <td>Jhonattan Vegas (13745261)</td>\n      <td>21</td>\n      <td>44</td>\n      <td>6800</td>\n    </tr>\n    <tr>\n      <th>22</th>\n      <td>Austin Cook (13745265)</td>\n      <td>13</td>\n      <td>35</td>\n      <td>6700</td>\n    </tr>\n    <tr>\n      <th>23</th>\n      <td>Kevin Chappell (13745262)</td>\n      <td>14</td>\n      <td>46</td>\n      <td>6700</td>\n    </tr>\n    <tr>\n      <th>24</th>\n      <td>Tom Hoge (13745277)</td>\n      <td>15</td>\n      <td>46</td>\n      <td>6500</td>\n    </tr>\n    <tr>\n      <th>25</th>\n      <td>Andrew Landry (13745288)</td>\n      <td>17</td>\n      <td>44</td>\n      <td>6300</td>\n    </tr>\n  </tbody>\n</table>\n</div>",
            "text/plain": "                        Name + ID  Actual Exposure  Exposure  Salary\n0       Viktor Hovland (13745197)               20        46   11200\n1            Jason Day (13745198)               19        48   11000\n2           Tony Finau (13745199)               21        46   10600\n3       Billy Horschel (13745200)               25        50   10200\n4      Joaquin Niemann (13745201)               18        44    9800\n5   Charles Howell III (13745202)               23        44    9600\n6           Aaron Wise (13745203)               25        50    9400\n7    Scottie Scheffler (13745206)               20        44    9100\n8       Denny McCarthy (13745213)               17        44    8400\n9          J.T. Poston (13745215)               17        48    8200\n10     Dylan Frittelli (13745217)               24        50    8000\n11      Rory Sabbatini (13745221)               18        50    7800\n12        Carlos Ortiz (13745225)               23        48    7700\n13        Brian Harman (13745224)               21        48    7700\n14     Sebastian Munoz (13745223)               16        48    7700\n15     Kevin Streelman (13745231)               26        46    7500\n16     Bronson Burgoon (13745235)               20        50    7400\n17         Adam Schenk (13745233)               18        48    7400\n18        Kyle Stanley (13745239)               19        46    7300\n19         Nick Taylor (13745243)               26        50    7200\n20          Brandon Wu (13745258)               14        35    6800\n21     Jhonattan Vegas (13745261)               21        44    6800\n22         Austin Cook (13745265)               13        35    6700\n23      Kevin Chappell (13745262)               14        46    6700\n24            Tom Hoge (13745277)               15        46    6500\n25       Andrew Landry (13745288)               17        44    6300"
          },
          "metadata": {}
        }
      ]
    },
    {
      "metadata": {
        "trusted": true
      },
      "cell_type": "code",
      "source": "for c in df_lineups.columns:\n    df_lineups.rename(columns={c:'G'},inplace=True)",
      "execution_count": 63,
      "outputs": []
    },
    {
      "metadata": {
        "trusted": true
      },
      "cell_type": "code",
      "source": "#If you're good with actual exposure, then write it!\ndf_lineups.to_csv('Lineups/DK Entires.csv',index=False)",
      "execution_count": 64,
      "outputs": []
    },
    {
      "metadata": {
        "trusted": true
      },
      "cell_type": "code",
      "source": "df_lineups.head()",
      "execution_count": 28,
      "outputs": [
        {
          "output_type": "execute_result",
          "execution_count": 28,
          "data": {
            "text/html": "<div>\n<style scoped>\n    .dataframe tbody tr th:only-of-type {\n        vertical-align: middle;\n    }\n\n    .dataframe tbody tr th {\n        vertical-align: top;\n    }\n\n    .dataframe thead th {\n        text-align: right;\n    }\n</style>\n<table border=\"1\" class=\"dataframe\">\n  <thead>\n    <tr style=\"text-align: right;\">\n      <th></th>\n      <th>G</th>\n      <th>G</th>\n      <th>G</th>\n      <th>G</th>\n      <th>G</th>\n      <th>G</th>\n    </tr>\n  </thead>\n  <tbody>\n    <tr>\n      <th>0</th>\n      <td>Matt Kuchar (13745196)</td>\n      <td>Jason Day (13745198)</td>\n      <td>Adam Schenk (13745233)</td>\n      <td>Nick Taylor (13745243)</td>\n      <td>Tom Hoge (13745277)</td>\n      <td>Andrew Landry (13745288)</td>\n    </tr>\n    <tr>\n      <th>1</th>\n      <td>Tony Finau (13745199)</td>\n      <td>Billy Horschel (13745200)</td>\n      <td>Rory Sabbatini (13745221)</td>\n      <td>Brian Harman (13745224)</td>\n      <td>Kevin Chappell (13745262)</td>\n      <td>Tom Hoge (13745277)</td>\n    </tr>\n    <tr>\n      <th>2</th>\n      <td>Jason Day (13745198)</td>\n      <td>J.T. Poston (13745215)</td>\n      <td>Dylan Frittelli (13745217)</td>\n      <td>Rory Sabbatini (13745221)</td>\n      <td>Carlos Ortiz (13745225)</td>\n      <td>Nick Watney (13745251)</td>\n    </tr>\n    <tr>\n      <th>3</th>\n      <td>Jason Day (13745198)</td>\n      <td>Billy Horschel (13745200)</td>\n      <td>Bronson Burgoon (13745235)</td>\n      <td>Adam Schenk (13745233)</td>\n      <td>Nick Watney (13745251)</td>\n      <td>Tom Hoge (13745277)</td>\n    </tr>\n    <tr>\n      <th>4</th>\n      <td>Jason Day (13745198)</td>\n      <td>Billy Horschel (13745200)</td>\n      <td>Sebastian Munoz (13745223)</td>\n      <td>Kevin Streelman (13745231)</td>\n      <td>Nick Watney (13745251)</td>\n      <td>Andrew Landry (13745288)</td>\n    </tr>\n  </tbody>\n</table>\n</div>",
            "text/plain": "                        G                          G  \\\n0  Matt Kuchar (13745196)       Jason Day (13745198)   \n1   Tony Finau (13745199)  Billy Horschel (13745200)   \n2    Jason Day (13745198)     J.T. Poston (13745215)   \n3    Jason Day (13745198)  Billy Horschel (13745200)   \n4    Jason Day (13745198)  Billy Horschel (13745200)   \n\n                            G                           G  \\\n0      Adam Schenk (13745233)      Nick Taylor (13745243)   \n1   Rory Sabbatini (13745221)     Brian Harman (13745224)   \n2  Dylan Frittelli (13745217)   Rory Sabbatini (13745221)   \n3  Bronson Burgoon (13745235)      Adam Schenk (13745233)   \n4  Sebastian Munoz (13745223)  Kevin Streelman (13745231)   \n\n                           G                         G  \n0        Tom Hoge (13745277)  Andrew Landry (13745288)  \n1  Kevin Chappell (13745262)       Tom Hoge (13745277)  \n2    Carlos Ortiz (13745225)    Nick Watney (13745251)  \n3     Nick Watney (13745251)       Tom Hoge (13745277)  \n4     Nick Watney (13745251)  Andrew Landry (13745288)  "
          },
          "metadata": {}
        }
      ]
    },
    {
      "metadata": {
        "trusted": true
      },
      "cell_type": "markdown",
      "source": "# FD"
    },
    {
      "metadata": {
        "trusted": true
      },
      "cell_type": "code",
      "source": "df2 = pd.read_csv('Data/DailyRotoPGAProjections_Shriners Hospital for Children Open FD.csv')\n#del df['Salary']\ndf2.head()",
      "execution_count": 29,
      "outputs": [
        {
          "output_type": "execute_result",
          "execution_count": 29,
          "data": {
            "text/html": "<div>\n<style scoped>\n    .dataframe tbody tr th:only-of-type {\n        vertical-align: middle;\n    }\n\n    .dataframe tbody tr th {\n        vertical-align: top;\n    }\n\n    .dataframe thead th {\n        text-align: right;\n    }\n</style>\n<table border=\"1\" class=\"dataframe\">\n  <thead>\n    <tr style=\"text-align: right;\">\n      <th></th>\n      <th>Player</th>\n      <th>SlatePlayerID</th>\n      <th>Ownership</th>\n      <th>Sample</th>\n      <th>%:</th>\n      <th>Cut</th>\n      <th>Top 20</th>\n      <th>Top 5</th>\n      <th>Win</th>\n      <th>DK:</th>\n      <th>...</th>\n      <th>Scoring Pts</th>\n      <th>Points</th>\n      <th>Value</th>\n      <th>FD:</th>\n      <th>SD.1</th>\n      <th>Salary.1</th>\n      <th>Finish Pts.1</th>\n      <th>Scoring Pts.1</th>\n      <th>Points.1</th>\n      <th>Value.1</th>\n    </tr>\n  </thead>\n  <tbody>\n    <tr>\n      <th>0</th>\n      <td>Brooks Koepka</td>\n      <td>38974-78367</td>\n      <td>16.54</td>\n      <td>150</td>\n      <td>NaN</td>\n      <td>0.810825</td>\n      <td>0.511350</td>\n      <td>0.214650</td>\n      <td>0.063875</td>\n      <td>NaN</td>\n      <td>...</td>\n      <td>83.711385</td>\n      <td>91.11</td>\n      <td>11.44</td>\n      <td>NaN</td>\n      <td>37.787783</td>\n      <td>12200.0</td>\n      <td>5.305312</td>\n      <td>88.744152</td>\n      <td>94.05</td>\n      <td>12.77</td>\n    </tr>\n    <tr>\n      <th>1</th>\n      <td>Patrick Cantlay</td>\n      <td>38974-79435</td>\n      <td>22.64</td>\n      <td>150</td>\n      <td>NaN</td>\n      <td>0.823925</td>\n      <td>0.522425</td>\n      <td>0.213650</td>\n      <td>0.060775</td>\n      <td>NaN</td>\n      <td>...</td>\n      <td>83.614958</td>\n      <td>91.05</td>\n      <td>12.53</td>\n      <td>NaN</td>\n      <td>36.715761</td>\n      <td>11800.0</td>\n      <td>5.375305</td>\n      <td>89.097241</td>\n      <td>94.47</td>\n      <td>14.19</td>\n    </tr>\n    <tr>\n      <th>2</th>\n      <td>Adam Scott</td>\n      <td>38974-78780</td>\n      <td>18.98</td>\n      <td>150</td>\n      <td>NaN</td>\n      <td>0.797225</td>\n      <td>0.471825</td>\n      <td>0.185025</td>\n      <td>0.050925</td>\n      <td>NaN</td>\n      <td>...</td>\n      <td>81.334255</td>\n      <td>88.07</td>\n      <td>11.53</td>\n      <td>NaN</td>\n      <td>37.297350</td>\n      <td>11400.0</td>\n      <td>4.880586</td>\n      <td>86.375940</td>\n      <td>91.26</td>\n      <td>13.03</td>\n    </tr>\n    <tr>\n      <th>3</th>\n      <td>Webb Simpson</td>\n      <td>38974-78804</td>\n      <td>13.54</td>\n      <td>150</td>\n      <td>NaN</td>\n      <td>0.786125</td>\n      <td>0.445225</td>\n      <td>0.165175</td>\n      <td>0.043200</td>\n      <td>NaN</td>\n      <td>...</td>\n      <td>79.074530</td>\n      <td>85.08</td>\n      <td>9.68</td>\n      <td>NaN</td>\n      <td>37.045458</td>\n      <td>11300.0</td>\n      <td>4.364660</td>\n      <td>83.958062</td>\n      <td>88.32</td>\n      <td>11.22</td>\n    </tr>\n    <tr>\n      <th>4</th>\n      <td>Hideki Matsuyama</td>\n      <td>38974-78508</td>\n      <td>17.87</td>\n      <td>150</td>\n      <td>NaN</td>\n      <td>0.765225</td>\n      <td>0.421750</td>\n      <td>0.153825</td>\n      <td>0.040150</td>\n      <td>NaN</td>\n      <td>...</td>\n      <td>78.440117</td>\n      <td>84.09</td>\n      <td>9.54</td>\n      <td>NaN</td>\n      <td>37.204530</td>\n      <td>11100.0</td>\n      <td>4.101694</td>\n      <td>83.068275</td>\n      <td>87.17</td>\n      <td>10.97</td>\n    </tr>\n  </tbody>\n</table>\n<p>5 rows × 23 columns</p>\n</div>",
            "text/plain": "             Player SlatePlayerID  Ownership  Sample  %:       Cut    Top 20  \\\n0     Brooks Koepka   38974-78367      16.54     150 NaN  0.810825  0.511350   \n1   Patrick Cantlay   38974-79435      22.64     150 NaN  0.823925  0.522425   \n2        Adam Scott   38974-78780      18.98     150 NaN  0.797225  0.471825   \n3      Webb Simpson   38974-78804      13.54     150 NaN  0.786125  0.445225   \n4  Hideki Matsuyama   38974-78508      17.87     150 NaN  0.765225  0.421750   \n\n      Top 5       Win  DK:   ...     Scoring Pts  Points  Value  FD:  \\\n0  0.214650  0.063875  NaN   ...       83.711385   91.11  11.44  NaN   \n1  0.213650  0.060775  NaN   ...       83.614958   91.05  12.53  NaN   \n2  0.185025  0.050925  NaN   ...       81.334255   88.07  11.53  NaN   \n3  0.165175  0.043200  NaN   ...       79.074530   85.08   9.68  NaN   \n4  0.153825  0.040150  NaN   ...       78.440117   84.09   9.54  NaN   \n\n        SD.1  Salary.1  Finish Pts.1  Scoring Pts.1  Points.1  Value.1  \n0  37.787783   12200.0      5.305312      88.744152     94.05    12.77  \n1  36.715761   11800.0      5.375305      89.097241     94.47    14.19  \n2  37.297350   11400.0      4.880586      86.375940     91.26    13.03  \n3  37.045458   11300.0      4.364660      83.958062     88.32    11.22  \n4  37.204530   11100.0      4.101694      83.068275     87.17    10.97  \n\n[5 rows x 23 columns]"
          },
          "metadata": {}
        }
      ]
    },
    {
      "metadata": {
        "trusted": true
      },
      "cell_type": "code",
      "source": "",
      "execution_count": null,
      "outputs": []
    },
    {
      "metadata": {
        "trusted": true
      },
      "cell_type": "code",
      "source": "df2.columns",
      "execution_count": 30,
      "outputs": [
        {
          "output_type": "execute_result",
          "execution_count": 30,
          "data": {
            "text/plain": "Index(['Player', 'SlatePlayerID', 'Ownership', 'Sample', '%:', 'Cut', 'Top 20',\n       'Top 5', 'Win', 'DK:', 'SD', 'Salary', 'Finish Pts', 'Scoring Pts',\n       'Points', 'Value', 'FD:', 'SD.1', 'Salary.1', 'Finish Pts.1',\n       'Scoring Pts.1', 'Points.1', 'Value.1'],\n      dtype='object')"
          },
          "metadata": {}
        }
      ]
    },
    {
      "metadata": {
        "trusted": true
      },
      "cell_type": "code",
      "source": "#DF salary is in Salary.1 column\ndel df2['Salary']\ndf2.rename(columns={'Salary.1':'Salary'},inplace=True)\ndf2.sort_values(by='Salary',ascending=False).head()",
      "execution_count": 31,
      "outputs": [
        {
          "output_type": "execute_result",
          "execution_count": 31,
          "data": {
            "text/html": "<div>\n<style scoped>\n    .dataframe tbody tr th:only-of-type {\n        vertical-align: middle;\n    }\n\n    .dataframe tbody tr th {\n        vertical-align: top;\n    }\n\n    .dataframe thead th {\n        text-align: right;\n    }\n</style>\n<table border=\"1\" class=\"dataframe\">\n  <thead>\n    <tr style=\"text-align: right;\">\n      <th></th>\n      <th>Player</th>\n      <th>SlatePlayerID</th>\n      <th>Ownership</th>\n      <th>Sample</th>\n      <th>%:</th>\n      <th>Cut</th>\n      <th>Top 20</th>\n      <th>Top 5</th>\n      <th>Win</th>\n      <th>DK:</th>\n      <th>...</th>\n      <th>Scoring Pts</th>\n      <th>Points</th>\n      <th>Value</th>\n      <th>FD:</th>\n      <th>SD.1</th>\n      <th>Salary</th>\n      <th>Finish Pts.1</th>\n      <th>Scoring Pts.1</th>\n      <th>Points.1</th>\n      <th>Value.1</th>\n    </tr>\n  </thead>\n  <tbody>\n    <tr>\n      <th>0</th>\n      <td>Brooks Koepka</td>\n      <td>38974-78367</td>\n      <td>16.54</td>\n      <td>150</td>\n      <td>NaN</td>\n      <td>0.810825</td>\n      <td>0.511350</td>\n      <td>0.214650</td>\n      <td>0.063875</td>\n      <td>NaN</td>\n      <td>...</td>\n      <td>83.711385</td>\n      <td>91.11</td>\n      <td>11.44</td>\n      <td>NaN</td>\n      <td>37.787783</td>\n      <td>12200.0</td>\n      <td>5.305312</td>\n      <td>88.744152</td>\n      <td>94.05</td>\n      <td>12.77</td>\n    </tr>\n    <tr>\n      <th>1</th>\n      <td>Patrick Cantlay</td>\n      <td>38974-79435</td>\n      <td>22.64</td>\n      <td>150</td>\n      <td>NaN</td>\n      <td>0.823925</td>\n      <td>0.522425</td>\n      <td>0.213650</td>\n      <td>0.060775</td>\n      <td>NaN</td>\n      <td>...</td>\n      <td>83.614958</td>\n      <td>91.05</td>\n      <td>12.53</td>\n      <td>NaN</td>\n      <td>36.715761</td>\n      <td>11800.0</td>\n      <td>5.375305</td>\n      <td>89.097241</td>\n      <td>94.47</td>\n      <td>14.19</td>\n    </tr>\n    <tr>\n      <th>8</th>\n      <td>Bryson DeChambeau</td>\n      <td>38974-78005</td>\n      <td>12.43</td>\n      <td>150</td>\n      <td>NaN</td>\n      <td>0.722925</td>\n      <td>0.337950</td>\n      <td>0.108250</td>\n      <td>0.024250</td>\n      <td>NaN</td>\n      <td>...</td>\n      <td>74.359083</td>\n      <td>79.14</td>\n      <td>4.61</td>\n      <td>NaN</td>\n      <td>37.008679</td>\n      <td>11600.0</td>\n      <td>3.447313</td>\n      <td>78.506735</td>\n      <td>81.95</td>\n      <td>5.85</td>\n    </tr>\n    <tr>\n      <th>2</th>\n      <td>Adam Scott</td>\n      <td>38974-78780</td>\n      <td>18.98</td>\n      <td>150</td>\n      <td>NaN</td>\n      <td>0.797225</td>\n      <td>0.471825</td>\n      <td>0.185025</td>\n      <td>0.050925</td>\n      <td>NaN</td>\n      <td>...</td>\n      <td>81.334255</td>\n      <td>88.07</td>\n      <td>11.53</td>\n      <td>NaN</td>\n      <td>37.297350</td>\n      <td>11400.0</td>\n      <td>4.880586</td>\n      <td>86.375940</td>\n      <td>91.26</td>\n      <td>13.03</td>\n    </tr>\n    <tr>\n      <th>3</th>\n      <td>Webb Simpson</td>\n      <td>38974-78804</td>\n      <td>13.54</td>\n      <td>150</td>\n      <td>NaN</td>\n      <td>0.786125</td>\n      <td>0.445225</td>\n      <td>0.165175</td>\n      <td>0.043200</td>\n      <td>NaN</td>\n      <td>...</td>\n      <td>79.074530</td>\n      <td>85.08</td>\n      <td>9.68</td>\n      <td>NaN</td>\n      <td>37.045458</td>\n      <td>11300.0</td>\n      <td>4.364660</td>\n      <td>83.958062</td>\n      <td>88.32</td>\n      <td>11.22</td>\n    </tr>\n  </tbody>\n</table>\n<p>5 rows × 22 columns</p>\n</div>",
            "text/plain": "              Player SlatePlayerID  Ownership  Sample  %:       Cut    Top 20  \\\n0      Brooks Koepka   38974-78367      16.54     150 NaN  0.810825  0.511350   \n1    Patrick Cantlay   38974-79435      22.64     150 NaN  0.823925  0.522425   \n8  Bryson DeChambeau   38974-78005      12.43     150 NaN  0.722925  0.337950   \n2         Adam Scott   38974-78780      18.98     150 NaN  0.797225  0.471825   \n3       Webb Simpson   38974-78804      13.54     150 NaN  0.786125  0.445225   \n\n      Top 5       Win  DK:   ...     Scoring Pts  Points  Value  FD:  \\\n0  0.214650  0.063875  NaN   ...       83.711385   91.11  11.44  NaN   \n1  0.213650  0.060775  NaN   ...       83.614958   91.05  12.53  NaN   \n8  0.108250  0.024250  NaN   ...       74.359083   79.14   4.61  NaN   \n2  0.185025  0.050925  NaN   ...       81.334255   88.07  11.53  NaN   \n3  0.165175  0.043200  NaN   ...       79.074530   85.08   9.68  NaN   \n\n        SD.1   Salary  Finish Pts.1  Scoring Pts.1  Points.1  Value.1  \n0  37.787783  12200.0      5.305312      88.744152     94.05    12.77  \n1  36.715761  11800.0      5.375305      89.097241     94.47    14.19  \n8  37.008679  11600.0      3.447313      78.506735     81.95     5.85  \n2  37.297350  11400.0      4.880586      86.375940     91.26    13.03  \n3  37.045458  11300.0      4.364660      83.958062     88.32    11.22  \n\n[5 rows x 22 columns]"
          },
          "metadata": {}
        }
      ]
    },
    {
      "metadata": {
        "trusted": true
      },
      "cell_type": "code",
      "source": "#Add field with the player:SlatePlayerID that will go into lineup csvs\ndf2['Name + ID'] =  df2.SlatePlayerID  + \":\" + df2.Player",
      "execution_count": 32,
      "outputs": []
    },
    {
      "metadata": {
        "trusted": true
      },
      "cell_type": "code",
      "source": "#specify team settings\n\nlock = ['Bryson DeChambeau','Viktor Hovland']\nlock = ['Marc Leishman','Bubba Watson']\nlock = ['Patrick Cantlay']\nlock = []\n\nto_remove = ['Charley Hoffman','Sam Ryder','Zach Johnson',\n            'Jason Day','Sergio Garcia','Tiger Woods','Rafa Cabrera Bello',\n            'Scott Piercy']\nto_remove = ['Kevin Chappell','Matt Jones']\n\nmax_sal = 910200",
      "execution_count": 33,
      "outputs": []
    },
    {
      "metadata": {
        "trusted": true
      },
      "cell_type": "code",
      "source": "#Now pick a penalty, and find 1st, 2nd, 3rd, ... opt teams\n#df = df_all.copy()\ndf_now = df2.copy()\n\nlock_full_names = []\nfor i, p in enumerate(lock):\n    lock_full_names.append(df_now[df_now.Player==p]['Name + ID'].iloc[0])\nsal_used = df_now[df_now.Player.isin(lock)].Salary.sum()\nsal_left = 60000-sal_used\nplayers_left = 6-len(lock)\nprint(lock_full_names)\n\n#Filter down remaining players by sal\ndf_now = df_now[(df_now.Salary<=max_sal)]\ndf_now = df_now[~df_now.Player.isin(lock)]\ndf_now = df_now[~df_now.Player.isin(to_remove)]\n\npenalty = 0.3\nopt_teams = []\nfor i in np.arange(5): #number of teams\n    n = len(df_now)\n    x = cp.Variable(n,boolean=True)\n    s = df_now.Salary.values\n    p = df_now.Points.values\n    c = df_now.Cut.values\n    T20 = df_now['Top 20'].values\n    own = df_now.Ownership.values\n    cap = sal_left\n    constraints = [cp.sum(x) == players_left,\n                 x*s <= cap]\n\n    # Form objective.\n    obj = cp.Maximize(x*(p-penalty*own))\n\n    # Form and solve problem.\n    prob = cp.Problem(obj, constraints)\n    prob.solve()  # Returns the optimal value\n    opt_team = df_now['Player'][x.value>.5].tolist()\n    print('Team {} (obj = {:.2f}): '.format(i+1,prob.value),opt_team)\n    opt_teams.append(opt_team)\n    #Remove team and go again\n    df_now = df_now[~ df_now.Player.isin(opt_team)]\n",
      "execution_count": 34,
      "outputs": [
        {
          "output_type": "stream",
          "text": "[]\nTeam 1 (obj = 445.71):  ['Brooks Koepka', 'Adam Scott', 'Jason Kokrak', 'Abraham Ancer', 'Jim Furyk', 'Sepp Straka']\nTeam 2 (obj = 438.63):  ['Patrick Cantlay', 'Webb Simpson', 'Hideki Matsuyama', 'Kevin Streelman', 'Kyle Stanley', 'Harry Higgs']\nTeam 3 (obj = 430.55):  ['Tony Finau', 'Collin Morikawa', 'Chez Reavie', 'Byeong Hun An', 'Emiliano Grillo', 'Keith Mitchell']\nTeam 4 (obj = 419.23):  ['Bryson DeChambeau', 'Brandt Snedeker', 'Andrew Putnam', 'Brian Harman', 'Sebastian Munoz', 'Ryan Moore']\nTeam 5 (obj = 413.56):  ['Joaquin Niemann', 'Adam Hadwin', 'Charles Howell III', 'Dylan Frittelli', 'Rory Sabbatini', 'Lucas Glover']\n",
          "name": "stdout"
        }
      ]
    },
    {
      "metadata": {
        "trusted": true
      },
      "cell_type": "code",
      "source": "#Find opt teams with max own cap\n\ndf_now = df2.copy()\n\nlock_full_names = []\nfor i, p in enumerate(lock):\n    lock_full_names.append(df_now[df_now.Player==p]['SlatePlayerID'].iloc[0]+\":\"+p)\nsal_used = df_now[df_now.Player.isin(lock)].Salary.sum()\nown_used = df_now[df_now.Player.isin(lock)].Ownership.sum()\nsal_left = 60000-sal_used\nplayers_left = 6-len(lock)\nprint(lock_full_names)\n\n#Filter down remaining players by sal\ndf_now = df_now[(df_now.Salary<=max_sal)]\ndf_now = df_now[~df_now.Player.isin(lock)]\ndf_now = df_now[~df_now.Player.isin(to_remove)]\n\n\nown_cap = 100 - own_used\n#print(own_cap)\nopt_teams_cap = []\nfor i in np.arange(11): #number of teams\n    n = len(df_now)\n    x = cp.Variable(n,boolean=True)\n    s = df_now.Salary.values\n    p = df_now.Points.values\n    c = df_now.Cut.values\n    T20 = df_now['Top 20'].values\n    own = df_now.Ownership.values\n    cap = sal_left\n    constraints = [cp.sum(x) == players_left,\n                 x*s <= cap,\n                  x*own <= own_cap]\n\n    # Form objective.\n    obj = cp.Maximize(x*(p))\n\n    # Form and solve problem.\n    prob = cp.Problem(obj, constraints)\n    prob.solve()  # Returns the optimal value\n    opt_team = df_now['Player'][x.value>.5].tolist()\n    print('Team {} (obj = {:.2f}): '.format(i+1,prob.value),opt_team)\n    opt_teams_cap.append(opt_team)\n    #Remove team and go again\n    df_now = df_now[~ df_now.Player.isin(opt_team)]",
      "execution_count": 35,
      "outputs": [
        {
          "output_type": "stream",
          "text": "[]\nTeam 1 (obj = 467.90):  ['Brooks Koepka', 'Patrick Cantlay', 'Adam Scott', 'Jason Kokrak', 'Sepp Straka', 'Ryan Brehm']\nTeam 2 (obj = 459.58):  ['Webb Simpson', 'Hideki Matsuyama', 'Collin Morikawa', 'Jim Furyk', 'Rory Sabbatini', 'Kyle Stanley']\nTeam 3 (obj = 449.80):  ['Tony Finau', 'Chez Reavie', 'Byeong Hun An', 'Abraham Ancer', 'Aaron Wise', 'Brian Harman']\nTeam 4 (obj = 436.96):  ['Gary Woodland', 'Joaquin Niemann', 'Adam Hadwin', 'Andrew Putnam', 'Kevin Streelman', 'Sebastian Munoz']\nTeam 5 (obj = 429.71):  ['Bryson DeChambeau', 'Brandt Snedeker', 'Charles Howell III', 'Dylan Frittelli', 'Emiliano Grillo', 'Keith Mitchell']\nTeam 6 (obj = 412.82):  ['Scottie Scheffler', 'J.T. Poston', 'Ryan Moore', 'Lucas Glover', 'Scott Piercy', 'Bubba Watson']\nTeam 7 (obj = 396.83):  ['Keegan Bradley', 'Harold Varner III', 'Matthew Wolff', 'Russell Knox', 'Cameron Smith', 'Zach Johnson']\nTeam 8 (obj = 384.47):  ['Jhonattan Vegas', 'Ryan Palmer', 'Bud Cauley', 'Bronson Burgoon', 'Russell Henley', 'Nick Taylor']\nTeam 9 (obj = 378.54):  ['Daniel Berger', 'Joel Dahmen', 'Denny McCarthy', 'Kevin Na', 'Tom Lewis', 'Carlos Ortiz']\nTeam 10 (obj = 373.35):  ['Nate Lashley', 'Lanto Griffin', 'Cameron Percy', 'Andrew Landry', 'Harry Higgs', 'Cameron Champ']\nTeam 11 (obj = 366.93):  ['C.T. Pan', 'Charley Hoffman', 'Nick Watney', 'Adam Schenk', 'Brian Stuard', 'Roger Sloan']\n",
          "name": "stdout"
        }
      ]
    },
    {
      "metadata": {
        "trusted": true
      },
      "cell_type": "code",
      "source": "### Assign exposures for top j teams\nexposures = [50,45]\nif len(exposures)<len(opt_teams):\n    exposures = exposures + [0]*(len(opt_teams)-len(exposures))\nexposures",
      "execution_count": 36,
      "outputs": [
        {
          "output_type": "execute_result",
          "execution_count": 36,
          "data": {
            "text/plain": "[50, 45, 0, 0, 0]"
          },
          "metadata": {}
        }
      ]
    },
    {
      "metadata": {
        "trusted": true
      },
      "cell_type": "code",
      "source": "#Create df to hold player pool\ndf_teams = df2[['Name + ID','Player','Salary','Ownership']]\ndf_teams.sort_values(by='Salary',ascending=False,inplace=True)\ndf_teams['Exposure'] = 0\ndf_teams['Actual Exposure'] = 0\ndf_teams.head()",
      "execution_count": 37,
      "outputs": [
        {
          "output_type": "stream",
          "text": "/home/nbuser/anaconda3_501/lib/python3.6/site-packages/ipykernel/__main__.py:3: SettingWithCopyWarning: \nA value is trying to be set on a copy of a slice from a DataFrame\n\nSee the caveats in the documentation: http://pandas.pydata.org/pandas-docs/stable/indexing.html#indexing-view-versus-copy\n  app.launch_new_instance()\n/home/nbuser/anaconda3_501/lib/python3.6/site-packages/ipykernel/__main__.py:4: SettingWithCopyWarning: \nA value is trying to be set on a copy of a slice from a DataFrame.\nTry using .loc[row_indexer,col_indexer] = value instead\n\nSee the caveats in the documentation: http://pandas.pydata.org/pandas-docs/stable/indexing.html#indexing-view-versus-copy\n/home/nbuser/anaconda3_501/lib/python3.6/site-packages/ipykernel/__main__.py:5: SettingWithCopyWarning: \nA value is trying to be set on a copy of a slice from a DataFrame.\nTry using .loc[row_indexer,col_indexer] = value instead\n\nSee the caveats in the documentation: http://pandas.pydata.org/pandas-docs/stable/indexing.html#indexing-view-versus-copy\n",
          "name": "stderr"
        },
        {
          "output_type": "execute_result",
          "execution_count": 37,
          "data": {
            "text/html": "<div>\n<style scoped>\n    .dataframe tbody tr th:only-of-type {\n        vertical-align: middle;\n    }\n\n    .dataframe tbody tr th {\n        vertical-align: top;\n    }\n\n    .dataframe thead th {\n        text-align: right;\n    }\n</style>\n<table border=\"1\" class=\"dataframe\">\n  <thead>\n    <tr style=\"text-align: right;\">\n      <th></th>\n      <th>Name + ID</th>\n      <th>Player</th>\n      <th>Salary</th>\n      <th>Ownership</th>\n      <th>Exposure</th>\n      <th>Actual Exposure</th>\n    </tr>\n  </thead>\n  <tbody>\n    <tr>\n      <th>0</th>\n      <td>38974-78367:Brooks Koepka</td>\n      <td>Brooks Koepka</td>\n      <td>12200.0</td>\n      <td>16.54</td>\n      <td>0</td>\n      <td>0</td>\n    </tr>\n    <tr>\n      <th>1</th>\n      <td>38974-79435:Patrick Cantlay</td>\n      <td>Patrick Cantlay</td>\n      <td>11800.0</td>\n      <td>22.64</td>\n      <td>0</td>\n      <td>0</td>\n    </tr>\n    <tr>\n      <th>8</th>\n      <td>38974-78005:Bryson DeChambeau</td>\n      <td>Bryson DeChambeau</td>\n      <td>11600.0</td>\n      <td>12.43</td>\n      <td>0</td>\n      <td>0</td>\n    </tr>\n    <tr>\n      <th>2</th>\n      <td>38974-78780:Adam Scott</td>\n      <td>Adam Scott</td>\n      <td>11400.0</td>\n      <td>18.98</td>\n      <td>0</td>\n      <td>0</td>\n    </tr>\n    <tr>\n      <th>3</th>\n      <td>38974-78804:Webb Simpson</td>\n      <td>Webb Simpson</td>\n      <td>11300.0</td>\n      <td>13.54</td>\n      <td>0</td>\n      <td>0</td>\n    </tr>\n  </tbody>\n</table>\n</div>",
            "text/plain": "                       Name + ID             Player   Salary  Ownership  \\\n0      38974-78367:Brooks Koepka      Brooks Koepka  12200.0      16.54   \n1    38974-79435:Patrick Cantlay    Patrick Cantlay  11800.0      22.64   \n8  38974-78005:Bryson DeChambeau  Bryson DeChambeau  11600.0      12.43   \n2         38974-78780:Adam Scott         Adam Scott  11400.0      18.98   \n3       38974-78804:Webb Simpson       Webb Simpson  11300.0      13.54   \n\n   Exposure  Actual Exposure  \n0         0                0  \n1         0                0  \n8         0                0  \n2         0                0  \n3         0                0  "
          },
          "metadata": {}
        }
      ]
    },
    {
      "metadata": {
        "trusted": true
      },
      "cell_type": "code",
      "source": "#Add in exposures for players in player pool\nfor i, team in enumerate(opt_teams):\n    df_teams.Exposure = np.where(df_teams.Player.isin(team),exposures[i],df_teams.Exposure)\n    \n#OPTIONAL: Add or adjust players\n#more_team = {'Francesco Molinari':20,'Henrik Stenson':20,'Lucas Glover':20}\nmore_team = {'Xinjun Zhang':35}\n#more_team = {}\nfor p in more_team.keys():\n    df_teams.Exposure = np.where(df_teams.Player==p,more_team[p],df_teams.Exposure)\n    \ndf_teams = df_teams[df_teams.Exposure > 0].reset_index(drop=True)\ndf_teams",
      "execution_count": 38,
      "outputs": [
        {
          "output_type": "execute_result",
          "execution_count": 38,
          "data": {
            "text/html": "<div>\n<style scoped>\n    .dataframe tbody tr th:only-of-type {\n        vertical-align: middle;\n    }\n\n    .dataframe tbody tr th {\n        vertical-align: top;\n    }\n\n    .dataframe thead th {\n        text-align: right;\n    }\n</style>\n<table border=\"1\" class=\"dataframe\">\n  <thead>\n    <tr style=\"text-align: right;\">\n      <th></th>\n      <th>Name + ID</th>\n      <th>Player</th>\n      <th>Salary</th>\n      <th>Ownership</th>\n      <th>Exposure</th>\n      <th>Actual Exposure</th>\n    </tr>\n  </thead>\n  <tbody>\n    <tr>\n      <th>0</th>\n      <td>38974-78367:Brooks Koepka</td>\n      <td>Brooks Koepka</td>\n      <td>12200.0</td>\n      <td>16.54</td>\n      <td>50</td>\n      <td>0</td>\n    </tr>\n    <tr>\n      <th>1</th>\n      <td>38974-79435:Patrick Cantlay</td>\n      <td>Patrick Cantlay</td>\n      <td>11800.0</td>\n      <td>22.64</td>\n      <td>45</td>\n      <td>0</td>\n    </tr>\n    <tr>\n      <th>2</th>\n      <td>38974-78780:Adam Scott</td>\n      <td>Adam Scott</td>\n      <td>11400.0</td>\n      <td>18.98</td>\n      <td>50</td>\n      <td>0</td>\n    </tr>\n    <tr>\n      <th>3</th>\n      <td>38974-78804:Webb Simpson</td>\n      <td>Webb Simpson</td>\n      <td>11300.0</td>\n      <td>13.54</td>\n      <td>45</td>\n      <td>0</td>\n    </tr>\n    <tr>\n      <th>4</th>\n      <td>38974-78508:Hideki Matsuyama</td>\n      <td>Hideki Matsuyama</td>\n      <td>11100.0</td>\n      <td>17.87</td>\n      <td>45</td>\n      <td>0</td>\n    </tr>\n    <tr>\n      <th>5</th>\n      <td>38974-78372:Jason Kokrak</td>\n      <td>Jason Kokrak</td>\n      <td>10000.0</td>\n      <td>13.43</td>\n      <td>50</td>\n      <td>0</td>\n    </tr>\n    <tr>\n      <th>6</th>\n      <td>38974-77806:Abraham Ancer</td>\n      <td>Abraham Ancer</td>\n      <td>9600.0</td>\n      <td>5.88</td>\n      <td>50</td>\n      <td>0</td>\n    </tr>\n    <tr>\n      <th>7</th>\n      <td>38974-78106:Jim Furyk</td>\n      <td>Jim Furyk</td>\n      <td>9200.0</td>\n      <td>10.88</td>\n      <td>50</td>\n      <td>0</td>\n    </tr>\n    <tr>\n      <th>8</th>\n      <td>38974-78857:Kevin Streelman</td>\n      <td>Kevin Streelman</td>\n      <td>9100.0</td>\n      <td>6.55</td>\n      <td>45</td>\n      <td>0</td>\n    </tr>\n    <tr>\n      <th>9</th>\n      <td>38974-78841:Kyle Stanley</td>\n      <td>Kyle Stanley</td>\n      <td>8500.0</td>\n      <td>6.88</td>\n      <td>45</td>\n      <td>0</td>\n    </tr>\n    <tr>\n      <th>10</th>\n      <td>38974-116964:Harry Higgs</td>\n      <td>Harry Higgs</td>\n      <td>8100.0</td>\n      <td>1.33</td>\n      <td>45</td>\n      <td>0</td>\n    </tr>\n    <tr>\n      <th>11</th>\n      <td>38974-80579:Sepp Straka</td>\n      <td>Sepp Straka</td>\n      <td>7600.0</td>\n      <td>3.55</td>\n      <td>50</td>\n      <td>0</td>\n    </tr>\n    <tr>\n      <th>12</th>\n      <td>38974-79022:Xinjun Zhang</td>\n      <td>Xinjun Zhang</td>\n      <td>7500.0</td>\n      <td>0.11</td>\n      <td>35</td>\n      <td>0</td>\n    </tr>\n  </tbody>\n</table>\n</div>",
            "text/plain": "                       Name + ID            Player   Salary  Ownership  \\\n0      38974-78367:Brooks Koepka     Brooks Koepka  12200.0      16.54   \n1    38974-79435:Patrick Cantlay   Patrick Cantlay  11800.0      22.64   \n2         38974-78780:Adam Scott        Adam Scott  11400.0      18.98   \n3       38974-78804:Webb Simpson      Webb Simpson  11300.0      13.54   \n4   38974-78508:Hideki Matsuyama  Hideki Matsuyama  11100.0      17.87   \n5       38974-78372:Jason Kokrak      Jason Kokrak  10000.0      13.43   \n6      38974-77806:Abraham Ancer     Abraham Ancer   9600.0       5.88   \n7          38974-78106:Jim Furyk         Jim Furyk   9200.0      10.88   \n8    38974-78857:Kevin Streelman   Kevin Streelman   9100.0       6.55   \n9       38974-78841:Kyle Stanley      Kyle Stanley   8500.0       6.88   \n10      38974-116964:Harry Higgs       Harry Higgs   8100.0       1.33   \n11       38974-80579:Sepp Straka       Sepp Straka   7600.0       3.55   \n12      38974-79022:Xinjun Zhang      Xinjun Zhang   7500.0       0.11   \n\n    Exposure  Actual Exposure  \n0         50                0  \n1         45                0  \n2         50                0  \n3         45                0  \n4         45                0  \n5         50                0  \n6         50                0  \n7         50                0  \n8         45                0  \n9         45                0  \n10        45                0  \n11        50                0  \n12        35                0  "
          },
          "metadata": {}
        }
      ]
    },
    {
      "metadata": {
        "trusted": true
      },
      "cell_type": "code",
      "source": "#initialize df_lineups, which will be written to csv\ndf_lineups = pd.DataFrame(columns=['G1','G2','G3','G4','G5','G6'])\ndf_lineups",
      "execution_count": 39,
      "outputs": [
        {
          "output_type": "execute_result",
          "execution_count": 39,
          "data": {
            "text/html": "<div>\n<style scoped>\n    .dataframe tbody tr th:only-of-type {\n        vertical-align: middle;\n    }\n\n    .dataframe tbody tr th {\n        vertical-align: top;\n    }\n\n    .dataframe thead th {\n        text-align: right;\n    }\n</style>\n<table border=\"1\" class=\"dataframe\">\n  <thead>\n    <tr style=\"text-align: right;\">\n      <th></th>\n      <th>G1</th>\n      <th>G2</th>\n      <th>G3</th>\n      <th>G4</th>\n      <th>G5</th>\n      <th>G6</th>\n    </tr>\n  </thead>\n  <tbody>\n  </tbody>\n</table>\n</div>",
            "text/plain": "Empty DataFrame\nColumns: [G1, G2, G3, G4, G5, G6]\nIndex: []"
          },
          "metadata": {}
        }
      ]
    },
    {
      "metadata": {
        "trusted": true
      },
      "cell_type": "code",
      "source": "#Now start churning\n#Now set parameters for number of teams and salary limits\nnum_teams = 32\nmin_sal = 58500\nmax_sal = 59800\n\n#Reset df_teams\ndf_teams['Actual Exposure'] = 0\n\nm = 0 #Completed teams so far\nwhile (m < num_teams):\n    #pick 6 players per probabilties\n    curr_team = []\n    df_now = df_teams.copy()\n    players = df_now['Name + ID'].tolist()\n    probs = df_now['Exposure'].tolist()\n    for i in range(players_left):\n        p = pick_element_per_probs(players,probs)\n        curr_team.append(p)\n        #prit('picked player {}'.format(p))\n        df_now = df_now[df_now['Name + ID']!=p]\n        players = df_now['Name + ID'].tolist()\n        probs = df_now['Exposure'].tolist()\n        \n    #Now curr_team is list of 6 names.  Check if salary matches\n    df_now = df_teams[df_teams['Name + ID'].isin(curr_team)]\n    total_own = df_now.Ownership.sum()\n    total_sal = df_now.Salary.sum() + sal_used\n    ##print(total_sal)\n    if (total_sal < min_sal or total_sal > max_sal or total_own > 85):\n        continue\n        \n    #Put team in order of decreasing salary\n    df_now.sort_values(by='Salary',ascending=False,inplace=True)\n    curr_team = lock_full_names + df_now['Name + ID'].tolist()\n    \n    #Check if team has shown up before in df_lineups\n    df3 = (df_lineups == np.array(curr_team))\n    old_team = df3.transpose().all().any() #True if team is already in df_lineups\n    if old_team:\n        continue\n        \n    #OK, so now we have a new team!  Add it to df_lineups\n    df_lineups.loc[m] = curr_team\n    #Also update 'Actual Exposure' in df_teams\n    new_players = np.where(df_teams['Name + ID'].isin(curr_team),1,0)\n    df_teams['Actual Exposure'] = df_teams['Actual Exposure'] + new_players\n    \n    #Finally increment m\n    m += 1\n    #print('m = {}'.format(m))\n    #print('Team {}, sal = {}'.format(m,total_sal))\n    \ndf_teams[['Player','Name + ID','Actual Exposure']]",
      "execution_count": 40,
      "outputs": [
        {
          "output_type": "stream",
          "text": "/home/nbuser/anaconda3_501/lib/python3.6/site-packages/ipykernel/__main__.py:34: SettingWithCopyWarning: \nA value is trying to be set on a copy of a slice from a DataFrame\n\nSee the caveats in the documentation: http://pandas.pydata.org/pandas-docs/stable/indexing.html#indexing-view-versus-copy\n",
          "name": "stderr"
        },
        {
          "output_type": "execute_result",
          "execution_count": 40,
          "data": {
            "text/html": "<div>\n<style scoped>\n    .dataframe tbody tr th:only-of-type {\n        vertical-align: middle;\n    }\n\n    .dataframe tbody tr th {\n        vertical-align: top;\n    }\n\n    .dataframe thead th {\n        text-align: right;\n    }\n</style>\n<table border=\"1\" class=\"dataframe\">\n  <thead>\n    <tr style=\"text-align: right;\">\n      <th></th>\n      <th>Player</th>\n      <th>Name + ID</th>\n      <th>Actual Exposure</th>\n    </tr>\n  </thead>\n  <tbody>\n    <tr>\n      <th>0</th>\n      <td>Brooks Koepka</td>\n      <td>38974-78367:Brooks Koepka</td>\n      <td>13</td>\n    </tr>\n    <tr>\n      <th>1</th>\n      <td>Patrick Cantlay</td>\n      <td>38974-79435:Patrick Cantlay</td>\n      <td>14</td>\n    </tr>\n    <tr>\n      <th>2</th>\n      <td>Adam Scott</td>\n      <td>38974-78780:Adam Scott</td>\n      <td>17</td>\n    </tr>\n    <tr>\n      <th>3</th>\n      <td>Webb Simpson</td>\n      <td>38974-78804:Webb Simpson</td>\n      <td>18</td>\n    </tr>\n    <tr>\n      <th>4</th>\n      <td>Hideki Matsuyama</td>\n      <td>38974-78508:Hideki Matsuyama</td>\n      <td>14</td>\n    </tr>\n    <tr>\n      <th>5</th>\n      <td>Jason Kokrak</td>\n      <td>38974-78372:Jason Kokrak</td>\n      <td>14</td>\n    </tr>\n    <tr>\n      <th>6</th>\n      <td>Abraham Ancer</td>\n      <td>38974-77806:Abraham Ancer</td>\n      <td>17</td>\n    </tr>\n    <tr>\n      <th>7</th>\n      <td>Jim Furyk</td>\n      <td>38974-78106:Jim Furyk</td>\n      <td>18</td>\n    </tr>\n    <tr>\n      <th>8</th>\n      <td>Kevin Streelman</td>\n      <td>38974-78857:Kevin Streelman</td>\n      <td>13</td>\n    </tr>\n    <tr>\n      <th>9</th>\n      <td>Kyle Stanley</td>\n      <td>38974-78841:Kyle Stanley</td>\n      <td>16</td>\n    </tr>\n    <tr>\n      <th>10</th>\n      <td>Harry Higgs</td>\n      <td>38974-116964:Harry Higgs</td>\n      <td>13</td>\n    </tr>\n    <tr>\n      <th>11</th>\n      <td>Sepp Straka</td>\n      <td>38974-80579:Sepp Straka</td>\n      <td>13</td>\n    </tr>\n    <tr>\n      <th>12</th>\n      <td>Xinjun Zhang</td>\n      <td>38974-79022:Xinjun Zhang</td>\n      <td>12</td>\n    </tr>\n  </tbody>\n</table>\n</div>",
            "text/plain": "              Player                     Name + ID  Actual Exposure\n0      Brooks Koepka     38974-78367:Brooks Koepka               13\n1    Patrick Cantlay   38974-79435:Patrick Cantlay               14\n2         Adam Scott        38974-78780:Adam Scott               17\n3       Webb Simpson      38974-78804:Webb Simpson               18\n4   Hideki Matsuyama  38974-78508:Hideki Matsuyama               14\n5       Jason Kokrak      38974-78372:Jason Kokrak               14\n6      Abraham Ancer     38974-77806:Abraham Ancer               17\n7          Jim Furyk         38974-78106:Jim Furyk               18\n8    Kevin Streelman   38974-78857:Kevin Streelman               13\n9       Kyle Stanley      38974-78841:Kyle Stanley               16\n10       Harry Higgs      38974-116964:Harry Higgs               13\n11       Sepp Straka       38974-80579:Sepp Straka               13\n12      Xinjun Zhang      38974-79022:Xinjun Zhang               12"
          },
          "metadata": {}
        }
      ]
    },
    {
      "metadata": {
        "trusted": true
      },
      "cell_type": "code",
      "source": "#If you're good with actual exposure, then write it!\ndf_lineups.to_csv('Lineups/FD Entires.csv')",
      "execution_count": 41,
      "outputs": []
    },
    {
      "metadata": {
        "trusted": true
      },
      "cell_type": "code",
      "source": "df_lineups",
      "execution_count": 42,
      "outputs": [
        {
          "output_type": "execute_result",
          "execution_count": 42,
          "data": {
            "text/html": "<div>\n<style scoped>\n    .dataframe tbody tr th:only-of-type {\n        vertical-align: middle;\n    }\n\n    .dataframe tbody tr th {\n        vertical-align: top;\n    }\n\n    .dataframe thead th {\n        text-align: right;\n    }\n</style>\n<table border=\"1\" class=\"dataframe\">\n  <thead>\n    <tr style=\"text-align: right;\">\n      <th></th>\n      <th>G1</th>\n      <th>G2</th>\n      <th>G3</th>\n      <th>G4</th>\n      <th>G5</th>\n      <th>G6</th>\n    </tr>\n  </thead>\n  <tbody>\n    <tr>\n      <th>0</th>\n      <td>38974-78367:Brooks Koepka</td>\n      <td>38974-78780:Adam Scott</td>\n      <td>38974-78804:Webb Simpson</td>\n      <td>38974-78857:Kevin Streelman</td>\n      <td>38974-80579:Sepp Straka</td>\n      <td>38974-79022:Xinjun Zhang</td>\n    </tr>\n    <tr>\n      <th>1</th>\n      <td>38974-79435:Patrick Cantlay</td>\n      <td>38974-78508:Hideki Matsuyama</td>\n      <td>38974-78372:Jason Kokrak</td>\n      <td>38974-77806:Abraham Ancer</td>\n      <td>38974-78841:Kyle Stanley</td>\n      <td>38974-116964:Harry Higgs</td>\n    </tr>\n    <tr>\n      <th>2</th>\n      <td>38974-78367:Brooks Koepka</td>\n      <td>38974-79435:Patrick Cantlay</td>\n      <td>38974-77806:Abraham Ancer</td>\n      <td>38974-78857:Kevin Streelman</td>\n      <td>38974-78841:Kyle Stanley</td>\n      <td>38974-79022:Xinjun Zhang</td>\n    </tr>\n    <tr>\n      <th>3</th>\n      <td>38974-78367:Brooks Koepka</td>\n      <td>38974-78508:Hideki Matsuyama</td>\n      <td>38974-77806:Abraham Ancer</td>\n      <td>38974-78106:Jim Furyk</td>\n      <td>38974-78857:Kevin Streelman</td>\n      <td>38974-78841:Kyle Stanley</td>\n    </tr>\n    <tr>\n      <th>4</th>\n      <td>38974-79435:Patrick Cantlay</td>\n      <td>38974-78804:Webb Simpson</td>\n      <td>38974-78372:Jason Kokrak</td>\n      <td>38974-78106:Jim Furyk</td>\n      <td>38974-78857:Kevin Streelman</td>\n      <td>38974-80579:Sepp Straka</td>\n    </tr>\n    <tr>\n      <th>5</th>\n      <td>38974-78780:Adam Scott</td>\n      <td>38974-78804:Webb Simpson</td>\n      <td>38974-78372:Jason Kokrak</td>\n      <td>38974-77806:Abraham Ancer</td>\n      <td>38974-78857:Kevin Streelman</td>\n      <td>38974-79022:Xinjun Zhang</td>\n    </tr>\n    <tr>\n      <th>6</th>\n      <td>38974-78367:Brooks Koepka</td>\n      <td>38974-79435:Patrick Cantlay</td>\n      <td>38974-78804:Webb Simpson</td>\n      <td>38974-78841:Kyle Stanley</td>\n      <td>38974-116964:Harry Higgs</td>\n      <td>38974-80579:Sepp Straka</td>\n    </tr>\n    <tr>\n      <th>7</th>\n      <td>38974-78780:Adam Scott</td>\n      <td>38974-78804:Webb Simpson</td>\n      <td>38974-78372:Jason Kokrak</td>\n      <td>38974-77806:Abraham Ancer</td>\n      <td>38974-78841:Kyle Stanley</td>\n      <td>38974-116964:Harry Higgs</td>\n    </tr>\n    <tr>\n      <th>8</th>\n      <td>38974-78780:Adam Scott</td>\n      <td>38974-78804:Webb Simpson</td>\n      <td>38974-78372:Jason Kokrak</td>\n      <td>38974-77806:Abraham Ancer</td>\n      <td>38974-78857:Kevin Streelman</td>\n      <td>38974-116964:Harry Higgs</td>\n    </tr>\n    <tr>\n      <th>9</th>\n      <td>38974-78780:Adam Scott</td>\n      <td>38974-78804:Webb Simpson</td>\n      <td>38974-78508:Hideki Matsuyama</td>\n      <td>38974-78106:Jim Furyk</td>\n      <td>38974-78857:Kevin Streelman</td>\n      <td>38974-79022:Xinjun Zhang</td>\n    </tr>\n    <tr>\n      <th>10</th>\n      <td>38974-79435:Patrick Cantlay</td>\n      <td>38974-78804:Webb Simpson</td>\n      <td>38974-77806:Abraham Ancer</td>\n      <td>38974-78106:Jim Furyk</td>\n      <td>38974-78841:Kyle Stanley</td>\n      <td>38974-116964:Harry Higgs</td>\n    </tr>\n    <tr>\n      <th>11</th>\n      <td>38974-79435:Patrick Cantlay</td>\n      <td>38974-78780:Adam Scott</td>\n      <td>38974-78804:Webb Simpson</td>\n      <td>38974-78106:Jim Furyk</td>\n      <td>38974-78841:Kyle Stanley</td>\n      <td>38974-80579:Sepp Straka</td>\n    </tr>\n    <tr>\n      <th>12</th>\n      <td>38974-78367:Brooks Koepka</td>\n      <td>38974-78508:Hideki Matsuyama</td>\n      <td>38974-78372:Jason Kokrak</td>\n      <td>38974-78106:Jim Furyk</td>\n      <td>38974-78841:Kyle Stanley</td>\n      <td>38974-80579:Sepp Straka</td>\n    </tr>\n    <tr>\n      <th>13</th>\n      <td>38974-78804:Webb Simpson</td>\n      <td>38974-78508:Hideki Matsuyama</td>\n      <td>38974-78372:Jason Kokrak</td>\n      <td>38974-77806:Abraham Ancer</td>\n      <td>38974-78106:Jim Furyk</td>\n      <td>38974-80579:Sepp Straka</td>\n    </tr>\n    <tr>\n      <th>14</th>\n      <td>38974-78367:Brooks Koepka</td>\n      <td>38974-79435:Patrick Cantlay</td>\n      <td>38974-77806:Abraham Ancer</td>\n      <td>38974-78857:Kevin Streelman</td>\n      <td>38974-78841:Kyle Stanley</td>\n      <td>38974-80579:Sepp Straka</td>\n    </tr>\n    <tr>\n      <th>15</th>\n      <td>38974-78780:Adam Scott</td>\n      <td>38974-78508:Hideki Matsuyama</td>\n      <td>38974-78372:Jason Kokrak</td>\n      <td>38974-77806:Abraham Ancer</td>\n      <td>38974-78106:Jim Furyk</td>\n      <td>38974-78841:Kyle Stanley</td>\n    </tr>\n    <tr>\n      <th>16</th>\n      <td>38974-79435:Patrick Cantlay</td>\n      <td>38974-78780:Adam Scott</td>\n      <td>38974-78372:Jason Kokrak</td>\n      <td>38974-77806:Abraham Ancer</td>\n      <td>38974-78841:Kyle Stanley</td>\n      <td>38974-79022:Xinjun Zhang</td>\n    </tr>\n    <tr>\n      <th>17</th>\n      <td>38974-78804:Webb Simpson</td>\n      <td>38974-78508:Hideki Matsuyama</td>\n      <td>38974-78372:Jason Kokrak</td>\n      <td>38974-77806:Abraham Ancer</td>\n      <td>38974-78857:Kevin Streelman</td>\n      <td>38974-116964:Harry Higgs</td>\n    </tr>\n    <tr>\n      <th>18</th>\n      <td>38974-79435:Patrick Cantlay</td>\n      <td>38974-78508:Hideki Matsuyama</td>\n      <td>38974-77806:Abraham Ancer</td>\n      <td>38974-78106:Jim Furyk</td>\n      <td>38974-78857:Kevin Streelman</td>\n      <td>38974-78841:Kyle Stanley</td>\n    </tr>\n    <tr>\n      <th>19</th>\n      <td>38974-78367:Brooks Koepka</td>\n      <td>38974-78780:Adam Scott</td>\n      <td>38974-78804:Webb Simpson</td>\n      <td>38974-78106:Jim Furyk</td>\n      <td>38974-80579:Sepp Straka</td>\n      <td>38974-79022:Xinjun Zhang</td>\n    </tr>\n    <tr>\n      <th>20</th>\n      <td>38974-79435:Patrick Cantlay</td>\n      <td>38974-78804:Webb Simpson</td>\n      <td>38974-78508:Hideki Matsuyama</td>\n      <td>38974-78106:Jim Furyk</td>\n      <td>38974-116964:Harry Higgs</td>\n      <td>38974-80579:Sepp Straka</td>\n    </tr>\n    <tr>\n      <th>21</th>\n      <td>38974-78367:Brooks Koepka</td>\n      <td>38974-78804:Webb Simpson</td>\n      <td>38974-78508:Hideki Matsuyama</td>\n      <td>38974-78841:Kyle Stanley</td>\n      <td>38974-116964:Harry Higgs</td>\n      <td>38974-80579:Sepp Straka</td>\n    </tr>\n    <tr>\n      <th>22</th>\n      <td>38974-78367:Brooks Koepka</td>\n      <td>38974-78780:Adam Scott</td>\n      <td>38974-78804:Webb Simpson</td>\n      <td>38974-78841:Kyle Stanley</td>\n      <td>38974-116964:Harry Higgs</td>\n      <td>38974-80579:Sepp Straka</td>\n    </tr>\n    <tr>\n      <th>23</th>\n      <td>38974-79435:Patrick Cantlay</td>\n      <td>38974-78780:Adam Scott</td>\n      <td>38974-78508:Hideki Matsuyama</td>\n      <td>38974-77806:Abraham Ancer</td>\n      <td>38974-116964:Harry Higgs</td>\n      <td>38974-80579:Sepp Straka</td>\n    </tr>\n    <tr>\n      <th>24</th>\n      <td>38974-79435:Patrick Cantlay</td>\n      <td>38974-78780:Adam Scott</td>\n      <td>38974-78372:Jason Kokrak</td>\n      <td>38974-77806:Abraham Ancer</td>\n      <td>38974-78106:Jim Furyk</td>\n      <td>38974-79022:Xinjun Zhang</td>\n    </tr>\n    <tr>\n      <th>25</th>\n      <td>38974-78780:Adam Scott</td>\n      <td>38974-78804:Webb Simpson</td>\n      <td>38974-78508:Hideki Matsuyama</td>\n      <td>38974-78857:Kevin Streelman</td>\n      <td>38974-78841:Kyle Stanley</td>\n      <td>38974-79022:Xinjun Zhang</td>\n    </tr>\n    <tr>\n      <th>26</th>\n      <td>38974-78367:Brooks Koepka</td>\n      <td>38974-78780:Adam Scott</td>\n      <td>38974-78372:Jason Kokrak</td>\n      <td>38974-78106:Jim Furyk</td>\n      <td>38974-78857:Kevin Streelman</td>\n      <td>38974-79022:Xinjun Zhang</td>\n    </tr>\n    <tr>\n      <th>27</th>\n      <td>38974-79435:Patrick Cantlay</td>\n      <td>38974-78780:Adam Scott</td>\n      <td>38974-78508:Hideki Matsuyama</td>\n      <td>38974-78106:Jim Furyk</td>\n      <td>38974-116964:Harry Higgs</td>\n      <td>38974-79022:Xinjun Zhang</td>\n    </tr>\n    <tr>\n      <th>28</th>\n      <td>38974-79435:Patrick Cantlay</td>\n      <td>38974-78804:Webb Simpson</td>\n      <td>38974-77806:Abraham Ancer</td>\n      <td>38974-78106:Jim Furyk</td>\n      <td>38974-78857:Kevin Streelman</td>\n      <td>38974-80579:Sepp Straka</td>\n    </tr>\n    <tr>\n      <th>29</th>\n      <td>38974-78367:Brooks Koepka</td>\n      <td>38974-78780:Adam Scott</td>\n      <td>38974-78372:Jason Kokrak</td>\n      <td>38974-78106:Jim Furyk</td>\n      <td>38974-78841:Kyle Stanley</td>\n      <td>38974-116964:Harry Higgs</td>\n    </tr>\n    <tr>\n      <th>30</th>\n      <td>38974-78367:Brooks Koepka</td>\n      <td>38974-78508:Hideki Matsuyama</td>\n      <td>38974-78372:Jason Kokrak</td>\n      <td>38974-77806:Abraham Ancer</td>\n      <td>38974-78106:Jim Furyk</td>\n      <td>38974-79022:Xinjun Zhang</td>\n    </tr>\n    <tr>\n      <th>31</th>\n      <td>38974-78367:Brooks Koepka</td>\n      <td>38974-78780:Adam Scott</td>\n      <td>38974-78804:Webb Simpson</td>\n      <td>38974-78106:Jim Furyk</td>\n      <td>38974-116964:Harry Higgs</td>\n      <td>38974-79022:Xinjun Zhang</td>\n    </tr>\n  </tbody>\n</table>\n</div>",
            "text/plain": "                             G1                            G2  \\\n0     38974-78367:Brooks Koepka        38974-78780:Adam Scott   \n1   38974-79435:Patrick Cantlay  38974-78508:Hideki Matsuyama   \n2     38974-78367:Brooks Koepka   38974-79435:Patrick Cantlay   \n3     38974-78367:Brooks Koepka  38974-78508:Hideki Matsuyama   \n4   38974-79435:Patrick Cantlay      38974-78804:Webb Simpson   \n5        38974-78780:Adam Scott      38974-78804:Webb Simpson   \n6     38974-78367:Brooks Koepka   38974-79435:Patrick Cantlay   \n7        38974-78780:Adam Scott      38974-78804:Webb Simpson   \n8        38974-78780:Adam Scott      38974-78804:Webb Simpson   \n9        38974-78780:Adam Scott      38974-78804:Webb Simpson   \n10  38974-79435:Patrick Cantlay      38974-78804:Webb Simpson   \n11  38974-79435:Patrick Cantlay        38974-78780:Adam Scott   \n12    38974-78367:Brooks Koepka  38974-78508:Hideki Matsuyama   \n13     38974-78804:Webb Simpson  38974-78508:Hideki Matsuyama   \n14    38974-78367:Brooks Koepka   38974-79435:Patrick Cantlay   \n15       38974-78780:Adam Scott  38974-78508:Hideki Matsuyama   \n16  38974-79435:Patrick Cantlay        38974-78780:Adam Scott   \n17     38974-78804:Webb Simpson  38974-78508:Hideki Matsuyama   \n18  38974-79435:Patrick Cantlay  38974-78508:Hideki Matsuyama   \n19    38974-78367:Brooks Koepka        38974-78780:Adam Scott   \n20  38974-79435:Patrick Cantlay      38974-78804:Webb Simpson   \n21    38974-78367:Brooks Koepka      38974-78804:Webb Simpson   \n22    38974-78367:Brooks Koepka        38974-78780:Adam Scott   \n23  38974-79435:Patrick Cantlay        38974-78780:Adam Scott   \n24  38974-79435:Patrick Cantlay        38974-78780:Adam Scott   \n25       38974-78780:Adam Scott      38974-78804:Webb Simpson   \n26    38974-78367:Brooks Koepka        38974-78780:Adam Scott   \n27  38974-79435:Patrick Cantlay        38974-78780:Adam Scott   \n28  38974-79435:Patrick Cantlay      38974-78804:Webb Simpson   \n29    38974-78367:Brooks Koepka        38974-78780:Adam Scott   \n30    38974-78367:Brooks Koepka  38974-78508:Hideki Matsuyama   \n31    38974-78367:Brooks Koepka        38974-78780:Adam Scott   \n\n                              G3                           G4  \\\n0       38974-78804:Webb Simpson  38974-78857:Kevin Streelman   \n1       38974-78372:Jason Kokrak    38974-77806:Abraham Ancer   \n2      38974-77806:Abraham Ancer  38974-78857:Kevin Streelman   \n3      38974-77806:Abraham Ancer        38974-78106:Jim Furyk   \n4       38974-78372:Jason Kokrak        38974-78106:Jim Furyk   \n5       38974-78372:Jason Kokrak    38974-77806:Abraham Ancer   \n6       38974-78804:Webb Simpson     38974-78841:Kyle Stanley   \n7       38974-78372:Jason Kokrak    38974-77806:Abraham Ancer   \n8       38974-78372:Jason Kokrak    38974-77806:Abraham Ancer   \n9   38974-78508:Hideki Matsuyama        38974-78106:Jim Furyk   \n10     38974-77806:Abraham Ancer        38974-78106:Jim Furyk   \n11      38974-78804:Webb Simpson        38974-78106:Jim Furyk   \n12      38974-78372:Jason Kokrak        38974-78106:Jim Furyk   \n13      38974-78372:Jason Kokrak    38974-77806:Abraham Ancer   \n14     38974-77806:Abraham Ancer  38974-78857:Kevin Streelman   \n15      38974-78372:Jason Kokrak    38974-77806:Abraham Ancer   \n16      38974-78372:Jason Kokrak    38974-77806:Abraham Ancer   \n17      38974-78372:Jason Kokrak    38974-77806:Abraham Ancer   \n18     38974-77806:Abraham Ancer        38974-78106:Jim Furyk   \n19      38974-78804:Webb Simpson        38974-78106:Jim Furyk   \n20  38974-78508:Hideki Matsuyama        38974-78106:Jim Furyk   \n21  38974-78508:Hideki Matsuyama     38974-78841:Kyle Stanley   \n22      38974-78804:Webb Simpson     38974-78841:Kyle Stanley   \n23  38974-78508:Hideki Matsuyama    38974-77806:Abraham Ancer   \n24      38974-78372:Jason Kokrak    38974-77806:Abraham Ancer   \n25  38974-78508:Hideki Matsuyama  38974-78857:Kevin Streelman   \n26      38974-78372:Jason Kokrak        38974-78106:Jim Furyk   \n27  38974-78508:Hideki Matsuyama        38974-78106:Jim Furyk   \n28     38974-77806:Abraham Ancer        38974-78106:Jim Furyk   \n29      38974-78372:Jason Kokrak        38974-78106:Jim Furyk   \n30      38974-78372:Jason Kokrak    38974-77806:Abraham Ancer   \n31      38974-78804:Webb Simpson        38974-78106:Jim Furyk   \n\n                             G5                        G6  \n0       38974-80579:Sepp Straka  38974-79022:Xinjun Zhang  \n1      38974-78841:Kyle Stanley  38974-116964:Harry Higgs  \n2      38974-78841:Kyle Stanley  38974-79022:Xinjun Zhang  \n3   38974-78857:Kevin Streelman  38974-78841:Kyle Stanley  \n4   38974-78857:Kevin Streelman   38974-80579:Sepp Straka  \n5   38974-78857:Kevin Streelman  38974-79022:Xinjun Zhang  \n6      38974-116964:Harry Higgs   38974-80579:Sepp Straka  \n7      38974-78841:Kyle Stanley  38974-116964:Harry Higgs  \n8   38974-78857:Kevin Streelman  38974-116964:Harry Higgs  \n9   38974-78857:Kevin Streelman  38974-79022:Xinjun Zhang  \n10     38974-78841:Kyle Stanley  38974-116964:Harry Higgs  \n11     38974-78841:Kyle Stanley   38974-80579:Sepp Straka  \n12     38974-78841:Kyle Stanley   38974-80579:Sepp Straka  \n13        38974-78106:Jim Furyk   38974-80579:Sepp Straka  \n14     38974-78841:Kyle Stanley   38974-80579:Sepp Straka  \n15        38974-78106:Jim Furyk  38974-78841:Kyle Stanley  \n16     38974-78841:Kyle Stanley  38974-79022:Xinjun Zhang  \n17  38974-78857:Kevin Streelman  38974-116964:Harry Higgs  \n18  38974-78857:Kevin Streelman  38974-78841:Kyle Stanley  \n19      38974-80579:Sepp Straka  38974-79022:Xinjun Zhang  \n20     38974-116964:Harry Higgs   38974-80579:Sepp Straka  \n21     38974-116964:Harry Higgs   38974-80579:Sepp Straka  \n22     38974-116964:Harry Higgs   38974-80579:Sepp Straka  \n23     38974-116964:Harry Higgs   38974-80579:Sepp Straka  \n24        38974-78106:Jim Furyk  38974-79022:Xinjun Zhang  \n25     38974-78841:Kyle Stanley  38974-79022:Xinjun Zhang  \n26  38974-78857:Kevin Streelman  38974-79022:Xinjun Zhang  \n27     38974-116964:Harry Higgs  38974-79022:Xinjun Zhang  \n28  38974-78857:Kevin Streelman   38974-80579:Sepp Straka  \n29     38974-78841:Kyle Stanley  38974-116964:Harry Higgs  \n30        38974-78106:Jim Furyk  38974-79022:Xinjun Zhang  \n31     38974-116964:Harry Higgs  38974-79022:Xinjun Zhang  "
          },
          "metadata": {}
        }
      ]
    },
    {
      "metadata": {
        "trusted": true
      },
      "cell_type": "code",
      "source": "",
      "execution_count": null,
      "outputs": []
    }
  ],
  "metadata": {
    "kernelspec": {
      "name": "python36",
      "display_name": "Python 3.6",
      "language": "python"
    },
    "language_info": {
      "mimetype": "text/x-python",
      "nbconvert_exporter": "python",
      "name": "python",
      "pygments_lexer": "ipython3",
      "version": "3.6.6",
      "file_extension": ".py",
      "codemirror_mode": {
        "version": 3,
        "name": "ipython"
      }
    }
  },
  "nbformat": 4,
  "nbformat_minor": 2
}