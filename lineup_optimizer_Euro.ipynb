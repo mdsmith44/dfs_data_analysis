{
  "cells": [
    {
      "metadata": {
        "trusted": true
      },
      "cell_type": "code",
      "source": "import pandas as pd\nimport numpy as np",
      "execution_count": 1,
      "outputs": []
    },
    {
      "metadata": {
        "trusted": true
      },
      "cell_type": "code",
      "source": "#!pip install cvxpy",
      "execution_count": 2,
      "outputs": []
    },
    {
      "metadata": {
        "trusted": true
      },
      "cell_type": "code",
      "source": "#import cvxpy as cp",
      "execution_count": 3,
      "outputs": []
    },
    {
      "metadata": {},
      "cell_type": "markdown",
      "source": "# heli"
    },
    {
      "metadata": {
        "trusted": true
      },
      "cell_type": "markdown",
      "source": "# Read in finish probabilities"
    },
    {
      "metadata": {
        "heading_collapsed": true
      },
      "cell_type": "markdown",
      "source": "### Option 1: scrape from website"
    },
    {
      "metadata": {
        "trusted": true,
        "hidden": true
      },
      "cell_type": "code",
      "source": "# import requests\n\n# page = requests.get('https://datagolf.ca/pga-tour-predictions')\n# page.status_code\n\n# info = str(page.content) \n# #use str(page.content), not page.text.  Otherwise ast.literal_eval doesn't work\n# #info[:100]\n\n# #Can we just find the dict we care about?\n# #data we want looks like:\n# # var probs = JSON.parse('[{....}]')\n# import re\n# d = re.findall(\"var probs = JSON\\.parse(.*?)]\",info)\n# #type(d)\n\n# import ast\n# e = ast.literal_eval(str(d[0])[5:])\n# #type(e)",
      "execution_count": 4,
      "outputs": []
    },
    {
      "metadata": {
        "trusted": true,
        "hidden": true
      },
      "cell_type": "code",
      "source": "# #Now build out df\n# df2 = pd.DataFrame(e[0],index=np.arange(1))\n# df2.head()",
      "execution_count": 5,
      "outputs": []
    },
    {
      "metadata": {
        "trusted": true,
        "hidden": true
      },
      "cell_type": "code",
      "source": "# for i in range(1,len(e)):\n#     p = e[i]\n#     df2 = pd.concat([df2,pd.DataFrame(e[i],index=np.arange(1))])\n# df2.head()",
      "execution_count": 6,
      "outputs": []
    },
    {
      "metadata": {
        "trusted": true,
        "hidden": true
      },
      "cell_type": "code",
      "source": "# #delete columns we don't care about\n# df2.drop(['event_name','flag','sample_size'],axis=1,inplace=True)\n# df2.head(2)",
      "execution_count": 7,
      "outputs": []
    },
    {
      "metadata": {
        "trusted": true,
        "hidden": true
      },
      "cell_type": "code",
      "source": "# df2.head(20)",
      "execution_count": 8,
      "outputs": []
    },
    {
      "metadata": {},
      "cell_type": "markdown",
      "source": "### Option 2: Import "
    },
    {
      "metadata": {
        "trusted": true
      },
      "cell_type": "code",
      "source": "euro = True",
      "execution_count": 9,
      "outputs": []
    },
    {
      "metadata": {
        "trusted": true
      },
      "cell_type": "code",
      "source": "if euro:\n    df2=pd.read_csv('Data/Euro_preds.csv')\nelse:\n    df2= pd.read_csv('Data/pga_preds.csv')\ndf2.head()",
      "execution_count": 10,
      "outputs": [
        {
          "output_type": "execute_result",
          "execution_count": 10,
          "data": {
            "text/html": "<div>\n<style scoped>\n    .dataframe tbody tr th:only-of-type {\n        vertical-align: middle;\n    }\n\n    .dataframe tbody tr th {\n        vertical-align: top;\n    }\n\n    .dataframe thead th {\n        text-align: right;\n    }\n</style>\n<table border=\"1\" class=\"dataframe\">\n  <thead>\n    <tr style=\"text-align: right;\">\n      <th></th>\n      <th>player_name</th>\n      <th>sample_size</th>\n      <th>win</th>\n      <th>top_5</th>\n      <th>top_10</th>\n      <th>top_20</th>\n      <th>make_cut</th>\n    </tr>\n  </thead>\n  <tbody>\n    <tr>\n      <th>0</th>\n      <td>Coetzee, George</td>\n      <td>150</td>\n      <td>0.131400</td>\n      <td>0.350950</td>\n      <td>0.494600</td>\n      <td>0.655750</td>\n      <td>0.886375</td>\n    </tr>\n    <tr>\n      <th>1</th>\n      <td>Vincent, Scott</td>\n      <td>150</td>\n      <td>0.038925</td>\n      <td>0.152925</td>\n      <td>0.258550</td>\n      <td>0.416100</td>\n      <td>0.783300</td>\n    </tr>\n    <tr>\n      <th>2</th>\n      <td>Higgo, Garrick</td>\n      <td>150</td>\n      <td>0.038000</td>\n      <td>0.148475</td>\n      <td>0.252000</td>\n      <td>0.409475</td>\n      <td>0.782775</td>\n    </tr>\n    <tr>\n      <th>3</th>\n      <td>Ormsby, Wade</td>\n      <td>150</td>\n      <td>0.033725</td>\n      <td>0.141625</td>\n      <td>0.242525</td>\n      <td>0.399775</td>\n      <td>0.780950</td>\n    </tr>\n    <tr>\n      <th>4</th>\n      <td>Donaldson, Jamie</td>\n      <td>150</td>\n      <td>0.028225</td>\n      <td>0.122125</td>\n      <td>0.214625</td>\n      <td>0.361150</td>\n      <td>0.757000</td>\n    </tr>\n  </tbody>\n</table>\n</div>",
            "text/plain": "        player_name  sample_size       win     top_5    top_10    top_20  \\\n0   Coetzee, George          150  0.131400  0.350950  0.494600  0.655750   \n1    Vincent, Scott          150  0.038925  0.152925  0.258550  0.416100   \n2    Higgo, Garrick          150  0.038000  0.148475  0.252000  0.409475   \n3      Ormsby, Wade          150  0.033725  0.141625  0.242525  0.399775   \n4  Donaldson, Jamie          150  0.028225  0.122125  0.214625  0.361150   \n\n   make_cut  \n0  0.886375  \n1  0.783300  \n2  0.782775  \n3  0.780950  \n4  0.757000  "
          },
          "metadata": {}
        }
      ]
    },
    {
      "metadata": {
        "trusted": true
      },
      "cell_type": "code",
      "source": "#Add field with name of First Last\nif euro:\n    df2['temp_Name'] = df2.player_name\n    temp_name = df2.player_name.str.split(', ',expand=True,n=2)\n    df2['temp_Name'] = temp_name[1] + \" \" + temp_name[0]\nelse:\n    df2['temp_Name'] = df2.player_name\n    temp_name = df2.player_name.str.split(', ',expand=True,n=2)\n    df2['temp_Name'] = temp_name[1] + \" \" + temp_name[0]\ndf2.head()",
      "execution_count": 11,
      "outputs": [
        {
          "output_type": "execute_result",
          "execution_count": 11,
          "data": {
            "text/html": "<div>\n<style scoped>\n    .dataframe tbody tr th:only-of-type {\n        vertical-align: middle;\n    }\n\n    .dataframe tbody tr th {\n        vertical-align: top;\n    }\n\n    .dataframe thead th {\n        text-align: right;\n    }\n</style>\n<table border=\"1\" class=\"dataframe\">\n  <thead>\n    <tr style=\"text-align: right;\">\n      <th></th>\n      <th>player_name</th>\n      <th>sample_size</th>\n      <th>win</th>\n      <th>top_5</th>\n      <th>top_10</th>\n      <th>top_20</th>\n      <th>make_cut</th>\n      <th>temp_Name</th>\n    </tr>\n  </thead>\n  <tbody>\n    <tr>\n      <th>0</th>\n      <td>Coetzee, George</td>\n      <td>150</td>\n      <td>0.131400</td>\n      <td>0.350950</td>\n      <td>0.494600</td>\n      <td>0.655750</td>\n      <td>0.886375</td>\n      <td>George Coetzee</td>\n    </tr>\n    <tr>\n      <th>1</th>\n      <td>Vincent, Scott</td>\n      <td>150</td>\n      <td>0.038925</td>\n      <td>0.152925</td>\n      <td>0.258550</td>\n      <td>0.416100</td>\n      <td>0.783300</td>\n      <td>Scott Vincent</td>\n    </tr>\n    <tr>\n      <th>2</th>\n      <td>Higgo, Garrick</td>\n      <td>150</td>\n      <td>0.038000</td>\n      <td>0.148475</td>\n      <td>0.252000</td>\n      <td>0.409475</td>\n      <td>0.782775</td>\n      <td>Garrick Higgo</td>\n    </tr>\n    <tr>\n      <th>3</th>\n      <td>Ormsby, Wade</td>\n      <td>150</td>\n      <td>0.033725</td>\n      <td>0.141625</td>\n      <td>0.242525</td>\n      <td>0.399775</td>\n      <td>0.780950</td>\n      <td>Wade Ormsby</td>\n    </tr>\n    <tr>\n      <th>4</th>\n      <td>Donaldson, Jamie</td>\n      <td>150</td>\n      <td>0.028225</td>\n      <td>0.122125</td>\n      <td>0.214625</td>\n      <td>0.361150</td>\n      <td>0.757000</td>\n      <td>Jamie Donaldson</td>\n    </tr>\n  </tbody>\n</table>\n</div>",
            "text/plain": "        player_name  sample_size       win     top_5    top_10    top_20  \\\n0   Coetzee, George          150  0.131400  0.350950  0.494600  0.655750   \n1    Vincent, Scott          150  0.038925  0.152925  0.258550  0.416100   \n2    Higgo, Garrick          150  0.038000  0.148475  0.252000  0.409475   \n3      Ormsby, Wade          150  0.033725  0.141625  0.242525  0.399775   \n4  Donaldson, Jamie          150  0.028225  0.122125  0.214625  0.361150   \n\n   make_cut        temp_Name  \n0  0.886375   George Coetzee  \n1  0.783300    Scott Vincent  \n2  0.782775    Garrick Higgo  \n3  0.780950      Wade Ormsby  \n4  0.757000  Jamie Donaldson  "
          },
          "metadata": {}
        }
      ]
    },
    {
      "metadata": {
        "trusted": true
      },
      "cell_type": "code",
      "source": "#Add sal\n#df2_sal = pd.read_csv('Data/DKSalaries Memorial 2019.csv')\nif euro:\n    url = 'https://www.draftkings.com/lineup/getavailableplayerscsv?contestTypeId=29&draftGroupId=39816'\nelse:\n    url = 'https://www.draftkings.com/lineup/getavailableplayerscsv?contestTypeId=29&draftGroupId=30976'\n#url='https://www.draftkings.com/lineup/getavailableplayerscsv?contestTypeId=29&draftGroupId=39678'\ndf2_sal = pd.read_csv(url,\n                     encoding='latin')\n#df2_sal = pd.read_csv('Data/DKSalaries_euro')\ndf2_sal.head(2)",
      "execution_count": 12,
      "outputs": [
        {
          "output_type": "execute_result",
          "execution_count": 12,
          "data": {
            "text/html": "<div>\n<style scoped>\n    .dataframe tbody tr th:only-of-type {\n        vertical-align: middle;\n    }\n\n    .dataframe tbody tr th {\n        vertical-align: top;\n    }\n\n    .dataframe thead th {\n        text-align: right;\n    }\n</style>\n<table border=\"1\" class=\"dataframe\">\n  <thead>\n    <tr style=\"text-align: right;\">\n      <th></th>\n      <th>Position</th>\n      <th>Name + ID</th>\n      <th>Name</th>\n      <th>ID</th>\n      <th>Roster Position</th>\n      <th>Salary</th>\n      <th>Game Info</th>\n      <th>TeamAbbrev</th>\n      <th>AvgPointsPerGame</th>\n    </tr>\n  </thead>\n  <tbody>\n    <tr>\n      <th>0</th>\n      <td>G</td>\n      <td>George Coetzee (15413332)</td>\n      <td>George Coetzee</td>\n      <td>15413332</td>\n      <td>G</td>\n      <td>11500</td>\n      <td>Open de Portugal at Royal Óbidos</td>\n      <td>Golf</td>\n      <td>78.36</td>\n    </tr>\n    <tr>\n      <th>1</th>\n      <td>G</td>\n      <td>Garrick Higgo (15413333)</td>\n      <td>Garrick Higgo</td>\n      <td>15413333</td>\n      <td>G</td>\n      <td>10900</td>\n      <td>Open de Portugal at Royal Óbidos</td>\n      <td>Golf</td>\n      <td>75.38</td>\n    </tr>\n  </tbody>\n</table>\n</div>",
            "text/plain": "  Position                  Name + ID            Name        ID  \\\n0        G  George Coetzee (15413332)  George Coetzee  15413332   \n1        G   Garrick Higgo (15413333)   Garrick Higgo  15413333   \n\n  Roster Position  Salary                         Game Info TeamAbbrev  \\\n0               G   11500  Open de Portugal at Royal Óbidos       Golf   \n1               G   10900  Open de Portugal at Royal Óbidos       Golf   \n\n   AvgPointsPerGame  \n0             78.36  \n1             75.38  "
          },
          "metadata": {}
        }
      ]
    },
    {
      "metadata": {
        "trusted": true
      },
      "cell_type": "code",
      "source": "#To make sure names match, replace all names in df2 with actual DK names in df2_sal\nfrom difflib import get_close_matches\ndf2['Name'] = \"\"\nfor i in np.arange(len(df2)):\n    curr_name = df2['temp_Name'].iloc[i]\n    try:\n        new_name = get_close_matches(curr_name,df2_sal['Name'],cutoff=.8)[0]\n        if new_name != curr_name:\n            print(\"{} replaced with {}\".format(curr_name,new_name))\n    except:\n        new_name = 'No Name'\n        print('NO MATCH: curr_name = {}, new_name = {}'.format(curr_name,new_name))\n    df2['Name'].iloc[i] = new_name\n#df2['Name'] = df2['Name'].apply(lambda x: get_close_matches(x,df2_sal['Name']))\ndf2.head(5)",
      "execution_count": 13,
      "outputs": [
        {
          "output_type": "stream",
          "text": "/home/nbuser/anaconda3_501/lib/python3.6/site-packages/pandas/core/indexing.py:189: SettingWithCopyWarning: \nA value is trying to be set on a copy of a slice from a DataFrame\n\nSee the caveats in the documentation: http://pandas.pydata.org/pandas-docs/stable/indexing.html#indexing-view-versus-copy\n  self._setitem_with_indexer(indexer, value)\n",
          "name": "stderr"
        },
        {
          "output_type": "stream",
          "text": "NO MATCH: curr_name = Ashun Wu, new_name = No Name\nGonzalo Fdez-Castano replaced with Gonzalo Fernandez-Castano\nPep Angles Ros replaced with Pep Angles\nMartin Leth Simonsen replaced with Martin Simonsen\nNO MATCH: curr_name = Tyler Koivisto, new_name = No Name\nBernard Ritthammer replaced with Bernd Ritthammer\nSantiago Tarrio Ben replaced with Santiago Tarrio\nLorenzo Filipo Scalise replaced with Lorenzo Scalise\nJbe' Kruger replaced with Jbe Kruger\nFrederic LaCroix replaced with Frederic Lacroix\nJonathan Thomson replaced with Jon Thomson\nNO MATCH: curr_name = Alexandre Daydou, new_name = No Name\nNO MATCH: curr_name = Tomas Bessa, new_name = No Name\nPedro Lencart silva  replaced with Pedro Lencart Silva\nTomas Melo Gouveia replaced with Tomas Gouveia\n",
          "name": "stdout"
        },
        {
          "output_type": "execute_result",
          "execution_count": 13,
          "data": {
            "text/html": "<div>\n<style scoped>\n    .dataframe tbody tr th:only-of-type {\n        vertical-align: middle;\n    }\n\n    .dataframe tbody tr th {\n        vertical-align: top;\n    }\n\n    .dataframe thead th {\n        text-align: right;\n    }\n</style>\n<table border=\"1\" class=\"dataframe\">\n  <thead>\n    <tr style=\"text-align: right;\">\n      <th></th>\n      <th>player_name</th>\n      <th>sample_size</th>\n      <th>win</th>\n      <th>top_5</th>\n      <th>top_10</th>\n      <th>top_20</th>\n      <th>make_cut</th>\n      <th>temp_Name</th>\n      <th>Name</th>\n    </tr>\n  </thead>\n  <tbody>\n    <tr>\n      <th>0</th>\n      <td>Coetzee, George</td>\n      <td>150</td>\n      <td>0.131400</td>\n      <td>0.350950</td>\n      <td>0.494600</td>\n      <td>0.655750</td>\n      <td>0.886375</td>\n      <td>George Coetzee</td>\n      <td>George Coetzee</td>\n    </tr>\n    <tr>\n      <th>1</th>\n      <td>Vincent, Scott</td>\n      <td>150</td>\n      <td>0.038925</td>\n      <td>0.152925</td>\n      <td>0.258550</td>\n      <td>0.416100</td>\n      <td>0.783300</td>\n      <td>Scott Vincent</td>\n      <td>Scott Vincent</td>\n    </tr>\n    <tr>\n      <th>2</th>\n      <td>Higgo, Garrick</td>\n      <td>150</td>\n      <td>0.038000</td>\n      <td>0.148475</td>\n      <td>0.252000</td>\n      <td>0.409475</td>\n      <td>0.782775</td>\n      <td>Garrick Higgo</td>\n      <td>Garrick Higgo</td>\n    </tr>\n    <tr>\n      <th>3</th>\n      <td>Ormsby, Wade</td>\n      <td>150</td>\n      <td>0.033725</td>\n      <td>0.141625</td>\n      <td>0.242525</td>\n      <td>0.399775</td>\n      <td>0.780950</td>\n      <td>Wade Ormsby</td>\n      <td>Wade Ormsby</td>\n    </tr>\n    <tr>\n      <th>4</th>\n      <td>Donaldson, Jamie</td>\n      <td>150</td>\n      <td>0.028225</td>\n      <td>0.122125</td>\n      <td>0.214625</td>\n      <td>0.361150</td>\n      <td>0.757000</td>\n      <td>Jamie Donaldson</td>\n      <td>Jamie Donaldson</td>\n    </tr>\n  </tbody>\n</table>\n</div>",
            "text/plain": "        player_name  sample_size       win     top_5    top_10    top_20  \\\n0   Coetzee, George          150  0.131400  0.350950  0.494600  0.655750   \n1    Vincent, Scott          150  0.038925  0.152925  0.258550  0.416100   \n2    Higgo, Garrick          150  0.038000  0.148475  0.252000  0.409475   \n3      Ormsby, Wade          150  0.033725  0.141625  0.242525  0.399775   \n4  Donaldson, Jamie          150  0.028225  0.122125  0.214625  0.361150   \n\n   make_cut        temp_Name             Name  \n0  0.886375   George Coetzee   George Coetzee  \n1  0.783300    Scott Vincent    Scott Vincent  \n2  0.782775    Garrick Higgo    Garrick Higgo  \n3  0.780950      Wade Ormsby      Wade Ormsby  \n4  0.757000  Jamie Donaldson  Jamie Donaldson  "
          },
          "metadata": {}
        }
      ]
    },
    {
      "metadata": {
        "trusted": true
      },
      "cell_type": "code",
      "source": "#Find where DK Name ('Name') doesn't match the name from datagolf ('temp_Name')\ndf2[df2.Name == \"No Name\"]",
      "execution_count": 14,
      "outputs": [
        {
          "output_type": "execute_result",
          "execution_count": 14,
          "data": {
            "text/html": "<div>\n<style scoped>\n    .dataframe tbody tr th:only-of-type {\n        vertical-align: middle;\n    }\n\n    .dataframe tbody tr th {\n        vertical-align: top;\n    }\n\n    .dataframe thead th {\n        text-align: right;\n    }\n</style>\n<table border=\"1\" class=\"dataframe\">\n  <thead>\n    <tr style=\"text-align: right;\">\n      <th></th>\n      <th>player_name</th>\n      <th>sample_size</th>\n      <th>win</th>\n      <th>top_5</th>\n      <th>top_10</th>\n      <th>top_20</th>\n      <th>make_cut</th>\n      <th>temp_Name</th>\n      <th>Name</th>\n    </tr>\n  </thead>\n  <tbody>\n    <tr>\n      <th>7</th>\n      <td>Wu, Ashun</td>\n      <td>150</td>\n      <td>0.022200</td>\n      <td>0.102325</td>\n      <td>0.186725</td>\n      <td>0.325700</td>\n      <td>0.734150</td>\n      <td>Ashun Wu</td>\n      <td>No Name</td>\n    </tr>\n    <tr>\n      <th>21</th>\n      <td>Koivisto, Tyler</td>\n      <td>4</td>\n      <td>0.012250</td>\n      <td>0.065400</td>\n      <td>0.126875</td>\n      <td>0.241725</td>\n      <td>0.676025</td>\n      <td>Tyler Koivisto</td>\n      <td>No Name</td>\n    </tr>\n    <tr>\n      <th>109</th>\n      <td>Daydou, Alexandre</td>\n      <td>150</td>\n      <td>0.000575</td>\n      <td>0.005825</td>\n      <td>0.017275</td>\n      <td>0.047575</td>\n      <td>0.420225</td>\n      <td>Alexandre Daydou</td>\n      <td>No Name</td>\n    </tr>\n    <tr>\n      <th>119</th>\n      <td>Bessa, Tomas</td>\n      <td>60</td>\n      <td>0.000025</td>\n      <td>0.000475</td>\n      <td>0.001675</td>\n      <td>0.006975</td>\n      <td>0.223675</td>\n      <td>Tomas Bessa</td>\n      <td>No Name</td>\n    </tr>\n  </tbody>\n</table>\n</div>",
            "text/plain": "           player_name  sample_size       win     top_5    top_10    top_20  \\\n7            Wu, Ashun          150  0.022200  0.102325  0.186725  0.325700   \n21     Koivisto, Tyler            4  0.012250  0.065400  0.126875  0.241725   \n109  Daydou, Alexandre          150  0.000575  0.005825  0.017275  0.047575   \n119       Bessa, Tomas           60  0.000025  0.000475  0.001675  0.006975   \n\n     make_cut         temp_Name     Name  \n7    0.734150          Ashun Wu  No Name  \n21   0.676025    Tyler Koivisto  No Name  \n109  0.420225  Alexandre Daydou  No Name  \n119  0.223675       Tomas Bessa  No Name  "
          },
          "metadata": {}
        }
      ]
    },
    {
      "metadata": {
        "trusted": true
      },
      "cell_type": "code",
      "source": "#Add salary and  to df2\ndf2 = pd.merge(df2,df2_sal[['Name','Name + ID','Salary']],how='left',on='Name')\ndf2.dropna(inplace=True)\ndf2.head()",
      "execution_count": 15,
      "outputs": [
        {
          "output_type": "execute_result",
          "execution_count": 15,
          "data": {
            "text/html": "<div>\n<style scoped>\n    .dataframe tbody tr th:only-of-type {\n        vertical-align: middle;\n    }\n\n    .dataframe tbody tr th {\n        vertical-align: top;\n    }\n\n    .dataframe thead th {\n        text-align: right;\n    }\n</style>\n<table border=\"1\" class=\"dataframe\">\n  <thead>\n    <tr style=\"text-align: right;\">\n      <th></th>\n      <th>player_name</th>\n      <th>sample_size</th>\n      <th>win</th>\n      <th>top_5</th>\n      <th>top_10</th>\n      <th>top_20</th>\n      <th>make_cut</th>\n      <th>temp_Name</th>\n      <th>Name</th>\n      <th>Name + ID</th>\n      <th>Salary</th>\n    </tr>\n  </thead>\n  <tbody>\n    <tr>\n      <th>0</th>\n      <td>Coetzee, George</td>\n      <td>150</td>\n      <td>0.131400</td>\n      <td>0.350950</td>\n      <td>0.494600</td>\n      <td>0.655750</td>\n      <td>0.886375</td>\n      <td>George Coetzee</td>\n      <td>George Coetzee</td>\n      <td>George Coetzee (15413332)</td>\n      <td>11500.0</td>\n    </tr>\n    <tr>\n      <th>1</th>\n      <td>Vincent, Scott</td>\n      <td>150</td>\n      <td>0.038925</td>\n      <td>0.152925</td>\n      <td>0.258550</td>\n      <td>0.416100</td>\n      <td>0.783300</td>\n      <td>Scott Vincent</td>\n      <td>Scott Vincent</td>\n      <td>Scott Vincent (15413334)</td>\n      <td>10500.0</td>\n    </tr>\n    <tr>\n      <th>2</th>\n      <td>Higgo, Garrick</td>\n      <td>150</td>\n      <td>0.038000</td>\n      <td>0.148475</td>\n      <td>0.252000</td>\n      <td>0.409475</td>\n      <td>0.782775</td>\n      <td>Garrick Higgo</td>\n      <td>Garrick Higgo</td>\n      <td>Garrick Higgo (15413333)</td>\n      <td>10900.0</td>\n    </tr>\n    <tr>\n      <th>3</th>\n      <td>Ormsby, Wade</td>\n      <td>150</td>\n      <td>0.033725</td>\n      <td>0.141625</td>\n      <td>0.242525</td>\n      <td>0.399775</td>\n      <td>0.780950</td>\n      <td>Wade Ormsby</td>\n      <td>Wade Ormsby</td>\n      <td>Wade Ormsby (15413337)</td>\n      <td>9700.0</td>\n    </tr>\n    <tr>\n      <th>4</th>\n      <td>Donaldson, Jamie</td>\n      <td>150</td>\n      <td>0.028225</td>\n      <td>0.122125</td>\n      <td>0.214625</td>\n      <td>0.361150</td>\n      <td>0.757000</td>\n      <td>Jamie Donaldson</td>\n      <td>Jamie Donaldson</td>\n      <td>Jamie Donaldson (15413335)</td>\n      <td>10300.0</td>\n    </tr>\n  </tbody>\n</table>\n</div>",
            "text/plain": "        player_name  sample_size       win     top_5    top_10    top_20  \\\n0   Coetzee, George          150  0.131400  0.350950  0.494600  0.655750   \n1    Vincent, Scott          150  0.038925  0.152925  0.258550  0.416100   \n2    Higgo, Garrick          150  0.038000  0.148475  0.252000  0.409475   \n3      Ormsby, Wade          150  0.033725  0.141625  0.242525  0.399775   \n4  Donaldson, Jamie          150  0.028225  0.122125  0.214625  0.361150   \n\n   make_cut        temp_Name             Name                   Name + ID  \\\n0  0.886375   George Coetzee   George Coetzee   George Coetzee (15413332)   \n1  0.783300    Scott Vincent    Scott Vincent    Scott Vincent (15413334)   \n2  0.782775    Garrick Higgo    Garrick Higgo    Garrick Higgo (15413333)   \n3  0.780950      Wade Ormsby      Wade Ormsby      Wade Ormsby (15413337)   \n4  0.757000  Jamie Donaldson  Jamie Donaldson  Jamie Donaldson (15413335)   \n\n    Salary  \n0  11500.0  \n1  10500.0  \n2  10900.0  \n3   9700.0  \n4  10300.0  "
          },
          "metadata": {}
        }
      ]
    },
    {
      "metadata": {
        "trusted": true
      },
      "cell_type": "code",
      "source": "#Copy\ndf_all = df2.copy()\n\n#Remove extra name columns\ndf_all  = df_all[df_all.columns.difference(['temp_Name','player_name'])]\ndf_all.sort_values(by='Salary',ascending=False).head(10)",
      "execution_count": 16,
      "outputs": [
        {
          "output_type": "execute_result",
          "execution_count": 16,
          "data": {
            "text/html": "<div>\n<style scoped>\n    .dataframe tbody tr th:only-of-type {\n        vertical-align: middle;\n    }\n\n    .dataframe tbody tr th {\n        vertical-align: top;\n    }\n\n    .dataframe thead th {\n        text-align: right;\n    }\n</style>\n<table border=\"1\" class=\"dataframe\">\n  <thead>\n    <tr style=\"text-align: right;\">\n      <th></th>\n      <th>Name</th>\n      <th>Name + ID</th>\n      <th>Salary</th>\n      <th>make_cut</th>\n      <th>sample_size</th>\n      <th>top_10</th>\n      <th>top_20</th>\n      <th>top_5</th>\n      <th>win</th>\n    </tr>\n  </thead>\n  <tbody>\n    <tr>\n      <th>0</th>\n      <td>George Coetzee</td>\n      <td>George Coetzee (15413332)</td>\n      <td>11500.0</td>\n      <td>0.886375</td>\n      <td>150</td>\n      <td>0.494600</td>\n      <td>0.655750</td>\n      <td>0.350950</td>\n      <td>0.131400</td>\n    </tr>\n    <tr>\n      <th>2</th>\n      <td>Garrick Higgo</td>\n      <td>Garrick Higgo (15413333)</td>\n      <td>10900.0</td>\n      <td>0.782775</td>\n      <td>150</td>\n      <td>0.252000</td>\n      <td>0.409475</td>\n      <td>0.148475</td>\n      <td>0.038000</td>\n    </tr>\n    <tr>\n      <th>1</th>\n      <td>Scott Vincent</td>\n      <td>Scott Vincent (15413334)</td>\n      <td>10500.0</td>\n      <td>0.783300</td>\n      <td>150</td>\n      <td>0.258550</td>\n      <td>0.416100</td>\n      <td>0.152925</td>\n      <td>0.038925</td>\n    </tr>\n    <tr>\n      <th>4</th>\n      <td>Jamie Donaldson</td>\n      <td>Jamie Donaldson (15413335)</td>\n      <td>10300.0</td>\n      <td>0.757000</td>\n      <td>150</td>\n      <td>0.214625</td>\n      <td>0.361150</td>\n      <td>0.122125</td>\n      <td>0.028225</td>\n    </tr>\n    <tr>\n      <th>44</th>\n      <td>Bjorn Hellgren</td>\n      <td>Bjorn Hellgren (15413336)</td>\n      <td>10100.0</td>\n      <td>0.632750</td>\n      <td>150</td>\n      <td>0.089850</td>\n      <td>0.190650</td>\n      <td>0.043000</td>\n      <td>0.007350</td>\n    </tr>\n    <tr>\n      <th>3</th>\n      <td>Wade Ormsby</td>\n      <td>Wade Ormsby (15413337)</td>\n      <td>9700.0</td>\n      <td>0.780950</td>\n      <td>150</td>\n      <td>0.242525</td>\n      <td>0.399775</td>\n      <td>0.141625</td>\n      <td>0.033725</td>\n    </tr>\n    <tr>\n      <th>6</th>\n      <td>Aaron Cockerill</td>\n      <td>Aaron Cockerill (15413338)</td>\n      <td>9500.0</td>\n      <td>0.735650</td>\n      <td>150</td>\n      <td>0.188200</td>\n      <td>0.328100</td>\n      <td>0.102750</td>\n      <td>0.023175</td>\n    </tr>\n    <tr>\n      <th>25</th>\n      <td>Craig Howie</td>\n      <td>Craig Howie (15413339)</td>\n      <td>9300.0</td>\n      <td>0.671675</td>\n      <td>147</td>\n      <td>0.117375</td>\n      <td>0.230925</td>\n      <td>0.058100</td>\n      <td>0.011200</td>\n    </tr>\n    <tr>\n      <th>20</th>\n      <td>Niklas Norgaard Moller</td>\n      <td>Niklas Norgaard Moller (15413340)</td>\n      <td>9200.0</td>\n      <td>0.686675</td>\n      <td>150</td>\n      <td>0.134350</td>\n      <td>0.253800</td>\n      <td>0.068050</td>\n      <td>0.013000</td>\n    </tr>\n    <tr>\n      <th>10</th>\n      <td>Gonzalo Fernandez-Castano</td>\n      <td>Gonzalo Fernandez-Castano (15413341)</td>\n      <td>9100.0</td>\n      <td>0.719225</td>\n      <td>150</td>\n      <td>0.164575</td>\n      <td>0.301950</td>\n      <td>0.087925</td>\n      <td>0.017825</td>\n    </tr>\n  </tbody>\n</table>\n</div>",
            "text/plain": "                         Name                             Name + ID   Salary  \\\n0              George Coetzee             George Coetzee (15413332)  11500.0   \n2               Garrick Higgo              Garrick Higgo (15413333)  10900.0   \n1               Scott Vincent              Scott Vincent (15413334)  10500.0   \n4             Jamie Donaldson            Jamie Donaldson (15413335)  10300.0   \n44             Bjorn Hellgren             Bjorn Hellgren (15413336)  10100.0   \n3                 Wade Ormsby                Wade Ormsby (15413337)   9700.0   \n6             Aaron Cockerill            Aaron Cockerill (15413338)   9500.0   \n25                Craig Howie                Craig Howie (15413339)   9300.0   \n20     Niklas Norgaard Moller     Niklas Norgaard Moller (15413340)   9200.0   \n10  Gonzalo Fernandez-Castano  Gonzalo Fernandez-Castano (15413341)   9100.0   \n\n    make_cut  sample_size    top_10    top_20     top_5       win  \n0   0.886375          150  0.494600  0.655750  0.350950  0.131400  \n2   0.782775          150  0.252000  0.409475  0.148475  0.038000  \n1   0.783300          150  0.258550  0.416100  0.152925  0.038925  \n4   0.757000          150  0.214625  0.361150  0.122125  0.028225  \n44  0.632750          150  0.089850  0.190650  0.043000  0.007350  \n3   0.780950          150  0.242525  0.399775  0.141625  0.033725  \n6   0.735650          150  0.188200  0.328100  0.102750  0.023175  \n25  0.671675          147  0.117375  0.230925  0.058100  0.011200  \n20  0.686675          150  0.134350  0.253800  0.068050  0.013000  \n10  0.719225          150  0.164575  0.301950  0.087925  0.017825  "
          },
          "metadata": {}
        }
      ]
    },
    {
      "metadata": {
        "trusted": true
      },
      "cell_type": "code",
      "source": "df_all.to_csv('Data/Euro_preds2.csv')",
      "execution_count": 17,
      "outputs": []
    },
    {
      "metadata": {},
      "cell_type": "markdown",
      "source": "# Optimize"
    },
    {
      "metadata": {
        "trusted": true
      },
      "cell_type": "code",
      "source": "#Set team parameters\nlock = ['Christiaan Bezuidenhout','Thomas Detry']\n#lock = ['Jon Rahm','Rory McIlroy']\nlock = []\n\nlock_full_names = []\nfor i, p in enumerate(lock):\n    lock_full_names.append(df_all[df_all.Name==p]['Name + ID'].iloc[0])\nsal_used = df_all[df_all.Name.isin(lock)].Salary.sum()\nsal_left = 50000-sal_used\nplayers_left = 6-len(lock)\n\n\nto_remove = ['Julian Suri','Adrian Otaegui','Matt Kuchar','Fabrizio Zanotti','Jordan L. Smith',\n            'Richard Sterne','Tapio Pulkkanen','Matt Jones']\nto_remove = ['Martin Kaymer','Shane Lowry','Francesco Molinari','Justin Harding','Alex Noren',\n            'Tom Lewis','C.T. Pan','Lee Westwood','Edoardo Molinari','Hao-Tong Li']\nto_remove = ['Ian Poulter', 'Jordan L. Smith','Richard Sterne','David Lipsky']\nto_remove = ['Bryson DeChambeau','Ian Poulter','Tom Lewis','Joost Luiten','Matt Wallace',\n            'Graeme McDowell','Justin Harding','Martin Kaymer','Andrew Johnston']\nto_remove = []\n\nmin_sal = 6000\nmax_sal = 12000",
      "execution_count": 15,
      "outputs": []
    },
    {
      "metadata": {
        "trusted": true,
        "scrolled": false
      },
      "cell_type": "code",
      "source": "#Opt by made cut (or T10 if no cut)\nopt_teams = []\ndf_now = df_all.copy()\n\n\n#Filter down remaining players by sal\ndf_now = df_now[(df_now.Salary>=min_sal) &\n               (df_now.Salary<=max_sal)]\ndf_now = df_now[~df_now.Name.isin(lock)]\n\ndf_now = df_now[~ df_now.Name.isin(to_remove)]\n\nnum_teams = 6\nfor j in np.arange(num_teams):\n    s = df_now.Salary.values\n    c = df_now.make_cut*100\n    T20 = df_now['top_20']*100\n    T10 = df_now['top_10']*100\n    w = df_now['win']*100\n    n = len(df_now)\n    #print(n,len(c),len(s))\n    x = cp.Variable(n,boolean=True)\n    cap = 50000\n    constraints = [cp.sum(x) == players_left,\n                 x*s <= sal_left]\n\n    # Form objective.\n    obj = cp.Maximize(x*c)\n    #obj2 = cp.Maximize(x*T20)\n    #obj3 = cp.Maximize(x*c)\n\n    # Form and solve problem.\n    #T10\n    prob = cp.Problem(obj, constraints)\n    prob.solve()  # Returns the optimal value.\n    opt_team = df_now['Name'][x.value>.5].tolist()\n    opt_teams.append(opt_team)\n    #print('Team {}:'.format(j+1),opt_team)\n    print('Team {} (obj = {:.1f}):'.format(j+1,prob.value),opt_team)\n\n    \n    #delet opt team\n    #print(len(df_now))\n    df_now = df_now[~df_now['Name'].isin(opt_team)]\n    #print(len(df_now))",
      "execution_count": 16,
      "outputs": [
        {
          "output_type": "stream",
          "text": "/home/nbuser/anaconda3_501/lib/python3.6/site-packages/cvxpy/expressions/expression.py:516: UserWarning: \nThis use of ``*`` has resulted in matrix multiplication.\nUsing ``*`` for matrix multiplication has been deprecated since CVXPY 1.1.\n    Use ``*`` for matrix-scalar and vector-scalar multiplication.\n    Use ``@`` for matrix-matrix and matrix-vector multiplication.\n    Use ``multiply`` for elementwise multiplication.\n\n  warnings.warn(__STAR_MATMUL_WARNING__, UserWarning)\n/home/nbuser/anaconda3_501/lib/python3.6/site-packages/cvxpy/expressions/expression.py:516: UserWarning: \nThis use of ``*`` has resulted in matrix multiplication.\nUsing ``*`` for matrix multiplication has been deprecated since CVXPY 1.1.\n    Use ``*`` for matrix-scalar and vector-scalar multiplication.\n    Use ``@`` for matrix-matrix and matrix-vector multiplication.\n    Use ``multiply`` for elementwise multiplication.\n\n  warnings.warn(__STAR_MATMUL_WARNING__, UserWarning)\n",
          "name": "stderr"
        },
        {
          "output_type": "error",
          "ename": "SolverError",
          "evalue": "\n\n                    CVXPY needs additional software (a `mixed-integer solver`) to handle this model.\n                    The web documentation\n                        https://www.cvxpy.org/tutorial/advanced/index.html#mixed-integer-programs\n                    reviews open-source and commercial options for mixed-integer solvers.\n\n                    Quick fix: if you install the python package CVXOPT (pip install cvxopt),\n                    then CVXPY can use the open-source mixed-integer solver `GLPK`.\n                ",
          "traceback": [
            "\u001b[0;31m---------------------------------------------------------------------------\u001b[0m",
            "\u001b[0;31mSolverError\u001b[0m                               Traceback (most recent call last)",
            "\u001b[0;32m<ipython-input-16-3c4af77ede97>\u001b[0m in \u001b[0;36m<module>\u001b[0;34m\u001b[0m\n\u001b[1;32m     33\u001b[0m     \u001b[0;31m#T10\u001b[0m\u001b[0;34m\u001b[0m\u001b[0;34m\u001b[0m\u001b[0m\n\u001b[1;32m     34\u001b[0m     \u001b[0mprob\u001b[0m \u001b[0;34m=\u001b[0m \u001b[0mcp\u001b[0m\u001b[0;34m.\u001b[0m\u001b[0mProblem\u001b[0m\u001b[0;34m(\u001b[0m\u001b[0mobj\u001b[0m\u001b[0;34m,\u001b[0m \u001b[0mconstraints\u001b[0m\u001b[0;34m)\u001b[0m\u001b[0;34m\u001b[0m\u001b[0m\n\u001b[0;32m---> 35\u001b[0;31m     \u001b[0mprob\u001b[0m\u001b[0;34m.\u001b[0m\u001b[0msolve\u001b[0m\u001b[0;34m(\u001b[0m\u001b[0;34m)\u001b[0m  \u001b[0;31m# Returns the optimal value.\u001b[0m\u001b[0;34m\u001b[0m\u001b[0m\n\u001b[0m\u001b[1;32m     36\u001b[0m     \u001b[0mopt_team\u001b[0m \u001b[0;34m=\u001b[0m \u001b[0mdf_now\u001b[0m\u001b[0;34m[\u001b[0m\u001b[0;34m'Name'\u001b[0m\u001b[0;34m]\u001b[0m\u001b[0;34m[\u001b[0m\u001b[0mx\u001b[0m\u001b[0;34m.\u001b[0m\u001b[0mvalue\u001b[0m\u001b[0;34m>\u001b[0m\u001b[0;36m.5\u001b[0m\u001b[0;34m]\u001b[0m\u001b[0;34m.\u001b[0m\u001b[0mtolist\u001b[0m\u001b[0;34m(\u001b[0m\u001b[0;34m)\u001b[0m\u001b[0;34m\u001b[0m\u001b[0m\n\u001b[1;32m     37\u001b[0m     \u001b[0mopt_teams\u001b[0m\u001b[0;34m.\u001b[0m\u001b[0mappend\u001b[0m\u001b[0;34m(\u001b[0m\u001b[0mopt_team\u001b[0m\u001b[0;34m)\u001b[0m\u001b[0;34m\u001b[0m\u001b[0m\n",
            "\u001b[0;32m~/anaconda3_501/lib/python3.6/site-packages/cvxpy/problems/problem.py\u001b[0m in \u001b[0;36msolve\u001b[0;34m(self, *args, **kwargs)\u001b[0m\n\u001b[1;32m    393\u001b[0m         \u001b[0;32melse\u001b[0m\u001b[0;34m:\u001b[0m\u001b[0;34m\u001b[0m\u001b[0m\n\u001b[1;32m    394\u001b[0m             \u001b[0msolve_func\u001b[0m \u001b[0;34m=\u001b[0m \u001b[0mProblem\u001b[0m\u001b[0;34m.\u001b[0m\u001b[0m_solve\u001b[0m\u001b[0;34m\u001b[0m\u001b[0m\n\u001b[0;32m--> 395\u001b[0;31m         \u001b[0;32mreturn\u001b[0m \u001b[0msolve_func\u001b[0m\u001b[0;34m(\u001b[0m\u001b[0mself\u001b[0m\u001b[0;34m,\u001b[0m \u001b[0;34m*\u001b[0m\u001b[0margs\u001b[0m\u001b[0;34m,\u001b[0m \u001b[0;34m**\u001b[0m\u001b[0mkwargs\u001b[0m\u001b[0;34m)\u001b[0m\u001b[0;34m\u001b[0m\u001b[0m\n\u001b[0m\u001b[1;32m    396\u001b[0m \u001b[0;34m\u001b[0m\u001b[0m\n\u001b[1;32m    397\u001b[0m     \u001b[0;34m@\u001b[0m\u001b[0mclassmethod\u001b[0m\u001b[0;34m\u001b[0m\u001b[0m\n",
            "\u001b[0;32m~/anaconda3_501/lib/python3.6/site-packages/cvxpy/problems/problem.py\u001b[0m in \u001b[0;36m_solve\u001b[0;34m(self, solver, warm_start, verbose, gp, qcp, requires_grad, enforce_dpp, **kwargs)\u001b[0m\n\u001b[1;32m    742\u001b[0m \u001b[0;34m\u001b[0m\u001b[0m\n\u001b[1;32m    743\u001b[0m         data, solving_chain, inverse_data = self.get_problem_data(\n\u001b[0;32m--> 744\u001b[0;31m             solver, gp, enforce_dpp)\n\u001b[0m\u001b[1;32m    745\u001b[0m         solution = solving_chain.solve_via_data(\n\u001b[1;32m    746\u001b[0m             self, data, warm_start, verbose, kwargs)\n",
            "\u001b[0;32m~/anaconda3_501/lib/python3.6/site-packages/cvxpy/problems/problem.py\u001b[0m in \u001b[0;36mget_problem_data\u001b[0;34m(self, solver, gp, enforce_dpp)\u001b[0m\n\u001b[1;32m    497\u001b[0m             \u001b[0mself\u001b[0m\u001b[0;34m.\u001b[0m\u001b[0m_cache\u001b[0m\u001b[0;34m.\u001b[0m\u001b[0minvalidate\u001b[0m\u001b[0;34m(\u001b[0m\u001b[0;34m)\u001b[0m\u001b[0;34m\u001b[0m\u001b[0m\n\u001b[1;32m    498\u001b[0m             solving_chain = self._construct_chain(\n\u001b[0;32m--> 499\u001b[0;31m                 solver=solver, gp=gp, enforce_dpp=enforce_dpp)\n\u001b[0m\u001b[1;32m    500\u001b[0m             \u001b[0mself\u001b[0m\u001b[0;34m.\u001b[0m\u001b[0m_cache\u001b[0m\u001b[0;34m.\u001b[0m\u001b[0mkey\u001b[0m \u001b[0;34m=\u001b[0m \u001b[0mkey\u001b[0m\u001b[0;34m\u001b[0m\u001b[0m\n\u001b[1;32m    501\u001b[0m             \u001b[0mself\u001b[0m\u001b[0;34m.\u001b[0m\u001b[0m_cache\u001b[0m\u001b[0;34m.\u001b[0m\u001b[0msolving_chain\u001b[0m \u001b[0;34m=\u001b[0m \u001b[0msolving_chain\u001b[0m\u001b[0;34m\u001b[0m\u001b[0m\n",
            "\u001b[0;32m~/anaconda3_501/lib/python3.6/site-packages/cvxpy/problems/problem.py\u001b[0m in \u001b[0;36m_construct_chain\u001b[0;34m(self, solver, gp, enforce_dpp)\u001b[0m\n\u001b[1;32m    648\u001b[0m         \u001b[0mA\u001b[0m \u001b[0msolving\u001b[0m \u001b[0mchain\u001b[0m\u001b[0;34m\u001b[0m\u001b[0m\n\u001b[1;32m    649\u001b[0m         \"\"\"\n\u001b[0;32m--> 650\u001b[0;31m         \u001b[0mcandidate_solvers\u001b[0m \u001b[0;34m=\u001b[0m \u001b[0mself\u001b[0m\u001b[0;34m.\u001b[0m\u001b[0m_find_candidate_solvers\u001b[0m\u001b[0;34m(\u001b[0m\u001b[0msolver\u001b[0m\u001b[0;34m=\u001b[0m\u001b[0msolver\u001b[0m\u001b[0;34m,\u001b[0m \u001b[0mgp\u001b[0m\u001b[0;34m=\u001b[0m\u001b[0mgp\u001b[0m\u001b[0;34m)\u001b[0m\u001b[0;34m\u001b[0m\u001b[0m\n\u001b[0m\u001b[1;32m    651\u001b[0m         return construct_solving_chain(self, candidate_solvers, gp=gp,\n\u001b[1;32m    652\u001b[0m                                        enforce_dpp=enforce_dpp)\n",
            "\u001b[0;32m~/anaconda3_501/lib/python3.6/site-packages/cvxpy/problems/problem.py\u001b[0m in \u001b[0;36m_find_candidate_solvers\u001b[0;34m(self, solver, gp)\u001b[0m\n\u001b[1;32m    607\u001b[0m                     \u001b[0mthen\u001b[0m \u001b[0mCVXPY\u001b[0m \u001b[0mcan\u001b[0m \u001b[0muse\u001b[0m \u001b[0mthe\u001b[0m \u001b[0mopen\u001b[0m\u001b[0;34m-\u001b[0m\u001b[0msource\u001b[0m \u001b[0mmixed\u001b[0m\u001b[0;34m-\u001b[0m\u001b[0minteger\u001b[0m \u001b[0msolver\u001b[0m\u001b[0;31m \u001b[0m\u001b[0;31m`\u001b[0m\u001b[0mGLPK\u001b[0m\u001b[0;31m`\u001b[0m\u001b[0;34m.\u001b[0m\u001b[0;34m\u001b[0m\u001b[0m\n\u001b[1;32m    608\u001b[0m                 \"\"\"\n\u001b[0;32m--> 609\u001b[0;31m                 \u001b[0;32mraise\u001b[0m \u001b[0merror\u001b[0m\u001b[0;34m.\u001b[0m\u001b[0mSolverError\u001b[0m\u001b[0;34m(\u001b[0m\u001b[0mmsg\u001b[0m\u001b[0;34m)\u001b[0m\u001b[0;34m\u001b[0m\u001b[0m\n\u001b[0m\u001b[1;32m    610\u001b[0m             candidates['qp_solvers'] = [\n\u001b[1;32m    611\u001b[0m                 \u001b[0ms\u001b[0m \u001b[0;32mfor\u001b[0m \u001b[0ms\u001b[0m \u001b[0;32min\u001b[0m \u001b[0mcandidates\u001b[0m\u001b[0;34m[\u001b[0m\u001b[0;34m'qp_solvers'\u001b[0m\u001b[0;34m]\u001b[0m\u001b[0;34m\u001b[0m\u001b[0m\n",
            "\u001b[0;31mSolverError\u001b[0m: \n\n                    CVXPY needs additional software (a `mixed-integer solver`) to handle this model.\n                    The web documentation\n                        https://www.cvxpy.org/tutorial/advanced/index.html#mixed-integer-programs\n                    reviews open-source and commercial options for mixed-integer solvers.\n\n                    Quick fix: if you install the python package CVXOPT (pip install cvxopt),\n                    then CVXPY can use the open-source mixed-integer solver `GLPK`.\n                "
          ]
        }
      ]
    },
    {
      "metadata": {
        "trusted": true
      },
      "cell_type": "code",
      "source": "#Opt by top 20\nopt_teams_T20 = []\ndf_now = df_all.copy()\n\n#Filter down remaining players by sal\ndf_now = df_now[(df_now.Salary>=min_sal) &\n               (df_now.Salary<=max_sal)]\ndf_now = df_now[~df_now.Name.isin(lock)]\n\ndf_now = df_now[~ df_now.Name.isin(to_remove)]\n\n\nfor j in np.arange(num_teams):\n    s = df_now.Salary.values\n    c = df_now.make_cut*100\n    T20 = df_now['top_20']*100\n    T10 = df_now['top_10']*100\n    w = df_now['win']*100\n    n = len(df_now)\n    x = cp.Variable(n,boolean=True)\n    cap = 50000\n    constraints = [cp.sum(x) == players_left,\n                 x*s <= sal_left]\n\n    # Form objective.\n    obj = cp.Maximize(x*T20)\n    #obj2 = cp.Maximize(x*T20)\n    #obj3 = cp.Maximize(x*c)\n\n    prob = cp.Problem(obj, constraints)\n    prob.solve()  # Returns the optimal value.\n    opt_team = df_now['Name'][x.value>.5].tolist()\n    opt_teams_T20.append(opt_team)\n    print('Team {} (obj = {:.1f}):'.format(j+1,prob.value),opt_team)\n    \n    #delet opt team\n    #print(len(df_now))\n    df_now = df_now[~df_now['Name'].isin(opt_team)]\n    #print(len(df_now))",
      "execution_count": 22,
      "outputs": [
        {
          "output_type": "stream",
          "text": "Team 1 (obj = 190.2): ['Thomas Pieters', 'Paul Waring', 'Benjamin Hebert', 'Romain Langasque', 'Richie Ramsay', 'Kalle Samooja']\nTeam 2 (obj = 170.5): ['Martin Kaymer', 'Thomas Detry', 'Renato Paratore', 'Mikko Korhonen', 'Scott Jamieson', 'Francesco Laporta']\nTeam 3 (obj = 145.8): ['Gavin Green', 'Adri Arnaus', 'Jason Scrivener', 'Jordan L. Smith', 'Joakim Lagergren', 'Jack Senior']\nTeam 4 (obj = 138.3): ['Andy Sullivan', 'Hao-Tong Li', 'George Coetzee', 'Dean Burmester', 'Matthieu Pavon', 'Jack Singh Brar']\nTeam 5 (obj = 126.6): ['Ross Fisher', 'Min Woo Lee', 'Sam Horsfield', 'Zander Lombard', 'Calum Hill', 'Joachim B. Hansen']\nTeam 6 (obj = 111.9): ['Guido Migliozzi', 'Nicolas Colsaerts', 'Aaron Rai', 'Victor Dubuisson', 'Pablo Larrazabal', 'Jeff Winther']\n",
          "name": "stdout"
        }
      ]
    },
    {
      "metadata": {
        "trusted": true
      },
      "cell_type": "code",
      "source": "for num_teams in np.arange(1,num_teams+1):\n    print('In top {} teams:'.format(num_teams))\n    cut_not_t20 = set(np.hstack(opt_teams[:num_teams])) - set(np.hstack(opt_teams_T20[:num_teams]))\n    t20_not_cut = set(np.hstack(opt_teams_T20[:num_teams])) - set(np.hstack(opt_teams[:num_teams]))\n    print('\\tIn made-cut, not Top 20:',cut_not_t20)\n    print('\\tIn Top 20, not made-cut:',t20_not_cut)",
      "execution_count": 23,
      "outputs": [
        {
          "output_type": "stream",
          "text": "In top 1 teams:\n\tIn made-cut, not Top 20: {'Martin Kaymer', 'Mikko Korhonen'}\n\tIn Top 20, not made-cut: {'Kalle Samooja', 'Thomas Pieters'}\nIn top 2 teams:\n\tIn made-cut, not Top 20: {'Joakim Lagergren'}\n\tIn Top 20, not made-cut: {'Francesco Laporta'}\nIn top 3 teams:\n\tIn made-cut, not Top 20: {'Jack Singh Brar', 'Hao-Tong Li'}\n\tIn Top 20, not made-cut: {'Jack Senior', 'Adri Arnaus'}\nIn top 4 teams:\n\tIn made-cut, not Top 20: {'Edoardo Molinari', 'Sam Horsfield'}\n\tIn Top 20, not made-cut: {'Jack Senior', 'Matthieu Pavon'}\nIn top 5 teams:\n\tIn made-cut, not Top 20: {'Edoardo Molinari', 'Aaron Rai'}\n\tIn Top 20, not made-cut: {'Calum Hill', 'Zander Lombard'}\nIn top 6 teams:\n\tIn made-cut, not Top 20: {'Edoardo Molinari'}\n\tIn Top 20, not made-cut: {'Nicolas Colsaerts'}\n",
          "name": "stdout"
        }
      ]
    },
    {
      "metadata": {
        "trusted": true
      },
      "cell_type": "code",
      "source": "# num_teams = 3\n# cut_not_t20= set(np.hstack(opt_teams[:num_teams])) - set(np.hstack(opt_teams_T20[:num_teams]))\n# print('In made-cut team, not Top 20:',cut_not_t20)",
      "execution_count": 21,
      "outputs": []
    },
    {
      "metadata": {
        "trusted": true
      },
      "cell_type": "code",
      "source": "# print('In top 20, not made-cut:')\n# print(set(np.hstack(opt_teams_T20[:num_teams])) - set(np.hstack(opt_teams[:num_teams])))",
      "execution_count": 22,
      "outputs": []
    },
    {
      "metadata": {
        "trusted": true
      },
      "cell_type": "markdown",
      "source": "## Creat lineups as csv"
    },
    {
      "metadata": {
        "trusted": true
      },
      "cell_type": "code",
      "source": "",
      "execution_count": null,
      "outputs": []
    },
    {
      "metadata": {
        "trusted": true
      },
      "cell_type": "code",
      "source": "#Assign exposures for top j teams\nexposures = [50,45,40]\nif len(exposures)<len(opt_teams_T20):\n    exposures = exposures + [0]*(len(opt_teams_T20)-len(exposures))\nexposures",
      "execution_count": 24,
      "outputs": [
        {
          "output_type": "execute_result",
          "execution_count": 24,
          "data": {
            "text/plain": "[50, 45, 40, 0, 0, 0]"
          },
          "metadata": {}
        }
      ]
    },
    {
      "metadata": {
        "trusted": true
      },
      "cell_type": "code",
      "source": "#Create df to hold player pool\ndf_teams = df2[['Name + ID','Name','Salary']]\ndf_teams.sort_values(by='Salary',ascending=False,inplace=True)\ndf_teams['Exposure'] = 0\ndf_teams.head(2)",
      "execution_count": 25,
      "outputs": [
        {
          "output_type": "stream",
          "text": "/home/nbuser/anaconda3_501/lib/python3.6/site-packages/ipykernel/__main__.py:3: SettingWithCopyWarning: \nA value is trying to be set on a copy of a slice from a DataFrame\n\nSee the caveats in the documentation: http://pandas.pydata.org/pandas-docs/stable/indexing.html#indexing-view-versus-copy\n  app.launch_new_instance()\n/home/nbuser/anaconda3_501/lib/python3.6/site-packages/ipykernel/__main__.py:4: SettingWithCopyWarning: \nA value is trying to be set on a copy of a slice from a DataFrame.\nTry using .loc[row_indexer,col_indexer] = value instead\n\nSee the caveats in the documentation: http://pandas.pydata.org/pandas-docs/stable/indexing.html#indexing-view-versus-copy\n",
          "name": "stderr"
        },
        {
          "output_type": "execute_result",
          "execution_count": 25,
          "data": {
            "text/html": "<div>\n<style scoped>\n    .dataframe tbody tr th:only-of-type {\n        vertical-align: middle;\n    }\n\n    .dataframe tbody tr th {\n        vertical-align: top;\n    }\n\n    .dataframe thead th {\n        text-align: right;\n    }\n</style>\n<table border=\"1\" class=\"dataframe\">\n  <thead>\n    <tr style=\"text-align: right;\">\n      <th></th>\n      <th>Name + ID</th>\n      <th>Name</th>\n      <th>Salary</th>\n      <th>Exposure</th>\n    </tr>\n  </thead>\n  <tbody>\n    <tr>\n      <th>0</th>\n      <td>Thomas Pieters (14344121)</td>\n      <td>Thomas Pieters</td>\n      <td>10600.0</td>\n      <td>0</td>\n    </tr>\n    <tr>\n      <th>1</th>\n      <td>Martin Kaymer (14344122)</td>\n      <td>Martin Kaymer</td>\n      <td>10200.0</td>\n      <td>0</td>\n    </tr>\n  </tbody>\n</table>\n</div>",
            "text/plain": "                   Name + ID            Name   Salary  Exposure\n0  Thomas Pieters (14344121)  Thomas Pieters  10600.0         0\n1   Martin Kaymer (14344122)   Martin Kaymer  10200.0         0"
          },
          "metadata": {}
        }
      ]
    },
    {
      "metadata": {
        "trusted": true
      },
      "cell_type": "code",
      "source": "#Use opt_teams or opt_teams_T20\nfor i, team in enumerate(opt_teams_T20):\n    df_teams.Exposure = np.where(df_teams.Name.isin(team),exposures[i],df_teams.Exposure)\n\n#Add more players\nmore_players = {}\n\n#add those in made cut\nnum_teams_used = len([e for e in exposures if e>0])\ncut_not_t20 = set(np.hstack(opt_teams[:num_teams_used])) - set(np.hstack(opt_teams_T20[:num_teams_used]))\nfor p in cut_not_t20:\n    more_players[p] = 30\n    _\n\n#Add any additional people\n# more_players['Brooks Koepka']=25\n# more_players['Erik Van Rooyen'] = 40\n# more_players['Mikko Korhonen'] = 40\n# # more_players['Thomas Detry']=100\n# # more_players['Christiaan Bezuidenhout']=100\n# # more_players['Thomas Detry'] = 100\n# # more_players['Christiaan Bezuidenhout'] = 100\n# #Fix these clear blind spots in DG model\n# more_players['Bernd Wiesberger'] = 40\n# more_players['Gavin Green'] = 40\n# more_players['Scott Jamieson'] = 40\n# more_players['Andy Sullivan'] = 40\n# more_players['Jack Singh Brar'] = 40\nfor p in list(more_players.keys()):\n    df_teams.Exposure = np.where(df_teams.Name==p,more_players[p],df_teams.Exposure)\n    \ndf_teams = df_teams[df_teams.Exposure > 0]\ndf_teams['Actual Exposure'] = 0\ndf_teams.reset_index(drop=True,inplace=True)\ndf_teams",
      "execution_count": 26,
      "outputs": [
        {
          "output_type": "stream",
          "text": "/home/nbuser/anaconda3_501/lib/python3.6/site-packages/pandas/core/generic.py:4405: SettingWithCopyWarning: \nA value is trying to be set on a copy of a slice from a DataFrame.\nTry using .loc[row_indexer,col_indexer] = value instead\n\nSee the caveats in the documentation: http://pandas.pydata.org/pandas-docs/stable/indexing.html#indexing-view-versus-copy\n  self[name] = value\n",
          "name": "stderr"
        },
        {
          "output_type": "execute_result",
          "execution_count": 26,
          "data": {
            "text/html": "<div>\n<style scoped>\n    .dataframe tbody tr th:only-of-type {\n        vertical-align: middle;\n    }\n\n    .dataframe tbody tr th {\n        vertical-align: top;\n    }\n\n    .dataframe thead th {\n        text-align: right;\n    }\n</style>\n<table border=\"1\" class=\"dataframe\">\n  <thead>\n    <tr style=\"text-align: right;\">\n      <th></th>\n      <th>Name + ID</th>\n      <th>Name</th>\n      <th>Salary</th>\n      <th>Exposure</th>\n      <th>Actual Exposure</th>\n    </tr>\n  </thead>\n  <tbody>\n    <tr>\n      <th>0</th>\n      <td>Thomas Pieters (14344121)</td>\n      <td>Thomas Pieters</td>\n      <td>10600.0</td>\n      <td>50</td>\n      <td>0</td>\n    </tr>\n    <tr>\n      <th>1</th>\n      <td>Martin Kaymer (14344122)</td>\n      <td>Martin Kaymer</td>\n      <td>10200.0</td>\n      <td>45</td>\n      <td>0</td>\n    </tr>\n    <tr>\n      <th>2</th>\n      <td>Thomas Detry (14344123)</td>\n      <td>Thomas Detry</td>\n      <td>10000.0</td>\n      <td>45</td>\n      <td>0</td>\n    </tr>\n    <tr>\n      <th>3</th>\n      <td>Adri Arnaus (14344126)</td>\n      <td>Adri Arnaus</td>\n      <td>9400.0</td>\n      <td>40</td>\n      <td>0</td>\n    </tr>\n    <tr>\n      <th>4</th>\n      <td>Hao-Tong Li (14344127)</td>\n      <td>Hao-Tong Li</td>\n      <td>9300.0</td>\n      <td>30</td>\n      <td>0</td>\n    </tr>\n    <tr>\n      <th>5</th>\n      <td>Gavin Green (14344128)</td>\n      <td>Gavin Green</td>\n      <td>9200.0</td>\n      <td>40</td>\n      <td>0</td>\n    </tr>\n    <tr>\n      <th>6</th>\n      <td>Jordan L. Smith (14344130)</td>\n      <td>Jordan L. Smith</td>\n      <td>9000.0</td>\n      <td>40</td>\n      <td>0</td>\n    </tr>\n    <tr>\n      <th>7</th>\n      <td>Paul Waring (14344134)</td>\n      <td>Paul Waring</td>\n      <td>8600.0</td>\n      <td>50</td>\n      <td>0</td>\n    </tr>\n    <tr>\n      <th>8</th>\n      <td>Romain Langasque (14344137)</td>\n      <td>Romain Langasque</td>\n      <td>8300.0</td>\n      <td>50</td>\n      <td>0</td>\n    </tr>\n    <tr>\n      <th>9</th>\n      <td>Jason Scrivener (14344138)</td>\n      <td>Jason Scrivener</td>\n      <td>8200.0</td>\n      <td>40</td>\n      <td>0</td>\n    </tr>\n    <tr>\n      <th>10</th>\n      <td>Benjamin Hebert (14344141)</td>\n      <td>Benjamin Hebert</td>\n      <td>7900.0</td>\n      <td>50</td>\n      <td>0</td>\n    </tr>\n    <tr>\n      <th>11</th>\n      <td>Renato Paratore (14344144)</td>\n      <td>Renato Paratore</td>\n      <td>7800.0</td>\n      <td>45</td>\n      <td>0</td>\n    </tr>\n    <tr>\n      <th>12</th>\n      <td>Scott Jamieson (14344149)</td>\n      <td>Scott Jamieson</td>\n      <td>7600.0</td>\n      <td>45</td>\n      <td>0</td>\n    </tr>\n    <tr>\n      <th>13</th>\n      <td>Mikko Korhonen (14344150)</td>\n      <td>Mikko Korhonen</td>\n      <td>7500.0</td>\n      <td>45</td>\n      <td>0</td>\n    </tr>\n    <tr>\n      <th>14</th>\n      <td>Jack Singh Brar (14344154)</td>\n      <td>Jack Singh Brar</td>\n      <td>7400.0</td>\n      <td>30</td>\n      <td>0</td>\n    </tr>\n    <tr>\n      <th>15</th>\n      <td>Richie Ramsay (14344161)</td>\n      <td>Richie Ramsay</td>\n      <td>7300.0</td>\n      <td>50</td>\n      <td>0</td>\n    </tr>\n    <tr>\n      <th>16</th>\n      <td>Jack Senior (14344166)</td>\n      <td>Jack Senior</td>\n      <td>7200.0</td>\n      <td>40</td>\n      <td>0</td>\n    </tr>\n    <tr>\n      <th>17</th>\n      <td>Joakim Lagergren (14344175)</td>\n      <td>Joakim Lagergren</td>\n      <td>7000.0</td>\n      <td>40</td>\n      <td>0</td>\n    </tr>\n    <tr>\n      <th>18</th>\n      <td>Kalle Samooja (14344174)</td>\n      <td>Kalle Samooja</td>\n      <td>7000.0</td>\n      <td>50</td>\n      <td>0</td>\n    </tr>\n    <tr>\n      <th>19</th>\n      <td>Francesco Laporta (14344184)</td>\n      <td>Francesco Laporta</td>\n      <td>6900.0</td>\n      <td>45</td>\n      <td>0</td>\n    </tr>\n  </tbody>\n</table>\n</div>",
            "text/plain": "                       Name + ID               Name   Salary  Exposure  \\\n0      Thomas Pieters (14344121)     Thomas Pieters  10600.0        50   \n1       Martin Kaymer (14344122)      Martin Kaymer  10200.0        45   \n2        Thomas Detry (14344123)       Thomas Detry  10000.0        45   \n3         Adri Arnaus (14344126)        Adri Arnaus   9400.0        40   \n4         Hao-Tong Li (14344127)        Hao-Tong Li   9300.0        30   \n5         Gavin Green (14344128)        Gavin Green   9200.0        40   \n6     Jordan L. Smith (14344130)    Jordan L. Smith   9000.0        40   \n7         Paul Waring (14344134)        Paul Waring   8600.0        50   \n8    Romain Langasque (14344137)   Romain Langasque   8300.0        50   \n9     Jason Scrivener (14344138)    Jason Scrivener   8200.0        40   \n10    Benjamin Hebert (14344141)    Benjamin Hebert   7900.0        50   \n11    Renato Paratore (14344144)    Renato Paratore   7800.0        45   \n12     Scott Jamieson (14344149)     Scott Jamieson   7600.0        45   \n13     Mikko Korhonen (14344150)     Mikko Korhonen   7500.0        45   \n14    Jack Singh Brar (14344154)    Jack Singh Brar   7400.0        30   \n15      Richie Ramsay (14344161)      Richie Ramsay   7300.0        50   \n16        Jack Senior (14344166)        Jack Senior   7200.0        40   \n17   Joakim Lagergren (14344175)   Joakim Lagergren   7000.0        40   \n18      Kalle Samooja (14344174)      Kalle Samooja   7000.0        50   \n19  Francesco Laporta (14344184)  Francesco Laporta   6900.0        45   \n\n    Actual Exposure  \n0                 0  \n1                 0  \n2                 0  \n3                 0  \n4                 0  \n5                 0  \n6                 0  \n7                 0  \n8                 0  \n9                 0  \n10                0  \n11                0  \n12                0  \n13                0  \n14                0  \n15                0  \n16                0  \n17                0  \n18                0  \n19                0  "
          },
          "metadata": {}
        }
      ]
    },
    {
      "metadata": {
        "trusted": true
      },
      "cell_type": "code",
      "source": "#initialize df_lineups, which will be written to csv\ndf_lineups = pd.DataFrame(columns=['G1','G2','G3','G4','G5','G6'])\ndf_lineups",
      "execution_count": 27,
      "outputs": [
        {
          "output_type": "execute_result",
          "execution_count": 27,
          "data": {
            "text/html": "<div>\n<style scoped>\n    .dataframe tbody tr th:only-of-type {\n        vertical-align: middle;\n    }\n\n    .dataframe tbody tr th {\n        vertical-align: top;\n    }\n\n    .dataframe thead th {\n        text-align: right;\n    }\n</style>\n<table border=\"1\" class=\"dataframe\">\n  <thead>\n    <tr style=\"text-align: right;\">\n      <th></th>\n      <th>G1</th>\n      <th>G2</th>\n      <th>G3</th>\n      <th>G4</th>\n      <th>G5</th>\n      <th>G6</th>\n    </tr>\n  </thead>\n  <tbody>\n  </tbody>\n</table>\n</div>",
            "text/plain": "Empty DataFrame\nColumns: [G1, G2, G3, G4, G5, G6]\nIndex: []"
          },
          "metadata": {}
        }
      ]
    },
    {
      "metadata": {
        "trusted": true
      },
      "cell_type": "code",
      "source": "#First, need a function that picks elements from list L with probabilies probs\ndef pick_element_per_probs(L,probs):\n    #make sure probs are normalized\n    probs = [x / sum(probs) for x in probs]\n    #pick a random number\n    r = np.random.random()\n    c = 0 #cumulative sum\n    for i, prob in enumerate(probs):\n        if r < prob + c:\n            return L[i]\n        c += prob",
      "execution_count": 28,
      "outputs": []
    },
    {
      "metadata": {
        "trusted": true
      },
      "cell_type": "code",
      "source": "#Now start churning\n#Now set parameters for number of teams and salary limits\nnum_teams = 44\nmin_sal = 49300 - sal_used\nmax_sal = 50000 - sal_used\n\n#Reset df_teams\ndf_teams['Actual Exposure'] = 0\n\nm = 0 #Completed teams so far\nwhile (m < num_teams):\n    #pick 6 players per probabilties\n    curr_team = []\n#     for p in lock_full_names:\n#         curr_team.append(p)\n    #print(curr_team)\n    df_now = df_teams.copy()\n    players = df_now['Name + ID'].tolist()\n    probs = df_now['Exposure'].tolist()\n    for i in range(players_left):\n        p = pick_element_per_probs(players,probs)\n        curr_team.append(p)\n        df_now = df_now[df_now['Name + ID']!=p]\n        players = df_now['Name + ID'].tolist()\n        probs = df_now['Exposure'].tolist()\n    #Now curr_team is list of 6 names.  Check if salary matches\n    df_now = df_teams[df_teams['Name + ID'].isin(curr_team)]\n    total_sal = df_now.Salary.sum()\n    if (total_sal < min_sal or total_sal > max_sal):\n        continue\n    \n#     print('Salary good for team:',curr_team)\n#     print(df_now)\n    #Put team in order of decreasing salary\n    df_now.sort_values(by='Salary',ascending=False,inplace=True)\n    #curr_team = df_now['Name + ID'].tolist()\n    curr_team = lock_full_names + df_now['Name + ID'].tolist()\n    #print(curr_team)\n    #Check if team has shown up before in df_lineups\n    df3 = (df_lineups == np.array(curr_team))\n    old_team = df3.transpose().all().any() #True if team is already in df_lineups\n    if old_team:\n        continue\n        \n    #OK, so now we have a new team!  Add it to df_lineups\n    df_lineups.loc[m] = curr_team\n    #Also update 'Actual Exposure' in df_teams\n    new_players = np.where(df_teams['Name + ID'].isin(curr_team),1,0)\n    df_teams['Actual Exposure'] = df_teams['Actual Exposure'] + new_players\n    \n    #Finally incredment m\n    m += 1\n    #print('Team {}, sal = {}'.format(m,total_sal))\n    \ndf_teams[['Name + ID','Actual Exposure',\n         'Exposure','Salary']]",
      "execution_count": 29,
      "outputs": [
        {
          "output_type": "stream",
          "text": "/home/nbuser/anaconda3_501/lib/python3.6/site-packages/ipykernel/__main__.py:35: SettingWithCopyWarning: \nA value is trying to be set on a copy of a slice from a DataFrame\n\nSee the caveats in the documentation: http://pandas.pydata.org/pandas-docs/stable/indexing.html#indexing-view-versus-copy\n",
          "name": "stderr"
        },
        {
          "output_type": "execute_result",
          "execution_count": 29,
          "data": {
            "text/html": "<div>\n<style scoped>\n    .dataframe tbody tr th:only-of-type {\n        vertical-align: middle;\n    }\n\n    .dataframe tbody tr th {\n        vertical-align: top;\n    }\n\n    .dataframe thead th {\n        text-align: right;\n    }\n</style>\n<table border=\"1\" class=\"dataframe\">\n  <thead>\n    <tr style=\"text-align: right;\">\n      <th></th>\n      <th>Name + ID</th>\n      <th>Actual Exposure</th>\n      <th>Exposure</th>\n      <th>Salary</th>\n    </tr>\n  </thead>\n  <tbody>\n    <tr>\n      <th>0</th>\n      <td>Thomas Pieters (14344121)</td>\n      <td>16</td>\n      <td>50</td>\n      <td>10600.0</td>\n    </tr>\n    <tr>\n      <th>1</th>\n      <td>Martin Kaymer (14344122)</td>\n      <td>12</td>\n      <td>45</td>\n      <td>10200.0</td>\n    </tr>\n    <tr>\n      <th>2</th>\n      <td>Thomas Detry (14344123)</td>\n      <td>11</td>\n      <td>45</td>\n      <td>10000.0</td>\n    </tr>\n    <tr>\n      <th>3</th>\n      <td>Adri Arnaus (14344126)</td>\n      <td>14</td>\n      <td>40</td>\n      <td>9400.0</td>\n    </tr>\n    <tr>\n      <th>4</th>\n      <td>Hao-Tong Li (14344127)</td>\n      <td>11</td>\n      <td>30</td>\n      <td>9300.0</td>\n    </tr>\n    <tr>\n      <th>5</th>\n      <td>Gavin Green (14344128)</td>\n      <td>10</td>\n      <td>40</td>\n      <td>9200.0</td>\n    </tr>\n    <tr>\n      <th>6</th>\n      <td>Jordan L. Smith (14344130)</td>\n      <td>11</td>\n      <td>40</td>\n      <td>9000.0</td>\n    </tr>\n    <tr>\n      <th>7</th>\n      <td>Paul Waring (14344134)</td>\n      <td>14</td>\n      <td>50</td>\n      <td>8600.0</td>\n    </tr>\n    <tr>\n      <th>8</th>\n      <td>Romain Langasque (14344137)</td>\n      <td>15</td>\n      <td>50</td>\n      <td>8300.0</td>\n    </tr>\n    <tr>\n      <th>9</th>\n      <td>Jason Scrivener (14344138)</td>\n      <td>13</td>\n      <td>40</td>\n      <td>8200.0</td>\n    </tr>\n    <tr>\n      <th>10</th>\n      <td>Benjamin Hebert (14344141)</td>\n      <td>13</td>\n      <td>50</td>\n      <td>7900.0</td>\n    </tr>\n    <tr>\n      <th>11</th>\n      <td>Renato Paratore (14344144)</td>\n      <td>13</td>\n      <td>45</td>\n      <td>7800.0</td>\n    </tr>\n    <tr>\n      <th>12</th>\n      <td>Scott Jamieson (14344149)</td>\n      <td>12</td>\n      <td>45</td>\n      <td>7600.0</td>\n    </tr>\n    <tr>\n      <th>13</th>\n      <td>Mikko Korhonen (14344150)</td>\n      <td>19</td>\n      <td>45</td>\n      <td>7500.0</td>\n    </tr>\n    <tr>\n      <th>14</th>\n      <td>Jack Singh Brar (14344154)</td>\n      <td>5</td>\n      <td>30</td>\n      <td>7400.0</td>\n    </tr>\n    <tr>\n      <th>15</th>\n      <td>Richie Ramsay (14344161)</td>\n      <td>17</td>\n      <td>50</td>\n      <td>7300.0</td>\n    </tr>\n    <tr>\n      <th>16</th>\n      <td>Jack Senior (14344166)</td>\n      <td>10</td>\n      <td>40</td>\n      <td>7200.0</td>\n    </tr>\n    <tr>\n      <th>17</th>\n      <td>Joakim Lagergren (14344175)</td>\n      <td>17</td>\n      <td>40</td>\n      <td>7000.0</td>\n    </tr>\n    <tr>\n      <th>18</th>\n      <td>Kalle Samooja (14344174)</td>\n      <td>17</td>\n      <td>50</td>\n      <td>7000.0</td>\n    </tr>\n    <tr>\n      <th>19</th>\n      <td>Francesco Laporta (14344184)</td>\n      <td>14</td>\n      <td>45</td>\n      <td>6900.0</td>\n    </tr>\n  </tbody>\n</table>\n</div>",
            "text/plain": "                       Name + ID  Actual Exposure  Exposure   Salary\n0      Thomas Pieters (14344121)               16        50  10600.0\n1       Martin Kaymer (14344122)               12        45  10200.0\n2        Thomas Detry (14344123)               11        45  10000.0\n3         Adri Arnaus (14344126)               14        40   9400.0\n4         Hao-Tong Li (14344127)               11        30   9300.0\n5         Gavin Green (14344128)               10        40   9200.0\n6     Jordan L. Smith (14344130)               11        40   9000.0\n7         Paul Waring (14344134)               14        50   8600.0\n8    Romain Langasque (14344137)               15        50   8300.0\n9     Jason Scrivener (14344138)               13        40   8200.0\n10    Benjamin Hebert (14344141)               13        50   7900.0\n11    Renato Paratore (14344144)               13        45   7800.0\n12     Scott Jamieson (14344149)               12        45   7600.0\n13     Mikko Korhonen (14344150)               19        45   7500.0\n14    Jack Singh Brar (14344154)                5        30   7400.0\n15      Richie Ramsay (14344161)               17        50   7300.0\n16        Jack Senior (14344166)               10        40   7200.0\n17   Joakim Lagergren (14344175)               17        40   7000.0\n18      Kalle Samooja (14344174)               17        50   7000.0\n19  Francesco Laporta (14344184)               14        45   6900.0"
          },
          "metadata": {}
        }
      ]
    },
    {
      "metadata": {
        "trusted": true
      },
      "cell_type": "code",
      "source": "#If you're good with actual exposure, then write it!\ndf_lineups.to_csv('Lineups/DK Entires Euro.csv')",
      "execution_count": 30,
      "outputs": []
    },
    {
      "metadata": {
        "trusted": true
      },
      "cell_type": "code",
      "source": "df_lineups['All'] = df_lineups.G1 + df_lineups.G2 + df_lineups.G3 + df_lineups.G4 + df_lineups.G5 + df_lineups.G6 \n#df_lineups[(df_lineups.All.str.contains('Casey'))]",
      "execution_count": 30,
      "outputs": []
    },
    {
      "metadata": {
        "trusted": true
      },
      "cell_type": "code",
      "source": "df_lineups[(df_lineups.All.str.contains('Higgs'))&\n          (df_lineups.All.str.contains('Scott'))&\n          (df_lineups.All.str.contains('Knox'))]",
      "execution_count": 31,
      "outputs": [
        {
          "output_type": "execute_result",
          "execution_count": 31,
          "data": {
            "text/html": "<div>\n<style scoped>\n    .dataframe tbody tr th:only-of-type {\n        vertical-align: middle;\n    }\n\n    .dataframe tbody tr th {\n        vertical-align: top;\n    }\n\n    .dataframe thead th {\n        text-align: right;\n    }\n</style>\n<table border=\"1\" class=\"dataframe\">\n  <thead>\n    <tr style=\"text-align: right;\">\n      <th></th>\n      <th>G1</th>\n      <th>G2</th>\n      <th>G3</th>\n      <th>G4</th>\n      <th>G5</th>\n      <th>G6</th>\n      <th>All</th>\n    </tr>\n  </thead>\n  <tbody>\n  </tbody>\n</table>\n</div>",
            "text/plain": "Empty DataFrame\nColumns: [G1, G2, G3, G4, G5, G6, All]\nIndex: []"
          },
          "metadata": {}
        }
      ]
    },
    {
      "metadata": {
        "trusted": true
      },
      "cell_type": "code",
      "source": "",
      "execution_count": null,
      "outputs": []
    },
    {
      "metadata": {
        "trusted": true
      },
      "cell_type": "code",
      "source": "",
      "execution_count": null,
      "outputs": []
    },
    {
      "metadata": {
        "trusted": true
      },
      "cell_type": "code",
      "source": "",
      "execution_count": null,
      "outputs": []
    },
    {
      "metadata": {
        "trusted": true
      },
      "cell_type": "code",
      "source": "",
      "execution_count": null,
      "outputs": []
    },
    {
      "metadata": {
        "trusted": true
      },
      "cell_type": "code",
      "source": "",
      "execution_count": null,
      "outputs": []
    }
  ],
  "metadata": {
    "kernelspec": {
      "name": "python36",
      "display_name": "Python 3.6",
      "language": "python"
    },
    "language_info": {
      "mimetype": "text/x-python",
      "nbconvert_exporter": "python",
      "name": "python",
      "pygments_lexer": "ipython3",
      "version": "3.6.6",
      "file_extension": ".py",
      "codemirror_mode": {
        "version": 3,
        "name": "ipython"
      }
    }
  },
  "nbformat": 4,
  "nbformat_minor": 2
}