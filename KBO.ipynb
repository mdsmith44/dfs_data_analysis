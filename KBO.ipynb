{
  "cells": [
    {
      "metadata": {
        "trusted": true
      },
      "cell_type": "code",
      "source": "import pandas as pd\nimport numpy as np",
      "execution_count": 1,
      "outputs": []
    },
    {
      "metadata": {
        "trusted": true
      },
      "cell_type": "code",
      "source": "import cvxpy as cp",
      "execution_count": 2,
      "outputs": []
    },
    {
      "metadata": {
        "trusted": true
      },
      "cell_type": "code",
      "source": "df = pd.read_csv('Data/KBO_proj_20200510.csv')\ndf.head(12)",
      "execution_count": 16,
      "outputs": [
        {
          "output_type": "execute_result",
          "execution_count": 16,
          "data": {
            "text/html": "<div>\n<style scoped>\n    .dataframe tbody tr th:only-of-type {\n        vertical-align: middle;\n    }\n\n    .dataframe tbody tr th {\n        vertical-align: top;\n    }\n\n    .dataframe thead th {\n        text-align: right;\n    }\n</style>\n<table border=\"1\" class=\"dataframe\">\n  <thead>\n    <tr style=\"text-align: right;\">\n      <th></th>\n      <th>Name</th>\n      <th>Position</th>\n      <th>Team</th>\n      <th>Salary</th>\n      <th>FD</th>\n      <th>DK</th>\n    </tr>\n  </thead>\n  <tbody>\n    <tr>\n      <th>0</th>\n      <td>Hyun jong Yang</td>\n      <td>P</td>\n      <td>KIA</td>\n      <td>9500</td>\n      <td>30.62</td>\n      <td>18.60</td>\n    </tr>\n    <tr>\n      <th>1</th>\n      <td>Jake Brigham</td>\n      <td>P</td>\n      <td>KIW</td>\n      <td>8500</td>\n      <td>29.75</td>\n      <td>16.52</td>\n    </tr>\n    <tr>\n      <th>2</th>\n      <td>Tae hoon Kim</td>\n      <td>P</td>\n      <td>SK</td>\n      <td>6800</td>\n      <td>25.94</td>\n      <td>15.29</td>\n    </tr>\n    <tr>\n      <th>3</th>\n      <td>Casey Kelly</td>\n      <td>P</td>\n      <td>LG</td>\n      <td>8000</td>\n      <td>28.49</td>\n      <td>13.96</td>\n    </tr>\n    <tr>\n      <th>4</th>\n      <td>Yong chan Lee</td>\n      <td>P</td>\n      <td>DOO</td>\n      <td>8700</td>\n      <td>27.20</td>\n      <td>11.99</td>\n    </tr>\n    <tr>\n      <th>5</th>\n      <td>Dan Straily</td>\n      <td>P</td>\n      <td>LOT</td>\n      <td>6700</td>\n      <td>23.27</td>\n      <td>10.26</td>\n    </tr>\n    <tr>\n      <th>6</th>\n      <td>Warwick Saupold</td>\n      <td>P</td>\n      <td>HAN</td>\n      <td>9100</td>\n      <td>22.38</td>\n      <td>9.90</td>\n    </tr>\n    <tr>\n      <th>7</th>\n      <td>Young gyu Kim</td>\n      <td>P</td>\n      <td>NCD</td>\n      <td>4000</td>\n      <td>19.10</td>\n      <td>7.48</td>\n    </tr>\n    <tr>\n      <th>8</th>\n      <td>Min Kim</td>\n      <td>P</td>\n      <td>KTW</td>\n      <td>6800</td>\n      <td>18.64</td>\n      <td>6.60</td>\n    </tr>\n    <tr>\n      <th>9</th>\n      <td>Jung hyun Baek</td>\n      <td>P</td>\n      <td>SAM</td>\n      <td>6500</td>\n      <td>18.69</td>\n      <td>6.18</td>\n    </tr>\n    <tr>\n      <th>10</th>\n      <td>Ha Seong Kim</td>\n      <td>SS</td>\n      <td>KIW</td>\n      <td>4900</td>\n      <td>14.09</td>\n      <td>10.62</td>\n    </tr>\n    <tr>\n      <th>11</th>\n      <td>Jae Il Oh</td>\n      <td>1B</td>\n      <td>DOO</td>\n      <td>3800</td>\n      <td>14.17</td>\n      <td>10.57</td>\n    </tr>\n  </tbody>\n</table>\n</div>",
            "text/plain": "               Name Position Team  Salary     FD     DK\n0    Hyun jong Yang        P  KIA    9500  30.62  18.60\n1      Jake Brigham        P  KIW    8500  29.75  16.52\n2      Tae hoon Kim        P   SK    6800  25.94  15.29\n3       Casey Kelly        P   LG    8000  28.49  13.96\n4     Yong chan Lee        P  DOO    8700  27.20  11.99\n5       Dan Straily        P  LOT    6700  23.27  10.26\n6   Warwick Saupold        P  HAN    9100  22.38   9.90\n7     Young gyu Kim        P  NCD    4000  19.10   7.48\n8           Min Kim        P  KTW    6800  18.64   6.60\n9    Jung hyun Baek        P  SAM    6500  18.69   6.18\n10     Ha Seong Kim       SS  KIW    4900  14.09  10.62\n11        Jae Il Oh       1B  DOO    3800  14.17  10.57"
          },
          "metadata": {}
        }
      ]
    },
    {
      "metadata": {
        "trusted": true
      },
      "cell_type": "code",
      "source": "#read in salary\nurl = 'https://www.draftkings.com/lineup/getavailableplayerscsv?contestTypeId=28&draftGroupId=35317'\ndf_sal = pd.read_csv(url)\ndf_sal.head()",
      "execution_count": 17,
      "outputs": [
        {
          "output_type": "execute_result",
          "execution_count": 17,
          "data": {
            "text/html": "<div>\n<style scoped>\n    .dataframe tbody tr th:only-of-type {\n        vertical-align: middle;\n    }\n\n    .dataframe tbody tr th {\n        vertical-align: top;\n    }\n\n    .dataframe thead th {\n        text-align: right;\n    }\n</style>\n<table border=\"1\" class=\"dataframe\">\n  <thead>\n    <tr style=\"text-align: right;\">\n      <th></th>\n      <th>Position</th>\n      <th>Name + ID</th>\n      <th>Name</th>\n      <th>ID</th>\n      <th>Roster Position</th>\n      <th>Salary</th>\n      <th>Game Info</th>\n      <th>TeamAbbrev</th>\n      <th>AvgPointsPerGame</th>\n    </tr>\n  </thead>\n  <tbody>\n    <tr>\n      <th>0</th>\n      <td>SP</td>\n      <td>Hyun Jong Yang (14527548)</td>\n      <td>Hyun Jong Yang</td>\n      <td>14527548</td>\n      <td>P</td>\n      <td>9500</td>\n      <td>KIA@SAM 05/10/2020 01:00AM ET</td>\n      <td>KIA</td>\n      <td>-2.85</td>\n    </tr>\n    <tr>\n      <th>1</th>\n      <td>SP</td>\n      <td>Jae Hak Lee (14527898)</td>\n      <td>Jae Hak Lee</td>\n      <td>14527898</td>\n      <td>P</td>\n      <td>9500</td>\n      <td>LG@NCD 05/10/2020 01:00AM ET</td>\n      <td>NCD</td>\n      <td>15.20</td>\n    </tr>\n    <tr>\n      <th>2</th>\n      <td>SP</td>\n      <td>Drew Rucinski (14527549)</td>\n      <td>Drew Rucinski</td>\n      <td>14527549</td>\n      <td>P</td>\n      <td>9300</td>\n      <td>LG@NCD 05/10/2020 01:00AM ET</td>\n      <td>NCD</td>\n      <td>25.30</td>\n    </tr>\n    <tr>\n      <th>3</th>\n      <td>SP</td>\n      <td>Warwick Saupold (14527550)</td>\n      <td>Warwick Saupold</td>\n      <td>14527550</td>\n      <td>P</td>\n      <td>9100</td>\n      <td>HAN@KIW 05/10/2020 01:00AM ET</td>\n      <td>HAN</td>\n      <td>31.45</td>\n    </tr>\n    <tr>\n      <th>4</th>\n      <td>SP</td>\n      <td>Chris Flexen (14527899)</td>\n      <td>Chris Flexen</td>\n      <td>14527899</td>\n      <td>P</td>\n      <td>9100</td>\n      <td>KTW@DOO 05/10/2020 01:00AM ET</td>\n      <td>DOO</td>\n      <td>18.70</td>\n    </tr>\n  </tbody>\n</table>\n</div>",
            "text/plain": "  Position                   Name + ID             Name        ID  \\\n0       SP   Hyun Jong Yang (14527548)   Hyun Jong Yang  14527548   \n1       SP      Jae Hak Lee (14527898)      Jae Hak Lee  14527898   \n2       SP    Drew Rucinski (14527549)    Drew Rucinski  14527549   \n3       SP  Warwick Saupold (14527550)  Warwick Saupold  14527550   \n4       SP     Chris Flexen (14527899)     Chris Flexen  14527899   \n\n  Roster Position  Salary                      Game Info TeamAbbrev  \\\n0               P    9500  KIA@SAM 05/10/2020 01:00AM ET        KIA   \n1               P    9500   LG@NCD 05/10/2020 01:00AM ET        NCD   \n2               P    9300   LG@NCD 05/10/2020 01:00AM ET        NCD   \n3               P    9100  HAN@KIW 05/10/2020 01:00AM ET        HAN   \n4               P    9100  KTW@DOO 05/10/2020 01:00AM ET        DOO   \n\n   AvgPointsPerGame  \n0             -2.85  \n1             15.20  \n2             25.30  \n3             31.45  \n4             18.70  "
          },
          "metadata": {}
        }
      ]
    },
    {
      "metadata": {
        "trusted": true
      },
      "cell_type": "code",
      "source": "#Replace names in df with names that appear in df_sal\nfrom difflib import get_close_matches\n#df['Name'] = \"\"\nfor i in np.arange(len(df)):\n    curr_name = df['Name'].iloc[i]\n    try:\n        new_name = get_close_matches(curr_name,df_sal['Name'],cutoff=.8)[0]\n        if new_name != curr_name:\n            print(\"{} replaced with {}\".format(curr_name,new_name))\n    except:\n        new_name = 'No Name'\n        print('NO MATCH: curr_name = {}, new_name = {}'.format(curr_name,new_name))\n    df['Name'].iloc[i] = new_name\n#df2['Name'] = df2['Name'].apply(lambda x: get_close_matches(x,df2_sal['Name']))\ndf.head(5)",
      "execution_count": 18,
      "outputs": [
        {
          "output_type": "stream",
          "text": "Hyun jong Yang replaced with Hyun Jong Yang\n",
          "name": "stdout"
        },
        {
          "output_type": "stream",
          "text": "/home/nbuser/anaconda3_501/lib/python3.6/site-packages/pandas/core/indexing.py:189: SettingWithCopyWarning: \nA value is trying to be set on a copy of a slice from a DataFrame\n\nSee the caveats in the documentation: http://pandas.pydata.org/pandas-docs/stable/indexing.html#indexing-view-versus-copy\n  self._setitem_with_indexer(indexer, value)\n",
          "name": "stderr"
        },
        {
          "output_type": "stream",
          "text": "Tae hoon Kim replaced with Tae Hoon Kim\nYong chan Lee replaced with Yong Chan Lee\nYoung gyu Kim replaced with Young Gyu Kim\nJung hyun Baek replaced with Jung Hyun Baek\n",
          "name": "stdout"
        },
        {
          "output_type": "execute_result",
          "execution_count": 18,
          "data": {
            "text/html": "<div>\n<style scoped>\n    .dataframe tbody tr th:only-of-type {\n        vertical-align: middle;\n    }\n\n    .dataframe tbody tr th {\n        vertical-align: top;\n    }\n\n    .dataframe thead th {\n        text-align: right;\n    }\n</style>\n<table border=\"1\" class=\"dataframe\">\n  <thead>\n    <tr style=\"text-align: right;\">\n      <th></th>\n      <th>Name</th>\n      <th>Position</th>\n      <th>Team</th>\n      <th>Salary</th>\n      <th>FD</th>\n      <th>DK</th>\n    </tr>\n  </thead>\n  <tbody>\n    <tr>\n      <th>0</th>\n      <td>Hyun Jong Yang</td>\n      <td>P</td>\n      <td>KIA</td>\n      <td>9500</td>\n      <td>30.62</td>\n      <td>18.60</td>\n    </tr>\n    <tr>\n      <th>1</th>\n      <td>Jake Brigham</td>\n      <td>P</td>\n      <td>KIW</td>\n      <td>8500</td>\n      <td>29.75</td>\n      <td>16.52</td>\n    </tr>\n    <tr>\n      <th>2</th>\n      <td>Tae Hoon Kim</td>\n      <td>P</td>\n      <td>SK</td>\n      <td>6800</td>\n      <td>25.94</td>\n      <td>15.29</td>\n    </tr>\n    <tr>\n      <th>3</th>\n      <td>Casey Kelly</td>\n      <td>P</td>\n      <td>LG</td>\n      <td>8000</td>\n      <td>28.49</td>\n      <td>13.96</td>\n    </tr>\n    <tr>\n      <th>4</th>\n      <td>Yong Chan Lee</td>\n      <td>P</td>\n      <td>DOO</td>\n      <td>8700</td>\n      <td>27.20</td>\n      <td>11.99</td>\n    </tr>\n  </tbody>\n</table>\n</div>",
            "text/plain": "             Name Position Team  Salary     FD     DK\n0  Hyun Jong Yang        P  KIA    9500  30.62  18.60\n1    Jake Brigham        P  KIW    8500  29.75  16.52\n2    Tae Hoon Kim        P   SK    6800  25.94  15.29\n3     Casey Kelly        P   LG    8000  28.49  13.96\n4   Yong Chan Lee        P  DOO    8700  27.20  11.99"
          },
          "metadata": {}
        }
      ]
    },
    {
      "metadata": {
        "trusted": true
      },
      "cell_type": "code",
      "source": "#Add Name + ID\ndf = pd.merge(df,df_sal[['Name','Name + ID']])\ndf.head(2)",
      "execution_count": 19,
      "outputs": [
        {
          "output_type": "execute_result",
          "execution_count": 19,
          "data": {
            "text/html": "<div>\n<style scoped>\n    .dataframe tbody tr th:only-of-type {\n        vertical-align: middle;\n    }\n\n    .dataframe tbody tr th {\n        vertical-align: top;\n    }\n\n    .dataframe thead th {\n        text-align: right;\n    }\n</style>\n<table border=\"1\" class=\"dataframe\">\n  <thead>\n    <tr style=\"text-align: right;\">\n      <th></th>\n      <th>Name</th>\n      <th>Position</th>\n      <th>Team</th>\n      <th>Salary</th>\n      <th>FD</th>\n      <th>DK</th>\n      <th>Name + ID</th>\n    </tr>\n  </thead>\n  <tbody>\n    <tr>\n      <th>0</th>\n      <td>Hyun Jong Yang</td>\n      <td>P</td>\n      <td>KIA</td>\n      <td>9500</td>\n      <td>30.62</td>\n      <td>18.60</td>\n      <td>Hyun Jong Yang (14527548)</td>\n    </tr>\n    <tr>\n      <th>1</th>\n      <td>Jake Brigham</td>\n      <td>P</td>\n      <td>KIW</td>\n      <td>8500</td>\n      <td>29.75</td>\n      <td>16.52</td>\n      <td>Jake Brigham (14527551)</td>\n    </tr>\n  </tbody>\n</table>\n</div>",
            "text/plain": "             Name Position Team  Salary     FD     DK  \\\n0  Hyun Jong Yang        P  KIA    9500  30.62  18.60   \n1    Jake Brigham        P  KIW    8500  29.75  16.52   \n\n                   Name + ID  \n0  Hyun Jong Yang (14527548)  \n1    Jake Brigham (14527551)  "
          },
          "metadata": {}
        }
      ]
    },
    {
      "metadata": {
        "trusted": true
      },
      "cell_type": "code",
      "source": "df = df.dropna()",
      "execution_count": 21,
      "outputs": []
    },
    {
      "metadata": {
        "trusted": true
      },
      "cell_type": "code",
      "source": "#Add columns for each position\npositions = ['P','C','1B','2B','3B','SS','OF']\nfor pos in positions:\n    df[pos] = np.where(df.Position.str.contains(pos),1,0)\ndf.head(12)",
      "execution_count": 22,
      "outputs": [
        {
          "output_type": "execute_result",
          "execution_count": 22,
          "data": {
            "text/html": "<div>\n<style scoped>\n    .dataframe tbody tr th:only-of-type {\n        vertical-align: middle;\n    }\n\n    .dataframe tbody tr th {\n        vertical-align: top;\n    }\n\n    .dataframe thead th {\n        text-align: right;\n    }\n</style>\n<table border=\"1\" class=\"dataframe\">\n  <thead>\n    <tr style=\"text-align: right;\">\n      <th></th>\n      <th>Name</th>\n      <th>Position</th>\n      <th>Team</th>\n      <th>Salary</th>\n      <th>FD</th>\n      <th>DK</th>\n      <th>Name + ID</th>\n      <th>P</th>\n      <th>C</th>\n      <th>1B</th>\n      <th>2B</th>\n      <th>3B</th>\n      <th>SS</th>\n      <th>OF</th>\n    </tr>\n  </thead>\n  <tbody>\n    <tr>\n      <th>0</th>\n      <td>Hyun Jong Yang</td>\n      <td>P</td>\n      <td>KIA</td>\n      <td>9500</td>\n      <td>30.62</td>\n      <td>18.60</td>\n      <td>Hyun Jong Yang (14527548)</td>\n      <td>1</td>\n      <td>0</td>\n      <td>0</td>\n      <td>0</td>\n      <td>0</td>\n      <td>0</td>\n      <td>0</td>\n    </tr>\n    <tr>\n      <th>1</th>\n      <td>Jake Brigham</td>\n      <td>P</td>\n      <td>KIW</td>\n      <td>8500</td>\n      <td>29.75</td>\n      <td>16.52</td>\n      <td>Jake Brigham (14527551)</td>\n      <td>1</td>\n      <td>0</td>\n      <td>0</td>\n      <td>0</td>\n      <td>0</td>\n      <td>0</td>\n      <td>0</td>\n    </tr>\n    <tr>\n      <th>2</th>\n      <td>Tae Hoon Kim</td>\n      <td>P</td>\n      <td>SK</td>\n      <td>6800</td>\n      <td>25.94</td>\n      <td>15.29</td>\n      <td>Tae Hoon Kim (14527928)</td>\n      <td>1</td>\n      <td>0</td>\n      <td>0</td>\n      <td>0</td>\n      <td>0</td>\n      <td>0</td>\n      <td>0</td>\n    </tr>\n    <tr>\n      <th>3</th>\n      <td>Casey Kelly</td>\n      <td>P</td>\n      <td>LG</td>\n      <td>8000</td>\n      <td>28.49</td>\n      <td>13.96</td>\n      <td>Casey Kelly (14527910)</td>\n      <td>1</td>\n      <td>0</td>\n      <td>0</td>\n      <td>0</td>\n      <td>0</td>\n      <td>0</td>\n      <td>0</td>\n    </tr>\n    <tr>\n      <th>4</th>\n      <td>Yong Chan Lee</td>\n      <td>P</td>\n      <td>DOO</td>\n      <td>8700</td>\n      <td>27.20</td>\n      <td>11.99</td>\n      <td>Yong Chan Lee (14527902)</td>\n      <td>1</td>\n      <td>0</td>\n      <td>0</td>\n      <td>0</td>\n      <td>0</td>\n      <td>0</td>\n      <td>0</td>\n    </tr>\n    <tr>\n      <th>5</th>\n      <td>Dan Straily</td>\n      <td>P</td>\n      <td>LOT</td>\n      <td>6700</td>\n      <td>23.27</td>\n      <td>10.26</td>\n      <td>Dan Straily (14527556)</td>\n      <td>1</td>\n      <td>0</td>\n      <td>0</td>\n      <td>0</td>\n      <td>0</td>\n      <td>0</td>\n      <td>0</td>\n    </tr>\n    <tr>\n      <th>6</th>\n      <td>Warwick Saupold</td>\n      <td>P</td>\n      <td>HAN</td>\n      <td>9100</td>\n      <td>22.38</td>\n      <td>9.90</td>\n      <td>Warwick Saupold (14527550)</td>\n      <td>1</td>\n      <td>0</td>\n      <td>0</td>\n      <td>0</td>\n      <td>0</td>\n      <td>0</td>\n      <td>0</td>\n    </tr>\n    <tr>\n      <th>7</th>\n      <td>Young Gyu Kim</td>\n      <td>P</td>\n      <td>NCD</td>\n      <td>4000</td>\n      <td>19.10</td>\n      <td>7.48</td>\n      <td>Young Gyu Kim (14528001)</td>\n      <td>1</td>\n      <td>0</td>\n      <td>0</td>\n      <td>0</td>\n      <td>0</td>\n      <td>0</td>\n      <td>0</td>\n    </tr>\n    <tr>\n      <th>8</th>\n      <td>Min Kim</td>\n      <td>P</td>\n      <td>KTW</td>\n      <td>6800</td>\n      <td>18.64</td>\n      <td>6.60</td>\n      <td>Min Kim (14527927)</td>\n      <td>1</td>\n      <td>0</td>\n      <td>0</td>\n      <td>0</td>\n      <td>0</td>\n      <td>0</td>\n      <td>0</td>\n    </tr>\n    <tr>\n      <th>9</th>\n      <td>Jung Hyun Baek</td>\n      <td>P</td>\n      <td>SAM</td>\n      <td>6500</td>\n      <td>18.69</td>\n      <td>6.18</td>\n      <td>Jung Hyun Baek (14527557)</td>\n      <td>1</td>\n      <td>0</td>\n      <td>0</td>\n      <td>0</td>\n      <td>0</td>\n      <td>0</td>\n      <td>0</td>\n    </tr>\n    <tr>\n      <th>10</th>\n      <td>Ha Seong Kim</td>\n      <td>SS</td>\n      <td>KIW</td>\n      <td>4900</td>\n      <td>14.09</td>\n      <td>10.62</td>\n      <td>Ha Seong Kim (14527576)</td>\n      <td>0</td>\n      <td>0</td>\n      <td>0</td>\n      <td>0</td>\n      <td>0</td>\n      <td>1</td>\n      <td>0</td>\n    </tr>\n    <tr>\n      <th>11</th>\n      <td>Jae Il Oh</td>\n      <td>1B</td>\n      <td>DOO</td>\n      <td>3800</td>\n      <td>14.17</td>\n      <td>10.57</td>\n      <td>Jae Il Oh (14527604)</td>\n      <td>0</td>\n      <td>0</td>\n      <td>1</td>\n      <td>0</td>\n      <td>0</td>\n      <td>0</td>\n      <td>0</td>\n    </tr>\n  </tbody>\n</table>\n</div>",
            "text/plain": "               Name Position Team  Salary     FD     DK  \\\n0    Hyun Jong Yang        P  KIA    9500  30.62  18.60   \n1      Jake Brigham        P  KIW    8500  29.75  16.52   \n2      Tae Hoon Kim        P   SK    6800  25.94  15.29   \n3       Casey Kelly        P   LG    8000  28.49  13.96   \n4     Yong Chan Lee        P  DOO    8700  27.20  11.99   \n5       Dan Straily        P  LOT    6700  23.27  10.26   \n6   Warwick Saupold        P  HAN    9100  22.38   9.90   \n7     Young Gyu Kim        P  NCD    4000  19.10   7.48   \n8           Min Kim        P  KTW    6800  18.64   6.60   \n9    Jung Hyun Baek        P  SAM    6500  18.69   6.18   \n10     Ha Seong Kim       SS  KIW    4900  14.09  10.62   \n11        Jae Il Oh       1B  DOO    3800  14.17  10.57   \n\n                     Name + ID  P  C  1B  2B  3B  SS  OF  \n0    Hyun Jong Yang (14527548)  1  0   0   0   0   0   0  \n1      Jake Brigham (14527551)  1  0   0   0   0   0   0  \n2      Tae Hoon Kim (14527928)  1  0   0   0   0   0   0  \n3       Casey Kelly (14527910)  1  0   0   0   0   0   0  \n4     Yong Chan Lee (14527902)  1  0   0   0   0   0   0  \n5       Dan Straily (14527556)  1  0   0   0   0   0   0  \n6   Warwick Saupold (14527550)  1  0   0   0   0   0   0  \n7     Young Gyu Kim (14528001)  1  0   0   0   0   0   0  \n8           Min Kim (14527927)  1  0   0   0   0   0   0  \n9    Jung Hyun Baek (14527557)  1  0   0   0   0   0   0  \n10     Ha Seong Kim (14527576)  0  0   0   0   0   1   0  \n11        Jae Il Oh (14527604)  0  0   1   0   0   0   0  "
          },
          "metadata": {}
        }
      ]
    },
    {
      "metadata": {
        "trusted": true
      },
      "cell_type": "code",
      "source": "#Top n teams\n#df = df_all.copy()\ndf_now = df.copy()\n\n\nnumteams = 3\nopt_teams = []\nfor i in np.arange(numteams): #number of teams\n    n = len(df_now)\n    x = cp.Variable(n,boolean=True)\n    s = df_now.Salary.values\n    pts = df_now.DK.values\n    P = df_now['P'].values\n    C = df_now['C'].values\n    B1 = df_now['1B'].values\n    B2 = df_now['2B'].values\n    B3 = df_now['3B'].values\n    SS = df_now['SS'].values\n    OF = df_now['OF'].values\n    constraints = [cp.sum(x) == 10,\n                 x*s <= 50000,\n                  x*P==2,\n                  x*C==1,\n                  x*B1==1,\n                  x*B2==1,\n                  x*B3==1,\n                  x*SS==1,\n                  x*OF==3]\n\n    # Form objective.\n    obj = cp.Maximize(x*pts)\n\n    # Form and solve problem.\n    prob = cp.Problem(obj, constraints)\n    prob.solve()\n    opt_team = df_now['Name'][x.value>.5].tolist()\n    opt_team_positions = df_now['Position'][x.value>.5].tolist()\n    sal = df_now[df_now.Name.isin(opt_team)].Salary.sum()\n    print('Team {} (obj = {:.2f}, sal = {}): '.format(i+1,prob.value,sal))\n    print(', '.join(['{} ({})'.format(player,pos) for player,pos in zip(opt_team,opt_team_positions)]))\n    opt_teams.append(opt_team)\n    #Remove team and go again\n    df_now = df_now[~ df_now.Name.isin(opt_team)]",
      "execution_count": 23,
      "outputs": [
        {
          "output_type": "stream",
          "text": "Team 1 (obj = 109.94, sal = 49700): \nHyun Jong Yang (P), Jake Brigham (P), Ha Seong Kim (SS), Jae Il Oh (1B), Kun Woo Park (OF), Byung Hun Min (OF), Dong Min Han (OF), Eui Ji Yang (C), Hoon Jung (2B), Yeong Seok Jang (3B)\nTeam 2 (obj = 100.52, sal = 47600): \nTae Hoon Kim (P), Casey Kelly (P), Sun Bin Kim (SS), ByungHo Park (1B), Jung Hoo Lee (OF), Preston Tucker (OF), Jun Woo Jeon (OF), Min Woo Park (2B), Yong Hwan Baek (C), Min Sung Kim (3B)\nTeam 3 (obj = 87.25, sal = 44700): \nYong Chan Lee (P), Dan Straily (P), Aaron Altherr (OF), Jin Gi Jeong (OF), Chun Woong Lee (OF), Roberto Ramos (1B), Keun Woo Jeong (2B), Dong Won Park (C), Jae Ho Kim (SS), Won Seok Lee (3B)\n",
          "name": "stdout"
        }
      ]
    },
    {
      "metadata": {
        "trusted": true
      },
      "cell_type": "code",
      "source": "#Just keep top n teams\nnum_teams_deep = 2\ndf_opt = df[df.Name.isin(list(np.hstack(opt_teams[:num_teams_deep])))]\ndf_opt",
      "execution_count": 27,
      "outputs": [
        {
          "output_type": "execute_result",
          "execution_count": 27,
          "data": {
            "text/html": "<div>\n<style scoped>\n    .dataframe tbody tr th:only-of-type {\n        vertical-align: middle;\n    }\n\n    .dataframe tbody tr th {\n        vertical-align: top;\n    }\n\n    .dataframe thead th {\n        text-align: right;\n    }\n</style>\n<table border=\"1\" class=\"dataframe\">\n  <thead>\n    <tr style=\"text-align: right;\">\n      <th></th>\n      <th>Name</th>\n      <th>Position</th>\n      <th>Team</th>\n      <th>Salary</th>\n      <th>FD</th>\n      <th>DK</th>\n      <th>Name + ID</th>\n      <th>P</th>\n      <th>C</th>\n      <th>1B</th>\n      <th>2B</th>\n      <th>3B</th>\n      <th>SS</th>\n      <th>OF</th>\n    </tr>\n  </thead>\n  <tbody>\n    <tr>\n      <th>0</th>\n      <td>Hyun Jong Yang</td>\n      <td>P</td>\n      <td>KIA</td>\n      <td>9500</td>\n      <td>30.62</td>\n      <td>18.60</td>\n      <td>Hyun Jong Yang (14527548)</td>\n      <td>1</td>\n      <td>0</td>\n      <td>0</td>\n      <td>0</td>\n      <td>0</td>\n      <td>0</td>\n      <td>0</td>\n    </tr>\n    <tr>\n      <th>1</th>\n      <td>Jake Brigham</td>\n      <td>P</td>\n      <td>KIW</td>\n      <td>8500</td>\n      <td>29.75</td>\n      <td>16.52</td>\n      <td>Jake Brigham (14527551)</td>\n      <td>1</td>\n      <td>0</td>\n      <td>0</td>\n      <td>0</td>\n      <td>0</td>\n      <td>0</td>\n      <td>0</td>\n    </tr>\n    <tr>\n      <th>2</th>\n      <td>Tae Hoon Kim</td>\n      <td>P</td>\n      <td>SK</td>\n      <td>6800</td>\n      <td>25.94</td>\n      <td>15.29</td>\n      <td>Tae Hoon Kim (14527928)</td>\n      <td>1</td>\n      <td>0</td>\n      <td>0</td>\n      <td>0</td>\n      <td>0</td>\n      <td>0</td>\n      <td>0</td>\n    </tr>\n    <tr>\n      <th>3</th>\n      <td>Casey Kelly</td>\n      <td>P</td>\n      <td>LG</td>\n      <td>8000</td>\n      <td>28.49</td>\n      <td>13.96</td>\n      <td>Casey Kelly (14527910)</td>\n      <td>1</td>\n      <td>0</td>\n      <td>0</td>\n      <td>0</td>\n      <td>0</td>\n      <td>0</td>\n      <td>0</td>\n    </tr>\n    <tr>\n      <th>10</th>\n      <td>Ha Seong Kim</td>\n      <td>SS</td>\n      <td>KIW</td>\n      <td>4900</td>\n      <td>14.09</td>\n      <td>10.62</td>\n      <td>Ha Seong Kim (14527576)</td>\n      <td>0</td>\n      <td>0</td>\n      <td>0</td>\n      <td>0</td>\n      <td>0</td>\n      <td>1</td>\n      <td>0</td>\n    </tr>\n    <tr>\n      <th>11</th>\n      <td>Jae Il Oh</td>\n      <td>1B</td>\n      <td>DOO</td>\n      <td>3800</td>\n      <td>14.17</td>\n      <td>10.57</td>\n      <td>Jae Il Oh (14527604)</td>\n      <td>0</td>\n      <td>0</td>\n      <td>1</td>\n      <td>0</td>\n      <td>0</td>\n      <td>0</td>\n      <td>0</td>\n    </tr>\n    <tr>\n      <th>12</th>\n      <td>Kun Woo Park</td>\n      <td>OF</td>\n      <td>DOO</td>\n      <td>4200</td>\n      <td>13.60</td>\n      <td>10.43</td>\n      <td>Kun Woo Park (14527593)</td>\n      <td>0</td>\n      <td>0</td>\n      <td>0</td>\n      <td>0</td>\n      <td>0</td>\n      <td>0</td>\n      <td>1</td>\n    </tr>\n    <tr>\n      <th>14</th>\n      <td>Sun Bin Kim</td>\n      <td>SS</td>\n      <td>KIA</td>\n      <td>3400</td>\n      <td>13.66</td>\n      <td>10.06</td>\n      <td>Sun Bin Kim (14527625)</td>\n      <td>0</td>\n      <td>0</td>\n      <td>0</td>\n      <td>0</td>\n      <td>0</td>\n      <td>1</td>\n      <td>0</td>\n    </tr>\n    <tr>\n      <th>16</th>\n      <td>ByungHo Park</td>\n      <td>1B</td>\n      <td>KIW</td>\n      <td>5000</td>\n      <td>13.33</td>\n      <td>9.77</td>\n      <td>ByungHo Park (14527572)</td>\n      <td>0</td>\n      <td>0</td>\n      <td>1</td>\n      <td>0</td>\n      <td>0</td>\n      <td>0</td>\n      <td>0</td>\n    </tr>\n    <tr>\n      <th>18</th>\n      <td>Jung Hoo Lee</td>\n      <td>OF</td>\n      <td>KIW</td>\n      <td>4600</td>\n      <td>12.11</td>\n      <td>9.42</td>\n      <td>Jung Hoo Lee (14527580)</td>\n      <td>0</td>\n      <td>0</td>\n      <td>0</td>\n      <td>0</td>\n      <td>0</td>\n      <td>0</td>\n      <td>1</td>\n    </tr>\n    <tr>\n      <th>19</th>\n      <td>Preston Tucker</td>\n      <td>OF</td>\n      <td>KIA</td>\n      <td>4900</td>\n      <td>12.29</td>\n      <td>9.41</td>\n      <td>Preston Tucker (14527573)</td>\n      <td>0</td>\n      <td>0</td>\n      <td>0</td>\n      <td>0</td>\n      <td>0</td>\n      <td>0</td>\n      <td>1</td>\n    </tr>\n    <tr>\n      <th>21</th>\n      <td>Byung Hun Min</td>\n      <td>OF</td>\n      <td>LOT</td>\n      <td>3800</td>\n      <td>12.30</td>\n      <td>9.28</td>\n      <td>Byung Hun Min (14527609)</td>\n      <td>0</td>\n      <td>0</td>\n      <td>0</td>\n      <td>0</td>\n      <td>0</td>\n      <td>0</td>\n      <td>1</td>\n    </tr>\n    <tr>\n      <th>22</th>\n      <td>Dong Min Han</td>\n      <td>OF</td>\n      <td>SK</td>\n      <td>4000</td>\n      <td>12.02</td>\n      <td>9.24</td>\n      <td>Dong Min Han (14527600)</td>\n      <td>0</td>\n      <td>0</td>\n      <td>0</td>\n      <td>0</td>\n      <td>0</td>\n      <td>0</td>\n      <td>1</td>\n    </tr>\n    <tr>\n      <th>25</th>\n      <td>Jun Woo Jeon</td>\n      <td>OF</td>\n      <td>LOT</td>\n      <td>3900</td>\n      <td>12.03</td>\n      <td>9.10</td>\n      <td>Jun Woo Jeon (14527602)</td>\n      <td>0</td>\n      <td>0</td>\n      <td>0</td>\n      <td>0</td>\n      <td>0</td>\n      <td>0</td>\n      <td>1</td>\n    </tr>\n    <tr>\n      <th>31</th>\n      <td>Eui Ji Yang</td>\n      <td>C</td>\n      <td>NCD</td>\n      <td>5000</td>\n      <td>11.37</td>\n      <td>8.70</td>\n      <td>Eui Ji Yang (14527571)</td>\n      <td>0</td>\n      <td>1</td>\n      <td>0</td>\n      <td>0</td>\n      <td>0</td>\n      <td>0</td>\n      <td>0</td>\n    </tr>\n    <tr>\n      <th>35</th>\n      <td>Hoon Jung</td>\n      <td>2B</td>\n      <td>LOT</td>\n      <td>2800</td>\n      <td>11.18</td>\n      <td>8.56</td>\n      <td>Hoon Jung (14527682)</td>\n      <td>0</td>\n      <td>0</td>\n      <td>0</td>\n      <td>1</td>\n      <td>0</td>\n      <td>0</td>\n      <td>0</td>\n    </tr>\n    <tr>\n      <th>36</th>\n      <td>Min Woo Park</td>\n      <td>2B</td>\n      <td>NCD</td>\n      <td>4100</td>\n      <td>10.72</td>\n      <td>8.46</td>\n      <td>Min Woo Park (14527591)</td>\n      <td>0</td>\n      <td>0</td>\n      <td>0</td>\n      <td>1</td>\n      <td>0</td>\n      <td>0</td>\n      <td>0</td>\n    </tr>\n    <tr>\n      <th>50</th>\n      <td>Yong Hwan Baek</td>\n      <td>C</td>\n      <td>KIA</td>\n      <td>3200</td>\n      <td>10.28</td>\n      <td>7.66</td>\n      <td>Yong Hwan Baek (14527641)</td>\n      <td>0</td>\n      <td>1</td>\n      <td>0</td>\n      <td>0</td>\n      <td>0</td>\n      <td>0</td>\n      <td>0</td>\n    </tr>\n    <tr>\n      <th>54</th>\n      <td>Yeong Seok Jang</td>\n      <td>3B</td>\n      <td>KIA</td>\n      <td>3200</td>\n      <td>10.07</td>\n      <td>7.42</td>\n      <td>Yeong Seok Jang (14527640)</td>\n      <td>0</td>\n      <td>0</td>\n      <td>0</td>\n      <td>0</td>\n      <td>1</td>\n      <td>0</td>\n      <td>0</td>\n    </tr>\n    <tr>\n      <th>55</th>\n      <td>Min Sung Kim</td>\n      <td>3B</td>\n      <td>LG</td>\n      <td>3700</td>\n      <td>9.57</td>\n      <td>7.39</td>\n      <td>Min Sung Kim (14527612)</td>\n      <td>0</td>\n      <td>0</td>\n      <td>0</td>\n      <td>0</td>\n      <td>1</td>\n      <td>0</td>\n      <td>0</td>\n    </tr>\n  </tbody>\n</table>\n</div>",
            "text/plain": "               Name Position Team  Salary     FD     DK  \\\n0    Hyun Jong Yang        P  KIA    9500  30.62  18.60   \n1      Jake Brigham        P  KIW    8500  29.75  16.52   \n2      Tae Hoon Kim        P   SK    6800  25.94  15.29   \n3       Casey Kelly        P   LG    8000  28.49  13.96   \n10     Ha Seong Kim       SS  KIW    4900  14.09  10.62   \n11        Jae Il Oh       1B  DOO    3800  14.17  10.57   \n12     Kun Woo Park       OF  DOO    4200  13.60  10.43   \n14      Sun Bin Kim       SS  KIA    3400  13.66  10.06   \n16     ByungHo Park       1B  KIW    5000  13.33   9.77   \n18     Jung Hoo Lee       OF  KIW    4600  12.11   9.42   \n19   Preston Tucker       OF  KIA    4900  12.29   9.41   \n21    Byung Hun Min       OF  LOT    3800  12.30   9.28   \n22     Dong Min Han       OF   SK    4000  12.02   9.24   \n25     Jun Woo Jeon       OF  LOT    3900  12.03   9.10   \n31      Eui Ji Yang        C  NCD    5000  11.37   8.70   \n35        Hoon Jung       2B  LOT    2800  11.18   8.56   \n36     Min Woo Park       2B  NCD    4100  10.72   8.46   \n50   Yong Hwan Baek        C  KIA    3200  10.28   7.66   \n54  Yeong Seok Jang       3B  KIA    3200  10.07   7.42   \n55     Min Sung Kim       3B   LG    3700   9.57   7.39   \n\n                     Name + ID  P  C  1B  2B  3B  SS  OF  \n0    Hyun Jong Yang (14527548)  1  0   0   0   0   0   0  \n1      Jake Brigham (14527551)  1  0   0   0   0   0   0  \n2      Tae Hoon Kim (14527928)  1  0   0   0   0   0   0  \n3       Casey Kelly (14527910)  1  0   0   0   0   0   0  \n10     Ha Seong Kim (14527576)  0  0   0   0   0   1   0  \n11        Jae Il Oh (14527604)  0  0   1   0   0   0   0  \n12     Kun Woo Park (14527593)  0  0   0   0   0   0   1  \n14      Sun Bin Kim (14527625)  0  0   0   0   0   1   0  \n16     ByungHo Park (14527572)  0  0   1   0   0   0   0  \n18     Jung Hoo Lee (14527580)  0  0   0   0   0   0   1  \n19   Preston Tucker (14527573)  0  0   0   0   0   0   1  \n21    Byung Hun Min (14527609)  0  0   0   0   0   0   1  \n22     Dong Min Han (14527600)  0  0   0   0   0   0   1  \n25     Jun Woo Jeon (14527602)  0  0   0   0   0   0   1  \n31      Eui Ji Yang (14527571)  0  1   0   0   0   0   0  \n35        Hoon Jung (14527682)  0  0   0   1   0   0   0  \n36     Min Woo Park (14527591)  0  0   0   1   0   0   0  \n50   Yong Hwan Baek (14527641)  0  1   0   0   0   0   0  \n54  Yeong Seok Jang (14527640)  0  0   0   0   1   0   0  \n55     Min Sung Kim (14527612)  0  0   0   0   1   0   0  "
          },
          "metadata": {}
        }
      ]
    },
    {
      "metadata": {
        "trusted": true
      },
      "cell_type": "code",
      "source": "#generate teams\n### Assign exposures for top j teams\n# num_teams_deep = 2\n# own_gap = 5\n# exposures = list(np.arange(50,50-own_gap*num_teams_deep,-own_gap))\n# if len(exposures)<len(opt_teams):\n#     exposures = exposures + [0]*(len(opt_teams)-len(exposures))\n# exposures",
      "execution_count": 9,
      "outputs": [
        {
          "output_type": "execute_result",
          "execution_count": 9,
          "data": {
            "text/plain": "[50, 45, 0]"
          },
          "metadata": {}
        }
      ]
    },
    {
      "metadata": {
        "trusted": true
      },
      "cell_type": "code",
      "source": "df_lineups = pd.DataFrame(columns=['P','P','C','1B','2B','3B','SS','OF','OF','OF'])\ndf_lineups",
      "execution_count": 15,
      "outputs": [
        {
          "output_type": "execute_result",
          "execution_count": 15,
          "data": {
            "text/html": "<div>\n<style scoped>\n    .dataframe tbody tr th:only-of-type {\n        vertical-align: middle;\n    }\n\n    .dataframe tbody tr th {\n        vertical-align: top;\n    }\n\n    .dataframe thead th {\n        text-align: right;\n    }\n</style>\n<table border=\"1\" class=\"dataframe\">\n  <thead>\n    <tr style=\"text-align: right;\">\n      <th></th>\n      <th>P</th>\n      <th>P</th>\n      <th>C</th>\n      <th>1B</th>\n      <th>2B</th>\n      <th>3B</th>\n      <th>SS</th>\n      <th>OF</th>\n      <th>OF</th>\n      <th>OF</th>\n    </tr>\n  </thead>\n  <tbody>\n  </tbody>\n</table>\n</div>",
            "text/plain": "Empty DataFrame\nColumns: [P, P, C, 1B, 2B, 3B, SS, OF, OF, OF]\nIndex: []"
          },
          "metadata": {}
        }
      ]
    },
    {
      "metadata": {
        "trusted": true
      },
      "cell_type": "code",
      "source": "#pick 2 pitchers\ndf_now = df_opt.copy()\nlist(df_now[df_now.Position=='P']['Name + ID'].sample(n=2))",
      "execution_count": 33,
      "outputs": [
        {
          "output_type": "execute_result",
          "execution_count": 33,
          "data": {
            "text/plain": "['Tae Hoon Kim (14527928)', 'Jake Brigham (14527551)']"
          },
          "metadata": {}
        }
      ]
    },
    {
      "metadata": {
        "trusted": true
      },
      "cell_type": "code",
      "source": "num_teams = 17\ndf_lineups = pd.DataFrame(columns=['P','P','C','1B','2B','3B','SS','OF','OF','OF'])\nm = 0 #Completed teams so far\nwhile (m < num_teams):\n    #Pick pitcher\n    df_now = df_opt.copy()\n    #pick 2 pitchers\n    curr_team = list(df_now[df_now.Position=='P']['Name + ID'].sample(n=2))\n    curr_team += list(df_now[df_now.Position=='C']['Name + ID'].sample(n=1))\n    curr_team  += list(df_now[df_now.Position=='1B']['Name + ID'].sample(n=1))\n    curr_team += list(df_now[df_now.Position=='2B']['Name + ID'].sample(n=1))\n    curr_team += list(df_now[df_now.Position=='3B']['Name + ID'].sample(n=1))\n    curr_team += list(df_now[df_now.Position=='SS']['Name + ID'].sample(n=1))\n    curr_team += list(df_now[df_now.Position=='OF']['Name + ID'].sample(n=3))\n    \n    #Check if salary is good\n    sal = df_now[df_now['Name + ID'.isin(curr_team)].Salary.sum()\n    print(sal)\n    if sal > 50000:\n        continue\n    \n    #Check if team has shown up before in df_lineups\n    if len(df_lineups) < 1:\n        old_team = False\n    else:\n        df3 = (df_lineups == np.array(curr_team))\n        old_team = df3.transpose().all().any() #True if team is already in df_lineups\n    if old_team:\n        #print('Team already exists')\n        continue\n        \n    #OK, so now we have a new team!  Add it to df_lineups\n    df_lineups.loc[m] = curr_team\n    m += 1\n    #print(m)\n    if m%10==0:\n        print('m = {}'.format(m))\n    \ndf_lineups",
      "execution_count": 42,
      "outputs": [
        {
          "output_type": "stream",
          "text": "0\n0\n0\n0\n0\n0\n0\n0\n0\n0\nm = 10\n0\n0\n0\n0\n0\n0\n0\n",
          "name": "stdout"
        },
        {
          "output_type": "execute_result",
          "execution_count": 42,
          "data": {
            "text/html": "<div>\n<style scoped>\n    .dataframe tbody tr th:only-of-type {\n        vertical-align: middle;\n    }\n\n    .dataframe tbody tr th {\n        vertical-align: top;\n    }\n\n    .dataframe thead th {\n        text-align: right;\n    }\n</style>\n<table border=\"1\" class=\"dataframe\">\n  <thead>\n    <tr style=\"text-align: right;\">\n      <th></th>\n      <th>P</th>\n      <th>P</th>\n      <th>C</th>\n      <th>1B</th>\n      <th>2B</th>\n      <th>3B</th>\n      <th>SS</th>\n      <th>OF</th>\n      <th>OF</th>\n      <th>OF</th>\n    </tr>\n  </thead>\n  <tbody>\n    <tr>\n      <th>0</th>\n      <td>Hyun Jong Yang (14527548)</td>\n      <td>Jake Brigham (14527551)</td>\n      <td>Eui Ji Yang (14527571)</td>\n      <td>Jae Il Oh (14527604)</td>\n      <td>Hoon Jung (14527682)</td>\n      <td>Yeong Seok Jang (14527640)</td>\n      <td>Ha Seong Kim (14527576)</td>\n      <td>Jung Hoo Lee (14527580)</td>\n      <td>Preston Tucker (14527573)</td>\n      <td>Jun Woo Jeon (14527602)</td>\n    </tr>\n    <tr>\n      <th>1</th>\n      <td>Jake Brigham (14527551)</td>\n      <td>Hyun Jong Yang (14527548)</td>\n      <td>Yong Hwan Baek (14527641)</td>\n      <td>ByungHo Park (14527572)</td>\n      <td>Min Woo Park (14527591)</td>\n      <td>Yeong Seok Jang (14527640)</td>\n      <td>Sun Bin Kim (14527625)</td>\n      <td>Jun Woo Jeon (14527602)</td>\n      <td>Jung Hoo Lee (14527580)</td>\n      <td>Dong Min Han (14527600)</td>\n    </tr>\n    <tr>\n      <th>2</th>\n      <td>Hyun Jong Yang (14527548)</td>\n      <td>Tae Hoon Kim (14527928)</td>\n      <td>Eui Ji Yang (14527571)</td>\n      <td>ByungHo Park (14527572)</td>\n      <td>Min Woo Park (14527591)</td>\n      <td>Min Sung Kim (14527612)</td>\n      <td>Sun Bin Kim (14527625)</td>\n      <td>Dong Min Han (14527600)</td>\n      <td>Kun Woo Park (14527593)</td>\n      <td>Byung Hun Min (14527609)</td>\n    </tr>\n    <tr>\n      <th>3</th>\n      <td>Hyun Jong Yang (14527548)</td>\n      <td>Tae Hoon Kim (14527928)</td>\n      <td>Eui Ji Yang (14527571)</td>\n      <td>ByungHo Park (14527572)</td>\n      <td>Hoon Jung (14527682)</td>\n      <td>Yeong Seok Jang (14527640)</td>\n      <td>Ha Seong Kim (14527576)</td>\n      <td>Kun Woo Park (14527593)</td>\n      <td>Preston Tucker (14527573)</td>\n      <td>Jung Hoo Lee (14527580)</td>\n    </tr>\n    <tr>\n      <th>4</th>\n      <td>Jake Brigham (14527551)</td>\n      <td>Casey Kelly (14527910)</td>\n      <td>Eui Ji Yang (14527571)</td>\n      <td>ByungHo Park (14527572)</td>\n      <td>Hoon Jung (14527682)</td>\n      <td>Min Sung Kim (14527612)</td>\n      <td>Sun Bin Kim (14527625)</td>\n      <td>Byung Hun Min (14527609)</td>\n      <td>Dong Min Han (14527600)</td>\n      <td>Jun Woo Jeon (14527602)</td>\n    </tr>\n    <tr>\n      <th>5</th>\n      <td>Hyun Jong Yang (14527548)</td>\n      <td>Casey Kelly (14527910)</td>\n      <td>Yong Hwan Baek (14527641)</td>\n      <td>Jae Il Oh (14527604)</td>\n      <td>Min Woo Park (14527591)</td>\n      <td>Min Sung Kim (14527612)</td>\n      <td>Ha Seong Kim (14527576)</td>\n      <td>Jun Woo Jeon (14527602)</td>\n      <td>Kun Woo Park (14527593)</td>\n      <td>Preston Tucker (14527573)</td>\n    </tr>\n    <tr>\n      <th>6</th>\n      <td>Casey Kelly (14527910)</td>\n      <td>Hyun Jong Yang (14527548)</td>\n      <td>Yong Hwan Baek (14527641)</td>\n      <td>ByungHo Park (14527572)</td>\n      <td>Hoon Jung (14527682)</td>\n      <td>Yeong Seok Jang (14527640)</td>\n      <td>Ha Seong Kim (14527576)</td>\n      <td>Jun Woo Jeon (14527602)</td>\n      <td>Byung Hun Min (14527609)</td>\n      <td>Jung Hoo Lee (14527580)</td>\n    </tr>\n    <tr>\n      <th>7</th>\n      <td>Casey Kelly (14527910)</td>\n      <td>Hyun Jong Yang (14527548)</td>\n      <td>Eui Ji Yang (14527571)</td>\n      <td>ByungHo Park (14527572)</td>\n      <td>Hoon Jung (14527682)</td>\n      <td>Yeong Seok Jang (14527640)</td>\n      <td>Sun Bin Kim (14527625)</td>\n      <td>Kun Woo Park (14527593)</td>\n      <td>Byung Hun Min (14527609)</td>\n      <td>Jung Hoo Lee (14527580)</td>\n    </tr>\n    <tr>\n      <th>8</th>\n      <td>Tae Hoon Kim (14527928)</td>\n      <td>Hyun Jong Yang (14527548)</td>\n      <td>Yong Hwan Baek (14527641)</td>\n      <td>Jae Il Oh (14527604)</td>\n      <td>Hoon Jung (14527682)</td>\n      <td>Yeong Seok Jang (14527640)</td>\n      <td>Sun Bin Kim (14527625)</td>\n      <td>Kun Woo Park (14527593)</td>\n      <td>Byung Hun Min (14527609)</td>\n      <td>Jung Hoo Lee (14527580)</td>\n    </tr>\n    <tr>\n      <th>9</th>\n      <td>Tae Hoon Kim (14527928)</td>\n      <td>Jake Brigham (14527551)</td>\n      <td>Yong Hwan Baek (14527641)</td>\n      <td>ByungHo Park (14527572)</td>\n      <td>Hoon Jung (14527682)</td>\n      <td>Min Sung Kim (14527612)</td>\n      <td>Ha Seong Kim (14527576)</td>\n      <td>Kun Woo Park (14527593)</td>\n      <td>Byung Hun Min (14527609)</td>\n      <td>Dong Min Han (14527600)</td>\n    </tr>\n    <tr>\n      <th>10</th>\n      <td>Tae Hoon Kim (14527928)</td>\n      <td>Casey Kelly (14527910)</td>\n      <td>Yong Hwan Baek (14527641)</td>\n      <td>ByungHo Park (14527572)</td>\n      <td>Hoon Jung (14527682)</td>\n      <td>Yeong Seok Jang (14527640)</td>\n      <td>Ha Seong Kim (14527576)</td>\n      <td>Kun Woo Park (14527593)</td>\n      <td>Byung Hun Min (14527609)</td>\n      <td>Dong Min Han (14527600)</td>\n    </tr>\n    <tr>\n      <th>11</th>\n      <td>Tae Hoon Kim (14527928)</td>\n      <td>Casey Kelly (14527910)</td>\n      <td>Yong Hwan Baek (14527641)</td>\n      <td>ByungHo Park (14527572)</td>\n      <td>Hoon Jung (14527682)</td>\n      <td>Min Sung Kim (14527612)</td>\n      <td>Sun Bin Kim (14527625)</td>\n      <td>Preston Tucker (14527573)</td>\n      <td>Jun Woo Jeon (14527602)</td>\n      <td>Jung Hoo Lee (14527580)</td>\n    </tr>\n    <tr>\n      <th>12</th>\n      <td>Casey Kelly (14527910)</td>\n      <td>Tae Hoon Kim (14527928)</td>\n      <td>Yong Hwan Baek (14527641)</td>\n      <td>ByungHo Park (14527572)</td>\n      <td>Hoon Jung (14527682)</td>\n      <td>Yeong Seok Jang (14527640)</td>\n      <td>Ha Seong Kim (14527576)</td>\n      <td>Dong Min Han (14527600)</td>\n      <td>Kun Woo Park (14527593)</td>\n      <td>Preston Tucker (14527573)</td>\n    </tr>\n    <tr>\n      <th>13</th>\n      <td>Tae Hoon Kim (14527928)</td>\n      <td>Hyun Jong Yang (14527548)</td>\n      <td>Yong Hwan Baek (14527641)</td>\n      <td>ByungHo Park (14527572)</td>\n      <td>Min Woo Park (14527591)</td>\n      <td>Yeong Seok Jang (14527640)</td>\n      <td>Sun Bin Kim (14527625)</td>\n      <td>Byung Hun Min (14527609)</td>\n      <td>Jun Woo Jeon (14527602)</td>\n      <td>Kun Woo Park (14527593)</td>\n    </tr>\n    <tr>\n      <th>14</th>\n      <td>Hyun Jong Yang (14527548)</td>\n      <td>Tae Hoon Kim (14527928)</td>\n      <td>Yong Hwan Baek (14527641)</td>\n      <td>Jae Il Oh (14527604)</td>\n      <td>Min Woo Park (14527591)</td>\n      <td>Yeong Seok Jang (14527640)</td>\n      <td>Sun Bin Kim (14527625)</td>\n      <td>Preston Tucker (14527573)</td>\n      <td>Dong Min Han (14527600)</td>\n      <td>Jung Hoo Lee (14527580)</td>\n    </tr>\n    <tr>\n      <th>15</th>\n      <td>Jake Brigham (14527551)</td>\n      <td>Hyun Jong Yang (14527548)</td>\n      <td>Eui Ji Yang (14527571)</td>\n      <td>Jae Il Oh (14527604)</td>\n      <td>Min Woo Park (14527591)</td>\n      <td>Yeong Seok Jang (14527640)</td>\n      <td>Ha Seong Kim (14527576)</td>\n      <td>Jung Hoo Lee (14527580)</td>\n      <td>Kun Woo Park (14527593)</td>\n      <td>Byung Hun Min (14527609)</td>\n    </tr>\n    <tr>\n      <th>16</th>\n      <td>Tae Hoon Kim (14527928)</td>\n      <td>Hyun Jong Yang (14527548)</td>\n      <td>Eui Ji Yang (14527571)</td>\n      <td>ByungHo Park (14527572)</td>\n      <td>Hoon Jung (14527682)</td>\n      <td>Yeong Seok Jang (14527640)</td>\n      <td>Sun Bin Kim (14527625)</td>\n      <td>Jun Woo Jeon (14527602)</td>\n      <td>Byung Hun Min (14527609)</td>\n      <td>Preston Tucker (14527573)</td>\n    </tr>\n  </tbody>\n</table>\n</div>",
            "text/plain": "                            P                          P  \\\n0   Hyun Jong Yang (14527548)    Jake Brigham (14527551)   \n1     Jake Brigham (14527551)  Hyun Jong Yang (14527548)   \n2   Hyun Jong Yang (14527548)    Tae Hoon Kim (14527928)   \n3   Hyun Jong Yang (14527548)    Tae Hoon Kim (14527928)   \n4     Jake Brigham (14527551)     Casey Kelly (14527910)   \n5   Hyun Jong Yang (14527548)     Casey Kelly (14527910)   \n6      Casey Kelly (14527910)  Hyun Jong Yang (14527548)   \n7      Casey Kelly (14527910)  Hyun Jong Yang (14527548)   \n8     Tae Hoon Kim (14527928)  Hyun Jong Yang (14527548)   \n9     Tae Hoon Kim (14527928)    Jake Brigham (14527551)   \n10    Tae Hoon Kim (14527928)     Casey Kelly (14527910)   \n11    Tae Hoon Kim (14527928)     Casey Kelly (14527910)   \n12     Casey Kelly (14527910)    Tae Hoon Kim (14527928)   \n13    Tae Hoon Kim (14527928)  Hyun Jong Yang (14527548)   \n14  Hyun Jong Yang (14527548)    Tae Hoon Kim (14527928)   \n15    Jake Brigham (14527551)  Hyun Jong Yang (14527548)   \n16    Tae Hoon Kim (14527928)  Hyun Jong Yang (14527548)   \n\n                            C                       1B  \\\n0      Eui Ji Yang (14527571)     Jae Il Oh (14527604)   \n1   Yong Hwan Baek (14527641)  ByungHo Park (14527572)   \n2      Eui Ji Yang (14527571)  ByungHo Park (14527572)   \n3      Eui Ji Yang (14527571)  ByungHo Park (14527572)   \n4      Eui Ji Yang (14527571)  ByungHo Park (14527572)   \n5   Yong Hwan Baek (14527641)     Jae Il Oh (14527604)   \n6   Yong Hwan Baek (14527641)  ByungHo Park (14527572)   \n7      Eui Ji Yang (14527571)  ByungHo Park (14527572)   \n8   Yong Hwan Baek (14527641)     Jae Il Oh (14527604)   \n9   Yong Hwan Baek (14527641)  ByungHo Park (14527572)   \n10  Yong Hwan Baek (14527641)  ByungHo Park (14527572)   \n11  Yong Hwan Baek (14527641)  ByungHo Park (14527572)   \n12  Yong Hwan Baek (14527641)  ByungHo Park (14527572)   \n13  Yong Hwan Baek (14527641)  ByungHo Park (14527572)   \n14  Yong Hwan Baek (14527641)     Jae Il Oh (14527604)   \n15     Eui Ji Yang (14527571)     Jae Il Oh (14527604)   \n16     Eui Ji Yang (14527571)  ByungHo Park (14527572)   \n\n                         2B                          3B  \\\n0      Hoon Jung (14527682)  Yeong Seok Jang (14527640)   \n1   Min Woo Park (14527591)  Yeong Seok Jang (14527640)   \n2   Min Woo Park (14527591)     Min Sung Kim (14527612)   \n3      Hoon Jung (14527682)  Yeong Seok Jang (14527640)   \n4      Hoon Jung (14527682)     Min Sung Kim (14527612)   \n5   Min Woo Park (14527591)     Min Sung Kim (14527612)   \n6      Hoon Jung (14527682)  Yeong Seok Jang (14527640)   \n7      Hoon Jung (14527682)  Yeong Seok Jang (14527640)   \n8      Hoon Jung (14527682)  Yeong Seok Jang (14527640)   \n9      Hoon Jung (14527682)     Min Sung Kim (14527612)   \n10     Hoon Jung (14527682)  Yeong Seok Jang (14527640)   \n11     Hoon Jung (14527682)     Min Sung Kim (14527612)   \n12     Hoon Jung (14527682)  Yeong Seok Jang (14527640)   \n13  Min Woo Park (14527591)  Yeong Seok Jang (14527640)   \n14  Min Woo Park (14527591)  Yeong Seok Jang (14527640)   \n15  Min Woo Park (14527591)  Yeong Seok Jang (14527640)   \n16     Hoon Jung (14527682)  Yeong Seok Jang (14527640)   \n\n                         SS                         OF  \\\n0   Ha Seong Kim (14527576)    Jung Hoo Lee (14527580)   \n1    Sun Bin Kim (14527625)    Jun Woo Jeon (14527602)   \n2    Sun Bin Kim (14527625)    Dong Min Han (14527600)   \n3   Ha Seong Kim (14527576)    Kun Woo Park (14527593)   \n4    Sun Bin Kim (14527625)   Byung Hun Min (14527609)   \n5   Ha Seong Kim (14527576)    Jun Woo Jeon (14527602)   \n6   Ha Seong Kim (14527576)    Jun Woo Jeon (14527602)   \n7    Sun Bin Kim (14527625)    Kun Woo Park (14527593)   \n8    Sun Bin Kim (14527625)    Kun Woo Park (14527593)   \n9   Ha Seong Kim (14527576)    Kun Woo Park (14527593)   \n10  Ha Seong Kim (14527576)    Kun Woo Park (14527593)   \n11   Sun Bin Kim (14527625)  Preston Tucker (14527573)   \n12  Ha Seong Kim (14527576)    Dong Min Han (14527600)   \n13   Sun Bin Kim (14527625)   Byung Hun Min (14527609)   \n14   Sun Bin Kim (14527625)  Preston Tucker (14527573)   \n15  Ha Seong Kim (14527576)    Jung Hoo Lee (14527580)   \n16   Sun Bin Kim (14527625)    Jun Woo Jeon (14527602)   \n\n                           OF                         OF  \n0   Preston Tucker (14527573)    Jun Woo Jeon (14527602)  \n1     Jung Hoo Lee (14527580)    Dong Min Han (14527600)  \n2     Kun Woo Park (14527593)   Byung Hun Min (14527609)  \n3   Preston Tucker (14527573)    Jung Hoo Lee (14527580)  \n4     Dong Min Han (14527600)    Jun Woo Jeon (14527602)  \n5     Kun Woo Park (14527593)  Preston Tucker (14527573)  \n6    Byung Hun Min (14527609)    Jung Hoo Lee (14527580)  \n7    Byung Hun Min (14527609)    Jung Hoo Lee (14527580)  \n8    Byung Hun Min (14527609)    Jung Hoo Lee (14527580)  \n9    Byung Hun Min (14527609)    Dong Min Han (14527600)  \n10   Byung Hun Min (14527609)    Dong Min Han (14527600)  \n11    Jun Woo Jeon (14527602)    Jung Hoo Lee (14527580)  \n12    Kun Woo Park (14527593)  Preston Tucker (14527573)  \n13    Jun Woo Jeon (14527602)    Kun Woo Park (14527593)  \n14    Dong Min Han (14527600)    Jung Hoo Lee (14527580)  \n15    Kun Woo Park (14527593)   Byung Hun Min (14527609)  \n16   Byung Hun Min (14527609)  Preston Tucker (14527573)  "
          },
          "metadata": {}
        }
      ]
    },
    {
      "metadata": {
        "trusted": true
      },
      "cell_type": "code",
      "source": "df_lineups.to_csv('Lineups/KBO_lineups.csv',index=False)",
      "execution_count": 41,
      "outputs": []
    },
    {
      "metadata": {
        "trusted": true
      },
      "cell_type": "code",
      "source": "",
      "execution_count": null,
      "outputs": []
    }
  ],
  "metadata": {
    "kernelspec": {
      "name": "python36",
      "display_name": "Python 3.6",
      "language": "python"
    },
    "language_info": {
      "mimetype": "text/x-python",
      "nbconvert_exporter": "python",
      "name": "python",
      "pygments_lexer": "ipython3",
      "version": "3.6.6",
      "file_extension": ".py",
      "codemirror_mode": {
        "version": 3,
        "name": "ipython"
      }
    }
  },
  "nbformat": 4,
  "nbformat_minor": 1
}