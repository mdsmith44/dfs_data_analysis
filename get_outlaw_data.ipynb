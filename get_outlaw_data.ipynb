{
  "cells": [
    {
      "metadata": {
        "heading_collapsed": true
      },
      "cell_type": "markdown",
      "source": "## Process Outlaw data in python before passing to R for optimization"
    },
    {
      "metadata": {
        "trusted": true,
        "hidden": true
      },
      "cell_type": "code",
      "source": "import pandas as pd\nimport numpy as np",
      "execution_count": 7,
      "outputs": []
    },
    {
      "metadata": {
        "trusted": true,
        "hidden": true
      },
      "cell_type": "code",
      "source": "#Read salary data from dk\n#6/23\nurl1 = 'https://www.draftkings.com/lineup/getavailableplayerscsv?contestTypeId=84&draftGroupId=36302'\n\n#6/24\nurl2 = 'https://www.draftkings.com/lineup/getavailableplayerscsv?contestTypeId=85&draftGroupId=36355'\n\nurl3 = 'https://www.draftkings.com/lineup/getavailableplayerscsv?contestTypeId=86&draftGroupId=36414'\ndf_sal = pd.read_csv(url3)\ndf_sal.head()",
      "execution_count": 8,
      "outputs": [
        {
          "output_type": "execute_result",
          "execution_count": 8,
          "data": {
            "text/html": "<div>\n<style scoped>\n    .dataframe tbody tr th:only-of-type {\n        vertical-align: middle;\n    }\n\n    .dataframe tbody tr th {\n        vertical-align: top;\n    }\n\n    .dataframe thead th {\n        text-align: right;\n    }\n</style>\n<table border=\"1\" class=\"dataframe\">\n  <thead>\n    <tr style=\"text-align: right;\">\n      <th></th>\n      <th>Position</th>\n      <th>Name + ID</th>\n      <th>Name</th>\n      <th>ID</th>\n      <th>Roster Position</th>\n      <th>Salary</th>\n      <th>Game Info</th>\n      <th>TeamAbbrev</th>\n      <th>AvgPointsPerGame</th>\n    </tr>\n  </thead>\n  <tbody>\n    <tr>\n      <th>0</th>\n      <td>G</td>\n      <td>John Catlin (14679194) (LOCKED)</td>\n      <td>John Catlin</td>\n      <td>14679194</td>\n      <td>G</td>\n      <td>10700</td>\n      <td>The Reno Open</td>\n      <td>Golf</td>\n      <td>52.5</td>\n    </tr>\n    <tr>\n      <th>1</th>\n      <td>G</td>\n      <td>Matt Picanso (14679195) (LOCKED)</td>\n      <td>Matt Picanso</td>\n      <td>14679195</td>\n      <td>G</td>\n      <td>10400</td>\n      <td>The Reno Open</td>\n      <td>Golf</td>\n      <td>0.0</td>\n    </tr>\n    <tr>\n      <th>2</th>\n      <td>G</td>\n      <td>Mark Anguiano (14679196) (LOCKED)</td>\n      <td>Mark Anguiano</td>\n      <td>14679196</td>\n      <td>G</td>\n      <td>10200</td>\n      <td>The Reno Open</td>\n      <td>Golf</td>\n      <td>0.0</td>\n    </tr>\n    <tr>\n      <th>3</th>\n      <td>G</td>\n      <td>Alistair Docherty (14679197) (LOCKED)</td>\n      <td>Alistair Docherty</td>\n      <td>14679197</td>\n      <td>G</td>\n      <td>9900</td>\n      <td>The Reno Open</td>\n      <td>Golf</td>\n      <td>0.0</td>\n    </tr>\n    <tr>\n      <th>4</th>\n      <td>G</td>\n      <td>Norman Xiong (14679198) (LOCKED)</td>\n      <td>Norman Xiong</td>\n      <td>14679198</td>\n      <td>G</td>\n      <td>9700</td>\n      <td>The Reno Open</td>\n      <td>Golf</td>\n      <td>0.0</td>\n    </tr>\n  </tbody>\n</table>\n</div>",
            "text/plain": "  Position                              Name + ID               Name  \\\n0        G        John Catlin (14679194) (LOCKED)        John Catlin   \n1        G       Matt Picanso (14679195) (LOCKED)       Matt Picanso   \n2        G      Mark Anguiano (14679196) (LOCKED)      Mark Anguiano   \n3        G  Alistair Docherty (14679197) (LOCKED)  Alistair Docherty   \n4        G       Norman Xiong (14679198) (LOCKED)       Norman Xiong   \n\n         ID Roster Position  Salary      Game Info TeamAbbrev  \\\n0  14679194               G   10700  The Reno Open       Golf   \n1  14679195               G   10400  The Reno Open       Golf   \n2  14679196               G   10200  The Reno Open       Golf   \n3  14679197               G    9900  The Reno Open       Golf   \n4  14679198               G    9700  The Reno Open       Golf   \n\n   AvgPointsPerGame  \n0              52.5  \n1               0.0  \n2               0.0  \n3               0.0  \n4               0.0  "
          },
          "metadata": {}
        }
      ]
    },
    {
      "metadata": {
        "trusted": true,
        "hidden": true
      },
      "cell_type": "code",
      "source": "df_sal[df_sal.Name.str.contains('Smith')]",
      "execution_count": 9,
      "outputs": [
        {
          "output_type": "execute_result",
          "execution_count": 9,
          "data": {
            "text/html": "<div>\n<style scoped>\n    .dataframe tbody tr th:only-of-type {\n        vertical-align: middle;\n    }\n\n    .dataframe tbody tr th {\n        vertical-align: top;\n    }\n\n    .dataframe thead th {\n        text-align: right;\n    }\n</style>\n<table border=\"1\" class=\"dataframe\">\n  <thead>\n    <tr style=\"text-align: right;\">\n      <th></th>\n      <th>Position</th>\n      <th>Name + ID</th>\n      <th>Name</th>\n      <th>ID</th>\n      <th>Roster Position</th>\n      <th>Salary</th>\n      <th>Game Info</th>\n      <th>TeamAbbrev</th>\n      <th>AvgPointsPerGame</th>\n    </tr>\n  </thead>\n  <tbody>\n    <tr>\n      <th>18</th>\n      <td>G</td>\n      <td>Zach Smith (14679212) (LOCKED)</td>\n      <td>Zach Smith</td>\n      <td>14679212</td>\n      <td>G</td>\n      <td>8100</td>\n      <td>The Reno Open</td>\n      <td>Golf</td>\n      <td>0.0</td>\n    </tr>\n    <tr>\n      <th>40</th>\n      <td>G</td>\n      <td>Scott Smith (14679234) (LOCKED)</td>\n      <td>Scott Smith</td>\n      <td>14679234</td>\n      <td>G</td>\n      <td>6800</td>\n      <td>The Reno Open</td>\n      <td>Golf</td>\n      <td>0.0</td>\n    </tr>\n  </tbody>\n</table>\n</div>",
            "text/plain": "   Position                        Name + ID         Name        ID  \\\n18        G   Zach Smith (14679212) (LOCKED)   Zach Smith  14679212   \n40        G  Scott Smith (14679234) (LOCKED)  Scott Smith  14679234   \n\n   Roster Position  Salary      Game Info TeamAbbrev  AvgPointsPerGame  \n18               G    8100  The Reno Open       Golf               0.0  \n40               G    6800  The Reno Open       Golf               0.0  "
          },
          "metadata": {}
        }
      ]
    },
    {
      "metadata": {
        "trusted": true,
        "hidden": true
      },
      "cell_type": "code",
      "source": "#read in odds\ndf_odds = pd.read_csv('Data/Outlaw_odds_20200623.csv')[['Name','Odds']]\ndf_odds.loc[len(df_odds)]=['Eddie Olson',36]\ndf_odds.head(12)",
      "execution_count": 10,
      "outputs": [
        {
          "output_type": "execute_result",
          "execution_count": 10,
          "data": {
            "text/html": "<div>\n<style scoped>\n    .dataframe tbody tr th:only-of-type {\n        vertical-align: middle;\n    }\n\n    .dataframe tbody tr th {\n        vertical-align: top;\n    }\n\n    .dataframe thead th {\n        text-align: right;\n    }\n</style>\n<table border=\"1\" class=\"dataframe\">\n  <thead>\n    <tr style=\"text-align: right;\">\n      <th></th>\n      <th>Name</th>\n      <th>Odds</th>\n    </tr>\n  </thead>\n  <tbody>\n    <tr>\n      <th>0</th>\n      <td>John Catlin</td>\n      <td>8</td>\n    </tr>\n    <tr>\n      <th>1</th>\n      <td>Rico Hoey</td>\n      <td>12</td>\n    </tr>\n    <tr>\n      <th>2</th>\n      <td>Matt Picanso</td>\n      <td>14</td>\n    </tr>\n    <tr>\n      <th>3</th>\n      <td>Mark Anguiano</td>\n      <td>16</td>\n    </tr>\n    <tr>\n      <th>4</th>\n      <td>Brady Calkins</td>\n      <td>16</td>\n    </tr>\n    <tr>\n      <th>5</th>\n      <td>Alistair Docherty</td>\n      <td>20</td>\n    </tr>\n    <tr>\n      <th>6</th>\n      <td>Justin Suh</td>\n      <td>22</td>\n    </tr>\n    <tr>\n      <th>7</th>\n      <td>Sam Triplett</td>\n      <td>25</td>\n    </tr>\n    <tr>\n      <th>8</th>\n      <td>MJ Daffue</td>\n      <td>28</td>\n    </tr>\n    <tr>\n      <th>9</th>\n      <td>Nicolo Galletti</td>\n      <td>28</td>\n    </tr>\n    <tr>\n      <th>10</th>\n      <td>Norman Xiong</td>\n      <td>28</td>\n    </tr>\n    <tr>\n      <th>11</th>\n      <td>David Gazzolo</td>\n      <td>28</td>\n    </tr>\n  </tbody>\n</table>\n</div>",
            "text/plain": "                 Name  Odds\n0         John Catlin     8\n1           Rico Hoey    12\n2        Matt Picanso    14\n3       Mark Anguiano    16\n4       Brady Calkins    16\n5   Alistair Docherty    20\n6          Justin Suh    22\n7        Sam Triplett    25\n8           MJ Daffue    28\n9     Nicolo Galletti    28\n10       Norman Xiong    28\n11      David Gazzolo    28"
          },
          "metadata": {}
        }
      ]
    },
    {
      "metadata": {
        "trusted": true,
        "hidden": true
      },
      "cell_type": "code",
      "source": "df_odds.loc[len(df_odds)] = ['Zach Smith',20]\ndf_odds[df_odds.Name.str.contains('Smith')]",
      "execution_count": 11,
      "outputs": [
        {
          "output_type": "execute_result",
          "execution_count": 11,
          "data": {
            "text/html": "<div>\n<style scoped>\n    .dataframe tbody tr th:only-of-type {\n        vertical-align: middle;\n    }\n\n    .dataframe tbody tr th {\n        vertical-align: top;\n    }\n\n    .dataframe thead th {\n        text-align: right;\n    }\n</style>\n<table border=\"1\" class=\"dataframe\">\n  <thead>\n    <tr style=\"text-align: right;\">\n      <th></th>\n      <th>Name</th>\n      <th>Odds</th>\n    </tr>\n  </thead>\n  <tbody>\n    <tr>\n      <th>69</th>\n      <td>Stuart Smith</td>\n      <td>300</td>\n    </tr>\n    <tr>\n      <th>84</th>\n      <td>Scott Smith</td>\n      <td>400</td>\n    </tr>\n    <tr>\n      <th>143</th>\n      <td>Zach Smith</td>\n      <td>20</td>\n    </tr>\n  </tbody>\n</table>\n</div>",
            "text/plain": "             Name  Odds\n69   Stuart Smith   300\n84    Scott Smith   400\n143    Zach Smith    20"
          },
          "metadata": {}
        }
      ]
    },
    {
      "metadata": {
        "trusted": true,
        "hidden": true
      },
      "cell_type": "code",
      "source": "#replace value in df_odds with closes match in df_dk\n#Replace Name in df_odds with closest name in df_sal\nfrom difflib import get_close_matches\nfor j in np.arange(len(df_odds)):\n    curr_name = df_odds['Name'].iloc[j]\n    try:\n        new_name = get_close_matches(curr_name,df_sal['Name'],cutoff=.8)[0]\n        if new_name != curr_name:\n            print(\"{} replaced with {}\".format(curr_name,new_name))\n    except:\n        new_name = 'No Name'\n        print('NO MATCH: curr_name = {}, new_name = {}'.format(curr_name,new_name))\n    df_odds['Name'].iloc[j] = new_name\n\ndf_odds.head()",
      "execution_count": 12,
      "outputs": [
        {
          "output_type": "stream",
          "text": "/home/nbuser/anaconda3_501/lib/python3.6/site-packages/pandas/core/indexing.py:189: SettingWithCopyWarning: \nA value is trying to be set on a copy of a slice from a DataFrame\n\nSee the caveats in the documentation: http://pandas.pydata.org/pandas-docs/stable/indexing.html#indexing-view-versus-copy\n  self._setitem_with_indexer(indexer, value)\n",
          "name": "stderr"
        },
        {
          "output_type": "stream",
          "text": "NO MATCH: curr_name = Rico Hoey, new_name = No Name\nNO MATCH: curr_name = Justin Suh, new_name = No Name\nNO MATCH: curr_name = Sam Triplett, new_name = No Name\nNO MATCH: curr_name = MJ Daffue, new_name = No Name\nNO MATCH: curr_name = Nicolo Galletti, new_name = No Name\nNO MATCH: curr_name = Trevor Sluman, new_name = No Name\nNO MATCH: curr_name = Neil Johnson, new_name = No Name\nNO MATCH: curr_name = Corey Pereira, new_name = No Name\nNO MATCH: curr_name = Gregor Main, new_name = No Name\nNO MATCH: curr_name = Armando Favela, new_name = No Name\nNO MATCH: curr_name = Kolton Lapa, new_name = No Name\nNO MATCH: curr_name = Derek Barron, new_name = No Name\nNO MATCH: curr_name = Kyle Westmoreland, new_name = No Name\nNO MATCH: curr_name = James Erkenbeck, new_name = No Name\nNO MATCH: curr_name = Barry Enright, new_name = No Name\nNO MATCH: curr_name = Jhared Hack, new_name = No Name\nNO MATCH: curr_name = Jonathan Ruiz, new_name = No Name\nNO MATCH: curr_name = Bennett Doyle, new_name = No Name\nNO MATCH: curr_name = Perry Cohen, new_name = No Name\nNO MATCH: curr_name = Archer Price, new_name = No Name\nNO MATCH: curr_name = Zane Thomas, new_name = No Name\nNO MATCH: curr_name = Blake Allen, new_name = No Name\nNO MATCH: curr_name = Jake Byrum, new_name = No Name\nNO MATCH: curr_name = Jake Johnson, new_name = No Name\nNO MATCH: curr_name = Jonny Baxter, new_name = No Name\nNO MATCH: curr_name = Tom Pernice Jr, new_name = No Name\nNO MATCH: curr_name = Zahkai Brown, new_name = No Name\nNO MATCH: curr_name = Jay McLuen, new_name = No Name\nNO MATCH: curr_name = Thomas Lehman, new_name = No Name\nNO MATCH: curr_name = Jin Jeong, new_name = No Name\nNO MATCH: curr_name = Jake Sarnoff, new_name = No Name\nNO MATCH: curr_name = Jonathan De Los Reyes, new_name = No Name\nNO MATCH: curr_name = Stuart Smith, new_name = No Name\nNO MATCH: curr_name = Mark Geddes, new_name = No Name\nNO MATCH: curr_name = Redford Bobbitt, new_name = No Name\nNO MATCH: curr_name = Danny Ochoa, new_name = No Name\nNO MATCH: curr_name = Jesse Heinly, new_name = No Name\nNO MATCH: curr_name = Roy Cootes, new_name = No Name\nNO MATCH: curr_name = Phillip Yribarren, new_name = No Name\nNO MATCH: curr_name = Torey Edwards, new_name = No Name\nNO MATCH: curr_name = Ryan McCoy, new_name = No Name\nNO MATCH: curr_name = John McCord, new_name = No Name\nNO MATCH: curr_name = Emanuele Manzone, new_name = No Name\nNO MATCH: curr_name = Joseph Lambert, new_name = No Name\nNO MATCH: curr_name = Andrew Wilkinson, new_name = No Name\nNO MATCH: curr_name = Ben Shur, new_name = No Name\nNO MATCH: curr_name = Jake Miller, new_name = No Name\nNO MATCH: curr_name = William Mansfield, new_name = No Name\nNO MATCH: curr_name = Taylor Myers, new_name = No Name\nNO MATCH: curr_name = Colby Dean, new_name = No Name\nNO MATCH: curr_name = Matt Wilson, new_name = No Name\nNO MATCH: curr_name = David Rauer, new_name = No Name\nNO MATCH: curr_name = Mj Morin, new_name = No Name\nNO MATCH: curr_name = TJ Duncan, new_name = No Name\nNO MATCH: curr_name = Tristan Stone, new_name = No Name\nNO MATCH: curr_name = Rodney Hamblin, new_name = No Name\nNO MATCH: curr_name = Caleb Sibley, new_name = No Name\nNO MATCH: curr_name = Michael Perchak, new_name = No Name\nNO MATCH: curr_name = Dalton Butler, new_name = No Name\nNO MATCH: curr_name = Ty Chambers, new_name = No Name\nNO MATCH: curr_name = James Feutz, new_name = No Name\nNO MATCH: curr_name = Nicholas Huff, new_name = No Name\nNO MATCH: curr_name = Andrew Garner, new_name = No Name\nNO MATCH: curr_name = Ben Boyle, new_name = No Name\nNO MATCH: curr_name = Will Holmgren, new_name = No Name\nNO MATCH: curr_name = Ranger Downs, new_name = No Name\nNO MATCH: curr_name = Mitchell Baldridge, new_name = No Name\nNO MATCH: curr_name = James Vaughan, new_name = No Name\nNO MATCH: curr_name = Daniel Sewell, new_name = No Name\nNO MATCH: curr_name = Kevin Murphy, new_name = No Name\nNO MATCH: curr_name = Tim Harris, new_name = No Name\nNO MATCH: curr_name = Zach Allred, new_name = No Name\nNO MATCH: curr_name = Josh Anderson, new_name = No Name\nNO MATCH: curr_name = Nicklaus Rivera, new_name = No Name\nNO MATCH: curr_name = Christian Rajcic, new_name = No Name\nNO MATCH: curr_name = Matt Pridey, new_name = No Name\nNO MATCH: curr_name = Payton Olsen, new_name = No Name\nNO MATCH: curr_name = Dominic Brutocao, new_name = No Name\nNO MATCH: curr_name = Michael Dominick, new_name = No Name\nNO MATCH: curr_name = Willie Yacknow, new_name = No Name\nNO MATCH: curr_name = Keith Clearwater, new_name = No Name\nNO MATCH: curr_name = Jack Elliott, new_name = No Name\nNO MATCH: curr_name = Adam Power, new_name = No Name\nNO MATCH: curr_name = Micah Bally, new_name = No Name\nNO MATCH: curr_name = Trent Virden, new_name = No Name\nNO MATCH: curr_name = Joshua Ralph, new_name = No Name\nNO MATCH: curr_name = James Andrews, new_name = No Name\nNO MATCH: curr_name = Bryan Sandoval, new_name = No Name\nNO MATCH: curr_name = Jeff Lyons, new_name = No Name\nNO MATCH: curr_name = Lincoln Lyles, new_name = No Name\nNO MATCH: curr_name = Matthew Ashley, new_name = No Name\nNO MATCH: curr_name = Aaron Rowe, new_name = No Name\nNO MATCH: curr_name = Matthew Brahm, new_name = No Name\nNO MATCH: curr_name = Amritpal Kang, new_name = No Name\nNO MATCH: curr_name = Eddie Olson, new_name = No Name\n",
          "name": "stdout"
        },
        {
          "output_type": "execute_result",
          "execution_count": 12,
          "data": {
            "text/html": "<div>\n<style scoped>\n    .dataframe tbody tr th:only-of-type {\n        vertical-align: middle;\n    }\n\n    .dataframe tbody tr th {\n        vertical-align: top;\n    }\n\n    .dataframe thead th {\n        text-align: right;\n    }\n</style>\n<table border=\"1\" class=\"dataframe\">\n  <thead>\n    <tr style=\"text-align: right;\">\n      <th></th>\n      <th>Name</th>\n      <th>Odds</th>\n    </tr>\n  </thead>\n  <tbody>\n    <tr>\n      <th>0</th>\n      <td>John Catlin</td>\n      <td>8</td>\n    </tr>\n    <tr>\n      <th>1</th>\n      <td>No Name</td>\n      <td>12</td>\n    </tr>\n    <tr>\n      <th>2</th>\n      <td>Matt Picanso</td>\n      <td>14</td>\n    </tr>\n    <tr>\n      <th>3</th>\n      <td>Mark Anguiano</td>\n      <td>16</td>\n    </tr>\n    <tr>\n      <th>4</th>\n      <td>Brady Calkins</td>\n      <td>16</td>\n    </tr>\n  </tbody>\n</table>\n</div>",
            "text/plain": "            Name  Odds\n0    John Catlin     8\n1        No Name    12\n2   Matt Picanso    14\n3  Mark Anguiano    16\n4  Brady Calkins    16"
          },
          "metadata": {}
        }
      ]
    },
    {
      "metadata": {
        "trusted": true,
        "hidden": true
      },
      "cell_type": "code",
      "source": "#Get df with just stuff we care about\ndf = df_sal[['Name + ID','Name','Salary']]\ndf = pd.merge(df,df_odds,on='Name',how='left').dropna()\ndf.iloc[np.r_[0:5,-3:0]]",
      "execution_count": 13,
      "outputs": [
        {
          "output_type": "execute_result",
          "execution_count": 13,
          "data": {
            "text/html": "<div>\n<style scoped>\n    .dataframe tbody tr th:only-of-type {\n        vertical-align: middle;\n    }\n\n    .dataframe tbody tr th {\n        vertical-align: top;\n    }\n\n    .dataframe thead th {\n        text-align: right;\n    }\n</style>\n<table border=\"1\" class=\"dataframe\">\n  <thead>\n    <tr style=\"text-align: right;\">\n      <th></th>\n      <th>Name + ID</th>\n      <th>Name</th>\n      <th>Salary</th>\n      <th>Odds</th>\n    </tr>\n  </thead>\n  <tbody>\n    <tr>\n      <th>0</th>\n      <td>John Catlin (14679194) (LOCKED)</td>\n      <td>John Catlin</td>\n      <td>10700</td>\n      <td>8.0</td>\n    </tr>\n    <tr>\n      <th>1</th>\n      <td>Matt Picanso (14679195) (LOCKED)</td>\n      <td>Matt Picanso</td>\n      <td>10400</td>\n      <td>14.0</td>\n    </tr>\n    <tr>\n      <th>2</th>\n      <td>Mark Anguiano (14679196) (LOCKED)</td>\n      <td>Mark Anguiano</td>\n      <td>10200</td>\n      <td>16.0</td>\n    </tr>\n    <tr>\n      <th>3</th>\n      <td>Alistair Docherty (14679197) (LOCKED)</td>\n      <td>Alistair Docherty</td>\n      <td>9900</td>\n      <td>20.0</td>\n    </tr>\n    <tr>\n      <th>4</th>\n      <td>Norman Xiong (14679198) (LOCKED)</td>\n      <td>Norman Xiong</td>\n      <td>9700</td>\n      <td>28.0</td>\n    </tr>\n    <tr>\n      <th>52</th>\n      <td>Chase Carlson (14679246) (LOCKED)</td>\n      <td>Chase Carlson</td>\n      <td>6200</td>\n      <td>500.0</td>\n    </tr>\n    <tr>\n      <th>53</th>\n      <td>Steve Sear (14679247) (LOCKED)</td>\n      <td>Steve Sear</td>\n      <td>6100</td>\n      <td>750.0</td>\n    </tr>\n    <tr>\n      <th>54</th>\n      <td>Li Wang (14679248) (LOCKED)</td>\n      <td>Li Wang</td>\n      <td>6000</td>\n      <td>600.0</td>\n    </tr>\n  </tbody>\n</table>\n</div>",
            "text/plain": "                                Name + ID               Name  Salary   Odds\n0         John Catlin (14679194) (LOCKED)        John Catlin   10700    8.0\n1        Matt Picanso (14679195) (LOCKED)       Matt Picanso   10400   14.0\n2       Mark Anguiano (14679196) (LOCKED)      Mark Anguiano   10200   16.0\n3   Alistair Docherty (14679197) (LOCKED)  Alistair Docherty    9900   20.0\n4        Norman Xiong (14679198) (LOCKED)       Norman Xiong    9700   28.0\n52      Chase Carlson (14679246) (LOCKED)      Chase Carlson    6200  500.0\n53         Steve Sear (14679247) (LOCKED)         Steve Sear    6100  750.0\n54            Li Wang (14679248) (LOCKED)            Li Wang    6000  600.0"
          },
          "metadata": {}
        }
      ]
    },
    {
      "metadata": {
        "trusted": true,
        "hidden": true
      },
      "cell_type": "code",
      "source": "#Add projections\nimport pickle\npkl_filename = 'outlaw_proj_model.pkl'\noutlaw_proj_model_pkl = open(pkl_filename, 'rb')\noutlaw_proj_model = pickle.load(outlaw_proj_model_pkl)\noutlaw_proj_model",
      "execution_count": 14,
      "outputs": [
        {
          "output_type": "execute_result",
          "execution_count": 14,
          "data": {
            "text/plain": "LinearRegression(copy_X=True, fit_intercept=True, n_jobs=None,\n         normalize=False)"
          },
          "metadata": {}
        }
      ]
    },
    {
      "metadata": {
        "trusted": true,
        "hidden": true
      },
      "cell_type": "code",
      "source": "from sklearn.preprocessing import PolynomialFeatures  \npoly = PolynomialFeatures(degree = 4) \ndf['Points'] = outlaw_proj_model.predict(poly.fit_transform(df[['Odds']]))\ndf.iloc[np.r_[0:4,-4:0]]",
      "execution_count": 15,
      "outputs": [
        {
          "output_type": "execute_result",
          "execution_count": 15,
          "data": {
            "text/html": "<div>\n<style scoped>\n    .dataframe tbody tr th:only-of-type {\n        vertical-align: middle;\n    }\n\n    .dataframe tbody tr th {\n        vertical-align: top;\n    }\n\n    .dataframe thead th {\n        text-align: right;\n    }\n</style>\n<table border=\"1\" class=\"dataframe\">\n  <thead>\n    <tr style=\"text-align: right;\">\n      <th></th>\n      <th>Name + ID</th>\n      <th>Name</th>\n      <th>Salary</th>\n      <th>Odds</th>\n      <th>Points</th>\n    </tr>\n  </thead>\n  <tbody>\n    <tr>\n      <th>0</th>\n      <td>John Catlin (14679194) (LOCKED)</td>\n      <td>John Catlin</td>\n      <td>10700</td>\n      <td>8.0</td>\n      <td>7.383962</td>\n    </tr>\n    <tr>\n      <th>1</th>\n      <td>Matt Picanso (14679195) (LOCKED)</td>\n      <td>Matt Picanso</td>\n      <td>10400</td>\n      <td>14.0</td>\n      <td>7.023074</td>\n    </tr>\n    <tr>\n      <th>2</th>\n      <td>Mark Anguiano (14679196) (LOCKED)</td>\n      <td>Mark Anguiano</td>\n      <td>10200</td>\n      <td>16.0</td>\n      <td>6.904185</td>\n    </tr>\n    <tr>\n      <th>3</th>\n      <td>Alistair Docherty (14679197) (LOCKED)</td>\n      <td>Alistair Docherty</td>\n      <td>9900</td>\n      <td>20.0</td>\n      <td>6.668501</td>\n    </tr>\n    <tr>\n      <th>51</th>\n      <td>Nick Cantlay (14679245) (LOCKED)</td>\n      <td>Nick Cantlay</td>\n      <td>6200</td>\n      <td>400.0</td>\n      <td>-5.997651</td>\n    </tr>\n    <tr>\n      <th>52</th>\n      <td>Chase Carlson (14679246) (LOCKED)</td>\n      <td>Chase Carlson</td>\n      <td>6200</td>\n      <td>500.0</td>\n      <td>-7.222029</td>\n    </tr>\n    <tr>\n      <th>53</th>\n      <td>Steve Sear (14679247) (LOCKED)</td>\n      <td>Steve Sear</td>\n      <td>6100</td>\n      <td>750.0</td>\n      <td>-8.807209</td>\n    </tr>\n    <tr>\n      <th>54</th>\n      <td>Li Wang (14679248) (LOCKED)</td>\n      <td>Li Wang</td>\n      <td>6000</td>\n      <td>600.0</td>\n      <td>-8.021154</td>\n    </tr>\n  </tbody>\n</table>\n</div>",
            "text/plain": "                                Name + ID               Name  Salary   Odds  \\\n0         John Catlin (14679194) (LOCKED)        John Catlin   10700    8.0   \n1        Matt Picanso (14679195) (LOCKED)       Matt Picanso   10400   14.0   \n2       Mark Anguiano (14679196) (LOCKED)      Mark Anguiano   10200   16.0   \n3   Alistair Docherty (14679197) (LOCKED)  Alistair Docherty    9900   20.0   \n51       Nick Cantlay (14679245) (LOCKED)       Nick Cantlay    6200  400.0   \n52      Chase Carlson (14679246) (LOCKED)      Chase Carlson    6200  500.0   \n53         Steve Sear (14679247) (LOCKED)         Steve Sear    6100  750.0   \n54            Li Wang (14679248) (LOCKED)            Li Wang    6000  600.0   \n\n      Points  \n0   7.383962  \n1   7.023074  \n2   6.904185  \n3   6.668501  \n51 -5.997651  \n52 -7.222029  \n53 -8.807209  \n54 -8.021154  "
          },
          "metadata": {}
        }
      ]
    },
    {
      "metadata": {
        "trusted": true,
        "hidden": true
      },
      "cell_type": "code",
      "source": "#Add Win\ndf['Win'] = 1 / (1 + df.Odds)\ndf.head()",
      "execution_count": 16,
      "outputs": [
        {
          "output_type": "execute_result",
          "execution_count": 16,
          "data": {
            "text/html": "<div>\n<style scoped>\n    .dataframe tbody tr th:only-of-type {\n        vertical-align: middle;\n    }\n\n    .dataframe tbody tr th {\n        vertical-align: top;\n    }\n\n    .dataframe thead th {\n        text-align: right;\n    }\n</style>\n<table border=\"1\" class=\"dataframe\">\n  <thead>\n    <tr style=\"text-align: right;\">\n      <th></th>\n      <th>Name + ID</th>\n      <th>Name</th>\n      <th>Salary</th>\n      <th>Odds</th>\n      <th>Points</th>\n      <th>Win</th>\n    </tr>\n  </thead>\n  <tbody>\n    <tr>\n      <th>0</th>\n      <td>John Catlin (14679194) (LOCKED)</td>\n      <td>John Catlin</td>\n      <td>10700</td>\n      <td>8.0</td>\n      <td>7.383962</td>\n      <td>0.111111</td>\n    </tr>\n    <tr>\n      <th>1</th>\n      <td>Matt Picanso (14679195) (LOCKED)</td>\n      <td>Matt Picanso</td>\n      <td>10400</td>\n      <td>14.0</td>\n      <td>7.023074</td>\n      <td>0.066667</td>\n    </tr>\n    <tr>\n      <th>2</th>\n      <td>Mark Anguiano (14679196) (LOCKED)</td>\n      <td>Mark Anguiano</td>\n      <td>10200</td>\n      <td>16.0</td>\n      <td>6.904185</td>\n      <td>0.058824</td>\n    </tr>\n    <tr>\n      <th>3</th>\n      <td>Alistair Docherty (14679197) (LOCKED)</td>\n      <td>Alistair Docherty</td>\n      <td>9900</td>\n      <td>20.0</td>\n      <td>6.668501</td>\n      <td>0.047619</td>\n    </tr>\n    <tr>\n      <th>4</th>\n      <td>Norman Xiong (14679198) (LOCKED)</td>\n      <td>Norman Xiong</td>\n      <td>9700</td>\n      <td>28.0</td>\n      <td>6.205432</td>\n      <td>0.034483</td>\n    </tr>\n  </tbody>\n</table>\n</div>",
            "text/plain": "                               Name + ID               Name  Salary  Odds  \\\n0        John Catlin (14679194) (LOCKED)        John Catlin   10700   8.0   \n1       Matt Picanso (14679195) (LOCKED)       Matt Picanso   10400  14.0   \n2      Mark Anguiano (14679196) (LOCKED)      Mark Anguiano   10200  16.0   \n3  Alistair Docherty (14679197) (LOCKED)  Alistair Docherty    9900  20.0   \n4       Norman Xiong (14679198) (LOCKED)       Norman Xiong    9700  28.0   \n\n     Points       Win  \n0  7.383962  0.111111  \n1  7.023074  0.066667  \n2  6.904185  0.058824  \n3  6.668501  0.047619  \n4  6.205432  0.034483  "
          },
          "metadata": {}
        }
      ]
    },
    {
      "metadata": {
        "trusted": true,
        "hidden": true
      },
      "cell_type": "code",
      "source": "#Read in tee times\ndf_tees = pd.read_csv('Data/outlaw_tees.csv')\ndf_tees.head()",
      "execution_count": 17,
      "outputs": [
        {
          "output_type": "execute_result",
          "execution_count": 17,
          "data": {
            "text/html": "<div>\n<style scoped>\n    .dataframe tbody tr th:only-of-type {\n        vertical-align: middle;\n    }\n\n    .dataframe tbody tr th {\n        vertical-align: top;\n    }\n\n    .dataframe thead th {\n        text-align: right;\n    }\n</style>\n<table border=\"1\" class=\"dataframe\">\n  <thead>\n    <tr style=\"text-align: right;\">\n      <th></th>\n      <th>Name</th>\n      <th>Tee</th>\n      <th>Hole</th>\n    </tr>\n  </thead>\n  <tbody>\n    <tr>\n      <th>0</th>\n      <td>BA</td>\n      <td>NaN</td>\n      <td>NaN</td>\n    </tr>\n    <tr>\n      <th>1</th>\n      <td>Blake Abercrombie</td>\n      <td>2:00 PM</td>\n      <td>1.0</td>\n    </tr>\n    <tr>\n      <th>2</th>\n      <td>Sacramento, CA</td>\n      <td>NaN</td>\n      <td>NaN</td>\n    </tr>\n    <tr>\n      <th>3</th>\n      <td>DA</td>\n      <td>NaN</td>\n      <td>NaN</td>\n    </tr>\n    <tr>\n      <th>4</th>\n      <td>Derek Ackerman</td>\n      <td>2:10 PM</td>\n      <td>1.0</td>\n    </tr>\n  </tbody>\n</table>\n</div>",
            "text/plain": "                Name      Tee  Hole\n0                 BA      NaN   NaN\n1  Blake Abercrombie  2:00 PM   1.0\n2     Sacramento, CA      NaN   NaN\n3                 DA      NaN   NaN\n4     Derek Ackerman  2:10 PM   1.0"
          },
          "metadata": {}
        }
      ]
    },
    {
      "metadata": {
        "trusted": true,
        "hidden": true
      },
      "cell_type": "code",
      "source": "df_tees = df_tees[df_tees.Tee.notnull()]\ndf_tees.iloc[np.r_[0:3,-3:0]]",
      "execution_count": 18,
      "outputs": [
        {
          "output_type": "execute_result",
          "execution_count": 18,
          "data": {
            "text/html": "<div>\n<style scoped>\n    .dataframe tbody tr th:only-of-type {\n        vertical-align: middle;\n    }\n\n    .dataframe tbody tr th {\n        vertical-align: top;\n    }\n\n    .dataframe thead th {\n        text-align: right;\n    }\n</style>\n<table border=\"1\" class=\"dataframe\">\n  <thead>\n    <tr style=\"text-align: right;\">\n      <th></th>\n      <th>Name</th>\n      <th>Tee</th>\n      <th>Hole</th>\n    </tr>\n  </thead>\n  <tbody>\n    <tr>\n      <th>1</th>\n      <td>Blake Abercrombie</td>\n      <td>2:00 PM</td>\n      <td>1.0</td>\n    </tr>\n    <tr>\n      <th>4</th>\n      <td>Derek Ackerman</td>\n      <td>2:10 PM</td>\n      <td>1.0</td>\n    </tr>\n    <tr>\n      <th>7</th>\n      <td>Blake Allen</td>\n      <td>12:40 PM</td>\n      <td>1.0</td>\n    </tr>\n    <tr>\n      <th>435</th>\n      <td>Willie Yacknow</td>\n      <td>7:30 AM</td>\n      <td>1.0</td>\n    </tr>\n    <tr>\n      <th>438</th>\n      <td>Phillip Yribarren</td>\n      <td>12:50 PM</td>\n      <td>10.0</td>\n    </tr>\n    <tr>\n      <th>441</th>\n      <td>Andrew Yun</td>\n      <td>1:20 PM</td>\n      <td>1.0</td>\n    </tr>\n  </tbody>\n</table>\n</div>",
            "text/plain": "                  Name       Tee  Hole\n1    Blake Abercrombie   2:00 PM   1.0\n4       Derek Ackerman   2:10 PM   1.0\n7          Blake Allen  12:40 PM   1.0\n435     Willie Yacknow   7:30 AM   1.0\n438  Phillip Yribarren  12:50 PM  10.0\n441         Andrew Yun   1:20 PM   1.0"
          },
          "metadata": {}
        }
      ]
    },
    {
      "metadata": {
        "trusted": true,
        "hidden": true
      },
      "cell_type": "code",
      "source": "#replace names with what appears in df\nfor i in np.arange(len(df_tees)):\n    curr_name = df_tees['Name'].iloc[i]\n    try:\n        new_name = get_close_matches(curr_name,df['Name'],cutoff=.85)[0]\n        if new_name != curr_name:\n            _\n            print(\"{} replaced with {}\".format(curr_name,new_name))\n    except:\n        new_name = 'No Name'\n        #print('NO MATCH: curr_name = {}, new_name = {}'.format(curr_name,new_name))\n    df_tees['Name'].iloc[i] = new_name\n#df2['Name'] = df2['Name'].apply(lambda x: get_close_matches(x,df2_sal['Name']))\ndf_tees.head(5)",
      "execution_count": 19,
      "outputs": [
        {
          "output_type": "stream",
          "text": "/home/nbuser/anaconda3_501/lib/python3.6/site-packages/pandas/core/indexing.py:189: SettingWithCopyWarning: \nA value is trying to be set on a copy of a slice from a DataFrame\n\nSee the caveats in the documentation: http://pandas.pydata.org/pandas-docs/stable/indexing.html#indexing-view-versus-copy\n  self._setitem_with_indexer(indexer, value)\n",
          "name": "stderr"
        },
        {
          "output_type": "execute_result",
          "execution_count": 19,
          "data": {
            "text/html": "<div>\n<style scoped>\n    .dataframe tbody tr th:only-of-type {\n        vertical-align: middle;\n    }\n\n    .dataframe tbody tr th {\n        vertical-align: top;\n    }\n\n    .dataframe thead th {\n        text-align: right;\n    }\n</style>\n<table border=\"1\" class=\"dataframe\">\n  <thead>\n    <tr style=\"text-align: right;\">\n      <th></th>\n      <th>Name</th>\n      <th>Tee</th>\n      <th>Hole</th>\n    </tr>\n  </thead>\n  <tbody>\n    <tr>\n      <th>1</th>\n      <td>Blake Abercrombie</td>\n      <td>2:00 PM</td>\n      <td>1.0</td>\n    </tr>\n    <tr>\n      <th>4</th>\n      <td>Derek Ackerman</td>\n      <td>2:10 PM</td>\n      <td>1.0</td>\n    </tr>\n    <tr>\n      <th>7</th>\n      <td>No Name</td>\n      <td>12:40 PM</td>\n      <td>1.0</td>\n    </tr>\n    <tr>\n      <th>10</th>\n      <td>No Name</td>\n      <td>2:10 PM</td>\n      <td>10.0</td>\n    </tr>\n    <tr>\n      <th>13</th>\n      <td>No Name</td>\n      <td>8:30 AM</td>\n      <td>1.0</td>\n    </tr>\n  </tbody>\n</table>\n</div>",
            "text/plain": "                 Name       Tee  Hole\n1   Blake Abercrombie   2:00 PM   1.0\n4      Derek Ackerman   2:10 PM   1.0\n7             No Name  12:40 PM   1.0\n10            No Name   2:10 PM  10.0\n13            No Name   8:30 AM   1.0"
          },
          "metadata": {}
        }
      ]
    },
    {
      "metadata": {
        "trusted": true,
        "hidden": true
      },
      "cell_type": "code",
      "source": "#Get Delay from first tee time\nt = pd.to_datetime(df_tees.Tee)\ntd_ser = t-t.min()\ndf_tees['tee_delay'] = [td.seconds/3600 for td in td_ser]\n\n#Make Hole int\ndf_tees.Hole = df_tees.Hole.astype(int)\n\n\ndf_tees.head()",
      "execution_count": 20,
      "outputs": [
        {
          "output_type": "execute_result",
          "execution_count": 20,
          "data": {
            "text/html": "<div>\n<style scoped>\n    .dataframe tbody tr th:only-of-type {\n        vertical-align: middle;\n    }\n\n    .dataframe tbody tr th {\n        vertical-align: top;\n    }\n\n    .dataframe thead th {\n        text-align: right;\n    }\n</style>\n<table border=\"1\" class=\"dataframe\">\n  <thead>\n    <tr style=\"text-align: right;\">\n      <th></th>\n      <th>Name</th>\n      <th>Tee</th>\n      <th>Hole</th>\n      <th>tee_delay</th>\n    </tr>\n  </thead>\n  <tbody>\n    <tr>\n      <th>1</th>\n      <td>Blake Abercrombie</td>\n      <td>2:00 PM</td>\n      <td>1</td>\n      <td>6.500000</td>\n    </tr>\n    <tr>\n      <th>4</th>\n      <td>Derek Ackerman</td>\n      <td>2:10 PM</td>\n      <td>1</td>\n      <td>6.666667</td>\n    </tr>\n    <tr>\n      <th>7</th>\n      <td>No Name</td>\n      <td>12:40 PM</td>\n      <td>1</td>\n      <td>5.166667</td>\n    </tr>\n    <tr>\n      <th>10</th>\n      <td>No Name</td>\n      <td>2:10 PM</td>\n      <td>10</td>\n      <td>6.666667</td>\n    </tr>\n    <tr>\n      <th>13</th>\n      <td>No Name</td>\n      <td>8:30 AM</td>\n      <td>1</td>\n      <td>1.000000</td>\n    </tr>\n  </tbody>\n</table>\n</div>",
            "text/plain": "                 Name       Tee  Hole  tee_delay\n1   Blake Abercrombie   2:00 PM     1   6.500000\n4      Derek Ackerman   2:10 PM     1   6.666667\n7             No Name  12:40 PM     1   5.166667\n10            No Name   2:10 PM    10   6.666667\n13            No Name   8:30 AM     1   1.000000"
          },
          "metadata": {}
        }
      ]
    },
    {
      "metadata": {
        "trusted": true,
        "hidden": true
      },
      "cell_type": "code",
      "source": "#add this to df\ndf = pd.merge(df,df_tees,how='left')\ndf[df.Tee.isnull()]",
      "execution_count": 21,
      "outputs": [
        {
          "output_type": "execute_result",
          "execution_count": 21,
          "data": {
            "text/html": "<div>\n<style scoped>\n    .dataframe tbody tr th:only-of-type {\n        vertical-align: middle;\n    }\n\n    .dataframe tbody tr th {\n        vertical-align: top;\n    }\n\n    .dataframe thead th {\n        text-align: right;\n    }\n</style>\n<table border=\"1\" class=\"dataframe\">\n  <thead>\n    <tr style=\"text-align: right;\">\n      <th></th>\n      <th>Name + ID</th>\n      <th>Name</th>\n      <th>Salary</th>\n      <th>Odds</th>\n      <th>Points</th>\n      <th>Win</th>\n      <th>Tee</th>\n      <th>Hole</th>\n      <th>tee_delay</th>\n    </tr>\n  </thead>\n  <tbody>\n  </tbody>\n</table>\n</div>",
            "text/plain": "Empty DataFrame\nColumns: [Name + ID, Name, Salary, Odds, Points, Win, Tee, Hole, tee_delay]\nIndex: []"
          },
          "metadata": {}
        }
      ]
    },
    {
      "metadata": {
        "trusted": true,
        "hidden": true
      },
      "cell_type": "code",
      "source": "#Add points adjusted, and get rid of nulls\n#df['Points_adj'] = df.Points + 0.6*df.tee_delay\ndf['Points_adj']= df.Points - np.where(df.Tee.str.contains('AM'),2.77,0)\n\n#Optional: add bonus for those starting on hole 1\ndf['Points_adj'] = np.where(df.Hole==10,df.Points_adj+1.78,df.Points_adj)\n\ndf = df.dropna()\ndf.iloc[10:40]",
      "execution_count": 22,
      "outputs": [
        {
          "output_type": "execute_result",
          "execution_count": 22,
          "data": {
            "text/html": "<div>\n<style scoped>\n    .dataframe tbody tr th:only-of-type {\n        vertical-align: middle;\n    }\n\n    .dataframe tbody tr th {\n        vertical-align: top;\n    }\n\n    .dataframe thead th {\n        text-align: right;\n    }\n</style>\n<table border=\"1\" class=\"dataframe\">\n  <thead>\n    <tr style=\"text-align: right;\">\n      <th></th>\n      <th>Name + ID</th>\n      <th>Name</th>\n      <th>Salary</th>\n      <th>Odds</th>\n      <th>Points</th>\n      <th>Win</th>\n      <th>Tee</th>\n      <th>Hole</th>\n      <th>tee_delay</th>\n      <th>Points_adj</th>\n    </tr>\n  </thead>\n  <tbody>\n    <tr>\n      <th>10</th>\n      <td>David Gazzolo (14679206) (LOCKED)</td>\n      <td>David Gazzolo</td>\n      <td>8700</td>\n      <td>28.0</td>\n      <td>6.205432</td>\n      <td>0.034483</td>\n      <td>1:00 PM</td>\n      <td>1</td>\n      <td>5.500000</td>\n      <td>6.205432</td>\n    </tr>\n    <tr>\n      <th>11</th>\n      <td>Eric Sugimoto (14679207) (LOCKED)</td>\n      <td>Eric Sugimoto</td>\n      <td>8600</td>\n      <td>33.0</td>\n      <td>5.921568</td>\n      <td>0.029412</td>\n      <td>8:40 AM</td>\n      <td>1</td>\n      <td>1.166667</td>\n      <td>3.151568</td>\n    </tr>\n    <tr>\n      <th>12</th>\n      <td>Chad Hambright (14679208) (LOCKED)</td>\n      <td>Chad Hambright</td>\n      <td>8500</td>\n      <td>80.0</td>\n      <td>3.453690</td>\n      <td>0.012346</td>\n      <td>1:00 PM</td>\n      <td>10</td>\n      <td>5.500000</td>\n      <td>5.233690</td>\n    </tr>\n    <tr>\n      <th>13</th>\n      <td>Matt Marshall (14679209) (LOCKED)</td>\n      <td>Matt Marshall</td>\n      <td>8400</td>\n      <td>50.0</td>\n      <td>4.987743</td>\n      <td>0.019608</td>\n      <td>1:20 PM</td>\n      <td>1</td>\n      <td>5.833333</td>\n      <td>4.987743</td>\n    </tr>\n    <tr>\n      <th>14</th>\n      <td>Noah Hofman (14679210) (LOCKED)</td>\n      <td>Noah Hofman</td>\n      <td>8300</td>\n      <td>80.0</td>\n      <td>3.453690</td>\n      <td>0.012346</td>\n      <td>12:30 PM</td>\n      <td>1</td>\n      <td>5.000000</td>\n      <td>3.453690</td>\n    </tr>\n    <tr>\n      <th>15</th>\n      <td>Andrew Funk (14679211) (LOCKED)</td>\n      <td>Andrew Funk</td>\n      <td>8200</td>\n      <td>40.0</td>\n      <td>5.531240</td>\n      <td>0.024390</td>\n      <td>1:50 PM</td>\n      <td>1</td>\n      <td>6.333333</td>\n      <td>5.531240</td>\n    </tr>\n    <tr>\n      <th>16</th>\n      <td>Zach Smith (14679212) (LOCKED)</td>\n      <td>Zach Smith</td>\n      <td>8100</td>\n      <td>20.0</td>\n      <td>6.668501</td>\n      <td>0.047619</td>\n      <td>1:00 PM</td>\n      <td>1</td>\n      <td>5.500000</td>\n      <td>6.668501</td>\n    </tr>\n    <tr>\n      <th>17</th>\n      <td>Zander Winston (14679213) (LOCKED)</td>\n      <td>Zander Winston</td>\n      <td>8000</td>\n      <td>40.0</td>\n      <td>5.531240</td>\n      <td>0.024390</td>\n      <td>9:20 AM</td>\n      <td>10</td>\n      <td>1.833333</td>\n      <td>4.541240</td>\n    </tr>\n    <tr>\n      <th>18</th>\n      <td>Mario Beltran (14679214) (LOCKED)</td>\n      <td>Mario Beltran</td>\n      <td>7900</td>\n      <td>80.0</td>\n      <td>3.453690</td>\n      <td>0.012346</td>\n      <td>9:00 AM</td>\n      <td>1</td>\n      <td>1.500000</td>\n      <td>0.683690</td>\n    </tr>\n    <tr>\n      <th>19</th>\n      <td>Matt Snyder (14679215) (LOCKED)</td>\n      <td>Matt Snyder</td>\n      <td>7800</td>\n      <td>80.0</td>\n      <td>3.453690</td>\n      <td>0.012346</td>\n      <td>8:00 AM</td>\n      <td>1</td>\n      <td>0.500000</td>\n      <td>0.683690</td>\n    </tr>\n    <tr>\n      <th>20</th>\n      <td>Derek Ackerman (14679216) (LOCKED)</td>\n      <td>Derek Ackerman</td>\n      <td>7700</td>\n      <td>300.0</td>\n      <td>-4.135991</td>\n      <td>0.003322</td>\n      <td>2:10 PM</td>\n      <td>1</td>\n      <td>6.666667</td>\n      <td>-4.135991</td>\n    </tr>\n    <tr>\n      <th>21</th>\n      <td>Michael Weaver (14679217) (LOCKED)</td>\n      <td>Michael Weaver</td>\n      <td>7700</td>\n      <td>125.0</td>\n      <td>1.407923</td>\n      <td>0.007937</td>\n      <td>1:10 PM</td>\n      <td>10</td>\n      <td>5.666667</td>\n      <td>3.187923</td>\n    </tr>\n    <tr>\n      <th>22</th>\n      <td>Michael McGowan (14679218) (LOCKED)</td>\n      <td>Michael McGowan</td>\n      <td>7600</td>\n      <td>66.0</td>\n      <td>4.151907</td>\n      <td>0.014925</td>\n      <td>8:50 AM</td>\n      <td>10</td>\n      <td>1.333333</td>\n      <td>3.161907</td>\n    </tr>\n    <tr>\n      <th>23</th>\n      <td>Riley Elmes (14679219) (LOCKED)</td>\n      <td>Riley Elmes</td>\n      <td>7600</td>\n      <td>66.0</td>\n      <td>4.151907</td>\n      <td>0.014925</td>\n      <td>8:10 AM</td>\n      <td>10</td>\n      <td>0.666667</td>\n      <td>3.161907</td>\n    </tr>\n    <tr>\n      <th>24</th>\n      <td>Ryan Gronlund (14679220) (LOCKED)</td>\n      <td>Ryan Gronlund</td>\n      <td>7500</td>\n      <td>40.0</td>\n      <td>5.531240</td>\n      <td>0.024390</td>\n      <td>8:30 AM</td>\n      <td>10</td>\n      <td>1.000000</td>\n      <td>4.541240</td>\n    </tr>\n    <tr>\n      <th>25</th>\n      <td>Derek Castillo (14679221) (LOCKED)</td>\n      <td>Derek Castillo</td>\n      <td>7500</td>\n      <td>150.0</td>\n      <td>0.394317</td>\n      <td>0.006623</td>\n      <td>12:40 PM</td>\n      <td>1</td>\n      <td>5.166667</td>\n      <td>0.394317</td>\n    </tr>\n    <tr>\n      <th>26</th>\n      <td>Bryan Martin (14679222) (LOCKED)</td>\n      <td>Bryan Martin</td>\n      <td>7400</td>\n      <td>80.0</td>\n      <td>3.453690</td>\n      <td>0.012346</td>\n      <td>8:10 AM</td>\n      <td>10</td>\n      <td>0.666667</td>\n      <td>2.463690</td>\n    </tr>\n    <tr>\n      <th>27</th>\n      <td>Christopher Tuulik (14679223) (LOCKED)</td>\n      <td>Christopher Tuulik</td>\n      <td>7400</td>\n      <td>200.0</td>\n      <td>-1.392877</td>\n      <td>0.004975</td>\n      <td>12:50 PM</td>\n      <td>1</td>\n      <td>5.333333</td>\n      <td>-1.392877</td>\n    </tr>\n    <tr>\n      <th>28</th>\n      <td>Sam Gillis (14679224) (LOCKED)</td>\n      <td>Sam Gillis</td>\n      <td>7300</td>\n      <td>125.0</td>\n      <td>1.407923</td>\n      <td>0.007937</td>\n      <td>2:10 PM</td>\n      <td>10</td>\n      <td>6.666667</td>\n      <td>3.187923</td>\n    </tr>\n    <tr>\n      <th>29</th>\n      <td>John Greco (14679227) (LOCKED)</td>\n      <td>John Greco</td>\n      <td>7200</td>\n      <td>125.0</td>\n      <td>1.407923</td>\n      <td>0.007937</td>\n      <td>9:30 AM</td>\n      <td>1</td>\n      <td>2.000000</td>\n      <td>-1.362077</td>\n    </tr>\n    <tr>\n      <th>30</th>\n      <td>Grant Booth (14679228) (LOCKED)</td>\n      <td>Grant Booth</td>\n      <td>7100</td>\n      <td>150.0</td>\n      <td>0.394317</td>\n      <td>0.006623</td>\n      <td>1:20 PM</td>\n      <td>1</td>\n      <td>5.833333</td>\n      <td>0.394317</td>\n    </tr>\n    <tr>\n      <th>31</th>\n      <td>Ben Geyer (14679229) (LOCKED)</td>\n      <td>Ben Geyer</td>\n      <td>7100</td>\n      <td>80.0</td>\n      <td>3.453690</td>\n      <td>0.012346</td>\n      <td>9:10 AM</td>\n      <td>1</td>\n      <td>1.666667</td>\n      <td>0.683690</td>\n    </tr>\n    <tr>\n      <th>32</th>\n      <td>Cole Madey (14679231) (LOCKED)</td>\n      <td>Cole Madey</td>\n      <td>7000</td>\n      <td>125.0</td>\n      <td>1.407923</td>\n      <td>0.007937</td>\n      <td>8:20 AM</td>\n      <td>10</td>\n      <td>0.833333</td>\n      <td>0.417923</td>\n    </tr>\n    <tr>\n      <th>33</th>\n      <td>Jeff Swegle (14679232) (LOCKED)</td>\n      <td>Jeff Swegle</td>\n      <td>6900</td>\n      <td>200.0</td>\n      <td>-1.392877</td>\n      <td>0.004975</td>\n      <td>8:50 AM</td>\n      <td>1</td>\n      <td>1.333333</td>\n      <td>-4.162877</td>\n    </tr>\n    <tr>\n      <th>34</th>\n      <td>Roman Aragon (14679233) (LOCKED)</td>\n      <td>Roman Aragon</td>\n      <td>6900</td>\n      <td>400.0</td>\n      <td>-5.997651</td>\n      <td>0.002494</td>\n      <td>8:20 AM</td>\n      <td>1</td>\n      <td>0.833333</td>\n      <td>-8.767651</td>\n    </tr>\n    <tr>\n      <th>35</th>\n      <td>Scott Smith (14679234) (LOCKED)</td>\n      <td>Scott Smith</td>\n      <td>6800</td>\n      <td>400.0</td>\n      <td>-5.997651</td>\n      <td>0.002494</td>\n      <td>12:50 PM</td>\n      <td>10</td>\n      <td>5.333333</td>\n      <td>-4.217651</td>\n    </tr>\n    <tr>\n      <th>36</th>\n      <td>Jared Sawada (14679236) (LOCKED)</td>\n      <td>Jared Sawada</td>\n      <td>6700</td>\n      <td>150.0</td>\n      <td>0.394317</td>\n      <td>0.006623</td>\n      <td>8:50 AM</td>\n      <td>1</td>\n      <td>1.333333</td>\n      <td>-2.375683</td>\n    </tr>\n    <tr>\n      <th>37</th>\n      <td>Jino Sohn (14679237) (LOCKED)</td>\n      <td>Jino Sohn</td>\n      <td>6700</td>\n      <td>100.0</td>\n      <td>2.508003</td>\n      <td>0.009901</td>\n      <td>8:40 AM</td>\n      <td>1</td>\n      <td>1.166667</td>\n      <td>-0.261997</td>\n    </tr>\n    <tr>\n      <th>38</th>\n      <td>George Markham (14679238) (LOCKED)</td>\n      <td>George Markham</td>\n      <td>6600</td>\n      <td>100.0</td>\n      <td>2.508003</td>\n      <td>0.009901</td>\n      <td>8:50 AM</td>\n      <td>10</td>\n      <td>1.333333</td>\n      <td>1.518003</td>\n    </tr>\n    <tr>\n      <th>39</th>\n      <td>Dalan Refioglu (14679239) (LOCKED)</td>\n      <td>Dalan Refioglu</td>\n      <td>6600</td>\n      <td>125.0</td>\n      <td>1.407923</td>\n      <td>0.007937</td>\n      <td>9:10 AM</td>\n      <td>10</td>\n      <td>1.666667</td>\n      <td>0.417923</td>\n    </tr>\n  </tbody>\n</table>\n</div>",
            "text/plain": "                                 Name + ID                Name  Salary   Odds  \\\n10       David Gazzolo (14679206) (LOCKED)       David Gazzolo    8700   28.0   \n11       Eric Sugimoto (14679207) (LOCKED)       Eric Sugimoto    8600   33.0   \n12      Chad Hambright (14679208) (LOCKED)      Chad Hambright    8500   80.0   \n13       Matt Marshall (14679209) (LOCKED)       Matt Marshall    8400   50.0   \n14         Noah Hofman (14679210) (LOCKED)         Noah Hofman    8300   80.0   \n15         Andrew Funk (14679211) (LOCKED)         Andrew Funk    8200   40.0   \n16          Zach Smith (14679212) (LOCKED)          Zach Smith    8100   20.0   \n17      Zander Winston (14679213) (LOCKED)      Zander Winston    8000   40.0   \n18       Mario Beltran (14679214) (LOCKED)       Mario Beltran    7900   80.0   \n19         Matt Snyder (14679215) (LOCKED)         Matt Snyder    7800   80.0   \n20      Derek Ackerman (14679216) (LOCKED)      Derek Ackerman    7700  300.0   \n21      Michael Weaver (14679217) (LOCKED)      Michael Weaver    7700  125.0   \n22     Michael McGowan (14679218) (LOCKED)     Michael McGowan    7600   66.0   \n23         Riley Elmes (14679219) (LOCKED)         Riley Elmes    7600   66.0   \n24       Ryan Gronlund (14679220) (LOCKED)       Ryan Gronlund    7500   40.0   \n25      Derek Castillo (14679221) (LOCKED)      Derek Castillo    7500  150.0   \n26        Bryan Martin (14679222) (LOCKED)        Bryan Martin    7400   80.0   \n27  Christopher Tuulik (14679223) (LOCKED)  Christopher Tuulik    7400  200.0   \n28          Sam Gillis (14679224) (LOCKED)          Sam Gillis    7300  125.0   \n29          John Greco (14679227) (LOCKED)          John Greco    7200  125.0   \n30         Grant Booth (14679228) (LOCKED)         Grant Booth    7100  150.0   \n31           Ben Geyer (14679229) (LOCKED)           Ben Geyer    7100   80.0   \n32          Cole Madey (14679231) (LOCKED)          Cole Madey    7000  125.0   \n33         Jeff Swegle (14679232) (LOCKED)         Jeff Swegle    6900  200.0   \n34        Roman Aragon (14679233) (LOCKED)        Roman Aragon    6900  400.0   \n35         Scott Smith (14679234) (LOCKED)         Scott Smith    6800  400.0   \n36        Jared Sawada (14679236) (LOCKED)        Jared Sawada    6700  150.0   \n37           Jino Sohn (14679237) (LOCKED)           Jino Sohn    6700  100.0   \n38      George Markham (14679238) (LOCKED)      George Markham    6600  100.0   \n39      Dalan Refioglu (14679239) (LOCKED)      Dalan Refioglu    6600  125.0   \n\n      Points       Win       Tee  Hole  tee_delay  Points_adj  \n10  6.205432  0.034483   1:00 PM     1   5.500000    6.205432  \n11  5.921568  0.029412   8:40 AM     1   1.166667    3.151568  \n12  3.453690  0.012346   1:00 PM    10   5.500000    5.233690  \n13  4.987743  0.019608   1:20 PM     1   5.833333    4.987743  \n14  3.453690  0.012346  12:30 PM     1   5.000000    3.453690  \n15  5.531240  0.024390   1:50 PM     1   6.333333    5.531240  \n16  6.668501  0.047619   1:00 PM     1   5.500000    6.668501  \n17  5.531240  0.024390   9:20 AM    10   1.833333    4.541240  \n18  3.453690  0.012346   9:00 AM     1   1.500000    0.683690  \n19  3.453690  0.012346   8:00 AM     1   0.500000    0.683690  \n20 -4.135991  0.003322   2:10 PM     1   6.666667   -4.135991  \n21  1.407923  0.007937   1:10 PM    10   5.666667    3.187923  \n22  4.151907  0.014925   8:50 AM    10   1.333333    3.161907  \n23  4.151907  0.014925   8:10 AM    10   0.666667    3.161907  \n24  5.531240  0.024390   8:30 AM    10   1.000000    4.541240  \n25  0.394317  0.006623  12:40 PM     1   5.166667    0.394317  \n26  3.453690  0.012346   8:10 AM    10   0.666667    2.463690  \n27 -1.392877  0.004975  12:50 PM     1   5.333333   -1.392877  \n28  1.407923  0.007937   2:10 PM    10   6.666667    3.187923  \n29  1.407923  0.007937   9:30 AM     1   2.000000   -1.362077  \n30  0.394317  0.006623   1:20 PM     1   5.833333    0.394317  \n31  3.453690  0.012346   9:10 AM     1   1.666667    0.683690  \n32  1.407923  0.007937   8:20 AM    10   0.833333    0.417923  \n33 -1.392877  0.004975   8:50 AM     1   1.333333   -4.162877  \n34 -5.997651  0.002494   8:20 AM     1   0.833333   -8.767651  \n35 -5.997651  0.002494  12:50 PM    10   5.333333   -4.217651  \n36  0.394317  0.006623   8:50 AM     1   1.333333   -2.375683  \n37  2.508003  0.009901   8:40 AM     1   1.166667   -0.261997  \n38  2.508003  0.009901   8:50 AM    10   1.333333    1.518003  \n39  1.407923  0.007937   9:10 AM    10   1.666667    0.417923  "
          },
          "metadata": {}
        }
      ]
    },
    {
      "metadata": {
        "trusted": true,
        "hidden": true
      },
      "cell_type": "code",
      "source": "#Save resulting df\ndf.to_csv('Data/Outlaw_projections_20200625.csv',index=False)",
      "execution_count": 23,
      "outputs": []
    },
    {
      "metadata": {
        "trusted": true,
        "hidden": true
      },
      "cell_type": "code",
      "source": "df[df.Name.str.contains('Smith')]",
      "execution_count": 24,
      "outputs": [
        {
          "output_type": "execute_result",
          "execution_count": 24,
          "data": {
            "text/html": "<div>\n<style scoped>\n    .dataframe tbody tr th:only-of-type {\n        vertical-align: middle;\n    }\n\n    .dataframe tbody tr th {\n        vertical-align: top;\n    }\n\n    .dataframe thead th {\n        text-align: right;\n    }\n</style>\n<table border=\"1\" class=\"dataframe\">\n  <thead>\n    <tr style=\"text-align: right;\">\n      <th></th>\n      <th>Name + ID</th>\n      <th>Name</th>\n      <th>Salary</th>\n      <th>Odds</th>\n      <th>Points</th>\n      <th>Win</th>\n      <th>Tee</th>\n      <th>Hole</th>\n      <th>tee_delay</th>\n      <th>Points_adj</th>\n    </tr>\n  </thead>\n  <tbody>\n    <tr>\n      <th>16</th>\n      <td>Zach Smith (14679212) (LOCKED)</td>\n      <td>Zach Smith</td>\n      <td>8100</td>\n      <td>20.0</td>\n      <td>6.668501</td>\n      <td>0.047619</td>\n      <td>1:00 PM</td>\n      <td>1</td>\n      <td>5.500000</td>\n      <td>6.668501</td>\n    </tr>\n    <tr>\n      <th>35</th>\n      <td>Scott Smith (14679234) (LOCKED)</td>\n      <td>Scott Smith</td>\n      <td>6800</td>\n      <td>400.0</td>\n      <td>-5.997651</td>\n      <td>0.002494</td>\n      <td>12:50 PM</td>\n      <td>10</td>\n      <td>5.333333</td>\n      <td>-4.217651</td>\n    </tr>\n  </tbody>\n</table>\n</div>",
            "text/plain": "                          Name + ID         Name  Salary   Odds    Points  \\\n16   Zach Smith (14679212) (LOCKED)   Zach Smith    8100   20.0  6.668501   \n35  Scott Smith (14679234) (LOCKED)  Scott Smith    6800  400.0 -5.997651   \n\n         Win       Tee  Hole  tee_delay  Points_adj  \n16  0.047619   1:00 PM     1   5.500000    6.668501  \n35  0.002494  12:50 PM    10   5.333333   -4.217651  "
          },
          "metadata": {}
        }
      ]
    },
    {
      "metadata": {
        "trusted": true,
        "hidden": true
      },
      "cell_type": "code",
      "source": "df[df.Name.str.contains('Weaver')]",
      "execution_count": 25,
      "outputs": [
        {
          "output_type": "execute_result",
          "execution_count": 25,
          "data": {
            "text/html": "<div>\n<style scoped>\n    .dataframe tbody tr th:only-of-type {\n        vertical-align: middle;\n    }\n\n    .dataframe tbody tr th {\n        vertical-align: top;\n    }\n\n    .dataframe thead th {\n        text-align: right;\n    }\n</style>\n<table border=\"1\" class=\"dataframe\">\n  <thead>\n    <tr style=\"text-align: right;\">\n      <th></th>\n      <th>Name + ID</th>\n      <th>Name</th>\n      <th>Salary</th>\n      <th>Odds</th>\n      <th>Points</th>\n      <th>Win</th>\n      <th>Tee</th>\n      <th>Hole</th>\n      <th>tee_delay</th>\n      <th>Points_adj</th>\n    </tr>\n  </thead>\n  <tbody>\n    <tr>\n      <th>21</th>\n      <td>Michael Weaver (14679217) (LOCKED)</td>\n      <td>Michael Weaver</td>\n      <td>7700</td>\n      <td>125.0</td>\n      <td>1.407923</td>\n      <td>0.007937</td>\n      <td>1:10 PM</td>\n      <td>10</td>\n      <td>5.666667</td>\n      <td>3.187923</td>\n    </tr>\n  </tbody>\n</table>\n</div>",
            "text/plain": "                             Name + ID            Name  Salary   Odds  \\\n21  Michael Weaver (14679217) (LOCKED)  Michael Weaver    7700  125.0   \n\n      Points       Win      Tee  Hole  tee_delay  Points_adj  \n21  1.407923  0.007937  1:10 PM    10   5.666667    3.187923  "
          },
          "metadata": {}
        }
      ]
    },
    {
      "metadata": {
        "trusted": true,
        "heading_collapsed": true
      },
      "cell_type": "markdown",
      "source": "# Explore yesterday"
    },
    {
      "metadata": {
        "trusted": true,
        "hidden": true
      },
      "cell_type": "code",
      "source": "df1 = pd.read_csv(url1,usecols=['Name','Salary'])\ndf1.head(2)",
      "execution_count": 26,
      "outputs": [
        {
          "output_type": "execute_result",
          "execution_count": 26,
          "data": {
            "text/html": "<div>\n<style scoped>\n    .dataframe tbody tr th:only-of-type {\n        vertical-align: middle;\n    }\n\n    .dataframe tbody tr th {\n        vertical-align: top;\n    }\n\n    .dataframe thead th {\n        text-align: right;\n    }\n</style>\n<table border=\"1\" class=\"dataframe\">\n  <thead>\n    <tr style=\"text-align: right;\">\n      <th></th>\n      <th>Name</th>\n      <th>Salary</th>\n    </tr>\n  </thead>\n  <tbody>\n    <tr>\n      <th>0</th>\n      <td>John Catlin</td>\n      <td>10600</td>\n    </tr>\n    <tr>\n      <th>1</th>\n      <td>Rico Hoey</td>\n      <td>10300</td>\n    </tr>\n  </tbody>\n</table>\n</div>",
            "text/plain": "          Name  Salary\n0  John Catlin   10600\n1    Rico Hoey   10300"
          },
          "metadata": {}
        }
      ]
    },
    {
      "metadata": {
        "trusted": true,
        "hidden": true
      },
      "cell_type": "code",
      "source": "#Read results\ndf_res = pd.read_csv('Data/outlaw_results_20200623.csv')\ndf_res.rename(columns={'Player':'Name'},inplace=True)\ndf_res.head(3)",
      "execution_count": 27,
      "outputs": [
        {
          "output_type": "execute_result",
          "execution_count": 27,
          "data": {
            "text/html": "<div>\n<style scoped>\n    .dataframe tbody tr th:only-of-type {\n        vertical-align: middle;\n    }\n\n    .dataframe tbody tr th {\n        vertical-align: top;\n    }\n\n    .dataframe thead th {\n        text-align: right;\n    }\n</style>\n<table border=\"1\" class=\"dataframe\">\n  <thead>\n    <tr style=\"text-align: right;\">\n      <th></th>\n      <th>Rank</th>\n      <th>EntryId</th>\n      <th>EntryName</th>\n      <th>TimeRemaining</th>\n      <th>Points</th>\n      <th>Lineup</th>\n      <th>Unnamed: 6</th>\n      <th>Name</th>\n      <th>Roster Position</th>\n      <th>%Drafted</th>\n      <th>FPTS</th>\n    </tr>\n  </thead>\n  <tbody>\n    <tr>\n      <th>0</th>\n      <td>1</td>\n      <td>1991621004</td>\n      <td>smittyuiop (30/38)</td>\n      <td>0</td>\n      <td>392.10</td>\n      <td>G John Catlin G Eric Sugimoto G Derek Bayley G...</td>\n      <td>NaN</td>\n      <td>John Catlin</td>\n      <td>G</td>\n      <td>39.29%</td>\n      <td>57.60</td>\n    </tr>\n    <tr>\n      <th>1</th>\n      <td>2</td>\n      <td>1991816778</td>\n      <td>mts5200 (64/70)</td>\n      <td>0</td>\n      <td>384.55</td>\n      <td>G John Catlin G Cody Blick G Andrew Yun G Matt...</td>\n      <td>NaN</td>\n      <td>Nicolo Galletti</td>\n      <td>G</td>\n      <td>35.54%</td>\n      <td>24.20</td>\n    </tr>\n    <tr>\n      <th>2</th>\n      <td>3</td>\n      <td>1992308369</td>\n      <td>Alext8</td>\n      <td>0</td>\n      <td>370.75</td>\n      <td>G Matt Picanso G Mark Anguiano G Cody Blick G ...</td>\n      <td>NaN</td>\n      <td>Sam Triplett</td>\n      <td>G</td>\n      <td>27.51%</td>\n      <td>26.55</td>\n    </tr>\n  </tbody>\n</table>\n</div>",
            "text/plain": "   Rank     EntryId           EntryName  TimeRemaining  Points  \\\n0     1  1991621004  smittyuiop (30/38)              0  392.10   \n1     2  1991816778     mts5200 (64/70)              0  384.55   \n2     3  1992308369              Alext8              0  370.75   \n\n                                              Lineup  Unnamed: 6  \\\n0  G John Catlin G Eric Sugimoto G Derek Bayley G...         NaN   \n1  G John Catlin G Cody Blick G Andrew Yun G Matt...         NaN   \n2  G Matt Picanso G Mark Anguiano G Cody Blick G ...         NaN   \n\n              Name Roster Position %Drafted   FPTS  \n0      John Catlin               G   39.29%  57.60  \n1  Nicolo Galletti               G   35.54%  24.20  \n2     Sam Triplett               G   27.51%  26.55  "
          },
          "metadata": {}
        }
      ]
    },
    {
      "metadata": {
        "trusted": true,
        "hidden": true
      },
      "cell_type": "code",
      "source": "#Add FPTS\ndf1 = pd.merge(df1,df_res[['Name','FPTS']],how='inner')\n#Add Tees\ndf1 = pd.merge(df1,df_tees)\n#Add odds\ndf1 = pd.merge(df1,df_odds)\ndf1.head(10)",
      "execution_count": 28,
      "outputs": [
        {
          "output_type": "execute_result",
          "execution_count": 28,
          "data": {
            "text/html": "<div>\n<style scoped>\n    .dataframe tbody tr th:only-of-type {\n        vertical-align: middle;\n    }\n\n    .dataframe tbody tr th {\n        vertical-align: top;\n    }\n\n    .dataframe thead th {\n        text-align: right;\n    }\n</style>\n<table border=\"1\" class=\"dataframe\">\n  <thead>\n    <tr style=\"text-align: right;\">\n      <th></th>\n      <th>Name</th>\n      <th>Salary</th>\n      <th>FPTS</th>\n      <th>Tee</th>\n      <th>Hole</th>\n      <th>tee_delay</th>\n      <th>Odds</th>\n    </tr>\n  </thead>\n  <tbody>\n    <tr>\n      <th>0</th>\n      <td>John Catlin</td>\n      <td>10600</td>\n      <td>57.60</td>\n      <td>8:40 AM</td>\n      <td>10</td>\n      <td>1.166667</td>\n      <td>8</td>\n    </tr>\n    <tr>\n      <th>1</th>\n      <td>Matt Picanso</td>\n      <td>10000</td>\n      <td>53.45</td>\n      <td>2:00 PM</td>\n      <td>10</td>\n      <td>6.500000</td>\n      <td>14</td>\n    </tr>\n    <tr>\n      <th>2</th>\n      <td>Mark Anguiano</td>\n      <td>9800</td>\n      <td>67.75</td>\n      <td>1:50 PM</td>\n      <td>1</td>\n      <td>6.333333</td>\n      <td>16</td>\n    </tr>\n    <tr>\n      <th>3</th>\n      <td>Brady Calkins</td>\n      <td>9600</td>\n      <td>53.25</td>\n      <td>9:30 AM</td>\n      <td>1</td>\n      <td>2.000000</td>\n      <td>16</td>\n    </tr>\n    <tr>\n      <th>4</th>\n      <td>Alistair Docherty</td>\n      <td>9200</td>\n      <td>46.90</td>\n      <td>1:10 PM</td>\n      <td>10</td>\n      <td>5.666667</td>\n      <td>20</td>\n    </tr>\n    <tr>\n      <th>5</th>\n      <td>Eric Sugimoto</td>\n      <td>8800</td>\n      <td>67.95</td>\n      <td>8:40 AM</td>\n      <td>1</td>\n      <td>1.166667</td>\n      <td>33</td>\n    </tr>\n    <tr>\n      <th>6</th>\n      <td>Norman Xiong</td>\n      <td>8700</td>\n      <td>64.95</td>\n      <td>1:10 PM</td>\n      <td>10</td>\n      <td>5.666667</td>\n      <td>28</td>\n    </tr>\n    <tr>\n      <th>7</th>\n      <td>David Gazzolo</td>\n      <td>8500</td>\n      <td>42.65</td>\n      <td>1:00 PM</td>\n      <td>1</td>\n      <td>5.500000</td>\n      <td>28</td>\n    </tr>\n    <tr>\n      <th>8</th>\n      <td>Andrew Funk</td>\n      <td>8400</td>\n      <td>32.20</td>\n      <td>1:50 PM</td>\n      <td>1</td>\n      <td>6.333333</td>\n      <td>40</td>\n    </tr>\n    <tr>\n      <th>9</th>\n      <td>Zander Winston</td>\n      <td>8200</td>\n      <td>44.95</td>\n      <td>9:20 AM</td>\n      <td>10</td>\n      <td>1.833333</td>\n      <td>40</td>\n    </tr>\n  </tbody>\n</table>\n</div>",
            "text/plain": "                Name  Salary   FPTS      Tee  Hole  tee_delay  Odds\n0        John Catlin   10600  57.60  8:40 AM    10   1.166667     8\n1       Matt Picanso   10000  53.45  2:00 PM    10   6.500000    14\n2      Mark Anguiano    9800  67.75  1:50 PM     1   6.333333    16\n3      Brady Calkins    9600  53.25  9:30 AM     1   2.000000    16\n4  Alistair Docherty    9200  46.90  1:10 PM    10   5.666667    20\n5      Eric Sugimoto    8800  67.95  8:40 AM     1   1.166667    33\n6       Norman Xiong    8700  64.95  1:10 PM    10   5.666667    28\n7      David Gazzolo    8500  42.65  1:00 PM     1   5.500000    28\n8        Andrew Funk    8400  32.20  1:50 PM     1   6.333333    40\n9     Zander Winston    8200  44.95  9:20 AM    10   1.833333    40"
          },
          "metadata": {}
        }
      ]
    },
    {
      "metadata": {
        "trusted": true,
        "hidden": true
      },
      "cell_type": "code",
      "source": "#Add wave\ndf1['Wave'] = np.where(df1.Tee.str.contains('AM'),'AM','PM')\n\n#Add points\ndf1['Points'] = outlaw_proj_model.predict(poly.fit_transform(df1[['Odds']]))\ndf1.head()\n\n",
      "execution_count": 29,
      "outputs": [
        {
          "output_type": "execute_result",
          "execution_count": 29,
          "data": {
            "text/html": "<div>\n<style scoped>\n    .dataframe tbody tr th:only-of-type {\n        vertical-align: middle;\n    }\n\n    .dataframe tbody tr th {\n        vertical-align: top;\n    }\n\n    .dataframe thead th {\n        text-align: right;\n    }\n</style>\n<table border=\"1\" class=\"dataframe\">\n  <thead>\n    <tr style=\"text-align: right;\">\n      <th></th>\n      <th>Name</th>\n      <th>Salary</th>\n      <th>FPTS</th>\n      <th>Tee</th>\n      <th>Hole</th>\n      <th>tee_delay</th>\n      <th>Odds</th>\n      <th>Wave</th>\n      <th>Points</th>\n    </tr>\n  </thead>\n  <tbody>\n    <tr>\n      <th>0</th>\n      <td>John Catlin</td>\n      <td>10600</td>\n      <td>57.60</td>\n      <td>8:40 AM</td>\n      <td>10</td>\n      <td>1.166667</td>\n      <td>8</td>\n      <td>AM</td>\n      <td>7.383962</td>\n    </tr>\n    <tr>\n      <th>1</th>\n      <td>Matt Picanso</td>\n      <td>10000</td>\n      <td>53.45</td>\n      <td>2:00 PM</td>\n      <td>10</td>\n      <td>6.500000</td>\n      <td>14</td>\n      <td>PM</td>\n      <td>7.023074</td>\n    </tr>\n    <tr>\n      <th>2</th>\n      <td>Mark Anguiano</td>\n      <td>9800</td>\n      <td>67.75</td>\n      <td>1:50 PM</td>\n      <td>1</td>\n      <td>6.333333</td>\n      <td>16</td>\n      <td>PM</td>\n      <td>6.904185</td>\n    </tr>\n    <tr>\n      <th>3</th>\n      <td>Brady Calkins</td>\n      <td>9600</td>\n      <td>53.25</td>\n      <td>9:30 AM</td>\n      <td>1</td>\n      <td>2.000000</td>\n      <td>16</td>\n      <td>AM</td>\n      <td>6.904185</td>\n    </tr>\n    <tr>\n      <th>4</th>\n      <td>Alistair Docherty</td>\n      <td>9200</td>\n      <td>46.90</td>\n      <td>1:10 PM</td>\n      <td>10</td>\n      <td>5.666667</td>\n      <td>20</td>\n      <td>PM</td>\n      <td>6.668501</td>\n    </tr>\n  </tbody>\n</table>\n</div>",
            "text/plain": "                Name  Salary   FPTS      Tee  Hole  tee_delay  Odds Wave  \\\n0        John Catlin   10600  57.60  8:40 AM    10   1.166667     8   AM   \n1       Matt Picanso   10000  53.45  2:00 PM    10   6.500000    14   PM   \n2      Mark Anguiano    9800  67.75  1:50 PM     1   6.333333    16   PM   \n3      Brady Calkins    9600  53.25  9:30 AM     1   2.000000    16   AM   \n4  Alistair Docherty    9200  46.90  1:10 PM    10   5.666667    20   PM   \n\n     Points  \n0  7.383962  \n1  7.023074  \n2  6.904185  \n3  6.904185  \n4  6.668501  "
          },
          "metadata": {}
        }
      ]
    },
    {
      "metadata": {
        "trusted": true,
        "hidden": true
      },
      "cell_type": "code",
      "source": "g1 = df1.groupby('Wave')['Salary','Points','FPTS'].mean()\ng1",
      "execution_count": 30,
      "outputs": [
        {
          "output_type": "execute_result",
          "execution_count": 30,
          "data": {
            "text/html": "<div>\n<style scoped>\n    .dataframe tbody tr th:only-of-type {\n        vertical-align: middle;\n    }\n\n    .dataframe tbody tr th {\n        vertical-align: top;\n    }\n\n    .dataframe thead th {\n        text-align: right;\n    }\n</style>\n<table border=\"1\" class=\"dataframe\">\n  <thead>\n    <tr style=\"text-align: right;\">\n      <th></th>\n      <th>Salary</th>\n      <th>Points</th>\n      <th>FPTS</th>\n    </tr>\n    <tr>\n      <th>Wave</th>\n      <th></th>\n      <th></th>\n      <th></th>\n    </tr>\n  </thead>\n  <tbody>\n    <tr>\n      <th>AM</th>\n      <td>7458.333333</td>\n      <td>1.415226</td>\n      <td>58.260417</td>\n    </tr>\n    <tr>\n      <th>PM</th>\n      <td>7626.086957</td>\n      <td>2.456065</td>\n      <td>49.343478</td>\n    </tr>\n  </tbody>\n</table>\n</div>",
            "text/plain": "           Salary    Points       FPTS\nWave                                  \nAM    7458.333333  1.415226  58.260417\nPM    7626.086957  2.456065  49.343478"
          },
          "metadata": {}
        }
      ]
    },
    {
      "metadata": {
        "trusted": true,
        "hidden": true
      },
      "cell_type": "code",
      "source": "#Find true wave split difference\ng1.at['AM','FPTS'] - g1.at['PM','FPTS'] + (g1.at['PM','Points'] - g1.at['AM','Points'])",
      "execution_count": 31,
      "outputs": [
        {
          "output_type": "execute_result",
          "execution_count": 31,
          "data": {
            "text/plain": "9.957778200009523"
          },
          "metadata": {}
        }
      ]
    },
    {
      "metadata": {
        "trusted": true,
        "hidden": true
      },
      "cell_type": "code",
      "source": "g2 = df1.groupby('Hole')['Salary','Points','FPTS'].mean()\ng2",
      "execution_count": 32,
      "outputs": [
        {
          "output_type": "execute_result",
          "execution_count": 32,
          "data": {
            "text/html": "<div>\n<style scoped>\n    .dataframe tbody tr th:only-of-type {\n        vertical-align: middle;\n    }\n\n    .dataframe tbody tr th {\n        vertical-align: top;\n    }\n\n    .dataframe thead th {\n        text-align: right;\n    }\n</style>\n<table border=\"1\" class=\"dataframe\">\n  <thead>\n    <tr style=\"text-align: right;\">\n      <th></th>\n      <th>Salary</th>\n      <th>Points</th>\n      <th>FPTS</th>\n    </tr>\n    <tr>\n      <th>Hole</th>\n      <th></th>\n      <th></th>\n      <th></th>\n    </tr>\n  </thead>\n  <tbody>\n    <tr>\n      <th>1</th>\n      <td>7428.571429</td>\n      <td>1.486510</td>\n      <td>54.741071</td>\n    </tr>\n    <tr>\n      <th>10</th>\n      <td>7705.263158</td>\n      <td>2.570138</td>\n      <td>52.652632</td>\n    </tr>\n  </tbody>\n</table>\n</div>",
            "text/plain": "           Salary    Points       FPTS\nHole                                  \n1     7428.571429  1.486510  54.741071\n10    7705.263158  2.570138  52.652632"
          },
          "metadata": {}
        }
      ]
    },
    {
      "metadata": {
        "trusted": true,
        "hidden": true
      },
      "cell_type": "code",
      "source": "#Find true wave split difference\ng2.at[1,'FPTS'] - g2.at[10,'FPTS'] + (g2.at[10,'Points'] - g2.at[1,'Points'])",
      "execution_count": 33,
      "outputs": [
        {
          "output_type": "execute_result",
          "execution_count": 33,
          "data": {
            "text/plain": "3.172067880958628"
          },
          "metadata": {}
        }
      ]
    },
    {
      "metadata": {
        "trusted": true,
        "hidden": true
      },
      "cell_type": "code",
      "source": "df1.groupby('Wave')['Salary','FPTS'].mean().round(2)",
      "execution_count": 34,
      "outputs": [
        {
          "output_type": "execute_result",
          "execution_count": 34,
          "data": {
            "text/html": "<div>\n<style scoped>\n    .dataframe tbody tr th:only-of-type {\n        vertical-align: middle;\n    }\n\n    .dataframe tbody tr th {\n        vertical-align: top;\n    }\n\n    .dataframe thead th {\n        text-align: right;\n    }\n</style>\n<table border=\"1\" class=\"dataframe\">\n  <thead>\n    <tr style=\"text-align: right;\">\n      <th></th>\n      <th>Salary</th>\n      <th>FPTS</th>\n    </tr>\n    <tr>\n      <th>Wave</th>\n      <th></th>\n      <th></th>\n    </tr>\n  </thead>\n  <tbody>\n    <tr>\n      <th>AM</th>\n      <td>7458.33</td>\n      <td>58.26</td>\n    </tr>\n    <tr>\n      <th>PM</th>\n      <td>7626.09</td>\n      <td>49.34</td>\n    </tr>\n  </tbody>\n</table>\n</div>",
            "text/plain": "       Salary   FPTS\nWave                \nAM    7458.33  58.26\nPM    7626.09  49.34"
          },
          "metadata": {}
        }
      ]
    },
    {
      "metadata": {
        "trusted": true,
        "hidden": true
      },
      "cell_type": "code",
      "source": "df1.groupby('Hole')['Salary','FPTS'].mean().round(2)",
      "execution_count": 35,
      "outputs": [
        {
          "output_type": "execute_result",
          "execution_count": 35,
          "data": {
            "text/html": "<div>\n<style scoped>\n    .dataframe tbody tr th:only-of-type {\n        vertical-align: middle;\n    }\n\n    .dataframe tbody tr th {\n        vertical-align: top;\n    }\n\n    .dataframe thead th {\n        text-align: right;\n    }\n</style>\n<table border=\"1\" class=\"dataframe\">\n  <thead>\n    <tr style=\"text-align: right;\">\n      <th></th>\n      <th>Salary</th>\n      <th>FPTS</th>\n    </tr>\n    <tr>\n      <th>Hole</th>\n      <th></th>\n      <th></th>\n    </tr>\n  </thead>\n  <tbody>\n    <tr>\n      <th>1</th>\n      <td>7428.57</td>\n      <td>54.74</td>\n    </tr>\n    <tr>\n      <th>10</th>\n      <td>7705.26</td>\n      <td>52.65</td>\n    </tr>\n  </tbody>\n</table>\n</div>",
            "text/plain": "       Salary   FPTS\nHole                \n1     7428.57  54.74\n10    7705.26  52.65"
          },
          "metadata": {}
        }
      ]
    },
    {
      "metadata": {
        "trusted": true,
        "hidden": true
      },
      "cell_type": "code",
      "source": "df1.groupby(['Wave','Hole'])['Salary','FPTS'].mean().round(2)",
      "execution_count": 36,
      "outputs": [
        {
          "output_type": "execute_result",
          "execution_count": 36,
          "data": {
            "text/html": "<div>\n<style scoped>\n    .dataframe tbody tr th:only-of-type {\n        vertical-align: middle;\n    }\n\n    .dataframe tbody tr th {\n        vertical-align: top;\n    }\n\n    .dataframe thead th {\n        text-align: right;\n    }\n</style>\n<table border=\"1\" class=\"dataframe\">\n  <thead>\n    <tr style=\"text-align: right;\">\n      <th></th>\n      <th></th>\n      <th>Salary</th>\n      <th>FPTS</th>\n    </tr>\n    <tr>\n      <th>Wave</th>\n      <th>Hole</th>\n      <th></th>\n      <th></th>\n    </tr>\n  </thead>\n  <tbody>\n    <tr>\n      <th rowspan=\"2\" valign=\"top\">AM</th>\n      <th>1</th>\n      <td>7358.33</td>\n      <td>61.80</td>\n    </tr>\n    <tr>\n      <th>10</th>\n      <td>7558.33</td>\n      <td>54.73</td>\n    </tr>\n    <tr>\n      <th rowspan=\"2\" valign=\"top\">PM</th>\n      <th>1</th>\n      <td>7481.25</td>\n      <td>49.45</td>\n    </tr>\n    <tr>\n      <th>10</th>\n      <td>7957.14</td>\n      <td>49.10</td>\n    </tr>\n  </tbody>\n</table>\n</div>",
            "text/plain": "            Salary   FPTS\nWave Hole                \nAM   1     7358.33  61.80\n     10    7558.33  54.73\nPM   1     7481.25  49.45\n     10    7957.14  49.10"
          },
          "metadata": {}
        }
      ]
    },
    {
      "metadata": {
        "trusted": true,
        "hidden": true
      },
      "cell_type": "code",
      "source": "from IPython.core.display import display, HTML",
      "execution_count": 37,
      "outputs": []
    },
    {
      "metadata": {
        "trusted": true,
        "hidden": true
      },
      "cell_type": "code",
      "source": "html = \"Outlaw Round 1 by Wave and Starting Hole\"\nhtml += df1.groupby('Wave')['Salary','FPTS'].mean().round(2).to_html()\nhtml += df1.groupby('Hole')['Salary','FPTS'].mean().round(2).to_html()\nhtml += df1.groupby(['Wave','Hole'])['Salary','FPTS'].mean().round(2).to_html()\ndisplay(HTML(html))",
      "execution_count": 38,
      "outputs": [
        {
          "output_type": "display_data",
          "data": {
            "text/html": "Outlaw Round 1 by Wave and Starting Hole<table border=\"1\" class=\"dataframe\">\n  <thead>\n    <tr style=\"text-align: right;\">\n      <th></th>\n      <th>Salary</th>\n      <th>FPTS</th>\n    </tr>\n    <tr>\n      <th>Wave</th>\n      <th></th>\n      <th></th>\n    </tr>\n  </thead>\n  <tbody>\n    <tr>\n      <th>AM</th>\n      <td>7458.33</td>\n      <td>58.26</td>\n    </tr>\n    <tr>\n      <th>PM</th>\n      <td>7626.09</td>\n      <td>49.34</td>\n    </tr>\n  </tbody>\n</table><table border=\"1\" class=\"dataframe\">\n  <thead>\n    <tr style=\"text-align: right;\">\n      <th></th>\n      <th>Salary</th>\n      <th>FPTS</th>\n    </tr>\n    <tr>\n      <th>Hole</th>\n      <th></th>\n      <th></th>\n    </tr>\n  </thead>\n  <tbody>\n    <tr>\n      <th>1</th>\n      <td>7428.57</td>\n      <td>54.74</td>\n    </tr>\n    <tr>\n      <th>10</th>\n      <td>7705.26</td>\n      <td>52.65</td>\n    </tr>\n  </tbody>\n</table><table border=\"1\" class=\"dataframe\">\n  <thead>\n    <tr style=\"text-align: right;\">\n      <th></th>\n      <th></th>\n      <th>Salary</th>\n      <th>FPTS</th>\n    </tr>\n    <tr>\n      <th>Wave</th>\n      <th>Hole</th>\n      <th></th>\n      <th></th>\n    </tr>\n  </thead>\n  <tbody>\n    <tr>\n      <th rowspan=\"2\" valign=\"top\">AM</th>\n      <th>1</th>\n      <td>7358.33</td>\n      <td>61.80</td>\n    </tr>\n    <tr>\n      <th>10</th>\n      <td>7558.33</td>\n      <td>54.73</td>\n    </tr>\n    <tr>\n      <th rowspan=\"2\" valign=\"top\">PM</th>\n      <th>1</th>\n      <td>7481.25</td>\n      <td>49.45</td>\n    </tr>\n    <tr>\n      <th>10</th>\n      <td>7957.14</td>\n      <td>49.10</td>\n    </tr>\n  </tbody>\n</table>",
            "text/plain": "<IPython.core.display.HTML object>"
          },
          "metadata": {}
        }
      ]
    },
    {
      "metadata": {
        "trusted": true
      },
      "cell_type": "markdown",
      "source": "# PGA showdown"
    },
    {
      "metadata": {
        "trusted": true
      },
      "cell_type": "code",
      "source": "import pandas as pd\nimport numpy as np",
      "execution_count": 1,
      "outputs": []
    },
    {
      "metadata": {
        "trusted": true
      },
      "cell_type": "code",
      "source": "url = 'Data/draftkings_showdown_projections.csv'\ndf= pd.read_csv(url)\ndf.tail()",
      "execution_count": 2,
      "outputs": [
        {
          "output_type": "execute_result",
          "execution_count": 2,
          "data": {
            "text/html": "<div>\n<style scoped>\n    .dataframe tbody tr th:only-of-type {\n        vertical-align: middle;\n    }\n\n    .dataframe tbody tr th {\n        vertical-align: top;\n    }\n\n    .dataframe thead th {\n        text-align: right;\n    }\n</style>\n<table border=\"1\" class=\"dataframe\">\n  <thead>\n    <tr style=\"text-align: right;\">\n      <th></th>\n      <th>datagolf_name</th>\n      <th>dk_name</th>\n      <th>dk_id</th>\n      <th>sample_size</th>\n      <th>dk_salary</th>\n      <th>r4_tee_time</th>\n      <th>morning_wave</th>\n      <th>position</th>\n      <th>scoring_points</th>\n      <th>finish_points</th>\n      <th>manual_bump</th>\n      <th>total_points</th>\n      <th>value</th>\n      <th>max_exposure</th>\n      <th>lineup_rule</th>\n    </tr>\n  </thead>\n  <tbody>\n    <tr>\n      <th>65</th>\n      <td>Baker, Chris</td>\n      <td>Chris Baker</td>\n      <td>14722512</td>\n      <td>150</td>\n      <td>6200</td>\n      <td>12:15 PM</td>\n      <td>0</td>\n      <td>T19 (-11)</td>\n      <td>39.4</td>\n      <td>2.8</td>\n      <td>0</td>\n      <td>42.2</td>\n      <td>0.27</td>\n      <td>100</td>\n      <td>NaN</td>\n    </tr>\n    <tr>\n      <th>66</th>\n      <td>Gellerman, Michael</td>\n      <td>Michael Gellerman</td>\n      <td>14722514</td>\n      <td>150</td>\n      <td>6100</td>\n      <td>11:35 AM</td>\n      <td>0</td>\n      <td>T30 (-10)</td>\n      <td>36.3</td>\n      <td>1.7</td>\n      <td>0</td>\n      <td>38.0</td>\n      <td>-0.27</td>\n      <td>100</td>\n      <td>NaN</td>\n    </tr>\n    <tr>\n      <th>67</th>\n      <td>Byrd, Jonathan</td>\n      <td>Jonathan Byrd</td>\n      <td>14722513</td>\n      <td>150</td>\n      <td>6100</td>\n      <td>11:35 AM</td>\n      <td>0</td>\n      <td>T30 (-10)</td>\n      <td>36.4</td>\n      <td>1.7</td>\n      <td>0</td>\n      <td>38.1</td>\n      <td>-0.25</td>\n      <td>100</td>\n      <td>NaN</td>\n    </tr>\n    <tr>\n      <th>68</th>\n      <td>McNeill, George</td>\n      <td>George McNeill</td>\n      <td>14722515</td>\n      <td>150</td>\n      <td>6000</td>\n      <td>9:05 AM</td>\n      <td>1</td>\n      <td>T59 (-7)</td>\n      <td>36.0</td>\n      <td>0.4</td>\n      <td>0</td>\n      <td>36.4</td>\n      <td>-0.48</td>\n      <td>100</td>\n      <td>NaN</td>\n    </tr>\n    <tr>\n      <th>69</th>\n      <td>Van Pelt, Bo</td>\n      <td>Bo Van Pelt</td>\n      <td>14722516</td>\n      <td>150</td>\n      <td>6000</td>\n      <td>8:35 AM</td>\n      <td>1</td>\n      <td>T68 (-4)</td>\n      <td>33.2</td>\n      <td>0.0</td>\n      <td>0</td>\n      <td>33.3</td>\n      <td>-1.00</td>\n      <td>100</td>\n      <td>NaN</td>\n    </tr>\n  </tbody>\n</table>\n</div>",
            "text/plain": "         datagolf_name            dk_name     dk_id  sample_size  dk_salary  \\\n65        Baker, Chris        Chris Baker  14722512          150       6200   \n66  Gellerman, Michael  Michael Gellerman  14722514          150       6100   \n67      Byrd, Jonathan      Jonathan Byrd  14722513          150       6100   \n68     McNeill, George     George McNeill  14722515          150       6000   \n69        Van Pelt, Bo        Bo Van Pelt  14722516          150       6000   \n\n   r4_tee_time  morning_wave   position  scoring_points  finish_points  \\\n65    12:15 PM             0  T19 (-11)            39.4            2.8   \n66    11:35 AM             0  T30 (-10)            36.3            1.7   \n67    11:35 AM             0  T30 (-10)            36.4            1.7   \n68     9:05 AM             1   T59 (-7)            36.0            0.4   \n69     8:35 AM             1   T68 (-4)            33.2            0.0   \n\n    manual_bump  total_points  value  max_exposure  lineup_rule  \n65            0          42.2   0.27           100          NaN  \n66            0          38.0  -0.27           100          NaN  \n67            0          38.1  -0.25           100          NaN  \n68            0          36.4  -0.48           100          NaN  \n69            0          33.3  -1.00           100          NaN  "
          },
          "metadata": {}
        }
      ]
    },
    {
      "metadata": {
        "trusted": true
      },
      "cell_type": "code",
      "source": "teecol = [c for c in df.columns if c.endswith('tee_time')][0]\ndf.rename(columns={teecol:'tee'},inplace=True)\ndf.tee = df.tee.str.replace('*','')\ndf.tee = pd.to_datetime(df.tee)\n\ntd_ser = df.tee-df.tee.min()\ndf['delay'] = [td.seconds/3600 for td in td_ser]\ndf.head()",
      "execution_count": 3,
      "outputs": [
        {
          "output_type": "execute_result",
          "execution_count": 3,
          "data": {
            "text/html": "<div>\n<style scoped>\n    .dataframe tbody tr th:only-of-type {\n        vertical-align: middle;\n    }\n\n    .dataframe tbody tr th {\n        vertical-align: top;\n    }\n\n    .dataframe thead th {\n        text-align: right;\n    }\n</style>\n<table border=\"1\" class=\"dataframe\">\n  <thead>\n    <tr style=\"text-align: right;\">\n      <th></th>\n      <th>datagolf_name</th>\n      <th>dk_name</th>\n      <th>dk_id</th>\n      <th>sample_size</th>\n      <th>dk_salary</th>\n      <th>tee</th>\n      <th>morning_wave</th>\n      <th>position</th>\n      <th>scoring_points</th>\n      <th>finish_points</th>\n      <th>manual_bump</th>\n      <th>total_points</th>\n      <th>value</th>\n      <th>max_exposure</th>\n      <th>lineup_rule</th>\n      <th>delay</th>\n    </tr>\n  </thead>\n  <tbody>\n    <tr>\n      <th>0</th>\n      <td>DeChambeau, Bryson</td>\n      <td>Bryson DeChambeau</td>\n      <td>14722447</td>\n      <td>150</td>\n      <td>10800</td>\n      <td>2020-07-05 13:55:00</td>\n      <td>0</td>\n      <td>T2 (-16)</td>\n      <td>48.9</td>\n      <td>9.4</td>\n      <td>0</td>\n      <td>58.3</td>\n      <td>0.72</td>\n      <td>100</td>\n      <td>NaN</td>\n      <td>5.500000</td>\n    </tr>\n    <tr>\n      <th>1</th>\n      <td>Simpson, Webb</td>\n      <td>Webb Simpson</td>\n      <td>14722448</td>\n      <td>150</td>\n      <td>10500</td>\n      <td>2020-07-05 13:15:00</td>\n      <td>0</td>\n      <td>T8 (-13)</td>\n      <td>47.9</td>\n      <td>6.4</td>\n      <td>0</td>\n      <td>54.3</td>\n      <td>0.35</td>\n      <td>100</td>\n      <td>NaN</td>\n      <td>4.833333</td>\n    </tr>\n    <tr>\n      <th>2</th>\n      <td>Hovland, Viktor</td>\n      <td>Viktor Hovland</td>\n      <td>14722449</td>\n      <td>150</td>\n      <td>10200</td>\n      <td>2020-07-05 13:25:00</td>\n      <td>0</td>\n      <td>T8 (-13)</td>\n      <td>46.5</td>\n      <td>6.1</td>\n      <td>0</td>\n      <td>52.6</td>\n      <td>0.23</td>\n      <td>100</td>\n      <td>NaN</td>\n      <td>5.000000</td>\n    </tr>\n    <tr>\n      <th>3</th>\n      <td>Hatton, Tyrrell</td>\n      <td>Tyrrell Hatton</td>\n      <td>14722450</td>\n      <td>150</td>\n      <td>10000</td>\n      <td>2020-07-05 12:45:00</td>\n      <td>0</td>\n      <td>T13 (-12)</td>\n      <td>46.9</td>\n      <td>5.2</td>\n      <td>0</td>\n      <td>52.1</td>\n      <td>0.25</td>\n      <td>100</td>\n      <td>NaN</td>\n      <td>4.333333</td>\n    </tr>\n    <tr>\n      <th>4</th>\n      <td>Matsuyama, Hideki</td>\n      <td>Hideki Matsuyama</td>\n      <td>14722451</td>\n      <td>150</td>\n      <td>9800</td>\n      <td>2020-07-05 13:05:00</td>\n      <td>0</td>\n      <td>T13 (-12)</td>\n      <td>48.1</td>\n      <td>5.5</td>\n      <td>0</td>\n      <td>53.6</td>\n      <td>0.48</td>\n      <td>100</td>\n      <td>NaN</td>\n      <td>4.666667</td>\n    </tr>\n  </tbody>\n</table>\n</div>",
            "text/plain": "        datagolf_name            dk_name     dk_id  sample_size  dk_salary  \\\n0  DeChambeau, Bryson  Bryson DeChambeau  14722447          150      10800   \n1       Simpson, Webb       Webb Simpson  14722448          150      10500   \n2     Hovland, Viktor     Viktor Hovland  14722449          150      10200   \n3     Hatton, Tyrrell     Tyrrell Hatton  14722450          150      10000   \n4   Matsuyama, Hideki   Hideki Matsuyama  14722451          150       9800   \n\n                  tee  morning_wave   position  scoring_points  finish_points  \\\n0 2020-07-05 13:55:00             0   T2 (-16)            48.9            9.4   \n1 2020-07-05 13:15:00             0   T8 (-13)            47.9            6.4   \n2 2020-07-05 13:25:00             0   T8 (-13)            46.5            6.1   \n3 2020-07-05 12:45:00             0  T13 (-12)            46.9            5.2   \n4 2020-07-05 13:05:00             0  T13 (-12)            48.1            5.5   \n\n   manual_bump  total_points  value  max_exposure  lineup_rule     delay  \n0            0          58.3   0.72           100          NaN  5.500000  \n1            0          54.3   0.35           100          NaN  4.833333  \n2            0          52.6   0.23           100          NaN  5.000000  \n3            0          52.1   0.25           100          NaN  4.333333  \n4            0          53.6   0.48           100          NaN  4.666667  "
          },
          "metadata": {}
        }
      ]
    },
    {
      "metadata": {
        "trusted": true
      },
      "cell_type": "code",
      "source": "#add points adjusted\ndf['points_adj']=df.total_points -0.6*df.delay\ndf.head()",
      "execution_count": 4,
      "outputs": [
        {
          "output_type": "execute_result",
          "execution_count": 4,
          "data": {
            "text/html": "<div>\n<style scoped>\n    .dataframe tbody tr th:only-of-type {\n        vertical-align: middle;\n    }\n\n    .dataframe tbody tr th {\n        vertical-align: top;\n    }\n\n    .dataframe thead th {\n        text-align: right;\n    }\n</style>\n<table border=\"1\" class=\"dataframe\">\n  <thead>\n    <tr style=\"text-align: right;\">\n      <th></th>\n      <th>datagolf_name</th>\n      <th>dk_name</th>\n      <th>dk_id</th>\n      <th>sample_size</th>\n      <th>dk_salary</th>\n      <th>tee</th>\n      <th>morning_wave</th>\n      <th>position</th>\n      <th>scoring_points</th>\n      <th>finish_points</th>\n      <th>manual_bump</th>\n      <th>total_points</th>\n      <th>value</th>\n      <th>max_exposure</th>\n      <th>lineup_rule</th>\n      <th>delay</th>\n      <th>points_adj</th>\n    </tr>\n  </thead>\n  <tbody>\n    <tr>\n      <th>0</th>\n      <td>DeChambeau, Bryson</td>\n      <td>Bryson DeChambeau</td>\n      <td>14722447</td>\n      <td>150</td>\n      <td>10800</td>\n      <td>2020-07-05 13:55:00</td>\n      <td>0</td>\n      <td>T2 (-16)</td>\n      <td>48.9</td>\n      <td>9.4</td>\n      <td>0</td>\n      <td>58.3</td>\n      <td>0.72</td>\n      <td>100</td>\n      <td>NaN</td>\n      <td>5.500000</td>\n      <td>55.0</td>\n    </tr>\n    <tr>\n      <th>1</th>\n      <td>Simpson, Webb</td>\n      <td>Webb Simpson</td>\n      <td>14722448</td>\n      <td>150</td>\n      <td>10500</td>\n      <td>2020-07-05 13:15:00</td>\n      <td>0</td>\n      <td>T8 (-13)</td>\n      <td>47.9</td>\n      <td>6.4</td>\n      <td>0</td>\n      <td>54.3</td>\n      <td>0.35</td>\n      <td>100</td>\n      <td>NaN</td>\n      <td>4.833333</td>\n      <td>51.4</td>\n    </tr>\n    <tr>\n      <th>2</th>\n      <td>Hovland, Viktor</td>\n      <td>Viktor Hovland</td>\n      <td>14722449</td>\n      <td>150</td>\n      <td>10200</td>\n      <td>2020-07-05 13:25:00</td>\n      <td>0</td>\n      <td>T8 (-13)</td>\n      <td>46.5</td>\n      <td>6.1</td>\n      <td>0</td>\n      <td>52.6</td>\n      <td>0.23</td>\n      <td>100</td>\n      <td>NaN</td>\n      <td>5.000000</td>\n      <td>49.6</td>\n    </tr>\n    <tr>\n      <th>3</th>\n      <td>Hatton, Tyrrell</td>\n      <td>Tyrrell Hatton</td>\n      <td>14722450</td>\n      <td>150</td>\n      <td>10000</td>\n      <td>2020-07-05 12:45:00</td>\n      <td>0</td>\n      <td>T13 (-12)</td>\n      <td>46.9</td>\n      <td>5.2</td>\n      <td>0</td>\n      <td>52.1</td>\n      <td>0.25</td>\n      <td>100</td>\n      <td>NaN</td>\n      <td>4.333333</td>\n      <td>49.5</td>\n    </tr>\n    <tr>\n      <th>4</th>\n      <td>Matsuyama, Hideki</td>\n      <td>Hideki Matsuyama</td>\n      <td>14722451</td>\n      <td>150</td>\n      <td>9800</td>\n      <td>2020-07-05 13:05:00</td>\n      <td>0</td>\n      <td>T13 (-12)</td>\n      <td>48.1</td>\n      <td>5.5</td>\n      <td>0</td>\n      <td>53.6</td>\n      <td>0.48</td>\n      <td>100</td>\n      <td>NaN</td>\n      <td>4.666667</td>\n      <td>50.8</td>\n    </tr>\n  </tbody>\n</table>\n</div>",
            "text/plain": "        datagolf_name            dk_name     dk_id  sample_size  dk_salary  \\\n0  DeChambeau, Bryson  Bryson DeChambeau  14722447          150      10800   \n1       Simpson, Webb       Webb Simpson  14722448          150      10500   \n2     Hovland, Viktor     Viktor Hovland  14722449          150      10200   \n3     Hatton, Tyrrell     Tyrrell Hatton  14722450          150      10000   \n4   Matsuyama, Hideki   Hideki Matsuyama  14722451          150       9800   \n\n                  tee  morning_wave   position  scoring_points  finish_points  \\\n0 2020-07-05 13:55:00             0   T2 (-16)            48.9            9.4   \n1 2020-07-05 13:15:00             0   T8 (-13)            47.9            6.4   \n2 2020-07-05 13:25:00             0   T8 (-13)            46.5            6.1   \n3 2020-07-05 12:45:00             0  T13 (-12)            46.9            5.2   \n4 2020-07-05 13:05:00             0  T13 (-12)            48.1            5.5   \n\n   manual_bump  total_points  value  max_exposure  lineup_rule     delay  \\\n0            0          58.3   0.72           100          NaN  5.500000   \n1            0          54.3   0.35           100          NaN  4.833333   \n2            0          52.6   0.23           100          NaN  5.000000   \n3            0          52.1   0.25           100          NaN  4.333333   \n4            0          53.6   0.48           100          NaN  4.666667   \n\n   points_adj  \n0        55.0  \n1        51.4  \n2        49.6  \n3        49.5  \n4        50.8  "
          },
          "metadata": {}
        }
      ]
    },
    {
      "metadata": {
        "trusted": true
      },
      "cell_type": "code",
      "source": "df.to_csv('Data/dkshowdown.csv')",
      "execution_count": 5,
      "outputs": []
    },
    {
      "metadata": {
        "trusted": true
      },
      "cell_type": "code",
      "source": "",
      "execution_count": null,
      "outputs": []
    }
  ],
  "metadata": {
    "kernelspec": {
      "name": "python36",
      "display_name": "Python 3.6",
      "language": "python"
    },
    "language_info": {
      "mimetype": "text/x-python",
      "nbconvert_exporter": "python",
      "name": "python",
      "pygments_lexer": "ipython3",
      "version": "3.6.6",
      "file_extension": ".py",
      "codemirror_mode": {
        "version": 3,
        "name": "ipython"
      }
    }
  },
  "nbformat": 4,
  "nbformat_minor": 1
}