{
  "cells": [
    {
      "metadata": {},
      "cell_type": "markdown",
      "source": "# Read in data from datagolf"
    },
    {
      "metadata": {
        "trusted": true
      },
      "cell_type": "code",
      "source": "df <- read.csv('Data/draftkings_main_projections_euro.csv',stringsAsFactors=FALSE)\nhead(df)",
      "execution_count": 2,
      "outputs": [
        {
          "output_type": "display_data",
          "data": {
            "text/plain": "  datagolf_name    dk_name         sample_size dk_id    dk_salary std_dev\n1 Fleetwood, Tommy Tommy Fleetwood 150         15307221 11400     35.896 \n2 Coetzee, George  George Coetzee  150         15307222 10900     35.444 \n3 Li, Haotong      Hao-Tong Li     150         15307223 10700     34.703 \n4 Fox, Ryan        Ryan Fox        150         15307224 10400     34.907 \n5 Scrivener, Jason Jason Scrivener 150         15307225 10000     34.784 \n6 Kinhult, Marcus  Marcus Kinhult  150         15307226  9800     35.145 \n  tee_time early_late_wave scoring_points finish_points manual_bump\n1 8:05 am  1               90.3           9.5           0          \n2 8:25 am  1               81.1           6.3           0          \n3 8:05 am  1               73.0           4.2           0          \n4 12:25 pm 0               74.7           4.7           0          \n5 2:50 pm  0               74.1           4.6           0          \n6 11:05 am 1               72.0           4.2           0          \n  total_points value max_exposure projected_ownership lineup_rule\n1 99.8          0.86 100          undefined           NA         \n2 87.4          0.07 100          undefined           NA         \n3 77.2         -0.36 100          undefined           NA         \n4 79.4         -0.18 100          undefined           NA         \n5 78.7         -0.09 100          undefined           NA         \n6 76.1         -0.15 100          undefined           NA         ",
            "text/latex": "A data.frame: 6 x 16\n\\begin{tabular}{r|llllllllllllllll}\n datagolf\\_name & dk\\_name & sample\\_size & dk\\_id & dk\\_salary & std\\_dev & tee\\_time & early\\_late\\_wave & scoring\\_points & finish\\_points & manual\\_bump & total\\_points & value & max\\_exposure & projected\\_ownership & lineup\\_rule\\\\\n <chr> & <chr> & <int> & <int> & <int> & <dbl> & <chr> & <int> & <dbl> & <dbl> & <int> & <dbl> & <dbl> & <int> & <chr> & <lgl>\\\\\n\\hline\n\t Fleetwood, Tommy & Tommy Fleetwood & 150 & 15307221 & 11400 & 35.896 & 8:05 am  & 1 & 90.3 & 9.5 & 0 & 99.8 &  0.86 & 100 & undefined & NA\\\\\n\t Coetzee, George  & George Coetzee  & 150 & 15307222 & 10900 & 35.444 & 8:25 am  & 1 & 81.1 & 6.3 & 0 & 87.4 &  0.07 & 100 & undefined & NA\\\\\n\t Li, Haotong      & Hao-Tong Li     & 150 & 15307223 & 10700 & 34.703 & 8:05 am  & 1 & 73.0 & 4.2 & 0 & 77.2 & -0.36 & 100 & undefined & NA\\\\\n\t Fox, Ryan        & Ryan Fox        & 150 & 15307224 & 10400 & 34.907 & 12:25 pm & 0 & 74.7 & 4.7 & 0 & 79.4 & -0.18 & 100 & undefined & NA\\\\\n\t Scrivener, Jason & Jason Scrivener & 150 & 15307225 & 10000 & 34.784 & 2:50 pm  & 0 & 74.1 & 4.6 & 0 & 78.7 & -0.09 & 100 & undefined & NA\\\\\n\t Kinhult, Marcus  & Marcus Kinhult  & 150 & 15307226 &  9800 & 35.145 & 11:05 am & 1 & 72.0 & 4.2 & 0 & 76.1 & -0.15 & 100 & undefined & NA\\\\\n\\end{tabular}\n",
            "text/markdown": "\nA data.frame: 6 x 16\n\n| datagolf_name &lt;chr&gt; | dk_name &lt;chr&gt; | sample_size &lt;int&gt; | dk_id &lt;int&gt; | dk_salary &lt;int&gt; | std_dev &lt;dbl&gt; | tee_time &lt;chr&gt; | early_late_wave &lt;int&gt; | scoring_points &lt;dbl&gt; | finish_points &lt;dbl&gt; | manual_bump &lt;int&gt; | total_points &lt;dbl&gt; | value &lt;dbl&gt; | max_exposure &lt;int&gt; | projected_ownership &lt;chr&gt; | lineup_rule &lt;lgl&gt; |\n|---|---|---|---|---|---|---|---|---|---|---|---|---|---|---|---|\n| Fleetwood, Tommy | Tommy Fleetwood | 150 | 15307221 | 11400 | 35.896 | 8:05 am  | 1 | 90.3 | 9.5 | 0 | 99.8 |  0.86 | 100 | undefined | NA |\n| Coetzee, George  | George Coetzee  | 150 | 15307222 | 10900 | 35.444 | 8:25 am  | 1 | 81.1 | 6.3 | 0 | 87.4 |  0.07 | 100 | undefined | NA |\n| Li, Haotong      | Hao-Tong Li     | 150 | 15307223 | 10700 | 34.703 | 8:05 am  | 1 | 73.0 | 4.2 | 0 | 77.2 | -0.36 | 100 | undefined | NA |\n| Fox, Ryan        | Ryan Fox        | 150 | 15307224 | 10400 | 34.907 | 12:25 pm | 0 | 74.7 | 4.7 | 0 | 79.4 | -0.18 | 100 | undefined | NA |\n| Scrivener, Jason | Jason Scrivener | 150 | 15307225 | 10000 | 34.784 | 2:50 pm  | 0 | 74.1 | 4.6 | 0 | 78.7 | -0.09 | 100 | undefined | NA |\n| Kinhult, Marcus  | Marcus Kinhult  | 150 | 15307226 |  9800 | 35.145 | 11:05 am | 1 | 72.0 | 4.2 | 0 | 76.1 | -0.15 | 100 | undefined | NA |\n\n",
            "text/html": "<table>\n<caption>A data.frame: 6 x 16</caption>\n<thead>\n\t<tr><th scope=col>datagolf_name</th><th scope=col>dk_name</th><th scope=col>sample_size</th><th scope=col>dk_id</th><th scope=col>dk_salary</th><th scope=col>std_dev</th><th scope=col>tee_time</th><th scope=col>early_late_wave</th><th scope=col>scoring_points</th><th scope=col>finish_points</th><th scope=col>manual_bump</th><th scope=col>total_points</th><th scope=col>value</th><th scope=col>max_exposure</th><th scope=col>projected_ownership</th><th scope=col>lineup_rule</th></tr>\n\t<tr><th scope=col>&lt;chr&gt;</th><th scope=col>&lt;chr&gt;</th><th scope=col>&lt;int&gt;</th><th scope=col>&lt;int&gt;</th><th scope=col>&lt;int&gt;</th><th scope=col>&lt;dbl&gt;</th><th scope=col>&lt;chr&gt;</th><th scope=col>&lt;int&gt;</th><th scope=col>&lt;dbl&gt;</th><th scope=col>&lt;dbl&gt;</th><th scope=col>&lt;int&gt;</th><th scope=col>&lt;dbl&gt;</th><th scope=col>&lt;dbl&gt;</th><th scope=col>&lt;int&gt;</th><th scope=col>&lt;chr&gt;</th><th scope=col>&lt;lgl&gt;</th></tr>\n</thead>\n<tbody>\n\t<tr><td>Fleetwood, Tommy</td><td>Tommy Fleetwood</td><td>150</td><td>15307221</td><td>11400</td><td>35.896</td><td>8:05 am </td><td>1</td><td>90.3</td><td>9.5</td><td>0</td><td>99.8</td><td> 0.86</td><td>100</td><td>undefined</td><td>NA</td></tr>\n\t<tr><td>Coetzee, George </td><td>George Coetzee </td><td>150</td><td>15307222</td><td>10900</td><td>35.444</td><td>8:25 am </td><td>1</td><td>81.1</td><td>6.3</td><td>0</td><td>87.4</td><td> 0.07</td><td>100</td><td>undefined</td><td>NA</td></tr>\n\t<tr><td>Li, Haotong     </td><td>Hao-Tong Li    </td><td>150</td><td>15307223</td><td>10700</td><td>34.703</td><td>8:05 am </td><td>1</td><td>73.0</td><td>4.2</td><td>0</td><td>77.2</td><td>-0.36</td><td>100</td><td>undefined</td><td>NA</td></tr>\n\t<tr><td>Fox, Ryan       </td><td>Ryan Fox       </td><td>150</td><td>15307224</td><td>10400</td><td>34.907</td><td>12:25 pm</td><td>0</td><td>74.7</td><td>4.7</td><td>0</td><td>79.4</td><td>-0.18</td><td>100</td><td>undefined</td><td>NA</td></tr>\n\t<tr><td>Scrivener, Jason</td><td>Jason Scrivener</td><td>150</td><td>15307225</td><td>10000</td><td>34.784</td><td>2:50 pm </td><td>0</td><td>74.1</td><td>4.6</td><td>0</td><td>78.7</td><td>-0.09</td><td>100</td><td>undefined</td><td>NA</td></tr>\n\t<tr><td>Kinhult, Marcus </td><td>Marcus Kinhult </td><td>150</td><td>15307226</td><td> 9800</td><td>35.145</td><td>11:05 am</td><td>1</td><td>72.0</td><td>4.2</td><td>0</td><td>76.1</td><td>-0.15</td><td>100</td><td>undefined</td><td>NA</td></tr>\n</tbody>\n</table>\n"
          },
          "metadata": {}
        }
      ]
    },
    {
      "metadata": {
        "trusted": true
      },
      "cell_type": "code",
      "source": "#Only keep what we care about\ndf <- df[c('dk_name','dk_id','dk_salary','total_points')]\nhead(df)",
      "execution_count": 3,
      "outputs": [
        {
          "output_type": "display_data",
          "data": {
            "text/plain": "  dk_name         dk_id    dk_salary total_points\n1 Tommy Fleetwood 15307221 11400     99.8        \n2 George Coetzee  15307222 10900     87.4        \n3 Hao-Tong Li     15307223 10700     77.2        \n4 Ryan Fox        15307224 10400     79.4        \n5 Jason Scrivener 15307225 10000     78.7        \n6 Marcus Kinhult  15307226  9800     76.1        ",
            "text/latex": "A data.frame: 6 x 4\n\\begin{tabular}{r|llll}\n dk\\_name & dk\\_id & dk\\_salary & total\\_points\\\\\n <chr> & <int> & <int> & <dbl>\\\\\n\\hline\n\t Tommy Fleetwood & 15307221 & 11400 & 99.8\\\\\n\t George Coetzee  & 15307222 & 10900 & 87.4\\\\\n\t Hao-Tong Li     & 15307223 & 10700 & 77.2\\\\\n\t Ryan Fox        & 15307224 & 10400 & 79.4\\\\\n\t Jason Scrivener & 15307225 & 10000 & 78.7\\\\\n\t Marcus Kinhult  & 15307226 &  9800 & 76.1\\\\\n\\end{tabular}\n",
            "text/markdown": "\nA data.frame: 6 x 4\n\n| dk_name &lt;chr&gt; | dk_id &lt;int&gt; | dk_salary &lt;int&gt; | total_points &lt;dbl&gt; |\n|---|---|---|---|\n| Tommy Fleetwood | 15307221 | 11400 | 99.8 |\n| George Coetzee  | 15307222 | 10900 | 87.4 |\n| Hao-Tong Li     | 15307223 | 10700 | 77.2 |\n| Ryan Fox        | 15307224 | 10400 | 79.4 |\n| Jason Scrivener | 15307225 | 10000 | 78.7 |\n| Marcus Kinhult  | 15307226 |  9800 | 76.1 |\n\n",
            "text/html": "<table>\n<caption>A data.frame: 6 x 4</caption>\n<thead>\n\t<tr><th scope=col>dk_name</th><th scope=col>dk_id</th><th scope=col>dk_salary</th><th scope=col>total_points</th></tr>\n\t<tr><th scope=col>&lt;chr&gt;</th><th scope=col>&lt;int&gt;</th><th scope=col>&lt;int&gt;</th><th scope=col>&lt;dbl&gt;</th></tr>\n</thead>\n<tbody>\n\t<tr><td>Tommy Fleetwood</td><td>15307221</td><td>11400</td><td>99.8</td></tr>\n\t<tr><td>George Coetzee </td><td>15307222</td><td>10900</td><td>87.4</td></tr>\n\t<tr><td>Hao-Tong Li    </td><td>15307223</td><td>10700</td><td>77.2</td></tr>\n\t<tr><td>Ryan Fox       </td><td>15307224</td><td>10400</td><td>79.4</td></tr>\n\t<tr><td>Jason Scrivener</td><td>15307225</td><td>10000</td><td>78.7</td></tr>\n\t<tr><td>Marcus Kinhult </td><td>15307226</td><td> 9800</td><td>76.1</td></tr>\n</tbody>\n</table>\n"
          },
          "metadata": {}
        }
      ]
    },
    {
      "metadata": {
        "trusted": true
      },
      "cell_type": "code",
      "source": "#Add addl columns\ndf['name_id'] = paste(df$dk_name,\" (\",df$dk_id,\")\",sep=\"\")\n#Add column of ones\ndf['ones'] <- 1\ndf$ones <- as.integer(df$ones)\nhead(df)",
      "execution_count": 4,
      "outputs": [
        {
          "output_type": "display_data",
          "data": {
            "text/plain": "  dk_name         dk_id    dk_salary total_points name_id                   \n1 Tommy Fleetwood 15307221 11400     99.8         Tommy Fleetwood (15307221)\n2 George Coetzee  15307222 10900     87.4         George Coetzee (15307222) \n3 Hao-Tong Li     15307223 10700     77.2         Hao-Tong Li (15307223)    \n4 Ryan Fox        15307224 10400     79.4         Ryan Fox (15307224)       \n5 Jason Scrivener 15307225 10000     78.7         Jason Scrivener (15307225)\n6 Marcus Kinhult  15307226  9800     76.1         Marcus Kinhult (15307226) \n  ones\n1 1   \n2 1   \n3 1   \n4 1   \n5 1   \n6 1   ",
            "text/latex": "A data.frame: 6 x 6\n\\begin{tabular}{r|llllll}\n dk\\_name & dk\\_id & dk\\_salary & total\\_points & name\\_id & ones\\\\\n <chr> & <int> & <int> & <dbl> & <chr> & <int>\\\\\n\\hline\n\t Tommy Fleetwood & 15307221 & 11400 & 99.8 & Tommy Fleetwood (15307221) & 1\\\\\n\t George Coetzee  & 15307222 & 10900 & 87.4 & George Coetzee (15307222)  & 1\\\\\n\t Hao-Tong Li     & 15307223 & 10700 & 77.2 & Hao-Tong Li (15307223)     & 1\\\\\n\t Ryan Fox        & 15307224 & 10400 & 79.4 & Ryan Fox (15307224)        & 1\\\\\n\t Jason Scrivener & 15307225 & 10000 & 78.7 & Jason Scrivener (15307225) & 1\\\\\n\t Marcus Kinhult  & 15307226 &  9800 & 76.1 & Marcus Kinhult (15307226)  & 1\\\\\n\\end{tabular}\n",
            "text/markdown": "\nA data.frame: 6 x 6\n\n| dk_name &lt;chr&gt; | dk_id &lt;int&gt; | dk_salary &lt;int&gt; | total_points &lt;dbl&gt; | name_id &lt;chr&gt; | ones &lt;int&gt; |\n|---|---|---|---|---|---|\n| Tommy Fleetwood | 15307221 | 11400 | 99.8 | Tommy Fleetwood (15307221) | 1 |\n| George Coetzee  | 15307222 | 10900 | 87.4 | George Coetzee (15307222)  | 1 |\n| Hao-Tong Li     | 15307223 | 10700 | 77.2 | Hao-Tong Li (15307223)     | 1 |\n| Ryan Fox        | 15307224 | 10400 | 79.4 | Ryan Fox (15307224)        | 1 |\n| Jason Scrivener | 15307225 | 10000 | 78.7 | Jason Scrivener (15307225) | 1 |\n| Marcus Kinhult  | 15307226 |  9800 | 76.1 | Marcus Kinhult (15307226)  | 1 |\n\n",
            "text/html": "<table>\n<caption>A data.frame: 6 x 6</caption>\n<thead>\n\t<tr><th scope=col>dk_name</th><th scope=col>dk_id</th><th scope=col>dk_salary</th><th scope=col>total_points</th><th scope=col>name_id</th><th scope=col>ones</th></tr>\n\t<tr><th scope=col>&lt;chr&gt;</th><th scope=col>&lt;int&gt;</th><th scope=col>&lt;int&gt;</th><th scope=col>&lt;dbl&gt;</th><th scope=col>&lt;chr&gt;</th><th scope=col>&lt;int&gt;</th></tr>\n</thead>\n<tbody>\n\t<tr><td>Tommy Fleetwood</td><td>15307221</td><td>11400</td><td>99.8</td><td>Tommy Fleetwood (15307221)</td><td>1</td></tr>\n\t<tr><td>George Coetzee </td><td>15307222</td><td>10900</td><td>87.4</td><td>George Coetzee (15307222) </td><td>1</td></tr>\n\t<tr><td>Hao-Tong Li    </td><td>15307223</td><td>10700</td><td>77.2</td><td>Hao-Tong Li (15307223)    </td><td>1</td></tr>\n\t<tr><td>Ryan Fox       </td><td>15307224</td><td>10400</td><td>79.4</td><td>Ryan Fox (15307224)       </td><td>1</td></tr>\n\t<tr><td>Jason Scrivener</td><td>15307225</td><td>10000</td><td>78.7</td><td>Jason Scrivener (15307225)</td><td>1</td></tr>\n\t<tr><td>Marcus Kinhult </td><td>15307226</td><td> 9800</td><td>76.1</td><td>Marcus Kinhult (15307226) </td><td>1</td></tr>\n</tbody>\n</table>\n"
          },
          "metadata": {}
        }
      ]
    },
    {
      "metadata": {},
      "cell_type": "markdown",
      "source": "# Optimize by points_adj\n\nRef: https://towardsdatascience.com/integer-programming-in-r-33ee6f48a3c8"
    },
    {
      "metadata": {
        "trusted": true
      },
      "cell_type": "code",
      "source": "library('lpSolve')\nlibrary(dplyr)",
      "execution_count": 5,
      "outputs": [
        {
          "output_type": "stream",
          "text": "\nAttaching package: ‘dplyr’\n\nThe following objects are masked from ‘package:stats’:\n\n    filter, lag\n\nThe following objects are masked from ‘package:base’:\n\n    intersect, setdiff, setequal, union\n\n",
          "name": "stderr"
        }
      ]
    },
    {
      "metadata": {
        "trusted": true
      },
      "cell_type": "code",
      "source": "t(data.matrix(df[c('dk_salary','ones')]))",
      "execution_count": 6,
      "outputs": [
        {
          "output_type": "display_data",
          "data": {
            "text/plain": "          [,1]  [,2]  [,3]  [,4]  [,5]  [,6] [,7] [,8] [,9] [,10] [,11] [,12]\ndk_salary 11400 10900 10700 10400 10000 9800 9600 9500 9200 9100  ...   6100 \nones          1     1     1     1     1    1    1    1    1    1  ...      1 \n          [,13] [,14] [,15] [,16] [,17] [,18] [,19] [,20] [,21]\ndk_salary 6100  6000  6000  6000  6000  6000  6000  6000  6000 \nones         1     1     1     1     1     1     1     1     1 ",
            "text/latex": "A matrix: 2 x 130 of type int\n\\begin{tabular}{r|llllllllllllllllllllllllllllllllllllllllllllllllllllllllllllllllllllllllllllllllllllllllllllllllllllllllllllllllllllllllllllllllll}\n\tdk\\_salary & 11400 & 10900 & 10700 & 10400 & 10000 & 9800 & 9600 & 9500 & 9200 & 9100 & 9000 & 8900 & 8800 & 8700 & 8600 & 8500 & 8400 & 8300 & 8200 & 8100 & 8000 & 8000 & 7900 & 7900 & 7800 & 7800 & 7700 & 7700 & 7600 & 7600 & 7600 & 7500 & 7500 & 7500 & 7400 & 7400 & 7400 & 7400 & 7300 & 7300 & 7300 & 7300 & 7300 & 7200 & 7200 & 7200 & 7200 & 7200 & 7100 & 7100 & 7100 & 7100 & 7100 & 7000 & 7000 & 7000 & 7000 & 7000 & 7000 & 6900 & 6900 & 6900 & 6900 & 6900 & 6900 & 6800 & 6800 & 6800 & 6800 & 6800 & 6800 & 6700 & 6700 & 6700 & 6700 & 6700 & 6700 & 6700 & 6600 & 6600 & 6600 & 6600 & 6600 & 6600 & 6500 & 6500 & 6500 & 6500 & 6500 & 6500 & 6500 & 6400 & 6400 & 6400 & 6400 & 6400 & 6400 & 6400 & 6400 & 6300 & 6300 & 6300 & 6300 & 6300 & 6300 & 6300 & 6300 & 6200 & 6200 & 6200 & 6200 & 6200 & 6200 & 6200 & 6200 & 6100 & 6100 & 6100 & 6100 & 6100 & 6100 & 6100 & 6000 & 6000 & 6000 & 6000 & 6000 & 6000 & 6000 & 6000\\\\\n\tones &     1 &     1 &     1 &     1 &     1 &    1 &    1 &    1 &    1 &    1 &    1 &    1 &    1 &    1 &    1 &    1 &    1 &    1 &    1 &    1 &    1 &    1 &    1 &    1 &    1 &    1 &    1 &    1 &    1 &    1 &    1 &    1 &    1 &    1 &    1 &    1 &    1 &    1 &    1 &    1 &    1 &    1 &    1 &    1 &    1 &    1 &    1 &    1 &    1 &    1 &    1 &    1 &    1 &    1 &    1 &    1 &    1 &    1 &    1 &    1 &    1 &    1 &    1 &    1 &    1 &    1 &    1 &    1 &    1 &    1 &    1 &    1 &    1 &    1 &    1 &    1 &    1 &    1 &    1 &    1 &    1 &    1 &    1 &    1 &    1 &    1 &    1 &    1 &    1 &    1 &    1 &    1 &    1 &    1 &    1 &    1 &    1 &    1 &    1 &    1 &    1 &    1 &    1 &    1 &    1 &    1 &    1 &    1 &    1 &    1 &    1 &    1 &    1 &    1 &    1 &    1 &    1 &    1 &    1 &    1 &    1 &    1 &    1 &    1 &    1 &    1 &    1 &    1 &    1 &    1\\\\\n\\end{tabular}\n",
            "text/markdown": "\nA matrix: 2 x 130 of type int\n\n| dk_salary | 11400 | 10900 | 10700 | 10400 | 10000 | 9800 | 9600 | 9500 | 9200 | 9100 | ... | 6100 | 6100 | 6000 | 6000 | 6000 | 6000 | 6000 | 6000 | 6000 | 6000 |\n| ones |     1 |     1 |     1 |     1 |     1 |    1 |    1 |    1 |    1 |    1 | ... |    1 |    1 |    1 |    1 |    1 |    1 |    1 |    1 |    1 |    1 |\n\n",
            "text/html": "<table>\n<caption>A matrix: 2 x 130 of type int</caption>\n<tbody>\n\t<tr><th scope=row>dk_salary</th><td>11400</td><td>10900</td><td>10700</td><td>10400</td><td>10000</td><td>9800</td><td>9600</td><td>9500</td><td>9200</td><td>9100</td><td>...</td><td>6100</td><td>6100</td><td>6000</td><td>6000</td><td>6000</td><td>6000</td><td>6000</td><td>6000</td><td>6000</td><td>6000</td></tr>\n\t<tr><th scope=row>ones</th><td>    1</td><td>    1</td><td>    1</td><td>    1</td><td>    1</td><td>   1</td><td>   1</td><td>   1</td><td>   1</td><td>   1</td><td>...</td><td>   1</td><td>   1</td><td>   1</td><td>   1</td><td>   1</td><td>   1</td><td>   1</td><td>   1</td><td>   1</td><td>   1</td></tr>\n</tbody>\n</table>\n"
          },
          "metadata": {}
        }
      ]
    },
    {
      "metadata": {
        "trusted": true
      },
      "cell_type": "code",
      "source": "# Set coefficients of the objective function\nf.obj <- df$total_points\n\n# Set matrix corresponding to coefficients of constraints by rows\n#f*dk_salary <= 50000\n#f*ones == 6\nf.con <- t(data.matrix(df[c('dk_salary','ones')]))\n\n# Set unequality/equality signs\nf.dir <- c(\"<=\",\n           \"==\")\n\n# Set right hand side coefficients\nf.rhs <- c(50000,\n           6)\n\n# # Variables final values\nopt_team <- lp(\"max\", f.obj, f.con, f.dir, f.rhs, int.vec = 1:4, all.bin = TRUE)$solution\ndf['opt_team'] <- opt_team\nfilter(df,opt_team==1)",
      "execution_count": 7,
      "outputs": [
        {
          "output_type": "display_data",
          "data": {
            "text/plain": "  dk_name           dk_id    dk_salary total_points\n1 Tommy Fleetwood   15307221 11400     99.8        \n2 Paul Waring       15307231  9000     85.8        \n3 Sebastian Heisele 15307245  7800     76.1        \n4 Antoine Rozner    15307249  7600     74.7        \n5 Jack Senior       15307252  7500     73.6        \n6 Julien Guerrier   15307295  6700     67.0        \n  name_id                      ones opt_team\n1 Tommy Fleetwood (15307221)   1    1       \n2 Paul Waring (15307231)       1    1       \n3 Sebastian Heisele (15307245) 1    1       \n4 Antoine Rozner (15307249)    1    1       \n5 Jack Senior (15307252)       1    1       \n6 Julien Guerrier (15307295)   1    1       ",
            "text/latex": "A data.frame: 6 x 7\n\\begin{tabular}{r|lllllll}\n dk\\_name & dk\\_id & dk\\_salary & total\\_points & name\\_id & ones & opt\\_team\\\\\n <chr> & <int> & <int> & <dbl> & <chr> & <int> & <dbl>\\\\\n\\hline\n\t Tommy Fleetwood   & 15307221 & 11400 & 99.8 & Tommy Fleetwood (15307221)   & 1 & 1\\\\\n\t Paul Waring       & 15307231 &  9000 & 85.8 & Paul Waring (15307231)       & 1 & 1\\\\\n\t Sebastian Heisele & 15307245 &  7800 & 76.1 & Sebastian Heisele (15307245) & 1 & 1\\\\\n\t Antoine Rozner    & 15307249 &  7600 & 74.7 & Antoine Rozner (15307249)    & 1 & 1\\\\\n\t Jack Senior       & 15307252 &  7500 & 73.6 & Jack Senior (15307252)       & 1 & 1\\\\\n\t Julien Guerrier   & 15307295 &  6700 & 67.0 & Julien Guerrier (15307295)   & 1 & 1\\\\\n\\end{tabular}\n",
            "text/markdown": "\nA data.frame: 6 x 7\n\n| dk_name &lt;chr&gt; | dk_id &lt;int&gt; | dk_salary &lt;int&gt; | total_points &lt;dbl&gt; | name_id &lt;chr&gt; | ones &lt;int&gt; | opt_team &lt;dbl&gt; |\n|---|---|---|---|---|---|---|\n| Tommy Fleetwood   | 15307221 | 11400 | 99.8 | Tommy Fleetwood (15307221)   | 1 | 1 |\n| Paul Waring       | 15307231 |  9000 | 85.8 | Paul Waring (15307231)       | 1 | 1 |\n| Sebastian Heisele | 15307245 |  7800 | 76.1 | Sebastian Heisele (15307245) | 1 | 1 |\n| Antoine Rozner    | 15307249 |  7600 | 74.7 | Antoine Rozner (15307249)    | 1 | 1 |\n| Jack Senior       | 15307252 |  7500 | 73.6 | Jack Senior (15307252)       | 1 | 1 |\n| Julien Guerrier   | 15307295 |  6700 | 67.0 | Julien Guerrier (15307295)   | 1 | 1 |\n\n",
            "text/html": "<table>\n<caption>A data.frame: 6 x 7</caption>\n<thead>\n\t<tr><th scope=col>dk_name</th><th scope=col>dk_id</th><th scope=col>dk_salary</th><th scope=col>total_points</th><th scope=col>name_id</th><th scope=col>ones</th><th scope=col>opt_team</th></tr>\n\t<tr><th scope=col>&lt;chr&gt;</th><th scope=col>&lt;int&gt;</th><th scope=col>&lt;int&gt;</th><th scope=col>&lt;dbl&gt;</th><th scope=col>&lt;chr&gt;</th><th scope=col>&lt;int&gt;</th><th scope=col>&lt;dbl&gt;</th></tr>\n</thead>\n<tbody>\n\t<tr><td>Tommy Fleetwood  </td><td>15307221</td><td>11400</td><td>99.8</td><td>Tommy Fleetwood (15307221)  </td><td>1</td><td>1</td></tr>\n\t<tr><td>Paul Waring      </td><td>15307231</td><td> 9000</td><td>85.8</td><td>Paul Waring (15307231)      </td><td>1</td><td>1</td></tr>\n\t<tr><td>Sebastian Heisele</td><td>15307245</td><td> 7800</td><td>76.1</td><td>Sebastian Heisele (15307245)</td><td>1</td><td>1</td></tr>\n\t<tr><td>Antoine Rozner   </td><td>15307249</td><td> 7600</td><td>74.7</td><td>Antoine Rozner (15307249)   </td><td>1</td><td>1</td></tr>\n\t<tr><td>Jack Senior      </td><td>15307252</td><td> 7500</td><td>73.6</td><td>Jack Senior (15307252)      </td><td>1</td><td>1</td></tr>\n\t<tr><td>Julien Guerrier  </td><td>15307295</td><td> 6700</td><td>67.0</td><td>Julien Guerrier (15307295)  </td><td>1</td><td>1</td></tr>\n</tbody>\n</table>\n"
          },
          "metadata": {}
        }
      ]
    },
    {
      "metadata": {
        "trusted": true
      },
      "cell_type": "code",
      "source": "#Grab just the team\ndf_opt <- filter(df,opt_team==1)\nprint('Team 1:')\nprint(paste(df_opt$dk_name))",
      "execution_count": 8,
      "outputs": [
        {
          "output_type": "stream",
          "text": "[1] \"Team 1:\"\n[1] \"Tommy Fleetwood\"   \"Paul Waring\"       \"Sebastian Heisele\"\n[4] \"Antoine Rozner\"    \"Jack Senior\"       \"Julien Guerrier\"  \n",
          "name": "stdout"
        }
      ]
    },
    {
      "metadata": {
        "trusted": true,
        "scrolled": false
      },
      "cell_type": "code",
      "source": "#Find top N teams\nown_pen = 0.2\n#df['points_adj'] = df$total_points - own_pen*df$projected_ownership\nnum_teams = 7\ndf_now <- df\nto_remove = c(\"Thorbjorn Olesen\",\n             \"Joost Luiten\",\n             \"Paul Waring\")\n#to_remove <- c()\nfor (n in to_remove) {\n    df_now <- filter(df_now,dk_name!=n) \n}\n#Max sal\nmax_sal <- 9900\ndf_now <- subset(df_now,dk_salary<=max_sal)\nbase_exposure <- 50\nexposure_gap <- 5\n\n#Identify lock\nlock = c()\n#lock = c()\nnum_left <- 6\nsal_left <- 50000\nsal_used <- 0\nlock_full_names <- c()\nif (length(lock) > 0) {\n    df_lock <- subset(df_now,dk_name %in% lock)\n    df_now <- subset(df_now,! dk_name %in% lock)\n    sal_used <- sum(df_lock$dk_salary) \n    num_lock <- length(lock)\n    sal_left <- 50000 - sal_used\n    num_left <- 6-num_lock\n    lock_full_names <- df_lock$name_id\n} \n\nfor (i in seq(1:num_teams)) {\n    # Set coefficients of the objective function\n    #f.obj <- df_now$points_adj\n    f.obj <- df_now$total_points\n\n    # Set matrix corresponding to coefficients of constraints by rows\n    #f*dk_salary <= 50000\n    #f*ones == 6\n    #f.con <- t(data.matrix(df_now[c('dk_salary','ones','projected_ownership')]))\n    f.con <- t(data.matrix(df_now[c('dk_salary','ones')]))\n    \n    # Set unequality/equality signs\n    f.dir <- c(\"<=\",\n               \"==\")\n    \n    # Set right hand side coefficients\n    f.rhs <- c(sal_left,\n               num_left)\n\n    # # Variables final values\n    #opt_val <- lp(\"max\", f.obj, f.con, f.dir, f.rhs, int.vec = 1:4, all.bin = TRUE)$objective\n    opt_team <- lp(\"max\", f.obj, f.con, f.dir, f.rhs, int.vec = 1:4, all.bin = TRUE)$solution\n    df_now['opt_team'] <- opt_team\n    df_opt <- filter(df_now,opt_team==1)\n    opt_sal <- sum(df_opt$dk_salary)\n    \n    #Print current best team\n    print(paste('Team ',i,' (',opt_sal/1000,'):',sep=\"\"))\n    print(paste(df_opt$dk_name))\n    \n    #Add best team to df_teams\n    if (i==1) {\n        df_teams <- df_opt[c('name_id','dk_name','dk_salary')]\n        df_teams['Exposure'] <- base_exposure\n    } else {\n        df_teams_new <- df_opt[c('name_id','dk_name','dk_salary')]\n        df_teams_new['Exposure'] <- base_exposure - (i-1)*exposure_gap\n        df_teams <- rbind(df_teams,df_teams_new)\n    }\n    \n    #Remove current opt team\n    df_now <- filter(df_now,opt_team==0)\n}",
      "execution_count": 9,
      "outputs": [
        {
          "output_type": "stream",
          "text": "[1] \"Team 1 (49.3):\"\n[1] \"Jordan L. Smith\"   \"Benjamin Hebert\"   \"Lorenzo Gagli\"    \n[4] \"Chris Paisley\"     \"Sebastian Heisele\" \"Antoine Rozner\"   \n[1] \"Team 2 (50):\"\n[1] \"Marcus Kinhult\" \"John Catlin\"    \"Wade Ormsby\"    \"Matthew Jordan\"\n[5] \"Wil Besseling\"  \"Jack Senior\"   \n[1] \"Team 3 (50):\"\n[1] \"Jorge Campillo\"   \"Guido Migliozzi\"  \"Ross Fisher\"      \"Johannes Veerman\"\n[5] \"Steven Brown\"     \"Calum Hill\"      \n[1] \"Team 4 (45.7):\"\n[1] \"Jamie Donaldson\" \"Alexander Bjork\" \"Matthieu Pavon\"  \"Kalle Samooja\"  \n[5] \"Scott Vincent\"   \"Jens Fahrbring\" \n[1] \"Team 5 (45.4):\"\n[1] \"Wilco Nienaber\"     \"Robert Rock\"        \"Maximilian Kieffer\"\n[4] \"Joakim Lagergren\"   \"Cormac Sharvin\"     \"Richard Bland\"     \n[1] \"Team 6 (44.8):\"\n[1] \"Brandon Stone\"       \"Pablo Larrazabal\"    \"Laurie Canter\"      \n[4] \"Sebastian Soderberg\" \"Matthew Southgate\"   \"Julien Guerrier\"    \n[1] \"Team 7 (43.4):\"\n[1] \"Justin Walters\"  \"Marcus Armitage\" \"Oliver Fisher\"   \"Adrien Saddier\" \n[5] \"Wu Ashun\"        \"Nino Bertasio\"  \n",
          "name": "stdout"
        }
      ]
    },
    {
      "metadata": {
        "trusted": true,
        "scrolled": false
      },
      "cell_type": "markdown",
      "source": "# Just keep top n teams and sort by salary\n"
    },
    {
      "metadata": {
        "trusted": true
      },
      "cell_type": "code",
      "source": "teams_to_keep = 2\nlow_exposure = base_exposure - (teams_to_keep-1)*exposure_gap\ndf_teams <- filter(df_teams,Exposure >= low_exposure)\ndf_teams <- df_teams[order(-df_teams$dk_salary),]\ndf_teams",
      "execution_count": 13,
      "outputs": [
        {
          "output_type": "display_data",
          "data": {
            "text/plain": "   name_id                      dk_name           dk_salary Exposure\n7  Marcus Kinhult (15307226)    Marcus Kinhult    9800      45      \n1  Paul Waring (15307231)       Paul Waring       9000      50      \n8  Jordan L. Smith (15307232)   Jordan L. Smith   8900      45      \n2  Benjamin Hebert (15307235)   Benjamin Hebert   8600      50      \n3  Lorenzo Gagli (15307236)     Lorenzo Gagli     8500      50      \n9  Wade Ormsby (15307239)       Wade Ormsby       8200      45      \n10 Johannes Veerman (15307241)  Johannes Veerman  8000      45      \n4  Chris Paisley (15307244)     Chris Paisley     7900      50      \n5  Sebastian Heisele (15307245) Sebastian Heisele 7800      50      \n6  Antoine Rozner (15307249)    Antoine Rozner    7600      50      \n11 Wil Besseling (15307250)     Wil Besseling     7600      45      \n12 Jack Senior (15307252)       Jack Senior       7500      45      ",
            "text/latex": "A data.frame: 12 x 4\n\\begin{tabular}{r|llll}\n  & name\\_id & dk\\_name & dk\\_salary & Exposure\\\\\n  & <chr> & <chr> & <int> & <dbl>\\\\\n\\hline\n\t7 & Marcus Kinhult (15307226)    & Marcus Kinhult    & 9800 & 45\\\\\n\t1 & Paul Waring (15307231)       & Paul Waring       & 9000 & 50\\\\\n\t8 & Jordan L. Smith (15307232)   & Jordan L. Smith   & 8900 & 45\\\\\n\t2 & Benjamin Hebert (15307235)   & Benjamin Hebert   & 8600 & 50\\\\\n\t3 & Lorenzo Gagli (15307236)     & Lorenzo Gagli     & 8500 & 50\\\\\n\t9 & Wade Ormsby (15307239)       & Wade Ormsby       & 8200 & 45\\\\\n\t10 & Johannes Veerman (15307241)  & Johannes Veerman  & 8000 & 45\\\\\n\t4 & Chris Paisley (15307244)     & Chris Paisley     & 7900 & 50\\\\\n\t5 & Sebastian Heisele (15307245) & Sebastian Heisele & 7800 & 50\\\\\n\t6 & Antoine Rozner (15307249)    & Antoine Rozner    & 7600 & 50\\\\\n\t11 & Wil Besseling (15307250)     & Wil Besseling     & 7600 & 45\\\\\n\t12 & Jack Senior (15307252)       & Jack Senior       & 7500 & 45\\\\\n\\end{tabular}\n",
            "text/markdown": "\nA data.frame: 12 x 4\n\n| <!--/--> | name_id &lt;chr&gt; | dk_name &lt;chr&gt; | dk_salary &lt;int&gt; | Exposure &lt;dbl&gt; |\n|---|---|---|---|---|\n| 7 | Marcus Kinhult (15307226)    | Marcus Kinhult    | 9800 | 45 |\n| 1 | Paul Waring (15307231)       | Paul Waring       | 9000 | 50 |\n| 8 | Jordan L. Smith (15307232)   | Jordan L. Smith   | 8900 | 45 |\n| 2 | Benjamin Hebert (15307235)   | Benjamin Hebert   | 8600 | 50 |\n| 3 | Lorenzo Gagli (15307236)     | Lorenzo Gagli     | 8500 | 50 |\n| 9 | Wade Ormsby (15307239)       | Wade Ormsby       | 8200 | 45 |\n| 10 | Johannes Veerman (15307241)  | Johannes Veerman  | 8000 | 45 |\n| 4 | Chris Paisley (15307244)     | Chris Paisley     | 7900 | 50 |\n| 5 | Sebastian Heisele (15307245) | Sebastian Heisele | 7800 | 50 |\n| 6 | Antoine Rozner (15307249)    | Antoine Rozner    | 7600 | 50 |\n| 11 | Wil Besseling (15307250)     | Wil Besseling     | 7600 | 45 |\n| 12 | Jack Senior (15307252)       | Jack Senior       | 7500 | 45 |\n\n",
            "text/html": "<table>\n<caption>A data.frame: 12 x 4</caption>\n<thead>\n\t<tr><th></th><th scope=col>name_id</th><th scope=col>dk_name</th><th scope=col>dk_salary</th><th scope=col>Exposure</th></tr>\n\t<tr><th></th><th scope=col>&lt;chr&gt;</th><th scope=col>&lt;chr&gt;</th><th scope=col>&lt;int&gt;</th><th scope=col>&lt;dbl&gt;</th></tr>\n</thead>\n<tbody>\n\t<tr><th scope=row>7</th><td>Marcus Kinhult (15307226)   </td><td>Marcus Kinhult   </td><td>9800</td><td>45</td></tr>\n\t<tr><th scope=row>1</th><td>Paul Waring (15307231)      </td><td>Paul Waring      </td><td>9000</td><td>50</td></tr>\n\t<tr><th scope=row>8</th><td>Jordan L. Smith (15307232)  </td><td>Jordan L. Smith  </td><td>8900</td><td>45</td></tr>\n\t<tr><th scope=row>2</th><td>Benjamin Hebert (15307235)  </td><td>Benjamin Hebert  </td><td>8600</td><td>50</td></tr>\n\t<tr><th scope=row>3</th><td>Lorenzo Gagli (15307236)    </td><td>Lorenzo Gagli    </td><td>8500</td><td>50</td></tr>\n\t<tr><th scope=row>9</th><td>Wade Ormsby (15307239)      </td><td>Wade Ormsby      </td><td>8200</td><td>45</td></tr>\n\t<tr><th scope=row>10</th><td>Johannes Veerman (15307241) </td><td>Johannes Veerman </td><td>8000</td><td>45</td></tr>\n\t<tr><th scope=row>4</th><td>Chris Paisley (15307244)    </td><td>Chris Paisley    </td><td>7900</td><td>50</td></tr>\n\t<tr><th scope=row>5</th><td>Sebastian Heisele (15307245)</td><td>Sebastian Heisele</td><td>7800</td><td>50</td></tr>\n\t<tr><th scope=row>6</th><td>Antoine Rozner (15307249)   </td><td>Antoine Rozner   </td><td>7600</td><td>50</td></tr>\n\t<tr><th scope=row>11</th><td>Wil Besseling (15307250)    </td><td>Wil Besseling    </td><td>7600</td><td>45</td></tr>\n\t<tr><th scope=row>12</th><td>Jack Senior (15307252)      </td><td>Jack Senior      </td><td>7500</td><td>45</td></tr>\n</tbody>\n</table>\n"
          },
          "metadata": {}
        }
      ]
    },
    {
      "metadata": {
        "trusted": true
      },
      "cell_type": "code",
      "source": "#Add some more names\nmore_names = c(\"Sebastian Soderberg\",\n              \"Matthew Jordan\",\n              \"Scott Vincent\",\n              \"Tommy Fleetwood\")\n#more_names <- c()\nif (length(more_names)>0) {\n    names_to_add <- setdiff(more_names,df_teams$dk_name)\n    df_more <- subset(df,dk_name %in% names_to_add)[c('name_id','dk_name','dk_salary')]\n    df_more['Exposure'] = low_exposure - 5\n    head(df_more)\n}",
      "execution_count": 14,
      "outputs": [
        {
          "output_type": "display_data",
          "data": {
            "text/plain": "   name_id                        dk_name             dk_salary Exposure\n1  Tommy Fleetwood (15307221)     Tommy Fleetwood     11400     40      \n20 Matthew Jordan (15307240)      Matthew Jordan       8100     40      \n33 Sebastian Soderberg (15307254) Sebastian Soderberg  7500     40      \n47 Scott Vincent (15307268)       Scott Vincent        7200     40      ",
            "text/latex": "A data.frame: 4 x 4\n\\begin{tabular}{r|llll}\n  & name\\_id & dk\\_name & dk\\_salary & Exposure\\\\\n  & <chr> & <chr> & <int> & <dbl>\\\\\n\\hline\n\t1 & Tommy Fleetwood (15307221)     & Tommy Fleetwood     & 11400 & 40\\\\\n\t20 & Matthew Jordan (15307240)      & Matthew Jordan      &  8100 & 40\\\\\n\t33 & Sebastian Soderberg (15307254) & Sebastian Soderberg &  7500 & 40\\\\\n\t47 & Scott Vincent (15307268)       & Scott Vincent       &  7200 & 40\\\\\n\\end{tabular}\n",
            "text/markdown": "\nA data.frame: 4 x 4\n\n| <!--/--> | name_id &lt;chr&gt; | dk_name &lt;chr&gt; | dk_salary &lt;int&gt; | Exposure &lt;dbl&gt; |\n|---|---|---|---|---|\n| 1 | Tommy Fleetwood (15307221)     | Tommy Fleetwood     | 11400 | 40 |\n| 20 | Matthew Jordan (15307240)      | Matthew Jordan      |  8100 | 40 |\n| 33 | Sebastian Soderberg (15307254) | Sebastian Soderberg |  7500 | 40 |\n| 47 | Scott Vincent (15307268)       | Scott Vincent       |  7200 | 40 |\n\n",
            "text/html": "<table>\n<caption>A data.frame: 4 x 4</caption>\n<thead>\n\t<tr><th></th><th scope=col>name_id</th><th scope=col>dk_name</th><th scope=col>dk_salary</th><th scope=col>Exposure</th></tr>\n\t<tr><th></th><th scope=col>&lt;chr&gt;</th><th scope=col>&lt;chr&gt;</th><th scope=col>&lt;int&gt;</th><th scope=col>&lt;dbl&gt;</th></tr>\n</thead>\n<tbody>\n\t<tr><th scope=row>1</th><td>Tommy Fleetwood (15307221)    </td><td>Tommy Fleetwood    </td><td>11400</td><td>40</td></tr>\n\t<tr><th scope=row>20</th><td>Matthew Jordan (15307240)     </td><td>Matthew Jordan     </td><td> 8100</td><td>40</td></tr>\n\t<tr><th scope=row>33</th><td>Sebastian Soderberg (15307254)</td><td>Sebastian Soderberg</td><td> 7500</td><td>40</td></tr>\n\t<tr><th scope=row>47</th><td>Scott Vincent (15307268)      </td><td>Scott Vincent      </td><td> 7200</td><td>40</td></tr>\n</tbody>\n</table>\n"
          },
          "metadata": {}
        }
      ]
    },
    {
      "metadata": {
        "trusted": true
      },
      "cell_type": "code",
      "source": "if (length(more_names)>0) {\n    df_teams <- rbind(df_teams,df_more)\n    df_teams <- df_teams[order(-df_teams$dk_salary),]\n}\n\n#replace exposure with probabilities\ndf_teams$Exposure <- df_teams$Exposure / sum(df_teams$Exposure)\ndf_teams",
      "execution_count": 15,
      "outputs": [
        {
          "output_type": "display_data",
          "data": {
            "text/plain": "   name_id                        dk_name             dk_salary Exposure  \n13 Tommy Fleetwood (15307221)     Tommy Fleetwood     11400     0.05479452\n7  Marcus Kinhult (15307226)      Marcus Kinhult       9800     0.06164384\n1  Paul Waring (15307231)         Paul Waring          9000     0.06849315\n8  Jordan L. Smith (15307232)     Jordan L. Smith      8900     0.06164384\n2  Benjamin Hebert (15307235)     Benjamin Hebert      8600     0.06849315\n3  Lorenzo Gagli (15307236)       Lorenzo Gagli        8500     0.06849315\n9  Wade Ormsby (15307239)         Wade Ormsby          8200     0.06164384\n20 Matthew Jordan (15307240)      Matthew Jordan       8100     0.05479452\n10 Johannes Veerman (15307241)    Johannes Veerman     8000     0.06164384\n4  Chris Paisley (15307244)       Chris Paisley        7900     0.06849315\n5  Sebastian Heisele (15307245)   Sebastian Heisele    7800     0.06849315\n6  Antoine Rozner (15307249)      Antoine Rozner       7600     0.06849315\n11 Wil Besseling (15307250)       Wil Besseling        7600     0.06164384\n12 Jack Senior (15307252)         Jack Senior          7500     0.06164384\n33 Sebastian Soderberg (15307254) Sebastian Soderberg  7500     0.05479452\n47 Scott Vincent (15307268)       Scott Vincent        7200     0.05479452",
            "text/latex": "A data.frame: 16 x 4\n\\begin{tabular}{r|llll}\n  & name\\_id & dk\\_name & dk\\_salary & Exposure\\\\\n  & <chr> & <chr> & <int> & <dbl>\\\\\n\\hline\n\t13 & Tommy Fleetwood (15307221)     & Tommy Fleetwood     & 11400 & 0.05479452\\\\\n\t7 & Marcus Kinhult (15307226)      & Marcus Kinhult      &  9800 & 0.06164384\\\\\n\t1 & Paul Waring (15307231)         & Paul Waring         &  9000 & 0.06849315\\\\\n\t8 & Jordan L. Smith (15307232)     & Jordan L. Smith     &  8900 & 0.06164384\\\\\n\t2 & Benjamin Hebert (15307235)     & Benjamin Hebert     &  8600 & 0.06849315\\\\\n\t3 & Lorenzo Gagli (15307236)       & Lorenzo Gagli       &  8500 & 0.06849315\\\\\n\t9 & Wade Ormsby (15307239)         & Wade Ormsby         &  8200 & 0.06164384\\\\\n\t20 & Matthew Jordan (15307240)      & Matthew Jordan      &  8100 & 0.05479452\\\\\n\t10 & Johannes Veerman (15307241)    & Johannes Veerman    &  8000 & 0.06164384\\\\\n\t4 & Chris Paisley (15307244)       & Chris Paisley       &  7900 & 0.06849315\\\\\n\t5 & Sebastian Heisele (15307245)   & Sebastian Heisele   &  7800 & 0.06849315\\\\\n\t6 & Antoine Rozner (15307249)      & Antoine Rozner      &  7600 & 0.06849315\\\\\n\t11 & Wil Besseling (15307250)       & Wil Besseling       &  7600 & 0.06164384\\\\\n\t12 & Jack Senior (15307252)         & Jack Senior         &  7500 & 0.06164384\\\\\n\t33 & Sebastian Soderberg (15307254) & Sebastian Soderberg &  7500 & 0.05479452\\\\\n\t47 & Scott Vincent (15307268)       & Scott Vincent       &  7200 & 0.05479452\\\\\n\\end{tabular}\n",
            "text/markdown": "\nA data.frame: 16 x 4\n\n| <!--/--> | name_id &lt;chr&gt; | dk_name &lt;chr&gt; | dk_salary &lt;int&gt; | Exposure &lt;dbl&gt; |\n|---|---|---|---|---|\n| 13 | Tommy Fleetwood (15307221)     | Tommy Fleetwood     | 11400 | 0.05479452 |\n| 7 | Marcus Kinhult (15307226)      | Marcus Kinhult      |  9800 | 0.06164384 |\n| 1 | Paul Waring (15307231)         | Paul Waring         |  9000 | 0.06849315 |\n| 8 | Jordan L. Smith (15307232)     | Jordan L. Smith     |  8900 | 0.06164384 |\n| 2 | Benjamin Hebert (15307235)     | Benjamin Hebert     |  8600 | 0.06849315 |\n| 3 | Lorenzo Gagli (15307236)       | Lorenzo Gagli       |  8500 | 0.06849315 |\n| 9 | Wade Ormsby (15307239)         | Wade Ormsby         |  8200 | 0.06164384 |\n| 20 | Matthew Jordan (15307240)      | Matthew Jordan      |  8100 | 0.05479452 |\n| 10 | Johannes Veerman (15307241)    | Johannes Veerman    |  8000 | 0.06164384 |\n| 4 | Chris Paisley (15307244)       | Chris Paisley       |  7900 | 0.06849315 |\n| 5 | Sebastian Heisele (15307245)   | Sebastian Heisele   |  7800 | 0.06849315 |\n| 6 | Antoine Rozner (15307249)      | Antoine Rozner      |  7600 | 0.06849315 |\n| 11 | Wil Besseling (15307250)       | Wil Besseling       |  7600 | 0.06164384 |\n| 12 | Jack Senior (15307252)         | Jack Senior         |  7500 | 0.06164384 |\n| 33 | Sebastian Soderberg (15307254) | Sebastian Soderberg |  7500 | 0.05479452 |\n| 47 | Scott Vincent (15307268)       | Scott Vincent       |  7200 | 0.05479452 |\n\n",
            "text/html": "<table>\n<caption>A data.frame: 16 x 4</caption>\n<thead>\n\t<tr><th></th><th scope=col>name_id</th><th scope=col>dk_name</th><th scope=col>dk_salary</th><th scope=col>Exposure</th></tr>\n\t<tr><th></th><th scope=col>&lt;chr&gt;</th><th scope=col>&lt;chr&gt;</th><th scope=col>&lt;int&gt;</th><th scope=col>&lt;dbl&gt;</th></tr>\n</thead>\n<tbody>\n\t<tr><th scope=row>13</th><td>Tommy Fleetwood (15307221)    </td><td>Tommy Fleetwood    </td><td>11400</td><td>0.05479452</td></tr>\n\t<tr><th scope=row>7</th><td>Marcus Kinhult (15307226)     </td><td>Marcus Kinhult     </td><td> 9800</td><td>0.06164384</td></tr>\n\t<tr><th scope=row>1</th><td>Paul Waring (15307231)        </td><td>Paul Waring        </td><td> 9000</td><td>0.06849315</td></tr>\n\t<tr><th scope=row>8</th><td>Jordan L. Smith (15307232)    </td><td>Jordan L. Smith    </td><td> 8900</td><td>0.06164384</td></tr>\n\t<tr><th scope=row>2</th><td>Benjamin Hebert (15307235)    </td><td>Benjamin Hebert    </td><td> 8600</td><td>0.06849315</td></tr>\n\t<tr><th scope=row>3</th><td>Lorenzo Gagli (15307236)      </td><td>Lorenzo Gagli      </td><td> 8500</td><td>0.06849315</td></tr>\n\t<tr><th scope=row>9</th><td>Wade Ormsby (15307239)        </td><td>Wade Ormsby        </td><td> 8200</td><td>0.06164384</td></tr>\n\t<tr><th scope=row>20</th><td>Matthew Jordan (15307240)     </td><td>Matthew Jordan     </td><td> 8100</td><td>0.05479452</td></tr>\n\t<tr><th scope=row>10</th><td>Johannes Veerman (15307241)   </td><td>Johannes Veerman   </td><td> 8000</td><td>0.06164384</td></tr>\n\t<tr><th scope=row>4</th><td>Chris Paisley (15307244)      </td><td>Chris Paisley      </td><td> 7900</td><td>0.06849315</td></tr>\n\t<tr><th scope=row>5</th><td>Sebastian Heisele (15307245)  </td><td>Sebastian Heisele  </td><td> 7800</td><td>0.06849315</td></tr>\n\t<tr><th scope=row>6</th><td>Antoine Rozner (15307249)     </td><td>Antoine Rozner     </td><td> 7600</td><td>0.06849315</td></tr>\n\t<tr><th scope=row>11</th><td>Wil Besseling (15307250)      </td><td>Wil Besseling      </td><td> 7600</td><td>0.06164384</td></tr>\n\t<tr><th scope=row>12</th><td>Jack Senior (15307252)        </td><td>Jack Senior        </td><td> 7500</td><td>0.06164384</td></tr>\n\t<tr><th scope=row>33</th><td>Sebastian Soderberg (15307254)</td><td>Sebastian Soderberg</td><td> 7500</td><td>0.05479452</td></tr>\n\t<tr><th scope=row>47</th><td>Scott Vincent (15307268)      </td><td>Scott Vincent      </td><td> 7200</td><td>0.05479452</td></tr>\n</tbody>\n</table>\n"
          },
          "metadata": {}
        }
      ]
    },
    {
      "metadata": {},
      "cell_type": "markdown",
      "source": "# Generate lineups"
    },
    {
      "metadata": {
        "trusted": true
      },
      "cell_type": "code",
      "source": "col_names = c('G1','G2','G3','G4','G5','G6')\ndf_lineups = data.frame('test','test','test','test','test','test',stringsAsFactors=FALSE)\nnames(df_lineups) <- col_names\ndf_lineups",
      "execution_count": 16,
      "outputs": [
        {
          "output_type": "display_data",
          "data": {
            "text/plain": "  G1   G2   G3   G4   G5   G6  \n1 test test test test test test",
            "text/latex": "A data.frame: 1 x 6\n\\begin{tabular}{r|llllll}\n G1 & G2 & G3 & G4 & G5 & G6\\\\\n <chr> & <chr> & <chr> & <chr> & <chr> & <chr>\\\\\n\\hline\n\t test & test & test & test & test & test\\\\\n\\end{tabular}\n",
            "text/markdown": "\nA data.frame: 1 x 6\n\n| G1 &lt;chr&gt; | G2 &lt;chr&gt; | G3 &lt;chr&gt; | G4 &lt;chr&gt; | G5 &lt;chr&gt; | G6 &lt;chr&gt; |\n|---|---|---|---|---|---|\n| test | test | test | test | test | test |\n\n",
            "text/html": "<table>\n<caption>A data.frame: 1 x 6</caption>\n<thead>\n\t<tr><th scope=col>G1</th><th scope=col>G2</th><th scope=col>G3</th><th scope=col>G4</th><th scope=col>G5</th><th scope=col>G6</th></tr>\n\t<tr><th scope=col>&lt;chr&gt;</th><th scope=col>&lt;chr&gt;</th><th scope=col>&lt;chr&gt;</th><th scope=col>&lt;chr&gt;</th><th scope=col>&lt;chr&gt;</th><th scope=col>&lt;chr&gt;</th></tr>\n</thead>\n<tbody>\n\t<tr><td>test</td><td>test</td><td>test</td><td>test</td><td>test</td><td>test</td></tr>\n</tbody>\n</table>\n"
          },
          "metadata": {}
        }
      ]
    },
    {
      "metadata": {
        "trusted": true
      },
      "cell_type": "code",
      "source": "sample(df_teams$name_id,size=6,replace=FALSE,prob = df_teams$Exposure)",
      "execution_count": 17,
      "outputs": [
        {
          "output_type": "display_data",
          "data": {
            "text/plain": "[1] \"Matthew Jordan (15307240)\"  \"Paul Waring (15307231)\"    \n[3] \"Antoine Rozner (15307249)\"  \"Jordan L. Smith (15307232)\"\n[5] \"Marcus Kinhult (15307226)\"  \"Chris Paisley (15307244)\"  ",
            "text/latex": "\\begin{enumerate*}\n\\item 'Matthew Jordan (15307240)'\n\\item 'Paul Waring (15307231)'\n\\item 'Antoine Rozner (15307249)'\n\\item 'Jordan L. Smith (15307232)'\n\\item 'Marcus Kinhult (15307226)'\n\\item 'Chris Paisley (15307244)'\n\\end{enumerate*}\n",
            "text/markdown": "1. 'Matthew Jordan (15307240)'\n2. 'Paul Waring (15307231)'\n3. 'Antoine Rozner (15307249)'\n4. 'Jordan L. Smith (15307232)'\n5. 'Marcus Kinhult (15307226)'\n6. 'Chris Paisley (15307244)'\n\n\n",
            "text/html": "<ol class=list-inline>\n\t<li>'Matthew Jordan (15307240)'</li>\n\t<li>'Paul Waring (15307231)'</li>\n\t<li>'Antoine Rozner (15307249)'</li>\n\t<li>'Jordan L. Smith (15307232)'</li>\n\t<li>'Marcus Kinhult (15307226)'</li>\n\t<li>'Chris Paisley (15307244)'</li>\n</ol>\n"
          },
          "metadata": {}
        }
      ]
    },
    {
      "metadata": {
        "trusted": true
      },
      "cell_type": "code",
      "source": "num_teams <- 52\nn <- 0\nmin_sal <- 49500 - sal_used\nmax_sal <- 50000 - sal_used\nmax_own <- 70\n\n#Reste df_teams\ndf_teams['Actual'] <- 0\n\n#Reset df_lineups\ncol_names = c('G1','G2','G3','G4','G5','G6')\ndf_lineups = data.frame('test','test','test','test','test','test',stringsAsFactors=FALSE)\nnames(df_lineups) <- col_names\n\nwhile(n<num_teams) {\n    #Pick random team\n    curr_team <- sample(df_teams$name_id,size=num_left,replace=FALSE,prob = df_teams$Exposure)\n    df_now <- subset(df_teams,name_id %in% curr_team)\n    #Get team in order of descending salary\n    df_now <- df_now[order(-df_now$dk_salary),]\n    curr_team <- df_now$name_id\n    curr_sal <- sum(df_now$dk_salary)\n    curr_own <- sum(df_now$projected_ownership)\n    if (curr_sal>=min_sal & curr_sal<=max_sal & curr_own<=max_own) {\n        curr_team <- c(lock_full_names,curr_team)\n        df_lineups <- rbind(df_lineups,curr_team)\n        n <- n+1\n        if (n%%10 == 0) {\n            print(n)\n        }\n        #Update df_teams\n    }\n}\nhead(df_lineups)",
      "execution_count": 20,
      "outputs": [
        {
          "output_type": "stream",
          "text": "[1] 10\n[1] 20\n[1] 30\n[1] 40\n[1] 50\n",
          "name": "stdout"
        },
        {
          "output_type": "display_data",
          "data": {
            "text/plain": "  G1                        G2                        \n1 test                      test                      \n2 Marcus Kinhult (15307226) Benjamin Hebert (15307235)\n3 Marcus Kinhult (15307226) Paul Waring (15307231)    \n4 Paul Waring (15307231)    Jordan L. Smith (15307232)\n5 Marcus Kinhult (15307226) Lorenzo Gagli (15307236)  \n6 Marcus Kinhult (15307226) Paul Waring (15307231)    \n  G3                         G4                         \n1 test                       test                       \n2 Wade Ormsby (15307239)     Johannes Veerman (15307241)\n3 Matthew Jordan (15307240)  Johannes Veerman (15307241)\n4 Benjamin Hebert (15307235) Johannes Veerman (15307241)\n5 Wade Ormsby (15307239)     Johannes Veerman (15307241)\n6 Lorenzo Gagli (15307236)   Wil Besseling (15307250)   \n  G5                           G6                            \n1 test                         test                          \n2 Wil Besseling (15307250)     Jack Senior (15307252)        \n3 Antoine Rozner (15307249)    Jack Senior (15307252)        \n4 Sebastian Heisele (15307245) Sebastian Soderberg (15307254)\n5 Antoine Rozner (15307249)    Jack Senior (15307252)        \n6 Jack Senior (15307252)       Sebastian Soderberg (15307254)",
            "text/latex": "A data.frame: 6 x 6\n\\begin{tabular}{r|llllll}\n G1 & G2 & G3 & G4 & G5 & G6\\\\\n <chr> & <chr> & <chr> & <chr> & <chr> & <chr>\\\\\n\\hline\n\t test                      & test                       & test                       & test                        & test                         & test                          \\\\\n\t Marcus Kinhult (15307226) & Benjamin Hebert (15307235) & Wade Ormsby (15307239)     & Johannes Veerman (15307241) & Wil Besseling (15307250)     & Jack Senior (15307252)        \\\\\n\t Marcus Kinhult (15307226) & Paul Waring (15307231)     & Matthew Jordan (15307240)  & Johannes Veerman (15307241) & Antoine Rozner (15307249)    & Jack Senior (15307252)        \\\\\n\t Paul Waring (15307231)    & Jordan L. Smith (15307232) & Benjamin Hebert (15307235) & Johannes Veerman (15307241) & Sebastian Heisele (15307245) & Sebastian Soderberg (15307254)\\\\\n\t Marcus Kinhult (15307226) & Lorenzo Gagli (15307236)   & Wade Ormsby (15307239)     & Johannes Veerman (15307241) & Antoine Rozner (15307249)    & Jack Senior (15307252)        \\\\\n\t Marcus Kinhult (15307226) & Paul Waring (15307231)     & Lorenzo Gagli (15307236)   & Wil Besseling (15307250)    & Jack Senior (15307252)       & Sebastian Soderberg (15307254)\\\\\n\\end{tabular}\n",
            "text/markdown": "\nA data.frame: 6 x 6\n\n| G1 &lt;chr&gt; | G2 &lt;chr&gt; | G3 &lt;chr&gt; | G4 &lt;chr&gt; | G5 &lt;chr&gt; | G6 &lt;chr&gt; |\n|---|---|---|---|---|---|\n| test                      | test                       | test                       | test                        | test                         | test                           |\n| Marcus Kinhult (15307226) | Benjamin Hebert (15307235) | Wade Ormsby (15307239)     | Johannes Veerman (15307241) | Wil Besseling (15307250)     | Jack Senior (15307252)         |\n| Marcus Kinhult (15307226) | Paul Waring (15307231)     | Matthew Jordan (15307240)  | Johannes Veerman (15307241) | Antoine Rozner (15307249)    | Jack Senior (15307252)         |\n| Paul Waring (15307231)    | Jordan L. Smith (15307232) | Benjamin Hebert (15307235) | Johannes Veerman (15307241) | Sebastian Heisele (15307245) | Sebastian Soderberg (15307254) |\n| Marcus Kinhult (15307226) | Lorenzo Gagli (15307236)   | Wade Ormsby (15307239)     | Johannes Veerman (15307241) | Antoine Rozner (15307249)    | Jack Senior (15307252)         |\n| Marcus Kinhult (15307226) | Paul Waring (15307231)     | Lorenzo Gagli (15307236)   | Wil Besseling (15307250)    | Jack Senior (15307252)       | Sebastian Soderberg (15307254) |\n\n",
            "text/html": "<table>\n<caption>A data.frame: 6 x 6</caption>\n<thead>\n\t<tr><th scope=col>G1</th><th scope=col>G2</th><th scope=col>G3</th><th scope=col>G4</th><th scope=col>G5</th><th scope=col>G6</th></tr>\n\t<tr><th scope=col>&lt;chr&gt;</th><th scope=col>&lt;chr&gt;</th><th scope=col>&lt;chr&gt;</th><th scope=col>&lt;chr&gt;</th><th scope=col>&lt;chr&gt;</th><th scope=col>&lt;chr&gt;</th></tr>\n</thead>\n<tbody>\n\t<tr><td>test                     </td><td>test                      </td><td>test                      </td><td>test                       </td><td>test                        </td><td>test                          </td></tr>\n\t<tr><td>Marcus Kinhult (15307226)</td><td>Benjamin Hebert (15307235)</td><td>Wade Ormsby (15307239)    </td><td>Johannes Veerman (15307241)</td><td>Wil Besseling (15307250)    </td><td>Jack Senior (15307252)        </td></tr>\n\t<tr><td>Marcus Kinhult (15307226)</td><td>Paul Waring (15307231)    </td><td>Matthew Jordan (15307240) </td><td>Johannes Veerman (15307241)</td><td>Antoine Rozner (15307249)   </td><td>Jack Senior (15307252)        </td></tr>\n\t<tr><td>Paul Waring (15307231)   </td><td>Jordan L. Smith (15307232)</td><td>Benjamin Hebert (15307235)</td><td>Johannes Veerman (15307241)</td><td>Sebastian Heisele (15307245)</td><td>Sebastian Soderberg (15307254)</td></tr>\n\t<tr><td>Marcus Kinhult (15307226)</td><td>Lorenzo Gagli (15307236)  </td><td>Wade Ormsby (15307239)    </td><td>Johannes Veerman (15307241)</td><td>Antoine Rozner (15307249)   </td><td>Jack Senior (15307252)        </td></tr>\n\t<tr><td>Marcus Kinhult (15307226)</td><td>Paul Waring (15307231)    </td><td>Lorenzo Gagli (15307236)  </td><td>Wil Besseling (15307250)   </td><td>Jack Senior (15307252)      </td><td>Sebastian Soderberg (15307254)</td></tr>\n</tbody>\n</table>\n"
          },
          "metadata": {}
        }
      ]
    },
    {
      "metadata": {
        "trusted": true
      },
      "cell_type": "code",
      "source": "write.csv(df_lineups,'Lineups/DKEntries_euro.csv')",
      "execution_count": 21,
      "outputs": []
    },
    {
      "metadata": {
        "trusted": true
      },
      "cell_type": "code",
      "source": "",
      "execution_count": null,
      "outputs": []
    }
  ],
  "metadata": {
    "kernelspec": {
      "name": "r",
      "display_name": "R",
      "language": "R"
    },
    "language_info": {
      "mimetype": "text/x-r-source",
      "name": "R",
      "pygments_lexer": "r",
      "version": "3.5.3",
      "file_extension": ".r",
      "codemirror_mode": "r"
    }
  },
  "nbformat": 4,
  "nbformat_minor": 1
}