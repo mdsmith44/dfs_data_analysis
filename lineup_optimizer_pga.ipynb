{
  "cells": [
    {
      "metadata": {
        "trusted": true
      },
      "cell_type": "code",
      "source": "import pandas as pd\nimport numpy as np",
      "execution_count": 1,
      "outputs": []
    },
    {
      "metadata": {
        "trusted": true
      },
      "cell_type": "code",
      "source": "!pip install cvxpy",
      "execution_count": 2,
      "outputs": [
        {
          "output_type": "stream",
          "text": "Collecting cvxpy\n\u001b[?25l  Downloading https://files.pythonhosted.org/packages/65/3e/186657ce34e74c3547151ad38050bc42885df5624c9fcbdd5aba5a00ebcf/cvxpy-1.0.28.tar.gz (947kB)\n\u001b[K     |████████████████████████████████| 952kB 3.3MB/s eta 0:00:01\n\u001b[?25h  Installing build dependencies ... \u001b[?25ldone\n\u001b[?25h  Getting requirements to build wheel ... \u001b[?25ldone\n\u001b[?25h    Preparing wheel metadata ... \u001b[?25ldone\n\u001b[?25hCollecting scs>=1.1.3\n\u001b[?25l  Downloading https://files.pythonhosted.org/packages/f2/6e/dbdd778c64c1920ae357a2013ea655d65a1f8b60f397d6e5549e4aafe8ec/scs-2.1.1-2.tar.gz (157kB)\n\u001b[K     |████████████████████████████████| 163kB 7.2MB/s eta 0:00:01\n\u001b[?25hCollecting osqp>=0.4.1\n\u001b[?25l  Downloading https://files.pythonhosted.org/packages/8c/9f/0fc0d7ca7e94829e7257c4b18ac5009253f0466232689325b9e0c766d1c9/osqp-0.6.1-cp36-cp36m-manylinux2010_x86_64.whl (210kB)\n\u001b[K     |████████████████████████████████| 215kB 15.4MB/s eta 0:00:01\n\u001b[?25hRequirement already satisfied: numpy>=1.15 in /home/nbuser/anaconda3_501/lib/python3.6/site-packages (from cvxpy) (1.16.2)\nCollecting ecos>=2\n\u001b[?25l  Downloading https://files.pythonhosted.org/packages/55/ed/d131ff51f3a8f73420eb1191345eb49f269f23cadef515172e356018cde3/ecos-2.0.7.post1-cp36-cp36m-manylinux1_x86_64.whl (147kB)\n\u001b[K     |████████████████████████████████| 153kB 11.3MB/s eta 0:00:01\n\u001b[?25hCollecting multiprocess\n\u001b[?25l  Downloading https://files.pythonhosted.org/packages/58/17/5151b6ac2ac9b6276d46c33369ff814b0901872b2a0871771252f02e9192/multiprocess-0.70.9.tar.gz (1.6MB)\n\u001b[K     |████████████████████████████████| 1.6MB 18.0MB/s eta 0:00:01\n\u001b[?25hRequirement already satisfied: scipy>=1.1.0 in /home/nbuser/anaconda3_501/lib/python3.6/site-packages (from cvxpy) (1.1.0)\nRequirement already satisfied: future in /home/nbuser/anaconda3_501/lib/python3.6/site-packages (from osqp>=0.4.1->cvxpy) (0.16.0)\nRequirement already satisfied: dill>=0.3.1 in /home/nbuser/anaconda3_501/lib/python3.6/site-packages (from multiprocess->cvxpy) (0.3.1.1)\nBuilding wheels for collected packages: cvxpy\n  Building wheel for cvxpy (PEP 517) ... \u001b[?25ldone\n\u001b[?25h  Created wheel for cvxpy: filename=cvxpy-1.0.28-cp36-cp36m-linux_x86_64.whl size=2093852 sha256=cdf86b97c4aafdcd4dafb2c8ef19effbb2ee31b110780eae7c47f229307a9e4f\n  Stored in directory: /home/nbuser/.cache/pip/wheels/c0/39/27/b05cd1ca18445ed4b54c8fe7ecae57dae188cc55b7dd2bbfbf\nSuccessfully built cvxpy\nBuilding wheels for collected packages: scs, multiprocess\n  Building wheel for scs (setup.py) ... \u001b[?25ldone\n\u001b[?25h  Created wheel for scs: filename=scs-2.1.1.post2-cp36-cp36m-linux_x86_64.whl size=371830 sha256=28bd33c392a0b99d23170e8c5b3df6cc7b8dcd1b8ba3e88de72b77ae587789a6\n  Stored in directory: /home/nbuser/.cache/pip/wheels/68/3f/24/e9c75d426f600634cdac68321184ba06fdc4ab2d189b5c4541\n  Building wheel for multiprocess (setup.py) ... \u001b[?25ldone\n\u001b[?25h  Created wheel for multiprocess: filename=multiprocess-0.70.9-cp36-none-any.whl size=101172 sha256=4a9af96c2ddc96ec0be4153a6a038f61b26bb5810d7e46c69c2ae5e8c61b9622\n  Stored in directory: /home/nbuser/.cache/pip/wheels/96/20/ac/9f1d164f7d81787cd6f4401b1d05212807d021fbbbcc301b82\nSuccessfully built scs multiprocess\nInstalling collected packages: scs, osqp, ecos, multiprocess, cvxpy\nSuccessfully installed cvxpy-1.0.28 ecos-2.0.7.post1 multiprocess-0.70.9 osqp-0.6.1 scs-2.1.1.post2\n\u001b[33mWARNING: You are using pip version 19.3.1; however, version 20.0.2 is available.\nYou should consider upgrading via the 'pip install --upgrade pip' command.\u001b[0m\n",
          "name": "stdout"
        }
      ]
    },
    {
      "metadata": {
        "trusted": true
      },
      "cell_type": "code",
      "source": "import cvxpy as cp",
      "execution_count": 3,
      "outputs": []
    },
    {
      "metadata": {
        "trusted": true
      },
      "cell_type": "markdown",
      "source": "# Read in finish probabilities"
    },
    {
      "metadata": {},
      "cell_type": "markdown",
      "source": "### Option 1: scrape from website"
    },
    {
      "metadata": {
        "trusted": true
      },
      "cell_type": "code",
      "source": "# import requests\n\n# page = requests.get('https://datagolf.ca/pga-tour-predictions')\n# page.status_code\n\n# info = str(page.content) \n# #use str(page.content), not page.text.  Otherwise ast.literal_eval doesn't work\n# #info[:100]\n\n# #Can we just find the dict we care about?\n# #data we want looks like:\n# # var probs = JSON.parse('[{....}]')\n# import re\n# d = re.findall(\"var probs = JSON\\.parse(.*?)]\",info)\n# #type(d)\n\n# import ast\n# e = ast.literal_eval(str(d[0])[5:])\n# #type(e)",
      "execution_count": 4,
      "outputs": []
    },
    {
      "metadata": {
        "trusted": true
      },
      "cell_type": "code",
      "source": "# #Now build out df\n# df2 = pd.DataFrame(e[0],index=np.arange(1))\n# df2.head()",
      "execution_count": 5,
      "outputs": []
    },
    {
      "metadata": {
        "trusted": true
      },
      "cell_type": "code",
      "source": "# for i in range(1,len(e)):\n#     p = e[i]\n#     df2 = pd.concat([df2,pd.DataFrame(e[i],index=np.arange(1))])\n# df2.head()",
      "execution_count": 6,
      "outputs": []
    },
    {
      "metadata": {
        "trusted": true
      },
      "cell_type": "code",
      "source": "# #delete columns we don't care about\n# df2.drop(['event_name','flag','sample_size'],axis=1,inplace=True)\n# df2.head(2)",
      "execution_count": 7,
      "outputs": []
    },
    {
      "metadata": {
        "trusted": true
      },
      "cell_type": "code",
      "source": "# df2.head(20)",
      "execution_count": 8,
      "outputs": []
    },
    {
      "metadata": {},
      "cell_type": "markdown",
      "source": "### Option 2: Import "
    },
    {
      "metadata": {
        "trusted": true
      },
      "cell_type": "code",
      "source": "euro = False\nalt = False #pga alternate field",
      "execution_count": 9,
      "outputs": []
    },
    {
      "metadata": {
        "trusted": true
      },
      "cell_type": "code",
      "source": "if euro:\n    df2=pd.read_csv('Data/Euro_preds.csv')\nelif alt:\n    df2= pd.read_csv('Data/puerto_rico_open_preds.csv')\nelse:\n    df2 = pd.read_csv('Data/pga_probs_20200308_Players.csv')\ndf2.head()",
      "execution_count": 10,
      "outputs": [
        {
          "output_type": "execute_result",
          "execution_count": 10,
          "data": {
            "text/html": "<div>\n<style scoped>\n    .dataframe tbody tr th:only-of-type {\n        vertical-align: middle;\n    }\n\n    .dataframe tbody tr th {\n        vertical-align: top;\n    }\n\n    .dataframe thead th {\n        text-align: right;\n    }\n</style>\n<table border=\"1\" class=\"dataframe\">\n  <thead>\n    <tr style=\"text-align: right;\">\n      <th></th>\n      <th>player_name</th>\n      <th>sample_size</th>\n      <th>win</th>\n      <th>top_5</th>\n      <th>top_10</th>\n      <th>top_20</th>\n      <th>make_cut</th>\n    </tr>\n  </thead>\n  <tbody>\n    <tr>\n      <th>0</th>\n      <td>Rory McIlroy</td>\n      <td>150</td>\n      <td>0.080675</td>\n      <td>0.252950</td>\n      <td>0.384225</td>\n      <td>0.549725</td>\n      <td>0.82690</td>\n    </tr>\n    <tr>\n      <th>1</th>\n      <td>Jon Rahm</td>\n      <td>150</td>\n      <td>0.067150</td>\n      <td>0.225900</td>\n      <td>0.352275</td>\n      <td>0.518550</td>\n      <td>0.81595</td>\n    </tr>\n    <tr>\n      <th>2</th>\n      <td>Justin Thomas</td>\n      <td>150</td>\n      <td>0.044550</td>\n      <td>0.166750</td>\n      <td>0.275450</td>\n      <td>0.433325</td>\n      <td>0.76655</td>\n    </tr>\n    <tr>\n      <th>3</th>\n      <td>Hideki Matsuyama</td>\n      <td>150</td>\n      <td>0.033400</td>\n      <td>0.132975</td>\n      <td>0.228950</td>\n      <td>0.378175</td>\n      <td>0.73925</td>\n    </tr>\n    <tr>\n      <th>4</th>\n      <td>Xander Schauffele</td>\n      <td>150</td>\n      <td>0.026125</td>\n      <td>0.111525</td>\n      <td>0.196650</td>\n      <td>0.334675</td>\n      <td>0.70960</td>\n    </tr>\n  </tbody>\n</table>\n</div>",
            "text/plain": "         player_name  sample_size       win     top_5    top_10    top_20  \\\n0       Rory McIlroy          150  0.080675  0.252950  0.384225  0.549725   \n1           Jon Rahm          150  0.067150  0.225900  0.352275  0.518550   \n2      Justin Thomas          150  0.044550  0.166750  0.275450  0.433325   \n3   Hideki Matsuyama          150  0.033400  0.132975  0.228950  0.378175   \n4  Xander Schauffele          150  0.026125  0.111525  0.196650  0.334675   \n\n   make_cut  \n0   0.82690  \n1   0.81595  \n2   0.76655  \n3   0.73925  \n4   0.70960  "
          },
          "metadata": {}
        }
      ]
    },
    {
      "metadata": {
        "trusted": true
      },
      "cell_type": "code",
      "source": "#Add field with name of First Last\nif euro or alt:\n    df2['temp_Name'] = df2.player_name\n    temp_name = df2.player_name.str.split(', ',expand=True,n=2)\n    df2['temp_Name'] = temp_name[1] + \" \" + temp_name[0]\nelse:\n    df2['temp_Name'] = df2.player_name\n#     temp_name = df2.player_name.str.split(', ',expand=True,n=2)\n#     df2['temp_Name'] = temp_name[1] + \" \" + temp_name[0]\ndf2.head()",
      "execution_count": 11,
      "outputs": [
        {
          "output_type": "execute_result",
          "execution_count": 11,
          "data": {
            "text/html": "<div>\n<style scoped>\n    .dataframe tbody tr th:only-of-type {\n        vertical-align: middle;\n    }\n\n    .dataframe tbody tr th {\n        vertical-align: top;\n    }\n\n    .dataframe thead th {\n        text-align: right;\n    }\n</style>\n<table border=\"1\" class=\"dataframe\">\n  <thead>\n    <tr style=\"text-align: right;\">\n      <th></th>\n      <th>player_name</th>\n      <th>sample_size</th>\n      <th>win</th>\n      <th>top_5</th>\n      <th>top_10</th>\n      <th>top_20</th>\n      <th>make_cut</th>\n      <th>temp_Name</th>\n    </tr>\n  </thead>\n  <tbody>\n    <tr>\n      <th>0</th>\n      <td>Rory McIlroy</td>\n      <td>150</td>\n      <td>0.080675</td>\n      <td>0.252950</td>\n      <td>0.384225</td>\n      <td>0.549725</td>\n      <td>0.82690</td>\n      <td>Rory McIlroy</td>\n    </tr>\n    <tr>\n      <th>1</th>\n      <td>Jon Rahm</td>\n      <td>150</td>\n      <td>0.067150</td>\n      <td>0.225900</td>\n      <td>0.352275</td>\n      <td>0.518550</td>\n      <td>0.81595</td>\n      <td>Jon Rahm</td>\n    </tr>\n    <tr>\n      <th>2</th>\n      <td>Justin Thomas</td>\n      <td>150</td>\n      <td>0.044550</td>\n      <td>0.166750</td>\n      <td>0.275450</td>\n      <td>0.433325</td>\n      <td>0.76655</td>\n      <td>Justin Thomas</td>\n    </tr>\n    <tr>\n      <th>3</th>\n      <td>Hideki Matsuyama</td>\n      <td>150</td>\n      <td>0.033400</td>\n      <td>0.132975</td>\n      <td>0.228950</td>\n      <td>0.378175</td>\n      <td>0.73925</td>\n      <td>Hideki Matsuyama</td>\n    </tr>\n    <tr>\n      <th>4</th>\n      <td>Xander Schauffele</td>\n      <td>150</td>\n      <td>0.026125</td>\n      <td>0.111525</td>\n      <td>0.196650</td>\n      <td>0.334675</td>\n      <td>0.70960</td>\n      <td>Xander Schauffele</td>\n    </tr>\n  </tbody>\n</table>\n</div>",
            "text/plain": "         player_name  sample_size       win     top_5    top_10    top_20  \\\n0       Rory McIlroy          150  0.080675  0.252950  0.384225  0.549725   \n1           Jon Rahm          150  0.067150  0.225900  0.352275  0.518550   \n2      Justin Thomas          150  0.044550  0.166750  0.275450  0.433325   \n3   Hideki Matsuyama          150  0.033400  0.132975  0.228950  0.378175   \n4  Xander Schauffele          150  0.026125  0.111525  0.196650  0.334675   \n\n   make_cut          temp_Name  \n0   0.82690       Rory McIlroy  \n1   0.81595           Jon Rahm  \n2   0.76655      Justin Thomas  \n3   0.73925   Hideki Matsuyama  \n4   0.70960  Xander Schauffele  "
          },
          "metadata": {}
        }
      ]
    },
    {
      "metadata": {
        "trusted": true
      },
      "cell_type": "code",
      "source": "#Add sal\n#df2_sal = pd.read_csv('Data/DKSalaries Memorial 2019.csv')\nif euro:\n    url = 'https://www.draftkings.com/lineup/getavailableplayerscsv?contestTypeId=29&draftGroupId=34298'\nelif alt:\n    url = 'https://www.draftkings.com/lineup/getavailableplayerscsv?contestTypeId=29&draftGroupId=33859'\nelse: \n    url = 'https://www.draftkings.com/lineup/getavailableplayerscsv?contestTypeId=29&draftGroupId=33970'\ndf2_sal = pd.read_csv(url)\ndf2_sal.head(2)",
      "execution_count": 12,
      "outputs": [
        {
          "output_type": "execute_result",
          "execution_count": 12,
          "data": {
            "text/html": "<div>\n<style scoped>\n    .dataframe tbody tr th:only-of-type {\n        vertical-align: middle;\n    }\n\n    .dataframe tbody tr th {\n        vertical-align: top;\n    }\n\n    .dataframe thead th {\n        text-align: right;\n    }\n</style>\n<table border=\"1\" class=\"dataframe\">\n  <thead>\n    <tr style=\"text-align: right;\">\n      <th></th>\n      <th>Position</th>\n      <th>Name + ID</th>\n      <th>Name</th>\n      <th>ID</th>\n      <th>Roster Position</th>\n      <th>Salary</th>\n      <th>Game Info</th>\n      <th>TeamAbbrev</th>\n      <th>AvgPointsPerGame</th>\n    </tr>\n  </thead>\n  <tbody>\n    <tr>\n      <th>0</th>\n      <td>G</td>\n      <td>Rory McIlroy (14421198) (LOCKED)</td>\n      <td>Rory McIlroy</td>\n      <td>14421198</td>\n      <td>G</td>\n      <td>11700</td>\n      <td>THE PLAYERS Championship</td>\n      <td>Golf</td>\n      <td>103.08</td>\n    </tr>\n    <tr>\n      <th>1</th>\n      <td>G</td>\n      <td>Jon Rahm (14421199) (LOCKED)</td>\n      <td>Jon Rahm</td>\n      <td>14421199</td>\n      <td>G</td>\n      <td>11000</td>\n      <td>THE PLAYERS Championship</td>\n      <td>Golf</td>\n      <td>99.42</td>\n    </tr>\n  </tbody>\n</table>\n</div>",
            "text/plain": "  Position                         Name + ID          Name        ID  \\\n0        G  Rory McIlroy (14421198) (LOCKED)  Rory McIlroy  14421198   \n1        G      Jon Rahm (14421199) (LOCKED)      Jon Rahm  14421199   \n\n  Roster Position  Salary                 Game Info TeamAbbrev  \\\n0               G   11700  THE PLAYERS Championship       Golf   \n1               G   11000  THE PLAYERS Championship       Golf   \n\n   AvgPointsPerGame  \n0            103.08  \n1             99.42  "
          },
          "metadata": {}
        }
      ]
    },
    {
      "metadata": {
        "trusted": true
      },
      "cell_type": "code",
      "source": "#To make sure names match, replace all names in df2 with actual DK names in df2_sal\nfrom difflib import get_close_matches\ndf2['Name'] = \"\"\nfor i in np.arange(len(df2)):\n    curr_name = df2['temp_Name'].iloc[i]\n    try:\n        new_name = get_close_matches(curr_name,df2_sal['Name'],cutoff=.8)[0]\n        if new_name != curr_name:\n            print(\"{} replaced with {}\".format(curr_name,new_name))\n    except:\n        new_name = 'No Name'\n        print('NO MATCH: curr_name = {}, new_name = {}'.format(curr_name,new_name))\n    df2['Name'].iloc[i] = new_name\n#df2['Name'] = df2['Name'].apply(lambda x: get_close_matches(x,df2_sal['Name']))\ndf2.head(5)",
      "execution_count": 13,
      "outputs": [
        {
          "output_type": "stream",
          "text": "/home/nbuser/anaconda3_501/lib/python3.6/site-packages/pandas/core/indexing.py:189: SettingWithCopyWarning: \nA value is trying to be set on a copy of a slice from a DataFrame\n\nSee the caveats in the documentation: http://pandas.pydata.org/pandas-docs/stable/indexing.html#indexing-view-versus-copy\n  self._setitem_with_indexer(indexer, value)\n",
          "name": "stderr"
        },
        {
          "output_type": "execute_result",
          "execution_count": 13,
          "data": {
            "text/html": "<div>\n<style scoped>\n    .dataframe tbody tr th:only-of-type {\n        vertical-align: middle;\n    }\n\n    .dataframe tbody tr th {\n        vertical-align: top;\n    }\n\n    .dataframe thead th {\n        text-align: right;\n    }\n</style>\n<table border=\"1\" class=\"dataframe\">\n  <thead>\n    <tr style=\"text-align: right;\">\n      <th></th>\n      <th>player_name</th>\n      <th>sample_size</th>\n      <th>win</th>\n      <th>top_5</th>\n      <th>top_10</th>\n      <th>top_20</th>\n      <th>make_cut</th>\n      <th>temp_Name</th>\n      <th>Name</th>\n    </tr>\n  </thead>\n  <tbody>\n    <tr>\n      <th>0</th>\n      <td>Rory McIlroy</td>\n      <td>150</td>\n      <td>0.080675</td>\n      <td>0.252950</td>\n      <td>0.384225</td>\n      <td>0.549725</td>\n      <td>0.82690</td>\n      <td>Rory McIlroy</td>\n      <td>Rory McIlroy</td>\n    </tr>\n    <tr>\n      <th>1</th>\n      <td>Jon Rahm</td>\n      <td>150</td>\n      <td>0.067150</td>\n      <td>0.225900</td>\n      <td>0.352275</td>\n      <td>0.518550</td>\n      <td>0.81595</td>\n      <td>Jon Rahm</td>\n      <td>Jon Rahm</td>\n    </tr>\n    <tr>\n      <th>2</th>\n      <td>Justin Thomas</td>\n      <td>150</td>\n      <td>0.044550</td>\n      <td>0.166750</td>\n      <td>0.275450</td>\n      <td>0.433325</td>\n      <td>0.76655</td>\n      <td>Justin Thomas</td>\n      <td>Justin Thomas</td>\n    </tr>\n    <tr>\n      <th>3</th>\n      <td>Hideki Matsuyama</td>\n      <td>150</td>\n      <td>0.033400</td>\n      <td>0.132975</td>\n      <td>0.228950</td>\n      <td>0.378175</td>\n      <td>0.73925</td>\n      <td>Hideki Matsuyama</td>\n      <td>Hideki Matsuyama</td>\n    </tr>\n    <tr>\n      <th>4</th>\n      <td>Xander Schauffele</td>\n      <td>150</td>\n      <td>0.026125</td>\n      <td>0.111525</td>\n      <td>0.196650</td>\n      <td>0.334675</td>\n      <td>0.70960</td>\n      <td>Xander Schauffele</td>\n      <td>Xander Schauffele</td>\n    </tr>\n  </tbody>\n</table>\n</div>",
            "text/plain": "         player_name  sample_size       win     top_5    top_10    top_20  \\\n0       Rory McIlroy          150  0.080675  0.252950  0.384225  0.549725   \n1           Jon Rahm          150  0.067150  0.225900  0.352275  0.518550   \n2      Justin Thomas          150  0.044550  0.166750  0.275450  0.433325   \n3   Hideki Matsuyama          150  0.033400  0.132975  0.228950  0.378175   \n4  Xander Schauffele          150  0.026125  0.111525  0.196650  0.334675   \n\n   make_cut          temp_Name               Name  \n0   0.82690       Rory McIlroy       Rory McIlroy  \n1   0.81595           Jon Rahm           Jon Rahm  \n2   0.76655      Justin Thomas      Justin Thomas  \n3   0.73925   Hideki Matsuyama   Hideki Matsuyama  \n4   0.70960  Xander Schauffele  Xander Schauffele  "
          },
          "metadata": {}
        }
      ]
    },
    {
      "metadata": {
        "trusted": true
      },
      "cell_type": "code",
      "source": "#Find where DK Name ('Name') doesn't match the name from datagolf ('temp_Name')\n#df2[df2.Name != df2.temp_Name]",
      "execution_count": 14,
      "outputs": []
    },
    {
      "metadata": {
        "trusted": true
      },
      "cell_type": "code",
      "source": "#Add salary and  to df2\ndf2 = pd.merge(df2,df2_sal[['Name','Name + ID','Salary']],how='left',on='Name')\ndf2.dropna(inplace=True)\ndf2.head()",
      "execution_count": 15,
      "outputs": [
        {
          "output_type": "execute_result",
          "execution_count": 15,
          "data": {
            "text/html": "<div>\n<style scoped>\n    .dataframe tbody tr th:only-of-type {\n        vertical-align: middle;\n    }\n\n    .dataframe tbody tr th {\n        vertical-align: top;\n    }\n\n    .dataframe thead th {\n        text-align: right;\n    }\n</style>\n<table border=\"1\" class=\"dataframe\">\n  <thead>\n    <tr style=\"text-align: right;\">\n      <th></th>\n      <th>player_name</th>\n      <th>sample_size</th>\n      <th>win</th>\n      <th>top_5</th>\n      <th>top_10</th>\n      <th>top_20</th>\n      <th>make_cut</th>\n      <th>temp_Name</th>\n      <th>Name</th>\n      <th>Name + ID</th>\n      <th>Salary</th>\n    </tr>\n  </thead>\n  <tbody>\n    <tr>\n      <th>0</th>\n      <td>Rory McIlroy</td>\n      <td>150</td>\n      <td>0.080675</td>\n      <td>0.252950</td>\n      <td>0.384225</td>\n      <td>0.549725</td>\n      <td>0.82690</td>\n      <td>Rory McIlroy</td>\n      <td>Rory McIlroy</td>\n      <td>Rory McIlroy (14421198) (LOCKED)</td>\n      <td>11700</td>\n    </tr>\n    <tr>\n      <th>1</th>\n      <td>Jon Rahm</td>\n      <td>150</td>\n      <td>0.067150</td>\n      <td>0.225900</td>\n      <td>0.352275</td>\n      <td>0.518550</td>\n      <td>0.81595</td>\n      <td>Jon Rahm</td>\n      <td>Jon Rahm</td>\n      <td>Jon Rahm (14421199) (LOCKED)</td>\n      <td>11000</td>\n    </tr>\n    <tr>\n      <th>2</th>\n      <td>Justin Thomas</td>\n      <td>150</td>\n      <td>0.044550</td>\n      <td>0.166750</td>\n      <td>0.275450</td>\n      <td>0.433325</td>\n      <td>0.76655</td>\n      <td>Justin Thomas</td>\n      <td>Justin Thomas</td>\n      <td>Justin Thomas (14421200) (LOCKED)</td>\n      <td>10800</td>\n    </tr>\n    <tr>\n      <th>3</th>\n      <td>Hideki Matsuyama</td>\n      <td>150</td>\n      <td>0.033400</td>\n      <td>0.132975</td>\n      <td>0.228950</td>\n      <td>0.378175</td>\n      <td>0.73925</td>\n      <td>Hideki Matsuyama</td>\n      <td>Hideki Matsuyama</td>\n      <td>Hideki Matsuyama (14421211) (LOCKED)</td>\n      <td>8800</td>\n    </tr>\n    <tr>\n      <th>4</th>\n      <td>Xander Schauffele</td>\n      <td>150</td>\n      <td>0.026125</td>\n      <td>0.111525</td>\n      <td>0.196650</td>\n      <td>0.334675</td>\n      <td>0.70960</td>\n      <td>Xander Schauffele</td>\n      <td>Xander Schauffele</td>\n      <td>Xander Schauffele (14421206) (LOCKED)</td>\n      <td>9400</td>\n    </tr>\n  </tbody>\n</table>\n</div>",
            "text/plain": "         player_name  sample_size       win     top_5    top_10    top_20  \\\n0       Rory McIlroy          150  0.080675  0.252950  0.384225  0.549725   \n1           Jon Rahm          150  0.067150  0.225900  0.352275  0.518550   \n2      Justin Thomas          150  0.044550  0.166750  0.275450  0.433325   \n3   Hideki Matsuyama          150  0.033400  0.132975  0.228950  0.378175   \n4  Xander Schauffele          150  0.026125  0.111525  0.196650  0.334675   \n\n   make_cut          temp_Name               Name  \\\n0   0.82690       Rory McIlroy       Rory McIlroy   \n1   0.81595           Jon Rahm           Jon Rahm   \n2   0.76655      Justin Thomas      Justin Thomas   \n3   0.73925   Hideki Matsuyama   Hideki Matsuyama   \n4   0.70960  Xander Schauffele  Xander Schauffele   \n\n                               Name + ID  Salary  \n0       Rory McIlroy (14421198) (LOCKED)   11700  \n1           Jon Rahm (14421199) (LOCKED)   11000  \n2      Justin Thomas (14421200) (LOCKED)   10800  \n3   Hideki Matsuyama (14421211) (LOCKED)    8800  \n4  Xander Schauffele (14421206) (LOCKED)    9400  "
          },
          "metadata": {}
        }
      ]
    },
    {
      "metadata": {
        "trusted": true
      },
      "cell_type": "code",
      "source": "#Copy\ndf_all = df2.copy()\ndf_all.sort_values(by='Salary',ascending=False).head(10)",
      "execution_count": 16,
      "outputs": [
        {
          "output_type": "execute_result",
          "execution_count": 16,
          "data": {
            "text/html": "<div>\n<style scoped>\n    .dataframe tbody tr th:only-of-type {\n        vertical-align: middle;\n    }\n\n    .dataframe tbody tr th {\n        vertical-align: top;\n    }\n\n    .dataframe thead th {\n        text-align: right;\n    }\n</style>\n<table border=\"1\" class=\"dataframe\">\n  <thead>\n    <tr style=\"text-align: right;\">\n      <th></th>\n      <th>player_name</th>\n      <th>sample_size</th>\n      <th>win</th>\n      <th>top_5</th>\n      <th>top_10</th>\n      <th>top_20</th>\n      <th>make_cut</th>\n      <th>temp_Name</th>\n      <th>Name</th>\n      <th>Name + ID</th>\n      <th>Salary</th>\n    </tr>\n  </thead>\n  <tbody>\n    <tr>\n      <th>0</th>\n      <td>Rory McIlroy</td>\n      <td>150</td>\n      <td>0.080675</td>\n      <td>0.252950</td>\n      <td>0.384225</td>\n      <td>0.549725</td>\n      <td>0.826900</td>\n      <td>Rory McIlroy</td>\n      <td>Rory McIlroy</td>\n      <td>Rory McIlroy (14421198) (LOCKED)</td>\n      <td>11700</td>\n    </tr>\n    <tr>\n      <th>1</th>\n      <td>Jon Rahm</td>\n      <td>150</td>\n      <td>0.067150</td>\n      <td>0.225900</td>\n      <td>0.352275</td>\n      <td>0.518550</td>\n      <td>0.815950</td>\n      <td>Jon Rahm</td>\n      <td>Jon Rahm</td>\n      <td>Jon Rahm (14421199) (LOCKED)</td>\n      <td>11000</td>\n    </tr>\n    <tr>\n      <th>2</th>\n      <td>Justin Thomas</td>\n      <td>150</td>\n      <td>0.044550</td>\n      <td>0.166750</td>\n      <td>0.275450</td>\n      <td>0.433325</td>\n      <td>0.766550</td>\n      <td>Justin Thomas</td>\n      <td>Justin Thomas</td>\n      <td>Justin Thomas (14421200) (LOCKED)</td>\n      <td>10800</td>\n    </tr>\n    <tr>\n      <th>18</th>\n      <td>Brooks Koepka</td>\n      <td>150</td>\n      <td>0.008500</td>\n      <td>0.049100</td>\n      <td>0.100400</td>\n      <td>0.197650</td>\n      <td>0.594400</td>\n      <td>Brooks Koepka</td>\n      <td>Brooks Koepka</td>\n      <td>Brooks Koepka (14421202) (LOCKED)</td>\n      <td>10200</td>\n    </tr>\n    <tr>\n      <th>12</th>\n      <td>Dustin Johnson</td>\n      <td>150</td>\n      <td>0.013200</td>\n      <td>0.066150</td>\n      <td>0.127400</td>\n      <td>0.240175</td>\n      <td>0.630375</td>\n      <td>Dustin Johnson</td>\n      <td>Dustin Johnson</td>\n      <td>Dustin Johnson (14421203) (LOCKED)</td>\n      <td>10000</td>\n    </tr>\n    <tr>\n      <th>6</th>\n      <td>Patrick Cantlay</td>\n      <td>150</td>\n      <td>0.021175</td>\n      <td>0.099625</td>\n      <td>0.179775</td>\n      <td>0.314475</td>\n      <td>0.695475</td>\n      <td>Patrick Cantlay</td>\n      <td>Patrick Cantlay</td>\n      <td>Patrick Cantlay (14421204) (LOCKED)</td>\n      <td>9800</td>\n    </tr>\n    <tr>\n      <th>9</th>\n      <td>Adam Scott</td>\n      <td>150</td>\n      <td>0.022825</td>\n      <td>0.100025</td>\n      <td>0.182750</td>\n      <td>0.315650</td>\n      <td>0.691300</td>\n      <td>Adam Scott</td>\n      <td>Adam Scott</td>\n      <td>Adam Scott (14421205) (LOCKED)</td>\n      <td>9600</td>\n    </tr>\n    <tr>\n      <th>4</th>\n      <td>Xander Schauffele</td>\n      <td>150</td>\n      <td>0.026125</td>\n      <td>0.111525</td>\n      <td>0.196650</td>\n      <td>0.334675</td>\n      <td>0.709600</td>\n      <td>Xander Schauffele</td>\n      <td>Xander Schauffele</td>\n      <td>Xander Schauffele (14421206) (LOCKED)</td>\n      <td>9400</td>\n    </tr>\n    <tr>\n      <th>8</th>\n      <td>Webb Simpson</td>\n      <td>150</td>\n      <td>0.027425</td>\n      <td>0.115400</td>\n      <td>0.205800</td>\n      <td>0.350125</td>\n      <td>0.718400</td>\n      <td>Webb Simpson</td>\n      <td>Webb Simpson</td>\n      <td>Webb Simpson (14421207) (LOCKED)</td>\n      <td>9200</td>\n    </tr>\n    <tr>\n      <th>5</th>\n      <td>Bryson DeChambeau</td>\n      <td>150</td>\n      <td>0.025050</td>\n      <td>0.106175</td>\n      <td>0.189675</td>\n      <td>0.325600</td>\n      <td>0.698500</td>\n      <td>Bryson DeChambeau</td>\n      <td>Bryson DeChambeau</td>\n      <td>Bryson DeChambeau (14421208) (LOCKED)</td>\n      <td>9100</td>\n    </tr>\n  </tbody>\n</table>\n</div>",
            "text/plain": "          player_name  sample_size       win     top_5    top_10    top_20  \\\n0        Rory McIlroy          150  0.080675  0.252950  0.384225  0.549725   \n1            Jon Rahm          150  0.067150  0.225900  0.352275  0.518550   \n2       Justin Thomas          150  0.044550  0.166750  0.275450  0.433325   \n18      Brooks Koepka          150  0.008500  0.049100  0.100400  0.197650   \n12     Dustin Johnson          150  0.013200  0.066150  0.127400  0.240175   \n6     Patrick Cantlay          150  0.021175  0.099625  0.179775  0.314475   \n9          Adam Scott          150  0.022825  0.100025  0.182750  0.315650   \n4   Xander Schauffele          150  0.026125  0.111525  0.196650  0.334675   \n8        Webb Simpson          150  0.027425  0.115400  0.205800  0.350125   \n5   Bryson DeChambeau          150  0.025050  0.106175  0.189675  0.325600   \n\n    make_cut          temp_Name               Name  \\\n0   0.826900       Rory McIlroy       Rory McIlroy   \n1   0.815950           Jon Rahm           Jon Rahm   \n2   0.766550      Justin Thomas      Justin Thomas   \n18  0.594400      Brooks Koepka      Brooks Koepka   \n12  0.630375     Dustin Johnson     Dustin Johnson   \n6   0.695475    Patrick Cantlay    Patrick Cantlay   \n9   0.691300         Adam Scott         Adam Scott   \n4   0.709600  Xander Schauffele  Xander Schauffele   \n8   0.718400       Webb Simpson       Webb Simpson   \n5   0.698500  Bryson DeChambeau  Bryson DeChambeau   \n\n                                Name + ID  Salary  \n0        Rory McIlroy (14421198) (LOCKED)   11700  \n1            Jon Rahm (14421199) (LOCKED)   11000  \n2       Justin Thomas (14421200) (LOCKED)   10800  \n18      Brooks Koepka (14421202) (LOCKED)   10200  \n12     Dustin Johnson (14421203) (LOCKED)   10000  \n6     Patrick Cantlay (14421204) (LOCKED)    9800  \n9          Adam Scott (14421205) (LOCKED)    9600  \n4   Xander Schauffele (14421206) (LOCKED)    9400  \n8        Webb Simpson (14421207) (LOCKED)    9200  \n5   Bryson DeChambeau (14421208) (LOCKED)    9100  "
          },
          "metadata": {}
        }
      ]
    },
    {
      "metadata": {},
      "cell_type": "markdown",
      "source": "# Optimize"
    },
    {
      "metadata": {
        "trusted": true
      },
      "cell_type": "code",
      "source": "#Set team parameters\nlock = ['Patrick Cantlay']\n#lock = ['Matt Wallace']\n#lock = ['Rory Sabbatini','Danny Willett']\nlock = ['Jon Rahm','Justin Thomas']\nlock = []\nlock_full_names = []\nfor i, p in enumerate(lock):\n    lock_full_names.append(df_all[df_all.Name==p]['Name + ID'].iloc[0])\nsal_used = df_all[df_all.Name.isin(lock)].Salary.sum()\nsal_cap = 50000\nsal_left = sal_cap-sal_used\nplayers_left = 6-len(lock)\n\n\nto_remove = ['Julian Suri','Adrian Otaegui','Matt Kuchar','Fabrizio Zanotti','Jordan L. Smith',\n            'Richard Sterne','Tapio Pulkkanen','Matt Jones']\nto_remove = ['Martin Kaymer','Shane Lowry','Francesco Molinari','Justin Harding','Alex Noren',\n            'Tom Lewis','C.T. Pan','Lee Westwood','Edoardo Molinari','Hao-Tong Li']\nto_remove = ['Ian Poulter', 'Jordan L. Smith','Richard Sterne','David Lipsky']\nto_remove = ['Tyrrell Hatton','Paul Casey', 'Sergio Garcia', 'Shane Lowry']\nto_remove = ['Abraham Ancer','Billy Horschel','Jim Furyk','Matt Kuchar',\n            'Jason Day', 'Louis Oosthuizen', 'Sergio Garcia','Justin Rose',\n             'Henrik Stenson','Rickie Fowler', 'Paul Casey']\n#to_remove = []\n\nmin_sal = 6000\nmax_sal = 10000\n",
      "execution_count": 17,
      "outputs": []
    },
    {
      "metadata": {
        "trusted": true,
        "scrolled": false
      },
      "cell_type": "code",
      "source": "#Opt by made cut (or T10 if no cut)\nopt_teams = []\ndf_now = df_all.copy()\n\n\n#Filter down remaining players by sal\ndf_now = df_now[(df_now.Salary>=min_sal) &\n               (df_now.Salary<=max_sal)]\ndf_now = df_now[~df_now.Name.isin(lock)]\n\ndf_now = df_now[~ df_now.Name.isin(to_remove)]\n\nnum_teams = 10\nfor j in np.arange(num_teams):\n    s = df_now.Salary.values\n    c = df_now.make_cut*100\n    T20 = df_now['top_20']*100\n    T5 = df_now['top_5']*100\n    T10 = df_now['top_10']\n    w = df_now['win']*100\n    n = len(df_now)\n    #print(n,len(c),len(s))\n    x = cp.Variable(n,boolean=True)\n    cap = sal_cap\n    constraints = [cp.sum(x) == players_left,\n                 x*s <= sal_left]\n\n    # Form objective.\n    obj = cp.Maximize(x*c)\n    #obj2 = cp.Maximize(x*T20)\n    #obj3 = cp.Maximize(x*c)\n\n    # Form and solve problem.\n    #T10\n    prob = cp.Problem(obj, constraints)\n    prob.solve()  # Returns the optimal value.\n    opt_team = df_now['Name'][x.value>.5].tolist()\n    opt_teams.append(opt_team)\n    #print('Team {}:'.format(j+1),opt_team)\n    print('Team {} (obj = {:.1f}):'.format(j+1,prob.value),opt_team)\n\n    \n    #delet opt team\n    #print(len(df_now))\n    df_now = df_now[~df_now['Name'].isin(opt_team)]\n    #print(len(df_now))",
      "execution_count": 18,
      "outputs": [
        {
          "output_type": "stream",
          "text": "Team 1 (obj = 415.1): ['Hideki Matsuyama', 'Tommy Fleetwood', 'Webb Simpson', 'Collin Morikawa', 'Tyrrell Hatton', 'Matthew Fitzpatrick']\nTeam 2 (obj = 399.9): ['Xander Schauffele', 'Bryson DeChambeau', 'Sungjae Im', 'Patrick Reed', 'Scottie Scheffler', 'Joel Dahmen']\nTeam 3 (obj = 382.0): ['Patrick Cantlay', 'Adam Scott', 'Gary Woodland', 'Byeong Hun An', 'Daniel Berger', 'Ryan Moore']\nTeam 4 (obj = 353.8): ['Dustin Johnson', 'Tony Finau', 'Marc Leishman', 'Shane Lowry', 'Brandt Snedeker', 'Viktor Hovland']\nTeam 5 (obj = 333.1): ['Harris English', 'Nick Taylor', 'Corey Conners', 'Adam Hadwin', 'Vaughn Taylor', 'Chez Reavie']\nTeam 6 (obj = 326.5): ['Ian Poulter', 'Rory Sabbatini', 'Brian Harman', 'Kevin Kisner', 'Kevin Na', 'Brendon Todd']\nTeam 7 (obj = 314.8): ['Ryan Palmer', 'Harold Varner III', 'Christiaan Bezuidenhout', 'Bud Cauley', 'J.T. Poston', 'Tom Hoge']\nTeam 8 (obj = 308.3): ['Jason Kokrak', 'Max Homa', 'Erik Van Rooyen', 'Joaquin Niemann', 'Sebastian Munoz', 'Russell Knox']\nTeam 9 (obj = 301.7): ['Carlos Ortiz', 'Jhonattan Vegas', 'Keegan Bradley', 'Rafa Cabrera Bello', 'Kevin Streelman', 'Adam Long']\nTeam 10 (obj = 294.2): ['Bubba Watson', 'Lanto Griffin', 'Scott Piercy', 'Danny Lee', 'Bernd Wiesberger', 'Brice Garnett']\n",
          "name": "stdout"
        }
      ]
    },
    {
      "metadata": {
        "trusted": true
      },
      "cell_type": "code",
      "source": "#Opt by top 20\nopt_teams_T20 = []\ndf_now = df_all.copy()\n\n#Filter down remaining players by sal\ndf_now = df_now[(df_now.Salary>=min_sal) &\n               (df_now.Salary<=max_sal)]\ndf_now = df_now[~df_now.Name.isin(lock)]\n\ndf_now = df_now[~ df_now.Name.isin(to_remove)]\n\n#num_teams = 5\nfor j in np.arange(num_teams):\n    s = df_now.Salary.values\n    c = df_now.make_cut*100\n    T20 = df_now['top_20']*100\n    T10 = df_now['top_10']*100\n    w = df_now['win']*100\n    n = len(df_now)\n    #print(n,len(c),len(s))\n    x = cp.Variable(n,boolean=True)\n    cap = 50000\n    constraints = [cp.sum(x) == players_left,\n                 x*s <= sal_left]\n\n    # Form objective.\n    obj = cp.Maximize(x*T20)\n    #obj2 = cp.Maximize(x*T20)\n    #obj3 = cp.Maximize(x*c)\n\n    prob = cp.Problem(obj, constraints)\n    prob.solve()  # Returns the optimal value.\n    opt_team = df_now['Name'][x.value>.5].tolist()\n    opt_teams_T20.append(opt_team)\n    print('Team {} (obj = {:.1f}):'.format(j+1,prob.value),opt_team)\n    \n    #delet opt team\n    #print(len(df_now))\n    df_now = df_now[~df_now['Name'].isin(opt_team)]\n    #print(len(df_now))",
      "execution_count": 19,
      "outputs": [
        {
          "output_type": "stream",
          "text": "Team 1 (obj = 188.2): ['Hideki Matsuyama', 'Tommy Fleetwood', 'Webb Simpson', 'Collin Morikawa', 'Tyrrell Hatton', 'Matthew Fitzpatrick']\nTeam 2 (obj = 170.1): ['Xander Schauffele', 'Bryson DeChambeau', 'Sungjae Im', 'Patrick Reed', 'Scottie Scheffler', 'Joel Dahmen']\nTeam 3 (obj = 148.3): ['Patrick Cantlay', 'Adam Scott', 'Gary Woodland', 'Byeong Hun An', 'Daniel Berger', 'Ryan Moore']\nTeam 4 (obj = 116.2): ['Dustin Johnson', 'Tony Finau', 'Marc Leishman', 'Shane Lowry', 'Brandt Snedeker', 'Viktor Hovland']\nTeam 5 (obj = 96.1): ['Harris English', 'Nick Taylor', 'Adam Hadwin', 'Ian Poulter', 'Vaughn Taylor', 'Chez Reavie']\nTeam 6 (obj = 91.5): ['Corey Conners', 'Rory Sabbatini', 'Brian Harman', 'Kevin Kisner', 'Kevin Na', 'Brendon Todd']\nTeam 7 (obj = 82.4): ['Jason Kokrak', 'Ryan Palmer', 'Christiaan Bezuidenhout', 'Bud Cauley', 'J.T. Poston', 'Tom Hoge']\nTeam 8 (obj = 77.1): ['Max Homa', 'Erik Van Rooyen', 'Harold Varner III', 'Carlos Ortiz', 'Sebastian Munoz', 'Russell Knox']\nTeam 9 (obj = 71.9): ['Jhonattan Vegas', 'Joaquin Niemann', 'Keegan Bradley', 'Rafa Cabrera Bello', 'Kevin Streelman', 'Adam Long']\nTeam 10 (obj = 67.1): ['Bubba Watson', 'Lanto Griffin', 'Scott Piercy', 'Talor Gooch', 'Bernd Wiesberger', 'Brice Garnett']\n",
          "name": "stdout"
        }
      ]
    },
    {
      "metadata": {
        "trusted": true
      },
      "cell_type": "code",
      "source": "for n in np.arange(1,num_teams+1):\n    print('In top {} teams:'.format(n))\n    cut_not_t20 = set(np.hstack(opt_teams[:n])) - set(np.hstack(opt_teams_T20[:n]))\n    t20_not_cut = set(np.hstack(opt_teams_T20[:n])) - set(np.hstack(opt_teams[:n]))\n    print('\\tIn made-cut, not Top 20:',cut_not_t20)\n    print('\\tIn Top 20, not made-cut:',t20_not_cut)",
      "execution_count": 20,
      "outputs": [
        {
          "output_type": "stream",
          "text": "In top 1 teams:\n\tIn made-cut, not Top 20: set()\n\tIn Top 20, not made-cut: set()\nIn top 2 teams:\n\tIn made-cut, not Top 20: set()\n\tIn Top 20, not made-cut: set()\nIn top 3 teams:\n\tIn made-cut, not Top 20: set()\n\tIn Top 20, not made-cut: set()\nIn top 4 teams:\n\tIn made-cut, not Top 20: set()\n\tIn Top 20, not made-cut: set()\nIn top 5 teams:\n\tIn made-cut, not Top 20: {'Corey Conners'}\n\tIn Top 20, not made-cut: {'Ian Poulter'}\nIn top 6 teams:\n\tIn made-cut, not Top 20: set()\n\tIn Top 20, not made-cut: set()\nIn top 7 teams:\n\tIn made-cut, not Top 20: {'Harold Varner III'}\n\tIn Top 20, not made-cut: {'Jason Kokrak'}\nIn top 8 teams:\n\tIn made-cut, not Top 20: {'Joaquin Niemann'}\n\tIn Top 20, not made-cut: {'Carlos Ortiz'}\nIn top 9 teams:\n\tIn made-cut, not Top 20: set()\n\tIn Top 20, not made-cut: set()\nIn top 10 teams:\n\tIn made-cut, not Top 20: {'Danny Lee'}\n\tIn Top 20, not made-cut: {'Talor Gooch'}\n",
          "name": "stdout"
        }
      ]
    },
    {
      "metadata": {
        "trusted": true
      },
      "cell_type": "code",
      "source": "# num_teams = 3\n# cut_not_t20= set(np.hstack(opt_teams[:num_teams])) - set(np.hstack(opt_teams_T20[:num_teams]))\n# print('In made-cut team, not Top 20:',cut_not_t20)",
      "execution_count": 21,
      "outputs": []
    },
    {
      "metadata": {
        "trusted": true
      },
      "cell_type": "code",
      "source": "# print('In top 20, not made-cut:')\n# print(set(np.hstack(opt_teams_T20[:num_teams])) - set(np.hstack(opt_teams[:num_teams])))",
      "execution_count": 22,
      "outputs": []
    },
    {
      "metadata": {
        "trusted": true
      },
      "cell_type": "markdown",
      "source": "## Creat lineups as csv"
    },
    {
      "metadata": {
        "trusted": true
      },
      "cell_type": "code",
      "source": "",
      "execution_count": null,
      "outputs": []
    },
    {
      "metadata": {
        "trusted": true
      },
      "cell_type": "code",
      "source": "#Assign exposures for top j teams\nteams_to_keep = 4\nown_gap = 6\nexposures = list(np.arange(50,50-own_gap*teams_to_keep,-own_gap))\nif len(exposures)<len(opt_teams_T20):\n    exposures = exposures + [0]*(len(opt_teams_T20)-len(exposures))\nexposures",
      "execution_count": 23,
      "outputs": [
        {
          "output_type": "execute_result",
          "execution_count": 23,
          "data": {
            "text/plain": "[50, 44, 38, 32, 0, 0, 0, 0, 0, 0]"
          },
          "metadata": {}
        }
      ]
    },
    {
      "metadata": {
        "trusted": true
      },
      "cell_type": "code",
      "source": "#Create df to hold player pool\ndf_teams = df2[['Name + ID','Name','Salary']]\ndf_teams.sort_values(by='Salary',ascending=False,inplace=True)\ndf_teams['Exposure'] = 0\ndf_teams.head(2)",
      "execution_count": 24,
      "outputs": [
        {
          "output_type": "stream",
          "text": "/home/nbuser/anaconda3_501/lib/python3.6/site-packages/ipykernel/__main__.py:3: SettingWithCopyWarning: \nA value is trying to be set on a copy of a slice from a DataFrame\n\nSee the caveats in the documentation: http://pandas.pydata.org/pandas-docs/stable/indexing.html#indexing-view-versus-copy\n  app.launch_new_instance()\n/home/nbuser/anaconda3_501/lib/python3.6/site-packages/ipykernel/__main__.py:4: SettingWithCopyWarning: \nA value is trying to be set on a copy of a slice from a DataFrame.\nTry using .loc[row_indexer,col_indexer] = value instead\n\nSee the caveats in the documentation: http://pandas.pydata.org/pandas-docs/stable/indexing.html#indexing-view-versus-copy\n",
          "name": "stderr"
        },
        {
          "output_type": "execute_result",
          "execution_count": 24,
          "data": {
            "text/html": "<div>\n<style scoped>\n    .dataframe tbody tr th:only-of-type {\n        vertical-align: middle;\n    }\n\n    .dataframe tbody tr th {\n        vertical-align: top;\n    }\n\n    .dataframe thead th {\n        text-align: right;\n    }\n</style>\n<table border=\"1\" class=\"dataframe\">\n  <thead>\n    <tr style=\"text-align: right;\">\n      <th></th>\n      <th>Name + ID</th>\n      <th>Name</th>\n      <th>Salary</th>\n      <th>Exposure</th>\n    </tr>\n  </thead>\n  <tbody>\n    <tr>\n      <th>0</th>\n      <td>Rory McIlroy (14421198)</td>\n      <td>Rory McIlroy</td>\n      <td>11700</td>\n      <td>0</td>\n    </tr>\n    <tr>\n      <th>1</th>\n      <td>Jon Rahm (14421199)</td>\n      <td>Jon Rahm</td>\n      <td>11000</td>\n      <td>0</td>\n    </tr>\n  </tbody>\n</table>\n</div>",
            "text/plain": "                 Name + ID          Name  Salary  Exposure\n0  Rory McIlroy (14421198)  Rory McIlroy   11700         0\n1      Jon Rahm (14421199)      Jon Rahm   11000         0"
          },
          "metadata": {}
        }
      ]
    },
    {
      "metadata": {
        "trusted": true
      },
      "cell_type": "code",
      "source": "#Use opt_teams or opt_teams_T20\nfor i, team in enumerate(opt_teams):\n    df_teams.Exposure = np.where(df_teams.Name.isin(team),exposures[i],df_teams.Exposure)\n\n#Add more players\n#add those in made cut\nnum_teams = len([e for e in exposures if e>0])\ncut_not_t20 = set(np.hstack(opt_teams[:num_teams])) - set(np.hstack(opt_teams_T20[:num_teams]))\n#more_players= {'Robert Macintyre':49}\nmore_players={p:39 for p in cut_not_t20}\n#more_players = {}\n# more_players['Victor Perez']=40\n# more_players['Adri Arnaus']=40\n# more_players['Andrea Pavan']=40\nmore_players = {}\nfor p in list(more_players.keys()):\n    df_teams.Exposure = np.where(df_teams.Name==p,more_players[p],df_teams.Exposure)\n    \ndf_teams = df_teams[df_teams.Exposure > 0]\ndf_teams['Actual Exposure'] = 0\ndf_teams.reset_index(drop=True,inplace=True)\ndf_teams",
      "execution_count": 25,
      "outputs": [
        {
          "output_type": "stream",
          "text": "/home/nbuser/anaconda3_501/lib/python3.6/site-packages/pandas/core/generic.py:4405: SettingWithCopyWarning: \nA value is trying to be set on a copy of a slice from a DataFrame.\nTry using .loc[row_indexer,col_indexer] = value instead\n\nSee the caveats in the documentation: http://pandas.pydata.org/pandas-docs/stable/indexing.html#indexing-view-versus-copy\n  self[name] = value\n",
          "name": "stderr"
        },
        {
          "output_type": "execute_result",
          "execution_count": 25,
          "data": {
            "text/html": "<div>\n<style scoped>\n    .dataframe tbody tr th:only-of-type {\n        vertical-align: middle;\n    }\n\n    .dataframe tbody tr th {\n        vertical-align: top;\n    }\n\n    .dataframe thead th {\n        text-align: right;\n    }\n</style>\n<table border=\"1\" class=\"dataframe\">\n  <thead>\n    <tr style=\"text-align: right;\">\n      <th></th>\n      <th>Name + ID</th>\n      <th>Name</th>\n      <th>Salary</th>\n      <th>Exposure</th>\n      <th>Actual Exposure</th>\n    </tr>\n  </thead>\n  <tbody>\n    <tr>\n      <th>0</th>\n      <td>Dustin Johnson (14421203)</td>\n      <td>Dustin Johnson</td>\n      <td>10000</td>\n      <td>32</td>\n      <td>0</td>\n    </tr>\n    <tr>\n      <th>1</th>\n      <td>Patrick Cantlay (14421204)</td>\n      <td>Patrick Cantlay</td>\n      <td>9800</td>\n      <td>38</td>\n      <td>0</td>\n    </tr>\n    <tr>\n      <th>2</th>\n      <td>Adam Scott (14421205)</td>\n      <td>Adam Scott</td>\n      <td>9600</td>\n      <td>38</td>\n      <td>0</td>\n    </tr>\n    <tr>\n      <th>3</th>\n      <td>Xander Schauffele (14421206)</td>\n      <td>Xander Schauffele</td>\n      <td>9400</td>\n      <td>44</td>\n      <td>0</td>\n    </tr>\n    <tr>\n      <th>4</th>\n      <td>Webb Simpson (14421207)</td>\n      <td>Webb Simpson</td>\n      <td>9200</td>\n      <td>50</td>\n      <td>0</td>\n    </tr>\n    <tr>\n      <th>5</th>\n      <td>Bryson DeChambeau (14421208)</td>\n      <td>Bryson DeChambeau</td>\n      <td>9100</td>\n      <td>44</td>\n      <td>0</td>\n    </tr>\n    <tr>\n      <th>6</th>\n      <td>Tommy Fleetwood (14421209)</td>\n      <td>Tommy Fleetwood</td>\n      <td>9000</td>\n      <td>50</td>\n      <td>0</td>\n    </tr>\n    <tr>\n      <th>7</th>\n      <td>Hideki Matsuyama (14421211)</td>\n      <td>Hideki Matsuyama</td>\n      <td>8800</td>\n      <td>50</td>\n      <td>0</td>\n    </tr>\n    <tr>\n      <th>8</th>\n      <td>Sungjae Im (14421213)</td>\n      <td>Sungjae Im</td>\n      <td>8600</td>\n      <td>44</td>\n      <td>0</td>\n    </tr>\n    <tr>\n      <th>9</th>\n      <td>Patrick Reed (14421214)</td>\n      <td>Patrick Reed</td>\n      <td>8500</td>\n      <td>44</td>\n      <td>0</td>\n    </tr>\n    <tr>\n      <th>10</th>\n      <td>Gary Woodland (14421216)</td>\n      <td>Gary Woodland</td>\n      <td>8300</td>\n      <td>38</td>\n      <td>0</td>\n    </tr>\n    <tr>\n      <th>11</th>\n      <td>Tony Finau (14421218)</td>\n      <td>Tony Finau</td>\n      <td>8100</td>\n      <td>32</td>\n      <td>0</td>\n    </tr>\n    <tr>\n      <th>12</th>\n      <td>Collin Morikawa (14421222)</td>\n      <td>Collin Morikawa</td>\n      <td>7900</td>\n      <td>50</td>\n      <td>0</td>\n    </tr>\n    <tr>\n      <th>13</th>\n      <td>Byeong Hun An (14421225)</td>\n      <td>Byeong Hun An</td>\n      <td>7800</td>\n      <td>38</td>\n      <td>0</td>\n    </tr>\n    <tr>\n      <th>14</th>\n      <td>Shane Lowry (14421223)</td>\n      <td>Shane Lowry</td>\n      <td>7800</td>\n      <td>32</td>\n      <td>0</td>\n    </tr>\n    <tr>\n      <th>15</th>\n      <td>Viktor Hovland (14421226)</td>\n      <td>Viktor Hovland</td>\n      <td>7700</td>\n      <td>32</td>\n      <td>0</td>\n    </tr>\n    <tr>\n      <th>16</th>\n      <td>Marc Leishman (14421229)</td>\n      <td>Marc Leishman</td>\n      <td>7600</td>\n      <td>32</td>\n      <td>0</td>\n    </tr>\n    <tr>\n      <th>17</th>\n      <td>Scottie Scheffler (14421231)</td>\n      <td>Scottie Scheffler</td>\n      <td>7500</td>\n      <td>44</td>\n      <td>0</td>\n    </tr>\n    <tr>\n      <th>18</th>\n      <td>Tyrrell Hatton (14421232)</td>\n      <td>Tyrrell Hatton</td>\n      <td>7400</td>\n      <td>50</td>\n      <td>0</td>\n    </tr>\n    <tr>\n      <th>19</th>\n      <td>Matthew Fitzpatrick (14421235)</td>\n      <td>Matthew Fitzpatrick</td>\n      <td>7300</td>\n      <td>50</td>\n      <td>0</td>\n    </tr>\n    <tr>\n      <th>20</th>\n      <td>Ryan Moore (14421246)</td>\n      <td>Ryan Moore</td>\n      <td>7200</td>\n      <td>38</td>\n      <td>0</td>\n    </tr>\n    <tr>\n      <th>21</th>\n      <td>Brandt Snedeker (14421242)</td>\n      <td>Brandt Snedeker</td>\n      <td>7200</td>\n      <td>32</td>\n      <td>0</td>\n    </tr>\n    <tr>\n      <th>22</th>\n      <td>Daniel Berger (14421244)</td>\n      <td>Daniel Berger</td>\n      <td>7200</td>\n      <td>38</td>\n      <td>0</td>\n    </tr>\n    <tr>\n      <th>23</th>\n      <td>Joel Dahmen (14421285)</td>\n      <td>Joel Dahmen</td>\n      <td>6600</td>\n      <td>44</td>\n      <td>0</td>\n    </tr>\n  </tbody>\n</table>\n</div>",
            "text/plain": "                         Name + ID                 Name  Salary  Exposure  \\\n0        Dustin Johnson (14421203)       Dustin Johnson   10000        32   \n1       Patrick Cantlay (14421204)      Patrick Cantlay    9800        38   \n2            Adam Scott (14421205)           Adam Scott    9600        38   \n3     Xander Schauffele (14421206)    Xander Schauffele    9400        44   \n4          Webb Simpson (14421207)         Webb Simpson    9200        50   \n5     Bryson DeChambeau (14421208)    Bryson DeChambeau    9100        44   \n6       Tommy Fleetwood (14421209)      Tommy Fleetwood    9000        50   \n7      Hideki Matsuyama (14421211)     Hideki Matsuyama    8800        50   \n8            Sungjae Im (14421213)           Sungjae Im    8600        44   \n9          Patrick Reed (14421214)         Patrick Reed    8500        44   \n10        Gary Woodland (14421216)        Gary Woodland    8300        38   \n11           Tony Finau (14421218)           Tony Finau    8100        32   \n12      Collin Morikawa (14421222)      Collin Morikawa    7900        50   \n13        Byeong Hun An (14421225)        Byeong Hun An    7800        38   \n14          Shane Lowry (14421223)          Shane Lowry    7800        32   \n15       Viktor Hovland (14421226)       Viktor Hovland    7700        32   \n16        Marc Leishman (14421229)        Marc Leishman    7600        32   \n17    Scottie Scheffler (14421231)    Scottie Scheffler    7500        44   \n18       Tyrrell Hatton (14421232)       Tyrrell Hatton    7400        50   \n19  Matthew Fitzpatrick (14421235)  Matthew Fitzpatrick    7300        50   \n20           Ryan Moore (14421246)           Ryan Moore    7200        38   \n21      Brandt Snedeker (14421242)      Brandt Snedeker    7200        32   \n22        Daniel Berger (14421244)        Daniel Berger    7200        38   \n23          Joel Dahmen (14421285)          Joel Dahmen    6600        44   \n\n    Actual Exposure  \n0                 0  \n1                 0  \n2                 0  \n3                 0  \n4                 0  \n5                 0  \n6                 0  \n7                 0  \n8                 0  \n9                 0  \n10                0  \n11                0  \n12                0  \n13                0  \n14                0  \n15                0  \n16                0  \n17                0  \n18                0  \n19                0  \n20                0  \n21                0  \n22                0  \n23                0  "
          },
          "metadata": {}
        }
      ]
    },
    {
      "metadata": {
        "trusted": true
      },
      "cell_type": "code",
      "source": "more_players",
      "execution_count": 26,
      "outputs": [
        {
          "output_type": "execute_result",
          "execution_count": 26,
          "data": {
            "text/plain": "{}"
          },
          "metadata": {}
        }
      ]
    },
    {
      "metadata": {
        "trusted": true
      },
      "cell_type": "code",
      "source": "#initialize df_lineups, which will be written to csv\ndf_lineups = pd.DataFrame(columns=['G1','G2','G3','G4','G5','G6'])\ndf_lineups",
      "execution_count": 27,
      "outputs": [
        {
          "output_type": "execute_result",
          "execution_count": 27,
          "data": {
            "text/html": "<div>\n<style scoped>\n    .dataframe tbody tr th:only-of-type {\n        vertical-align: middle;\n    }\n\n    .dataframe tbody tr th {\n        vertical-align: top;\n    }\n\n    .dataframe thead th {\n        text-align: right;\n    }\n</style>\n<table border=\"1\" class=\"dataframe\">\n  <thead>\n    <tr style=\"text-align: right;\">\n      <th></th>\n      <th>G1</th>\n      <th>G2</th>\n      <th>G3</th>\n      <th>G4</th>\n      <th>G5</th>\n      <th>G6</th>\n    </tr>\n  </thead>\n  <tbody>\n  </tbody>\n</table>\n</div>",
            "text/plain": "Empty DataFrame\nColumns: [G1, G2, G3, G4, G5, G6]\nIndex: []"
          },
          "metadata": {}
        }
      ]
    },
    {
      "metadata": {
        "trusted": true
      },
      "cell_type": "code",
      "source": "#First, need a function that picks elements from list L with probabilies probs\ndef pick_element_per_probs(L,probs):\n    #make sure probs are normalized\n    probs = [x / sum(probs) for x in probs]\n    #pick a random number\n    r = np.random.random()\n    c = 0 #cumulative sum\n    for i, prob in enumerate(probs):\n        if r < prob + c:\n            return L[i]\n        c += prob",
      "execution_count": 28,
      "outputs": []
    },
    {
      "metadata": {
        "trusted": true
      },
      "cell_type": "code",
      "source": "#Now start churning\n#Now set parameters for number of teams and salary limits\nnum_teams = 45\nmin_sal = 49400 - sal_used\nmax_sal = 49900 - sal_used\n\n#Reset df_teams\ndf_teams['Actual Exposure'] = 0\n\nm = 0 #Completed teams so far\nwhile (m < num_teams):\n    #pick 6 players per probabilties\n    curr_team = []\n#     for p in lock_full_names:\n#         curr_team.append(p)\n    #print(curr_team)\n    df_now = df_teams.copy()\n    players = df_now['Name + ID'].tolist()\n    probs = df_now['Exposure'].tolist()\n    for i in range(players_left):\n        p = pick_element_per_probs(players,probs)\n        curr_team.append(p)\n        df_now = df_now[df_now['Name + ID']!=p]\n        players = df_now['Name + ID'].tolist()\n        probs = df_now['Exposure'].tolist()\n    #Now curr_team is list of 6 names.  Check if salary matches\n    df_now = df_teams[df_teams['Name + ID'].isin(curr_team)]\n    total_sal = df_now.Salary.sum()\n    if (total_sal < min_sal or total_sal > max_sal):\n        continue\n    \n#     print('Salary good for team:',curr_team)\n#     print(df_now)\n    #Put team in order of decreasing salary\n    df_now.sort_values(by='Salary',ascending=False,inplace=True)\n    #curr_team = df_now['Name + ID'].tolist()\n    curr_team = lock_full_names + df_now['Name + ID'].tolist()\n    #print(curr_team)\n    #Check if team has shown up before in df_lineups\n    df3 = (df_lineups == np.array(curr_team))\n    old_team = df3.transpose().all().any() #True if team is already in df_lineups\n    if old_team:\n        continue\n        \n    #OK, so now we have a new team!  Add it to df_lineups\n    df_lineups.loc[m] = curr_team\n    #Also update 'Actual Exposure' in df_teams\n    new_players = np.where(df_teams['Name + ID'].isin(curr_team),1,0)\n    df_teams['Actual Exposure'] = df_teams['Actual Exposure'] + new_players\n    \n    #Finally incredment m\n    m += 1\n    #print('Team {}, sal = {}'.format(m,total_sal))\n    \ndf_teams[['Name + ID','Actual Exposure',\n         'Exposure','Salary']]",
      "execution_count": 29,
      "outputs": [
        {
          "output_type": "stream",
          "text": "/home/nbuser/anaconda3_501/lib/python3.6/site-packages/ipykernel/__main__.py:35: SettingWithCopyWarning: \nA value is trying to be set on a copy of a slice from a DataFrame\n\nSee the caveats in the documentation: http://pandas.pydata.org/pandas-docs/stable/indexing.html#indexing-view-versus-copy\n",
          "name": "stderr"
        },
        {
          "output_type": "execute_result",
          "execution_count": 29,
          "data": {
            "text/html": "<div>\n<style scoped>\n    .dataframe tbody tr th:only-of-type {\n        vertical-align: middle;\n    }\n\n    .dataframe tbody tr th {\n        vertical-align: top;\n    }\n\n    .dataframe thead th {\n        text-align: right;\n    }\n</style>\n<table border=\"1\" class=\"dataframe\">\n  <thead>\n    <tr style=\"text-align: right;\">\n      <th></th>\n      <th>Name + ID</th>\n      <th>Actual Exposure</th>\n      <th>Exposure</th>\n      <th>Salary</th>\n    </tr>\n  </thead>\n  <tbody>\n    <tr>\n      <th>0</th>\n      <td>Dustin Johnson (14421203)</td>\n      <td>9</td>\n      <td>32</td>\n      <td>10000</td>\n    </tr>\n    <tr>\n      <th>1</th>\n      <td>Patrick Cantlay (14421204)</td>\n      <td>16</td>\n      <td>38</td>\n      <td>9800</td>\n    </tr>\n    <tr>\n      <th>2</th>\n      <td>Adam Scott (14421205)</td>\n      <td>8</td>\n      <td>38</td>\n      <td>9600</td>\n    </tr>\n    <tr>\n      <th>3</th>\n      <td>Xander Schauffele (14421206)</td>\n      <td>6</td>\n      <td>44</td>\n      <td>9400</td>\n    </tr>\n    <tr>\n      <th>4</th>\n      <td>Webb Simpson (14421207)</td>\n      <td>19</td>\n      <td>50</td>\n      <td>9200</td>\n    </tr>\n    <tr>\n      <th>5</th>\n      <td>Bryson DeChambeau (14421208)</td>\n      <td>12</td>\n      <td>44</td>\n      <td>9100</td>\n    </tr>\n    <tr>\n      <th>6</th>\n      <td>Tommy Fleetwood (14421209)</td>\n      <td>10</td>\n      <td>50</td>\n      <td>9000</td>\n    </tr>\n    <tr>\n      <th>7</th>\n      <td>Hideki Matsuyama (14421211)</td>\n      <td>14</td>\n      <td>50</td>\n      <td>8800</td>\n    </tr>\n    <tr>\n      <th>8</th>\n      <td>Sungjae Im (14421213)</td>\n      <td>17</td>\n      <td>44</td>\n      <td>8600</td>\n    </tr>\n    <tr>\n      <th>9</th>\n      <td>Patrick Reed (14421214)</td>\n      <td>13</td>\n      <td>44</td>\n      <td>8500</td>\n    </tr>\n    <tr>\n      <th>10</th>\n      <td>Gary Woodland (14421216)</td>\n      <td>13</td>\n      <td>38</td>\n      <td>8300</td>\n    </tr>\n    <tr>\n      <th>11</th>\n      <td>Tony Finau (14421218)</td>\n      <td>3</td>\n      <td>32</td>\n      <td>8100</td>\n    </tr>\n    <tr>\n      <th>12</th>\n      <td>Collin Morikawa (14421222)</td>\n      <td>14</td>\n      <td>50</td>\n      <td>7900</td>\n    </tr>\n    <tr>\n      <th>13</th>\n      <td>Byeong Hun An (14421225)</td>\n      <td>10</td>\n      <td>38</td>\n      <td>7800</td>\n    </tr>\n    <tr>\n      <th>14</th>\n      <td>Shane Lowry (14421223)</td>\n      <td>12</td>\n      <td>32</td>\n      <td>7800</td>\n    </tr>\n    <tr>\n      <th>15</th>\n      <td>Viktor Hovland (14421226)</td>\n      <td>5</td>\n      <td>32</td>\n      <td>7700</td>\n    </tr>\n    <tr>\n      <th>16</th>\n      <td>Marc Leishman (14421229)</td>\n      <td>7</td>\n      <td>32</td>\n      <td>7600</td>\n    </tr>\n    <tr>\n      <th>17</th>\n      <td>Scottie Scheffler (14421231)</td>\n      <td>14</td>\n      <td>44</td>\n      <td>7500</td>\n    </tr>\n    <tr>\n      <th>18</th>\n      <td>Tyrrell Hatton (14421232)</td>\n      <td>14</td>\n      <td>50</td>\n      <td>7400</td>\n    </tr>\n    <tr>\n      <th>19</th>\n      <td>Matthew Fitzpatrick (14421235)</td>\n      <td>12</td>\n      <td>50</td>\n      <td>7300</td>\n    </tr>\n    <tr>\n      <th>20</th>\n      <td>Ryan Moore (14421246)</td>\n      <td>8</td>\n      <td>38</td>\n      <td>7200</td>\n    </tr>\n    <tr>\n      <th>21</th>\n      <td>Brandt Snedeker (14421242)</td>\n      <td>14</td>\n      <td>32</td>\n      <td>7200</td>\n    </tr>\n    <tr>\n      <th>22</th>\n      <td>Daniel Berger (14421244)</td>\n      <td>11</td>\n      <td>38</td>\n      <td>7200</td>\n    </tr>\n    <tr>\n      <th>23</th>\n      <td>Joel Dahmen (14421285)</td>\n      <td>9</td>\n      <td>44</td>\n      <td>6600</td>\n    </tr>\n  </tbody>\n</table>\n</div>",
            "text/plain": "                         Name + ID  Actual Exposure  Exposure  Salary\n0        Dustin Johnson (14421203)                9        32   10000\n1       Patrick Cantlay (14421204)               16        38    9800\n2            Adam Scott (14421205)                8        38    9600\n3     Xander Schauffele (14421206)                6        44    9400\n4          Webb Simpson (14421207)               19        50    9200\n5     Bryson DeChambeau (14421208)               12        44    9100\n6       Tommy Fleetwood (14421209)               10        50    9000\n7      Hideki Matsuyama (14421211)               14        50    8800\n8            Sungjae Im (14421213)               17        44    8600\n9          Patrick Reed (14421214)               13        44    8500\n10        Gary Woodland (14421216)               13        38    8300\n11           Tony Finau (14421218)                3        32    8100\n12      Collin Morikawa (14421222)               14        50    7900\n13        Byeong Hun An (14421225)               10        38    7800\n14          Shane Lowry (14421223)               12        32    7800\n15       Viktor Hovland (14421226)                5        32    7700\n16        Marc Leishman (14421229)                7        32    7600\n17    Scottie Scheffler (14421231)               14        44    7500\n18       Tyrrell Hatton (14421232)               14        50    7400\n19  Matthew Fitzpatrick (14421235)               12        50    7300\n20           Ryan Moore (14421246)                8        38    7200\n21      Brandt Snedeker (14421242)               14        32    7200\n22        Daniel Berger (14421244)               11        38    7200\n23          Joel Dahmen (14421285)                9        44    6600"
          },
          "metadata": {}
        }
      ]
    },
    {
      "metadata": {
        "trusted": true
      },
      "cell_type": "code",
      "source": "#If you're good with actual exposure, then write it!\ndf_lineups.to_csv('Lineups/DK_Entries.csv')",
      "execution_count": 30,
      "outputs": []
    },
    {
      "metadata": {
        "trusted": true
      },
      "cell_type": "code",
      "source": "df_lineups['All'] = df_lineups.G1 + df_lineups.G2 + df_lineups.G3 + df_lineups.G4 + df_lineups.G5 + df_lineups.G6 \n#df_lineups[(df_lineups.All.str.contains('Casey'))]",
      "execution_count": 31,
      "outputs": []
    },
    {
      "metadata": {
        "trusted": true
      },
      "cell_type": "code",
      "source": "df_lineups[(df_lineups.All.str.contains('Higgs'))&\n          (df_lineups.All.str.contains('Scott'))&\n          (df_lineups.All.str.contains('Knox'))]",
      "execution_count": 32,
      "outputs": [
        {
          "output_type": "execute_result",
          "execution_count": 32,
          "data": {
            "text/html": "<div>\n<style scoped>\n    .dataframe tbody tr th:only-of-type {\n        vertical-align: middle;\n    }\n\n    .dataframe tbody tr th {\n        vertical-align: top;\n    }\n\n    .dataframe thead th {\n        text-align: right;\n    }\n</style>\n<table border=\"1\" class=\"dataframe\">\n  <thead>\n    <tr style=\"text-align: right;\">\n      <th></th>\n      <th>G1</th>\n      <th>G2</th>\n      <th>G3</th>\n      <th>G4</th>\n      <th>G5</th>\n      <th>G6</th>\n      <th>All</th>\n    </tr>\n  </thead>\n  <tbody>\n  </tbody>\n</table>\n</div>",
            "text/plain": "Empty DataFrame\nColumns: [G1, G2, G3, G4, G5, G6, All]\nIndex: []"
          },
          "metadata": {}
        }
      ]
    },
    {
      "metadata": {
        "trusted": true
      },
      "cell_type": "code",
      "source": "",
      "execution_count": null,
      "outputs": []
    },
    {
      "metadata": {
        "trusted": true
      },
      "cell_type": "code",
      "source": "",
      "execution_count": null,
      "outputs": []
    },
    {
      "metadata": {
        "trusted": true
      },
      "cell_type": "code",
      "source": "",
      "execution_count": null,
      "outputs": []
    },
    {
      "metadata": {
        "trusted": true
      },
      "cell_type": "code",
      "source": "",
      "execution_count": null,
      "outputs": []
    },
    {
      "metadata": {
        "trusted": true
      },
      "cell_type": "code",
      "source": "",
      "execution_count": null,
      "outputs": []
    }
  ],
  "metadata": {
    "kernelspec": {
      "name": "python36",
      "display_name": "Python 3.6",
      "language": "python"
    },
    "language_info": {
      "mimetype": "text/x-python",
      "nbconvert_exporter": "python",
      "name": "python",
      "pygments_lexer": "ipython3",
      "version": "3.6.6",
      "file_extension": ".py",
      "codemirror_mode": {
        "version": 3,
        "name": "ipython"
      }
    }
  },
  "nbformat": 4,
  "nbformat_minor": 2
}