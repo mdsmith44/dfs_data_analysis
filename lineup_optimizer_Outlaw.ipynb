{
  "cells": [
    {
      "metadata": {
        "trusted": true
      },
      "cell_type": "code",
      "source": "import pandas as pd\nimport numpy as np",
      "execution_count": 1,
      "outputs": []
    },
    {
      "metadata": {
        "trusted": true
      },
      "cell_type": "code",
      "source": "!pip install cvxpy",
      "execution_count": 2,
      "outputs": [
        {
          "output_type": "stream",
          "text": "Collecting cvxpy\n\u001b[?25l  Downloading https://files.pythonhosted.org/packages/2f/33/b9fec8fcfa0e07348a9e83af801d16c2139942aac4ed7a37d24ed3eccf41/cvxpy-1.1.0.tar.gz (990kB)\n\u001b[K     |████████████████████████████████| 993kB 2.9MB/s eta 0:00:01     |█████████████▋                  | 419kB 2.9MB/s eta 0:00:01\n\u001b[?25h  Installing build dependencies ... \u001b[?25ldone\n\u001b[?25h  Getting requirements to build wheel ... \u001b[?25ldone\n\u001b[?25h    Preparing wheel metadata ... \u001b[?25ldone\n\u001b[?25hRequirement already satisfied: numpy>=1.15 in /home/nbuser/anaconda3_501/lib/python3.6/site-packages (from cvxpy) (1.16.2)\nRequirement already satisfied: scipy>=1.1.0 in /home/nbuser/anaconda3_501/lib/python3.6/site-packages (from cvxpy) (1.1.0)\nCollecting scs>=1.1.3\n\u001b[?25l  Downloading https://files.pythonhosted.org/packages/1a/72/33be87cce255d4e9dbbfef547e9fd6ec7ee94d0d0910bb2b13badea3fbbe/scs-2.1.2.tar.gz (3.5MB)\n\u001b[K     |████████████████████████████████| 3.6MB 645kB/s eta 0:00:01\n\u001b[?25hCollecting ecos>=2\n\u001b[?25l  Downloading https://files.pythonhosted.org/packages/55/ed/d131ff51f3a8f73420eb1191345eb49f269f23cadef515172e356018cde3/ecos-2.0.7.post1-cp36-cp36m-manylinux1_x86_64.whl (147kB)\n\u001b[K     |████████████████████████████████| 153kB 8.7MB/s eta 0:00:01\n\u001b[?25hCollecting osqp>=0.4.1\n\u001b[?25l  Downloading https://files.pythonhosted.org/packages/8c/9f/0fc0d7ca7e94829e7257c4b18ac5009253f0466232689325b9e0c766d1c9/osqp-0.6.1-cp36-cp36m-manylinux2010_x86_64.whl (210kB)\n\u001b[K     |████████████████████████████████| 215kB 6.2MB/s eta 0:00:01\n\u001b[?25hRequirement already satisfied: future in /home/nbuser/anaconda3_501/lib/python3.6/site-packages (from osqp>=0.4.1->cvxpy) (0.16.0)\nBuilding wheels for collected packages: cvxpy\n  Building wheel for cvxpy (PEP 517) ... \u001b[?25ldone\n\u001b[?25h  Created wheel for cvxpy: filename=cvxpy-1.1.0-cp36-cp36m-linux_x86_64.whl size=2498522 sha256=88c5314cb334db6eeb989258f918620b9697ce71505b97a939346daf3b6d7835\n  Stored in directory: /home/nbuser/.cache/pip/wheels/6d/3e/58/c59291c242e379ac92b031c23a9356faa082a012ba620524b8\nSuccessfully built cvxpy\nBuilding wheels for collected packages: scs\n  Building wheel for scs (setup.py) ... \u001b[?25ldone\n\u001b[?25h  Created wheel for scs: filename=scs-2.1.2-cp36-cp36m-linux_x86_64.whl size=376074 sha256=792b46d601040340783cf1ec3710043bd8e9f10c4b4f977ee580a7700eb795a2\n  Stored in directory: /home/nbuser/.cache/pip/wheels/df/d0/79/37ea880586da03c620ca9ecd5e42adbd86bc6ea84363965c5f\nSuccessfully built scs\nInstalling collected packages: scs, ecos, osqp, cvxpy\nSuccessfully installed cvxpy-1.1.0 ecos-2.0.7.post1 osqp-0.6.1 scs-2.1.2\n\u001b[33mWARNING: You are using pip version 19.3.1; however, version 20.1.1 is available.\nYou should consider upgrading via the 'pip install --upgrade pip' command.\u001b[0m\n",
          "name": "stdout"
        }
      ]
    },
    {
      "metadata": {
        "trusted": true
      },
      "cell_type": "code",
      "source": "import cvxpy as cp",
      "execution_count": 3,
      "outputs": []
    },
    {
      "metadata": {
        "trusted": true
      },
      "cell_type": "code",
      "source": "#First, need a function that picks elements from list L with probabilies probs\ndef pick_element_per_probs(L,probs):\n    #make sure probs are normalized\n    probs = [x / sum(probs) for x in probs]\n    #pick a random number\n    r = np.random.random()\n    c = 0 #cumulative sum\n    for i, prob in enumerate(probs):\n        if r < prob + c:\n            return L[i]\n        c += prob",
      "execution_count": 4,
      "outputs": []
    },
    {
      "metadata": {},
      "cell_type": "markdown",
      "source": "# Read in Data"
    },
    {
      "metadata": {
        "trusted": true
      },
      "cell_type": "code",
      "source": "post_cut = True",
      "execution_count": 5,
      "outputs": []
    },
    {
      "metadata": {
        "trusted": true
      },
      "cell_type": "code",
      "source": "url = 'https://www.draftkings.com/lineup/getavailableplayerscsv?contestTypeId=86&draftGroupId=35810'\ndf = pd.read_csv(url)\n#df = pd.read_csv('Data/DKSalaries_outlaw_20200513.csv')\ndf.head(14)",
      "execution_count": 6,
      "outputs": [
        {
          "output_type": "execute_result",
          "execution_count": 6,
          "data": {
            "text/html": "<div>\n<style scoped>\n    .dataframe tbody tr th:only-of-type {\n        vertical-align: middle;\n    }\n\n    .dataframe tbody tr th {\n        vertical-align: top;\n    }\n\n    .dataframe thead th {\n        text-align: right;\n    }\n</style>\n<table border=\"1\" class=\"dataframe\">\n  <thead>\n    <tr style=\"text-align: right;\">\n      <th></th>\n      <th>Position</th>\n      <th>Name + ID</th>\n      <th>Name</th>\n      <th>ID</th>\n      <th>Roster Position</th>\n      <th>Salary</th>\n      <th>Game Info</th>\n      <th>TeamAbbrev</th>\n      <th>AvgPointsPerGame</th>\n    </tr>\n  </thead>\n  <tbody>\n    <tr>\n      <th>0</th>\n      <td>G</td>\n      <td>Sahith Theegala (14591201)</td>\n      <td>Sahith Theegala</td>\n      <td>14591201</td>\n      <td>G</td>\n      <td>10400</td>\n      <td>Lone Tree Classic</td>\n      <td>Golf</td>\n      <td>0</td>\n    </tr>\n    <tr>\n      <th>1</th>\n      <td>G</td>\n      <td>Alistair Docherty (14591202)</td>\n      <td>Alistair Docherty</td>\n      <td>14591202</td>\n      <td>G</td>\n      <td>10200</td>\n      <td>Lone Tree Classic</td>\n      <td>Golf</td>\n      <td>0</td>\n    </tr>\n    <tr>\n      <th>2</th>\n      <td>G</td>\n      <td>Brady Calkins (14591203)</td>\n      <td>Brady Calkins</td>\n      <td>14591203</td>\n      <td>G</td>\n      <td>10000</td>\n      <td>Lone Tree Classic</td>\n      <td>Golf</td>\n      <td>0</td>\n    </tr>\n    <tr>\n      <th>3</th>\n      <td>G</td>\n      <td>Tyler Weworski (14591204)</td>\n      <td>Tyler Weworski</td>\n      <td>14591204</td>\n      <td>G</td>\n      <td>9700</td>\n      <td>Lone Tree Classic</td>\n      <td>Golf</td>\n      <td>0</td>\n    </tr>\n    <tr>\n      <th>4</th>\n      <td>G</td>\n      <td>Nicolo Galletti (14591205)</td>\n      <td>Nicolo Galletti</td>\n      <td>14591205</td>\n      <td>G</td>\n      <td>9400</td>\n      <td>Lone Tree Classic</td>\n      <td>Golf</td>\n      <td>0</td>\n    </tr>\n    <tr>\n      <th>5</th>\n      <td>G</td>\n      <td>Andrew Funk (14591206)</td>\n      <td>Andrew Funk</td>\n      <td>14591206</td>\n      <td>G</td>\n      <td>9200</td>\n      <td>Lone Tree Classic</td>\n      <td>Golf</td>\n      <td>0</td>\n    </tr>\n    <tr>\n      <th>6</th>\n      <td>G</td>\n      <td>Neil Johnson (14591207)</td>\n      <td>Neil Johnson</td>\n      <td>14591207</td>\n      <td>G</td>\n      <td>9000</td>\n      <td>Lone Tree Classic</td>\n      <td>Golf</td>\n      <td>0</td>\n    </tr>\n    <tr>\n      <th>7</th>\n      <td>G</td>\n      <td>Mark Baldwin (14591208)</td>\n      <td>Mark Baldwin</td>\n      <td>14591208</td>\n      <td>G</td>\n      <td>8700</td>\n      <td>Lone Tree Classic</td>\n      <td>Golf</td>\n      <td>0</td>\n    </tr>\n    <tr>\n      <th>8</th>\n      <td>G</td>\n      <td>Samuel Saunders (14591209)</td>\n      <td>Samuel Saunders</td>\n      <td>14591209</td>\n      <td>G</td>\n      <td>8400</td>\n      <td>Lone Tree Classic</td>\n      <td>Golf</td>\n      <td>0</td>\n    </tr>\n    <tr>\n      <th>9</th>\n      <td>G</td>\n      <td>Trevor Lampson (14591210)</td>\n      <td>Trevor Lampson</td>\n      <td>14591210</td>\n      <td>G</td>\n      <td>8100</td>\n      <td>Lone Tree Classic</td>\n      <td>Golf</td>\n      <td>0</td>\n    </tr>\n    <tr>\n      <th>10</th>\n      <td>G</td>\n      <td>Kolton Lapa (14591211)</td>\n      <td>Kolton Lapa</td>\n      <td>14591211</td>\n      <td>G</td>\n      <td>7900</td>\n      <td>Lone Tree Classic</td>\n      <td>Golf</td>\n      <td>0</td>\n    </tr>\n    <tr>\n      <th>11</th>\n      <td>G</td>\n      <td>Daniel Hudson (14591212)</td>\n      <td>Daniel Hudson</td>\n      <td>14591212</td>\n      <td>G</td>\n      <td>7700</td>\n      <td>Lone Tree Classic</td>\n      <td>Golf</td>\n      <td>0</td>\n    </tr>\n    <tr>\n      <th>12</th>\n      <td>G</td>\n      <td>Zander Winston (14591213)</td>\n      <td>Zander Winston</td>\n      <td>14591213</td>\n      <td>G</td>\n      <td>7500</td>\n      <td>Lone Tree Classic</td>\n      <td>Golf</td>\n      <td>0</td>\n    </tr>\n    <tr>\n      <th>13</th>\n      <td>G</td>\n      <td>Steven Alker (14591214)</td>\n      <td>Steven Alker</td>\n      <td>14591214</td>\n      <td>G</td>\n      <td>7300</td>\n      <td>Lone Tree Classic</td>\n      <td>Golf</td>\n      <td>0</td>\n    </tr>\n  </tbody>\n</table>\n</div>",
            "text/plain": "   Position                     Name + ID               Name        ID  \\\n0         G    Sahith Theegala (14591201)    Sahith Theegala  14591201   \n1         G  Alistair Docherty (14591202)  Alistair Docherty  14591202   \n2         G      Brady Calkins (14591203)      Brady Calkins  14591203   \n3         G     Tyler Weworski (14591204)     Tyler Weworski  14591204   \n4         G    Nicolo Galletti (14591205)    Nicolo Galletti  14591205   \n5         G        Andrew Funk (14591206)        Andrew Funk  14591206   \n6         G       Neil Johnson (14591207)       Neil Johnson  14591207   \n7         G       Mark Baldwin (14591208)       Mark Baldwin  14591208   \n8         G    Samuel Saunders (14591209)    Samuel Saunders  14591209   \n9         G     Trevor Lampson (14591210)     Trevor Lampson  14591210   \n10        G        Kolton Lapa (14591211)        Kolton Lapa  14591211   \n11        G      Daniel Hudson (14591212)      Daniel Hudson  14591212   \n12        G     Zander Winston (14591213)     Zander Winston  14591213   \n13        G       Steven Alker (14591214)       Steven Alker  14591214   \n\n   Roster Position  Salary          Game Info TeamAbbrev  AvgPointsPerGame  \n0                G   10400  Lone Tree Classic       Golf                 0  \n1                G   10200  Lone Tree Classic       Golf                 0  \n2                G   10000  Lone Tree Classic       Golf                 0  \n3                G    9700  Lone Tree Classic       Golf                 0  \n4                G    9400  Lone Tree Classic       Golf                 0  \n5                G    9200  Lone Tree Classic       Golf                 0  \n6                G    9000  Lone Tree Classic       Golf                 0  \n7                G    8700  Lone Tree Classic       Golf                 0  \n8                G    8400  Lone Tree Classic       Golf                 0  \n9                G    8100  Lone Tree Classic       Golf                 0  \n10               G    7900  Lone Tree Classic       Golf                 0  \n11               G    7700  Lone Tree Classic       Golf                 0  \n12               G    7500  Lone Tree Classic       Golf                 0  \n13               G    7300  Lone Tree Classic       Golf                 0  "
          },
          "metadata": {}
        }
      ]
    },
    {
      "metadata": {
        "trusted": true
      },
      "cell_type": "code",
      "source": "#df.to_csv('Data/DKSalaries_outlaw_20200512.csv',index=False)",
      "execution_count": 7,
      "outputs": []
    },
    {
      "metadata": {
        "trusted": true
      },
      "cell_type": "code",
      "source": "#remove\nto_remove = []\ndf = df[~df.Name.isin(to_remove)]\ndf.iloc[8:12]",
      "execution_count": 8,
      "outputs": [
        {
          "output_type": "execute_result",
          "execution_count": 8,
          "data": {
            "text/html": "<div>\n<style scoped>\n    .dataframe tbody tr th:only-of-type {\n        vertical-align: middle;\n    }\n\n    .dataframe tbody tr th {\n        vertical-align: top;\n    }\n\n    .dataframe thead th {\n        text-align: right;\n    }\n</style>\n<table border=\"1\" class=\"dataframe\">\n  <thead>\n    <tr style=\"text-align: right;\">\n      <th></th>\n      <th>Position</th>\n      <th>Name + ID</th>\n      <th>Name</th>\n      <th>ID</th>\n      <th>Roster Position</th>\n      <th>Salary</th>\n      <th>Game Info</th>\n      <th>TeamAbbrev</th>\n      <th>AvgPointsPerGame</th>\n    </tr>\n  </thead>\n  <tbody>\n    <tr>\n      <th>8</th>\n      <td>G</td>\n      <td>Samuel Saunders (14591209)</td>\n      <td>Samuel Saunders</td>\n      <td>14591209</td>\n      <td>G</td>\n      <td>8400</td>\n      <td>Lone Tree Classic</td>\n      <td>Golf</td>\n      <td>0</td>\n    </tr>\n    <tr>\n      <th>9</th>\n      <td>G</td>\n      <td>Trevor Lampson (14591210)</td>\n      <td>Trevor Lampson</td>\n      <td>14591210</td>\n      <td>G</td>\n      <td>8100</td>\n      <td>Lone Tree Classic</td>\n      <td>Golf</td>\n      <td>0</td>\n    </tr>\n    <tr>\n      <th>10</th>\n      <td>G</td>\n      <td>Kolton Lapa (14591211)</td>\n      <td>Kolton Lapa</td>\n      <td>14591211</td>\n      <td>G</td>\n      <td>7900</td>\n      <td>Lone Tree Classic</td>\n      <td>Golf</td>\n      <td>0</td>\n    </tr>\n    <tr>\n      <th>11</th>\n      <td>G</td>\n      <td>Daniel Hudson (14591212)</td>\n      <td>Daniel Hudson</td>\n      <td>14591212</td>\n      <td>G</td>\n      <td>7700</td>\n      <td>Lone Tree Classic</td>\n      <td>Golf</td>\n      <td>0</td>\n    </tr>\n  </tbody>\n</table>\n</div>",
            "text/plain": "   Position                   Name + ID             Name        ID  \\\n8         G  Samuel Saunders (14591209)  Samuel Saunders  14591209   \n9         G   Trevor Lampson (14591210)   Trevor Lampson  14591210   \n10        G      Kolton Lapa (14591211)      Kolton Lapa  14591211   \n11        G    Daniel Hudson (14591212)    Daniel Hudson  14591212   \n\n   Roster Position  Salary          Game Info TeamAbbrev  AvgPointsPerGame  \n8                G    8400  Lone Tree Classic       Golf                 0  \n9                G    8100  Lone Tree Classic       Golf                 0  \n10               G    7900  Lone Tree Classic       Golf                 0  \n11               G    7700  Lone Tree Classic       Golf                 0  "
          },
          "metadata": {}
        }
      ]
    },
    {
      "metadata": {
        "trusted": true
      },
      "cell_type": "code",
      "source": "df_made_cut = pd.read_csv('Data/outlaw_made_cut.csv')\ndf_made_cut.head(2)",
      "execution_count": 9,
      "outputs": [
        {
          "output_type": "execute_result",
          "execution_count": 9,
          "data": {
            "text/html": "<div>\n<style scoped>\n    .dataframe tbody tr th:only-of-type {\n        vertical-align: middle;\n    }\n\n    .dataframe tbody tr th {\n        vertical-align: top;\n    }\n\n    .dataframe thead th {\n        text-align: right;\n    }\n</style>\n<table border=\"1\" class=\"dataframe\">\n  <thead>\n    <tr style=\"text-align: right;\">\n      <th></th>\n      <th>Name</th>\n      <th>Score</th>\n    </tr>\n  </thead>\n  <tbody>\n    <tr>\n      <th>0</th>\n      <td>Tyler Weworski  Scottsdale, AZ</td>\n      <td>-16</td>\n    </tr>\n    <tr>\n      <th>1</th>\n      <td>Sahith Theegala  Chino Hills, CA</td>\n      <td>-15</td>\n    </tr>\n  </tbody>\n</table>\n</div>",
            "text/plain": "                               Name  Score\n0    Tyler Weworski  Scottsdale, AZ    -16\n1  Sahith Theegala  Chino Hills, CA    -15"
          },
          "metadata": {}
        }
      ]
    },
    {
      "metadata": {
        "trusted": true
      },
      "cell_type": "code",
      "source": "df_made_cut.Name = df_made_cut.Name.str.split(\"  \",expand=True)[0]\ndf_made_cut.head()\n",
      "execution_count": 10,
      "outputs": [
        {
          "output_type": "execute_result",
          "execution_count": 10,
          "data": {
            "text/html": "<div>\n<style scoped>\n    .dataframe tbody tr th:only-of-type {\n        vertical-align: middle;\n    }\n\n    .dataframe tbody tr th {\n        vertical-align: top;\n    }\n\n    .dataframe thead th {\n        text-align: right;\n    }\n</style>\n<table border=\"1\" class=\"dataframe\">\n  <thead>\n    <tr style=\"text-align: right;\">\n      <th></th>\n      <th>Name</th>\n      <th>Score</th>\n    </tr>\n  </thead>\n  <tbody>\n    <tr>\n      <th>0</th>\n      <td>Tyler Weworski</td>\n      <td>-16</td>\n    </tr>\n    <tr>\n      <th>1</th>\n      <td>Sahith Theegala</td>\n      <td>-15</td>\n    </tr>\n    <tr>\n      <th>2</th>\n      <td>Alistair Docherty</td>\n      <td>-14</td>\n    </tr>\n    <tr>\n      <th>3</th>\n      <td>Daniel Hudson</td>\n      <td>-13</td>\n    </tr>\n    <tr>\n      <th>4</th>\n      <td>Sam Saunders</td>\n      <td>-12</td>\n    </tr>\n  </tbody>\n</table>\n</div>",
            "text/plain": "                Name  Score\n0     Tyler Weworski    -16\n1    Sahith Theegala    -15\n2  Alistair Docherty    -14\n3      Daniel Hudson    -13\n4       Sam Saunders    -12"
          },
          "metadata": {}
        }
      ]
    },
    {
      "metadata": {
        "trusted": true
      },
      "cell_type": "code",
      "source": "if post_cut:\n    #replace name with what appears in DK\n    #To make sure names match, replace all names in df_odds with actual DK names in df\n    from difflib import get_close_matches\n    #df['Name'] = \"\"\n    for i in np.arange(len(df_made_cut)):\n        curr_name = df_made_cut['Name'].iloc[i]\n        try:\n            new_name = get_close_matches(curr_name,df['Name'],cutoff=.8)[0]\n            if new_name != curr_name:\n                print(\"{} replaced with {}\".format(curr_name,new_name))\n        except:\n            new_name = 'No Name'\n            print('NO MATCH: curr_name = {}, new_name = {}'.format(curr_name,new_name))\n        df_made_cut['Name'].iloc[i] = new_name\n    #df2['Name'] = df2['Name'].apply(lambda x: get_close_matches(x,df2_sal['Name']))\n    print(df_made_cut.head(5))",
      "execution_count": 11,
      "outputs": [
        {
          "output_type": "stream",
          "text": "/home/nbuser/anaconda3_501/lib/python3.6/site-packages/pandas/core/indexing.py:189: SettingWithCopyWarning: \nA value is trying to be set on a copy of a slice from a DataFrame\n\nSee the caveats in the documentation: http://pandas.pydata.org/pandas-docs/stable/indexing.html#indexing-view-versus-copy\n  self._setitem_with_indexer(indexer, value)\n",
          "name": "stderr"
        },
        {
          "output_type": "stream",
          "text": "Sam Saunders replaced with Samuel Saunders\nTrevor Lampson (a) replaced with Trevor Lampson\n                Name  Score\n0     Tyler Weworski    -16\n1    Sahith Theegala    -15\n2  Alistair Docherty    -14\n3      Daniel Hudson    -13\n4    Samuel Saunders    -12\n",
          "name": "stdout"
        }
      ]
    },
    {
      "metadata": {
        "trusted": true
      },
      "cell_type": "code",
      "source": "made_cut_names = list(df_made_cut.Name.dropna())\nprint(len(made_cut_names))\nmade_cut_names[:5]",
      "execution_count": 12,
      "outputs": [
        {
          "output_type": "stream",
          "text": "24\n",
          "name": "stdout"
        },
        {
          "output_type": "execute_result",
          "execution_count": 12,
          "data": {
            "text/plain": "['Tyler Weworski',\n 'Sahith Theegala',\n 'Alistair Docherty',\n 'Daniel Hudson',\n 'Samuel Saunders']"
          },
          "metadata": {}
        }
      ]
    },
    {
      "metadata": {
        "trusted": true
      },
      "cell_type": "code",
      "source": "len(df[df.Name.isin(made_cut_names)])",
      "execution_count": 13,
      "outputs": [
        {
          "output_type": "execute_result",
          "execution_count": 13,
          "data": {
            "text/plain": "24"
          },
          "metadata": {}
        }
      ]
    },
    {
      "metadata": {},
      "cell_type": "markdown",
      "source": "### Add odds\n\nManually create csv from https://smartgolfbets.com/tournament-sheets/, label name column as \"Name\" to match DK format, and only keep columns with Odds, e.g. Odds1, Odds2"
    },
    {
      "metadata": {
        "trusted": true
      },
      "cell_type": "code",
      "source": "# df_odds = pd.read_csv('Data/Outlaw_odds_20200413.csv')\n# df_odds.rename(columns={'Odds1':'Odds'},inplace=True)\ndf_odds = pd.read_csv('Data/Outlaw_odds_20200601.csv')\ndf_odds.iloc[np.r_[0:4,-4:0]]",
      "execution_count": 14,
      "outputs": [
        {
          "output_type": "execute_result",
          "execution_count": 14,
          "data": {
            "text/html": "<div>\n<style scoped>\n    .dataframe tbody tr th:only-of-type {\n        vertical-align: middle;\n    }\n\n    .dataframe tbody tr th {\n        vertical-align: top;\n    }\n\n    .dataframe thead th {\n        text-align: right;\n    }\n</style>\n<table border=\"1\" class=\"dataframe\">\n  <thead>\n    <tr style=\"text-align: right;\">\n      <th></th>\n      <th>Name</th>\n      <th>Odds</th>\n    </tr>\n  </thead>\n  <tbody>\n    <tr>\n      <th>0</th>\n      <td>Brady Calkins</td>\n      <td>7.0</td>\n    </tr>\n    <tr>\n      <th>1</th>\n      <td>Sahith Theegala</td>\n      <td>7.5</td>\n    </tr>\n    <tr>\n      <th>2</th>\n      <td>Tyler Weworski</td>\n      <td>9.5</td>\n    </tr>\n    <tr>\n      <th>3</th>\n      <td>Nicolo Galletti</td>\n      <td>11.0</td>\n    </tr>\n    <tr>\n      <th>43</th>\n      <td>Anthony Quezada</td>\n      <td>401.0</td>\n    </tr>\n    <tr>\n      <th>44</th>\n      <td>Matt Lutz</td>\n      <td>401.0</td>\n    </tr>\n    <tr>\n      <th>45</th>\n      <td>Adam Petrocelli</td>\n      <td>751.0</td>\n    </tr>\n    <tr>\n      <th>46</th>\n      <td>Alex Trevino</td>\n      <td>751.0</td>\n    </tr>\n  </tbody>\n</table>\n</div>",
            "text/plain": "               Name   Odds\n0     Brady Calkins    7.0\n1   Sahith Theegala    7.5\n2    Tyler Weworski    9.5\n3   Nicolo Galletti   11.0\n43  Anthony Quezada  401.0\n44        Matt Lutz  401.0\n45  Adam Petrocelli  751.0\n46     Alex Trevino  751.0"
          },
          "metadata": {}
        }
      ]
    },
    {
      "metadata": {
        "trusted": true
      },
      "cell_type": "code",
      "source": "#df_odds.Odds = df_odds.Odds.str.replace(',','').astype(float)\ndf_odds.Odds = df_odds.Odds.astype(str).str.replace(',','').astype(float)\ndf_odds.iloc[np.r_[0:2,-2:0]]",
      "execution_count": 15,
      "outputs": [
        {
          "output_type": "execute_result",
          "execution_count": 15,
          "data": {
            "text/html": "<div>\n<style scoped>\n    .dataframe tbody tr th:only-of-type {\n        vertical-align: middle;\n    }\n\n    .dataframe tbody tr th {\n        vertical-align: top;\n    }\n\n    .dataframe thead th {\n        text-align: right;\n    }\n</style>\n<table border=\"1\" class=\"dataframe\">\n  <thead>\n    <tr style=\"text-align: right;\">\n      <th></th>\n      <th>Name</th>\n      <th>Odds</th>\n    </tr>\n  </thead>\n  <tbody>\n    <tr>\n      <th>0</th>\n      <td>Brady Calkins</td>\n      <td>7.0</td>\n    </tr>\n    <tr>\n      <th>1</th>\n      <td>Sahith Theegala</td>\n      <td>7.5</td>\n    </tr>\n    <tr>\n      <th>45</th>\n      <td>Adam Petrocelli</td>\n      <td>751.0</td>\n    </tr>\n    <tr>\n      <th>46</th>\n      <td>Alex Trevino</td>\n      <td>751.0</td>\n    </tr>\n  </tbody>\n</table>\n</div>",
            "text/plain": "               Name   Odds\n0     Brady Calkins    7.0\n1   Sahith Theegala    7.5\n45  Adam Petrocelli  751.0\n46     Alex Trevino  751.0"
          },
          "metadata": {}
        }
      ]
    },
    {
      "metadata": {
        "trusted": true
      },
      "cell_type": "code",
      "source": "#strip trailing whiktespace\ndf_odds.Name.iloc[0]",
      "execution_count": 16,
      "outputs": [
        {
          "output_type": "execute_result",
          "execution_count": 16,
          "data": {
            "text/plain": "'Brady Calkins'"
          },
          "metadata": {}
        }
      ]
    },
    {
      "metadata": {
        "trusted": true
      },
      "cell_type": "code",
      "source": "df_odds.Name = df_odds.Name.str.rstrip()\ndf_odds.Name.iloc[0]",
      "execution_count": 17,
      "outputs": [
        {
          "output_type": "execute_result",
          "execution_count": 17,
          "data": {
            "text/plain": "'Brady Calkins'"
          },
          "metadata": {}
        }
      ]
    },
    {
      "metadata": {
        "trusted": true
      },
      "cell_type": "code",
      "source": "#Change to regular odds\nif df_odds.Odds.min()>100:\n    df_odds.Odds = df_odds.Odds / 100\ndf_odds.head(3)",
      "execution_count": 18,
      "outputs": [
        {
          "output_type": "execute_result",
          "execution_count": 18,
          "data": {
            "text/html": "<div>\n<style scoped>\n    .dataframe tbody tr th:only-of-type {\n        vertical-align: middle;\n    }\n\n    .dataframe tbody tr th {\n        vertical-align: top;\n    }\n\n    .dataframe thead th {\n        text-align: right;\n    }\n</style>\n<table border=\"1\" class=\"dataframe\">\n  <thead>\n    <tr style=\"text-align: right;\">\n      <th></th>\n      <th>Name</th>\n      <th>Odds</th>\n    </tr>\n  </thead>\n  <tbody>\n    <tr>\n      <th>0</th>\n      <td>Brady Calkins</td>\n      <td>7.0</td>\n    </tr>\n    <tr>\n      <th>1</th>\n      <td>Sahith Theegala</td>\n      <td>7.5</td>\n    </tr>\n    <tr>\n      <th>2</th>\n      <td>Tyler Weworski</td>\n      <td>9.5</td>\n    </tr>\n  </tbody>\n</table>\n</div>",
            "text/plain": "              Name  Odds\n0    Brady Calkins   7.0\n1  Sahith Theegala   7.5\n2   Tyler Weworski   9.5"
          },
          "metadata": {}
        }
      ]
    },
    {
      "metadata": {
        "trusted": true
      },
      "cell_type": "code",
      "source": "#If anyone is repeated, just keep their higher odds\ndf_odds = df_odds.groupby('Name')['Odds'].max().reset_index().dropna()\n#df_odds.rename(columns={'Odds2':'Odds'},inplace=True)\ndf_odds.head()",
      "execution_count": 19,
      "outputs": [
        {
          "output_type": "execute_result",
          "execution_count": 19,
          "data": {
            "text/html": "<div>\n<style scoped>\n    .dataframe tbody tr th:only-of-type {\n        vertical-align: middle;\n    }\n\n    .dataframe tbody tr th {\n        vertical-align: top;\n    }\n\n    .dataframe thead th {\n        text-align: right;\n    }\n</style>\n<table border=\"1\" class=\"dataframe\">\n  <thead>\n    <tr style=\"text-align: right;\">\n      <th></th>\n      <th>Name</th>\n      <th>Odds</th>\n    </tr>\n  </thead>\n  <tbody>\n    <tr>\n      <th>0</th>\n      <td>Adam Petrocelli</td>\n      <td>751.0</td>\n    </tr>\n    <tr>\n      <th>1</th>\n      <td>Alex Lobeck</td>\n      <td>151.0</td>\n    </tr>\n    <tr>\n      <th>2</th>\n      <td>Alex Trevino</td>\n      <td>751.0</td>\n    </tr>\n    <tr>\n      <th>3</th>\n      <td>Alistair Docherty</td>\n      <td>12.0</td>\n    </tr>\n    <tr>\n      <th>4</th>\n      <td>Andrew Funk</td>\n      <td>19.0</td>\n    </tr>\n  </tbody>\n</table>\n</div>",
            "text/plain": "                Name   Odds\n0    Adam Petrocelli  751.0\n1        Alex Lobeck  151.0\n2       Alex Trevino  751.0\n3  Alistair Docherty   12.0\n4        Andrew Funk   19.0"
          },
          "metadata": {}
        }
      ]
    },
    {
      "metadata": {
        "trusted": true
      },
      "cell_type": "code",
      "source": "df_odds[df_odds.Odds.isnull()]",
      "execution_count": 20,
      "outputs": [
        {
          "output_type": "execute_result",
          "execution_count": 20,
          "data": {
            "text/html": "<div>\n<style scoped>\n    .dataframe tbody tr th:only-of-type {\n        vertical-align: middle;\n    }\n\n    .dataframe tbody tr th {\n        vertical-align: top;\n    }\n\n    .dataframe thead th {\n        text-align: right;\n    }\n</style>\n<table border=\"1\" class=\"dataframe\">\n  <thead>\n    <tr style=\"text-align: right;\">\n      <th></th>\n      <th>Name</th>\n      <th>Odds</th>\n    </tr>\n  </thead>\n  <tbody>\n  </tbody>\n</table>\n</div>",
            "text/plain": "Empty DataFrame\nColumns: [Name, Odds]\nIndex: []"
          },
          "metadata": {}
        }
      ]
    },
    {
      "metadata": {
        "trusted": true
      },
      "cell_type": "code",
      "source": "#To make sure names match, replace all names in df_odds with actual DK names in df\nfrom difflib import get_close_matches\n#df['Name'] = \"\"\nfor i in np.arange(len(df_odds)):\n    curr_name = df_odds['Name'].iloc[i]\n    try:\n        new_name = get_close_matches(curr_name,df['Name'],cutoff=.75)[0]\n        if new_name != curr_name:\n            print(\"{} replaced with {}\".format(curr_name,new_name))\n    except:\n        new_name = 'No Name'\n        print('NO MATCH: curr_name = {}, new_name = {}'.format(curr_name,new_name))\n    df_odds['Name'].iloc[i] = new_name\n#df2['Name'] = df2['Name'].apply(lambda x: get_close_matches(x,df2_sal['Name']))\ndf_odds.head(5)",
      "execution_count": 21,
      "outputs": [
        {
          "output_type": "stream",
          "text": "NO MATCH: curr_name = Adam Petrocelli, new_name = No Name\nNO MATCH: curr_name = Alex Lobeck, new_name = No Name\nNO MATCH: curr_name = Anthony Quezada, new_name = No Name\nNO MATCH: curr_name = Barry Enright, new_name = No Name\nNO MATCH: curr_name = Caleb Ramirez, new_name = No Name\nNO MATCH: curr_name = Chris Korte, new_name = No Name\nNO MATCH: curr_name = Derek Ackerman, new_name = No Name\nNO MATCH: curr_name = Jack McDevitt, new_name = No Name\nNO MATCH: curr_name = Jacob Loya, new_name = No Name\nNO MATCH: curr_name = Jeff Nichols, new_name = No Name\nNO MATCH: curr_name = Marty Sanchez, new_name = No Name\nNO MATCH: curr_name = Matt McClung, new_name = No Name\nNO MATCH: curr_name = Matthew Snyder, new_name = No Name\nNO MATCH: curr_name = Michael McGowan, new_name = No Name\nNO MATCH: curr_name = Mitchel Carlson, new_name = No Name\nNO MATCH: curr_name = Noah Hofman, new_name = No Name\nNO MATCH: curr_name = Oliver Roberts, new_name = No Name\nNO MATCH: curr_name = RJ Wood, new_name = No Name\nNO MATCH: curr_name = Ryan Wallen, new_name = No Name\nNO MATCH: curr_name = Sean Carlon, new_name = No Name\nSteve Alker replaced with Steven Alker\nNO MATCH: curr_name = TJ Kathrineberg, new_name = No Name\nNO MATCH: curr_name = TJ Nolan, new_name = No Name\nNO MATCH: curr_name = Tristan Stone, new_name = No Name\nNO MATCH: curr_name = Zach Gaugert, new_name = No Name\n",
          "name": "stdout"
        },
        {
          "output_type": "execute_result",
          "execution_count": 21,
          "data": {
            "text/html": "<div>\n<style scoped>\n    .dataframe tbody tr th:only-of-type {\n        vertical-align: middle;\n    }\n\n    .dataframe tbody tr th {\n        vertical-align: top;\n    }\n\n    .dataframe thead th {\n        text-align: right;\n    }\n</style>\n<table border=\"1\" class=\"dataframe\">\n  <thead>\n    <tr style=\"text-align: right;\">\n      <th></th>\n      <th>Name</th>\n      <th>Odds</th>\n    </tr>\n  </thead>\n  <tbody>\n    <tr>\n      <th>0</th>\n      <td>No Name</td>\n      <td>751.0</td>\n    </tr>\n    <tr>\n      <th>1</th>\n      <td>No Name</td>\n      <td>151.0</td>\n    </tr>\n    <tr>\n      <th>2</th>\n      <td>Alex Trevino</td>\n      <td>751.0</td>\n    </tr>\n    <tr>\n      <th>3</th>\n      <td>Alistair Docherty</td>\n      <td>12.0</td>\n    </tr>\n    <tr>\n      <th>4</th>\n      <td>Andrew Funk</td>\n      <td>19.0</td>\n    </tr>\n  </tbody>\n</table>\n</div>",
            "text/plain": "                Name   Odds\n0            No Name  751.0\n1            No Name  151.0\n2       Alex Trevino  751.0\n3  Alistair Docherty   12.0\n4        Andrew Funk   19.0"
          },
          "metadata": {}
        }
      ]
    },
    {
      "metadata": {
        "trusted": true
      },
      "cell_type": "code",
      "source": "df[df.Name.str.contains('Doyle')]",
      "execution_count": 22,
      "outputs": [
        {
          "output_type": "execute_result",
          "execution_count": 22,
          "data": {
            "text/html": "<div>\n<style scoped>\n    .dataframe tbody tr th:only-of-type {\n        vertical-align: middle;\n    }\n\n    .dataframe tbody tr th {\n        vertical-align: top;\n    }\n\n    .dataframe thead th {\n        text-align: right;\n    }\n</style>\n<table border=\"1\" class=\"dataframe\">\n  <thead>\n    <tr style=\"text-align: right;\">\n      <th></th>\n      <th>Position</th>\n      <th>Name + ID</th>\n      <th>Name</th>\n      <th>ID</th>\n      <th>Roster Position</th>\n      <th>Salary</th>\n      <th>Game Info</th>\n      <th>TeamAbbrev</th>\n      <th>AvgPointsPerGame</th>\n    </tr>\n  </thead>\n  <tbody>\n  </tbody>\n</table>\n</div>",
            "text/plain": "Empty DataFrame\nColumns: [Position, Name + ID, Name, ID, Roster Position, Salary, Game Info, TeamAbbrev, AvgPointsPerGame]\nIndex: []"
          },
          "metadata": {}
        }
      ]
    },
    {
      "metadata": {
        "trusted": true
      },
      "cell_type": "code",
      "source": "#Add odds to df\ndf_all = pd.merge(df,df_odds,how='left')\ndf_all.head()",
      "execution_count": 23,
      "outputs": [
        {
          "output_type": "execute_result",
          "execution_count": 23,
          "data": {
            "text/html": "<div>\n<style scoped>\n    .dataframe tbody tr th:only-of-type {\n        vertical-align: middle;\n    }\n\n    .dataframe tbody tr th {\n        vertical-align: top;\n    }\n\n    .dataframe thead th {\n        text-align: right;\n    }\n</style>\n<table border=\"1\" class=\"dataframe\">\n  <thead>\n    <tr style=\"text-align: right;\">\n      <th></th>\n      <th>Position</th>\n      <th>Name + ID</th>\n      <th>Name</th>\n      <th>ID</th>\n      <th>Roster Position</th>\n      <th>Salary</th>\n      <th>Game Info</th>\n      <th>TeamAbbrev</th>\n      <th>AvgPointsPerGame</th>\n      <th>Odds</th>\n    </tr>\n  </thead>\n  <tbody>\n    <tr>\n      <th>0</th>\n      <td>G</td>\n      <td>Sahith Theegala (14591201)</td>\n      <td>Sahith Theegala</td>\n      <td>14591201</td>\n      <td>G</td>\n      <td>10400</td>\n      <td>Lone Tree Classic</td>\n      <td>Golf</td>\n      <td>0</td>\n      <td>7.5</td>\n    </tr>\n    <tr>\n      <th>1</th>\n      <td>G</td>\n      <td>Alistair Docherty (14591202)</td>\n      <td>Alistair Docherty</td>\n      <td>14591202</td>\n      <td>G</td>\n      <td>10200</td>\n      <td>Lone Tree Classic</td>\n      <td>Golf</td>\n      <td>0</td>\n      <td>12.0</td>\n    </tr>\n    <tr>\n      <th>2</th>\n      <td>G</td>\n      <td>Brady Calkins (14591203)</td>\n      <td>Brady Calkins</td>\n      <td>14591203</td>\n      <td>G</td>\n      <td>10000</td>\n      <td>Lone Tree Classic</td>\n      <td>Golf</td>\n      <td>0</td>\n      <td>7.0</td>\n    </tr>\n    <tr>\n      <th>3</th>\n      <td>G</td>\n      <td>Tyler Weworski (14591204)</td>\n      <td>Tyler Weworski</td>\n      <td>14591204</td>\n      <td>G</td>\n      <td>9700</td>\n      <td>Lone Tree Classic</td>\n      <td>Golf</td>\n      <td>0</td>\n      <td>9.5</td>\n    </tr>\n    <tr>\n      <th>4</th>\n      <td>G</td>\n      <td>Nicolo Galletti (14591205)</td>\n      <td>Nicolo Galletti</td>\n      <td>14591205</td>\n      <td>G</td>\n      <td>9400</td>\n      <td>Lone Tree Classic</td>\n      <td>Golf</td>\n      <td>0</td>\n      <td>11.0</td>\n    </tr>\n  </tbody>\n</table>\n</div>",
            "text/plain": "  Position                     Name + ID               Name        ID  \\\n0        G    Sahith Theegala (14591201)    Sahith Theegala  14591201   \n1        G  Alistair Docherty (14591202)  Alistair Docherty  14591202   \n2        G      Brady Calkins (14591203)      Brady Calkins  14591203   \n3        G     Tyler Weworski (14591204)     Tyler Weworski  14591204   \n4        G    Nicolo Galletti (14591205)    Nicolo Galletti  14591205   \n\n  Roster Position  Salary          Game Info TeamAbbrev  AvgPointsPerGame  \\\n0               G   10400  Lone Tree Classic       Golf                 0   \n1               G   10200  Lone Tree Classic       Golf                 0   \n2               G   10000  Lone Tree Classic       Golf                 0   \n3               G    9700  Lone Tree Classic       Golf                 0   \n4               G    9400  Lone Tree Classic       Golf                 0   \n\n   Odds  \n0   7.5  \n1  12.0  \n2   7.0  \n3   9.5  \n4  11.0  "
          },
          "metadata": {}
        }
      ]
    },
    {
      "metadata": {
        "trusted": true
      },
      "cell_type": "code",
      "source": "len(df_all[df_all.Name.isin(made_cut_names)])",
      "execution_count": 24,
      "outputs": [
        {
          "output_type": "execute_result",
          "execution_count": 24,
          "data": {
            "text/plain": "24"
          },
          "metadata": {}
        }
      ]
    },
    {
      "metadata": {
        "trusted": true
      },
      "cell_type": "code",
      "source": "df_all[df_all.Name.isin(made_cut_names)].tail()",
      "execution_count": 25,
      "outputs": [
        {
          "output_type": "execute_result",
          "execution_count": 25,
          "data": {
            "text/html": "<div>\n<style scoped>\n    .dataframe tbody tr th:only-of-type {\n        vertical-align: middle;\n    }\n\n    .dataframe tbody tr th {\n        vertical-align: top;\n    }\n\n    .dataframe thead th {\n        text-align: right;\n    }\n</style>\n<table border=\"1\" class=\"dataframe\">\n  <thead>\n    <tr style=\"text-align: right;\">\n      <th></th>\n      <th>Position</th>\n      <th>Name + ID</th>\n      <th>Name</th>\n      <th>ID</th>\n      <th>Roster Position</th>\n      <th>Salary</th>\n      <th>Game Info</th>\n      <th>TeamAbbrev</th>\n      <th>AvgPointsPerGame</th>\n      <th>Odds</th>\n    </tr>\n  </thead>\n  <tbody>\n    <tr>\n      <th>19</th>\n      <td>G</td>\n      <td>Chris Figueroa (14591220)</td>\n      <td>Chris Figueroa</td>\n      <td>14591220</td>\n      <td>G</td>\n      <td>6400</td>\n      <td>Lone Tree Classic</td>\n      <td>Golf</td>\n      <td>0</td>\n      <td>81.0</td>\n    </tr>\n    <tr>\n      <th>20</th>\n      <td>G</td>\n      <td>Mitchell Homb (14591221)</td>\n      <td>Mitchell Homb</td>\n      <td>14591221</td>\n      <td>G</td>\n      <td>6300</td>\n      <td>Lone Tree Classic</td>\n      <td>Golf</td>\n      <td>0</td>\n      <td>141.0</td>\n    </tr>\n    <tr>\n      <th>21</th>\n      <td>G</td>\n      <td>Roy Cootes (14591222)</td>\n      <td>Roy Cootes</td>\n      <td>14591222</td>\n      <td>G</td>\n      <td>6200</td>\n      <td>Lone Tree Classic</td>\n      <td>Golf</td>\n      <td>0</td>\n      <td>301.0</td>\n    </tr>\n    <tr>\n      <th>22</th>\n      <td>G</td>\n      <td>Alex Trevino (14591223)</td>\n      <td>Alex Trevino</td>\n      <td>14591223</td>\n      <td>G</td>\n      <td>6100</td>\n      <td>Lone Tree Classic</td>\n      <td>Golf</td>\n      <td>0</td>\n      <td>751.0</td>\n    </tr>\n    <tr>\n      <th>23</th>\n      <td>G</td>\n      <td>Matt Lutz (14591224)</td>\n      <td>Matt Lutz</td>\n      <td>14591224</td>\n      <td>G</td>\n      <td>6000</td>\n      <td>Lone Tree Classic</td>\n      <td>Golf</td>\n      <td>0</td>\n      <td>401.0</td>\n    </tr>\n  </tbody>\n</table>\n</div>",
            "text/plain": "   Position                  Name + ID            Name        ID  \\\n19        G  Chris Figueroa (14591220)  Chris Figueroa  14591220   \n20        G   Mitchell Homb (14591221)   Mitchell Homb  14591221   \n21        G      Roy Cootes (14591222)      Roy Cootes  14591222   \n22        G    Alex Trevino (14591223)    Alex Trevino  14591223   \n23        G       Matt Lutz (14591224)       Matt Lutz  14591224   \n\n   Roster Position  Salary          Game Info TeamAbbrev  AvgPointsPerGame  \\\n19               G    6400  Lone Tree Classic       Golf                 0   \n20               G    6300  Lone Tree Classic       Golf                 0   \n21               G    6200  Lone Tree Classic       Golf                 0   \n22               G    6100  Lone Tree Classic       Golf                 0   \n23               G    6000  Lone Tree Classic       Golf                 0   \n\n     Odds  \n19   81.0  \n20  141.0  \n21  301.0  \n22  751.0  \n23  401.0  "
          },
          "metadata": {}
        }
      ]
    },
    {
      "metadata": {
        "trusted": true
      },
      "cell_type": "code",
      "source": "#See if anyone has MADE CUT but has NO ODDS\ndf_all[(df_all.Odds.isnull())&(df_all.Name.isin(made_cut_names))]",
      "execution_count": 26,
      "outputs": [
        {
          "output_type": "execute_result",
          "execution_count": 26,
          "data": {
            "text/html": "<div>\n<style scoped>\n    .dataframe tbody tr th:only-of-type {\n        vertical-align: middle;\n    }\n\n    .dataframe tbody tr th {\n        vertical-align: top;\n    }\n\n    .dataframe thead th {\n        text-align: right;\n    }\n</style>\n<table border=\"1\" class=\"dataframe\">\n  <thead>\n    <tr style=\"text-align: right;\">\n      <th></th>\n      <th>Position</th>\n      <th>Name + ID</th>\n      <th>Name</th>\n      <th>ID</th>\n      <th>Roster Position</th>\n      <th>Salary</th>\n      <th>Game Info</th>\n      <th>TeamAbbrev</th>\n      <th>AvgPointsPerGame</th>\n      <th>Odds</th>\n    </tr>\n  </thead>\n  <tbody>\n    <tr>\n      <th>14</th>\n      <td>G</td>\n      <td>Brandon Bauman (14591215)</td>\n      <td>Brandon Bauman</td>\n      <td>14591215</td>\n      <td>G</td>\n      <td>7100</td>\n      <td>Lone Tree Classic</td>\n      <td>Golf</td>\n      <td>0</td>\n      <td>NaN</td>\n    </tr>\n  </tbody>\n</table>\n</div>",
            "text/plain": "   Position                  Name + ID            Name        ID  \\\n14        G  Brandon Bauman (14591215)  Brandon Bauman  14591215   \n\n   Roster Position  Salary          Game Info TeamAbbrev  AvgPointsPerGame  \\\n14               G    7100  Lone Tree Classic       Golf                 0   \n\n    Odds  \n14   NaN  "
          },
          "metadata": {}
        }
      ]
    },
    {
      "metadata": {
        "trusted": true
      },
      "cell_type": "code",
      "source": "df_all['Win'] = 1 / (df_all.Odds+1)\ndf_all.head()",
      "execution_count": 27,
      "outputs": [
        {
          "output_type": "execute_result",
          "execution_count": 27,
          "data": {
            "text/html": "<div>\n<style scoped>\n    .dataframe tbody tr th:only-of-type {\n        vertical-align: middle;\n    }\n\n    .dataframe tbody tr th {\n        vertical-align: top;\n    }\n\n    .dataframe thead th {\n        text-align: right;\n    }\n</style>\n<table border=\"1\" class=\"dataframe\">\n  <thead>\n    <tr style=\"text-align: right;\">\n      <th></th>\n      <th>Position</th>\n      <th>Name + ID</th>\n      <th>Name</th>\n      <th>ID</th>\n      <th>Roster Position</th>\n      <th>Salary</th>\n      <th>Game Info</th>\n      <th>TeamAbbrev</th>\n      <th>AvgPointsPerGame</th>\n      <th>Odds</th>\n      <th>Win</th>\n    </tr>\n  </thead>\n  <tbody>\n    <tr>\n      <th>0</th>\n      <td>G</td>\n      <td>Sahith Theegala (14591201)</td>\n      <td>Sahith Theegala</td>\n      <td>14591201</td>\n      <td>G</td>\n      <td>10400</td>\n      <td>Lone Tree Classic</td>\n      <td>Golf</td>\n      <td>0</td>\n      <td>7.5</td>\n      <td>0.117647</td>\n    </tr>\n    <tr>\n      <th>1</th>\n      <td>G</td>\n      <td>Alistair Docherty (14591202)</td>\n      <td>Alistair Docherty</td>\n      <td>14591202</td>\n      <td>G</td>\n      <td>10200</td>\n      <td>Lone Tree Classic</td>\n      <td>Golf</td>\n      <td>0</td>\n      <td>12.0</td>\n      <td>0.076923</td>\n    </tr>\n    <tr>\n      <th>2</th>\n      <td>G</td>\n      <td>Brady Calkins (14591203)</td>\n      <td>Brady Calkins</td>\n      <td>14591203</td>\n      <td>G</td>\n      <td>10000</td>\n      <td>Lone Tree Classic</td>\n      <td>Golf</td>\n      <td>0</td>\n      <td>7.0</td>\n      <td>0.125000</td>\n    </tr>\n    <tr>\n      <th>3</th>\n      <td>G</td>\n      <td>Tyler Weworski (14591204)</td>\n      <td>Tyler Weworski</td>\n      <td>14591204</td>\n      <td>G</td>\n      <td>9700</td>\n      <td>Lone Tree Classic</td>\n      <td>Golf</td>\n      <td>0</td>\n      <td>9.5</td>\n      <td>0.095238</td>\n    </tr>\n    <tr>\n      <th>4</th>\n      <td>G</td>\n      <td>Nicolo Galletti (14591205)</td>\n      <td>Nicolo Galletti</td>\n      <td>14591205</td>\n      <td>G</td>\n      <td>9400</td>\n      <td>Lone Tree Classic</td>\n      <td>Golf</td>\n      <td>0</td>\n      <td>11.0</td>\n      <td>0.083333</td>\n    </tr>\n  </tbody>\n</table>\n</div>",
            "text/plain": "  Position                     Name + ID               Name        ID  \\\n0        G    Sahith Theegala (14591201)    Sahith Theegala  14591201   \n1        G  Alistair Docherty (14591202)  Alistair Docherty  14591202   \n2        G      Brady Calkins (14591203)      Brady Calkins  14591203   \n3        G     Tyler Weworski (14591204)     Tyler Weworski  14591204   \n4        G    Nicolo Galletti (14591205)    Nicolo Galletti  14591205   \n\n  Roster Position  Salary          Game Info TeamAbbrev  AvgPointsPerGame  \\\n0               G   10400  Lone Tree Classic       Golf                 0   \n1               G   10200  Lone Tree Classic       Golf                 0   \n2               G   10000  Lone Tree Classic       Golf                 0   \n3               G    9700  Lone Tree Classic       Golf                 0   \n4               G    9400  Lone Tree Classic       Golf                 0   \n\n   Odds       Win  \n0   7.5  0.117647  \n1  12.0  0.076923  \n2   7.0  0.125000  \n3   9.5  0.095238  \n4  11.0  0.083333  "
          },
          "metadata": {}
        }
      ]
    },
    {
      "metadata": {
        "trusted": true,
        "scrolled": false
      },
      "cell_type": "code",
      "source": "df_all.iloc[np.r_[0:6,-3:0]]",
      "execution_count": 28,
      "outputs": [
        {
          "output_type": "execute_result",
          "execution_count": 28,
          "data": {
            "text/html": "<div>\n<style scoped>\n    .dataframe tbody tr th:only-of-type {\n        vertical-align: middle;\n    }\n\n    .dataframe tbody tr th {\n        vertical-align: top;\n    }\n\n    .dataframe thead th {\n        text-align: right;\n    }\n</style>\n<table border=\"1\" class=\"dataframe\">\n  <thead>\n    <tr style=\"text-align: right;\">\n      <th></th>\n      <th>Position</th>\n      <th>Name + ID</th>\n      <th>Name</th>\n      <th>ID</th>\n      <th>Roster Position</th>\n      <th>Salary</th>\n      <th>Game Info</th>\n      <th>TeamAbbrev</th>\n      <th>AvgPointsPerGame</th>\n      <th>Odds</th>\n      <th>Win</th>\n    </tr>\n  </thead>\n  <tbody>\n    <tr>\n      <th>0</th>\n      <td>G</td>\n      <td>Sahith Theegala (14591201)</td>\n      <td>Sahith Theegala</td>\n      <td>14591201</td>\n      <td>G</td>\n      <td>10400</td>\n      <td>Lone Tree Classic</td>\n      <td>Golf</td>\n      <td>0</td>\n      <td>7.5</td>\n      <td>0.117647</td>\n    </tr>\n    <tr>\n      <th>1</th>\n      <td>G</td>\n      <td>Alistair Docherty (14591202)</td>\n      <td>Alistair Docherty</td>\n      <td>14591202</td>\n      <td>G</td>\n      <td>10200</td>\n      <td>Lone Tree Classic</td>\n      <td>Golf</td>\n      <td>0</td>\n      <td>12.0</td>\n      <td>0.076923</td>\n    </tr>\n    <tr>\n      <th>2</th>\n      <td>G</td>\n      <td>Brady Calkins (14591203)</td>\n      <td>Brady Calkins</td>\n      <td>14591203</td>\n      <td>G</td>\n      <td>10000</td>\n      <td>Lone Tree Classic</td>\n      <td>Golf</td>\n      <td>0</td>\n      <td>7.0</td>\n      <td>0.125000</td>\n    </tr>\n    <tr>\n      <th>3</th>\n      <td>G</td>\n      <td>Tyler Weworski (14591204)</td>\n      <td>Tyler Weworski</td>\n      <td>14591204</td>\n      <td>G</td>\n      <td>9700</td>\n      <td>Lone Tree Classic</td>\n      <td>Golf</td>\n      <td>0</td>\n      <td>9.5</td>\n      <td>0.095238</td>\n    </tr>\n    <tr>\n      <th>4</th>\n      <td>G</td>\n      <td>Nicolo Galletti (14591205)</td>\n      <td>Nicolo Galletti</td>\n      <td>14591205</td>\n      <td>G</td>\n      <td>9400</td>\n      <td>Lone Tree Classic</td>\n      <td>Golf</td>\n      <td>0</td>\n      <td>11.0</td>\n      <td>0.083333</td>\n    </tr>\n    <tr>\n      <th>5</th>\n      <td>G</td>\n      <td>Andrew Funk (14591206)</td>\n      <td>Andrew Funk</td>\n      <td>14591206</td>\n      <td>G</td>\n      <td>9200</td>\n      <td>Lone Tree Classic</td>\n      <td>Golf</td>\n      <td>0</td>\n      <td>19.0</td>\n      <td>0.050000</td>\n    </tr>\n    <tr>\n      <th>21</th>\n      <td>G</td>\n      <td>Roy Cootes (14591222)</td>\n      <td>Roy Cootes</td>\n      <td>14591222</td>\n      <td>G</td>\n      <td>6200</td>\n      <td>Lone Tree Classic</td>\n      <td>Golf</td>\n      <td>0</td>\n      <td>301.0</td>\n      <td>0.003311</td>\n    </tr>\n    <tr>\n      <th>22</th>\n      <td>G</td>\n      <td>Alex Trevino (14591223)</td>\n      <td>Alex Trevino</td>\n      <td>14591223</td>\n      <td>G</td>\n      <td>6100</td>\n      <td>Lone Tree Classic</td>\n      <td>Golf</td>\n      <td>0</td>\n      <td>751.0</td>\n      <td>0.001330</td>\n    </tr>\n    <tr>\n      <th>23</th>\n      <td>G</td>\n      <td>Matt Lutz (14591224)</td>\n      <td>Matt Lutz</td>\n      <td>14591224</td>\n      <td>G</td>\n      <td>6000</td>\n      <td>Lone Tree Classic</td>\n      <td>Golf</td>\n      <td>0</td>\n      <td>401.0</td>\n      <td>0.002488</td>\n    </tr>\n  </tbody>\n</table>\n</div>",
            "text/plain": "   Position                     Name + ID               Name        ID  \\\n0         G    Sahith Theegala (14591201)    Sahith Theegala  14591201   \n1         G  Alistair Docherty (14591202)  Alistair Docherty  14591202   \n2         G      Brady Calkins (14591203)      Brady Calkins  14591203   \n3         G     Tyler Weworski (14591204)     Tyler Weworski  14591204   \n4         G    Nicolo Galletti (14591205)    Nicolo Galletti  14591205   \n5         G        Andrew Funk (14591206)        Andrew Funk  14591206   \n21        G         Roy Cootes (14591222)         Roy Cootes  14591222   \n22        G       Alex Trevino (14591223)       Alex Trevino  14591223   \n23        G          Matt Lutz (14591224)          Matt Lutz  14591224   \n\n   Roster Position  Salary          Game Info TeamAbbrev  AvgPointsPerGame  \\\n0                G   10400  Lone Tree Classic       Golf                 0   \n1                G   10200  Lone Tree Classic       Golf                 0   \n2                G   10000  Lone Tree Classic       Golf                 0   \n3                G    9700  Lone Tree Classic       Golf                 0   \n4                G    9400  Lone Tree Classic       Golf                 0   \n5                G    9200  Lone Tree Classic       Golf                 0   \n21               G    6200  Lone Tree Classic       Golf                 0   \n22               G    6100  Lone Tree Classic       Golf                 0   \n23               G    6000  Lone Tree Classic       Golf                 0   \n\n     Odds       Win  \n0     7.5  0.117647  \n1    12.0  0.076923  \n2     7.0  0.125000  \n3     9.5  0.095238  \n4    11.0  0.083333  \n5    19.0  0.050000  \n21  301.0  0.003311  \n22  751.0  0.001330  \n23  401.0  0.002488  "
          },
          "metadata": {}
        }
      ]
    },
    {
      "metadata": {
        "trusted": true
      },
      "cell_type": "code",
      "source": "len(df_all[df_all.Name.isin(made_cut_names)])",
      "execution_count": 29,
      "outputs": [
        {
          "output_type": "execute_result",
          "execution_count": 29,
          "data": {
            "text/plain": "24"
          },
          "metadata": {}
        }
      ]
    },
    {
      "metadata": {
        "trusted": true,
        "scrolled": false
      },
      "cell_type": "code",
      "source": "df_all = df_all[~df_all.Odds.isnull()]",
      "execution_count": 30,
      "outputs": []
    },
    {
      "metadata": {},
      "cell_type": "markdown",
      "source": "### Add projected points per trained polynomial model"
    },
    {
      "metadata": {
        "trusted": true
      },
      "cell_type": "code",
      "source": "#cap odds at 1000\ndf_all.Odds = np.where(df_all.Odds>1000,\n                       1000,\n                      df_all.Odds)",
      "execution_count": 31,
      "outputs": []
    },
    {
      "metadata": {
        "trusted": true
      },
      "cell_type": "code",
      "source": "#fitted model\nimport pickle\npkl_filename = 'outlaw_proj_model.pkl'\noutlaw_proj_model_pkl = open(pkl_filename, 'rb')\noutlaw_proj_model = pickle.load(outlaw_proj_model_pkl)\noutlaw_proj_model",
      "execution_count": 32,
      "outputs": [
        {
          "output_type": "execute_result",
          "execution_count": 32,
          "data": {
            "text/plain": "LinearRegression(copy_X=True, fit_intercept=True, n_jobs=None,\n         normalize=False)"
          },
          "metadata": {}
        }
      ]
    },
    {
      "metadata": {
        "trusted": true
      },
      "cell_type": "code",
      "source": "from sklearn.preprocessing import PolynomialFeatures  \npoly = PolynomialFeatures(degree = 4) \ndf_all['Points'] = outlaw_proj_model.predict(poly.fit_transform(df_all[['Odds']]))\ndf_all.iloc[np.r_[0:4,-4:0]]",
      "execution_count": 33,
      "outputs": [
        {
          "output_type": "execute_result",
          "execution_count": 33,
          "data": {
            "text/html": "<div>\n<style scoped>\n    .dataframe tbody tr th:only-of-type {\n        vertical-align: middle;\n    }\n\n    .dataframe tbody tr th {\n        vertical-align: top;\n    }\n\n    .dataframe thead th {\n        text-align: right;\n    }\n</style>\n<table border=\"1\" class=\"dataframe\">\n  <thead>\n    <tr style=\"text-align: right;\">\n      <th></th>\n      <th>Position</th>\n      <th>Name + ID</th>\n      <th>Name</th>\n      <th>ID</th>\n      <th>Roster Position</th>\n      <th>Salary</th>\n      <th>Game Info</th>\n      <th>TeamAbbrev</th>\n      <th>AvgPointsPerGame</th>\n      <th>Odds</th>\n      <th>Win</th>\n      <th>Points</th>\n    </tr>\n  </thead>\n  <tbody>\n    <tr>\n      <th>0</th>\n      <td>G</td>\n      <td>Sahith Theegala (14591201)</td>\n      <td>Sahith Theegala</td>\n      <td>14591201</td>\n      <td>G</td>\n      <td>10400</td>\n      <td>Lone Tree Classic</td>\n      <td>Golf</td>\n      <td>0</td>\n      <td>7.5</td>\n      <td>0.117647</td>\n      <td>7.414324</td>\n    </tr>\n    <tr>\n      <th>1</th>\n      <td>G</td>\n      <td>Alistair Docherty (14591202)</td>\n      <td>Alistair Docherty</td>\n      <td>14591202</td>\n      <td>G</td>\n      <td>10200</td>\n      <td>Lone Tree Classic</td>\n      <td>Golf</td>\n      <td>0</td>\n      <td>12.0</td>\n      <td>0.076923</td>\n      <td>7.142664</td>\n    </tr>\n    <tr>\n      <th>2</th>\n      <td>G</td>\n      <td>Brady Calkins (14591203)</td>\n      <td>Brady Calkins</td>\n      <td>14591203</td>\n      <td>G</td>\n      <td>10000</td>\n      <td>Lone Tree Classic</td>\n      <td>Golf</td>\n      <td>0</td>\n      <td>7.0</td>\n      <td>0.125000</td>\n      <td>7.444730</td>\n    </tr>\n    <tr>\n      <th>3</th>\n      <td>G</td>\n      <td>Tyler Weworski (14591204)</td>\n      <td>Tyler Weworski</td>\n      <td>14591204</td>\n      <td>G</td>\n      <td>9700</td>\n      <td>Lone Tree Classic</td>\n      <td>Golf</td>\n      <td>0</td>\n      <td>9.5</td>\n      <td>0.095238</td>\n      <td>7.293144</td>\n    </tr>\n    <tr>\n      <th>20</th>\n      <td>G</td>\n      <td>Mitchell Homb (14591221)</td>\n      <td>Mitchell Homb</td>\n      <td>14591221</td>\n      <td>G</td>\n      <td>6300</td>\n      <td>Lone Tree Classic</td>\n      <td>Golf</td>\n      <td>0</td>\n      <td>141.0</td>\n      <td>0.007042</td>\n      <td>0.749564</td>\n    </tr>\n    <tr>\n      <th>21</th>\n      <td>G</td>\n      <td>Roy Cootes (14591222)</td>\n      <td>Roy Cootes</td>\n      <td>14591222</td>\n      <td>G</td>\n      <td>6200</td>\n      <td>Lone Tree Classic</td>\n      <td>Golf</td>\n      <td>0</td>\n      <td>301.0</td>\n      <td>0.003311</td>\n      <td>-4.158537</td>\n    </tr>\n    <tr>\n      <th>22</th>\n      <td>G</td>\n      <td>Alex Trevino (14591223)</td>\n      <td>Alex Trevino</td>\n      <td>14591223</td>\n      <td>G</td>\n      <td>6100</td>\n      <td>Lone Tree Classic</td>\n      <td>Golf</td>\n      <td>0</td>\n      <td>751.0</td>\n      <td>0.001330</td>\n      <td>-8.811721</td>\n    </tr>\n    <tr>\n      <th>23</th>\n      <td>G</td>\n      <td>Matt Lutz (14591224)</td>\n      <td>Matt Lutz</td>\n      <td>14591224</td>\n      <td>G</td>\n      <td>6000</td>\n      <td>Lone Tree Classic</td>\n      <td>Golf</td>\n      <td>0</td>\n      <td>401.0</td>\n      <td>0.002488</td>\n      <td>-6.012670</td>\n    </tr>\n  </tbody>\n</table>\n</div>",
            "text/plain": "   Position                     Name + ID               Name        ID  \\\n0         G    Sahith Theegala (14591201)    Sahith Theegala  14591201   \n1         G  Alistair Docherty (14591202)  Alistair Docherty  14591202   \n2         G      Brady Calkins (14591203)      Brady Calkins  14591203   \n3         G     Tyler Weworski (14591204)     Tyler Weworski  14591204   \n20        G      Mitchell Homb (14591221)      Mitchell Homb  14591221   \n21        G         Roy Cootes (14591222)         Roy Cootes  14591222   \n22        G       Alex Trevino (14591223)       Alex Trevino  14591223   \n23        G          Matt Lutz (14591224)          Matt Lutz  14591224   \n\n   Roster Position  Salary          Game Info TeamAbbrev  AvgPointsPerGame  \\\n0                G   10400  Lone Tree Classic       Golf                 0   \n1                G   10200  Lone Tree Classic       Golf                 0   \n2                G   10000  Lone Tree Classic       Golf                 0   \n3                G    9700  Lone Tree Classic       Golf                 0   \n20               G    6300  Lone Tree Classic       Golf                 0   \n21               G    6200  Lone Tree Classic       Golf                 0   \n22               G    6100  Lone Tree Classic       Golf                 0   \n23               G    6000  Lone Tree Classic       Golf                 0   \n\n     Odds       Win    Points  \n0     7.5  0.117647  7.414324  \n1    12.0  0.076923  7.142664  \n2     7.0  0.125000  7.444730  \n3     9.5  0.095238  7.293144  \n20  141.0  0.007042  0.749564  \n21  301.0  0.003311 -4.158537  \n22  751.0  0.001330 -8.811721  \n23  401.0  0.002488 -6.012670  "
          },
          "metadata": {}
        }
      ]
    },
    {
      "metadata": {
        "trusted": true
      },
      "cell_type": "code",
      "source": "df_all=df_all[['Name + ID',\n              'Name',\n              'Salary',\n              'Odds',\n              'Win',\n              'Points']]\ndf_all.head()",
      "execution_count": 34,
      "outputs": [
        {
          "output_type": "execute_result",
          "execution_count": 34,
          "data": {
            "text/html": "<div>\n<style scoped>\n    .dataframe tbody tr th:only-of-type {\n        vertical-align: middle;\n    }\n\n    .dataframe tbody tr th {\n        vertical-align: top;\n    }\n\n    .dataframe thead th {\n        text-align: right;\n    }\n</style>\n<table border=\"1\" class=\"dataframe\">\n  <thead>\n    <tr style=\"text-align: right;\">\n      <th></th>\n      <th>Name + ID</th>\n      <th>Name</th>\n      <th>Salary</th>\n      <th>Odds</th>\n      <th>Win</th>\n      <th>Points</th>\n    </tr>\n  </thead>\n  <tbody>\n    <tr>\n      <th>0</th>\n      <td>Sahith Theegala (14591201)</td>\n      <td>Sahith Theegala</td>\n      <td>10400</td>\n      <td>7.5</td>\n      <td>0.117647</td>\n      <td>7.414324</td>\n    </tr>\n    <tr>\n      <th>1</th>\n      <td>Alistair Docherty (14591202)</td>\n      <td>Alistair Docherty</td>\n      <td>10200</td>\n      <td>12.0</td>\n      <td>0.076923</td>\n      <td>7.142664</td>\n    </tr>\n    <tr>\n      <th>2</th>\n      <td>Brady Calkins (14591203)</td>\n      <td>Brady Calkins</td>\n      <td>10000</td>\n      <td>7.0</td>\n      <td>0.125000</td>\n      <td>7.444730</td>\n    </tr>\n    <tr>\n      <th>3</th>\n      <td>Tyler Weworski (14591204)</td>\n      <td>Tyler Weworski</td>\n      <td>9700</td>\n      <td>9.5</td>\n      <td>0.095238</td>\n      <td>7.293144</td>\n    </tr>\n    <tr>\n      <th>4</th>\n      <td>Nicolo Galletti (14591205)</td>\n      <td>Nicolo Galletti</td>\n      <td>9400</td>\n      <td>11.0</td>\n      <td>0.083333</td>\n      <td>7.202724</td>\n    </tr>\n  </tbody>\n</table>\n</div>",
            "text/plain": "                      Name + ID               Name  Salary  Odds       Win  \\\n0    Sahith Theegala (14591201)    Sahith Theegala   10400   7.5  0.117647   \n1  Alistair Docherty (14591202)  Alistair Docherty   10200  12.0  0.076923   \n2      Brady Calkins (14591203)      Brady Calkins   10000   7.0  0.125000   \n3     Tyler Weworski (14591204)     Tyler Weworski    9700   9.5  0.095238   \n4    Nicolo Galletti (14591205)    Nicolo Galletti    9400  11.0  0.083333   \n\n     Points  \n0  7.414324  \n1  7.142664  \n2  7.444730  \n3  7.293144  \n4  7.202724  "
          },
          "metadata": {}
        }
      ]
    },
    {
      "metadata": {
        "trusted": true
      },
      "cell_type": "code",
      "source": "",
      "execution_count": null,
      "outputs": []
    },
    {
      "metadata": {
        "trusted": true
      },
      "cell_type": "code",
      "source": "len(df_all)",
      "execution_count": 35,
      "outputs": [
        {
          "output_type": "execute_result",
          "execution_count": 35,
          "data": {
            "text/plain": "23"
          },
          "metadata": {}
        }
      ]
    },
    {
      "metadata": {},
      "cell_type": "markdown",
      "source": "### Add tee times and adjusted points\nAdjust by -0.64 pts per hr"
    },
    {
      "metadata": {
        "trusted": true
      },
      "cell_type": "code",
      "source": "df_tees = pd.read_csv('Data/golf_tee_times_20200526.csv',encoding='latin')\ndf_tees.head(8)",
      "execution_count": 36,
      "outputs": [
        {
          "output_type": "execute_result",
          "execution_count": 36,
          "data": {
            "text/html": "<div>\n<style scoped>\n    .dataframe tbody tr th:only-of-type {\n        vertical-align: middle;\n    }\n\n    .dataframe tbody tr th {\n        vertical-align: top;\n    }\n\n    .dataframe thead th {\n        text-align: right;\n    }\n</style>\n<table border=\"1\" class=\"dataframe\">\n  <thead>\n    <tr style=\"text-align: right;\">\n      <th></th>\n      <th>Name</th>\n      <th>Tee</th>\n      <th>Round</th>\n      <th>Pairing</th>\n    </tr>\n  </thead>\n  <tbody>\n    <tr>\n      <th>0</th>\n      <td>BA</td>\n      <td>NaN</td>\n      <td>1.0</td>\n      <td>Blake Allen, Austin Bautista, Perry Cohen</td>\n    </tr>\n    <tr>\n      <th>1</th>\n      <td>Blake Allen</td>\n      <td>9:27 AM</td>\n      <td>NaN</td>\n      <td>NaN</td>\n    </tr>\n    <tr>\n      <th>2</th>\n      <td>Lenexa, KS</td>\n      <td>NaN</td>\n      <td>NaN</td>\n      <td>NaN</td>\n    </tr>\n    <tr>\n      <th>3</th>\n      <td>ZA</td>\n      <td>NaN</td>\n      <td>1.0</td>\n      <td>Mitchel Carlson, Luke Kristo, Zach Allred</td>\n    </tr>\n    <tr>\n      <th>4</th>\n      <td>Zach Allred</td>\n      <td>12:51 PM</td>\n      <td>NaN</td>\n      <td>NaN</td>\n    </tr>\n    <tr>\n      <th>5</th>\n      <td>Colorado Springs, CO</td>\n      <td>NaN</td>\n      <td>NaN</td>\n      <td>NaN</td>\n    </tr>\n    <tr>\n      <th>6</th>\n      <td>JA</td>\n      <td>NaN</td>\n      <td>1.0</td>\n      <td>Matthew Liringis, John Greco, James Andrews</td>\n    </tr>\n    <tr>\n      <th>7</th>\n      <td>James Andrews</td>\n      <td>9:36 AM</td>\n      <td>NaN</td>\n      <td>NaN</td>\n    </tr>\n  </tbody>\n</table>\n</div>",
            "text/plain": "                   Name       Tee  Round  \\\n0                    BA       NaN    1.0   \n1           Blake Allen   9:27 AM    NaN   \n2            Lenexa, KS       NaN    NaN   \n3                    ZA       NaN    1.0   \n4           Zach Allred  12:51 PM    NaN   \n5  Colorado Springs, CO       NaN    NaN   \n6                    JA       NaN    1.0   \n7         James Andrews   9:36 AM    NaN   \n\n                                       Pairing  \n0    Blake Allen, Austin Bautista, Perry Cohen  \n1                                          NaN  \n2                                          NaN  \n3    Mitchel Carlson, Luke Kristo, Zach Allred  \n4                                          NaN  \n5                                          NaN  \n6  Matthew Liringis, John Greco, James Andrews  \n7                                          NaN  "
          },
          "metadata": {}
        }
      ]
    },
    {
      "metadata": {
        "trusted": true
      },
      "cell_type": "code",
      "source": "df_tees2 = df_tees[['Name','Tee']].dropna().reset_index(drop=True)\ndf_tees2.iloc[np.r_[0:5,-5:0]]",
      "execution_count": 37,
      "outputs": [
        {
          "output_type": "execute_result",
          "execution_count": 37,
          "data": {
            "text/html": "<div>\n<style scoped>\n    .dataframe tbody tr th:only-of-type {\n        vertical-align: middle;\n    }\n\n    .dataframe tbody tr th {\n        vertical-align: top;\n    }\n\n    .dataframe thead th {\n        text-align: right;\n    }\n</style>\n<table border=\"1\" class=\"dataframe\">\n  <thead>\n    <tr style=\"text-align: right;\">\n      <th></th>\n      <th>Name</th>\n      <th>Tee</th>\n    </tr>\n  </thead>\n  <tbody>\n    <tr>\n      <th>0</th>\n      <td>Blake Allen</td>\n      <td>9:27 AM</td>\n    </tr>\n    <tr>\n      <th>1</th>\n      <td>Zach Allred</td>\n      <td>12:51 PM</td>\n    </tr>\n    <tr>\n      <th>2</th>\n      <td>James Andrews</td>\n      <td>9:36 AM</td>\n    </tr>\n    <tr>\n      <th>3</th>\n      <td>Nick Arman</td>\n      <td>12:09 PM</td>\n    </tr>\n    <tr>\n      <th>4</th>\n      <td>Peter Badawy</td>\n      <td>9:09 AM</td>\n    </tr>\n    <tr>\n      <th>69</th>\n      <td>Tyler Weworski</td>\n      <td>12:33 PM</td>\n    </tr>\n    <tr>\n      <th>70</th>\n      <td>Riley Wheeldon</td>\n      <td>11:00 AM</td>\n    </tr>\n    <tr>\n      <th>71</th>\n      <td>Blake Woods</td>\n      <td>10:42 AM</td>\n    </tr>\n    <tr>\n      <th>72</th>\n      <td>Norman Xiong</td>\n      <td>12:24 PM</td>\n    </tr>\n    <tr>\n      <th>73</th>\n      <td>Colton Yates</td>\n      <td>11:18 AM</td>\n    </tr>\n  </tbody>\n</table>\n</div>",
            "text/plain": "              Name       Tee\n0      Blake Allen   9:27 AM\n1      Zach Allred  12:51 PM\n2    James Andrews   9:36 AM\n3       Nick Arman  12:09 PM\n4     Peter Badawy   9:09 AM\n69  Tyler Weworski  12:33 PM\n70  Riley Wheeldon  11:00 AM\n71     Blake Woods  10:42 AM\n72    Norman Xiong  12:24 PM\n73    Colton Yates  11:18 AM"
          },
          "metadata": {}
        }
      ]
    },
    {
      "metadata": {
        "trusted": true
      },
      "cell_type": "code",
      "source": "#replace names with what appears in df_all\nfor i in np.arange(len(df_tees2)):\n    curr_name = df_tees2['Name'].iloc[i]\n    try:\n        new_name = get_close_matches(curr_name,df_all['Name'],cutoff=.85)[0]\n        if new_name != curr_name:\n            _\n            print(\"{} replaced with {}\".format(curr_name,new_name))\n    except:\n        new_name = 'No Name'\n        #print('NO MATCH: curr_name = {}, new_name = {}'.format(curr_name,new_name))\n    df_tees2['Name'].iloc[i] = new_name\n#df2['Name'] = df2['Name'].apply(lambda x: get_close_matches(x,df2_sal['Name']))\ndf_tees2.head(5)",
      "execution_count": 38,
      "outputs": [
        {
          "output_type": "stream",
          "text": "Sam Saunders replaced with Samuel Saunders\n",
          "name": "stdout"
        },
        {
          "output_type": "execute_result",
          "execution_count": 38,
          "data": {
            "text/html": "<div>\n<style scoped>\n    .dataframe tbody tr th:only-of-type {\n        vertical-align: middle;\n    }\n\n    .dataframe tbody tr th {\n        vertical-align: top;\n    }\n\n    .dataframe thead th {\n        text-align: right;\n    }\n</style>\n<table border=\"1\" class=\"dataframe\">\n  <thead>\n    <tr style=\"text-align: right;\">\n      <th></th>\n      <th>Name</th>\n      <th>Tee</th>\n    </tr>\n  </thead>\n  <tbody>\n    <tr>\n      <th>0</th>\n      <td>Blake Allen</td>\n      <td>9:27 AM</td>\n    </tr>\n    <tr>\n      <th>1</th>\n      <td>No Name</td>\n      <td>12:51 PM</td>\n    </tr>\n    <tr>\n      <th>2</th>\n      <td>No Name</td>\n      <td>9:36 AM</td>\n    </tr>\n    <tr>\n      <th>3</th>\n      <td>No Name</td>\n      <td>12:09 PM</td>\n    </tr>\n    <tr>\n      <th>4</th>\n      <td>No Name</td>\n      <td>9:09 AM</td>\n    </tr>\n  </tbody>\n</table>\n</div>",
            "text/plain": "          Name       Tee\n0  Blake Allen   9:27 AM\n1      No Name  12:51 PM\n2      No Name   9:36 AM\n3      No Name  12:09 PM\n4      No Name   9:09 AM"
          },
          "metadata": {}
        }
      ]
    },
    {
      "metadata": {
        "trusted": true
      },
      "cell_type": "code",
      "source": "tee_times=dict(zip(df_tees2.Name,\n                  df_tees2.Tee))\ndf_all['Tee']=df_all.Name.map(tee_times)\ndf_all.head(11)",
      "execution_count": 39,
      "outputs": [
        {
          "output_type": "execute_result",
          "execution_count": 39,
          "data": {
            "text/html": "<div>\n<style scoped>\n    .dataframe tbody tr th:only-of-type {\n        vertical-align: middle;\n    }\n\n    .dataframe tbody tr th {\n        vertical-align: top;\n    }\n\n    .dataframe thead th {\n        text-align: right;\n    }\n</style>\n<table border=\"1\" class=\"dataframe\">\n  <thead>\n    <tr style=\"text-align: right;\">\n      <th></th>\n      <th>Name + ID</th>\n      <th>Name</th>\n      <th>Salary</th>\n      <th>Odds</th>\n      <th>Win</th>\n      <th>Points</th>\n      <th>Tee</th>\n    </tr>\n  </thead>\n  <tbody>\n    <tr>\n      <th>0</th>\n      <td>Sahith Theegala (14591201)</td>\n      <td>Sahith Theegala</td>\n      <td>10400</td>\n      <td>7.5</td>\n      <td>0.117647</td>\n      <td>7.414324</td>\n      <td>NaN</td>\n    </tr>\n    <tr>\n      <th>1</th>\n      <td>Alistair Docherty (14591202)</td>\n      <td>Alistair Docherty</td>\n      <td>10200</td>\n      <td>12.0</td>\n      <td>0.076923</td>\n      <td>7.142664</td>\n      <td>11:18 AM</td>\n    </tr>\n    <tr>\n      <th>2</th>\n      <td>Brady Calkins (14591203)</td>\n      <td>Brady Calkins</td>\n      <td>10000</td>\n      <td>7.0</td>\n      <td>0.125000</td>\n      <td>7.444730</td>\n      <td>9:18 AM</td>\n    </tr>\n    <tr>\n      <th>3</th>\n      <td>Tyler Weworski (14591204)</td>\n      <td>Tyler Weworski</td>\n      <td>9700</td>\n      <td>9.5</td>\n      <td>0.095238</td>\n      <td>7.293144</td>\n      <td>12:33 PM</td>\n    </tr>\n    <tr>\n      <th>4</th>\n      <td>Nicolo Galletti (14591205)</td>\n      <td>Nicolo Galletti</td>\n      <td>9400</td>\n      <td>11.0</td>\n      <td>0.083333</td>\n      <td>7.202724</td>\n      <td>11:18 AM</td>\n    </tr>\n    <tr>\n      <th>5</th>\n      <td>Andrew Funk (14591206)</td>\n      <td>Andrew Funk</td>\n      <td>9200</td>\n      <td>19.0</td>\n      <td>0.050000</td>\n      <td>6.727161</td>\n      <td>11:00 AM</td>\n    </tr>\n    <tr>\n      <th>6</th>\n      <td>Neil Johnson (14591207)</td>\n      <td>Neil Johnson</td>\n      <td>9000</td>\n      <td>15.0</td>\n      <td>0.062500</td>\n      <td>6.963542</td>\n      <td>12:00 PM</td>\n    </tr>\n    <tr>\n      <th>7</th>\n      <td>Mark Baldwin (14591208)</td>\n      <td>Mark Baldwin</td>\n      <td>8700</td>\n      <td>12.0</td>\n      <td>0.076923</td>\n      <td>7.142664</td>\n      <td>NaN</td>\n    </tr>\n    <tr>\n      <th>8</th>\n      <td>Samuel Saunders (14591209)</td>\n      <td>Samuel Saunders</td>\n      <td>8400</td>\n      <td>65.0</td>\n      <td>0.015152</td>\n      <td>4.202951</td>\n      <td>12:24 PM</td>\n    </tr>\n    <tr>\n      <th>9</th>\n      <td>Trevor Lampson (14591210)</td>\n      <td>Trevor Lampson</td>\n      <td>8100</td>\n      <td>21.0</td>\n      <td>0.045455</td>\n      <td>6.610014</td>\n      <td>NaN</td>\n    </tr>\n    <tr>\n      <th>10</th>\n      <td>Kolton Lapa (14591211)</td>\n      <td>Kolton Lapa</td>\n      <td>7900</td>\n      <td>26.0</td>\n      <td>0.037037</td>\n      <td>6.320169</td>\n      <td>NaN</td>\n    </tr>\n  </tbody>\n</table>\n</div>",
            "text/plain": "                       Name + ID               Name  Salary  Odds       Win  \\\n0     Sahith Theegala (14591201)    Sahith Theegala   10400   7.5  0.117647   \n1   Alistair Docherty (14591202)  Alistair Docherty   10200  12.0  0.076923   \n2       Brady Calkins (14591203)      Brady Calkins   10000   7.0  0.125000   \n3      Tyler Weworski (14591204)     Tyler Weworski    9700   9.5  0.095238   \n4     Nicolo Galletti (14591205)    Nicolo Galletti    9400  11.0  0.083333   \n5         Andrew Funk (14591206)        Andrew Funk    9200  19.0  0.050000   \n6        Neil Johnson (14591207)       Neil Johnson    9000  15.0  0.062500   \n7        Mark Baldwin (14591208)       Mark Baldwin    8700  12.0  0.076923   \n8     Samuel Saunders (14591209)    Samuel Saunders    8400  65.0  0.015152   \n9      Trevor Lampson (14591210)     Trevor Lampson    8100  21.0  0.045455   \n10        Kolton Lapa (14591211)        Kolton Lapa    7900  26.0  0.037037   \n\n      Points       Tee  \n0   7.414324       NaN  \n1   7.142664  11:18 AM  \n2   7.444730   9:18 AM  \n3   7.293144  12:33 PM  \n4   7.202724  11:18 AM  \n5   6.727161  11:00 AM  \n6   6.963542  12:00 PM  \n7   7.142664       NaN  \n8   4.202951  12:24 PM  \n9   6.610014       NaN  \n10  6.320169       NaN  "
          },
          "metadata": {}
        }
      ]
    },
    {
      "metadata": {
        "trusted": true
      },
      "cell_type": "code",
      "source": "t =pd.to_datetime(df_all.Tee)\ntd_ser = t-t.min()\ndf_all['tee_delay'] = [td.seconds/3600 for td in td_ser]\ndf_all.head()",
      "execution_count": 40,
      "outputs": [
        {
          "output_type": "execute_result",
          "execution_count": 40,
          "data": {
            "text/html": "<div>\n<style scoped>\n    .dataframe tbody tr th:only-of-type {\n        vertical-align: middle;\n    }\n\n    .dataframe tbody tr th {\n        vertical-align: top;\n    }\n\n    .dataframe thead th {\n        text-align: right;\n    }\n</style>\n<table border=\"1\" class=\"dataframe\">\n  <thead>\n    <tr style=\"text-align: right;\">\n      <th></th>\n      <th>Name + ID</th>\n      <th>Name</th>\n      <th>Salary</th>\n      <th>Odds</th>\n      <th>Win</th>\n      <th>Points</th>\n      <th>Tee</th>\n      <th>tee_delay</th>\n    </tr>\n  </thead>\n  <tbody>\n    <tr>\n      <th>0</th>\n      <td>Sahith Theegala (14591201)</td>\n      <td>Sahith Theegala</td>\n      <td>10400</td>\n      <td>7.5</td>\n      <td>0.117647</td>\n      <td>7.414324</td>\n      <td>NaN</td>\n      <td>NaN</td>\n    </tr>\n    <tr>\n      <th>1</th>\n      <td>Alistair Docherty (14591202)</td>\n      <td>Alistair Docherty</td>\n      <td>10200</td>\n      <td>12.0</td>\n      <td>0.076923</td>\n      <td>7.142664</td>\n      <td>11:18 AM</td>\n      <td>2.00</td>\n    </tr>\n    <tr>\n      <th>2</th>\n      <td>Brady Calkins (14591203)</td>\n      <td>Brady Calkins</td>\n      <td>10000</td>\n      <td>7.0</td>\n      <td>0.125000</td>\n      <td>7.444730</td>\n      <td>9:18 AM</td>\n      <td>0.00</td>\n    </tr>\n    <tr>\n      <th>3</th>\n      <td>Tyler Weworski (14591204)</td>\n      <td>Tyler Weworski</td>\n      <td>9700</td>\n      <td>9.5</td>\n      <td>0.095238</td>\n      <td>7.293144</td>\n      <td>12:33 PM</td>\n      <td>3.25</td>\n    </tr>\n    <tr>\n      <th>4</th>\n      <td>Nicolo Galletti (14591205)</td>\n      <td>Nicolo Galletti</td>\n      <td>9400</td>\n      <td>11.0</td>\n      <td>0.083333</td>\n      <td>7.202724</td>\n      <td>11:18 AM</td>\n      <td>2.00</td>\n    </tr>\n  </tbody>\n</table>\n</div>",
            "text/plain": "                      Name + ID               Name  Salary  Odds       Win  \\\n0    Sahith Theegala (14591201)    Sahith Theegala   10400   7.5  0.117647   \n1  Alistair Docherty (14591202)  Alistair Docherty   10200  12.0  0.076923   \n2      Brady Calkins (14591203)      Brady Calkins   10000   7.0  0.125000   \n3     Tyler Weworski (14591204)     Tyler Weworski    9700   9.5  0.095238   \n4    Nicolo Galletti (14591205)    Nicolo Galletti    9400  11.0  0.083333   \n\n     Points       Tee  tee_delay  \n0  7.414324       NaN        NaN  \n1  7.142664  11:18 AM       2.00  \n2  7.444730   9:18 AM       0.00  \n3  7.293144  12:33 PM       3.25  \n4  7.202724  11:18 AM       2.00  "
          },
          "metadata": {}
        }
      ]
    },
    {
      "metadata": {
        "trusted": true
      },
      "cell_type": "code",
      "source": "#Add adjusted points\npts_per_hr = 0\ndf_all['Points_adj'] = df_all.Points - pts_per_hr*df_all.tee_delay\ndf_all.head()",
      "execution_count": 41,
      "outputs": [
        {
          "output_type": "execute_result",
          "execution_count": 41,
          "data": {
            "text/html": "<div>\n<style scoped>\n    .dataframe tbody tr th:only-of-type {\n        vertical-align: middle;\n    }\n\n    .dataframe tbody tr th {\n        vertical-align: top;\n    }\n\n    .dataframe thead th {\n        text-align: right;\n    }\n</style>\n<table border=\"1\" class=\"dataframe\">\n  <thead>\n    <tr style=\"text-align: right;\">\n      <th></th>\n      <th>Name + ID</th>\n      <th>Name</th>\n      <th>Salary</th>\n      <th>Odds</th>\n      <th>Win</th>\n      <th>Points</th>\n      <th>Tee</th>\n      <th>tee_delay</th>\n      <th>Points_adj</th>\n    </tr>\n  </thead>\n  <tbody>\n    <tr>\n      <th>0</th>\n      <td>Sahith Theegala (14591201)</td>\n      <td>Sahith Theegala</td>\n      <td>10400</td>\n      <td>7.5</td>\n      <td>0.117647</td>\n      <td>7.414324</td>\n      <td>NaN</td>\n      <td>NaN</td>\n      <td>NaN</td>\n    </tr>\n    <tr>\n      <th>1</th>\n      <td>Alistair Docherty (14591202)</td>\n      <td>Alistair Docherty</td>\n      <td>10200</td>\n      <td>12.0</td>\n      <td>0.076923</td>\n      <td>7.142664</td>\n      <td>11:18 AM</td>\n      <td>2.00</td>\n      <td>7.142664</td>\n    </tr>\n    <tr>\n      <th>2</th>\n      <td>Brady Calkins (14591203)</td>\n      <td>Brady Calkins</td>\n      <td>10000</td>\n      <td>7.0</td>\n      <td>0.125000</td>\n      <td>7.444730</td>\n      <td>9:18 AM</td>\n      <td>0.00</td>\n      <td>7.444730</td>\n    </tr>\n    <tr>\n      <th>3</th>\n      <td>Tyler Weworski (14591204)</td>\n      <td>Tyler Weworski</td>\n      <td>9700</td>\n      <td>9.5</td>\n      <td>0.095238</td>\n      <td>7.293144</td>\n      <td>12:33 PM</td>\n      <td>3.25</td>\n      <td>7.293144</td>\n    </tr>\n    <tr>\n      <th>4</th>\n      <td>Nicolo Galletti (14591205)</td>\n      <td>Nicolo Galletti</td>\n      <td>9400</td>\n      <td>11.0</td>\n      <td>0.083333</td>\n      <td>7.202724</td>\n      <td>11:18 AM</td>\n      <td>2.00</td>\n      <td>7.202724</td>\n    </tr>\n  </tbody>\n</table>\n</div>",
            "text/plain": "                      Name + ID               Name  Salary  Odds       Win  \\\n0    Sahith Theegala (14591201)    Sahith Theegala   10400   7.5  0.117647   \n1  Alistair Docherty (14591202)  Alistair Docherty   10200  12.0  0.076923   \n2      Brady Calkins (14591203)      Brady Calkins   10000   7.0  0.125000   \n3     Tyler Weworski (14591204)     Tyler Weworski    9700   9.5  0.095238   \n4    Nicolo Galletti (14591205)    Nicolo Galletti    9400  11.0  0.083333   \n\n     Points       Tee  tee_delay  Points_adj  \n0  7.414324       NaN        NaN         NaN  \n1  7.142664  11:18 AM       2.00    7.142664  \n2  7.444730   9:18 AM       0.00    7.444730  \n3  7.293144  12:33 PM       3.25    7.293144  \n4  7.202724  11:18 AM       2.00    7.202724  "
          },
          "metadata": {}
        }
      ]
    },
    {
      "metadata": {},
      "cell_type": "markdown",
      "source": "### Now remove anyone cut"
    },
    {
      "metadata": {
        "trusted": true
      },
      "cell_type": "code",
      "source": "if post_cut:\n    #made_cut_list = made_cut.Name.tolist()\n    df_all = df_all[df_all.Name.isin(made_cut_names)]\n    print(len(df_all))\n    print(set(made_cut_names) - set(df.Name))\n    df_all\n    ",
      "execution_count": 42,
      "outputs": [
        {
          "output_type": "stream",
          "text": "23\nset()\n",
          "name": "stdout"
        }
      ]
    },
    {
      "metadata": {
        "trusted": true
      },
      "cell_type": "code",
      "source": "set(made_cut_names) - set(df_all.Name)",
      "execution_count": 43,
      "outputs": [
        {
          "output_type": "execute_result",
          "execution_count": 43,
          "data": {
            "text/plain": "{'Brandon Bauman'}"
          },
          "metadata": {}
        }
      ]
    },
    {
      "metadata": {
        "trusted": true
      },
      "cell_type": "code",
      "source": "df_all",
      "execution_count": 44,
      "outputs": [
        {
          "output_type": "execute_result",
          "execution_count": 44,
          "data": {
            "text/html": "<div>\n<style scoped>\n    .dataframe tbody tr th:only-of-type {\n        vertical-align: middle;\n    }\n\n    .dataframe tbody tr th {\n        vertical-align: top;\n    }\n\n    .dataframe thead th {\n        text-align: right;\n    }\n</style>\n<table border=\"1\" class=\"dataframe\">\n  <thead>\n    <tr style=\"text-align: right;\">\n      <th></th>\n      <th>Name + ID</th>\n      <th>Name</th>\n      <th>Salary</th>\n      <th>Odds</th>\n      <th>Win</th>\n      <th>Points</th>\n      <th>Tee</th>\n      <th>tee_delay</th>\n      <th>Points_adj</th>\n    </tr>\n  </thead>\n  <tbody>\n    <tr>\n      <th>0</th>\n      <td>Sahith Theegala (14591201)</td>\n      <td>Sahith Theegala</td>\n      <td>10400</td>\n      <td>7.5</td>\n      <td>0.117647</td>\n      <td>7.414324</td>\n      <td>NaN</td>\n      <td>NaN</td>\n      <td>NaN</td>\n    </tr>\n    <tr>\n      <th>1</th>\n      <td>Alistair Docherty (14591202)</td>\n      <td>Alistair Docherty</td>\n      <td>10200</td>\n      <td>12.0</td>\n      <td>0.076923</td>\n      <td>7.142664</td>\n      <td>11:18 AM</td>\n      <td>2.00</td>\n      <td>7.142664</td>\n    </tr>\n    <tr>\n      <th>2</th>\n      <td>Brady Calkins (14591203)</td>\n      <td>Brady Calkins</td>\n      <td>10000</td>\n      <td>7.0</td>\n      <td>0.125000</td>\n      <td>7.444730</td>\n      <td>9:18 AM</td>\n      <td>0.00</td>\n      <td>7.444730</td>\n    </tr>\n    <tr>\n      <th>3</th>\n      <td>Tyler Weworski (14591204)</td>\n      <td>Tyler Weworski</td>\n      <td>9700</td>\n      <td>9.5</td>\n      <td>0.095238</td>\n      <td>7.293144</td>\n      <td>12:33 PM</td>\n      <td>3.25</td>\n      <td>7.293144</td>\n    </tr>\n    <tr>\n      <th>4</th>\n      <td>Nicolo Galletti (14591205)</td>\n      <td>Nicolo Galletti</td>\n      <td>9400</td>\n      <td>11.0</td>\n      <td>0.083333</td>\n      <td>7.202724</td>\n      <td>11:18 AM</td>\n      <td>2.00</td>\n      <td>7.202724</td>\n    </tr>\n    <tr>\n      <th>5</th>\n      <td>Andrew Funk (14591206)</td>\n      <td>Andrew Funk</td>\n      <td>9200</td>\n      <td>19.0</td>\n      <td>0.050000</td>\n      <td>6.727161</td>\n      <td>11:00 AM</td>\n      <td>1.70</td>\n      <td>6.727161</td>\n    </tr>\n    <tr>\n      <th>6</th>\n      <td>Neil Johnson (14591207)</td>\n      <td>Neil Johnson</td>\n      <td>9000</td>\n      <td>15.0</td>\n      <td>0.062500</td>\n      <td>6.963542</td>\n      <td>12:00 PM</td>\n      <td>2.70</td>\n      <td>6.963542</td>\n    </tr>\n    <tr>\n      <th>7</th>\n      <td>Mark Baldwin (14591208)</td>\n      <td>Mark Baldwin</td>\n      <td>8700</td>\n      <td>12.0</td>\n      <td>0.076923</td>\n      <td>7.142664</td>\n      <td>NaN</td>\n      <td>NaN</td>\n      <td>NaN</td>\n    </tr>\n    <tr>\n      <th>8</th>\n      <td>Samuel Saunders (14591209)</td>\n      <td>Samuel Saunders</td>\n      <td>8400</td>\n      <td>65.0</td>\n      <td>0.015152</td>\n      <td>4.202951</td>\n      <td>12:24 PM</td>\n      <td>3.10</td>\n      <td>4.202951</td>\n    </tr>\n    <tr>\n      <th>9</th>\n      <td>Trevor Lampson (14591210)</td>\n      <td>Trevor Lampson</td>\n      <td>8100</td>\n      <td>21.0</td>\n      <td>0.045455</td>\n      <td>6.610014</td>\n      <td>NaN</td>\n      <td>NaN</td>\n      <td>NaN</td>\n    </tr>\n    <tr>\n      <th>10</th>\n      <td>Kolton Lapa (14591211)</td>\n      <td>Kolton Lapa</td>\n      <td>7900</td>\n      <td>26.0</td>\n      <td>0.037037</td>\n      <td>6.320169</td>\n      <td>NaN</td>\n      <td>NaN</td>\n      <td>NaN</td>\n    </tr>\n    <tr>\n      <th>11</th>\n      <td>Daniel Hudson (14591212)</td>\n      <td>Daniel Hudson</td>\n      <td>7700</td>\n      <td>34.0</td>\n      <td>0.028571</td>\n      <td>5.865303</td>\n      <td>NaN</td>\n      <td>NaN</td>\n      <td>NaN</td>\n    </tr>\n    <tr>\n      <th>12</th>\n      <td>Zander Winston (14591213)</td>\n      <td>Zander Winston</td>\n      <td>7500</td>\n      <td>19.0</td>\n      <td>0.050000</td>\n      <td>6.727161</td>\n      <td>NaN</td>\n      <td>NaN</td>\n      <td>NaN</td>\n    </tr>\n    <tr>\n      <th>13</th>\n      <td>Steven Alker (14591214)</td>\n      <td>Steven Alker</td>\n      <td>7300</td>\n      <td>17.0</td>\n      <td>0.055556</td>\n      <td>6.845003</td>\n      <td>NaN</td>\n      <td>NaN</td>\n      <td>NaN</td>\n    </tr>\n    <tr>\n      <th>15</th>\n      <td>Austin Bautista (14591216)</td>\n      <td>Austin Bautista</td>\n      <td>6900</td>\n      <td>61.0</td>\n      <td>0.016129</td>\n      <td>4.408708</td>\n      <td>9:27 AM</td>\n      <td>0.15</td>\n      <td>4.408708</td>\n    </tr>\n    <tr>\n      <th>16</th>\n      <td>Jino Sohn (14591217)</td>\n      <td>Jino Sohn</td>\n      <td>6700</td>\n      <td>126.0</td>\n      <td>0.007874</td>\n      <td>1.365752</td>\n      <td>NaN</td>\n      <td>NaN</td>\n      <td>NaN</td>\n    </tr>\n    <tr>\n      <th>17</th>\n      <td>Blake Allen (14591218)</td>\n      <td>Blake Allen</td>\n      <td>6600</td>\n      <td>80.0</td>\n      <td>0.012346</td>\n      <td>3.453690</td>\n      <td>9:27 AM</td>\n      <td>0.15</td>\n      <td>3.453690</td>\n    </tr>\n    <tr>\n      <th>18</th>\n      <td>Sam Gillis (14591219)</td>\n      <td>Sam Gillis</td>\n      <td>6500</td>\n      <td>56.0</td>\n      <td>0.017544</td>\n      <td>4.669490</td>\n      <td>10:27 AM</td>\n      <td>1.15</td>\n      <td>4.669490</td>\n    </tr>\n    <tr>\n      <th>19</th>\n      <td>Chris Figueroa (14591220)</td>\n      <td>Chris Figueroa</td>\n      <td>6400</td>\n      <td>81.0</td>\n      <td>0.012195</td>\n      <td>3.404975</td>\n      <td>NaN</td>\n      <td>NaN</td>\n      <td>NaN</td>\n    </tr>\n    <tr>\n      <th>20</th>\n      <td>Mitchell Homb (14591221)</td>\n      <td>Mitchell Homb</td>\n      <td>6300</td>\n      <td>141.0</td>\n      <td>0.007042</td>\n      <td>0.749564</td>\n      <td>NaN</td>\n      <td>NaN</td>\n      <td>NaN</td>\n    </tr>\n    <tr>\n      <th>21</th>\n      <td>Roy Cootes (14591222)</td>\n      <td>Roy Cootes</td>\n      <td>6200</td>\n      <td>301.0</td>\n      <td>0.003311</td>\n      <td>-4.158537</td>\n      <td>NaN</td>\n      <td>NaN</td>\n      <td>NaN</td>\n    </tr>\n    <tr>\n      <th>22</th>\n      <td>Alex Trevino (14591223)</td>\n      <td>Alex Trevino</td>\n      <td>6100</td>\n      <td>751.0</td>\n      <td>0.001330</td>\n      <td>-8.811721</td>\n      <td>NaN</td>\n      <td>NaN</td>\n      <td>NaN</td>\n    </tr>\n    <tr>\n      <th>23</th>\n      <td>Matt Lutz (14591224)</td>\n      <td>Matt Lutz</td>\n      <td>6000</td>\n      <td>401.0</td>\n      <td>0.002488</td>\n      <td>-6.012670</td>\n      <td>10:18 AM</td>\n      <td>1.00</td>\n      <td>-6.012670</td>\n    </tr>\n  </tbody>\n</table>\n</div>",
            "text/plain": "                       Name + ID               Name  Salary   Odds       Win  \\\n0     Sahith Theegala (14591201)    Sahith Theegala   10400    7.5  0.117647   \n1   Alistair Docherty (14591202)  Alistair Docherty   10200   12.0  0.076923   \n2       Brady Calkins (14591203)      Brady Calkins   10000    7.0  0.125000   \n3      Tyler Weworski (14591204)     Tyler Weworski    9700    9.5  0.095238   \n4     Nicolo Galletti (14591205)    Nicolo Galletti    9400   11.0  0.083333   \n5         Andrew Funk (14591206)        Andrew Funk    9200   19.0  0.050000   \n6        Neil Johnson (14591207)       Neil Johnson    9000   15.0  0.062500   \n7        Mark Baldwin (14591208)       Mark Baldwin    8700   12.0  0.076923   \n8     Samuel Saunders (14591209)    Samuel Saunders    8400   65.0  0.015152   \n9      Trevor Lampson (14591210)     Trevor Lampson    8100   21.0  0.045455   \n10        Kolton Lapa (14591211)        Kolton Lapa    7900   26.0  0.037037   \n11      Daniel Hudson (14591212)      Daniel Hudson    7700   34.0  0.028571   \n12     Zander Winston (14591213)     Zander Winston    7500   19.0  0.050000   \n13       Steven Alker (14591214)       Steven Alker    7300   17.0  0.055556   \n15    Austin Bautista (14591216)    Austin Bautista    6900   61.0  0.016129   \n16          Jino Sohn (14591217)          Jino Sohn    6700  126.0  0.007874   \n17        Blake Allen (14591218)        Blake Allen    6600   80.0  0.012346   \n18         Sam Gillis (14591219)         Sam Gillis    6500   56.0  0.017544   \n19     Chris Figueroa (14591220)     Chris Figueroa    6400   81.0  0.012195   \n20      Mitchell Homb (14591221)      Mitchell Homb    6300  141.0  0.007042   \n21         Roy Cootes (14591222)         Roy Cootes    6200  301.0  0.003311   \n22       Alex Trevino (14591223)       Alex Trevino    6100  751.0  0.001330   \n23          Matt Lutz (14591224)          Matt Lutz    6000  401.0  0.002488   \n\n      Points       Tee  tee_delay  Points_adj  \n0   7.414324       NaN        NaN         NaN  \n1   7.142664  11:18 AM       2.00    7.142664  \n2   7.444730   9:18 AM       0.00    7.444730  \n3   7.293144  12:33 PM       3.25    7.293144  \n4   7.202724  11:18 AM       2.00    7.202724  \n5   6.727161  11:00 AM       1.70    6.727161  \n6   6.963542  12:00 PM       2.70    6.963542  \n7   7.142664       NaN        NaN         NaN  \n8   4.202951  12:24 PM       3.10    4.202951  \n9   6.610014       NaN        NaN         NaN  \n10  6.320169       NaN        NaN         NaN  \n11  5.865303       NaN        NaN         NaN  \n12  6.727161       NaN        NaN         NaN  \n13  6.845003       NaN        NaN         NaN  \n15  4.408708   9:27 AM       0.15    4.408708  \n16  1.365752       NaN        NaN         NaN  \n17  3.453690   9:27 AM       0.15    3.453690  \n18  4.669490  10:27 AM       1.15    4.669490  \n19  3.404975       NaN        NaN         NaN  \n20  0.749564       NaN        NaN         NaN  \n21 -4.158537       NaN        NaN         NaN  \n22 -8.811721       NaN        NaN         NaN  \n23 -6.012670  10:18 AM       1.00   -6.012670  "
          },
          "metadata": {}
        }
      ]
    },
    {
      "metadata": {},
      "cell_type": "markdown",
      "source": "# Simulate to find gow often players are in optimal"
    },
    {
      "metadata": {
        "trusted": true
      },
      "cell_type": "code",
      "source": "df_all = df_all.reset_index(drop=True)\ndf_all.iloc[np.r_[0:3,-3:0]]",
      "execution_count": 45,
      "outputs": [
        {
          "output_type": "execute_result",
          "execution_count": 45,
          "data": {
            "text/html": "<div>\n<style scoped>\n    .dataframe tbody tr th:only-of-type {\n        vertical-align: middle;\n    }\n\n    .dataframe tbody tr th {\n        vertical-align: top;\n    }\n\n    .dataframe thead th {\n        text-align: right;\n    }\n</style>\n<table border=\"1\" class=\"dataframe\">\n  <thead>\n    <tr style=\"text-align: right;\">\n      <th></th>\n      <th>Name + ID</th>\n      <th>Name</th>\n      <th>Salary</th>\n      <th>Odds</th>\n      <th>Win</th>\n      <th>Points</th>\n      <th>Tee</th>\n      <th>tee_delay</th>\n      <th>Points_adj</th>\n    </tr>\n  </thead>\n  <tbody>\n    <tr>\n      <th>0</th>\n      <td>Sahith Theegala (14591201)</td>\n      <td>Sahith Theegala</td>\n      <td>10400</td>\n      <td>7.5</td>\n      <td>0.117647</td>\n      <td>7.414324</td>\n      <td>NaN</td>\n      <td>NaN</td>\n      <td>NaN</td>\n    </tr>\n    <tr>\n      <th>1</th>\n      <td>Alistair Docherty (14591202)</td>\n      <td>Alistair Docherty</td>\n      <td>10200</td>\n      <td>12.0</td>\n      <td>0.076923</td>\n      <td>7.142664</td>\n      <td>11:18 AM</td>\n      <td>2.0</td>\n      <td>7.142664</td>\n    </tr>\n    <tr>\n      <th>2</th>\n      <td>Brady Calkins (14591203)</td>\n      <td>Brady Calkins</td>\n      <td>10000</td>\n      <td>7.0</td>\n      <td>0.125000</td>\n      <td>7.444730</td>\n      <td>9:18 AM</td>\n      <td>0.0</td>\n      <td>7.444730</td>\n    </tr>\n    <tr>\n      <th>20</th>\n      <td>Roy Cootes (14591222)</td>\n      <td>Roy Cootes</td>\n      <td>6200</td>\n      <td>301.0</td>\n      <td>0.003311</td>\n      <td>-4.158537</td>\n      <td>NaN</td>\n      <td>NaN</td>\n      <td>NaN</td>\n    </tr>\n    <tr>\n      <th>21</th>\n      <td>Alex Trevino (14591223)</td>\n      <td>Alex Trevino</td>\n      <td>6100</td>\n      <td>751.0</td>\n      <td>0.001330</td>\n      <td>-8.811721</td>\n      <td>NaN</td>\n      <td>NaN</td>\n      <td>NaN</td>\n    </tr>\n    <tr>\n      <th>22</th>\n      <td>Matt Lutz (14591224)</td>\n      <td>Matt Lutz</td>\n      <td>6000</td>\n      <td>401.0</td>\n      <td>0.002488</td>\n      <td>-6.012670</td>\n      <td>10:18 AM</td>\n      <td>1.0</td>\n      <td>-6.012670</td>\n    </tr>\n  </tbody>\n</table>\n</div>",
            "text/plain": "                       Name + ID               Name  Salary   Odds       Win  \\\n0     Sahith Theegala (14591201)    Sahith Theegala   10400    7.5  0.117647   \n1   Alistair Docherty (14591202)  Alistair Docherty   10200   12.0  0.076923   \n2       Brady Calkins (14591203)      Brady Calkins   10000    7.0  0.125000   \n20         Roy Cootes (14591222)         Roy Cootes    6200  301.0  0.003311   \n21       Alex Trevino (14591223)       Alex Trevino    6100  751.0  0.001330   \n22          Matt Lutz (14591224)          Matt Lutz    6000  401.0  0.002488   \n\n      Points       Tee  tee_delay  Points_adj  \n0   7.414324       NaN        NaN         NaN  \n1   7.142664  11:18 AM        2.0    7.142664  \n2   7.444730   9:18 AM        0.0    7.444730  \n20 -4.158537       NaN        NaN         NaN  \n21 -8.811721       NaN        NaN         NaN  \n22 -6.012670  10:18 AM        1.0   -6.012670  "
          },
          "metadata": {}
        }
      ]
    },
    {
      "metadata": {
        "trusted": true
      },
      "cell_type": "code",
      "source": "df_all.Salary.mean()",
      "execution_count": 49,
      "outputs": [
        {
          "output_type": "execute_result",
          "execution_count": 49,
          "data": {
            "text/plain": "7878.260869565217"
          },
          "metadata": {}
        }
      ]
    },
    {
      "metadata": {
        "trusted": true
      },
      "cell_type": "code",
      "source": "df_all.Points.mean()",
      "execution_count": 50,
      "outputs": [
        {
          "output_type": "execute_result",
          "execution_count": 50,
          "data": {
            "text/plain": "4.042208896885227"
          },
          "metadata": {}
        }
      ]
    },
    {
      "metadata": {
        "trusted": true
      },
      "cell_type": "code",
      "source": "df_now=df_all.copy()\ndf_now['sim_pts']=df_now.Points+10.8*np.random.randn(len(df_now))\ndf_now[['Name','Points','sim_pts']].head()",
      "execution_count": 46,
      "outputs": [
        {
          "output_type": "execute_result",
          "execution_count": 46,
          "data": {
            "text/html": "<div>\n<style scoped>\n    .dataframe tbody tr th:only-of-type {\n        vertical-align: middle;\n    }\n\n    .dataframe tbody tr th {\n        vertical-align: top;\n    }\n\n    .dataframe thead th {\n        text-align: right;\n    }\n</style>\n<table border=\"1\" class=\"dataframe\">\n  <thead>\n    <tr style=\"text-align: right;\">\n      <th></th>\n      <th>Name</th>\n      <th>Points</th>\n      <th>sim_pts</th>\n    </tr>\n  </thead>\n  <tbody>\n    <tr>\n      <th>0</th>\n      <td>Sahith Theegala</td>\n      <td>7.414324</td>\n      <td>-12.899116</td>\n    </tr>\n    <tr>\n      <th>1</th>\n      <td>Alistair Docherty</td>\n      <td>7.142664</td>\n      <td>-3.227815</td>\n    </tr>\n    <tr>\n      <th>2</th>\n      <td>Brady Calkins</td>\n      <td>7.444730</td>\n      <td>-14.808651</td>\n    </tr>\n    <tr>\n      <th>3</th>\n      <td>Tyler Weworski</td>\n      <td>7.293144</td>\n      <td>-1.426157</td>\n    </tr>\n    <tr>\n      <th>4</th>\n      <td>Nicolo Galletti</td>\n      <td>7.202724</td>\n      <td>-4.419081</td>\n    </tr>\n  </tbody>\n</table>\n</div>",
            "text/plain": "                Name    Points    sim_pts\n0    Sahith Theegala  7.414324 -12.899116\n1  Alistair Docherty  7.142664  -3.227815\n2      Brady Calkins  7.444730 -14.808651\n3     Tyler Weworski  7.293144  -1.426157\n4    Nicolo Galletti  7.202724  -4.419081"
          },
          "metadata": {}
        }
      ]
    },
    {
      "metadata": {
        "trusted": true
      },
      "cell_type": "code",
      "source": "df_all.info()",
      "execution_count": 47,
      "outputs": [
        {
          "output_type": "stream",
          "text": "<class 'pandas.core.frame.DataFrame'>\nRangeIndex: 23 entries, 0 to 22\nData columns (total 9 columns):\nName + ID     23 non-null object\nName          23 non-null object\nSalary        23 non-null int64\nOdds          23 non-null float64\nWin           23 non-null float64\nPoints        23 non-null float64\nTee           11 non-null object\ntee_delay     11 non-null float64\nPoints_adj    11 non-null float64\ndtypes: float64(5), int64(1), object(3)\nmemory usage: 1.7+ KB\n",
          "name": "stdout"
        }
      ]
    },
    {
      "metadata": {
        "trusted": true
      },
      "cell_type": "code",
      "source": "def sim_optimal_team(df,sd=10.8,points_col='Points'):\n    #df needs column called Points\n    # sd is standard dev for added normal points.  Set lower for less shuffling of teams away from pure max expectation\n    #sd = 10.8\n    df_now = df.copy()\n    df_now['sim_pts']=df[points_col]+sd*np.random.randn(len(df_now))\n    n = len(df_now)\n    x = cp.Variable(n,boolean=True)\n    s = df_now.Salary.values\n    sim_pts = df_now.sim_pts.values\n\n    cap = 50000\n    constraints = [cp.sum(x) == 6,\n             x*s <= cap]\n    obj = cp.Maximize(x*sim_pts)\n    prob = cp.Problem(obj, constraints)\n    prob.solve()  \n    opt_team = df_now['Name'][x.value>.5].tolist()\n    return opt_team\n\nsim_optimal_team(df_all)",
      "execution_count": 48,
      "outputs": [
        {
          "output_type": "stream",
          "text": "/home/nbuser/anaconda3_501/lib/python3.6/site-packages/cvxpy/expressions/expression.py:516: UserWarning: \nThis use of ``*`` has resulted in matrix multiplication.\nUsing ``*`` for matrix multiplication has been deprecated since CVXPY 1.1.\n    Use ``*`` for matrix-scalar and vector-scalar multiplication.\n    Use ``@`` for matrix-matrix and matrix-vector multiplication.\n    Use ``multiply`` for elementwise multiplication.\n\n  warnings.warn(__STAR_MATMUL_WARNING__, UserWarning)\n/home/nbuser/anaconda3_501/lib/python3.6/site-packages/cvxpy/expressions/expression.py:516: UserWarning: \nThis use of ``*`` has resulted in matrix multiplication.\nUsing ``*`` for matrix multiplication has been deprecated since CVXPY 1.1.\n    Use ``*`` for matrix-scalar and vector-scalar multiplication.\n    Use ``@`` for matrix-matrix and matrix-vector multiplication.\n    Use ``multiply`` for elementwise multiplication.\n\n  warnings.warn(__STAR_MATMUL_WARNING__, UserWarning)\n",
          "name": "stderr"
        },
        {
          "output_type": "error",
          "ename": "SolverError",
          "evalue": "\n\n                    CVXPY needs additional software (a `mixed-integer solver`) to handle this model.\n                    The web documentation\n                        https://www.cvxpy.org/tutorial/advanced/index.html#mixed-integer-programs\n                    reviews open-source and commercial options for mixed-integer solvers.\n\n                    Quick fix: if you install the python package CVXOPT (pip install cvxopt),\n                    then CVXPY can use the open-source mixed-integer solver `GLPK`.\n                ",
          "traceback": [
            "\u001b[0;31m---------------------------------------------------------------------------\u001b[0m",
            "\u001b[0;31mSolverError\u001b[0m                               Traceback (most recent call last)",
            "\u001b[0;32m<ipython-input-48-22cb6d385087>\u001b[0m in \u001b[0;36m<module>\u001b[0;34m\u001b[0m\n\u001b[1;32m     19\u001b[0m     \u001b[0;32mreturn\u001b[0m \u001b[0mopt_team\u001b[0m\u001b[0;34m\u001b[0m\u001b[0m\n\u001b[1;32m     20\u001b[0m \u001b[0;34m\u001b[0m\u001b[0m\n\u001b[0;32m---> 21\u001b[0;31m \u001b[0msim_optimal_team\u001b[0m\u001b[0;34m(\u001b[0m\u001b[0mdf_all\u001b[0m\u001b[0;34m)\u001b[0m\u001b[0;34m\u001b[0m\u001b[0m\n\u001b[0m",
            "\u001b[0;32m<ipython-input-48-22cb6d385087>\u001b[0m in \u001b[0;36msim_optimal_team\u001b[0;34m(df, sd, points_col)\u001b[0m\n\u001b[1;32m     15\u001b[0m     \u001b[0mobj\u001b[0m \u001b[0;34m=\u001b[0m \u001b[0mcp\u001b[0m\u001b[0;34m.\u001b[0m\u001b[0mMaximize\u001b[0m\u001b[0;34m(\u001b[0m\u001b[0mx\u001b[0m\u001b[0;34m*\u001b[0m\u001b[0msim_pts\u001b[0m\u001b[0;34m)\u001b[0m\u001b[0;34m\u001b[0m\u001b[0m\n\u001b[1;32m     16\u001b[0m     \u001b[0mprob\u001b[0m \u001b[0;34m=\u001b[0m \u001b[0mcp\u001b[0m\u001b[0;34m.\u001b[0m\u001b[0mProblem\u001b[0m\u001b[0;34m(\u001b[0m\u001b[0mobj\u001b[0m\u001b[0;34m,\u001b[0m \u001b[0mconstraints\u001b[0m\u001b[0;34m)\u001b[0m\u001b[0;34m\u001b[0m\u001b[0m\n\u001b[0;32m---> 17\u001b[0;31m     \u001b[0mprob\u001b[0m\u001b[0;34m.\u001b[0m\u001b[0msolve\u001b[0m\u001b[0;34m(\u001b[0m\u001b[0;34m)\u001b[0m\u001b[0;34m\u001b[0m\u001b[0m\n\u001b[0m\u001b[1;32m     18\u001b[0m     \u001b[0mopt_team\u001b[0m \u001b[0;34m=\u001b[0m \u001b[0mdf_now\u001b[0m\u001b[0;34m[\u001b[0m\u001b[0;34m'Name'\u001b[0m\u001b[0;34m]\u001b[0m\u001b[0;34m[\u001b[0m\u001b[0mx\u001b[0m\u001b[0;34m.\u001b[0m\u001b[0mvalue\u001b[0m\u001b[0;34m>\u001b[0m\u001b[0;36m.5\u001b[0m\u001b[0;34m]\u001b[0m\u001b[0;34m.\u001b[0m\u001b[0mtolist\u001b[0m\u001b[0;34m(\u001b[0m\u001b[0;34m)\u001b[0m\u001b[0;34m\u001b[0m\u001b[0m\n\u001b[1;32m     19\u001b[0m     \u001b[0;32mreturn\u001b[0m \u001b[0mopt_team\u001b[0m\u001b[0;34m\u001b[0m\u001b[0m\n",
            "\u001b[0;32m~/anaconda3_501/lib/python3.6/site-packages/cvxpy/problems/problem.py\u001b[0m in \u001b[0;36msolve\u001b[0;34m(self, *args, **kwargs)\u001b[0m\n\u001b[1;32m    393\u001b[0m         \u001b[0;32melse\u001b[0m\u001b[0;34m:\u001b[0m\u001b[0;34m\u001b[0m\u001b[0m\n\u001b[1;32m    394\u001b[0m             \u001b[0msolve_func\u001b[0m \u001b[0;34m=\u001b[0m \u001b[0mProblem\u001b[0m\u001b[0;34m.\u001b[0m\u001b[0m_solve\u001b[0m\u001b[0;34m\u001b[0m\u001b[0m\n\u001b[0;32m--> 395\u001b[0;31m         \u001b[0;32mreturn\u001b[0m \u001b[0msolve_func\u001b[0m\u001b[0;34m(\u001b[0m\u001b[0mself\u001b[0m\u001b[0;34m,\u001b[0m \u001b[0;34m*\u001b[0m\u001b[0margs\u001b[0m\u001b[0;34m,\u001b[0m \u001b[0;34m**\u001b[0m\u001b[0mkwargs\u001b[0m\u001b[0;34m)\u001b[0m\u001b[0;34m\u001b[0m\u001b[0m\n\u001b[0m\u001b[1;32m    396\u001b[0m \u001b[0;34m\u001b[0m\u001b[0m\n\u001b[1;32m    397\u001b[0m     \u001b[0;34m@\u001b[0m\u001b[0mclassmethod\u001b[0m\u001b[0;34m\u001b[0m\u001b[0m\n",
            "\u001b[0;32m~/anaconda3_501/lib/python3.6/site-packages/cvxpy/problems/problem.py\u001b[0m in \u001b[0;36m_solve\u001b[0;34m(self, solver, warm_start, verbose, gp, qcp, requires_grad, enforce_dpp, **kwargs)\u001b[0m\n\u001b[1;32m    742\u001b[0m \u001b[0;34m\u001b[0m\u001b[0m\n\u001b[1;32m    743\u001b[0m         data, solving_chain, inverse_data = self.get_problem_data(\n\u001b[0;32m--> 744\u001b[0;31m             solver, gp, enforce_dpp)\n\u001b[0m\u001b[1;32m    745\u001b[0m         solution = solving_chain.solve_via_data(\n\u001b[1;32m    746\u001b[0m             self, data, warm_start, verbose, kwargs)\n",
            "\u001b[0;32m~/anaconda3_501/lib/python3.6/site-packages/cvxpy/problems/problem.py\u001b[0m in \u001b[0;36mget_problem_data\u001b[0;34m(self, solver, gp, enforce_dpp)\u001b[0m\n\u001b[1;32m    497\u001b[0m             \u001b[0mself\u001b[0m\u001b[0;34m.\u001b[0m\u001b[0m_cache\u001b[0m\u001b[0;34m.\u001b[0m\u001b[0minvalidate\u001b[0m\u001b[0;34m(\u001b[0m\u001b[0;34m)\u001b[0m\u001b[0;34m\u001b[0m\u001b[0m\n\u001b[1;32m    498\u001b[0m             solving_chain = self._construct_chain(\n\u001b[0;32m--> 499\u001b[0;31m                 solver=solver, gp=gp, enforce_dpp=enforce_dpp)\n\u001b[0m\u001b[1;32m    500\u001b[0m             \u001b[0mself\u001b[0m\u001b[0;34m.\u001b[0m\u001b[0m_cache\u001b[0m\u001b[0;34m.\u001b[0m\u001b[0mkey\u001b[0m \u001b[0;34m=\u001b[0m \u001b[0mkey\u001b[0m\u001b[0;34m\u001b[0m\u001b[0m\n\u001b[1;32m    501\u001b[0m             \u001b[0mself\u001b[0m\u001b[0;34m.\u001b[0m\u001b[0m_cache\u001b[0m\u001b[0;34m.\u001b[0m\u001b[0msolving_chain\u001b[0m \u001b[0;34m=\u001b[0m \u001b[0msolving_chain\u001b[0m\u001b[0;34m\u001b[0m\u001b[0m\n",
            "\u001b[0;32m~/anaconda3_501/lib/python3.6/site-packages/cvxpy/problems/problem.py\u001b[0m in \u001b[0;36m_construct_chain\u001b[0;34m(self, solver, gp, enforce_dpp)\u001b[0m\n\u001b[1;32m    648\u001b[0m         \u001b[0mA\u001b[0m \u001b[0msolving\u001b[0m \u001b[0mchain\u001b[0m\u001b[0;34m\u001b[0m\u001b[0m\n\u001b[1;32m    649\u001b[0m         \"\"\"\n\u001b[0;32m--> 650\u001b[0;31m         \u001b[0mcandidate_solvers\u001b[0m \u001b[0;34m=\u001b[0m \u001b[0mself\u001b[0m\u001b[0;34m.\u001b[0m\u001b[0m_find_candidate_solvers\u001b[0m\u001b[0;34m(\u001b[0m\u001b[0msolver\u001b[0m\u001b[0;34m=\u001b[0m\u001b[0msolver\u001b[0m\u001b[0;34m,\u001b[0m \u001b[0mgp\u001b[0m\u001b[0;34m=\u001b[0m\u001b[0mgp\u001b[0m\u001b[0;34m)\u001b[0m\u001b[0;34m\u001b[0m\u001b[0m\n\u001b[0m\u001b[1;32m    651\u001b[0m         return construct_solving_chain(self, candidate_solvers, gp=gp,\n\u001b[1;32m    652\u001b[0m                                        enforce_dpp=enforce_dpp)\n",
            "\u001b[0;32m~/anaconda3_501/lib/python3.6/site-packages/cvxpy/problems/problem.py\u001b[0m in \u001b[0;36m_find_candidate_solvers\u001b[0;34m(self, solver, gp)\u001b[0m\n\u001b[1;32m    607\u001b[0m                     \u001b[0mthen\u001b[0m \u001b[0mCVXPY\u001b[0m \u001b[0mcan\u001b[0m \u001b[0muse\u001b[0m \u001b[0mthe\u001b[0m \u001b[0mopen\u001b[0m\u001b[0;34m-\u001b[0m\u001b[0msource\u001b[0m \u001b[0mmixed\u001b[0m\u001b[0;34m-\u001b[0m\u001b[0minteger\u001b[0m \u001b[0msolver\u001b[0m\u001b[0;31m \u001b[0m\u001b[0;31m`\u001b[0m\u001b[0mGLPK\u001b[0m\u001b[0;31m`\u001b[0m\u001b[0;34m.\u001b[0m\u001b[0;34m\u001b[0m\u001b[0m\n\u001b[1;32m    608\u001b[0m                 \"\"\"\n\u001b[0;32m--> 609\u001b[0;31m                 \u001b[0;32mraise\u001b[0m \u001b[0merror\u001b[0m\u001b[0;34m.\u001b[0m\u001b[0mSolverError\u001b[0m\u001b[0;34m(\u001b[0m\u001b[0mmsg\u001b[0m\u001b[0;34m)\u001b[0m\u001b[0;34m\u001b[0m\u001b[0m\n\u001b[0m\u001b[1;32m    610\u001b[0m             candidates['qp_solvers'] = [\n\u001b[1;32m    611\u001b[0m                 \u001b[0ms\u001b[0m \u001b[0;32mfor\u001b[0m \u001b[0ms\u001b[0m \u001b[0;32min\u001b[0m \u001b[0mcandidates\u001b[0m\u001b[0;34m[\u001b[0m\u001b[0;34m'qp_solvers'\u001b[0m\u001b[0;34m]\u001b[0m\u001b[0;34m\u001b[0m\u001b[0m\n",
            "\u001b[0;31mSolverError\u001b[0m: \n\n                    CVXPY needs additional software (a `mixed-integer solver`) to handle this model.\n                    The web documentation\n                        https://www.cvxpy.org/tutorial/advanced/index.html#mixed-integer-programs\n                    reviews open-source and commercial options for mixed-integer solvers.\n\n                    Quick fix: if you install the python package CVXOPT (pip install cvxopt),\n                    then CVXPY can use the open-source mixed-integer solver `GLPK`.\n                "
          ]
        }
      ]
    },
    {
      "metadata": {
        "trusted": true,
        "scrolled": true
      },
      "cell_type": "code",
      "source": "df_all.head()",
      "execution_count": null,
      "outputs": []
    },
    {
      "metadata": {
        "trusted": true,
        "scrolled": false
      },
      "cell_type": "code",
      "source": "num_sims = 2000\ntotal_sal=0\ndf_all['num_opt']=0\ndf_for_sim = df_all[df_all.Salary>=6200]\ndf_opt_teams = pd.Series()\nfor i in range(num_sims):\n    if i%(int(num_sims/4))==0:\n        print('i = {}'.format(i))\n    opt_team=sim_optimal_team(df_all,points_col='Points')\n    opt_sal=df_all[df_all.Name.isin(opt_team)].Salary.sum()\n    total_sal+=opt_sal\n    df_all.num_opt=np.where(df_all.Name.isin(opt_team),\n                           df_all.num_opt +1,df_all.num_opt)\n    df_opt_teams.loc[len(df_opt_teams)] = \", \".join(opt_team)\n\nprint(total_sal/num_sims)\ndf_all.sort_values(by='num_opt',\n                   ascending=False).head(15)",
      "execution_count": null,
      "outputs": []
    },
    {
      "metadata": {
        "trusted": true,
        "scrolled": false
      },
      "cell_type": "code",
      "source": "to_remove = []\ndf_now = df_all[~df_all.Name.isin(to_remove)].sort_values(by='num_opt',\n                   ascending=False).reset_index(drop=True)\ndf_now.head(25)",
      "execution_count": null,
      "outputs": []
    },
    {
      "metadata": {
        "trusted": true
      },
      "cell_type": "code",
      "source": "df_now.head(15).Salary.mean()",
      "execution_count": null,
      "outputs": []
    },
    {
      "metadata": {},
      "cell_type": "markdown",
      "source": "### Try to build teams"
    },
    {
      "metadata": {
        "trusted": true
      },
      "cell_type": "code",
      "source": "numteams=37\n",
      "execution_count": null,
      "outputs": []
    },
    {
      "metadata": {},
      "cell_type": "markdown",
      "source": "# Now Optimize in different ways"
    },
    {
      "metadata": {
        "trusted": true
      },
      "cell_type": "code",
      "source": "to_remove = ['Kaleb Gorbahn','Ryan Gronlund','Kirk Triplett']\nto_remove = []",
      "execution_count": null,
      "outputs": []
    },
    {
      "metadata": {
        "trusted": true
      },
      "cell_type": "code",
      "source": "#Max Win prob\ndf_now = df_all.copy()\nmin_sal = 6000\nmax_sal = 12000\ndf_now = df_now[df_now.Salary>=min_sal]\nn = len(df_now)\nx = cp.Variable(n,boolean=True)\ns = df_now.Salary.values\nw = df_now.Win.values\no = df_now.Odds.values\n\n# c = df_now.Cut.values\n# T20 = df_now['Top 20'].values\n# own = df_now.Ownership.values\ncap = 50000\nconstraints = [cp.sum(x) == 6,\n             x*s <= cap]\n\n# Form objective.\n#Max Win probability:\nobj = cp.Maximize(x*w)\n\n#Minimize Winning Odds\n#obj = cp.Minimize(x*o)\n\n# Form and solve problem.\nprob = cp.Problem(obj, constraints)\nprob.solve()  # Returns the optimal value\nopt_team = df_now['Name'][x.value>.5].tolist()\nsal = df_now[df_now.Name.isin(opt_team)].Salary.sum()\nprint(sal,opt_team)",
      "execution_count": null,
      "outputs": []
    },
    {
      "metadata": {
        "trusted": true,
        "scrolled": false
      },
      "cell_type": "code",
      "source": "#Max Win prob, top n teams\n#df = df_all.copy()\ndf_now = df_all.copy()\nmin_sal = 7000\nmax_sal = 99900\ndf_now = df_now[df_now.Salary>=min_sal]\ndf_now = df_now[~df_now.Name.isin(to_remove)]\n\n#Filter down remaining players by sal\ndf_now = df_now[(df_now.Salary>=min_sal) &\n               (df_now.Salary<=max_sal)]\n# df_now = df_now[~df_now.Player.isin(to_remove)]\nnumteams = 4\nopt_teams_win = []\nfor i in np.arange(numteams): #number of teams\n#     print(df_now.head())\n    n = len(df_now)\n    x = cp.Variable(n,boolean=True)\n    s = df_now.Salary.values\n    w = df_now.Win.values\n#     c = df_now.Cut.values\n#     T20 = df_now['Top 20'].values\n#     own = df_now.Ownership.values\n#     cap = sal_left\n    constraints = [cp.sum(x) == 6,\n                 x*s <= 50000]\n\n    # Form objective.\n    obj = cp.Maximize(x*w)\n\n    # Form and solve problem.\n    prob = cp.Problem(obj, constraints)\n    prob.solve()  # Returns the optimal value\n    opt_team = df_now['Name'][x.value>.5].tolist()\n    sal = df_now[df_now.Name.isin(opt_team)].Salary.sum()\n    print('Team {} (obj = {:.2f}, sal = {}): '.format(i+1,prob.value,sal),opt_team)\n    opt_teams_win.append(opt_team)\n    #Remove team and go again\n    df_now = df_now[~ df_now.Name.isin(opt_team)]",
      "execution_count": null,
      "outputs": []
    },
    {
      "metadata": {
        "trusted": true
      },
      "cell_type": "code",
      "source": "df_all.head(9)",
      "execution_count": null,
      "outputs": []
    },
    {
      "metadata": {
        "trusted": true
      },
      "cell_type": "code",
      "source": "#Min total odds\n#df = df_all.copy()\ndf_now = df_all.copy()\nmin_sal = 6200\nmax_sal = 12000\ndf_now = df_now[df_now.Salary>=min_sal]\n\n#Filter down remaining players by sal\ndf_now = df_now[(df_now.Salary>=min_sal) &\n               (df_now.Salary<=max_sal)]\n#to_remove = ['Matt Gurska']\n#to_remove =[]\ndf_now = df_now[~df_now.Name.isin(to_remove)]\n# df_now = df_now[~df_now.Player.isin(to_remove)]\nnumteams = 5\nopt_teams_odds = []\nfor i in np.arange(numteams): #number of teams\n#     print(df_now.head())\n    n = len(df_now)\n    x = cp.Variable(n,boolean=True)\n    s = df_now.Salary.values\n    w = df_now.Win.values\n    o = df_now.Odds.values\n#     c = df_now.Cut.values\n#     T20 = df_now['Top 20'].values\n#     own = df_now.Ownership.values\n#     cap = sal_left\n    constraints = [cp.sum(x) == 6,\n                 x*s <= 50000]\n\n    # Form objective.\n    #obj = cp.Maximize(x*w)\n    obj = cp.Minimize(x*o)\n\n    # Form and solve problem.\n    prob = cp.Problem(obj, constraints)\n    prob.solve()  # Returns the optimal value\n    opt_team = df_now['Name'][x.value>.5].tolist()\n    sal = df_now[df_now.Name.isin(opt_team)].Salary.sum()\n    print('Team {} (obj = {:.2f}, sal = {}): '.format(i+1,prob.value,sal),opt_team)\n    opt_teams_odds.append(opt_team)\n    #Remove team and go again\n    df_now = df_now[~ df_now.Name.isin(opt_team)]",
      "execution_count": null,
      "outputs": []
    },
    {
      "metadata": {
        "trusted": true
      },
      "cell_type": "code",
      "source": "#Projected points (points gained)\n#df = df_all.copy()\ndf_now = df_all.copy()\nmin_sal = 6200\nmax_sal = 99900\ndf_now = df_now[df_now.Salary>=min_sal]\n#to_remove = ['Matt Gurska']\n#to_remove =[]\ndf_now = df_now[~df_now.Name.isin(to_remove)]\n\n#Filter down remaining players by sal\ndf_now = df_now[(df_now.Salary>=min_sal) &\n               (df_now.Salary<=max_sal)]\n\n# df_now = df_now[~df_now.Player.isin(to_remove)]\nnumteams = 5\nopt_teams_pts = []\nfor i in np.arange(numteams): #number of teams\n#     print(df_now.head())\n    n = len(df_now)\n    x = cp.Variable(n,boolean=True)\n    s = df_now.Salary.values\n    w = df_now.Win.values\n    p = df_now.Points.values\n#     c = df_now.Cut.values\n#     T20 = df_now['Top 20'].values\n#     own = df_now.Ownership.values\n#     cap = sal_left\n    constraints = [cp.sum(x) == 6,\n                 x*s <= 50000]\n\n    # Form objective.\n    obj = cp.Maximize(x*p)\n\n    # Form and solve problem.\n    prob = cp.Problem(obj, constraints)\n    prob.solve()  # Returns the optimal value\n    opt_team = df_now['Name'][x.value>.5].tolist()\n    sal = df_now[df_now.Name.isin(opt_team)].Salary.sum()\n    print('Team {} (obj = {:.2f}, sal = {}): '.format(i+1,prob.value,sal),opt_team)\n    opt_teams_pts.append(opt_team)\n    #Remove team and go again\n    df_now = df_now[~ df_now.Name.isin(opt_team)]",
      "execution_count": null,
      "outputs": []
    },
    {
      "metadata": {
        "trusted": true
      },
      "cell_type": "code",
      "source": "#In one not the other\nfor i in range(numteams):\n    print('In top {} teams:'.format(i+1))\n    print('  In Odds, not Pts:',set(np.hstack(opt_teams_win[:i+1]))-set(np.hstack(opt_teams_pts[:i+1])))\n    print('  In Pts, not Odds:',set(np.hstack(opt_teams_pts[:i+1]))-set(np.hstack(opt_teams_win[:i+1])))",
      "execution_count": null,
      "outputs": []
    },
    {
      "metadata": {
        "trusted": true
      },
      "cell_type": "code",
      "source": "#In one not the other\nfor i in range(numteams):\n    print('In top {} teams:'.format(i+1))\n    print('  In Odds, not Win:',set(np.hstack(opt_teams_odds[:i+1]))-set(np.hstack(opt_teams_win[:i+1])))\n    print('  In Win, not Odds:',set(np.hstack(opt_teams_win[:i+1]))-set(np.hstack(opt_teams_odds[:i+1])))",
      "execution_count": null,
      "outputs": []
    },
    {
      "metadata": {
        "trusted": true
      },
      "cell_type": "code",
      "source": "df_all.sort_values(by='num_opt',ascending=False).reset_index(drop=True).head(25)",
      "execution_count": null,
      "outputs": []
    },
    {
      "metadata": {},
      "cell_type": "markdown",
      "source": "## See who underperformed previous day"
    },
    {
      "metadata": {
        "trusted": true
      },
      "cell_type": "code",
      "source": "df_results = pd.read_csv('Data/outlaw_results_20200601.csv')\ndf_results=df_results[['Player','FPTS']]\ndf_results.rename(columns={'Player':'Name'},inplace=True)\ndf_results['FPTS_gained'] = df_results.FPTS - df_results.FPTS.mean()\ndf_results.head()",
      "execution_count": null,
      "outputs": []
    },
    {
      "metadata": {
        "trusted": true
      },
      "cell_type": "code",
      "source": "#Compare to projections\ndf_results = pd.merge(df_results,df_all[['Name','Points']],how='left')\ndf_results['Diff'] = df_results.FPTS_gained - df_results.Points\ndf_results = df_results.sort_values(by='Diff',ascending=True)\ndf_results.head(15)",
      "execution_count": null,
      "outputs": []
    },
    {
      "metadata": {},
      "cell_type": "markdown",
      "source": "### Set final optimal teams"
    },
    {
      "metadata": {
        "trusted": true
      },
      "cell_type": "code",
      "source": "df_now = df_all.copy()\nlock =['Eddie Olson','Dylan Wu']\nlock = ['Trevor Lampson']\nlock = []\nsal_used = df_now[df_now.Name.isin(lock)].Salary.sum()\nprint (sal_used)\nplayers_left = 6 - len(lock)\nlock_full_names = df_now[df_now.Name.isin(lock)]['Name + ID'].tolist()\nlock_full_names",
      "execution_count": 62,
      "outputs": [
        {
          "output_type": "stream",
          "text": "0\n",
          "name": "stdout"
        },
        {
          "output_type": "execute_result",
          "execution_count": 62,
          "data": {
            "text/plain": "[]"
          },
          "metadata": {}
        }
      ]
    },
    {
      "metadata": {
        "trusted": true
      },
      "cell_type": "code",
      "source": "min_sal = 6600\nmax_sal = 99900\ndf_now = df_all.copy()\ndf_now = df_now[(df_now.Salary>=min_sal) &\n               (df_now.Salary<=max_sal)]\ndf_now = df_now[~df_now.Name.isin(lock)]\nto_remove = ['Mitchel Carlson','Derek Ackerman','Matt McClung','Alex Trevino','Jack McDevitt',\n            'Ollie Roberts','Chris Korte']\n#to_remove =[]\ndf_now = df_now[~df_now.Name.isin(to_remove)]\n#df_now.Points = np.where(df_now.Wave=='AM',df_now.Points+am_bump_pts,df_now.Points)\n\nnumteams = 5\nopt_teams_odds_lock = []\nfor i in np.arange(numteams): #number of teams\n#     print(df_now.head())\n    n = len(df_now)\n    x = cp.Variable(n,boolean=True)\n    s = df_now.Salary.values\n    w = df_now.Win.values\n    o = df_now.Odds.values\n    p = df_now.Points.values\n    p2 = df_now.Points_adj.values\n#     c = df_now.Cut.values\n#     T20 = df_now['Top 20'].values\n#     own = df_now.Ownership.values\n    cap = 50000 - sal_used\n    constraints = [cp.sum(x) == players_left,\n                 x*s <= cap]\n\n    # Form objective.\n    obj = cp.Maximize(x*w)\n    #obj = cp.Minimize(x*o)\n\n    # Form and solve problem.\n    prob = cp.Problem(obj, constraints)\n    prob.solve()  # Returns the optimal value\n    opt_team = df_now['Name'][x.value>.5].tolist()\n    sal = df_now[df_now.Name.isin(opt_team)].Salary.sum()\n    print('Team {} (obj = {:.2f}, sal = {}): '.format(i+1,prob.value,sal+sal_used),\n          opt_team)\n    opt_teams_odds_lock.append(opt_team)\n    #Remove team and go again\n    df_now = df_now[~ df_now.Name.isin(opt_team)]",
      "execution_count": null,
      "outputs": []
    },
    {
      "metadata": {
        "trusted": true
      },
      "cell_type": "code",
      "source": "df_all",
      "execution_count": 51,
      "outputs": [
        {
          "output_type": "execute_result",
          "execution_count": 51,
          "data": {
            "text/html": "<div>\n<style scoped>\n    .dataframe tbody tr th:only-of-type {\n        vertical-align: middle;\n    }\n\n    .dataframe tbody tr th {\n        vertical-align: top;\n    }\n\n    .dataframe thead th {\n        text-align: right;\n    }\n</style>\n<table border=\"1\" class=\"dataframe\">\n  <thead>\n    <tr style=\"text-align: right;\">\n      <th></th>\n      <th>Name + ID</th>\n      <th>Name</th>\n      <th>Salary</th>\n      <th>Odds</th>\n      <th>Win</th>\n      <th>Points</th>\n      <th>Tee</th>\n      <th>tee_delay</th>\n      <th>Points_adj</th>\n    </tr>\n  </thead>\n  <tbody>\n    <tr>\n      <th>0</th>\n      <td>Sahith Theegala (14591201)</td>\n      <td>Sahith Theegala</td>\n      <td>10400</td>\n      <td>7.5</td>\n      <td>0.117647</td>\n      <td>7.414324</td>\n      <td>NaN</td>\n      <td>NaN</td>\n      <td>NaN</td>\n    </tr>\n    <tr>\n      <th>1</th>\n      <td>Alistair Docherty (14591202)</td>\n      <td>Alistair Docherty</td>\n      <td>10200</td>\n      <td>12.0</td>\n      <td>0.076923</td>\n      <td>7.142664</td>\n      <td>11:18 AM</td>\n      <td>2.00</td>\n      <td>7.142664</td>\n    </tr>\n    <tr>\n      <th>2</th>\n      <td>Brady Calkins (14591203)</td>\n      <td>Brady Calkins</td>\n      <td>10000</td>\n      <td>7.0</td>\n      <td>0.125000</td>\n      <td>7.444730</td>\n      <td>9:18 AM</td>\n      <td>0.00</td>\n      <td>7.444730</td>\n    </tr>\n    <tr>\n      <th>3</th>\n      <td>Tyler Weworski (14591204)</td>\n      <td>Tyler Weworski</td>\n      <td>9700</td>\n      <td>9.5</td>\n      <td>0.095238</td>\n      <td>7.293144</td>\n      <td>12:33 PM</td>\n      <td>3.25</td>\n      <td>7.293144</td>\n    </tr>\n    <tr>\n      <th>4</th>\n      <td>Nicolo Galletti (14591205)</td>\n      <td>Nicolo Galletti</td>\n      <td>9400</td>\n      <td>11.0</td>\n      <td>0.083333</td>\n      <td>7.202724</td>\n      <td>11:18 AM</td>\n      <td>2.00</td>\n      <td>7.202724</td>\n    </tr>\n    <tr>\n      <th>5</th>\n      <td>Andrew Funk (14591206)</td>\n      <td>Andrew Funk</td>\n      <td>9200</td>\n      <td>19.0</td>\n      <td>0.050000</td>\n      <td>6.727161</td>\n      <td>11:00 AM</td>\n      <td>1.70</td>\n      <td>6.727161</td>\n    </tr>\n    <tr>\n      <th>6</th>\n      <td>Neil Johnson (14591207)</td>\n      <td>Neil Johnson</td>\n      <td>9000</td>\n      <td>15.0</td>\n      <td>0.062500</td>\n      <td>6.963542</td>\n      <td>12:00 PM</td>\n      <td>2.70</td>\n      <td>6.963542</td>\n    </tr>\n    <tr>\n      <th>7</th>\n      <td>Mark Baldwin (14591208)</td>\n      <td>Mark Baldwin</td>\n      <td>8700</td>\n      <td>12.0</td>\n      <td>0.076923</td>\n      <td>7.142664</td>\n      <td>NaN</td>\n      <td>NaN</td>\n      <td>NaN</td>\n    </tr>\n    <tr>\n      <th>8</th>\n      <td>Samuel Saunders (14591209)</td>\n      <td>Samuel Saunders</td>\n      <td>8400</td>\n      <td>65.0</td>\n      <td>0.015152</td>\n      <td>4.202951</td>\n      <td>12:24 PM</td>\n      <td>3.10</td>\n      <td>4.202951</td>\n    </tr>\n    <tr>\n      <th>9</th>\n      <td>Trevor Lampson (14591210)</td>\n      <td>Trevor Lampson</td>\n      <td>8100</td>\n      <td>21.0</td>\n      <td>0.045455</td>\n      <td>6.610014</td>\n      <td>NaN</td>\n      <td>NaN</td>\n      <td>NaN</td>\n    </tr>\n    <tr>\n      <th>10</th>\n      <td>Kolton Lapa (14591211)</td>\n      <td>Kolton Lapa</td>\n      <td>7900</td>\n      <td>26.0</td>\n      <td>0.037037</td>\n      <td>6.320169</td>\n      <td>NaN</td>\n      <td>NaN</td>\n      <td>NaN</td>\n    </tr>\n    <tr>\n      <th>11</th>\n      <td>Daniel Hudson (14591212)</td>\n      <td>Daniel Hudson</td>\n      <td>7700</td>\n      <td>34.0</td>\n      <td>0.028571</td>\n      <td>5.865303</td>\n      <td>NaN</td>\n      <td>NaN</td>\n      <td>NaN</td>\n    </tr>\n    <tr>\n      <th>12</th>\n      <td>Zander Winston (14591213)</td>\n      <td>Zander Winston</td>\n      <td>7500</td>\n      <td>19.0</td>\n      <td>0.050000</td>\n      <td>6.727161</td>\n      <td>NaN</td>\n      <td>NaN</td>\n      <td>NaN</td>\n    </tr>\n    <tr>\n      <th>13</th>\n      <td>Steven Alker (14591214)</td>\n      <td>Steven Alker</td>\n      <td>7300</td>\n      <td>17.0</td>\n      <td>0.055556</td>\n      <td>6.845003</td>\n      <td>NaN</td>\n      <td>NaN</td>\n      <td>NaN</td>\n    </tr>\n    <tr>\n      <th>14</th>\n      <td>Austin Bautista (14591216)</td>\n      <td>Austin Bautista</td>\n      <td>6900</td>\n      <td>61.0</td>\n      <td>0.016129</td>\n      <td>4.408708</td>\n      <td>9:27 AM</td>\n      <td>0.15</td>\n      <td>4.408708</td>\n    </tr>\n    <tr>\n      <th>15</th>\n      <td>Jino Sohn (14591217)</td>\n      <td>Jino Sohn</td>\n      <td>6700</td>\n      <td>126.0</td>\n      <td>0.007874</td>\n      <td>1.365752</td>\n      <td>NaN</td>\n      <td>NaN</td>\n      <td>NaN</td>\n    </tr>\n    <tr>\n      <th>16</th>\n      <td>Blake Allen (14591218)</td>\n      <td>Blake Allen</td>\n      <td>6600</td>\n      <td>80.0</td>\n      <td>0.012346</td>\n      <td>3.453690</td>\n      <td>9:27 AM</td>\n      <td>0.15</td>\n      <td>3.453690</td>\n    </tr>\n    <tr>\n      <th>17</th>\n      <td>Sam Gillis (14591219)</td>\n      <td>Sam Gillis</td>\n      <td>6500</td>\n      <td>56.0</td>\n      <td>0.017544</td>\n      <td>4.669490</td>\n      <td>10:27 AM</td>\n      <td>1.15</td>\n      <td>4.669490</td>\n    </tr>\n    <tr>\n      <th>18</th>\n      <td>Chris Figueroa (14591220)</td>\n      <td>Chris Figueroa</td>\n      <td>6400</td>\n      <td>81.0</td>\n      <td>0.012195</td>\n      <td>3.404975</td>\n      <td>NaN</td>\n      <td>NaN</td>\n      <td>NaN</td>\n    </tr>\n    <tr>\n      <th>19</th>\n      <td>Mitchell Homb (14591221)</td>\n      <td>Mitchell Homb</td>\n      <td>6300</td>\n      <td>141.0</td>\n      <td>0.007042</td>\n      <td>0.749564</td>\n      <td>NaN</td>\n      <td>NaN</td>\n      <td>NaN</td>\n    </tr>\n    <tr>\n      <th>20</th>\n      <td>Roy Cootes (14591222)</td>\n      <td>Roy Cootes</td>\n      <td>6200</td>\n      <td>301.0</td>\n      <td>0.003311</td>\n      <td>-4.158537</td>\n      <td>NaN</td>\n      <td>NaN</td>\n      <td>NaN</td>\n    </tr>\n    <tr>\n      <th>21</th>\n      <td>Alex Trevino (14591223)</td>\n      <td>Alex Trevino</td>\n      <td>6100</td>\n      <td>751.0</td>\n      <td>0.001330</td>\n      <td>-8.811721</td>\n      <td>NaN</td>\n      <td>NaN</td>\n      <td>NaN</td>\n    </tr>\n    <tr>\n      <th>22</th>\n      <td>Matt Lutz (14591224)</td>\n      <td>Matt Lutz</td>\n      <td>6000</td>\n      <td>401.0</td>\n      <td>0.002488</td>\n      <td>-6.012670</td>\n      <td>10:18 AM</td>\n      <td>1.00</td>\n      <td>-6.012670</td>\n    </tr>\n  </tbody>\n</table>\n</div>",
            "text/plain": "                       Name + ID               Name  Salary   Odds       Win  \\\n0     Sahith Theegala (14591201)    Sahith Theegala   10400    7.5  0.117647   \n1   Alistair Docherty (14591202)  Alistair Docherty   10200   12.0  0.076923   \n2       Brady Calkins (14591203)      Brady Calkins   10000    7.0  0.125000   \n3      Tyler Weworski (14591204)     Tyler Weworski    9700    9.5  0.095238   \n4     Nicolo Galletti (14591205)    Nicolo Galletti    9400   11.0  0.083333   \n5         Andrew Funk (14591206)        Andrew Funk    9200   19.0  0.050000   \n6        Neil Johnson (14591207)       Neil Johnson    9000   15.0  0.062500   \n7        Mark Baldwin (14591208)       Mark Baldwin    8700   12.0  0.076923   \n8     Samuel Saunders (14591209)    Samuel Saunders    8400   65.0  0.015152   \n9      Trevor Lampson (14591210)     Trevor Lampson    8100   21.0  0.045455   \n10        Kolton Lapa (14591211)        Kolton Lapa    7900   26.0  0.037037   \n11      Daniel Hudson (14591212)      Daniel Hudson    7700   34.0  0.028571   \n12     Zander Winston (14591213)     Zander Winston    7500   19.0  0.050000   \n13       Steven Alker (14591214)       Steven Alker    7300   17.0  0.055556   \n14    Austin Bautista (14591216)    Austin Bautista    6900   61.0  0.016129   \n15          Jino Sohn (14591217)          Jino Sohn    6700  126.0  0.007874   \n16        Blake Allen (14591218)        Blake Allen    6600   80.0  0.012346   \n17         Sam Gillis (14591219)         Sam Gillis    6500   56.0  0.017544   \n18     Chris Figueroa (14591220)     Chris Figueroa    6400   81.0  0.012195   \n19      Mitchell Homb (14591221)      Mitchell Homb    6300  141.0  0.007042   \n20         Roy Cootes (14591222)         Roy Cootes    6200  301.0  0.003311   \n21       Alex Trevino (14591223)       Alex Trevino    6100  751.0  0.001330   \n22          Matt Lutz (14591224)          Matt Lutz    6000  401.0  0.002488   \n\n      Points       Tee  tee_delay  Points_adj  \n0   7.414324       NaN        NaN         NaN  \n1   7.142664  11:18 AM       2.00    7.142664  \n2   7.444730   9:18 AM       0.00    7.444730  \n3   7.293144  12:33 PM       3.25    7.293144  \n4   7.202724  11:18 AM       2.00    7.202724  \n5   6.727161  11:00 AM       1.70    6.727161  \n6   6.963542  12:00 PM       2.70    6.963542  \n7   7.142664       NaN        NaN         NaN  \n8   4.202951  12:24 PM       3.10    4.202951  \n9   6.610014       NaN        NaN         NaN  \n10  6.320169       NaN        NaN         NaN  \n11  5.865303       NaN        NaN         NaN  \n12  6.727161       NaN        NaN         NaN  \n13  6.845003       NaN        NaN         NaN  \n14  4.408708   9:27 AM       0.15    4.408708  \n15  1.365752       NaN        NaN         NaN  \n16  3.453690   9:27 AM       0.15    3.453690  \n17  4.669490  10:27 AM       1.15    4.669490  \n18  3.404975       NaN        NaN         NaN  \n19  0.749564       NaN        NaN         NaN  \n20 -4.158537       NaN        NaN         NaN  \n21 -8.811721       NaN        NaN         NaN  \n22 -6.012670  10:18 AM       1.00   -6.012670  "
          },
          "metadata": {}
        }
      ]
    },
    {
      "metadata": {
        "trusted": true
      },
      "cell_type": "code",
      "source": "select_team = ['Sahith Theegala','Alistair Docherty','Tyler Weworski','Nicolo Galletti',\n               'Neil Johnson','Trevor Lampson','Daniel Hudson','Steven Alker','Zander Winston',\n               'Jino Sohn','Blake Allen','Sam Gillis','Chris Figueroa','Mitchell Homb']\n#select_team = []",
      "execution_count": 55,
      "outputs": []
    },
    {
      "metadata": {},
      "cell_type": "markdown",
      "source": "## Generate lineups!"
    },
    {
      "metadata": {
        "trusted": true
      },
      "cell_type": "code",
      "source": "### Assign exposures for top j teams\nnum_teams_deep = 5\nown_gap = 5\nexposures = list(np.arange(50,50-own_gap*num_teams_deep,-own_gap))\nif len(exposures)<len(opt_teams_odds_lock):\n    exposures = exposures + [0]*(len(opt_teams_odds_lock)-len(exposures))\nexposures",
      "execution_count": null,
      "outputs": []
    },
    {
      "metadata": {
        "trusted": true
      },
      "cell_type": "code",
      "source": "#Create df to hold player pool\ndf_teams = df_all[['Name + ID','Name','Salary']].drop_duplicates()\ndf_teams.sort_values(by='Salary',ascending=False,inplace=True)\ndf_teams['Exposure'] = 0\ndf_teams['Actual Exposure'] = 0\ndf_teams.head()\n\n#Add in exposures for players in player pool\nfor i in range(num_teams_deep):\n    team = opt_teams_odds_lock[i]\n    df_teams.Exposure = np.where(df_teams.Name.isin(team),exposures[i],df_teams.Exposure)\n    \ndf_teams = df_teams[df_teams.Exposure > 0].reset_index(drop=True)\ndf_teams",
      "execution_count": null,
      "outputs": []
    },
    {
      "metadata": {
        "trusted": true,
        "scrolled": false
      },
      "cell_type": "code",
      "source": "#Get list of all possible additional players that aren't already in the team\ndf_more = df_all[~df_all.Name.isin(df_teams.Name.tolist())].sort_values(by='num_opt',ascending=False)\ndf_more = df_more[~df_more.Name.isin(lock)]\ndf_more = df_more[~df_more.Name.isin(to_remove)]\ndf_more = df_more[(df_more.Salary<12000)&\n                 (df_more.Salary>=200)]\ndf_more = df_more[['Name + ID','Name','Salary']]\ndf_more['Exposure'] = df_teams.Exposure.min()-6\ndf_more['Actual Exposure'] = 0\ndf_more.head(20)",
      "execution_count": null,
      "outputs": []
    },
    {
      "metadata": {
        "trusted": true
      },
      "cell_type": "code",
      "source": "#Option 1: Add specific names\nmore_names = ['Zachary Gaugert','Dalen Yamauchi','Dylan Wu']\nmore_names = []\nif (len(more_names)>0):\n    df_more_now = df_more[df_more.Name.isin(more_names)]\n    df_teams = pd.concat([df_teams,df_more_now]).sort_values(by='Salary',ascending=False).reset_index(drop=True)",
      "execution_count": null,
      "outputs": []
    },
    {
      "metadata": {
        "trusted": true
      },
      "cell_type": "code",
      "source": "df_more.head()",
      "execution_count": null,
      "outputs": []
    },
    {
      "metadata": {
        "trusted": true
      },
      "cell_type": "code",
      "source": "#Option 2: Add players in top N Win teams\n#First take a peak at who this would add\nnum_win_teams = 1\nmore_team_by_win = list(set(np.hstack(opt_teams_win[:num_win_teams]))-set(df_teams.Name.tolist()))\nprint(opt_teams_win[:num_win_teams])\nprint('Will add: ',more_team_by_win)",
      "execution_count": null,
      "outputs": []
    },
    {
      "metadata": {
        "trusted": true
      },
      "cell_type": "code",
      "source": "df_more.head(20)",
      "execution_count": null,
      "outputs": []
    },
    {
      "metadata": {
        "trusted": true
      },
      "cell_type": "code",
      "source": "add_win =False\nif add_win:\n    df_more_now = df_more[df_more.Name.isin(more_team_by_win)]\n    df_teams = pd.concat([df_teams,df_more_now]).sort_values(by='Salary',ascending=False).reset_index(drop=True)\n    df_teams",
      "execution_count": null,
      "outputs": []
    },
    {
      "metadata": {
        "trusted": true
      },
      "cell_type": "code",
      "source": "# Option 3: Add top n most likely to appera in optimal\nnum_add = 0\nmax_sal_add = 99900\nif num_add>0:\n    df_more_now = df_more[df_more.Salary<=max_sal_add].iloc[:num_add]\n    print(df_more_now)\n    df_teams = pd.concat([df_teams,df_more_now]).sort_values(by='Salary',ascending=False).reset_index(drop=True)",
      "execution_count": null,
      "outputs": []
    },
    {
      "metadata": {
        "trusted": true
      },
      "cell_type": "code",
      "source": "# Option 3: Add top n most likely to appera in optimal\nnum_add = 0\nmax_sal_add = 7300\nif num_add>0:\n    df_more_now = df_more[df_more.Salary<=max_sal_add].iloc[:num_add]\n    print(df_more_now)\n    df_teams = pd.concat([df_teams,df_more_now]).sort_values(by='Salary',ascending=False).reset_index(drop=True)",
      "execution_count": null,
      "outputs": []
    },
    {
      "metadata": {
        "trusted": true
      },
      "cell_type": "code",
      "source": "#Remove anyone?\nremove_from_teams = ['Neil Tillman']\nremove_from_teams = []\ndf_teams = df_teams[~df_teams.Name.isin(remove_from_teams)]\n",
      "execution_count": null,
      "outputs": []
    },
    {
      "metadata": {
        "trusted": true
      },
      "cell_type": "code",
      "source": "if len(select_team)>0:\n    df_teams = df_all[df_all.Name.isin(select_team)][['Name + ID','Name','Salary']].drop_duplicates()\n    df_teams.sort_values(by='Salary',ascending=False,inplace=True)\n    df_teams['Exposure'] = 50\n    df_teams['Actual Exposure'] = 0\n\n    df_teams = df_teams[df_teams.Exposure > 0].reset_index(drop=True)",
      "execution_count": 56,
      "outputs": []
    },
    {
      "metadata": {
        "trusted": true
      },
      "cell_type": "code",
      "source": "#Now see what final df_teams looks like\ndf_teams = df_teams.drop_duplicates().reset_index(drop=True)\ndf_teams.Exposure = df_teams.Exposure.fillna(35)\ndf_teams",
      "execution_count": 57,
      "outputs": [
        {
          "output_type": "execute_result",
          "execution_count": 57,
          "data": {
            "text/html": "<div>\n<style scoped>\n    .dataframe tbody tr th:only-of-type {\n        vertical-align: middle;\n    }\n\n    .dataframe tbody tr th {\n        vertical-align: top;\n    }\n\n    .dataframe thead th {\n        text-align: right;\n    }\n</style>\n<table border=\"1\" class=\"dataframe\">\n  <thead>\n    <tr style=\"text-align: right;\">\n      <th></th>\n      <th>Name + ID</th>\n      <th>Name</th>\n      <th>Salary</th>\n      <th>Exposure</th>\n      <th>Actual Exposure</th>\n    </tr>\n  </thead>\n  <tbody>\n    <tr>\n      <th>0</th>\n      <td>Sahith Theegala (14591201)</td>\n      <td>Sahith Theegala</td>\n      <td>10400</td>\n      <td>50</td>\n      <td>0</td>\n    </tr>\n    <tr>\n      <th>1</th>\n      <td>Alistair Docherty (14591202)</td>\n      <td>Alistair Docherty</td>\n      <td>10200</td>\n      <td>50</td>\n      <td>0</td>\n    </tr>\n    <tr>\n      <th>2</th>\n      <td>Tyler Weworski (14591204)</td>\n      <td>Tyler Weworski</td>\n      <td>9700</td>\n      <td>50</td>\n      <td>0</td>\n    </tr>\n    <tr>\n      <th>3</th>\n      <td>Nicolo Galletti (14591205)</td>\n      <td>Nicolo Galletti</td>\n      <td>9400</td>\n      <td>50</td>\n      <td>0</td>\n    </tr>\n    <tr>\n      <th>4</th>\n      <td>Neil Johnson (14591207)</td>\n      <td>Neil Johnson</td>\n      <td>9000</td>\n      <td>50</td>\n      <td>0</td>\n    </tr>\n    <tr>\n      <th>5</th>\n      <td>Trevor Lampson (14591210)</td>\n      <td>Trevor Lampson</td>\n      <td>8100</td>\n      <td>50</td>\n      <td>0</td>\n    </tr>\n    <tr>\n      <th>6</th>\n      <td>Daniel Hudson (14591212)</td>\n      <td>Daniel Hudson</td>\n      <td>7700</td>\n      <td>50</td>\n      <td>0</td>\n    </tr>\n    <tr>\n      <th>7</th>\n      <td>Zander Winston (14591213)</td>\n      <td>Zander Winston</td>\n      <td>7500</td>\n      <td>50</td>\n      <td>0</td>\n    </tr>\n    <tr>\n      <th>8</th>\n      <td>Steven Alker (14591214)</td>\n      <td>Steven Alker</td>\n      <td>7300</td>\n      <td>50</td>\n      <td>0</td>\n    </tr>\n    <tr>\n      <th>9</th>\n      <td>Jino Sohn (14591217)</td>\n      <td>Jino Sohn</td>\n      <td>6700</td>\n      <td>50</td>\n      <td>0</td>\n    </tr>\n    <tr>\n      <th>10</th>\n      <td>Blake Allen (14591218)</td>\n      <td>Blake Allen</td>\n      <td>6600</td>\n      <td>50</td>\n      <td>0</td>\n    </tr>\n    <tr>\n      <th>11</th>\n      <td>Sam Gillis (14591219)</td>\n      <td>Sam Gillis</td>\n      <td>6500</td>\n      <td>50</td>\n      <td>0</td>\n    </tr>\n    <tr>\n      <th>12</th>\n      <td>Chris Figueroa (14591220)</td>\n      <td>Chris Figueroa</td>\n      <td>6400</td>\n      <td>50</td>\n      <td>0</td>\n    </tr>\n    <tr>\n      <th>13</th>\n      <td>Mitchell Homb (14591221)</td>\n      <td>Mitchell Homb</td>\n      <td>6300</td>\n      <td>50</td>\n      <td>0</td>\n    </tr>\n  </tbody>\n</table>\n</div>",
            "text/plain": "                       Name + ID               Name  Salary  Exposure  \\\n0     Sahith Theegala (14591201)    Sahith Theegala   10400        50   \n1   Alistair Docherty (14591202)  Alistair Docherty   10200        50   \n2      Tyler Weworski (14591204)     Tyler Weworski    9700        50   \n3     Nicolo Galletti (14591205)    Nicolo Galletti    9400        50   \n4        Neil Johnson (14591207)       Neil Johnson    9000        50   \n5      Trevor Lampson (14591210)     Trevor Lampson    8100        50   \n6       Daniel Hudson (14591212)      Daniel Hudson    7700        50   \n7      Zander Winston (14591213)     Zander Winston    7500        50   \n8        Steven Alker (14591214)       Steven Alker    7300        50   \n9           Jino Sohn (14591217)          Jino Sohn    6700        50   \n10        Blake Allen (14591218)        Blake Allen    6600        50   \n11         Sam Gillis (14591219)         Sam Gillis    6500        50   \n12     Chris Figueroa (14591220)     Chris Figueroa    6400        50   \n13      Mitchell Homb (14591221)      Mitchell Homb    6300        50   \n\n    Actual Exposure  \n0                 0  \n1                 0  \n2                 0  \n3                 0  \n4                 0  \n5                 0  \n6                 0  \n7                 0  \n8                 0  \n9                 0  \n10                0  \n11                0  \n12                0  \n13                0  "
          },
          "metadata": {}
        }
      ]
    },
    {
      "metadata": {
        "trusted": true
      },
      "cell_type": "code",
      "source": "#Adjust names\ndf_teams.Exposure = np.where(df_teams.Name.isin(['Neil Johnson','Sam Gillis']),80,df_teams.Exposure)\ndf_teams",
      "execution_count": 58,
      "outputs": [
        {
          "output_type": "execute_result",
          "execution_count": 58,
          "data": {
            "text/html": "<div>\n<style scoped>\n    .dataframe tbody tr th:only-of-type {\n        vertical-align: middle;\n    }\n\n    .dataframe tbody tr th {\n        vertical-align: top;\n    }\n\n    .dataframe thead th {\n        text-align: right;\n    }\n</style>\n<table border=\"1\" class=\"dataframe\">\n  <thead>\n    <tr style=\"text-align: right;\">\n      <th></th>\n      <th>Name + ID</th>\n      <th>Name</th>\n      <th>Salary</th>\n      <th>Exposure</th>\n      <th>Actual Exposure</th>\n    </tr>\n  </thead>\n  <tbody>\n    <tr>\n      <th>0</th>\n      <td>Sahith Theegala (14591201)</td>\n      <td>Sahith Theegala</td>\n      <td>10400</td>\n      <td>50</td>\n      <td>0</td>\n    </tr>\n    <tr>\n      <th>1</th>\n      <td>Alistair Docherty (14591202)</td>\n      <td>Alistair Docherty</td>\n      <td>10200</td>\n      <td>50</td>\n      <td>0</td>\n    </tr>\n    <tr>\n      <th>2</th>\n      <td>Tyler Weworski (14591204)</td>\n      <td>Tyler Weworski</td>\n      <td>9700</td>\n      <td>50</td>\n      <td>0</td>\n    </tr>\n    <tr>\n      <th>3</th>\n      <td>Nicolo Galletti (14591205)</td>\n      <td>Nicolo Galletti</td>\n      <td>9400</td>\n      <td>50</td>\n      <td>0</td>\n    </tr>\n    <tr>\n      <th>4</th>\n      <td>Neil Johnson (14591207)</td>\n      <td>Neil Johnson</td>\n      <td>9000</td>\n      <td>80</td>\n      <td>0</td>\n    </tr>\n    <tr>\n      <th>5</th>\n      <td>Trevor Lampson (14591210)</td>\n      <td>Trevor Lampson</td>\n      <td>8100</td>\n      <td>50</td>\n      <td>0</td>\n    </tr>\n    <tr>\n      <th>6</th>\n      <td>Daniel Hudson (14591212)</td>\n      <td>Daniel Hudson</td>\n      <td>7700</td>\n      <td>50</td>\n      <td>0</td>\n    </tr>\n    <tr>\n      <th>7</th>\n      <td>Zander Winston (14591213)</td>\n      <td>Zander Winston</td>\n      <td>7500</td>\n      <td>50</td>\n      <td>0</td>\n    </tr>\n    <tr>\n      <th>8</th>\n      <td>Steven Alker (14591214)</td>\n      <td>Steven Alker</td>\n      <td>7300</td>\n      <td>50</td>\n      <td>0</td>\n    </tr>\n    <tr>\n      <th>9</th>\n      <td>Jino Sohn (14591217)</td>\n      <td>Jino Sohn</td>\n      <td>6700</td>\n      <td>50</td>\n      <td>0</td>\n    </tr>\n    <tr>\n      <th>10</th>\n      <td>Blake Allen (14591218)</td>\n      <td>Blake Allen</td>\n      <td>6600</td>\n      <td>50</td>\n      <td>0</td>\n    </tr>\n    <tr>\n      <th>11</th>\n      <td>Sam Gillis (14591219)</td>\n      <td>Sam Gillis</td>\n      <td>6500</td>\n      <td>80</td>\n      <td>0</td>\n    </tr>\n    <tr>\n      <th>12</th>\n      <td>Chris Figueroa (14591220)</td>\n      <td>Chris Figueroa</td>\n      <td>6400</td>\n      <td>50</td>\n      <td>0</td>\n    </tr>\n    <tr>\n      <th>13</th>\n      <td>Mitchell Homb (14591221)</td>\n      <td>Mitchell Homb</td>\n      <td>6300</td>\n      <td>50</td>\n      <td>0</td>\n    </tr>\n  </tbody>\n</table>\n</div>",
            "text/plain": "                       Name + ID               Name  Salary  Exposure  \\\n0     Sahith Theegala (14591201)    Sahith Theegala   10400        50   \n1   Alistair Docherty (14591202)  Alistair Docherty   10200        50   \n2      Tyler Weworski (14591204)     Tyler Weworski    9700        50   \n3     Nicolo Galletti (14591205)    Nicolo Galletti    9400        50   \n4        Neil Johnson (14591207)       Neil Johnson    9000        80   \n5      Trevor Lampson (14591210)     Trevor Lampson    8100        50   \n6       Daniel Hudson (14591212)      Daniel Hudson    7700        50   \n7      Zander Winston (14591213)     Zander Winston    7500        50   \n8        Steven Alker (14591214)       Steven Alker    7300        50   \n9           Jino Sohn (14591217)          Jino Sohn    6700        50   \n10        Blake Allen (14591218)        Blake Allen    6600        50   \n11         Sam Gillis (14591219)         Sam Gillis    6500        80   \n12     Chris Figueroa (14591220)     Chris Figueroa    6400        50   \n13      Mitchell Homb (14591221)      Mitchell Homb    6300        50   \n\n    Actual Exposure  \n0                 0  \n1                 0  \n2                 0  \n3                 0  \n4                 0  \n5                 0  \n6                 0  \n7                 0  \n8                 0  \n9                 0  \n10                0  \n11                0  \n12                0  \n13                0  "
          },
          "metadata": {}
        }
      ]
    },
    {
      "metadata": {
        "trusted": true
      },
      "cell_type": "code",
      "source": "df_teams.Salary.mean()",
      "execution_count": null,
      "outputs": []
    },
    {
      "metadata": {
        "trusted": true,
        "scrolled": false
      },
      "cell_type": "code",
      "source": "#Now start churning\n#Now set parameters for number of teams and salary limits\nnum_teams = 33\nmin_sal = 48900\nmax_sal = 49800\n\n#initialize df_lineups, which will be written to csv\ndf_lineups = pd.DataFrame(columns=['G1','G2','G3','G4','G5','G6','Sal'])\ndf_lineups\n\n#Reset df_teams\ndf_teams['Actual Exposure'] = 0\n\nm = 0 #Completed teams so far\nwhile (m < num_teams):\n    #pick 6 players per probabilties\n    curr_team = [p for p in lock_full_names]\n    df_now = df_teams.copy()\n    players = df_now['Name + ID'].tolist()\n    probs = df_now['Exposure'].tolist()\n    for i in range(players_left):\n        p = pick_element_per_probs(players,probs)\n        curr_team.append(p)\n        #print(curr_team)\n        #prit('picked player {}'.format(p))\n        df_now = df_now[df_now['Name + ID']!=p]\n        players = df_now['Name + ID'].tolist()\n        probs = df_now['Exposure'].tolist()\n        \n    #Now curr_team is list of 6 names.  Check if salary matches\n    df_now = df_teams[df_teams['Name + ID'].isin(curr_team)]\n    #total_own = df_now.Ownership.sum()\n    #total_own = 0 #use for small field where ownership is bonkers\n    total_sal = df_now.Salary.sum() + sal_used\n    #print(curr_team,total_sal)\n    ##print(total_sal)\n    if (total_sal < min_sal or total_sal > max_sal):\n        #print('Team eliminated {}, total_sal = {}, total_own = {}'.format('team',total_sal,total_own))\n        continue\n        \n    #Put team in order of decreasing salary\n    df_now.sort_values(by='Salary',ascending=False,inplace=True)\n    curr_team = lock_full_names + df_now['Name + ID'].tolist() + [total_sal]\n    #print('New Team',curr_team)\n    \n    #Check if team has shown up before in df_lineups\n    if len(df_lineups) < 1:\n        old_team = False\n    else:\n        df3 = (df_lineups == np.array(curr_team))\n        old_team = df3.transpose().all().any() #True if team is already in df_lineups\n    if old_team:\n        #print('Team already exists')\n        continue\n        \n    #OK, so now we have a new team!  Add it to df_lineups\n    df_lineups.loc[m] = curr_team\n    #Also update 'Actual Exposure' in df_teams\n    new_players = np.where(df_teams['Name + ID'].isin(curr_team),1,0)\n    df_teams['Actual Exposure'] = df_teams['Actual Exposure'] + new_players\n    \n    #Finally increment m\n    m += 1\n    #print(m)\n    if m%10==0:\n        print('m = {}'.format(m))\n\n    #print('Team {}, sal = {}'.format(m,total_sal))\n    \ndf_teams[['Name + ID','Actual Exposure','Exposure','Salary']]",
      "execution_count": 64,
      "outputs": [
        {
          "output_type": "stream",
          "text": "/home/nbuser/anaconda3_501/lib/python3.6/site-packages/ipykernel/__main__.py:42: SettingWithCopyWarning: \nA value is trying to be set on a copy of a slice from a DataFrame\n\nSee the caveats in the documentation: http://pandas.pydata.org/pandas-docs/stable/indexing.html#indexing-view-versus-copy\n",
          "name": "stderr"
        },
        {
          "output_type": "stream",
          "text": "m = 10\nm = 20\nm = 30\n",
          "name": "stdout"
        },
        {
          "output_type": "execute_result",
          "execution_count": 64,
          "data": {
            "text/html": "<div>\n<style scoped>\n    .dataframe tbody tr th:only-of-type {\n        vertical-align: middle;\n    }\n\n    .dataframe tbody tr th {\n        vertical-align: top;\n    }\n\n    .dataframe thead th {\n        text-align: right;\n    }\n</style>\n<table border=\"1\" class=\"dataframe\">\n  <thead>\n    <tr style=\"text-align: right;\">\n      <th></th>\n      <th>Name + ID</th>\n      <th>Actual Exposure</th>\n      <th>Exposure</th>\n      <th>Salary</th>\n    </tr>\n  </thead>\n  <tbody>\n    <tr>\n      <th>0</th>\n      <td>Sahith Theegala (14591201)</td>\n      <td>16</td>\n      <td>50</td>\n      <td>10400</td>\n    </tr>\n    <tr>\n      <th>1</th>\n      <td>Alistair Docherty (14591202)</td>\n      <td>21</td>\n      <td>50</td>\n      <td>10200</td>\n    </tr>\n    <tr>\n      <th>2</th>\n      <td>Tyler Weworski (14591204)</td>\n      <td>21</td>\n      <td>50</td>\n      <td>9700</td>\n    </tr>\n    <tr>\n      <th>3</th>\n      <td>Nicolo Galletti (14591205)</td>\n      <td>8</td>\n      <td>50</td>\n      <td>9400</td>\n    </tr>\n    <tr>\n      <th>4</th>\n      <td>Neil Johnson (14591207)</td>\n      <td>25</td>\n      <td>80</td>\n      <td>9000</td>\n    </tr>\n    <tr>\n      <th>5</th>\n      <td>Trevor Lampson (14591210)</td>\n      <td>10</td>\n      <td>50</td>\n      <td>8100</td>\n    </tr>\n    <tr>\n      <th>6</th>\n      <td>Daniel Hudson (14591212)</td>\n      <td>10</td>\n      <td>50</td>\n      <td>7700</td>\n    </tr>\n    <tr>\n      <th>7</th>\n      <td>Zander Winston (14591213)</td>\n      <td>13</td>\n      <td>50</td>\n      <td>7500</td>\n    </tr>\n    <tr>\n      <th>8</th>\n      <td>Steven Alker (14591214)</td>\n      <td>11</td>\n      <td>50</td>\n      <td>7300</td>\n    </tr>\n    <tr>\n      <th>9</th>\n      <td>Jino Sohn (14591217)</td>\n      <td>7</td>\n      <td>50</td>\n      <td>6700</td>\n    </tr>\n    <tr>\n      <th>10</th>\n      <td>Blake Allen (14591218)</td>\n      <td>12</td>\n      <td>50</td>\n      <td>6600</td>\n    </tr>\n    <tr>\n      <th>11</th>\n      <td>Sam Gillis (14591219)</td>\n      <td>17</td>\n      <td>80</td>\n      <td>6500</td>\n    </tr>\n    <tr>\n      <th>12</th>\n      <td>Chris Figueroa (14591220)</td>\n      <td>12</td>\n      <td>50</td>\n      <td>6400</td>\n    </tr>\n    <tr>\n      <th>13</th>\n      <td>Mitchell Homb (14591221)</td>\n      <td>15</td>\n      <td>50</td>\n      <td>6300</td>\n    </tr>\n  </tbody>\n</table>\n</div>",
            "text/plain": "                       Name + ID  Actual Exposure  Exposure  Salary\n0     Sahith Theegala (14591201)               16        50   10400\n1   Alistair Docherty (14591202)               21        50   10200\n2      Tyler Weworski (14591204)               21        50    9700\n3     Nicolo Galletti (14591205)                8        50    9400\n4        Neil Johnson (14591207)               25        80    9000\n5      Trevor Lampson (14591210)               10        50    8100\n6       Daniel Hudson (14591212)               10        50    7700\n7      Zander Winston (14591213)               13        50    7500\n8        Steven Alker (14591214)               11        50    7300\n9           Jino Sohn (14591217)                7        50    6700\n10        Blake Allen (14591218)               12        50    6600\n11         Sam Gillis (14591219)               17        80    6500\n12     Chris Figueroa (14591220)               12        50    6400\n13      Mitchell Homb (14591221)               15        50    6300"
          },
          "metadata": {}
        }
      ]
    },
    {
      "metadata": {
        "trusted": true
      },
      "cell_type": "code",
      "source": "for c in df_lineups.columns:\n    df_lineups.rename(columns={c:'G'},inplace=True)",
      "execution_count": 65,
      "outputs": []
    },
    {
      "metadata": {
        "trusted": true
      },
      "cell_type": "code",
      "source": "df_lineups.head()",
      "execution_count": 66,
      "outputs": [
        {
          "output_type": "execute_result",
          "execution_count": 66,
          "data": {
            "text/html": "<div>\n<style scoped>\n    .dataframe tbody tr th:only-of-type {\n        vertical-align: middle;\n    }\n\n    .dataframe tbody tr th {\n        vertical-align: top;\n    }\n\n    .dataframe thead th {\n        text-align: right;\n    }\n</style>\n<table border=\"1\" class=\"dataframe\">\n  <thead>\n    <tr style=\"text-align: right;\">\n      <th></th>\n      <th>G</th>\n      <th>G</th>\n      <th>G</th>\n      <th>G</th>\n      <th>G</th>\n      <th>G</th>\n      <th>G</th>\n    </tr>\n  </thead>\n  <tbody>\n    <tr>\n      <th>0</th>\n      <td>Sahith Theegala (14591201)</td>\n      <td>Alistair Docherty (14591202)</td>\n      <td>Trevor Lampson (14591210)</td>\n      <td>Daniel Hudson (14591212)</td>\n      <td>Chris Figueroa (14591220)</td>\n      <td>Mitchell Homb (14591221)</td>\n      <td>49100</td>\n    </tr>\n    <tr>\n      <th>1</th>\n      <td>Sahith Theegala (14591201)</td>\n      <td>Tyler Weworski (14591204)</td>\n      <td>Neil Johnson (14591207)</td>\n      <td>Steven Alker (14591214)</td>\n      <td>Sam Gillis (14591219)</td>\n      <td>Chris Figueroa (14591220)</td>\n      <td>49300</td>\n    </tr>\n    <tr>\n      <th>2</th>\n      <td>Sahith Theegala (14591201)</td>\n      <td>Tyler Weworski (14591204)</td>\n      <td>Neil Johnson (14591207)</td>\n      <td>Steven Alker (14591214)</td>\n      <td>Blake Allen (14591218)</td>\n      <td>Sam Gillis (14591219)</td>\n      <td>49500</td>\n    </tr>\n    <tr>\n      <th>3</th>\n      <td>Alistair Docherty (14591202)</td>\n      <td>Tyler Weworski (14591204)</td>\n      <td>Trevor Lampson (14591210)</td>\n      <td>Daniel Hudson (14591212)</td>\n      <td>Jino Sohn (14591217)</td>\n      <td>Blake Allen (14591218)</td>\n      <td>49000</td>\n    </tr>\n    <tr>\n      <th>4</th>\n      <td>Alistair Docherty (14591202)</td>\n      <td>Tyler Weworski (14591204)</td>\n      <td>Nicolo Galletti (14591205)</td>\n      <td>Daniel Hudson (14591212)</td>\n      <td>Sam Gillis (14591219)</td>\n      <td>Mitchell Homb (14591221)</td>\n      <td>49800</td>\n    </tr>\n  </tbody>\n</table>\n</div>",
            "text/plain": "                              G                             G  \\\n0    Sahith Theegala (14591201)  Alistair Docherty (14591202)   \n1    Sahith Theegala (14591201)     Tyler Weworski (14591204)   \n2    Sahith Theegala (14591201)     Tyler Weworski (14591204)   \n3  Alistair Docherty (14591202)     Tyler Weworski (14591204)   \n4  Alistair Docherty (14591202)     Tyler Weworski (14591204)   \n\n                            G                         G  \\\n0   Trevor Lampson (14591210)  Daniel Hudson (14591212)   \n1     Neil Johnson (14591207)   Steven Alker (14591214)   \n2     Neil Johnson (14591207)   Steven Alker (14591214)   \n3   Trevor Lampson (14591210)  Daniel Hudson (14591212)   \n4  Nicolo Galletti (14591205)  Daniel Hudson (14591212)   \n\n                           G                          G      G  \n0  Chris Figueroa (14591220)   Mitchell Homb (14591221)  49100  \n1      Sam Gillis (14591219)  Chris Figueroa (14591220)  49300  \n2     Blake Allen (14591218)      Sam Gillis (14591219)  49500  \n3       Jino Sohn (14591217)     Blake Allen (14591218)  49000  \n4      Sam Gillis (14591219)   Mitchell Homb (14591221)  49800  "
          },
          "metadata": {}
        }
      ]
    },
    {
      "metadata": {
        "trusted": true
      },
      "cell_type": "code",
      "source": "#If you're good with actual exposure, then write it!\ndf_lineups.to_csv('Lineups/DK Entires.csv',index=False)",
      "execution_count": 67,
      "outputs": []
    },
    {
      "metadata": {
        "trusted": true
      },
      "cell_type": "code",
      "source": "df_lineups['All'] = df_lineups.sum(axis=1)\ndf_lineups.head(2)",
      "execution_count": null,
      "outputs": []
    },
    {
      "metadata": {
        "trusted": true
      },
      "cell_type": "code",
      "source": "df_lineups[(df_lineups.All.str.contains('Gaugert')) &\n          (df_lineups.All.str.contains('Dalen'))]",
      "execution_count": null,
      "outputs": []
    },
    {
      "metadata": {
        "trusted": true
      },
      "cell_type": "code",
      "source": "",
      "execution_count": null,
      "outputs": []
    }
  ],
  "metadata": {
    "kernelspec": {
      "name": "python36",
      "display_name": "Python 3.6",
      "language": "python"
    },
    "language_info": {
      "mimetype": "text/x-python",
      "nbconvert_exporter": "python",
      "name": "python",
      "pygments_lexer": "ipython3",
      "version": "3.6.6",
      "file_extension": ".py",
      "codemirror_mode": {
        "version": 3,
        "name": "ipython"
      }
    }
  },
  "nbformat": 4,
  "nbformat_minor": 2
}