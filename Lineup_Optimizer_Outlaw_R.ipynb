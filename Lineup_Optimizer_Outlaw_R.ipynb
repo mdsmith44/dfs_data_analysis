{
  "cells": [
    {
      "metadata": {
        "trusted": true
      },
      "cell_type": "code",
      "source": "# url <- 'https://www.draftkings.com/lineup/getavailableplayerscsv?contestTypeId=84&draftGroupId=36302'\n# df <- read.csv(url,stringsAsFactors=FALSE)\n# head(df)",
      "execution_count": 1,
      "outputs": []
    },
    {
      "metadata": {
        "trusted": true
      },
      "cell_type": "code",
      "source": "df <- read.csv('Data/Outlaw_projections_20200625.csv',stringsAsFactors=FALSE)\n\n#only keep odds less than 1000\ndf <- subset(df,Odds<=1000)\ntail(df)",
      "execution_count": 2,
      "outputs": [
        {
          "output_type": "display_data",
          "data": {
            "text/plain": "   Name...ID                         Name          Salary Odds Points   \n44 Alex Lee (14679243) (LOCKED)      Alex Lee      6400   750  -8.807209\n45 Ryan Schmitz (14679244) (LOCKED)  Ryan Schmitz  6300   300  -4.135991\n46 Nick Cantlay (14679245) (LOCKED)  Nick Cantlay  6200   400  -5.997651\n47 Chase Carlson (14679246) (LOCKED) Chase Carlson 6200   500  -7.222029\n48 Steve Sear (14679247) (LOCKED)    Steve Sear    6100   750  -8.807209\n49 Li Wang (14679248) (LOCKED)       Li Wang       6000   600  -8.021154\n   Win         Tee      Hole tee_delay Points_adj\n44 0.001331558 9:00 AM   1   1.5000000 -11.577209\n45 0.003322259 1:10 PM   1   5.6666667  -4.135991\n46 0.002493766 8:10 AM   1   0.6666667  -8.767651\n47 0.001996008 12:40 PM  1   5.1666667  -7.222029\n48 0.001331558 1:50 PM  10   6.3333333  -7.027209\n49 0.001663894 1:30 PM  10   6.0000000  -6.241154",
            "text/latex": "A data.frame: 6 x 10\n\\begin{tabular}{r|llllllllll}\n  & Name...ID & Name & Salary & Odds & Points & Win & Tee & Hole & tee\\_delay & Points\\_adj\\\\\n  & <chr> & <chr> & <int> & <dbl> & <dbl> & <dbl> & <chr> & <int> & <dbl> & <dbl>\\\\\n\\hline\n\t44 & Alex Lee (14679243) (LOCKED)      & Alex Lee      & 6400 & 750 & -8.807209 & 0.001331558 & 9:00 AM  &  1 & 1.5000000 & -11.577209\\\\\n\t45 & Ryan Schmitz (14679244) (LOCKED)  & Ryan Schmitz  & 6300 & 300 & -4.135991 & 0.003322259 & 1:10 PM  &  1 & 5.6666667 &  -4.135991\\\\\n\t46 & Nick Cantlay (14679245) (LOCKED)  & Nick Cantlay  & 6200 & 400 & -5.997651 & 0.002493766 & 8:10 AM  &  1 & 0.6666667 &  -8.767651\\\\\n\t47 & Chase Carlson (14679246) (LOCKED) & Chase Carlson & 6200 & 500 & -7.222029 & 0.001996008 & 12:40 PM &  1 & 5.1666667 &  -7.222029\\\\\n\t48 & Steve Sear (14679247) (LOCKED)    & Steve Sear    & 6100 & 750 & -8.807209 & 0.001331558 & 1:50 PM  & 10 & 6.3333333 &  -7.027209\\\\\n\t49 & Li Wang (14679248) (LOCKED)       & Li Wang       & 6000 & 600 & -8.021154 & 0.001663894 & 1:30 PM  & 10 & 6.0000000 &  -6.241154\\\\\n\\end{tabular}\n",
            "text/markdown": "\nA data.frame: 6 x 10\n\n| <!--/--> | Name...ID &lt;chr&gt; | Name &lt;chr&gt; | Salary &lt;int&gt; | Odds &lt;dbl&gt; | Points &lt;dbl&gt; | Win &lt;dbl&gt; | Tee &lt;chr&gt; | Hole &lt;int&gt; | tee_delay &lt;dbl&gt; | Points_adj &lt;dbl&gt; |\n|---|---|---|---|---|---|---|---|---|---|---|\n| 44 | Alex Lee (14679243) (LOCKED)      | Alex Lee      | 6400 | 750 | -8.807209 | 0.001331558 | 9:00 AM  |  1 | 1.5000000 | -11.577209 |\n| 45 | Ryan Schmitz (14679244) (LOCKED)  | Ryan Schmitz  | 6300 | 300 | -4.135991 | 0.003322259 | 1:10 PM  |  1 | 5.6666667 |  -4.135991 |\n| 46 | Nick Cantlay (14679245) (LOCKED)  | Nick Cantlay  | 6200 | 400 | -5.997651 | 0.002493766 | 8:10 AM  |  1 | 0.6666667 |  -8.767651 |\n| 47 | Chase Carlson (14679246) (LOCKED) | Chase Carlson | 6200 | 500 | -7.222029 | 0.001996008 | 12:40 PM |  1 | 5.1666667 |  -7.222029 |\n| 48 | Steve Sear (14679247) (LOCKED)    | Steve Sear    | 6100 | 750 | -8.807209 | 0.001331558 | 1:50 PM  | 10 | 6.3333333 |  -7.027209 |\n| 49 | Li Wang (14679248) (LOCKED)       | Li Wang       | 6000 | 600 | -8.021154 | 0.001663894 | 1:30 PM  | 10 | 6.0000000 |  -6.241154 |\n\n",
            "text/html": "<table>\n<caption>A data.frame: 6 x 10</caption>\n<thead>\n\t<tr><th></th><th scope=col>Name...ID</th><th scope=col>Name</th><th scope=col>Salary</th><th scope=col>Odds</th><th scope=col>Points</th><th scope=col>Win</th><th scope=col>Tee</th><th scope=col>Hole</th><th scope=col>tee_delay</th><th scope=col>Points_adj</th></tr>\n\t<tr><th></th><th scope=col>&lt;chr&gt;</th><th scope=col>&lt;chr&gt;</th><th scope=col>&lt;int&gt;</th><th scope=col>&lt;dbl&gt;</th><th scope=col>&lt;dbl&gt;</th><th scope=col>&lt;dbl&gt;</th><th scope=col>&lt;chr&gt;</th><th scope=col>&lt;int&gt;</th><th scope=col>&lt;dbl&gt;</th><th scope=col>&lt;dbl&gt;</th></tr>\n</thead>\n<tbody>\n\t<tr><th scope=row>44</th><td>Alex Lee (14679243) (LOCKED)     </td><td>Alex Lee     </td><td>6400</td><td>750</td><td>-8.807209</td><td>0.001331558</td><td>9:00 AM </td><td> 1</td><td>1.5000000</td><td>-11.577209</td></tr>\n\t<tr><th scope=row>45</th><td>Ryan Schmitz (14679244) (LOCKED) </td><td>Ryan Schmitz </td><td>6300</td><td>300</td><td>-4.135991</td><td>0.003322259</td><td>1:10 PM </td><td> 1</td><td>5.6666667</td><td> -4.135991</td></tr>\n\t<tr><th scope=row>46</th><td>Nick Cantlay (14679245) (LOCKED) </td><td>Nick Cantlay </td><td>6200</td><td>400</td><td>-5.997651</td><td>0.002493766</td><td>8:10 AM </td><td> 1</td><td>0.6666667</td><td> -8.767651</td></tr>\n\t<tr><th scope=row>47</th><td>Chase Carlson (14679246) (LOCKED)</td><td>Chase Carlson</td><td>6200</td><td>500</td><td>-7.222029</td><td>0.001996008</td><td>12:40 PM</td><td> 1</td><td>5.1666667</td><td> -7.222029</td></tr>\n\t<tr><th scope=row>48</th><td>Steve Sear (14679247) (LOCKED)   </td><td>Steve Sear   </td><td>6100</td><td>750</td><td>-8.807209</td><td>0.001331558</td><td>1:50 PM </td><td>10</td><td>6.3333333</td><td> -7.027209</td></tr>\n\t<tr><th scope=row>49</th><td>Li Wang (14679248) (LOCKED)      </td><td>Li Wang      </td><td>6000</td><td>600</td><td>-8.021154</td><td>0.001663894</td><td>1:30 PM </td><td>10</td><td>6.0000000</td><td> -6.241154</td></tr>\n</tbody>\n</table>\n"
          },
          "metadata": {}
        }
      ]
    },
    {
      "metadata": {
        "trusted": true
      },
      "cell_type": "code",
      "source": "#Add column of ones\ndf['ones'] <- 1\ndf$ones <- as.integer(df$ones)\nhead(df)",
      "execution_count": 3,
      "outputs": [
        {
          "output_type": "display_data",
          "data": {
            "text/plain": "  Name...ID                             Name              Salary Odds Points  \n1 John Catlin (14679194) (LOCKED)       John Catlin       10700   8   7.383962\n2 Matt Picanso (14679195) (LOCKED)      Matt Picanso      10400  14   7.023074\n3 Mark Anguiano (14679196) (LOCKED)     Mark Anguiano     10200  16   6.904185\n4 Alistair Docherty (14679197) (LOCKED) Alistair Docherty  9900  20   6.668501\n5 Norman Xiong (14679198) (LOCKED)      Norman Xiong       9700  28   6.205432\n6 Brady Calkins (14679200) (LOCKED)     Brady Calkins      9300  16   6.904185\n  Win        Tee     Hole tee_delay Points_adj ones\n1 0.11111111 8:40 AM 10   1.166667  6.393962   1   \n2 0.06666667 2:00 PM 10   6.500000  8.803074   1   \n3 0.05882353 1:50 PM  1   6.333333  6.904185   1   \n4 0.04761905 1:10 PM 10   5.666667  8.448501   1   \n5 0.03448276 1:10 PM 10   5.666667  7.985432   1   \n6 0.05882353 9:30 AM  1   2.000000  4.134185   1   ",
            "text/latex": "A data.frame: 6 x 11\n\\begin{tabular}{r|lllllllllll}\n Name...ID & Name & Salary & Odds & Points & Win & Tee & Hole & tee\\_delay & Points\\_adj & ones\\\\\n <chr> & <chr> & <int> & <dbl> & <dbl> & <dbl> & <chr> & <int> & <dbl> & <dbl> & <int>\\\\\n\\hline\n\t John Catlin (14679194) (LOCKED)       & John Catlin       & 10700 &  8 & 7.383962 & 0.11111111 & 8:40 AM & 10 & 1.166667 & 6.393962 & 1\\\\\n\t Matt Picanso (14679195) (LOCKED)      & Matt Picanso      & 10400 & 14 & 7.023074 & 0.06666667 & 2:00 PM & 10 & 6.500000 & 8.803074 & 1\\\\\n\t Mark Anguiano (14679196) (LOCKED)     & Mark Anguiano     & 10200 & 16 & 6.904185 & 0.05882353 & 1:50 PM &  1 & 6.333333 & 6.904185 & 1\\\\\n\t Alistair Docherty (14679197) (LOCKED) & Alistair Docherty &  9900 & 20 & 6.668501 & 0.04761905 & 1:10 PM & 10 & 5.666667 & 8.448501 & 1\\\\\n\t Norman Xiong (14679198) (LOCKED)      & Norman Xiong      &  9700 & 28 & 6.205432 & 0.03448276 & 1:10 PM & 10 & 5.666667 & 7.985432 & 1\\\\\n\t Brady Calkins (14679200) (LOCKED)     & Brady Calkins     &  9300 & 16 & 6.904185 & 0.05882353 & 9:30 AM &  1 & 2.000000 & 4.134185 & 1\\\\\n\\end{tabular}\n",
            "text/markdown": "\nA data.frame: 6 x 11\n\n| Name...ID &lt;chr&gt; | Name &lt;chr&gt; | Salary &lt;int&gt; | Odds &lt;dbl&gt; | Points &lt;dbl&gt; | Win &lt;dbl&gt; | Tee &lt;chr&gt; | Hole &lt;int&gt; | tee_delay &lt;dbl&gt; | Points_adj &lt;dbl&gt; | ones &lt;int&gt; |\n|---|---|---|---|---|---|---|---|---|---|---|\n| John Catlin (14679194) (LOCKED)       | John Catlin       | 10700 |  8 | 7.383962 | 0.11111111 | 8:40 AM | 10 | 1.166667 | 6.393962 | 1 |\n| Matt Picanso (14679195) (LOCKED)      | Matt Picanso      | 10400 | 14 | 7.023074 | 0.06666667 | 2:00 PM | 10 | 6.500000 | 8.803074 | 1 |\n| Mark Anguiano (14679196) (LOCKED)     | Mark Anguiano     | 10200 | 16 | 6.904185 | 0.05882353 | 1:50 PM |  1 | 6.333333 | 6.904185 | 1 |\n| Alistair Docherty (14679197) (LOCKED) | Alistair Docherty |  9900 | 20 | 6.668501 | 0.04761905 | 1:10 PM | 10 | 5.666667 | 8.448501 | 1 |\n| Norman Xiong (14679198) (LOCKED)      | Norman Xiong      |  9700 | 28 | 6.205432 | 0.03448276 | 1:10 PM | 10 | 5.666667 | 7.985432 | 1 |\n| Brady Calkins (14679200) (LOCKED)     | Brady Calkins     |  9300 | 16 | 6.904185 | 0.05882353 | 9:30 AM |  1 | 2.000000 | 4.134185 | 1 |\n\n",
            "text/html": "<table>\n<caption>A data.frame: 6 x 11</caption>\n<thead>\n\t<tr><th scope=col>Name...ID</th><th scope=col>Name</th><th scope=col>Salary</th><th scope=col>Odds</th><th scope=col>Points</th><th scope=col>Win</th><th scope=col>Tee</th><th scope=col>Hole</th><th scope=col>tee_delay</th><th scope=col>Points_adj</th><th scope=col>ones</th></tr>\n\t<tr><th scope=col>&lt;chr&gt;</th><th scope=col>&lt;chr&gt;</th><th scope=col>&lt;int&gt;</th><th scope=col>&lt;dbl&gt;</th><th scope=col>&lt;dbl&gt;</th><th scope=col>&lt;dbl&gt;</th><th scope=col>&lt;chr&gt;</th><th scope=col>&lt;int&gt;</th><th scope=col>&lt;dbl&gt;</th><th scope=col>&lt;dbl&gt;</th><th scope=col>&lt;int&gt;</th></tr>\n</thead>\n<tbody>\n\t<tr><td>John Catlin (14679194) (LOCKED)      </td><td>John Catlin      </td><td>10700</td><td> 8</td><td>7.383962</td><td>0.11111111</td><td>8:40 AM</td><td>10</td><td>1.166667</td><td>6.393962</td><td>1</td></tr>\n\t<tr><td>Matt Picanso (14679195) (LOCKED)     </td><td>Matt Picanso     </td><td>10400</td><td>14</td><td>7.023074</td><td>0.06666667</td><td>2:00 PM</td><td>10</td><td>6.500000</td><td>8.803074</td><td>1</td></tr>\n\t<tr><td>Mark Anguiano (14679196) (LOCKED)    </td><td>Mark Anguiano    </td><td>10200</td><td>16</td><td>6.904185</td><td>0.05882353</td><td>1:50 PM</td><td> 1</td><td>6.333333</td><td>6.904185</td><td>1</td></tr>\n\t<tr><td>Alistair Docherty (14679197) (LOCKED)</td><td>Alistair Docherty</td><td> 9900</td><td>20</td><td>6.668501</td><td>0.04761905</td><td>1:10 PM</td><td>10</td><td>5.666667</td><td>8.448501</td><td>1</td></tr>\n\t<tr><td>Norman Xiong (14679198) (LOCKED)     </td><td>Norman Xiong     </td><td> 9700</td><td>28</td><td>6.205432</td><td>0.03448276</td><td>1:10 PM</td><td>10</td><td>5.666667</td><td>7.985432</td><td>1</td></tr>\n\t<tr><td>Brady Calkins (14679200) (LOCKED)    </td><td>Brady Calkins    </td><td> 9300</td><td>16</td><td>6.904185</td><td>0.05882353</td><td>9:30 AM</td><td> 1</td><td>2.000000</td><td>4.134185</td><td>1</td></tr>\n</tbody>\n</table>\n"
          },
          "metadata": {}
        }
      ]
    },
    {
      "metadata": {
        "trusted": true
      },
      "cell_type": "code",
      "source": "library('lpSolve')\nlibrary(dplyr)",
      "execution_count": 4,
      "outputs": [
        {
          "output_type": "stream",
          "text": "\nAttaching package: ‘dplyr’\n\nThe following objects are masked from ‘package:stats’:\n\n    filter, lag\n\nThe following objects are masked from ‘package:base’:\n\n    intersect, setdiff, setequal, union\n\n",
          "name": "stderr"
        }
      ]
    },
    {
      "metadata": {
        "trusted": true
      },
      "cell_type": "code",
      "source": "#Practice finding optimal team\n# Set coefficients of the objective function\nf.obj <- df$Points_adj\n\n# Set matrix corresponding to coefficients of constraints by rows\n#f*dk_salary <= 50000\n#f*ones == 6\nf.con <- t(data.matrix(df[c('Salary','ones')]))\n\n# Set unequality/equality signs\nf.dir <- c(\"<=\",\n           \"==\")\n\n# Set right hand side coefficients\nf.rhs <- c(50000,\n           6)\n\n# # Variables final values\nopt_team <- lp(\"max\", f.obj, f.con, f.dir, f.rhs, all.bin = TRUE)$solution\ndf['opt_team'] <- opt_team\nfilter(df,opt_team==1)",
      "execution_count": 7,
      "outputs": [
        {
          "output_type": "display_data",
          "data": {
            "text/plain": "  Name...ID                             Name              Salary Odds Points  \n1 Alistair Docherty (14679197) (LOCKED) Alistair Docherty 9900    20  6.668501\n2 Norman Xiong (14679198) (LOCKED)      Norman Xiong      9700    28  6.205432\n3 Andrew Funk (14679211) (LOCKED)       Andrew Funk       8200    40  5.531240\n4 Zach Smith (14679212) (LOCKED)        Zach Smith        8100    20  6.668501\n5 Ryan Gronlund (14679220) (LOCKED)     Ryan Gronlund     7500    40  5.531240\n6 George Markham (14679238) (LOCKED)    George Markham    6600   100  2.508003\n  Win        Tee     Hole tee_delay Points_adj ones opt_team\n1 0.04761905 1:10 PM 10   5.666667  8.448501   1    1       \n2 0.03448276 1:10 PM 10   5.666667  7.985432   1    1       \n3 0.02439024 1:50 PM  1   6.333333  5.531240   1    1       \n4 0.04761905 1:00 PM  1   5.500000  6.668501   1    1       \n5 0.02439024 8:30 AM 10   1.000000  4.541240   1    1       \n6 0.00990099 8:50 AM 10   1.333333  1.518003   1    1       ",
            "text/latex": "A data.frame: 6 x 12\n\\begin{tabular}{r|llllllllllll}\n Name...ID & Name & Salary & Odds & Points & Win & Tee & Hole & tee\\_delay & Points\\_adj & ones & opt\\_team\\\\\n <chr> & <chr> & <int> & <dbl> & <dbl> & <dbl> & <chr> & <int> & <dbl> & <dbl> & <int> & <dbl>\\\\\n\\hline\n\t Alistair Docherty (14679197) (LOCKED) & Alistair Docherty & 9900 &  20 & 6.668501 & 0.04761905 & 1:10 PM & 10 & 5.666667 & 8.448501 & 1 & 1\\\\\n\t Norman Xiong (14679198) (LOCKED)      & Norman Xiong      & 9700 &  28 & 6.205432 & 0.03448276 & 1:10 PM & 10 & 5.666667 & 7.985432 & 1 & 1\\\\\n\t Andrew Funk (14679211) (LOCKED)       & Andrew Funk       & 8200 &  40 & 5.531240 & 0.02439024 & 1:50 PM &  1 & 6.333333 & 5.531240 & 1 & 1\\\\\n\t Zach Smith (14679212) (LOCKED)        & Zach Smith        & 8100 &  20 & 6.668501 & 0.04761905 & 1:00 PM &  1 & 5.500000 & 6.668501 & 1 & 1\\\\\n\t Ryan Gronlund (14679220) (LOCKED)     & Ryan Gronlund     & 7500 &  40 & 5.531240 & 0.02439024 & 8:30 AM & 10 & 1.000000 & 4.541240 & 1 & 1\\\\\n\t George Markham (14679238) (LOCKED)    & George Markham    & 6600 & 100 & 2.508003 & 0.00990099 & 8:50 AM & 10 & 1.333333 & 1.518003 & 1 & 1\\\\\n\\end{tabular}\n",
            "text/markdown": "\nA data.frame: 6 x 12\n\n| Name...ID &lt;chr&gt; | Name &lt;chr&gt; | Salary &lt;int&gt; | Odds &lt;dbl&gt; | Points &lt;dbl&gt; | Win &lt;dbl&gt; | Tee &lt;chr&gt; | Hole &lt;int&gt; | tee_delay &lt;dbl&gt; | Points_adj &lt;dbl&gt; | ones &lt;int&gt; | opt_team &lt;dbl&gt; |\n|---|---|---|---|---|---|---|---|---|---|---|---|\n| Alistair Docherty (14679197) (LOCKED) | Alistair Docherty | 9900 |  20 | 6.668501 | 0.04761905 | 1:10 PM | 10 | 5.666667 | 8.448501 | 1 | 1 |\n| Norman Xiong (14679198) (LOCKED)      | Norman Xiong      | 9700 |  28 | 6.205432 | 0.03448276 | 1:10 PM | 10 | 5.666667 | 7.985432 | 1 | 1 |\n| Andrew Funk (14679211) (LOCKED)       | Andrew Funk       | 8200 |  40 | 5.531240 | 0.02439024 | 1:50 PM |  1 | 6.333333 | 5.531240 | 1 | 1 |\n| Zach Smith (14679212) (LOCKED)        | Zach Smith        | 8100 |  20 | 6.668501 | 0.04761905 | 1:00 PM |  1 | 5.500000 | 6.668501 | 1 | 1 |\n| Ryan Gronlund (14679220) (LOCKED)     | Ryan Gronlund     | 7500 |  40 | 5.531240 | 0.02439024 | 8:30 AM | 10 | 1.000000 | 4.541240 | 1 | 1 |\n| George Markham (14679238) (LOCKED)    | George Markham    | 6600 | 100 | 2.508003 | 0.00990099 | 8:50 AM | 10 | 1.333333 | 1.518003 | 1 | 1 |\n\n",
            "text/html": "<table>\n<caption>A data.frame: 6 x 12</caption>\n<thead>\n\t<tr><th scope=col>Name...ID</th><th scope=col>Name</th><th scope=col>Salary</th><th scope=col>Odds</th><th scope=col>Points</th><th scope=col>Win</th><th scope=col>Tee</th><th scope=col>Hole</th><th scope=col>tee_delay</th><th scope=col>Points_adj</th><th scope=col>ones</th><th scope=col>opt_team</th></tr>\n\t<tr><th scope=col>&lt;chr&gt;</th><th scope=col>&lt;chr&gt;</th><th scope=col>&lt;int&gt;</th><th scope=col>&lt;dbl&gt;</th><th scope=col>&lt;dbl&gt;</th><th scope=col>&lt;dbl&gt;</th><th scope=col>&lt;chr&gt;</th><th scope=col>&lt;int&gt;</th><th scope=col>&lt;dbl&gt;</th><th scope=col>&lt;dbl&gt;</th><th scope=col>&lt;int&gt;</th><th scope=col>&lt;dbl&gt;</th></tr>\n</thead>\n<tbody>\n\t<tr><td>Alistair Docherty (14679197) (LOCKED)</td><td>Alistair Docherty</td><td>9900</td><td> 20</td><td>6.668501</td><td>0.04761905</td><td>1:10 PM</td><td>10</td><td>5.666667</td><td>8.448501</td><td>1</td><td>1</td></tr>\n\t<tr><td>Norman Xiong (14679198) (LOCKED)     </td><td>Norman Xiong     </td><td>9700</td><td> 28</td><td>6.205432</td><td>0.03448276</td><td>1:10 PM</td><td>10</td><td>5.666667</td><td>7.985432</td><td>1</td><td>1</td></tr>\n\t<tr><td>Andrew Funk (14679211) (LOCKED)      </td><td>Andrew Funk      </td><td>8200</td><td> 40</td><td>5.531240</td><td>0.02439024</td><td>1:50 PM</td><td> 1</td><td>6.333333</td><td>5.531240</td><td>1</td><td>1</td></tr>\n\t<tr><td>Zach Smith (14679212) (LOCKED)       </td><td>Zach Smith       </td><td>8100</td><td> 20</td><td>6.668501</td><td>0.04761905</td><td>1:00 PM</td><td> 1</td><td>5.500000</td><td>6.668501</td><td>1</td><td>1</td></tr>\n\t<tr><td>Ryan Gronlund (14679220) (LOCKED)    </td><td>Ryan Gronlund    </td><td>7500</td><td> 40</td><td>5.531240</td><td>0.02439024</td><td>8:30 AM</td><td>10</td><td>1.000000</td><td>4.541240</td><td>1</td><td>1</td></tr>\n\t<tr><td>George Markham (14679238) (LOCKED)   </td><td>George Markham   </td><td>6600</td><td>100</td><td>2.508003</td><td>0.00990099</td><td>8:50 AM</td><td>10</td><td>1.333333</td><td>1.518003</td><td>1</td><td>1</td></tr>\n</tbody>\n</table>\n"
          },
          "metadata": {}
        }
      ]
    },
    {
      "metadata": {
        "trusted": true
      },
      "cell_type": "code",
      "source": "#Find top N teams\nnum_teams = 6\ndf_now <- df\nto_remove = c()\nfor (n in to_remove) {\n    df_now <- filter(df_now,Name!=n) \n}\n#Max sal\nmax_sal <- 99900\nmin_sal <- 6000\ndf_now <- subset(df_now,Salary<=max_sal)\ndf_now <- subset(df_now,Salary>=min_sal)\nbase_exposure <- 50\nexposure_gap <- 5\n\nfor (i in seq(1:num_teams)) {\n    # Set coefficients of the objective function\n    f.obj <- df_now$Points\n    #f.obj <- df_now$Points_adj\n\n    # Set matrix corresponding to coefficients of constraints by rows\n    #f*dk_salary <= 50000\n    #f*ones == 6\n    f.con <- t(data.matrix(df_now[c('Salary','ones')]))\n    \n    # Set unequality/equality signs\n    f.dir <- c(\"<=\",\n               \"==\")\n    \n    # Set right hand side coefficients\n    f.rhs <- c(50000,\n               6)\n\n    # # Variables final values\n    #opt_val <- lp(\"max\", f.obj, f.con, f.dir, f.rhs, int.vec = 1:4, all.bin = TRUE)$objective\n    opt_team <- lp(\"max\", f.obj, f.con, f.dir, f.rhs, int.vec = 1:4, all.bin = TRUE)$solution\n    df_now['opt_team'] <- opt_team\n    df_opt <- filter(df_now,opt_team==1)\n    \n    #Print current best team\n    print(paste('Team ',i,':',sep=\"\"))\n    print(paste(df_opt$Name))\n    \n    #Add best team to df_teams\n    if (i==1) {\n        df_teams <- df_opt[c('Name...ID','Salary','Tee','Hole')]\n        df_teams['Exposure'] <- base_exposure\n    } else {\n        df_teams_new <- df_opt[c('Name...ID','Salary','Tee','Hole')]\n        df_teams_new['Exposure'] <- base_exposure - (i-1)*exposure_gap\n        df_teams <- rbind(df_teams,df_teams_new)\n    }\n    \n    #Remove current opt team\n    df_now <- filter(df_now,opt_team==0)\n}",
      "execution_count": 18,
      "outputs": [
        {
          "output_type": "stream",
          "text": "[1] \"Team 1:\"\n[1] \"Brady Calkins\"  \"David Gazzolo\"  \"Andrew Funk\"    \"Zach Smith\"    \n[5] \"Zander Winston\" \"Ryan Gronlund\" \n[1] \"Team 2:\"\n[1] \"John Catlin\"     \"Eric Sugimoto\"   \"Matt Marshall\"   \"Michael McGowan\"\n[5] \"Riley Elmes\"     \"Ben Geyer\"      \n[1] \"Team 3:\"\n[1] \"Mark Anguiano\"     \"Alistair Docherty\" \"Andrew Yun\"       \n[4] \"Bryan Martin\"      \"Jino Sohn\"         \"George Markham\"   \n[1] \"Team 4:\"\n[1] \"Matt Picanso\"    \"Derek Bayley\"    \"Noah Hofman\"     \"Mario Beltran\"  \n[5] \"Matt Snyder\"     \"Austin Bautista\"\n[1] \"Team 5:\"\n[1] \"Norman Xiong\"      \"Blake Abercrombie\" \"Jared du Toit\"    \n[4] \"Chad Hambright\"    \"Cole Madey\"        \"Dalan Refioglu\"   \n[1] \"Team 6:\"\n[1] \"Michael Weaver\" \"Derek Castillo\" \"Sam Gillis\"     \"John Greco\"    \n[5] \"Grant Booth\"    \"Jared Sawada\"  \n",
          "name": "stdout"
        }
      ]
    },
    {
      "metadata": {
        "trusted": true
      },
      "cell_type": "code",
      "source": "teams_to_keep = 2\nlow_exposure = base_exposure - (teams_to_keep-1)*exposure_gap\ndf_teams <- filter(df_teams,Exposure >= low_exposure)\ndf_teams <- df_teams[order(-df_teams$Salary),]\ndf_teams",
      "execution_count": 19,
      "outputs": [
        {
          "output_type": "display_data",
          "data": {
            "text/plain": "   Name...ID                  Salary Tee     Hole Exposure\n7  John Catlin (14679194)     10700  8:40 AM 10   45      \n1  Brady Calkins (14679200)    9300  9:30 AM  1   50      \n2  David Gazzolo (14679206)    8700  1:00 PM  1   50      \n8  Eric Sugimoto (14679207)    8600  8:40 AM  1   45      \n9  Matt Marshall (14679209)    8400  1:20 PM  1   45      \n3  Andrew Funk (14679211)      8200  1:50 PM  1   50      \n4  Zach Smith (14679212)       8100  1:00 PM  1   50      \n5  Zander Winston (14679213)   8000  9:20 AM 10   50      \n10 Michael McGowan (14679218)  7600  8:50 AM 10   45      \n11 Riley Elmes (14679219)      7600  8:10 AM 10   45      \n6  Ryan Gronlund (14679220)    7500  8:30 AM 10   50      \n12 Ben Geyer (14679229)        7100  9:10 AM  1   45      ",
            "text/latex": "A data.frame: 12 x 5\n\\begin{tabular}{r|lllll}\n  & Name...ID & Salary & Tee & Hole & Exposure\\\\\n  & <chr> & <int> & <chr> & <int> & <dbl>\\\\\n\\hline\n\t7 & John Catlin (14679194)     & 10700 & 8:40 AM & 10 & 45\\\\\n\t1 & Brady Calkins (14679200)   &  9300 & 9:30 AM &  1 & 50\\\\\n\t2 & David Gazzolo (14679206)   &  8700 & 1:00 PM &  1 & 50\\\\\n\t8 & Eric Sugimoto (14679207)   &  8600 & 8:40 AM &  1 & 45\\\\\n\t9 & Matt Marshall (14679209)   &  8400 & 1:20 PM &  1 & 45\\\\\n\t3 & Andrew Funk (14679211)     &  8200 & 1:50 PM &  1 & 50\\\\\n\t4 & Zach Smith (14679212)      &  8100 & 1:00 PM &  1 & 50\\\\\n\t5 & Zander Winston (14679213)  &  8000 & 9:20 AM & 10 & 50\\\\\n\t10 & Michael McGowan (14679218) &  7600 & 8:50 AM & 10 & 45\\\\\n\t11 & Riley Elmes (14679219)     &  7600 & 8:10 AM & 10 & 45\\\\\n\t6 & Ryan Gronlund (14679220)   &  7500 & 8:30 AM & 10 & 50\\\\\n\t12 & Ben Geyer (14679229)       &  7100 & 9:10 AM &  1 & 45\\\\\n\\end{tabular}\n",
            "text/markdown": "\nA data.frame: 12 x 5\n\n| <!--/--> | Name...ID &lt;chr&gt; | Salary &lt;int&gt; | Tee &lt;chr&gt; | Hole &lt;int&gt; | Exposure &lt;dbl&gt; |\n|---|---|---|---|---|---|\n| 7 | John Catlin (14679194)     | 10700 | 8:40 AM | 10 | 45 |\n| 1 | Brady Calkins (14679200)   |  9300 | 9:30 AM |  1 | 50 |\n| 2 | David Gazzolo (14679206)   |  8700 | 1:00 PM |  1 | 50 |\n| 8 | Eric Sugimoto (14679207)   |  8600 | 8:40 AM |  1 | 45 |\n| 9 | Matt Marshall (14679209)   |  8400 | 1:20 PM |  1 | 45 |\n| 3 | Andrew Funk (14679211)     |  8200 | 1:50 PM |  1 | 50 |\n| 4 | Zach Smith (14679212)      |  8100 | 1:00 PM |  1 | 50 |\n| 5 | Zander Winston (14679213)  |  8000 | 9:20 AM | 10 | 50 |\n| 10 | Michael McGowan (14679218) |  7600 | 8:50 AM | 10 | 45 |\n| 11 | Riley Elmes (14679219)     |  7600 | 8:10 AM | 10 | 45 |\n| 6 | Ryan Gronlund (14679220)   |  7500 | 8:30 AM | 10 | 50 |\n| 12 | Ben Geyer (14679229)       |  7100 | 9:10 AM |  1 | 45 |\n\n",
            "text/html": "<table>\n<caption>A data.frame: 12 x 5</caption>\n<thead>\n\t<tr><th></th><th scope=col>Name...ID</th><th scope=col>Salary</th><th scope=col>Tee</th><th scope=col>Hole</th><th scope=col>Exposure</th></tr>\n\t<tr><th></th><th scope=col>&lt;chr&gt;</th><th scope=col>&lt;int&gt;</th><th scope=col>&lt;chr&gt;</th><th scope=col>&lt;int&gt;</th><th scope=col>&lt;dbl&gt;</th></tr>\n</thead>\n<tbody>\n\t<tr><th scope=row>7</th><td>John Catlin (14679194)    </td><td>10700</td><td>8:40 AM</td><td>10</td><td>45</td></tr>\n\t<tr><th scope=row>1</th><td>Brady Calkins (14679200)  </td><td> 9300</td><td>9:30 AM</td><td> 1</td><td>50</td></tr>\n\t<tr><th scope=row>2</th><td>David Gazzolo (14679206)  </td><td> 8700</td><td>1:00 PM</td><td> 1</td><td>50</td></tr>\n\t<tr><th scope=row>8</th><td>Eric Sugimoto (14679207)  </td><td> 8600</td><td>8:40 AM</td><td> 1</td><td>45</td></tr>\n\t<tr><th scope=row>9</th><td>Matt Marshall (14679209)  </td><td> 8400</td><td>1:20 PM</td><td> 1</td><td>45</td></tr>\n\t<tr><th scope=row>3</th><td>Andrew Funk (14679211)    </td><td> 8200</td><td>1:50 PM</td><td> 1</td><td>50</td></tr>\n\t<tr><th scope=row>4</th><td>Zach Smith (14679212)     </td><td> 8100</td><td>1:00 PM</td><td> 1</td><td>50</td></tr>\n\t<tr><th scope=row>5</th><td>Zander Winston (14679213) </td><td> 8000</td><td>9:20 AM</td><td>10</td><td>50</td></tr>\n\t<tr><th scope=row>10</th><td>Michael McGowan (14679218)</td><td> 7600</td><td>8:50 AM</td><td>10</td><td>45</td></tr>\n\t<tr><th scope=row>11</th><td>Riley Elmes (14679219)    </td><td> 7600</td><td>8:10 AM</td><td>10</td><td>45</td></tr>\n\t<tr><th scope=row>6</th><td>Ryan Gronlund (14679220)  </td><td> 7500</td><td>8:30 AM</td><td>10</td><td>50</td></tr>\n\t<tr><th scope=row>12</th><td>Ben Geyer (14679229)      </td><td> 7100</td><td>9:10 AM</td><td> 1</td><td>45</td></tr>\n</tbody>\n</table>\n"
          },
          "metadata": {}
        }
      ]
    },
    {
      "metadata": {
        "trusted": true
      },
      "cell_type": "code",
      "source": "#Add more players\nmore_names = c('Sam Gillis',\"Mario Beltran\", \"Mark Anguiano\",\"Alistair Docherty\")\ndf_more <- subset(df,Name %in% more_names)[c('Name...ID','Salary','Tee','Hole')]\ndf_more['Exposure'] = low_exposure-1\ndf_more",
      "execution_count": 20,
      "outputs": [
        {
          "output_type": "display_data",
          "data": {
            "text/plain": "   Name...ID                    Salary Tee     Hole Exposure\n3  Mark Anguiano (14679196)     10200  1:50 PM  1   44      \n4  Alistair Docherty (14679197)  9900  1:10 PM 10   44      \n19 Mario Beltran (14679214)      7900  9:00 AM  1   44      \n29 Sam Gillis (14679224)         7300  2:10 PM 10   44      ",
            "text/latex": "A data.frame: 4 x 5\n\\begin{tabular}{r|lllll}\n  & Name...ID & Salary & Tee & Hole & Exposure\\\\\n  & <chr> & <int> & <chr> & <int> & <dbl>\\\\\n\\hline\n\t3 & Mark Anguiano (14679196)     & 10200 & 1:50 PM &  1 & 44\\\\\n\t4 & Alistair Docherty (14679197) &  9900 & 1:10 PM & 10 & 44\\\\\n\t19 & Mario Beltran (14679214)     &  7900 & 9:00 AM &  1 & 44\\\\\n\t29 & Sam Gillis (14679224)        &  7300 & 2:10 PM & 10 & 44\\\\\n\\end{tabular}\n",
            "text/markdown": "\nA data.frame: 4 x 5\n\n| <!--/--> | Name...ID &lt;chr&gt; | Salary &lt;int&gt; | Tee &lt;chr&gt; | Hole &lt;int&gt; | Exposure &lt;dbl&gt; |\n|---|---|---|---|---|---|\n| 3 | Mark Anguiano (14679196)     | 10200 | 1:50 PM |  1 | 44 |\n| 4 | Alistair Docherty (14679197) |  9900 | 1:10 PM | 10 | 44 |\n| 19 | Mario Beltran (14679214)     |  7900 | 9:00 AM |  1 | 44 |\n| 29 | Sam Gillis (14679224)        |  7300 | 2:10 PM | 10 | 44 |\n\n",
            "text/html": "<table>\n<caption>A data.frame: 4 x 5</caption>\n<thead>\n\t<tr><th></th><th scope=col>Name...ID</th><th scope=col>Salary</th><th scope=col>Tee</th><th scope=col>Hole</th><th scope=col>Exposure</th></tr>\n\t<tr><th></th><th scope=col>&lt;chr&gt;</th><th scope=col>&lt;int&gt;</th><th scope=col>&lt;chr&gt;</th><th scope=col>&lt;int&gt;</th><th scope=col>&lt;dbl&gt;</th></tr>\n</thead>\n<tbody>\n\t<tr><th scope=row>3</th><td>Mark Anguiano (14679196)    </td><td>10200</td><td>1:50 PM</td><td> 1</td><td>44</td></tr>\n\t<tr><th scope=row>4</th><td>Alistair Docherty (14679197)</td><td> 9900</td><td>1:10 PM</td><td>10</td><td>44</td></tr>\n\t<tr><th scope=row>19</th><td>Mario Beltran (14679214)    </td><td> 7900</td><td>9:00 AM</td><td> 1</td><td>44</td></tr>\n\t<tr><th scope=row>29</th><td>Sam Gillis (14679224)       </td><td> 7300</td><td>2:10 PM</td><td>10</td><td>44</td></tr>\n</tbody>\n</table>\n"
          },
          "metadata": {}
        }
      ]
    },
    {
      "metadata": {
        "trusted": true
      },
      "cell_type": "code",
      "source": "#Add more players and rsete exposure\ndf_teams <- rbind(df_teams,df_more)\ndf_teams <- df_teams[order(-df_teams$Salary),]\n\n#replace exposure with probabilities\ndf_teams$Exposure <- df_teams$Exposure / sum(df_teams$Exposure)\ndf_teams",
      "execution_count": 21,
      "outputs": [
        {
          "output_type": "display_data",
          "data": {
            "text/plain": "   Name...ID                    Salary Tee     Hole Exposure  \n7  John Catlin (14679194)       10700  8:40 AM 10   0.06032172\n31 Mark Anguiano (14679196)     10200  1:50 PM  1   0.05898123\n41 Alistair Docherty (14679197)  9900  1:10 PM 10   0.05898123\n1  Brady Calkins (14679200)      9300  9:30 AM  1   0.06702413\n2  David Gazzolo (14679206)      8700  1:00 PM  1   0.06702413\n8  Eric Sugimoto (14679207)      8600  8:40 AM  1   0.06032172\n9  Matt Marshall (14679209)      8400  1:20 PM  1   0.06032172\n3  Andrew Funk (14679211)        8200  1:50 PM  1   0.06702413\n4  Zach Smith (14679212)         8100  1:00 PM  1   0.06702413\n5  Zander Winston (14679213)     8000  9:20 AM 10   0.06702413\n19 Mario Beltran (14679214)      7900  9:00 AM  1   0.05898123\n10 Michael McGowan (14679218)    7600  8:50 AM 10   0.06032172\n11 Riley Elmes (14679219)        7600  8:10 AM 10   0.06032172\n6  Ryan Gronlund (14679220)      7500  8:30 AM 10   0.06702413\n29 Sam Gillis (14679224)         7300  2:10 PM 10   0.05898123\n12 Ben Geyer (14679229)          7100  9:10 AM  1   0.06032172",
            "text/latex": "A data.frame: 16 x 5\n\\begin{tabular}{r|lllll}\n  & Name...ID & Salary & Tee & Hole & Exposure\\\\\n  & <chr> & <int> & <chr> & <int> & <dbl>\\\\\n\\hline\n\t7 & John Catlin (14679194)       & 10700 & 8:40 AM & 10 & 0.06032172\\\\\n\t31 & Mark Anguiano (14679196)     & 10200 & 1:50 PM &  1 & 0.05898123\\\\\n\t41 & Alistair Docherty (14679197) &  9900 & 1:10 PM & 10 & 0.05898123\\\\\n\t1 & Brady Calkins (14679200)     &  9300 & 9:30 AM &  1 & 0.06702413\\\\\n\t2 & David Gazzolo (14679206)     &  8700 & 1:00 PM &  1 & 0.06702413\\\\\n\t8 & Eric Sugimoto (14679207)     &  8600 & 8:40 AM &  1 & 0.06032172\\\\\n\t9 & Matt Marshall (14679209)     &  8400 & 1:20 PM &  1 & 0.06032172\\\\\n\t3 & Andrew Funk (14679211)       &  8200 & 1:50 PM &  1 & 0.06702413\\\\\n\t4 & Zach Smith (14679212)        &  8100 & 1:00 PM &  1 & 0.06702413\\\\\n\t5 & Zander Winston (14679213)    &  8000 & 9:20 AM & 10 & 0.06702413\\\\\n\t19 & Mario Beltran (14679214)     &  7900 & 9:00 AM &  1 & 0.05898123\\\\\n\t10 & Michael McGowan (14679218)   &  7600 & 8:50 AM & 10 & 0.06032172\\\\\n\t11 & Riley Elmes (14679219)       &  7600 & 8:10 AM & 10 & 0.06032172\\\\\n\t6 & Ryan Gronlund (14679220)     &  7500 & 8:30 AM & 10 & 0.06702413\\\\\n\t29 & Sam Gillis (14679224)        &  7300 & 2:10 PM & 10 & 0.05898123\\\\\n\t12 & Ben Geyer (14679229)         &  7100 & 9:10 AM &  1 & 0.06032172\\\\\n\\end{tabular}\n",
            "text/markdown": "\nA data.frame: 16 x 5\n\n| <!--/--> | Name...ID &lt;chr&gt; | Salary &lt;int&gt; | Tee &lt;chr&gt; | Hole &lt;int&gt; | Exposure &lt;dbl&gt; |\n|---|---|---|---|---|---|\n| 7 | John Catlin (14679194)       | 10700 | 8:40 AM | 10 | 0.06032172 |\n| 31 | Mark Anguiano (14679196)     | 10200 | 1:50 PM |  1 | 0.05898123 |\n| 41 | Alistair Docherty (14679197) |  9900 | 1:10 PM | 10 | 0.05898123 |\n| 1 | Brady Calkins (14679200)     |  9300 | 9:30 AM |  1 | 0.06702413 |\n| 2 | David Gazzolo (14679206)     |  8700 | 1:00 PM |  1 | 0.06702413 |\n| 8 | Eric Sugimoto (14679207)     |  8600 | 8:40 AM |  1 | 0.06032172 |\n| 9 | Matt Marshall (14679209)     |  8400 | 1:20 PM |  1 | 0.06032172 |\n| 3 | Andrew Funk (14679211)       |  8200 | 1:50 PM |  1 | 0.06702413 |\n| 4 | Zach Smith (14679212)        |  8100 | 1:00 PM |  1 | 0.06702413 |\n| 5 | Zander Winston (14679213)    |  8000 | 9:20 AM | 10 | 0.06702413 |\n| 19 | Mario Beltran (14679214)     |  7900 | 9:00 AM |  1 | 0.05898123 |\n| 10 | Michael McGowan (14679218)   |  7600 | 8:50 AM | 10 | 0.06032172 |\n| 11 | Riley Elmes (14679219)       |  7600 | 8:10 AM | 10 | 0.06032172 |\n| 6 | Ryan Gronlund (14679220)     |  7500 | 8:30 AM | 10 | 0.06702413 |\n| 29 | Sam Gillis (14679224)        |  7300 | 2:10 PM | 10 | 0.05898123 |\n| 12 | Ben Geyer (14679229)         |  7100 | 9:10 AM |  1 | 0.06032172 |\n\n",
            "text/html": "<table>\n<caption>A data.frame: 16 x 5</caption>\n<thead>\n\t<tr><th></th><th scope=col>Name...ID</th><th scope=col>Salary</th><th scope=col>Tee</th><th scope=col>Hole</th><th scope=col>Exposure</th></tr>\n\t<tr><th></th><th scope=col>&lt;chr&gt;</th><th scope=col>&lt;int&gt;</th><th scope=col>&lt;chr&gt;</th><th scope=col>&lt;int&gt;</th><th scope=col>&lt;dbl&gt;</th></tr>\n</thead>\n<tbody>\n\t<tr><th scope=row>7</th><td>John Catlin (14679194)      </td><td>10700</td><td>8:40 AM</td><td>10</td><td>0.06032172</td></tr>\n\t<tr><th scope=row>31</th><td>Mark Anguiano (14679196)    </td><td>10200</td><td>1:50 PM</td><td> 1</td><td>0.05898123</td></tr>\n\t<tr><th scope=row>41</th><td>Alistair Docherty (14679197)</td><td> 9900</td><td>1:10 PM</td><td>10</td><td>0.05898123</td></tr>\n\t<tr><th scope=row>1</th><td>Brady Calkins (14679200)    </td><td> 9300</td><td>9:30 AM</td><td> 1</td><td>0.06702413</td></tr>\n\t<tr><th scope=row>2</th><td>David Gazzolo (14679206)    </td><td> 8700</td><td>1:00 PM</td><td> 1</td><td>0.06702413</td></tr>\n\t<tr><th scope=row>8</th><td>Eric Sugimoto (14679207)    </td><td> 8600</td><td>8:40 AM</td><td> 1</td><td>0.06032172</td></tr>\n\t<tr><th scope=row>9</th><td>Matt Marshall (14679209)    </td><td> 8400</td><td>1:20 PM</td><td> 1</td><td>0.06032172</td></tr>\n\t<tr><th scope=row>3</th><td>Andrew Funk (14679211)      </td><td> 8200</td><td>1:50 PM</td><td> 1</td><td>0.06702413</td></tr>\n\t<tr><th scope=row>4</th><td>Zach Smith (14679212)       </td><td> 8100</td><td>1:00 PM</td><td> 1</td><td>0.06702413</td></tr>\n\t<tr><th scope=row>5</th><td>Zander Winston (14679213)   </td><td> 8000</td><td>9:20 AM</td><td>10</td><td>0.06702413</td></tr>\n\t<tr><th scope=row>19</th><td>Mario Beltran (14679214)    </td><td> 7900</td><td>9:00 AM</td><td> 1</td><td>0.05898123</td></tr>\n\t<tr><th scope=row>10</th><td>Michael McGowan (14679218)  </td><td> 7600</td><td>8:50 AM</td><td>10</td><td>0.06032172</td></tr>\n\t<tr><th scope=row>11</th><td>Riley Elmes (14679219)      </td><td> 7600</td><td>8:10 AM</td><td>10</td><td>0.06032172</td></tr>\n\t<tr><th scope=row>6</th><td>Ryan Gronlund (14679220)    </td><td> 7500</td><td>8:30 AM</td><td>10</td><td>0.06702413</td></tr>\n\t<tr><th scope=row>29</th><td>Sam Gillis (14679224)       </td><td> 7300</td><td>2:10 PM</td><td>10</td><td>0.05898123</td></tr>\n\t<tr><th scope=row>12</th><td>Ben Geyer (14679229)        </td><td> 7100</td><td>9:10 AM</td><td> 1</td><td>0.06032172</td></tr>\n</tbody>\n</table>\n"
          },
          "metadata": {}
        }
      ]
    },
    {
      "metadata": {
        "trusted": true
      },
      "cell_type": "code",
      "source": "#PRactice making df_lineups\ncol_names = c('G1','G2','G3','G4','G5','G6')\ndf_lineups = data.frame('test','test','test','test','test','test',stringsAsFactors=FALSE)\nnames(df_lineups) <- col_names\ndf_lineups",
      "execution_count": 22,
      "outputs": [
        {
          "output_type": "display_data",
          "data": {
            "text/plain": "  G1   G2   G3   G4   G5   G6  \n1 test test test test test test",
            "text/latex": "A data.frame: 1 x 6\n\\begin{tabular}{r|llllll}\n G1 & G2 & G3 & G4 & G5 & G6\\\\\n <chr> & <chr> & <chr> & <chr> & <chr> & <chr>\\\\\n\\hline\n\t test & test & test & test & test & test\\\\\n\\end{tabular}\n",
            "text/markdown": "\nA data.frame: 1 x 6\n\n| G1 &lt;chr&gt; | G2 &lt;chr&gt; | G3 &lt;chr&gt; | G4 &lt;chr&gt; | G5 &lt;chr&gt; | G6 &lt;chr&gt; |\n|---|---|---|---|---|---|\n| test | test | test | test | test | test |\n\n",
            "text/html": "<table>\n<caption>A data.frame: 1 x 6</caption>\n<thead>\n\t<tr><th scope=col>G1</th><th scope=col>G2</th><th scope=col>G3</th><th scope=col>G4</th><th scope=col>G5</th><th scope=col>G6</th></tr>\n\t<tr><th scope=col>&lt;chr&gt;</th><th scope=col>&lt;chr&gt;</th><th scope=col>&lt;chr&gt;</th><th scope=col>&lt;chr&gt;</th><th scope=col>&lt;chr&gt;</th><th scope=col>&lt;chr&gt;</th></tr>\n</thead>\n<tbody>\n\t<tr><td>test</td><td>test</td><td>test</td><td>test</td><td>test</td><td>test</td></tr>\n</tbody>\n</table>\n"
          },
          "metadata": {}
        }
      ]
    },
    {
      "metadata": {
        "trusted": true
      },
      "cell_type": "code",
      "source": "#Practice grabbing 6 players\ncurr_team <- sample(df_teams$Name...ID,size=6,replace=FALSE,prob = df_teams$Exposure)\ndf_now <- subset(df_teams,Name...ID %in% curr_team)\ndf_now <- df_now[order(-df_now$Salary),]\ncurr_team <- df_now$Name...ID\ncurr_team",
      "execution_count": 23,
      "outputs": [
        {
          "output_type": "display_data",
          "data": {
            "text/plain": "[1] \"John Catlin (14679194)\"     \"Brady Calkins (14679200)\"  \n[3] \"David Gazzolo (14679206)\"   \"Eric Sugimoto (14679207)\"  \n[5] \"Michael McGowan (14679218)\" \"Ryan Gronlund (14679220)\"  ",
            "text/latex": "\\begin{enumerate*}\n\\item 'John Catlin (14679194)'\n\\item 'Brady Calkins (14679200)'\n\\item 'David Gazzolo (14679206)'\n\\item 'Eric Sugimoto (14679207)'\n\\item 'Michael McGowan (14679218)'\n\\item 'Ryan Gronlund (14679220)'\n\\end{enumerate*}\n",
            "text/markdown": "1. 'John Catlin (14679194)'\n2. 'Brady Calkins (14679200)'\n3. 'David Gazzolo (14679206)'\n4. 'Eric Sugimoto (14679207)'\n5. 'Michael McGowan (14679218)'\n6. 'Ryan Gronlund (14679220)'\n\n\n",
            "text/html": "<ol class=list-inline>\n\t<li>'John Catlin (14679194)'</li>\n\t<li>'Brady Calkins (14679200)'</li>\n\t<li>'David Gazzolo (14679206)'</li>\n\t<li>'Eric Sugimoto (14679207)'</li>\n\t<li>'Michael McGowan (14679218)'</li>\n\t<li>'Ryan Gronlund (14679220)'</li>\n</ol>\n"
          },
          "metadata": {}
        }
      ]
    },
    {
      "metadata": {
        "trusted": true
      },
      "cell_type": "code",
      "source": "#Add to df_teams$Actual\ndf_teams$Name...ID %in% curr_team",
      "execution_count": 24,
      "outputs": [
        {
          "output_type": "display_data",
          "data": {
            "text/plain": " [1]  TRUE FALSE FALSE  TRUE  TRUE  TRUE FALSE FALSE FALSE FALSE FALSE  TRUE\n[13] FALSE  TRUE FALSE FALSE",
            "text/latex": "\\begin{enumerate*}\n\\item TRUE\n\\item FALSE\n\\item FALSE\n\\item TRUE\n\\item TRUE\n\\item TRUE\n\\item FALSE\n\\item FALSE\n\\item FALSE\n\\item FALSE\n\\item FALSE\n\\item TRUE\n\\item FALSE\n\\item TRUE\n\\item FALSE\n\\item FALSE\n\\end{enumerate*}\n",
            "text/markdown": "1. TRUE\n2. FALSE\n3. FALSE\n4. TRUE\n5. TRUE\n6. TRUE\n7. FALSE\n8. FALSE\n9. FALSE\n10. FALSE\n11. FALSE\n12. TRUE\n13. FALSE\n14. TRUE\n15. FALSE\n16. FALSE\n\n\n",
            "text/html": "<ol class=list-inline>\n\t<li>TRUE</li>\n\t<li>FALSE</li>\n\t<li>FALSE</li>\n\t<li>TRUE</li>\n\t<li>TRUE</li>\n\t<li>TRUE</li>\n\t<li>FALSE</li>\n\t<li>FALSE</li>\n\t<li>FALSE</li>\n\t<li>FALSE</li>\n\t<li>FALSE</li>\n\t<li>TRUE</li>\n\t<li>FALSE</li>\n\t<li>TRUE</li>\n\t<li>FALSE</li>\n\t<li>FALSE</li>\n</ol>\n"
          },
          "metadata": {}
        }
      ]
    },
    {
      "metadata": {
        "trusted": true
      },
      "cell_type": "code",
      "source": "num_teams <- 35\nn <- 0\nmin_sal <- 49400\nmax_sal <- 50000\n\n#Reset df_teams\ndf_teams['Actual'] <- 0\n\n#Reset df_lineups\ncol_names = c('G1','G2','G3','G4','G5','G6')\ndf_lineups = data.frame('test','test','test','test','test','test',stringsAsFactors=FALSE)\nnames(df_lineups) <- col_names\n\nwhile(n<num_teams) {\n    #Pick random team\n    curr_team <- sample(df_teams$Name...ID,size=6,replace=FALSE,prob = df_teams$Exposure)\n    df_now <- subset(df_teams,Name...ID %in% curr_team)\n    #Get team in order of descending salary\n    df_now <- df_now[order(-df_now$Salary),]\n    curr_team <- df_now$Name...ID\n    if (sum(df_now$Salary)>=min_sal & sum(df_now$Salary)<=max_sal) {\n        #print(curr_team)\n        df_lineups <- rbind(df_lineups,curr_team)\n        n <- n+1\n        if (n%%10 == 0) {\n            print(n)\n        }\n        #Update df_teams\n    }\n}\nsubset(df_lineups,G1==\"Matt Picanso (14671270)\")",
      "execution_count": 25,
      "outputs": [
        {
          "output_type": "stream",
          "text": "[1] 10\n[1] 20\n[1] 30\n",
          "name": "stdout"
        },
        {
          "output_type": "display_data",
          "data": {
            "text/plain": "     G1 G2 G3 G4 G5 G6",
            "text/latex": "A data.frame: 0 x 6\n\\begin{tabular}{r|llllll}\n G1 & G2 & G3 & G4 & G5 & G6\\\\\n <chr> & <chr> & <chr> & <chr> & <chr> & <chr>\\\\\n\\hline\n\\end{tabular}\n",
            "text/markdown": "\nA data.frame: 0 x 6\n\n| G1 &lt;chr&gt; | G2 &lt;chr&gt; | G3 &lt;chr&gt; | G4 &lt;chr&gt; | G5 &lt;chr&gt; | G6 &lt;chr&gt; |\n|---|---|---|---|---|---|\n\n",
            "text/html": "<table>\n<caption>A data.frame: 0 x 6</caption>\n<thead>\n\t<tr><th scope=col>G1</th><th scope=col>G2</th><th scope=col>G3</th><th scope=col>G4</th><th scope=col>G5</th><th scope=col>G6</th></tr>\n\t<tr><th scope=col>&lt;chr&gt;</th><th scope=col>&lt;chr&gt;</th><th scope=col>&lt;chr&gt;</th><th scope=col>&lt;chr&gt;</th><th scope=col>&lt;chr&gt;</th><th scope=col>&lt;chr&gt;</th></tr>\n</thead>\n<tbody>\n</tbody>\n</table>\n"
          },
          "metadata": {}
        }
      ]
    },
    {
      "metadata": {
        "trusted": true
      },
      "cell_type": "code",
      "source": "head(df_lineups)",
      "execution_count": 26,
      "outputs": [
        {
          "output_type": "display_data",
          "data": {
            "text/plain": "  G1                           G2                      \n1 test                         test                    \n2 John Catlin (14679194)       David Gazzolo (14679206)\n3 Brady Calkins (14679200)     David Gazzolo (14679206)\n4 Alistair Docherty (14679197) Eric Sugimoto (14679207)\n5 John Catlin (14679194)       Andrew Funk (14679211)  \n6 Mark Anguiano (14679196)     Eric Sugimoto (14679207)\n  G3                       G4                        G5                        \n1 test                     test                      test                      \n2 Matt Marshall (14679209) Ryan Gronlund (14679220)  Sam Gillis (14679224)     \n3 Eric Sugimoto (14679207) Zach Smith (14679212)     Michael McGowan (14679218)\n4 Matt Marshall (14679209) Mario Beltran (14679214)  Michael McGowan (14679218)\n5 Zach Smith (14679212)    Zander Winston (14679213) Sam Gillis (14679224)     \n6 Zach Smith (14679212)    Zander Winston (14679213) Michael McGowan (14679218)\n  G6                    \n1 test                  \n2 Ben Geyer (14679229)  \n3 Riley Elmes (14679219)\n4 Sam Gillis (14679224) \n5 Ben Geyer (14679229)  \n6 Sam Gillis (14679224) ",
            "text/latex": "A data.frame: 6 x 6\n\\begin{tabular}{r|llllll}\n G1 & G2 & G3 & G4 & G5 & G6\\\\\n <chr> & <chr> & <chr> & <chr> & <chr> & <chr>\\\\\n\\hline\n\t test                         & test                     & test                     & test                      & test                       & test                  \\\\\n\t John Catlin (14679194)       & David Gazzolo (14679206) & Matt Marshall (14679209) & Ryan Gronlund (14679220)  & Sam Gillis (14679224)      & Ben Geyer (14679229)  \\\\\n\t Brady Calkins (14679200)     & David Gazzolo (14679206) & Eric Sugimoto (14679207) & Zach Smith (14679212)     & Michael McGowan (14679218) & Riley Elmes (14679219)\\\\\n\t Alistair Docherty (14679197) & Eric Sugimoto (14679207) & Matt Marshall (14679209) & Mario Beltran (14679214)  & Michael McGowan (14679218) & Sam Gillis (14679224) \\\\\n\t John Catlin (14679194)       & Andrew Funk (14679211)   & Zach Smith (14679212)    & Zander Winston (14679213) & Sam Gillis (14679224)      & Ben Geyer (14679229)  \\\\\n\t Mark Anguiano (14679196)     & Eric Sugimoto (14679207) & Zach Smith (14679212)    & Zander Winston (14679213) & Michael McGowan (14679218) & Sam Gillis (14679224) \\\\\n\\end{tabular}\n",
            "text/markdown": "\nA data.frame: 6 x 6\n\n| G1 &lt;chr&gt; | G2 &lt;chr&gt; | G3 &lt;chr&gt; | G4 &lt;chr&gt; | G5 &lt;chr&gt; | G6 &lt;chr&gt; |\n|---|---|---|---|---|---|\n| test                         | test                     | test                     | test                      | test                       | test                   |\n| John Catlin (14679194)       | David Gazzolo (14679206) | Matt Marshall (14679209) | Ryan Gronlund (14679220)  | Sam Gillis (14679224)      | Ben Geyer (14679229)   |\n| Brady Calkins (14679200)     | David Gazzolo (14679206) | Eric Sugimoto (14679207) | Zach Smith (14679212)     | Michael McGowan (14679218) | Riley Elmes (14679219) |\n| Alistair Docherty (14679197) | Eric Sugimoto (14679207) | Matt Marshall (14679209) | Mario Beltran (14679214)  | Michael McGowan (14679218) | Sam Gillis (14679224)  |\n| John Catlin (14679194)       | Andrew Funk (14679211)   | Zach Smith (14679212)    | Zander Winston (14679213) | Sam Gillis (14679224)      | Ben Geyer (14679229)   |\n| Mark Anguiano (14679196)     | Eric Sugimoto (14679207) | Zach Smith (14679212)    | Zander Winston (14679213) | Michael McGowan (14679218) | Sam Gillis (14679224)  |\n\n",
            "text/html": "<table>\n<caption>A data.frame: 6 x 6</caption>\n<thead>\n\t<tr><th scope=col>G1</th><th scope=col>G2</th><th scope=col>G3</th><th scope=col>G4</th><th scope=col>G5</th><th scope=col>G6</th></tr>\n\t<tr><th scope=col>&lt;chr&gt;</th><th scope=col>&lt;chr&gt;</th><th scope=col>&lt;chr&gt;</th><th scope=col>&lt;chr&gt;</th><th scope=col>&lt;chr&gt;</th><th scope=col>&lt;chr&gt;</th></tr>\n</thead>\n<tbody>\n\t<tr><td>test                        </td><td>test                    </td><td>test                    </td><td>test                     </td><td>test                      </td><td>test                  </td></tr>\n\t<tr><td>John Catlin (14679194)      </td><td>David Gazzolo (14679206)</td><td>Matt Marshall (14679209)</td><td>Ryan Gronlund (14679220) </td><td>Sam Gillis (14679224)     </td><td>Ben Geyer (14679229)  </td></tr>\n\t<tr><td>Brady Calkins (14679200)    </td><td>David Gazzolo (14679206)</td><td>Eric Sugimoto (14679207)</td><td>Zach Smith (14679212)    </td><td>Michael McGowan (14679218)</td><td>Riley Elmes (14679219)</td></tr>\n\t<tr><td>Alistair Docherty (14679197)</td><td>Eric Sugimoto (14679207)</td><td>Matt Marshall (14679209)</td><td>Mario Beltran (14679214) </td><td>Michael McGowan (14679218)</td><td>Sam Gillis (14679224) </td></tr>\n\t<tr><td>John Catlin (14679194)      </td><td>Andrew Funk (14679211)  </td><td>Zach Smith (14679212)   </td><td>Zander Winston (14679213)</td><td>Sam Gillis (14679224)     </td><td>Ben Geyer (14679229)  </td></tr>\n\t<tr><td>Mark Anguiano (14679196)    </td><td>Eric Sugimoto (14679207)</td><td>Zach Smith (14679212)   </td><td>Zander Winston (14679213)</td><td>Michael McGowan (14679218)</td><td>Sam Gillis (14679224) </td></tr>\n</tbody>\n</table>\n"
          },
          "metadata": {}
        }
      ]
    },
    {
      "metadata": {
        "trusted": true
      },
      "cell_type": "code",
      "source": "write.csv(df_lineups,'Lineups/DKEntries_Outlaw.csv')",
      "execution_count": 27,
      "outputs": []
    },
    {
      "metadata": {
        "trusted": true
      },
      "cell_type": "code",
      "source": "",
      "execution_count": null,
      "outputs": []
    }
  ],
  "metadata": {
    "kernelspec": {
      "name": "r",
      "display_name": "R",
      "language": "R"
    },
    "language_info": {
      "mimetype": "text/x-r-source",
      "name": "R",
      "pygments_lexer": "r",
      "version": "3.5.3",
      "file_extension": ".r",
      "codemirror_mode": "r"
    }
  },
  "nbformat": 4,
  "nbformat_minor": 1
}