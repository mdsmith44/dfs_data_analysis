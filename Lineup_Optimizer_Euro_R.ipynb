{
  "cells": [
    {
      "metadata": {},
      "cell_type": "markdown",
      "source": "# Read in data from datagolf"
    },
    {
      "metadata": {
        "trusted": true
      },
      "cell_type": "code",
      "source": "df <- read.csv('Data/Euro_preds2.csv',stringsAsFactors=FALSE)\nhead(df)",
      "execution_count": 69,
      "outputs": [
        {
          "output_type": "display_data",
          "data": {
            "text/plain": "  X Name            Name...ID                  Salary make_cut sample_size\n1 0 George Coetzee  George Coetzee (15413332)  11500  0.886375 150        \n2 1 Scott Vincent   Scott Vincent (15413334)   10500  0.783300 150        \n3 2 Garrick Higgo   Garrick Higgo (15413333)   10900  0.782775 150        \n4 3 Wade Ormsby     Wade Ormsby (15413337)      9700  0.780950 150        \n5 4 Jamie Donaldson Jamie Donaldson (15413335) 10300  0.757000 150        \n6 5 Julian Suri     Julian Suri (15413346)      8600  0.760175 150        \n  top_10   top_20   top_5    win     \n1 0.494600 0.655750 0.350950 0.131400\n2 0.258550 0.416100 0.152925 0.038925\n3 0.252000 0.409475 0.148475 0.038000\n4 0.242525 0.399775 0.141625 0.033725\n5 0.214625 0.361150 0.122125 0.028225\n6 0.214075 0.363575 0.118450 0.027525",
            "text/latex": "A data.frame: 6 x 10\n\\begin{tabular}{r|llllllllll}\n X & Name & Name...ID & Salary & make\\_cut & sample\\_size & top\\_10 & top\\_20 & top\\_5 & win\\\\\n <int> & <chr> & <chr> & <dbl> & <dbl> & <int> & <dbl> & <dbl> & <dbl> & <dbl>\\\\\n\\hline\n\t 0 & George Coetzee  & George Coetzee (15413332)  & 11500 & 0.886375 & 150 & 0.494600 & 0.655750 & 0.350950 & 0.131400\\\\\n\t 1 & Scott Vincent   & Scott Vincent (15413334)   & 10500 & 0.783300 & 150 & 0.258550 & 0.416100 & 0.152925 & 0.038925\\\\\n\t 2 & Garrick Higgo   & Garrick Higgo (15413333)   & 10900 & 0.782775 & 150 & 0.252000 & 0.409475 & 0.148475 & 0.038000\\\\\n\t 3 & Wade Ormsby     & Wade Ormsby (15413337)     &  9700 & 0.780950 & 150 & 0.242525 & 0.399775 & 0.141625 & 0.033725\\\\\n\t 4 & Jamie Donaldson & Jamie Donaldson (15413335) & 10300 & 0.757000 & 150 & 0.214625 & 0.361150 & 0.122125 & 0.028225\\\\\n\t 5 & Julian Suri     & Julian Suri (15413346)     &  8600 & 0.760175 & 150 & 0.214075 & 0.363575 & 0.118450 & 0.027525\\\\\n\\end{tabular}\n",
            "text/markdown": "\nA data.frame: 6 x 10\n\n| X &lt;int&gt; | Name &lt;chr&gt; | Name...ID &lt;chr&gt; | Salary &lt;dbl&gt; | make_cut &lt;dbl&gt; | sample_size &lt;int&gt; | top_10 &lt;dbl&gt; | top_20 &lt;dbl&gt; | top_5 &lt;dbl&gt; | win &lt;dbl&gt; |\n|---|---|---|---|---|---|---|---|---|---|\n| 0 | George Coetzee  | George Coetzee (15413332)  | 11500 | 0.886375 | 150 | 0.494600 | 0.655750 | 0.350950 | 0.131400 |\n| 1 | Scott Vincent   | Scott Vincent (15413334)   | 10500 | 0.783300 | 150 | 0.258550 | 0.416100 | 0.152925 | 0.038925 |\n| 2 | Garrick Higgo   | Garrick Higgo (15413333)   | 10900 | 0.782775 | 150 | 0.252000 | 0.409475 | 0.148475 | 0.038000 |\n| 3 | Wade Ormsby     | Wade Ormsby (15413337)     |  9700 | 0.780950 | 150 | 0.242525 | 0.399775 | 0.141625 | 0.033725 |\n| 4 | Jamie Donaldson | Jamie Donaldson (15413335) | 10300 | 0.757000 | 150 | 0.214625 | 0.361150 | 0.122125 | 0.028225 |\n| 5 | Julian Suri     | Julian Suri (15413346)     |  8600 | 0.760175 | 150 | 0.214075 | 0.363575 | 0.118450 | 0.027525 |\n\n",
            "text/html": "<table>\n<caption>A data.frame: 6 x 10</caption>\n<thead>\n\t<tr><th scope=col>X</th><th scope=col>Name</th><th scope=col>Name...ID</th><th scope=col>Salary</th><th scope=col>make_cut</th><th scope=col>sample_size</th><th scope=col>top_10</th><th scope=col>top_20</th><th scope=col>top_5</th><th scope=col>win</th></tr>\n\t<tr><th scope=col>&lt;int&gt;</th><th scope=col>&lt;chr&gt;</th><th scope=col>&lt;chr&gt;</th><th scope=col>&lt;dbl&gt;</th><th scope=col>&lt;dbl&gt;</th><th scope=col>&lt;int&gt;</th><th scope=col>&lt;dbl&gt;</th><th scope=col>&lt;dbl&gt;</th><th scope=col>&lt;dbl&gt;</th><th scope=col>&lt;dbl&gt;</th></tr>\n</thead>\n<tbody>\n\t<tr><td>0</td><td>George Coetzee </td><td>George Coetzee (15413332) </td><td>11500</td><td>0.886375</td><td>150</td><td>0.494600</td><td>0.655750</td><td>0.350950</td><td>0.131400</td></tr>\n\t<tr><td>1</td><td>Scott Vincent  </td><td>Scott Vincent (15413334)  </td><td>10500</td><td>0.783300</td><td>150</td><td>0.258550</td><td>0.416100</td><td>0.152925</td><td>0.038925</td></tr>\n\t<tr><td>2</td><td>Garrick Higgo  </td><td>Garrick Higgo (15413333)  </td><td>10900</td><td>0.782775</td><td>150</td><td>0.252000</td><td>0.409475</td><td>0.148475</td><td>0.038000</td></tr>\n\t<tr><td>3</td><td>Wade Ormsby    </td><td>Wade Ormsby (15413337)    </td><td> 9700</td><td>0.780950</td><td>150</td><td>0.242525</td><td>0.399775</td><td>0.141625</td><td>0.033725</td></tr>\n\t<tr><td>4</td><td>Jamie Donaldson</td><td>Jamie Donaldson (15413335)</td><td>10300</td><td>0.757000</td><td>150</td><td>0.214625</td><td>0.361150</td><td>0.122125</td><td>0.028225</td></tr>\n\t<tr><td>5</td><td>Julian Suri    </td><td>Julian Suri (15413346)    </td><td> 8600</td><td>0.760175</td><td>150</td><td>0.214075</td><td>0.363575</td><td>0.118450</td><td>0.027525</td></tr>\n</tbody>\n</table>\n"
          },
          "metadata": {}
        }
      ]
    },
    {
      "metadata": {
        "trusted": true
      },
      "cell_type": "code",
      "source": "#Add column of ones\ndf['ones'] <- 1\ndf$ones <- as.integer(df$ones)\nhead(df)",
      "execution_count": 70,
      "outputs": [
        {
          "output_type": "display_data",
          "data": {
            "text/plain": "  X Name            Name...ID                  Salary make_cut sample_size\n1 0 George Coetzee  George Coetzee (15413332)  11500  0.886375 150        \n2 1 Scott Vincent   Scott Vincent (15413334)   10500  0.783300 150        \n3 2 Garrick Higgo   Garrick Higgo (15413333)   10900  0.782775 150        \n4 3 Wade Ormsby     Wade Ormsby (15413337)      9700  0.780950 150        \n5 4 Jamie Donaldson Jamie Donaldson (15413335) 10300  0.757000 150        \n6 5 Julian Suri     Julian Suri (15413346)      8600  0.760175 150        \n  top_10   top_20   top_5    win      ones\n1 0.494600 0.655750 0.350950 0.131400 1   \n2 0.258550 0.416100 0.152925 0.038925 1   \n3 0.252000 0.409475 0.148475 0.038000 1   \n4 0.242525 0.399775 0.141625 0.033725 1   \n5 0.214625 0.361150 0.122125 0.028225 1   \n6 0.214075 0.363575 0.118450 0.027525 1   ",
            "text/latex": "A data.frame: 6 x 11\n\\begin{tabular}{r|lllllllllll}\n X & Name & Name...ID & Salary & make\\_cut & sample\\_size & top\\_10 & top\\_20 & top\\_5 & win & ones\\\\\n <int> & <chr> & <chr> & <dbl> & <dbl> & <int> & <dbl> & <dbl> & <dbl> & <dbl> & <int>\\\\\n\\hline\n\t 0 & George Coetzee  & George Coetzee (15413332)  & 11500 & 0.886375 & 150 & 0.494600 & 0.655750 & 0.350950 & 0.131400 & 1\\\\\n\t 1 & Scott Vincent   & Scott Vincent (15413334)   & 10500 & 0.783300 & 150 & 0.258550 & 0.416100 & 0.152925 & 0.038925 & 1\\\\\n\t 2 & Garrick Higgo   & Garrick Higgo (15413333)   & 10900 & 0.782775 & 150 & 0.252000 & 0.409475 & 0.148475 & 0.038000 & 1\\\\\n\t 3 & Wade Ormsby     & Wade Ormsby (15413337)     &  9700 & 0.780950 & 150 & 0.242525 & 0.399775 & 0.141625 & 0.033725 & 1\\\\\n\t 4 & Jamie Donaldson & Jamie Donaldson (15413335) & 10300 & 0.757000 & 150 & 0.214625 & 0.361150 & 0.122125 & 0.028225 & 1\\\\\n\t 5 & Julian Suri     & Julian Suri (15413346)     &  8600 & 0.760175 & 150 & 0.214075 & 0.363575 & 0.118450 & 0.027525 & 1\\\\\n\\end{tabular}\n",
            "text/markdown": "\nA data.frame: 6 x 11\n\n| X &lt;int&gt; | Name &lt;chr&gt; | Name...ID &lt;chr&gt; | Salary &lt;dbl&gt; | make_cut &lt;dbl&gt; | sample_size &lt;int&gt; | top_10 &lt;dbl&gt; | top_20 &lt;dbl&gt; | top_5 &lt;dbl&gt; | win &lt;dbl&gt; | ones &lt;int&gt; |\n|---|---|---|---|---|---|---|---|---|---|---|\n| 0 | George Coetzee  | George Coetzee (15413332)  | 11500 | 0.886375 | 150 | 0.494600 | 0.655750 | 0.350950 | 0.131400 | 1 |\n| 1 | Scott Vincent   | Scott Vincent (15413334)   | 10500 | 0.783300 | 150 | 0.258550 | 0.416100 | 0.152925 | 0.038925 | 1 |\n| 2 | Garrick Higgo   | Garrick Higgo (15413333)   | 10900 | 0.782775 | 150 | 0.252000 | 0.409475 | 0.148475 | 0.038000 | 1 |\n| 3 | Wade Ormsby     | Wade Ormsby (15413337)     |  9700 | 0.780950 | 150 | 0.242525 | 0.399775 | 0.141625 | 0.033725 | 1 |\n| 4 | Jamie Donaldson | Jamie Donaldson (15413335) | 10300 | 0.757000 | 150 | 0.214625 | 0.361150 | 0.122125 | 0.028225 | 1 |\n| 5 | Julian Suri     | Julian Suri (15413346)     |  8600 | 0.760175 | 150 | 0.214075 | 0.363575 | 0.118450 | 0.027525 | 1 |\n\n",
            "text/html": "<table>\n<caption>A data.frame: 6 x 11</caption>\n<thead>\n\t<tr><th scope=col>X</th><th scope=col>Name</th><th scope=col>Name...ID</th><th scope=col>Salary</th><th scope=col>make_cut</th><th scope=col>sample_size</th><th scope=col>top_10</th><th scope=col>top_20</th><th scope=col>top_5</th><th scope=col>win</th><th scope=col>ones</th></tr>\n\t<tr><th scope=col>&lt;int&gt;</th><th scope=col>&lt;chr&gt;</th><th scope=col>&lt;chr&gt;</th><th scope=col>&lt;dbl&gt;</th><th scope=col>&lt;dbl&gt;</th><th scope=col>&lt;int&gt;</th><th scope=col>&lt;dbl&gt;</th><th scope=col>&lt;dbl&gt;</th><th scope=col>&lt;dbl&gt;</th><th scope=col>&lt;dbl&gt;</th><th scope=col>&lt;int&gt;</th></tr>\n</thead>\n<tbody>\n\t<tr><td>0</td><td>George Coetzee </td><td>George Coetzee (15413332) </td><td>11500</td><td>0.886375</td><td>150</td><td>0.494600</td><td>0.655750</td><td>0.350950</td><td>0.131400</td><td>1</td></tr>\n\t<tr><td>1</td><td>Scott Vincent  </td><td>Scott Vincent (15413334)  </td><td>10500</td><td>0.783300</td><td>150</td><td>0.258550</td><td>0.416100</td><td>0.152925</td><td>0.038925</td><td>1</td></tr>\n\t<tr><td>2</td><td>Garrick Higgo  </td><td>Garrick Higgo (15413333)  </td><td>10900</td><td>0.782775</td><td>150</td><td>0.252000</td><td>0.409475</td><td>0.148475</td><td>0.038000</td><td>1</td></tr>\n\t<tr><td>3</td><td>Wade Ormsby    </td><td>Wade Ormsby (15413337)    </td><td> 9700</td><td>0.780950</td><td>150</td><td>0.242525</td><td>0.399775</td><td>0.141625</td><td>0.033725</td><td>1</td></tr>\n\t<tr><td>4</td><td>Jamie Donaldson</td><td>Jamie Donaldson (15413335)</td><td>10300</td><td>0.757000</td><td>150</td><td>0.214625</td><td>0.361150</td><td>0.122125</td><td>0.028225</td><td>1</td></tr>\n\t<tr><td>5</td><td>Julian Suri    </td><td>Julian Suri (15413346)    </td><td> 8600</td><td>0.760175</td><td>150</td><td>0.214075</td><td>0.363575</td><td>0.118450</td><td>0.027525</td><td>1</td></tr>\n</tbody>\n</table>\n"
          },
          "metadata": {}
        }
      ]
    },
    {
      "metadata": {},
      "cell_type": "markdown",
      "source": "# Optimize by points_adj\n\nRef: https://towardsdatascience.com/integer-programming-in-r-33ee6f48a3c8"
    },
    {
      "metadata": {
        "trusted": true
      },
      "cell_type": "code",
      "source": "library('lpSolve')\n#library(dplyr)",
      "execution_count": 71,
      "outputs": []
    },
    {
      "metadata": {
        "trusted": true
      },
      "cell_type": "code",
      "source": "# Set coefficients of the objective function\nf.obj <- df$make_cut\n\n# Set matrix corresponding to coefficients of constraints by rows\n#f*dk_salary <= 50000\n#f*ones == 6\nf.con <- t(data.matrix(df[c('Salary','ones')]))\n\n# Set unequality/equality signs\nf.dir <- c(\"<=\",\n           \"==\")\n\n# Set right hand side coefficients\nf.rhs <- c(50000,\n           6)\n\n# # Variables final values\nopt_team <- lp(\"max\", f.obj, f.con, f.dir, f.rhs, int.vec = 1:4, all.bin = TRUE)$solution\ndf['opt_team'] <- opt_team\nsubset(df,opt_team==1)",
      "execution_count": 72,
      "outputs": [
        {
          "output_type": "display_data",
          "data": {
            "text/plain": "   X  Name              Name...ID                    Salary make_cut\n1   0 George Coetzee    George Coetzee (15413332)    11500  0.886375\n6   5 Julian Suri       Julian Suri (15413346)        8600  0.760175\n8   8 Jens Fahrbring    Jens Fahrbring (15413349)     8300  0.736725\n12 12 Maverick Antcliff Maverick Antcliff (15413376)  7200  0.702925\n14 14 Pep Angles        Pep Angles (15413377)         7200  0.700075\n18 18 Damien Perrier    Damien Perrier (15413380)     7100  0.688300\n   sample_size top_10   top_20   top_5    win      ones opt_team\n1  150         0.494600 0.655750 0.350950 0.131400 1    1       \n6  150         0.214075 0.363575 0.118450 0.027525 1    1       \n8  150         0.184900 0.327875 0.099250 0.022150 1    1       \n12 150         0.149300 0.277050 0.078700 0.016325 1    1       \n14 150         0.144925 0.271800 0.076325 0.014975 1    1       \n18 150         0.137275 0.255725 0.070350 0.013175 1    1       ",
            "text/latex": "A data.frame: 6 x 12\n\\begin{tabular}{r|llllllllllll}\n  & X & Name & Name...ID & Salary & make\\_cut & sample\\_size & top\\_10 & top\\_20 & top\\_5 & win & ones & opt\\_team\\\\\n  & <int> & <chr> & <chr> & <dbl> & <dbl> & <int> & <dbl> & <dbl> & <dbl> & <dbl> & <int> & <dbl>\\\\\n\\hline\n\t1 &  0 & George Coetzee    & George Coetzee (15413332)    & 11500 & 0.886375 & 150 & 0.494600 & 0.655750 & 0.350950 & 0.131400 & 1 & 1\\\\\n\t6 &  5 & Julian Suri       & Julian Suri (15413346)       &  8600 & 0.760175 & 150 & 0.214075 & 0.363575 & 0.118450 & 0.027525 & 1 & 1\\\\\n\t8 &  8 & Jens Fahrbring    & Jens Fahrbring (15413349)    &  8300 & 0.736725 & 150 & 0.184900 & 0.327875 & 0.099250 & 0.022150 & 1 & 1\\\\\n\t12 & 12 & Maverick Antcliff & Maverick Antcliff (15413376) &  7200 & 0.702925 & 150 & 0.149300 & 0.277050 & 0.078700 & 0.016325 & 1 & 1\\\\\n\t14 & 14 & Pep Angles        & Pep Angles (15413377)        &  7200 & 0.700075 & 150 & 0.144925 & 0.271800 & 0.076325 & 0.014975 & 1 & 1\\\\\n\t18 & 18 & Damien Perrier    & Damien Perrier (15413380)    &  7100 & 0.688300 & 150 & 0.137275 & 0.255725 & 0.070350 & 0.013175 & 1 & 1\\\\\n\\end{tabular}\n",
            "text/markdown": "\nA data.frame: 6 x 12\n\n| <!--/--> | X &lt;int&gt; | Name &lt;chr&gt; | Name...ID &lt;chr&gt; | Salary &lt;dbl&gt; | make_cut &lt;dbl&gt; | sample_size &lt;int&gt; | top_10 &lt;dbl&gt; | top_20 &lt;dbl&gt; | top_5 &lt;dbl&gt; | win &lt;dbl&gt; | ones &lt;int&gt; | opt_team &lt;dbl&gt; |\n|---|---|---|---|---|---|---|---|---|---|---|---|---|\n| 1 |  0 | George Coetzee    | George Coetzee (15413332)    | 11500 | 0.886375 | 150 | 0.494600 | 0.655750 | 0.350950 | 0.131400 | 1 | 1 |\n| 6 |  5 | Julian Suri       | Julian Suri (15413346)       |  8600 | 0.760175 | 150 | 0.214075 | 0.363575 | 0.118450 | 0.027525 | 1 | 1 |\n| 8 |  8 | Jens Fahrbring    | Jens Fahrbring (15413349)    |  8300 | 0.736725 | 150 | 0.184900 | 0.327875 | 0.099250 | 0.022150 | 1 | 1 |\n| 12 | 12 | Maverick Antcliff | Maverick Antcliff (15413376) |  7200 | 0.702925 | 150 | 0.149300 | 0.277050 | 0.078700 | 0.016325 | 1 | 1 |\n| 14 | 14 | Pep Angles        | Pep Angles (15413377)        |  7200 | 0.700075 | 150 | 0.144925 | 0.271800 | 0.076325 | 0.014975 | 1 | 1 |\n| 18 | 18 | Damien Perrier    | Damien Perrier (15413380)    |  7100 | 0.688300 | 150 | 0.137275 | 0.255725 | 0.070350 | 0.013175 | 1 | 1 |\n\n",
            "text/html": "<table>\n<caption>A data.frame: 6 x 12</caption>\n<thead>\n\t<tr><th></th><th scope=col>X</th><th scope=col>Name</th><th scope=col>Name...ID</th><th scope=col>Salary</th><th scope=col>make_cut</th><th scope=col>sample_size</th><th scope=col>top_10</th><th scope=col>top_20</th><th scope=col>top_5</th><th scope=col>win</th><th scope=col>ones</th><th scope=col>opt_team</th></tr>\n\t<tr><th></th><th scope=col>&lt;int&gt;</th><th scope=col>&lt;chr&gt;</th><th scope=col>&lt;chr&gt;</th><th scope=col>&lt;dbl&gt;</th><th scope=col>&lt;dbl&gt;</th><th scope=col>&lt;int&gt;</th><th scope=col>&lt;dbl&gt;</th><th scope=col>&lt;dbl&gt;</th><th scope=col>&lt;dbl&gt;</th><th scope=col>&lt;dbl&gt;</th><th scope=col>&lt;int&gt;</th><th scope=col>&lt;dbl&gt;</th></tr>\n</thead>\n<tbody>\n\t<tr><th scope=row>1</th><td> 0</td><td>George Coetzee   </td><td>George Coetzee (15413332)   </td><td>11500</td><td>0.886375</td><td>150</td><td>0.494600</td><td>0.655750</td><td>0.350950</td><td>0.131400</td><td>1</td><td>1</td></tr>\n\t<tr><th scope=row>6</th><td> 5</td><td>Julian Suri      </td><td>Julian Suri (15413346)      </td><td> 8600</td><td>0.760175</td><td>150</td><td>0.214075</td><td>0.363575</td><td>0.118450</td><td>0.027525</td><td>1</td><td>1</td></tr>\n\t<tr><th scope=row>8</th><td> 8</td><td>Jens Fahrbring   </td><td>Jens Fahrbring (15413349)   </td><td> 8300</td><td>0.736725</td><td>150</td><td>0.184900</td><td>0.327875</td><td>0.099250</td><td>0.022150</td><td>1</td><td>1</td></tr>\n\t<tr><th scope=row>12</th><td>12</td><td>Maverick Antcliff</td><td>Maverick Antcliff (15413376)</td><td> 7200</td><td>0.702925</td><td>150</td><td>0.149300</td><td>0.277050</td><td>0.078700</td><td>0.016325</td><td>1</td><td>1</td></tr>\n\t<tr><th scope=row>14</th><td>14</td><td>Pep Angles       </td><td>Pep Angles (15413377)       </td><td> 7200</td><td>0.700075</td><td>150</td><td>0.144925</td><td>0.271800</td><td>0.076325</td><td>0.014975</td><td>1</td><td>1</td></tr>\n\t<tr><th scope=row>18</th><td>18</td><td>Damien Perrier   </td><td>Damien Perrier (15413380)   </td><td> 7100</td><td>0.688300</td><td>150</td><td>0.137275</td><td>0.255725</td><td>0.070350</td><td>0.013175</td><td>1</td><td>1</td></tr>\n</tbody>\n</table>\n"
          },
          "metadata": {}
        }
      ]
    },
    {
      "metadata": {
        "trusted": true,
        "scrolled": false
      },
      "cell_type": "code",
      "source": "#Find top N teams\nnum_teams = 7\ndf_now <- df\nto_remove = c('Wade Ormsby')\n#to_remove <- c('Steve Stricker')\nfor (n in to_remove) {\n    df_now <- subset(df_now,Name!=n) \n}\n#Max sal\nmax_sal <- 99900\ndf_now <- subset(df_now,Salary<=max_sal)\nmin_sal <- 7400\ndf_now <- subset(df_now,Salary>=min_sal)\nbase_exposure <- 50\nexposure_gap <- 5\n\n#Identify lock\nlock = c('George Coetzee')\n#lock = c()\nnum_left <- 6\nsal_left <- 50000\nif (length(lock) > 0) {\n    df_lock <- subset(df_now,Name %in% lock)\n    df_now <- subset(df_now,! Name %in% lock)\n    sal_used <- sum(df_lock$Salary) \n    num_lock <- length(lock)\n    sal_left <- 50000 - sal_used\n    num_left <- 6-num_lock\n    lock_full_names <- df_lock$Name...ID\n} \n\nfor (i in seq(1:num_teams)) {\n    # Set coefficients of the objective function\n    f.obj <- df_now$make_cut\n    f.obj <- df_now$top_20\n    #f.obj <- df_now$total_points\n\n    # Set matrix corresponding to coefficients of constraints by rows\n    #f*dk_salary <= 50000\n    #f*ones == 6\n    #f.con <- t(data.matrix(df_now[c('dk_salary','ones','projected_ownership')]))\n    f.con <- t(data.matrix(df_now[c('Salary','ones')]))\n    \n    # Set unequality/equality signs\n    f.dir <- c(\"<=\",\n               \"==\")\n    \n    # Set right hand side coefficients\n    f.rhs <- c(sal_left,\n               num_left)\n\n    # # Variables final values\n    #opt_val <- lp(\"max\", f.obj, f.con, f.dir, f.rhs, int.vec = 1:4, all.bin = TRUE)$objective\n    opt_team <- lp(\"max\", f.obj, f.con, f.dir, f.rhs, int.vec = 1:4, all.bin = TRUE)$solution\n    df_now['opt_team'] <- opt_team\n    df_opt <- subset(df_now,opt_team==1)\n    \n    #Print current best team\n    print(paste('Team ',i,':',sep=\"\"))\n    print(paste(df_opt$Name))\n    \n    #Add best team to df_teams\n    if (i==1) {\n        df_teams <- df_opt[c('Name...ID','Name','Salary')]\n        df_teams['Exposure'] <- base_exposure\n    } else {\n        df_teams_new <- df_opt[c('Name...ID','Name','Salary')]\n        df_teams_new['Exposure'] <- base_exposure - (i-1)*exposure_gap\n        df_teams <- rbind(df_teams,df_teams_new)\n    }\n    \n    #Remove current opt team\n    df_now <- subset(df_now,opt_team==0)\n}",
      "execution_count": 73,
      "outputs": [
        {
          "output_type": "stream",
          "text": "[1] \"Team 1:\"\n[1] \"Jens Fahrbring\"       \"Oscar Lengden\"        \"Robin Sciot-Siegrist\"\n[4] \"Pedro Oriol\"          \"Marcel Schneider\"    \n[1] \"Team 2:\"\n[1] \"Julian Suri\"                \"Bernd Ritthammer\"          \n[3] \"Daan Huizing\"               \"Jose-Filipe Lima\"          \n[5] \"Kristian Krogh Johannessen\"\n[1] \"Team 3:\"\n[1] \"Martin Simonsen\"   \"Christopher Mivis\" \"Marcel Siem\"      \n[4] \"Ryan Evans\"        \"Enrico Di Nitto\"  \n[1] \"Team 4:\"\ncharacter(0)\n",
          "name": "stdout"
        },
        {
          "output_type": "error",
          "ename": "ERROR",
          "evalue": "Error in `[<-.data.frame`(`*tmp*`, \"Exposure\", value = 35): replacement has 1 row, data has 0\n",
          "traceback": [
            "Error in `[<-.data.frame`(`*tmp*`, \"Exposure\", value = 35): replacement has 1 row, data has 0\nTraceback:\n",
            "1. `[<-`(`*tmp*`, \"Exposure\", value = 35)",
            "2. `[<-.data.frame`(`*tmp*`, \"Exposure\", value = 35)",
            "3. stop(sprintf(ngettext(N, \"replacement has %d row, data has %d\", \n .     \"replacement has %d rows, data has %d\"), N, n), domain = NA)"
          ]
        }
      ]
    },
    {
      "metadata": {
        "trusted": true
      },
      "cell_type": "code",
      "source": "print(sal_left)",
      "execution_count": 52,
      "outputs": [
        {
          "output_type": "stream",
          "text": "[1] 38500\n",
          "name": "stdout"
        }
      ]
    },
    {
      "metadata": {
        "trusted": true
      },
      "cell_type": "code",
      "source": "print(lock_full_names)",
      "execution_count": 53,
      "outputs": [
        {
          "output_type": "stream",
          "text": "[1] \"George Coetzee (15413332)\"\n",
          "name": "stdout"
        }
      ]
    },
    {
      "metadata": {
        "trusted": true,
        "scrolled": false
      },
      "cell_type": "markdown",
      "source": "# Just keep top n teams and sort by salary\n"
    },
    {
      "metadata": {
        "trusted": true
      },
      "cell_type": "code",
      "source": "teams_to_keep = 2\nlow_exposure = base_exposure - (teams_to_keep-1)*exposure_gap\ndf_teams <- subset(df_teams,Exposure >= low_exposure)\ndf_teams <- df_teams[order(-df_teams$Salary),]\ndf_teams",
      "execution_count": 54,
      "outputs": [
        {
          "output_type": "display_data",
          "data": {
            "text/plain": "   Name...ID                       Name                 Salary Exposure\n6  Julian Suri (15413346)          Julian Suri          8600   50      \n8  Jens Fahrbring (15413349)       Jens Fahrbring       8300   50      \n11 Romain Wattel (15413350)        Romain Wattel        8200   45      \n9  Oscar Lengden (15413361)        Oscar Lengden        7600   45      \n13 Robin Sciot-Siegrist (15413365) Robin Sciot-Siegrist 7500   45      \n15 Pedro Oriol (15413362)          Pedro Oriol          7500   45      \n19 Marcel Schneider (15413364)     Marcel Schneider     7500   45      \n12 Maverick Antcliff (15413376)    Maverick Antcliff    7200   50      \n14 Pep Angles (15413377)           Pep Angles           7200   50      \n18 Damien Perrier (15413380)       Damien Perrier       7100   50      ",
            "text/latex": "A data.frame: 10 x 4\n\\begin{tabular}{r|llll}\n  & Name...ID & Name & Salary & Exposure\\\\\n  & <chr> & <chr> & <dbl> & <dbl>\\\\\n\\hline\n\t6 & Julian Suri (15413346)          & Julian Suri          & 8600 & 50\\\\\n\t8 & Jens Fahrbring (15413349)       & Jens Fahrbring       & 8300 & 50\\\\\n\t11 & Romain Wattel (15413350)        & Romain Wattel        & 8200 & 45\\\\\n\t9 & Oscar Lengden (15413361)        & Oscar Lengden        & 7600 & 45\\\\\n\t13 & Robin Sciot-Siegrist (15413365) & Robin Sciot-Siegrist & 7500 & 45\\\\\n\t15 & Pedro Oriol (15413362)          & Pedro Oriol          & 7500 & 45\\\\\n\t19 & Marcel Schneider (15413364)     & Marcel Schneider     & 7500 & 45\\\\\n\t12 & Maverick Antcliff (15413376)    & Maverick Antcliff    & 7200 & 50\\\\\n\t14 & Pep Angles (15413377)           & Pep Angles           & 7200 & 50\\\\\n\t18 & Damien Perrier (15413380)       & Damien Perrier       & 7100 & 50\\\\\n\\end{tabular}\n",
            "text/markdown": "\nA data.frame: 10 x 4\n\n| <!--/--> | Name...ID &lt;chr&gt; | Name &lt;chr&gt; | Salary &lt;dbl&gt; | Exposure &lt;dbl&gt; |\n|---|---|---|---|---|\n| 6 | Julian Suri (15413346)          | Julian Suri          | 8600 | 50 |\n| 8 | Jens Fahrbring (15413349)       | Jens Fahrbring       | 8300 | 50 |\n| 11 | Romain Wattel (15413350)        | Romain Wattel        | 8200 | 45 |\n| 9 | Oscar Lengden (15413361)        | Oscar Lengden        | 7600 | 45 |\n| 13 | Robin Sciot-Siegrist (15413365) | Robin Sciot-Siegrist | 7500 | 45 |\n| 15 | Pedro Oriol (15413362)          | Pedro Oriol          | 7500 | 45 |\n| 19 | Marcel Schneider (15413364)     | Marcel Schneider     | 7500 | 45 |\n| 12 | Maverick Antcliff (15413376)    | Maverick Antcliff    | 7200 | 50 |\n| 14 | Pep Angles (15413377)           | Pep Angles           | 7200 | 50 |\n| 18 | Damien Perrier (15413380)       | Damien Perrier       | 7100 | 50 |\n\n",
            "text/html": "<table>\n<caption>A data.frame: 10 x 4</caption>\n<thead>\n\t<tr><th></th><th scope=col>Name...ID</th><th scope=col>Name</th><th scope=col>Salary</th><th scope=col>Exposure</th></tr>\n\t<tr><th></th><th scope=col>&lt;chr&gt;</th><th scope=col>&lt;chr&gt;</th><th scope=col>&lt;dbl&gt;</th><th scope=col>&lt;dbl&gt;</th></tr>\n</thead>\n<tbody>\n\t<tr><th scope=row>6</th><td>Julian Suri (15413346)         </td><td>Julian Suri         </td><td>8600</td><td>50</td></tr>\n\t<tr><th scope=row>8</th><td>Jens Fahrbring (15413349)      </td><td>Jens Fahrbring      </td><td>8300</td><td>50</td></tr>\n\t<tr><th scope=row>11</th><td>Romain Wattel (15413350)       </td><td>Romain Wattel       </td><td>8200</td><td>45</td></tr>\n\t<tr><th scope=row>9</th><td>Oscar Lengden (15413361)       </td><td>Oscar Lengden       </td><td>7600</td><td>45</td></tr>\n\t<tr><th scope=row>13</th><td>Robin Sciot-Siegrist (15413365)</td><td>Robin Sciot-Siegrist</td><td>7500</td><td>45</td></tr>\n\t<tr><th scope=row>15</th><td>Pedro Oriol (15413362)         </td><td>Pedro Oriol         </td><td>7500</td><td>45</td></tr>\n\t<tr><th scope=row>19</th><td>Marcel Schneider (15413364)    </td><td>Marcel Schneider    </td><td>7500</td><td>45</td></tr>\n\t<tr><th scope=row>12</th><td>Maverick Antcliff (15413376)   </td><td>Maverick Antcliff   </td><td>7200</td><td>50</td></tr>\n\t<tr><th scope=row>14</th><td>Pep Angles (15413377)          </td><td>Pep Angles          </td><td>7200</td><td>50</td></tr>\n\t<tr><th scope=row>18</th><td>Damien Perrier (15413380)      </td><td>Damien Perrier      </td><td>7100</td><td>50</td></tr>\n</tbody>\n</table>\n"
          },
          "metadata": {}
        }
      ]
    },
    {
      "metadata": {
        "trusted": true
      },
      "cell_type": "code",
      "source": "#Same for make_cut\n#Find top N teams\nnum_teams = 7\ndf_now <- df\n#to_remove = c()\n#to_remove <- c('Steve Stricker')\nfor (n in to_remove) {\n    df_now <- subset(df_now,Name!=n) \n}\n#Max sal\nmax_sal <- 99900\ndf_now <- subset(df_now,Salary<=max_sal)\nbase_exposure <- 50\nexposure_gap <- 5\n\n#Identify lock\n#lock = c('George Coetzee')\n#lock = c()\nnum_left <- 6\nsal_left <- 50000\nif (length(lock) > 0) {\n    df_lock <- subset(df_now,Name %in% lock)\n    df_now <- subset(df_now,! Name %in% lock)\n    sal_used <- sum(df_lock$Salary) \n    num_lock <- length(lock)\n    sal_left <- 50000 - sal_used\n    num_left <- 6-num_lock\n    lock_full_names <- df_lock$Name...ID\n} \n\nfor (i in seq(1:num_teams)) {\n    # Set coefficients of the objective function\n    f.obj <- df_now$make_cut\n    #f.obj <- df_now$top_20\n    #f.obj <- df_now$total_points\n\n    # Set matrix corresponding to coefficients of constraints by rows\n    #f*dk_salary <= 50000\n    #f*ones == 6\n    #f.con <- t(data.matrix(df_now[c('dk_salary','ones','projected_ownership')]))\n    f.con <- t(data.matrix(df_now[c('Salary','ones')]))\n    \n    # Set unequality/equality signs\n    f.dir <- c(\"<=\",\n               \"==\")\n    \n    # Set right hand side coefficients\n    f.rhs <- c(sal_left,\n               num_left)\n\n    # # Variables final values\n    #opt_val <- lp(\"max\", f.obj, f.con, f.dir, f.rhs, int.vec = 1:4, all.bin = TRUE)$objective\n    opt_team <- lp(\"max\", f.obj, f.con, f.dir, f.rhs, int.vec = 1:4, all.bin = TRUE)$solution\n    df_now['opt_team'] <- opt_team\n    df_opt <- subset(df_now,opt_team==1)\n    \n    #Print current best team\n    print(paste('Team ',i,':',sep=\"\"))\n    print(paste(df_opt$Name))\n    \n    #Add best team to df_teams\n    if (i==1) {\n        df_teams2 <- df_opt[c('Name...ID','Name','Salary')]\n        df_teams2['Exposure'] <- base_exposure\n    } else {\n        df_teams_new <- df_opt[c('Name...ID','Name','Salary')]\n        df_teams_new['Exposure'] <- base_exposure - (i-1)*exposure_gap\n        df_teams2 <- rbind(df_teams2,df_teams_new)\n    }\n    \n    #Remove current opt team\n    df_now <- subset(df_now,opt_team==0)\n}",
      "execution_count": 55,
      "outputs": [
        {
          "output_type": "stream",
          "text": "[1] \"Team 1:\"\n[1] \"Julian Suri\"       \"Jens Fahrbring\"    \"Maverick Antcliff\"\n[4] \"Pep Angles\"        \"Damien Perrier\"   \n[1] \"Team 2:\"\n[1] \"Oscar Lengden\"        \"Robin Sciot-Siegrist\" \"Pedro Oriol\"         \n[4] \"Martin Simonsen\"      \"Christopher Mivis\"   \n[1] \"Team 3:\"\n[1] \"Scott Vincent\"    \"Bernd Ritthammer\" \"Oliver Lindell\"   \"Dominic Foos\"    \n[5] \"David Boote\"     \n[1] \"Team 4:\"\n[1] \"Gonzalo Fernandez-Castano\" \"Marcel Schneider\"         \n[3] \"Daan Huizing\"              \"Roope Kakko\"              \n[5] \"Espen Kofstad\"            \n[1] \"Team 5:\"\n[1] \"Aaron Cockerill\"   \"Romain Wattel\"     \"Jose-Filipe Lima\" \n[4] \"Elias Bertheussen\" \"Nathan Kimsey\"    \n[1] \"Team 6:\"\n[1] \"Jamie Donaldson\" \"Ricardo Santos\"  \"Paul Dunne\"      \"Rhys Enoch\"     \n[5] \"Anton Karlsson\" \n[1] \"Team 7:\"\n[1] \"Garrick Higgo\"   \"Andres Romero\"   \"Santiago Tarrio\" \"Mathieu Fenasse\"\n[5] \"Matthew Baldwin\"\n",
          "name": "stdout"
        }
      ]
    },
    {
      "metadata": {
        "trusted": true
      },
      "cell_type": "code",
      "source": "teams_to_keep = 2\nlow_exposure = base_exposure - (teams_to_keep-1)*exposure_gap\ndf_teams2 <- subset(df_teams2,Exposure >= low_exposure)\ndf_teams2 <- df_teams2[order(-df_teams2$Salary),]\ndf_teams2",
      "execution_count": 56,
      "outputs": [
        {
          "output_type": "display_data",
          "data": {
            "text/plain": "   Name...ID                       Name                 Salary Exposure\n6  Julian Suri (15413346)          Julian Suri          8600   50      \n8  Jens Fahrbring (15413349)       Jens Fahrbring       8300   50      \n17 Christopher Mivis (15413353)    Christopher Mivis    7900   45      \n16 Martin Simonsen (15413356)      Martin Simonsen      7800   45      \n9  Oscar Lengden (15413361)        Oscar Lengden        7600   45      \n13 Robin Sciot-Siegrist (15413365) Robin Sciot-Siegrist 7500   45      \n15 Pedro Oriol (15413362)          Pedro Oriol          7500   45      \n12 Maverick Antcliff (15413376)    Maverick Antcliff    7200   50      \n14 Pep Angles (15413377)           Pep Angles           7200   50      \n18 Damien Perrier (15413380)       Damien Perrier       7100   50      ",
            "text/latex": "A data.frame: 10 x 4\n\\begin{tabular}{r|llll}\n  & Name...ID & Name & Salary & Exposure\\\\\n  & <chr> & <chr> & <dbl> & <dbl>\\\\\n\\hline\n\t6 & Julian Suri (15413346)          & Julian Suri          & 8600 & 50\\\\\n\t8 & Jens Fahrbring (15413349)       & Jens Fahrbring       & 8300 & 50\\\\\n\t17 & Christopher Mivis (15413353)    & Christopher Mivis    & 7900 & 45\\\\\n\t16 & Martin Simonsen (15413356)      & Martin Simonsen      & 7800 & 45\\\\\n\t9 & Oscar Lengden (15413361)        & Oscar Lengden        & 7600 & 45\\\\\n\t13 & Robin Sciot-Siegrist (15413365) & Robin Sciot-Siegrist & 7500 & 45\\\\\n\t15 & Pedro Oriol (15413362)          & Pedro Oriol          & 7500 & 45\\\\\n\t12 & Maverick Antcliff (15413376)    & Maverick Antcliff    & 7200 & 50\\\\\n\t14 & Pep Angles (15413377)           & Pep Angles           & 7200 & 50\\\\\n\t18 & Damien Perrier (15413380)       & Damien Perrier       & 7100 & 50\\\\\n\\end{tabular}\n",
            "text/markdown": "\nA data.frame: 10 x 4\n\n| <!--/--> | Name...ID &lt;chr&gt; | Name &lt;chr&gt; | Salary &lt;dbl&gt; | Exposure &lt;dbl&gt; |\n|---|---|---|---|---|\n| 6 | Julian Suri (15413346)          | Julian Suri          | 8600 | 50 |\n| 8 | Jens Fahrbring (15413349)       | Jens Fahrbring       | 8300 | 50 |\n| 17 | Christopher Mivis (15413353)    | Christopher Mivis    | 7900 | 45 |\n| 16 | Martin Simonsen (15413356)      | Martin Simonsen      | 7800 | 45 |\n| 9 | Oscar Lengden (15413361)        | Oscar Lengden        | 7600 | 45 |\n| 13 | Robin Sciot-Siegrist (15413365) | Robin Sciot-Siegrist | 7500 | 45 |\n| 15 | Pedro Oriol (15413362)          | Pedro Oriol          | 7500 | 45 |\n| 12 | Maverick Antcliff (15413376)    | Maverick Antcliff    | 7200 | 50 |\n| 14 | Pep Angles (15413377)           | Pep Angles           | 7200 | 50 |\n| 18 | Damien Perrier (15413380)       | Damien Perrier       | 7100 | 50 |\n\n",
            "text/html": "<table>\n<caption>A data.frame: 10 x 4</caption>\n<thead>\n\t<tr><th></th><th scope=col>Name...ID</th><th scope=col>Name</th><th scope=col>Salary</th><th scope=col>Exposure</th></tr>\n\t<tr><th></th><th scope=col>&lt;chr&gt;</th><th scope=col>&lt;chr&gt;</th><th scope=col>&lt;dbl&gt;</th><th scope=col>&lt;dbl&gt;</th></tr>\n</thead>\n<tbody>\n\t<tr><th scope=row>6</th><td>Julian Suri (15413346)         </td><td>Julian Suri         </td><td>8600</td><td>50</td></tr>\n\t<tr><th scope=row>8</th><td>Jens Fahrbring (15413349)      </td><td>Jens Fahrbring      </td><td>8300</td><td>50</td></tr>\n\t<tr><th scope=row>17</th><td>Christopher Mivis (15413353)   </td><td>Christopher Mivis   </td><td>7900</td><td>45</td></tr>\n\t<tr><th scope=row>16</th><td>Martin Simonsen (15413356)     </td><td>Martin Simonsen     </td><td>7800</td><td>45</td></tr>\n\t<tr><th scope=row>9</th><td>Oscar Lengden (15413361)       </td><td>Oscar Lengden       </td><td>7600</td><td>45</td></tr>\n\t<tr><th scope=row>13</th><td>Robin Sciot-Siegrist (15413365)</td><td>Robin Sciot-Siegrist</td><td>7500</td><td>45</td></tr>\n\t<tr><th scope=row>15</th><td>Pedro Oriol (15413362)         </td><td>Pedro Oriol         </td><td>7500</td><td>45</td></tr>\n\t<tr><th scope=row>12</th><td>Maverick Antcliff (15413376)   </td><td>Maverick Antcliff   </td><td>7200</td><td>50</td></tr>\n\t<tr><th scope=row>14</th><td>Pep Angles (15413377)          </td><td>Pep Angles          </td><td>7200</td><td>50</td></tr>\n\t<tr><th scope=row>18</th><td>Damien Perrier (15413380)      </td><td>Damien Perrier      </td><td>7100</td><td>50</td></tr>\n</tbody>\n</table>\n"
          },
          "metadata": {}
        }
      ]
    },
    {
      "metadata": {
        "trusted": true
      },
      "cell_type": "code",
      "source": "#Whos in one not the other\nprint(setdiff(df_teams$Name,df_teams2$Name))\nprint(setdiff(df_teams2$Name,df_teams$Name))",
      "execution_count": 57,
      "outputs": [
        {
          "output_type": "stream",
          "text": "[1] \"Romain Wattel\"    \"Marcel Schneider\"\n[1] \"Christopher Mivis\" \"Martin Simonsen\"  \n",
          "name": "stdout"
        }
      ]
    },
    {
      "metadata": {
        "trusted": true
      },
      "cell_type": "code",
      "source": "#Add some more names\nmore_names = setdiff(df_teams2$Name,df_teams$Name)\n# more_names <- c('Rhys Enoch',\"Anton Karlsson\",\"Philip Eriksson\",\n#                \"Robin Sciot-Siegrist\")\n#names_to_add <- setdiff(more_names,df_teams$dk_name)\ndf_more <- subset(df,Name %in% more_names)[c('Name...ID','Name','Salary')]\ndf_more['Exposure'] = low_exposure - 5\ndf_more",
      "execution_count": 58,
      "outputs": [
        {
          "output_type": "display_data",
          "data": {
            "text/plain": "   Name...ID                    Name              Salary Exposure\n16 Martin Simonsen (15413356)   Martin Simonsen   7800   40      \n17 Christopher Mivis (15413353) Christopher Mivis 7900   40      ",
            "text/latex": "A data.frame: 2 x 4\n\\begin{tabular}{r|llll}\n  & Name...ID & Name & Salary & Exposure\\\\\n  & <chr> & <chr> & <dbl> & <dbl>\\\\\n\\hline\n\t16 & Martin Simonsen (15413356)   & Martin Simonsen   & 7800 & 40\\\\\n\t17 & Christopher Mivis (15413353) & Christopher Mivis & 7900 & 40\\\\\n\\end{tabular}\n",
            "text/markdown": "\nA data.frame: 2 x 4\n\n| <!--/--> | Name...ID &lt;chr&gt; | Name &lt;chr&gt; | Salary &lt;dbl&gt; | Exposure &lt;dbl&gt; |\n|---|---|---|---|---|\n| 16 | Martin Simonsen (15413356)   | Martin Simonsen   | 7800 | 40 |\n| 17 | Christopher Mivis (15413353) | Christopher Mivis | 7900 | 40 |\n\n",
            "text/html": "<table>\n<caption>A data.frame: 2 x 4</caption>\n<thead>\n\t<tr><th></th><th scope=col>Name...ID</th><th scope=col>Name</th><th scope=col>Salary</th><th scope=col>Exposure</th></tr>\n\t<tr><th></th><th scope=col>&lt;chr&gt;</th><th scope=col>&lt;chr&gt;</th><th scope=col>&lt;dbl&gt;</th><th scope=col>&lt;dbl&gt;</th></tr>\n</thead>\n<tbody>\n\t<tr><th scope=row>16</th><td>Martin Simonsen (15413356)  </td><td>Martin Simonsen  </td><td>7800</td><td>40</td></tr>\n\t<tr><th scope=row>17</th><td>Christopher Mivis (15413353)</td><td>Christopher Mivis</td><td>7900</td><td>40</td></tr>\n</tbody>\n</table>\n"
          },
          "metadata": {}
        }
      ]
    },
    {
      "metadata": {
        "trusted": true
      },
      "cell_type": "code",
      "source": "df_teams <- rbind(df_teams,df_more)\ndf_teams <- df_teams[order(-df_teams$Salary),]\n#replace exposure with probabilities\ndf_teams$Exposure <- df_teams$Exposure / sum(df_teams$Exposure)\ndf_teams",
      "execution_count": 59,
      "outputs": [
        {
          "output_type": "display_data",
          "data": {
            "text/plain": "   Name...ID                       Name                 Salary Exposure  \n6  Julian Suri (15413346)          Julian Suri          8600   0.09009009\n8  Jens Fahrbring (15413349)       Jens Fahrbring       8300   0.09009009\n11 Romain Wattel (15413350)        Romain Wattel        8200   0.08108108\n17 Christopher Mivis (15413353)    Christopher Mivis    7900   0.07207207\n16 Martin Simonsen (15413356)      Martin Simonsen      7800   0.07207207\n9  Oscar Lengden (15413361)        Oscar Lengden        7600   0.08108108\n13 Robin Sciot-Siegrist (15413365) Robin Sciot-Siegrist 7500   0.08108108\n15 Pedro Oriol (15413362)          Pedro Oriol          7500   0.08108108\n19 Marcel Schneider (15413364)     Marcel Schneider     7500   0.08108108\n12 Maverick Antcliff (15413376)    Maverick Antcliff    7200   0.09009009\n14 Pep Angles (15413377)           Pep Angles           7200   0.09009009\n18 Damien Perrier (15413380)       Damien Perrier       7100   0.09009009",
            "text/latex": "A data.frame: 12 x 4\n\\begin{tabular}{r|llll}\n  & Name...ID & Name & Salary & Exposure\\\\\n  & <chr> & <chr> & <dbl> & <dbl>\\\\\n\\hline\n\t6 & Julian Suri (15413346)          & Julian Suri          & 8600 & 0.09009009\\\\\n\t8 & Jens Fahrbring (15413349)       & Jens Fahrbring       & 8300 & 0.09009009\\\\\n\t11 & Romain Wattel (15413350)        & Romain Wattel        & 8200 & 0.08108108\\\\\n\t17 & Christopher Mivis (15413353)    & Christopher Mivis    & 7900 & 0.07207207\\\\\n\t16 & Martin Simonsen (15413356)      & Martin Simonsen      & 7800 & 0.07207207\\\\\n\t9 & Oscar Lengden (15413361)        & Oscar Lengden        & 7600 & 0.08108108\\\\\n\t13 & Robin Sciot-Siegrist (15413365) & Robin Sciot-Siegrist & 7500 & 0.08108108\\\\\n\t15 & Pedro Oriol (15413362)          & Pedro Oriol          & 7500 & 0.08108108\\\\\n\t19 & Marcel Schneider (15413364)     & Marcel Schneider     & 7500 & 0.08108108\\\\\n\t12 & Maverick Antcliff (15413376)    & Maverick Antcliff    & 7200 & 0.09009009\\\\\n\t14 & Pep Angles (15413377)           & Pep Angles           & 7200 & 0.09009009\\\\\n\t18 & Damien Perrier (15413380)       & Damien Perrier       & 7100 & 0.09009009\\\\\n\\end{tabular}\n",
            "text/markdown": "\nA data.frame: 12 x 4\n\n| <!--/--> | Name...ID &lt;chr&gt; | Name &lt;chr&gt; | Salary &lt;dbl&gt; | Exposure &lt;dbl&gt; |\n|---|---|---|---|---|\n| 6 | Julian Suri (15413346)          | Julian Suri          | 8600 | 0.09009009 |\n| 8 | Jens Fahrbring (15413349)       | Jens Fahrbring       | 8300 | 0.09009009 |\n| 11 | Romain Wattel (15413350)        | Romain Wattel        | 8200 | 0.08108108 |\n| 17 | Christopher Mivis (15413353)    | Christopher Mivis    | 7900 | 0.07207207 |\n| 16 | Martin Simonsen (15413356)      | Martin Simonsen      | 7800 | 0.07207207 |\n| 9 | Oscar Lengden (15413361)        | Oscar Lengden        | 7600 | 0.08108108 |\n| 13 | Robin Sciot-Siegrist (15413365) | Robin Sciot-Siegrist | 7500 | 0.08108108 |\n| 15 | Pedro Oriol (15413362)          | Pedro Oriol          | 7500 | 0.08108108 |\n| 19 | Marcel Schneider (15413364)     | Marcel Schneider     | 7500 | 0.08108108 |\n| 12 | Maverick Antcliff (15413376)    | Maverick Antcliff    | 7200 | 0.09009009 |\n| 14 | Pep Angles (15413377)           | Pep Angles           | 7200 | 0.09009009 |\n| 18 | Damien Perrier (15413380)       | Damien Perrier       | 7100 | 0.09009009 |\n\n",
            "text/html": "<table>\n<caption>A data.frame: 12 x 4</caption>\n<thead>\n\t<tr><th></th><th scope=col>Name...ID</th><th scope=col>Name</th><th scope=col>Salary</th><th scope=col>Exposure</th></tr>\n\t<tr><th></th><th scope=col>&lt;chr&gt;</th><th scope=col>&lt;chr&gt;</th><th scope=col>&lt;dbl&gt;</th><th scope=col>&lt;dbl&gt;</th></tr>\n</thead>\n<tbody>\n\t<tr><th scope=row>6</th><td>Julian Suri (15413346)         </td><td>Julian Suri         </td><td>8600</td><td>0.09009009</td></tr>\n\t<tr><th scope=row>8</th><td>Jens Fahrbring (15413349)      </td><td>Jens Fahrbring      </td><td>8300</td><td>0.09009009</td></tr>\n\t<tr><th scope=row>11</th><td>Romain Wattel (15413350)       </td><td>Romain Wattel       </td><td>8200</td><td>0.08108108</td></tr>\n\t<tr><th scope=row>17</th><td>Christopher Mivis (15413353)   </td><td>Christopher Mivis   </td><td>7900</td><td>0.07207207</td></tr>\n\t<tr><th scope=row>16</th><td>Martin Simonsen (15413356)     </td><td>Martin Simonsen     </td><td>7800</td><td>0.07207207</td></tr>\n\t<tr><th scope=row>9</th><td>Oscar Lengden (15413361)       </td><td>Oscar Lengden       </td><td>7600</td><td>0.08108108</td></tr>\n\t<tr><th scope=row>13</th><td>Robin Sciot-Siegrist (15413365)</td><td>Robin Sciot-Siegrist</td><td>7500</td><td>0.08108108</td></tr>\n\t<tr><th scope=row>15</th><td>Pedro Oriol (15413362)         </td><td>Pedro Oriol         </td><td>7500</td><td>0.08108108</td></tr>\n\t<tr><th scope=row>19</th><td>Marcel Schneider (15413364)    </td><td>Marcel Schneider    </td><td>7500</td><td>0.08108108</td></tr>\n\t<tr><th scope=row>12</th><td>Maverick Antcliff (15413376)   </td><td>Maverick Antcliff   </td><td>7200</td><td>0.09009009</td></tr>\n\t<tr><th scope=row>14</th><td>Pep Angles (15413377)          </td><td>Pep Angles          </td><td>7200</td><td>0.09009009</td></tr>\n\t<tr><th scope=row>18</th><td>Damien Perrier (15413380)      </td><td>Damien Perrier      </td><td>7100</td><td>0.09009009</td></tr>\n</tbody>\n</table>\n"
          },
          "metadata": {}
        }
      ]
    },
    {
      "metadata": {},
      "cell_type": "markdown",
      "source": "# Generate lineups"
    },
    {
      "metadata": {
        "trusted": true
      },
      "cell_type": "code",
      "source": "rep('test',6)",
      "execution_count": 60,
      "outputs": [
        {
          "output_type": "display_data",
          "data": {
            "text/plain": "[1] \"test\" \"test\" \"test\" \"test\" \"test\" \"test\"",
            "text/latex": "\\begin{enumerate*}\n\\item 'test'\n\\item 'test'\n\\item 'test'\n\\item 'test'\n\\item 'test'\n\\item 'test'\n\\end{enumerate*}\n",
            "text/markdown": "1. 'test'\n2. 'test'\n3. 'test'\n4. 'test'\n5. 'test'\n6. 'test'\n\n\n",
            "text/html": "<ol class=list-inline>\n\t<li>'test'</li>\n\t<li>'test'</li>\n\t<li>'test'</li>\n\t<li>'test'</li>\n\t<li>'test'</li>\n\t<li>'test'</li>\n</ol>\n"
          },
          "metadata": {}
        }
      ]
    },
    {
      "metadata": {
        "trusted": true
      },
      "cell_type": "code",
      "source": "col_names = c('G1','G2','G3','G4','G5','G6')\ndf_lineups = data.frame('test','test','test','test','test','test',stringsAsFactors=FALSE)\nnames(df_lineups) <- col_names\ndf_lineups",
      "execution_count": 61,
      "outputs": [
        {
          "output_type": "display_data",
          "data": {
            "text/plain": "  G1   G2   G3   G4   G5   G6  \n1 test test test test test test",
            "text/latex": "A data.frame: 1 x 6\n\\begin{tabular}{r|llllll}\n G1 & G2 & G3 & G4 & G5 & G6\\\\\n <chr> & <chr> & <chr> & <chr> & <chr> & <chr>\\\\\n\\hline\n\t test & test & test & test & test & test\\\\\n\\end{tabular}\n",
            "text/markdown": "\nA data.frame: 1 x 6\n\n| G1 &lt;chr&gt; | G2 &lt;chr&gt; | G3 &lt;chr&gt; | G4 &lt;chr&gt; | G5 &lt;chr&gt; | G6 &lt;chr&gt; |\n|---|---|---|---|---|---|\n| test | test | test | test | test | test |\n\n",
            "text/html": "<table>\n<caption>A data.frame: 1 x 6</caption>\n<thead>\n\t<tr><th scope=col>G1</th><th scope=col>G2</th><th scope=col>G3</th><th scope=col>G4</th><th scope=col>G5</th><th scope=col>G6</th></tr>\n\t<tr><th scope=col>&lt;chr&gt;</th><th scope=col>&lt;chr&gt;</th><th scope=col>&lt;chr&gt;</th><th scope=col>&lt;chr&gt;</th><th scope=col>&lt;chr&gt;</th><th scope=col>&lt;chr&gt;</th></tr>\n</thead>\n<tbody>\n\t<tr><td>test</td><td>test</td><td>test</td><td>test</td><td>test</td><td>test</td></tr>\n</tbody>\n</table>\n"
          },
          "metadata": {}
        }
      ]
    },
    {
      "metadata": {
        "trusted": true
      },
      "cell_type": "code",
      "source": "sample(df_teams$Name...ID,size=6,replace=FALSE,prob = df_teams$Exposure)",
      "execution_count": 62,
      "outputs": [
        {
          "output_type": "display_data",
          "data": {
            "text/plain": "[1] \"Jens Fahrbring (15413349)\"    \"Julian Suri (15413346)\"      \n[3] \"Romain Wattel (15413350)\"     \"Oscar Lengden (15413361)\"    \n[5] \"Christopher Mivis (15413353)\" \"Maverick Antcliff (15413376)\"",
            "text/latex": "\\begin{enumerate*}\n\\item 'Jens Fahrbring (15413349)'\n\\item 'Julian Suri (15413346)'\n\\item 'Romain Wattel (15413350)'\n\\item 'Oscar Lengden (15413361)'\n\\item 'Christopher Mivis (15413353)'\n\\item 'Maverick Antcliff (15413376)'\n\\end{enumerate*}\n",
            "text/markdown": "1. 'Jens Fahrbring (15413349)'\n2. 'Julian Suri (15413346)'\n3. 'Romain Wattel (15413350)'\n4. 'Oscar Lengden (15413361)'\n5. 'Christopher Mivis (15413353)'\n6. 'Maverick Antcliff (15413376)'\n\n\n",
            "text/html": "<ol class=list-inline>\n\t<li>'Jens Fahrbring (15413349)'</li>\n\t<li>'Julian Suri (15413346)'</li>\n\t<li>'Romain Wattel (15413350)'</li>\n\t<li>'Oscar Lengden (15413361)'</li>\n\t<li>'Christopher Mivis (15413353)'</li>\n\t<li>'Maverick Antcliff (15413376)'</li>\n</ol>\n"
          },
          "metadata": {}
        }
      ]
    },
    {
      "metadata": {
        "trusted": true
      },
      "cell_type": "code",
      "source": "num_teams <- 44\nn <- 0\nmin_sal <- 49400 - sal_used\nmax_sal <- 50000 - sal_used\nmax_own <- 70\n\n#Reste df_teams\ndf_teams['Actual'] <- 0\n\n#Reset df_lineups\ncol_names = c('G1','G2','G3','G4','G5','G6')\ndf_lineups = data.frame('test','test','test','test','test','test',stringsAsFactors=FALSE)\nnames(df_lineups) <- col_names\n\nwhile(n<num_teams) {\n    #Pick random team\n    curr_team <- sample(df_teams$Name...ID,size=num_left,\n                        replace=FALSE,prob = df_teams$Exposure)\n    df_now <- subset(df_teams,Name...ID %in% curr_team)\n    #Get team in order of descending salary\n    df_now <- df_now[order(-df_now$Salary),]\n    curr_team <- df_now$Name...ID\n    curr_sal <- sum(df_now$Salary)\n    #curr_own <- sum(df_now$projected_ownership)\n    if (curr_sal>=min_sal & curr_sal<=max_sal) {\n        curr_team <- c(lock_full_names,curr_team)\n        df_lineups <- rbind(df_lineups,curr_team)\n        n <- n+1\n        if (n%%10 == 0) {\n            print(n)\n        }\n        #Update df_teams\n    }\n}\nhead(df_lineups)",
      "execution_count": 67,
      "outputs": [
        {
          "output_type": "stream",
          "text": "[1] 10\n[1] 20\n[1] 30\n[1] 40\n",
          "name": "stdout"
        },
        {
          "output_type": "display_data",
          "data": {
            "text/plain": "  G1                        G2                       \n1 test                      test                     \n2 George Coetzee (15413332) Jens Fahrbring (15413349)\n3 George Coetzee (15413332) Julian Suri (15413346)   \n4 George Coetzee (15413332) Romain Wattel (15413350) \n5 George Coetzee (15413332) Julian Suri (15413346)   \n6 George Coetzee (15413332) Jens Fahrbring (15413349)\n  G3                              G4                             \n1 test                            test                           \n2 Romain Wattel (15413350)        Robin Sciot-Siegrist (15413365)\n3 Robin Sciot-Siegrist (15413365) Pedro Oriol (15413362)         \n4 Martin Simonsen (15413356)      Oscar Lengden (15413361)       \n5 Christopher Mivis (15413353)    Marcel Schneider (15413364)    \n6 Martin Simonsen (15413356)      Robin Sciot-Siegrist (15413365)\n  G5                           G6                          \n1 test                         test                        \n2 Maverick Antcliff (15413376) Damien Perrier (15413380)   \n3 Maverick Antcliff (15413376) Damien Perrier (15413380)   \n4 Marcel Schneider (15413364)  Maverick Antcliff (15413376)\n5 Maverick Antcliff (15413376) Pep Angles (15413377)       \n6 Marcel Schneider (15413364)  Pep Angles (15413377)       ",
            "text/latex": "A data.frame: 6 x 6\n\\begin{tabular}{r|llllll}\n G1 & G2 & G3 & G4 & G5 & G6\\\\\n <chr> & <chr> & <chr> & <chr> & <chr> & <chr>\\\\\n\\hline\n\t test                      & test                      & test                            & test                            & test                         & test                        \\\\\n\t George Coetzee (15413332) & Jens Fahrbring (15413349) & Romain Wattel (15413350)        & Robin Sciot-Siegrist (15413365) & Maverick Antcliff (15413376) & Damien Perrier (15413380)   \\\\\n\t George Coetzee (15413332) & Julian Suri (15413346)    & Robin Sciot-Siegrist (15413365) & Pedro Oriol (15413362)          & Maverick Antcliff (15413376) & Damien Perrier (15413380)   \\\\\n\t George Coetzee (15413332) & Romain Wattel (15413350)  & Martin Simonsen (15413356)      & Oscar Lengden (15413361)        & Marcel Schneider (15413364)  & Maverick Antcliff (15413376)\\\\\n\t George Coetzee (15413332) & Julian Suri (15413346)    & Christopher Mivis (15413353)    & Marcel Schneider (15413364)     & Maverick Antcliff (15413376) & Pep Angles (15413377)       \\\\\n\t George Coetzee (15413332) & Jens Fahrbring (15413349) & Martin Simonsen (15413356)      & Robin Sciot-Siegrist (15413365) & Marcel Schneider (15413364)  & Pep Angles (15413377)       \\\\\n\\end{tabular}\n",
            "text/markdown": "\nA data.frame: 6 x 6\n\n| G1 &lt;chr&gt; | G2 &lt;chr&gt; | G3 &lt;chr&gt; | G4 &lt;chr&gt; | G5 &lt;chr&gt; | G6 &lt;chr&gt; |\n|---|---|---|---|---|---|\n| test                      | test                      | test                            | test                            | test                         | test                         |\n| George Coetzee (15413332) | Jens Fahrbring (15413349) | Romain Wattel (15413350)        | Robin Sciot-Siegrist (15413365) | Maverick Antcliff (15413376) | Damien Perrier (15413380)    |\n| George Coetzee (15413332) | Julian Suri (15413346)    | Robin Sciot-Siegrist (15413365) | Pedro Oriol (15413362)          | Maverick Antcliff (15413376) | Damien Perrier (15413380)    |\n| George Coetzee (15413332) | Romain Wattel (15413350)  | Martin Simonsen (15413356)      | Oscar Lengden (15413361)        | Marcel Schneider (15413364)  | Maverick Antcliff (15413376) |\n| George Coetzee (15413332) | Julian Suri (15413346)    | Christopher Mivis (15413353)    | Marcel Schneider (15413364)     | Maverick Antcliff (15413376) | Pep Angles (15413377)        |\n| George Coetzee (15413332) | Jens Fahrbring (15413349) | Martin Simonsen (15413356)      | Robin Sciot-Siegrist (15413365) | Marcel Schneider (15413364)  | Pep Angles (15413377)        |\n\n",
            "text/html": "<table>\n<caption>A data.frame: 6 x 6</caption>\n<thead>\n\t<tr><th scope=col>G1</th><th scope=col>G2</th><th scope=col>G3</th><th scope=col>G4</th><th scope=col>G5</th><th scope=col>G6</th></tr>\n\t<tr><th scope=col>&lt;chr&gt;</th><th scope=col>&lt;chr&gt;</th><th scope=col>&lt;chr&gt;</th><th scope=col>&lt;chr&gt;</th><th scope=col>&lt;chr&gt;</th><th scope=col>&lt;chr&gt;</th></tr>\n</thead>\n<tbody>\n\t<tr><td>test                     </td><td>test                     </td><td>test                           </td><td>test                           </td><td>test                        </td><td>test                        </td></tr>\n\t<tr><td>George Coetzee (15413332)</td><td>Jens Fahrbring (15413349)</td><td>Romain Wattel (15413350)       </td><td>Robin Sciot-Siegrist (15413365)</td><td>Maverick Antcliff (15413376)</td><td>Damien Perrier (15413380)   </td></tr>\n\t<tr><td>George Coetzee (15413332)</td><td>Julian Suri (15413346)   </td><td>Robin Sciot-Siegrist (15413365)</td><td>Pedro Oriol (15413362)         </td><td>Maverick Antcliff (15413376)</td><td>Damien Perrier (15413380)   </td></tr>\n\t<tr><td>George Coetzee (15413332)</td><td>Romain Wattel (15413350) </td><td>Martin Simonsen (15413356)     </td><td>Oscar Lengden (15413361)       </td><td>Marcel Schneider (15413364) </td><td>Maverick Antcliff (15413376)</td></tr>\n\t<tr><td>George Coetzee (15413332)</td><td>Julian Suri (15413346)   </td><td>Christopher Mivis (15413353)   </td><td>Marcel Schneider (15413364)    </td><td>Maverick Antcliff (15413376)</td><td>Pep Angles (15413377)       </td></tr>\n\t<tr><td>George Coetzee (15413332)</td><td>Jens Fahrbring (15413349)</td><td>Martin Simonsen (15413356)     </td><td>Robin Sciot-Siegrist (15413365)</td><td>Marcel Schneider (15413364) </td><td>Pep Angles (15413377)       </td></tr>\n</tbody>\n</table>\n"
          },
          "metadata": {}
        }
      ]
    },
    {
      "metadata": {
        "trusted": true
      },
      "cell_type": "code",
      "source": "write.csv(df_lineups,'Lineups/DKEntries.csv')",
      "execution_count": 68,
      "outputs": []
    },
    {
      "metadata": {
        "trusted": true
      },
      "cell_type": "code",
      "source": "",
      "execution_count": null,
      "outputs": []
    }
  ],
  "metadata": {
    "kernelspec": {
      "name": "r",
      "display_name": "R",
      "language": "R"
    },
    "language_info": {
      "mimetype": "text/x-r-source",
      "name": "R",
      "pygments_lexer": "r",
      "version": "3.5.3",
      "file_extension": ".r",
      "codemirror_mode": "r"
    }
  },
  "nbformat": 4,
  "nbformat_minor": 1
}