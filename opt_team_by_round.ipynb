{
  "cells": [
    {
      "metadata": {
        "trusted": true
      },
      "cell_type": "code",
      "source": "import pandas as pd\nimport numpy as np",
      "execution_count": 2,
      "outputs": []
    },
    {
      "metadata": {
        "trusted": true
      },
      "cell_type": "code",
      "source": "import cvxpy as cp",
      "execution_count": 3,
      "outputs": [
        {
          "output_type": "error",
          "ename": "ModuleNotFoundError",
          "evalue": "No module named 'cvxpy'",
          "traceback": [
            "\u001b[0;31m---------------------------------------------------------------------------\u001b[0m",
            "\u001b[0;31mModuleNotFoundError\u001b[0m                       Traceback (most recent call last)",
            "\u001b[0;32m<ipython-input-3-b9466877789b>\u001b[0m in \u001b[0;36m<module>\u001b[0;34m\u001b[0m\n\u001b[0;32m----> 1\u001b[0;31m \u001b[0;32mimport\u001b[0m \u001b[0mcvxpy\u001b[0m \u001b[0;32mas\u001b[0m \u001b[0mcp\u001b[0m\u001b[0;34m\u001b[0m\u001b[0m\n\u001b[0m",
            "\u001b[0;31mModuleNotFoundError\u001b[0m: No module named 'cvxpy'"
          ]
        }
      ]
    },
    {
      "metadata": {},
      "cell_type": "markdown",
      "source": "# Read in results"
    },
    {
      "metadata": {
        "trusted": true
      },
      "cell_type": "code",
      "source": "df1 = pd.read_csv('Data/golf_results_TOC_2020_R1.csv')\ndf2 = pd.read_csv('Data/golf_results_TOC_2020_R2.csv')\ndf1.head()",
      "execution_count": 4,
      "outputs": [
        {
          "output_type": "execute_result",
          "execution_count": 4,
          "data": {
            "text/html": "<div>\n<style scoped>\n    .dataframe tbody tr th:only-of-type {\n        vertical-align: middle;\n    }\n\n    .dataframe tbody tr th {\n        vertical-align: top;\n    }\n\n    .dataframe thead th {\n        text-align: right;\n    }\n</style>\n<table border=\"1\" class=\"dataframe\">\n  <thead>\n    <tr style=\"text-align: right;\">\n      <th></th>\n      <th>Rank</th>\n      <th>EntryId</th>\n      <th>EntryName</th>\n      <th>TimeRemaining</th>\n      <th>Points</th>\n      <th>Lineup</th>\n      <th>Unnamed: 6</th>\n      <th>Player</th>\n      <th>Roster Position</th>\n      <th>%Drafted</th>\n      <th>FPTS</th>\n    </tr>\n  </thead>\n  <tbody>\n    <tr>\n      <th>0</th>\n      <td>1</td>\n      <td>1818173998</td>\n      <td>codedog (11/27)</td>\n      <td>324</td>\n      <td>261.0</td>\n      <td>G Patrick Cantlay G Rickie Fowler G Matt Kucha...</td>\n      <td>NaN</td>\n      <td>Patrick Reed</td>\n      <td>G</td>\n      <td>30.90%</td>\n      <td>28.5</td>\n    </tr>\n    <tr>\n      <th>1</th>\n      <td>2</td>\n      <td>1817381412</td>\n      <td>TommyBombs26</td>\n      <td>324</td>\n      <td>248.0</td>\n      <td>G Justin Thomas G Matt Kuchar G Brendon Todd G...</td>\n      <td>NaN</td>\n      <td>Lanto Griffin</td>\n      <td>G</td>\n      <td>30.39%</td>\n      <td>27.5</td>\n    </tr>\n    <tr>\n      <th>2</th>\n      <td>3</td>\n      <td>1816105385</td>\n      <td>omahaman11 (4/13)</td>\n      <td>324</td>\n      <td>246.5</td>\n      <td>G Justin Thomas G Patrick Cantlay G Joaquin Ni...</td>\n      <td>NaN</td>\n      <td>Justin Thomas</td>\n      <td>G</td>\n      <td>29.10%</td>\n      <td>47.0</td>\n    </tr>\n    <tr>\n      <th>3</th>\n      <td>3</td>\n      <td>1819941023</td>\n      <td>buddybrooks</td>\n      <td>324</td>\n      <td>246.5</td>\n      <td>G Justin Thomas G Patrick Cantlay G Joaquin Ni...</td>\n      <td>NaN</td>\n      <td>Gary Woodland</td>\n      <td>G</td>\n      <td>28.69%</td>\n      <td>17.5</td>\n    </tr>\n    <tr>\n      <th>4</th>\n      <td>3</td>\n      <td>1819958165</td>\n      <td>mamidees</td>\n      <td>324</td>\n      <td>246.5</td>\n      <td>G Justin Thomas G Rickie Fowler G Joaquin Niem...</td>\n      <td>NaN</td>\n      <td>Dustin Johnson</td>\n      <td>G</td>\n      <td>27.33%</td>\n      <td>28.5</td>\n    </tr>\n  </tbody>\n</table>\n</div>",
            "text/plain": "   Rank     EntryId          EntryName  TimeRemaining  Points  \\\n0     1  1818173998    codedog (11/27)            324   261.0   \n1     2  1817381412       TommyBombs26            324   248.0   \n2     3  1816105385  omahaman11 (4/13)            324   246.5   \n3     3  1819941023        buddybrooks            324   246.5   \n4     3  1819958165           mamidees            324   246.5   \n\n                                              Lineup  Unnamed: 6  \\\n0  G Patrick Cantlay G Rickie Fowler G Matt Kucha...         NaN   \n1  G Justin Thomas G Matt Kuchar G Brendon Todd G...         NaN   \n2  G Justin Thomas G Patrick Cantlay G Joaquin Ni...         NaN   \n3  G Justin Thomas G Patrick Cantlay G Joaquin Ni...         NaN   \n4  G Justin Thomas G Rickie Fowler G Joaquin Niem...         NaN   \n\n           Player Roster Position %Drafted  FPTS  \n0    Patrick Reed               G   30.90%  28.5  \n1   Lanto Griffin               G   30.39%  27.5  \n2   Justin Thomas               G   29.10%  47.0  \n3   Gary Woodland               G   28.69%  17.5  \n4  Dustin Johnson               G   27.33%  28.5  "
          },
          "metadata": {}
        }
      ]
    },
    {
      "metadata": {
        "trusted": true
      },
      "cell_type": "code",
      "source": "",
      "execution_count": null,
      "outputs": []
    }
  ],
  "metadata": {
    "kernelspec": {
      "name": "python36",
      "display_name": "Python 3.6",
      "language": "python"
    },
    "language_info": {
      "mimetype": "text/x-python",
      "nbconvert_exporter": "python",
      "name": "python",
      "pygments_lexer": "ipython3",
      "version": "3.6.6",
      "file_extension": ".py",
      "codemirror_mode": {
        "version": 3,
        "name": "ipython"
      }
    }
  },
  "nbformat": 4,
  "nbformat_minor": 1
}