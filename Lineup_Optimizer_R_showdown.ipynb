{
  "cells": [
    {
      "metadata": {},
      "cell_type": "markdown",
      "source": "# Read in data from datagolf"
    },
    {
      "metadata": {
        "trusted": true
      },
      "cell_type": "code",
      "source": "#PGA\ndf <- read.csv('Data/draftkings_showdown_projections.csv',stringsAsFactors=FALSE)\n#Euro\ndf <- read.csv('Data/draftkings_showdown_projections 3.csv',stringsAsFactors=FALSE)\nhead(df)",
      "execution_count": 2,
      "outputs": [
        {
          "output_type": "display_data",
          "data": {
            "text/plain": "  datagolf_name      dk_name           sample_size dk_id    dk_salary\n1 Thomas, Justin     Justin Thomas     150         15448254 10800    \n2 Rahm, Jon          Jon Rahm          150         15448255 10500    \n3 Schauffele, Xander Xander Schauffele 150         15448256 10300    \n4 Johnson, Dustin    Dustin Johnson    150         15448257 10000    \n5 Reed, Patrick      Patrick Reed      150         15448258  9800    \n6 DeChambeau, Bryson Bryson DeChambeau 150         15448259  9600    \n  r4_tee_time morning_wave position scoring_points finish_points manual_bump\n1 11:51 am    0            T17 (+4) 25.8           5.1           0          \n2 10:34 am    1            T31 (+7) 25.4           3.1           0          \n3 1:08 pm     0            T4 (E)   25.0           7.8           0          \n4 11:40 am    0            T21 (+5) 24.1           4.1           0          \n5 12:13 pm    0            T11 (+3) 23.5           5.4           0          \n6 1:30 pm     0            2 (-3)   23.7           9.8           0          \n  total_points value max_exposure lineup_rule\n1 30.9         -0.15 100          NA         \n2 28.6         -0.44 100          NA         \n3 32.7          0.34 100          NA         \n4 28.3         -0.22 100          NA         \n5 28.8          0.00 100          NA         \n6 33.4          0.70 100          NA         ",
            "text/latex": "A data.frame: 6 x 15\n\\begin{tabular}{r|lllllllllllllll}\n datagolf\\_name & dk\\_name & sample\\_size & dk\\_id & dk\\_salary & r4\\_tee\\_time & morning\\_wave & position & scoring\\_points & finish\\_points & manual\\_bump & total\\_points & value & max\\_exposure & lineup\\_rule\\\\\n <chr> & <chr> & <int> & <int> & <int> & <chr> & <int> & <chr> & <dbl> & <dbl> & <int> & <dbl> & <dbl> & <int> & <lgl>\\\\\n\\hline\n\t Thomas, Justin     & Justin Thomas     & 150 & 15448254 & 10800 & 11:51 am & 0 & T17 (+4) & 25.8 & 5.1 & 0 & 30.9 & -0.15 & 100 & NA\\\\\n\t Rahm, Jon          & Jon Rahm          & 150 & 15448255 & 10500 & 10:34 am & 1 & T31 (+7) & 25.4 & 3.1 & 0 & 28.6 & -0.44 & 100 & NA\\\\\n\t Schauffele, Xander & Xander Schauffele & 150 & 15448256 & 10300 & 1:08 pm  & 0 & T4 (E)   & 25.0 & 7.8 & 0 & 32.7 &  0.34 & 100 & NA\\\\\n\t Johnson, Dustin    & Dustin Johnson    & 150 & 15448257 & 10000 & 11:40 am & 0 & T21 (+5) & 24.1 & 4.1 & 0 & 28.3 & -0.22 & 100 & NA\\\\\n\t Reed, Patrick      & Patrick Reed      & 150 & 15448258 &  9800 & 12:13 pm & 0 & T11 (+3) & 23.5 & 5.4 & 0 & 28.8 &  0.00 & 100 & NA\\\\\n\t DeChambeau, Bryson & Bryson DeChambeau & 150 & 15448259 &  9600 & 1:30 pm  & 0 & 2 (-3)   & 23.7 & 9.8 & 0 & 33.4 &  0.70 & 100 & NA\\\\\n\\end{tabular}\n",
            "text/markdown": "\nA data.frame: 6 x 15\n\n| datagolf_name &lt;chr&gt; | dk_name &lt;chr&gt; | sample_size &lt;int&gt; | dk_id &lt;int&gt; | dk_salary &lt;int&gt; | r4_tee_time &lt;chr&gt; | morning_wave &lt;int&gt; | position &lt;chr&gt; | scoring_points &lt;dbl&gt; | finish_points &lt;dbl&gt; | manual_bump &lt;int&gt; | total_points &lt;dbl&gt; | value &lt;dbl&gt; | max_exposure &lt;int&gt; | lineup_rule &lt;lgl&gt; |\n|---|---|---|---|---|---|---|---|---|---|---|---|---|---|---|\n| Thomas, Justin     | Justin Thomas     | 150 | 15448254 | 10800 | 11:51 am | 0 | T17 (+4) | 25.8 | 5.1 | 0 | 30.9 | -0.15 | 100 | NA |\n| Rahm, Jon          | Jon Rahm          | 150 | 15448255 | 10500 | 10:34 am | 1 | T31 (+7) | 25.4 | 3.1 | 0 | 28.6 | -0.44 | 100 | NA |\n| Schauffele, Xander | Xander Schauffele | 150 | 15448256 | 10300 | 1:08 pm  | 0 | T4 (E)   | 25.0 | 7.8 | 0 | 32.7 |  0.34 | 100 | NA |\n| Johnson, Dustin    | Dustin Johnson    | 150 | 15448257 | 10000 | 11:40 am | 0 | T21 (+5) | 24.1 | 4.1 | 0 | 28.3 | -0.22 | 100 | NA |\n| Reed, Patrick      | Patrick Reed      | 150 | 15448258 |  9800 | 12:13 pm | 0 | T11 (+3) | 23.5 | 5.4 | 0 | 28.8 |  0.00 | 100 | NA |\n| DeChambeau, Bryson | Bryson DeChambeau | 150 | 15448259 |  9600 | 1:30 pm  | 0 | 2 (-3)   | 23.7 | 9.8 | 0 | 33.4 |  0.70 | 100 | NA |\n\n",
            "text/html": "<table>\n<caption>A data.frame: 6 x 15</caption>\n<thead>\n\t<tr><th scope=col>datagolf_name</th><th scope=col>dk_name</th><th scope=col>sample_size</th><th scope=col>dk_id</th><th scope=col>dk_salary</th><th scope=col>r4_tee_time</th><th scope=col>morning_wave</th><th scope=col>position</th><th scope=col>scoring_points</th><th scope=col>finish_points</th><th scope=col>manual_bump</th><th scope=col>total_points</th><th scope=col>value</th><th scope=col>max_exposure</th><th scope=col>lineup_rule</th></tr>\n\t<tr><th scope=col>&lt;chr&gt;</th><th scope=col>&lt;chr&gt;</th><th scope=col>&lt;int&gt;</th><th scope=col>&lt;int&gt;</th><th scope=col>&lt;int&gt;</th><th scope=col>&lt;chr&gt;</th><th scope=col>&lt;int&gt;</th><th scope=col>&lt;chr&gt;</th><th scope=col>&lt;dbl&gt;</th><th scope=col>&lt;dbl&gt;</th><th scope=col>&lt;int&gt;</th><th scope=col>&lt;dbl&gt;</th><th scope=col>&lt;dbl&gt;</th><th scope=col>&lt;int&gt;</th><th scope=col>&lt;lgl&gt;</th></tr>\n</thead>\n<tbody>\n\t<tr><td>Thomas, Justin    </td><td>Justin Thomas    </td><td>150</td><td>15448254</td><td>10800</td><td>11:51 am</td><td>0</td><td>T17 (+4)</td><td>25.8</td><td>5.1</td><td>0</td><td>30.9</td><td>-0.15</td><td>100</td><td>NA</td></tr>\n\t<tr><td>Rahm, Jon         </td><td>Jon Rahm         </td><td>150</td><td>15448255</td><td>10500</td><td>10:34 am</td><td>1</td><td>T31 (+7)</td><td>25.4</td><td>3.1</td><td>0</td><td>28.6</td><td>-0.44</td><td>100</td><td>NA</td></tr>\n\t<tr><td>Schauffele, Xander</td><td>Xander Schauffele</td><td>150</td><td>15448256</td><td>10300</td><td>1:08 pm </td><td>0</td><td>T4 (E)  </td><td>25.0</td><td>7.8</td><td>0</td><td>32.7</td><td> 0.34</td><td>100</td><td>NA</td></tr>\n\t<tr><td>Johnson, Dustin   </td><td>Dustin Johnson   </td><td>150</td><td>15448257</td><td>10000</td><td>11:40 am</td><td>0</td><td>T21 (+5)</td><td>24.1</td><td>4.1</td><td>0</td><td>28.3</td><td>-0.22</td><td>100</td><td>NA</td></tr>\n\t<tr><td>Reed, Patrick     </td><td>Patrick Reed     </td><td>150</td><td>15448258</td><td> 9800</td><td>12:13 pm</td><td>0</td><td>T11 (+3)</td><td>23.5</td><td>5.4</td><td>0</td><td>28.8</td><td> 0.00</td><td>100</td><td>NA</td></tr>\n\t<tr><td>DeChambeau, Bryson</td><td>Bryson DeChambeau</td><td>150</td><td>15448259</td><td> 9600</td><td>1:30 pm </td><td>0</td><td>2 (-3)  </td><td>23.7</td><td>9.8</td><td>0</td><td>33.4</td><td> 0.70</td><td>100</td><td>NA</td></tr>\n</tbody>\n</table>\n"
          },
          "metadata": {}
        }
      ]
    },
    {
      "metadata": {
        "trusted": true
      },
      "cell_type": "code",
      "source": "names(df)",
      "execution_count": 3,
      "outputs": [
        {
          "output_type": "display_data",
          "data": {
            "text/plain": " [1] \"datagolf_name\"  \"dk_name\"        \"sample_size\"    \"dk_id\"         \n [5] \"dk_salary\"      \"r4_tee_time\"    \"morning_wave\"   \"position\"      \n [9] \"scoring_points\" \"finish_points\"  \"manual_bump\"    \"total_points\"  \n[13] \"value\"          \"max_exposure\"   \"lineup_rule\"   ",
            "text/latex": "\\begin{enumerate*}\n\\item 'datagolf\\_name'\n\\item 'dk\\_name'\n\\item 'sample\\_size'\n\\item 'dk\\_id'\n\\item 'dk\\_salary'\n\\item 'r4\\_tee\\_time'\n\\item 'morning\\_wave'\n\\item 'position'\n\\item 'scoring\\_points'\n\\item 'finish\\_points'\n\\item 'manual\\_bump'\n\\item 'total\\_points'\n\\item 'value'\n\\item 'max\\_exposure'\n\\item 'lineup\\_rule'\n\\end{enumerate*}\n",
            "text/markdown": "1. 'datagolf_name'\n2. 'dk_name'\n3. 'sample_size'\n4. 'dk_id'\n5. 'dk_salary'\n6. 'r4_tee_time'\n7. 'morning_wave'\n8. 'position'\n9. 'scoring_points'\n10. 'finish_points'\n11. 'manual_bump'\n12. 'total_points'\n13. 'value'\n14. 'max_exposure'\n15. 'lineup_rule'\n\n\n",
            "text/html": "<ol class=list-inline>\n\t<li>'datagolf_name'</li>\n\t<li>'dk_name'</li>\n\t<li>'sample_size'</li>\n\t<li>'dk_id'</li>\n\t<li>'dk_salary'</li>\n\t<li>'r4_tee_time'</li>\n\t<li>'morning_wave'</li>\n\t<li>'position'</li>\n\t<li>'scoring_points'</li>\n\t<li>'finish_points'</li>\n\t<li>'manual_bump'</li>\n\t<li>'total_points'</li>\n\t<li>'value'</li>\n\t<li>'max_exposure'</li>\n\t<li>'lineup_rule'</li>\n</ol>\n"
          },
          "metadata": {}
        }
      ]
    },
    {
      "metadata": {
        "trusted": true
      },
      "cell_type": "code",
      "source": "#Rename \"r2_tee_time\" to \"tee_time\"\nfor (n in names(df)) {\n    if (grepl('tee_time',n)) {\n        names(df)[names(df)==n] <- \"tee_time\"\n    }\n}\nnames(df)\n#names(df)[grepl(names(df),'tee_time',fixed = TRUE)]",
      "execution_count": 4,
      "outputs": [
        {
          "output_type": "display_data",
          "data": {
            "text/plain": " [1] \"datagolf_name\"  \"dk_name\"        \"sample_size\"    \"dk_id\"         \n [5] \"dk_salary\"      \"tee_time\"       \"morning_wave\"   \"position\"      \n [9] \"scoring_points\" \"finish_points\"  \"manual_bump\"    \"total_points\"  \n[13] \"value\"          \"max_exposure\"   \"lineup_rule\"   ",
            "text/latex": "\\begin{enumerate*}\n\\item 'datagolf\\_name'\n\\item 'dk\\_name'\n\\item 'sample\\_size'\n\\item 'dk\\_id'\n\\item 'dk\\_salary'\n\\item 'tee\\_time'\n\\item 'morning\\_wave'\n\\item 'position'\n\\item 'scoring\\_points'\n\\item 'finish\\_points'\n\\item 'manual\\_bump'\n\\item 'total\\_points'\n\\item 'value'\n\\item 'max\\_exposure'\n\\item 'lineup\\_rule'\n\\end{enumerate*}\n",
            "text/markdown": "1. 'datagolf_name'\n2. 'dk_name'\n3. 'sample_size'\n4. 'dk_id'\n5. 'dk_salary'\n6. 'tee_time'\n7. 'morning_wave'\n8. 'position'\n9. 'scoring_points'\n10. 'finish_points'\n11. 'manual_bump'\n12. 'total_points'\n13. 'value'\n14. 'max_exposure'\n15. 'lineup_rule'\n\n\n",
            "text/html": "<ol class=list-inline>\n\t<li>'datagolf_name'</li>\n\t<li>'dk_name'</li>\n\t<li>'sample_size'</li>\n\t<li>'dk_id'</li>\n\t<li>'dk_salary'</li>\n\t<li>'tee_time'</li>\n\t<li>'morning_wave'</li>\n\t<li>'position'</li>\n\t<li>'scoring_points'</li>\n\t<li>'finish_points'</li>\n\t<li>'manual_bump'</li>\n\t<li>'total_points'</li>\n\t<li>'value'</li>\n\t<li>'max_exposure'</li>\n\t<li>'lineup_rule'</li>\n</ol>\n"
          },
          "metadata": {}
        }
      ]
    },
    {
      "metadata": {
        "trusted": true
      },
      "cell_type": "code",
      "source": "#Only keep what we care about\ndf <- df[c('dk_name','dk_id','dk_salary','total_points',\n           'tee_time')]\nhead(df,10)",
      "execution_count": 5,
      "outputs": [
        {
          "output_type": "display_data",
          "data": {
            "text/plain": "   dk_name           dk_id    dk_salary total_points tee_time\n1  Justin Thomas     15448254 10800     30.9         11:51 am\n2  Jon Rahm          15448255 10500     28.6         10:34 am\n3  Xander Schauffele 15448256 10300     32.7         1:08 pm \n4  Dustin Johnson    15448257 10000     28.3         11:40 am\n5  Patrick Reed      15448258  9800     28.8         12:13 pm\n6  Bryson DeChambeau 15448259  9600     33.4         1:30 pm \n7  Webb Simpson      15448260  9400     28.9         12:24 pm\n8  Rory McIlroy      15448261  9200     31.7         12:57 pm\n9  Harris English    15448262  9100     28.9         1:08 pm \n10 Hideki Matsuyama  15448263  9000     31.7         1:19 pm ",
            "text/latex": "A data.frame: 10 x 5\n\\begin{tabular}{r|lllll}\n dk\\_name & dk\\_id & dk\\_salary & total\\_points & tee\\_time\\\\\n <chr> & <int> & <int> & <dbl> & <chr>\\\\\n\\hline\n\t Justin Thomas     & 15448254 & 10800 & 30.9 & 11:51 am\\\\\n\t Jon Rahm          & 15448255 & 10500 & 28.6 & 10:34 am\\\\\n\t Xander Schauffele & 15448256 & 10300 & 32.7 & 1:08 pm \\\\\n\t Dustin Johnson    & 15448257 & 10000 & 28.3 & 11:40 am\\\\\n\t Patrick Reed      & 15448258 &  9800 & 28.8 & 12:13 pm\\\\\n\t Bryson DeChambeau & 15448259 &  9600 & 33.4 & 1:30 pm \\\\\n\t Webb Simpson      & 15448260 &  9400 & 28.9 & 12:24 pm\\\\\n\t Rory McIlroy      & 15448261 &  9200 & 31.7 & 12:57 pm\\\\\n\t Harris English    & 15448262 &  9100 & 28.9 & 1:08 pm \\\\\n\t Hideki Matsuyama  & 15448263 &  9000 & 31.7 & 1:19 pm \\\\\n\\end{tabular}\n",
            "text/markdown": "\nA data.frame: 10 x 5\n\n| dk_name &lt;chr&gt; | dk_id &lt;int&gt; | dk_salary &lt;int&gt; | total_points &lt;dbl&gt; | tee_time &lt;chr&gt; |\n|---|---|---|---|---|\n| Justin Thomas     | 15448254 | 10800 | 30.9 | 11:51 am |\n| Jon Rahm          | 15448255 | 10500 | 28.6 | 10:34 am |\n| Xander Schauffele | 15448256 | 10300 | 32.7 | 1:08 pm  |\n| Dustin Johnson    | 15448257 | 10000 | 28.3 | 11:40 am |\n| Patrick Reed      | 15448258 |  9800 | 28.8 | 12:13 pm |\n| Bryson DeChambeau | 15448259 |  9600 | 33.4 | 1:30 pm  |\n| Webb Simpson      | 15448260 |  9400 | 28.9 | 12:24 pm |\n| Rory McIlroy      | 15448261 |  9200 | 31.7 | 12:57 pm |\n| Harris English    | 15448262 |  9100 | 28.9 | 1:08 pm  |\n| Hideki Matsuyama  | 15448263 |  9000 | 31.7 | 1:19 pm  |\n\n",
            "text/html": "<table>\n<caption>A data.frame: 10 x 5</caption>\n<thead>\n\t<tr><th scope=col>dk_name</th><th scope=col>dk_id</th><th scope=col>dk_salary</th><th scope=col>total_points</th><th scope=col>tee_time</th></tr>\n\t<tr><th scope=col>&lt;chr&gt;</th><th scope=col>&lt;int&gt;</th><th scope=col>&lt;int&gt;</th><th scope=col>&lt;dbl&gt;</th><th scope=col>&lt;chr&gt;</th></tr>\n</thead>\n<tbody>\n\t<tr><td>Justin Thomas    </td><td>15448254</td><td>10800</td><td>30.9</td><td>11:51 am</td></tr>\n\t<tr><td>Jon Rahm         </td><td>15448255</td><td>10500</td><td>28.6</td><td>10:34 am</td></tr>\n\t<tr><td>Xander Schauffele</td><td>15448256</td><td>10300</td><td>32.7</td><td>1:08 pm </td></tr>\n\t<tr><td>Dustin Johnson   </td><td>15448257</td><td>10000</td><td>28.3</td><td>11:40 am</td></tr>\n\t<tr><td>Patrick Reed     </td><td>15448258</td><td> 9800</td><td>28.8</td><td>12:13 pm</td></tr>\n\t<tr><td>Bryson DeChambeau</td><td>15448259</td><td> 9600</td><td>33.4</td><td>1:30 pm </td></tr>\n\t<tr><td>Webb Simpson     </td><td>15448260</td><td> 9400</td><td>28.9</td><td>12:24 pm</td></tr>\n\t<tr><td>Rory McIlroy     </td><td>15448261</td><td> 9200</td><td>31.7</td><td>12:57 pm</td></tr>\n\t<tr><td>Harris English   </td><td>15448262</td><td> 9100</td><td>28.9</td><td>1:08 pm </td></tr>\n\t<tr><td>Hideki Matsuyama </td><td>15448263</td><td> 9000</td><td>31.7</td><td>1:19 pm </td></tr>\n</tbody>\n</table>\n"
          },
          "metadata": {}
        }
      ]
    },
    {
      "metadata": {
        "trusted": true
      },
      "cell_type": "code",
      "source": "#Add addl columns\ndf['name_id'] = paste(df$dk_name,\" (\",df$dk_id,\")\",sep=\"\")\n\n#Add column of ones\ndf['ones'] <- 1\ndf$ones <- as.integer(df$ones)\nhead(df)",
      "execution_count": 6,
      "outputs": [
        {
          "output_type": "display_data",
          "data": {
            "text/plain": "  dk_name           dk_id    dk_salary total_points tee_time\n1 Justin Thomas     15448254 10800     30.9         11:51 am\n2 Jon Rahm          15448255 10500     28.6         10:34 am\n3 Xander Schauffele 15448256 10300     32.7         1:08 pm \n4 Dustin Johnson    15448257 10000     28.3         11:40 am\n5 Patrick Reed      15448258  9800     28.8         12:13 pm\n6 Bryson DeChambeau 15448259  9600     33.4         1:30 pm \n  name_id                      ones\n1 Justin Thomas (15448254)     1   \n2 Jon Rahm (15448255)          1   \n3 Xander Schauffele (15448256) 1   \n4 Dustin Johnson (15448257)    1   \n5 Patrick Reed (15448258)      1   \n6 Bryson DeChambeau (15448259) 1   ",
            "text/latex": "A data.frame: 6 x 7\n\\begin{tabular}{r|lllllll}\n dk\\_name & dk\\_id & dk\\_salary & total\\_points & tee\\_time & name\\_id & ones\\\\\n <chr> & <int> & <int> & <dbl> & <chr> & <chr> & <int>\\\\\n\\hline\n\t Justin Thomas     & 15448254 & 10800 & 30.9 & 11:51 am & Justin Thomas (15448254)     & 1\\\\\n\t Jon Rahm          & 15448255 & 10500 & 28.6 & 10:34 am & Jon Rahm (15448255)          & 1\\\\\n\t Xander Schauffele & 15448256 & 10300 & 32.7 & 1:08 pm  & Xander Schauffele (15448256) & 1\\\\\n\t Dustin Johnson    & 15448257 & 10000 & 28.3 & 11:40 am & Dustin Johnson (15448257)    & 1\\\\\n\t Patrick Reed      & 15448258 &  9800 & 28.8 & 12:13 pm & Patrick Reed (15448258)      & 1\\\\\n\t Bryson DeChambeau & 15448259 &  9600 & 33.4 & 1:30 pm  & Bryson DeChambeau (15448259) & 1\\\\\n\\end{tabular}\n",
            "text/markdown": "\nA data.frame: 6 x 7\n\n| dk_name &lt;chr&gt; | dk_id &lt;int&gt; | dk_salary &lt;int&gt; | total_points &lt;dbl&gt; | tee_time &lt;chr&gt; | name_id &lt;chr&gt; | ones &lt;int&gt; |\n|---|---|---|---|---|---|---|\n| Justin Thomas     | 15448254 | 10800 | 30.9 | 11:51 am | Justin Thomas (15448254)     | 1 |\n| Jon Rahm          | 15448255 | 10500 | 28.6 | 10:34 am | Jon Rahm (15448255)          | 1 |\n| Xander Schauffele | 15448256 | 10300 | 32.7 | 1:08 pm  | Xander Schauffele (15448256) | 1 |\n| Dustin Johnson    | 15448257 | 10000 | 28.3 | 11:40 am | Dustin Johnson (15448257)    | 1 |\n| Patrick Reed      | 15448258 |  9800 | 28.8 | 12:13 pm | Patrick Reed (15448258)      | 1 |\n| Bryson DeChambeau | 15448259 |  9600 | 33.4 | 1:30 pm  | Bryson DeChambeau (15448259) | 1 |\n\n",
            "text/html": "<table>\n<caption>A data.frame: 6 x 7</caption>\n<thead>\n\t<tr><th scope=col>dk_name</th><th scope=col>dk_id</th><th scope=col>dk_salary</th><th scope=col>total_points</th><th scope=col>tee_time</th><th scope=col>name_id</th><th scope=col>ones</th></tr>\n\t<tr><th scope=col>&lt;chr&gt;</th><th scope=col>&lt;int&gt;</th><th scope=col>&lt;int&gt;</th><th scope=col>&lt;dbl&gt;</th><th scope=col>&lt;chr&gt;</th><th scope=col>&lt;chr&gt;</th><th scope=col>&lt;int&gt;</th></tr>\n</thead>\n<tbody>\n\t<tr><td>Justin Thomas    </td><td>15448254</td><td>10800</td><td>30.9</td><td>11:51 am</td><td>Justin Thomas (15448254)    </td><td>1</td></tr>\n\t<tr><td>Jon Rahm         </td><td>15448255</td><td>10500</td><td>28.6</td><td>10:34 am</td><td>Jon Rahm (15448255)         </td><td>1</td></tr>\n\t<tr><td>Xander Schauffele</td><td>15448256</td><td>10300</td><td>32.7</td><td>1:08 pm </td><td>Xander Schauffele (15448256)</td><td>1</td></tr>\n\t<tr><td>Dustin Johnson   </td><td>15448257</td><td>10000</td><td>28.3</td><td>11:40 am</td><td>Dustin Johnson (15448257)   </td><td>1</td></tr>\n\t<tr><td>Patrick Reed     </td><td>15448258</td><td> 9800</td><td>28.8</td><td>12:13 pm</td><td>Patrick Reed (15448258)     </td><td>1</td></tr>\n\t<tr><td>Bryson DeChambeau</td><td>15448259</td><td> 9600</td><td>33.4</td><td>1:30 pm </td><td>Bryson DeChambeau (15448259)</td><td>1</td></tr>\n</tbody>\n</table>\n"
          },
          "metadata": {}
        }
      ]
    },
    {
      "metadata": {
        "trusted": true
      },
      "cell_type": "code",
      "source": "#Get rid of *\ndf$tee_time <- gsub('*','',df$tee_time,fixed=TRUE) #fixed=TRUE to avoid regex\nhead(df)",
      "execution_count": 7,
      "outputs": [
        {
          "output_type": "display_data",
          "data": {
            "text/plain": "  dk_name           dk_id    dk_salary total_points tee_time\n1 Justin Thomas     15448254 10800     30.9         11:51 am\n2 Jon Rahm          15448255 10500     28.6         10:34 am\n3 Xander Schauffele 15448256 10300     32.7         1:08 pm \n4 Dustin Johnson    15448257 10000     28.3         11:40 am\n5 Patrick Reed      15448258  9800     28.8         12:13 pm\n6 Bryson DeChambeau 15448259  9600     33.4         1:30 pm \n  name_id                      ones\n1 Justin Thomas (15448254)     1   \n2 Jon Rahm (15448255)          1   \n3 Xander Schauffele (15448256) 1   \n4 Dustin Johnson (15448257)    1   \n5 Patrick Reed (15448258)      1   \n6 Bryson DeChambeau (15448259) 1   ",
            "text/latex": "A data.frame: 6 x 7\n\\begin{tabular}{r|lllllll}\n dk\\_name & dk\\_id & dk\\_salary & total\\_points & tee\\_time & name\\_id & ones\\\\\n <chr> & <int> & <int> & <dbl> & <chr> & <chr> & <int>\\\\\n\\hline\n\t Justin Thomas     & 15448254 & 10800 & 30.9 & 11:51 am & Justin Thomas (15448254)     & 1\\\\\n\t Jon Rahm          & 15448255 & 10500 & 28.6 & 10:34 am & Jon Rahm (15448255)          & 1\\\\\n\t Xander Schauffele & 15448256 & 10300 & 32.7 & 1:08 pm  & Xander Schauffele (15448256) & 1\\\\\n\t Dustin Johnson    & 15448257 & 10000 & 28.3 & 11:40 am & Dustin Johnson (15448257)    & 1\\\\\n\t Patrick Reed      & 15448258 &  9800 & 28.8 & 12:13 pm & Patrick Reed (15448258)      & 1\\\\\n\t Bryson DeChambeau & 15448259 &  9600 & 33.4 & 1:30 pm  & Bryson DeChambeau (15448259) & 1\\\\\n\\end{tabular}\n",
            "text/markdown": "\nA data.frame: 6 x 7\n\n| dk_name &lt;chr&gt; | dk_id &lt;int&gt; | dk_salary &lt;int&gt; | total_points &lt;dbl&gt; | tee_time &lt;chr&gt; | name_id &lt;chr&gt; | ones &lt;int&gt; |\n|---|---|---|---|---|---|---|\n| Justin Thomas     | 15448254 | 10800 | 30.9 | 11:51 am | Justin Thomas (15448254)     | 1 |\n| Jon Rahm          | 15448255 | 10500 | 28.6 | 10:34 am | Jon Rahm (15448255)          | 1 |\n| Xander Schauffele | 15448256 | 10300 | 32.7 | 1:08 pm  | Xander Schauffele (15448256) | 1 |\n| Dustin Johnson    | 15448257 | 10000 | 28.3 | 11:40 am | Dustin Johnson (15448257)    | 1 |\n| Patrick Reed      | 15448258 |  9800 | 28.8 | 12:13 pm | Patrick Reed (15448258)      | 1 |\n| Bryson DeChambeau | 15448259 |  9600 | 33.4 | 1:30 pm  | Bryson DeChambeau (15448259) | 1 |\n\n",
            "text/html": "<table>\n<caption>A data.frame: 6 x 7</caption>\n<thead>\n\t<tr><th scope=col>dk_name</th><th scope=col>dk_id</th><th scope=col>dk_salary</th><th scope=col>total_points</th><th scope=col>tee_time</th><th scope=col>name_id</th><th scope=col>ones</th></tr>\n\t<tr><th scope=col>&lt;chr&gt;</th><th scope=col>&lt;int&gt;</th><th scope=col>&lt;int&gt;</th><th scope=col>&lt;dbl&gt;</th><th scope=col>&lt;chr&gt;</th><th scope=col>&lt;chr&gt;</th><th scope=col>&lt;int&gt;</th></tr>\n</thead>\n<tbody>\n\t<tr><td>Justin Thomas    </td><td>15448254</td><td>10800</td><td>30.9</td><td>11:51 am</td><td>Justin Thomas (15448254)    </td><td>1</td></tr>\n\t<tr><td>Jon Rahm         </td><td>15448255</td><td>10500</td><td>28.6</td><td>10:34 am</td><td>Jon Rahm (15448255)         </td><td>1</td></tr>\n\t<tr><td>Xander Schauffele</td><td>15448256</td><td>10300</td><td>32.7</td><td>1:08 pm </td><td>Xander Schauffele (15448256)</td><td>1</td></tr>\n\t<tr><td>Dustin Johnson   </td><td>15448257</td><td>10000</td><td>28.3</td><td>11:40 am</td><td>Dustin Johnson (15448257)   </td><td>1</td></tr>\n\t<tr><td>Patrick Reed     </td><td>15448258</td><td> 9800</td><td>28.8</td><td>12:13 pm</td><td>Patrick Reed (15448258)     </td><td>1</td></tr>\n\t<tr><td>Bryson DeChambeau</td><td>15448259</td><td> 9600</td><td>33.4</td><td>1:30 pm </td><td>Bryson DeChambeau (15448259)</td><td>1</td></tr>\n</tbody>\n</table>\n"
          },
          "metadata": {}
        }
      ]
    },
    {
      "metadata": {
        "trusted": true
      },
      "cell_type": "code",
      "source": "#Convert tee_time to time object\nstrptime(df$tee_time,'%I:%M %p')[1:6]",
      "execution_count": 8,
      "outputs": [
        {
          "output_type": "display_data",
          "data": {
            "text/plain": "[1] \"2020-09-20 11:51:00 UTC\" \"2020-09-20 10:34:00 UTC\"\n[3] \"2020-09-20 13:08:00 UTC\" \"2020-09-20 11:40:00 UTC\"\n[5] \"2020-09-20 12:13:00 UTC\" \"2020-09-20 13:30:00 UTC\""
          },
          "metadata": {}
        }
      ]
    },
    {
      "metadata": {
        "trusted": true
      },
      "cell_type": "code",
      "source": "df$tee_time2 <- strptime(df$tee_time,'%I:%M %p')\nhead(df)",
      "execution_count": 9,
      "outputs": [
        {
          "output_type": "display_data",
          "data": {
            "text/plain": "  dk_name           dk_id    dk_salary total_points tee_time\n1 Justin Thomas     15448254 10800     30.9         11:51 am\n2 Jon Rahm          15448255 10500     28.6         10:34 am\n3 Xander Schauffele 15448256 10300     32.7         1:08 pm \n4 Dustin Johnson    15448257 10000     28.3         11:40 am\n5 Patrick Reed      15448258  9800     28.8         12:13 pm\n6 Bryson DeChambeau 15448259  9600     33.4         1:30 pm \n  name_id                      ones tee_time2          \n1 Justin Thomas (15448254)     1    2020-09-20 11:51:00\n2 Jon Rahm (15448255)          1    2020-09-20 10:34:00\n3 Xander Schauffele (15448256) 1    2020-09-20 13:08:00\n4 Dustin Johnson (15448257)    1    2020-09-20 11:40:00\n5 Patrick Reed (15448258)      1    2020-09-20 12:13:00\n6 Bryson DeChambeau (15448259) 1    2020-09-20 13:30:00",
            "text/latex": "A data.frame: 6 x 8\n\\begin{tabular}{r|llllllll}\n dk\\_name & dk\\_id & dk\\_salary & total\\_points & tee\\_time & name\\_id & ones & tee\\_time2\\\\\n <chr> & <int> & <int> & <dbl> & <chr> & <chr> & <int> & <dttm>\\\\\n\\hline\n\t Justin Thomas     & 15448254 & 10800 & 30.9 & 11:51 am & Justin Thomas (15448254)     & 1 & 2020-09-20 11:51:00\\\\\n\t Jon Rahm          & 15448255 & 10500 & 28.6 & 10:34 am & Jon Rahm (15448255)          & 1 & 2020-09-20 10:34:00\\\\\n\t Xander Schauffele & 15448256 & 10300 & 32.7 & 1:08 pm  & Xander Schauffele (15448256) & 1 & 2020-09-20 13:08:00\\\\\n\t Dustin Johnson    & 15448257 & 10000 & 28.3 & 11:40 am & Dustin Johnson (15448257)    & 1 & 2020-09-20 11:40:00\\\\\n\t Patrick Reed      & 15448258 &  9800 & 28.8 & 12:13 pm & Patrick Reed (15448258)      & 1 & 2020-09-20 12:13:00\\\\\n\t Bryson DeChambeau & 15448259 &  9600 & 33.4 & 1:30 pm  & Bryson DeChambeau (15448259) & 1 & 2020-09-20 13:30:00\\\\\n\\end{tabular}\n",
            "text/markdown": "\nA data.frame: 6 x 8\n\n| dk_name &lt;chr&gt; | dk_id &lt;int&gt; | dk_salary &lt;int&gt; | total_points &lt;dbl&gt; | tee_time &lt;chr&gt; | name_id &lt;chr&gt; | ones &lt;int&gt; | tee_time2 &lt;dttm&gt; |\n|---|---|---|---|---|---|---|---|\n| Justin Thomas     | 15448254 | 10800 | 30.9 | 11:51 am | Justin Thomas (15448254)     | 1 | 2020-09-20 11:51:00 |\n| Jon Rahm          | 15448255 | 10500 | 28.6 | 10:34 am | Jon Rahm (15448255)          | 1 | 2020-09-20 10:34:00 |\n| Xander Schauffele | 15448256 | 10300 | 32.7 | 1:08 pm  | Xander Schauffele (15448256) | 1 | 2020-09-20 13:08:00 |\n| Dustin Johnson    | 15448257 | 10000 | 28.3 | 11:40 am | Dustin Johnson (15448257)    | 1 | 2020-09-20 11:40:00 |\n| Patrick Reed      | 15448258 |  9800 | 28.8 | 12:13 pm | Patrick Reed (15448258)      | 1 | 2020-09-20 12:13:00 |\n| Bryson DeChambeau | 15448259 |  9600 | 33.4 | 1:30 pm  | Bryson DeChambeau (15448259) | 1 | 2020-09-20 13:30:00 |\n\n",
            "text/html": "<table>\n<caption>A data.frame: 6 x 8</caption>\n<thead>\n\t<tr><th scope=col>dk_name</th><th scope=col>dk_id</th><th scope=col>dk_salary</th><th scope=col>total_points</th><th scope=col>tee_time</th><th scope=col>name_id</th><th scope=col>ones</th><th scope=col>tee_time2</th></tr>\n\t<tr><th scope=col>&lt;chr&gt;</th><th scope=col>&lt;int&gt;</th><th scope=col>&lt;int&gt;</th><th scope=col>&lt;dbl&gt;</th><th scope=col>&lt;chr&gt;</th><th scope=col>&lt;chr&gt;</th><th scope=col>&lt;int&gt;</th><th scope=col>&lt;dttm&gt;</th></tr>\n</thead>\n<tbody>\n\t<tr><td>Justin Thomas    </td><td>15448254</td><td>10800</td><td>30.9</td><td>11:51 am</td><td>Justin Thomas (15448254)    </td><td>1</td><td>2020-09-20 11:51:00</td></tr>\n\t<tr><td>Jon Rahm         </td><td>15448255</td><td>10500</td><td>28.6</td><td>10:34 am</td><td>Jon Rahm (15448255)         </td><td>1</td><td>2020-09-20 10:34:00</td></tr>\n\t<tr><td>Xander Schauffele</td><td>15448256</td><td>10300</td><td>32.7</td><td>1:08 pm </td><td>Xander Schauffele (15448256)</td><td>1</td><td>2020-09-20 13:08:00</td></tr>\n\t<tr><td>Dustin Johnson   </td><td>15448257</td><td>10000</td><td>28.3</td><td>11:40 am</td><td>Dustin Johnson (15448257)   </td><td>1</td><td>2020-09-20 11:40:00</td></tr>\n\t<tr><td>Patrick Reed     </td><td>15448258</td><td> 9800</td><td>28.8</td><td>12:13 pm</td><td>Patrick Reed (15448258)     </td><td>1</td><td>2020-09-20 12:13:00</td></tr>\n\t<tr><td>Bryson DeChambeau</td><td>15448259</td><td> 9600</td><td>33.4</td><td>1:30 pm </td><td>Bryson DeChambeau (15448259)</td><td>1</td><td>2020-09-20 13:30:00</td></tr>\n</tbody>\n</table>\n"
          },
          "metadata": {}
        }
      ]
    },
    {
      "metadata": {
        "trusted": true
      },
      "cell_type": "code",
      "source": "#Get delay from min tee time\nmin_tee_time <- min(df$tee_time2)\nmin_tee_time",
      "execution_count": 10,
      "outputs": [
        {
          "output_type": "display_data",
          "data": {
            "text/plain": "[1] \"2020-09-20 08:00:00 UTC\""
          },
          "metadata": {}
        }
      ]
    },
    {
      "metadata": {
        "trusted": true
      },
      "cell_type": "code",
      "source": "df$delay <- as.numeric(difftime(df$tee_time2,min_tee_time,units = 'hours'))\nhead(df)",
      "execution_count": 11,
      "outputs": [
        {
          "output_type": "display_data",
          "data": {
            "text/plain": "  dk_name           dk_id    dk_salary total_points tee_time\n1 Justin Thomas     15448254 10800     30.9         11:51 am\n2 Jon Rahm          15448255 10500     28.6         10:34 am\n3 Xander Schauffele 15448256 10300     32.7         1:08 pm \n4 Dustin Johnson    15448257 10000     28.3         11:40 am\n5 Patrick Reed      15448258  9800     28.8         12:13 pm\n6 Bryson DeChambeau 15448259  9600     33.4         1:30 pm \n  name_id                      ones tee_time2           delay   \n1 Justin Thomas (15448254)     1    2020-09-20 11:51:00 3.850000\n2 Jon Rahm (15448255)          1    2020-09-20 10:34:00 2.566667\n3 Xander Schauffele (15448256) 1    2020-09-20 13:08:00 5.133333\n4 Dustin Johnson (15448257)    1    2020-09-20 11:40:00 3.666667\n5 Patrick Reed (15448258)      1    2020-09-20 12:13:00 4.216667\n6 Bryson DeChambeau (15448259) 1    2020-09-20 13:30:00 5.500000",
            "text/latex": "A data.frame: 6 x 9\n\\begin{tabular}{r|lllllllll}\n dk\\_name & dk\\_id & dk\\_salary & total\\_points & tee\\_time & name\\_id & ones & tee\\_time2 & delay\\\\\n <chr> & <int> & <int> & <dbl> & <chr> & <chr> & <int> & <dttm> & <dbl>\\\\\n\\hline\n\t Justin Thomas     & 15448254 & 10800 & 30.9 & 11:51 am & Justin Thomas (15448254)     & 1 & 2020-09-20 11:51:00 & 3.850000\\\\\n\t Jon Rahm          & 15448255 & 10500 & 28.6 & 10:34 am & Jon Rahm (15448255)          & 1 & 2020-09-20 10:34:00 & 2.566667\\\\\n\t Xander Schauffele & 15448256 & 10300 & 32.7 & 1:08 pm  & Xander Schauffele (15448256) & 1 & 2020-09-20 13:08:00 & 5.133333\\\\\n\t Dustin Johnson    & 15448257 & 10000 & 28.3 & 11:40 am & Dustin Johnson (15448257)    & 1 & 2020-09-20 11:40:00 & 3.666667\\\\\n\t Patrick Reed      & 15448258 &  9800 & 28.8 & 12:13 pm & Patrick Reed (15448258)      & 1 & 2020-09-20 12:13:00 & 4.216667\\\\\n\t Bryson DeChambeau & 15448259 &  9600 & 33.4 & 1:30 pm  & Bryson DeChambeau (15448259) & 1 & 2020-09-20 13:30:00 & 5.500000\\\\\n\\end{tabular}\n",
            "text/markdown": "\nA data.frame: 6 x 9\n\n| dk_name &lt;chr&gt; | dk_id &lt;int&gt; | dk_salary &lt;int&gt; | total_points &lt;dbl&gt; | tee_time &lt;chr&gt; | name_id &lt;chr&gt; | ones &lt;int&gt; | tee_time2 &lt;dttm&gt; | delay &lt;dbl&gt; |\n|---|---|---|---|---|---|---|---|---|\n| Justin Thomas     | 15448254 | 10800 | 30.9 | 11:51 am | Justin Thomas (15448254)     | 1 | 2020-09-20 11:51:00 | 3.850000 |\n| Jon Rahm          | 15448255 | 10500 | 28.6 | 10:34 am | Jon Rahm (15448255)          | 1 | 2020-09-20 10:34:00 | 2.566667 |\n| Xander Schauffele | 15448256 | 10300 | 32.7 | 1:08 pm  | Xander Schauffele (15448256) | 1 | 2020-09-20 13:08:00 | 5.133333 |\n| Dustin Johnson    | 15448257 | 10000 | 28.3 | 11:40 am | Dustin Johnson (15448257)    | 1 | 2020-09-20 11:40:00 | 3.666667 |\n| Patrick Reed      | 15448258 |  9800 | 28.8 | 12:13 pm | Patrick Reed (15448258)      | 1 | 2020-09-20 12:13:00 | 4.216667 |\n| Bryson DeChambeau | 15448259 |  9600 | 33.4 | 1:30 pm  | Bryson DeChambeau (15448259) | 1 | 2020-09-20 13:30:00 | 5.500000 |\n\n",
            "text/html": "<table>\n<caption>A data.frame: 6 x 9</caption>\n<thead>\n\t<tr><th scope=col>dk_name</th><th scope=col>dk_id</th><th scope=col>dk_salary</th><th scope=col>total_points</th><th scope=col>tee_time</th><th scope=col>name_id</th><th scope=col>ones</th><th scope=col>tee_time2</th><th scope=col>delay</th></tr>\n\t<tr><th scope=col>&lt;chr&gt;</th><th scope=col>&lt;int&gt;</th><th scope=col>&lt;int&gt;</th><th scope=col>&lt;dbl&gt;</th><th scope=col>&lt;chr&gt;</th><th scope=col>&lt;chr&gt;</th><th scope=col>&lt;int&gt;</th><th scope=col>&lt;dttm&gt;</th><th scope=col>&lt;dbl&gt;</th></tr>\n</thead>\n<tbody>\n\t<tr><td>Justin Thomas    </td><td>15448254</td><td>10800</td><td>30.9</td><td>11:51 am</td><td>Justin Thomas (15448254)    </td><td>1</td><td>2020-09-20 11:51:00</td><td>3.850000</td></tr>\n\t<tr><td>Jon Rahm         </td><td>15448255</td><td>10500</td><td>28.6</td><td>10:34 am</td><td>Jon Rahm (15448255)         </td><td>1</td><td>2020-09-20 10:34:00</td><td>2.566667</td></tr>\n\t<tr><td>Xander Schauffele</td><td>15448256</td><td>10300</td><td>32.7</td><td>1:08 pm </td><td>Xander Schauffele (15448256)</td><td>1</td><td>2020-09-20 13:08:00</td><td>5.133333</td></tr>\n\t<tr><td>Dustin Johnson   </td><td>15448257</td><td>10000</td><td>28.3</td><td>11:40 am</td><td>Dustin Johnson (15448257)   </td><td>1</td><td>2020-09-20 11:40:00</td><td>3.666667</td></tr>\n\t<tr><td>Patrick Reed     </td><td>15448258</td><td> 9800</td><td>28.8</td><td>12:13 pm</td><td>Patrick Reed (15448258)     </td><td>1</td><td>2020-09-20 12:13:00</td><td>4.216667</td></tr>\n\t<tr><td>Bryson DeChambeau</td><td>15448259</td><td> 9600</td><td>33.4</td><td>1:30 pm </td><td>Bryson DeChambeau (15448259)</td><td>1</td><td>2020-09-20 13:30:00</td><td>5.500000</td></tr>\n</tbody>\n</table>\n"
          },
          "metadata": {}
        }
      ]
    },
    {
      "metadata": {
        "trusted": true
      },
      "cell_type": "code",
      "source": "#Get points_adj\ndelay_pen = 0.6\ndf$points_adj <- df$total_points - delay_pen*df$delay\nhead(df)",
      "execution_count": 12,
      "outputs": [
        {
          "output_type": "display_data",
          "data": {
            "text/plain": "  dk_name           dk_id    dk_salary total_points tee_time\n1 Justin Thomas     15448254 10800     30.9         11:51 am\n2 Jon Rahm          15448255 10500     28.6         10:34 am\n3 Xander Schauffele 15448256 10300     32.7         1:08 pm \n4 Dustin Johnson    15448257 10000     28.3         11:40 am\n5 Patrick Reed      15448258  9800     28.8         12:13 pm\n6 Bryson DeChambeau 15448259  9600     33.4         1:30 pm \n  name_id                      ones tee_time2           delay    points_adj\n1 Justin Thomas (15448254)     1    2020-09-20 11:51:00 3.850000 28.59     \n2 Jon Rahm (15448255)          1    2020-09-20 10:34:00 2.566667 27.06     \n3 Xander Schauffele (15448256) 1    2020-09-20 13:08:00 5.133333 29.62     \n4 Dustin Johnson (15448257)    1    2020-09-20 11:40:00 3.666667 26.10     \n5 Patrick Reed (15448258)      1    2020-09-20 12:13:00 4.216667 26.27     \n6 Bryson DeChambeau (15448259) 1    2020-09-20 13:30:00 5.500000 30.10     ",
            "text/latex": "A data.frame: 6 x 10\n\\begin{tabular}{r|llllllllll}\n dk\\_name & dk\\_id & dk\\_salary & total\\_points & tee\\_time & name\\_id & ones & tee\\_time2 & delay & points\\_adj\\\\\n <chr> & <int> & <int> & <dbl> & <chr> & <chr> & <int> & <dttm> & <dbl> & <dbl>\\\\\n\\hline\n\t Justin Thomas     & 15448254 & 10800 & 30.9 & 11:51 am & Justin Thomas (15448254)     & 1 & 2020-09-20 11:51:00 & 3.850000 & 28.59\\\\\n\t Jon Rahm          & 15448255 & 10500 & 28.6 & 10:34 am & Jon Rahm (15448255)          & 1 & 2020-09-20 10:34:00 & 2.566667 & 27.06\\\\\n\t Xander Schauffele & 15448256 & 10300 & 32.7 & 1:08 pm  & Xander Schauffele (15448256) & 1 & 2020-09-20 13:08:00 & 5.133333 & 29.62\\\\\n\t Dustin Johnson    & 15448257 & 10000 & 28.3 & 11:40 am & Dustin Johnson (15448257)    & 1 & 2020-09-20 11:40:00 & 3.666667 & 26.10\\\\\n\t Patrick Reed      & 15448258 &  9800 & 28.8 & 12:13 pm & Patrick Reed (15448258)      & 1 & 2020-09-20 12:13:00 & 4.216667 & 26.27\\\\\n\t Bryson DeChambeau & 15448259 &  9600 & 33.4 & 1:30 pm  & Bryson DeChambeau (15448259) & 1 & 2020-09-20 13:30:00 & 5.500000 & 30.10\\\\\n\\end{tabular}\n",
            "text/markdown": "\nA data.frame: 6 x 10\n\n| dk_name &lt;chr&gt; | dk_id &lt;int&gt; | dk_salary &lt;int&gt; | total_points &lt;dbl&gt; | tee_time &lt;chr&gt; | name_id &lt;chr&gt; | ones &lt;int&gt; | tee_time2 &lt;dttm&gt; | delay &lt;dbl&gt; | points_adj &lt;dbl&gt; |\n|---|---|---|---|---|---|---|---|---|---|\n| Justin Thomas     | 15448254 | 10800 | 30.9 | 11:51 am | Justin Thomas (15448254)     | 1 | 2020-09-20 11:51:00 | 3.850000 | 28.59 |\n| Jon Rahm          | 15448255 | 10500 | 28.6 | 10:34 am | Jon Rahm (15448255)          | 1 | 2020-09-20 10:34:00 | 2.566667 | 27.06 |\n| Xander Schauffele | 15448256 | 10300 | 32.7 | 1:08 pm  | Xander Schauffele (15448256) | 1 | 2020-09-20 13:08:00 | 5.133333 | 29.62 |\n| Dustin Johnson    | 15448257 | 10000 | 28.3 | 11:40 am | Dustin Johnson (15448257)    | 1 | 2020-09-20 11:40:00 | 3.666667 | 26.10 |\n| Patrick Reed      | 15448258 |  9800 | 28.8 | 12:13 pm | Patrick Reed (15448258)      | 1 | 2020-09-20 12:13:00 | 4.216667 | 26.27 |\n| Bryson DeChambeau | 15448259 |  9600 | 33.4 | 1:30 pm  | Bryson DeChambeau (15448259) | 1 | 2020-09-20 13:30:00 | 5.500000 | 30.10 |\n\n",
            "text/html": "<table>\n<caption>A data.frame: 6 x 10</caption>\n<thead>\n\t<tr><th scope=col>dk_name</th><th scope=col>dk_id</th><th scope=col>dk_salary</th><th scope=col>total_points</th><th scope=col>tee_time</th><th scope=col>name_id</th><th scope=col>ones</th><th scope=col>tee_time2</th><th scope=col>delay</th><th scope=col>points_adj</th></tr>\n\t<tr><th scope=col>&lt;chr&gt;</th><th scope=col>&lt;int&gt;</th><th scope=col>&lt;int&gt;</th><th scope=col>&lt;dbl&gt;</th><th scope=col>&lt;chr&gt;</th><th scope=col>&lt;chr&gt;</th><th scope=col>&lt;int&gt;</th><th scope=col>&lt;dttm&gt;</th><th scope=col>&lt;dbl&gt;</th><th scope=col>&lt;dbl&gt;</th></tr>\n</thead>\n<tbody>\n\t<tr><td>Justin Thomas    </td><td>15448254</td><td>10800</td><td>30.9</td><td>11:51 am</td><td>Justin Thomas (15448254)    </td><td>1</td><td>2020-09-20 11:51:00</td><td>3.850000</td><td>28.59</td></tr>\n\t<tr><td>Jon Rahm         </td><td>15448255</td><td>10500</td><td>28.6</td><td>10:34 am</td><td>Jon Rahm (15448255)         </td><td>1</td><td>2020-09-20 10:34:00</td><td>2.566667</td><td>27.06</td></tr>\n\t<tr><td>Xander Schauffele</td><td>15448256</td><td>10300</td><td>32.7</td><td>1:08 pm </td><td>Xander Schauffele (15448256)</td><td>1</td><td>2020-09-20 13:08:00</td><td>5.133333</td><td>29.62</td></tr>\n\t<tr><td>Dustin Johnson   </td><td>15448257</td><td>10000</td><td>28.3</td><td>11:40 am</td><td>Dustin Johnson (15448257)   </td><td>1</td><td>2020-09-20 11:40:00</td><td>3.666667</td><td>26.10</td></tr>\n\t<tr><td>Patrick Reed     </td><td>15448258</td><td> 9800</td><td>28.8</td><td>12:13 pm</td><td>Patrick Reed (15448258)     </td><td>1</td><td>2020-09-20 12:13:00</td><td>4.216667</td><td>26.27</td></tr>\n\t<tr><td>Bryson DeChambeau</td><td>15448259</td><td> 9600</td><td>33.4</td><td>1:30 pm </td><td>Bryson DeChambeau (15448259)</td><td>1</td><td>2020-09-20 13:30:00</td><td>5.500000</td><td>30.10</td></tr>\n</tbody>\n</table>\n"
          },
          "metadata": {}
        }
      ]
    },
    {
      "metadata": {},
      "cell_type": "markdown",
      "source": "# Optimize by points_adj\n\nRef: https://towardsdatascience.com/integer-programming-in-r-33ee6f48a3c8"
    },
    {
      "metadata": {
        "trusted": true
      },
      "cell_type": "code",
      "source": "library('lpSolve')\n#library(dplyr)",
      "execution_count": 13,
      "outputs": []
    },
    {
      "metadata": {
        "trusted": true
      },
      "cell_type": "code",
      "source": "t(data.matrix(df[c('dk_salary','ones')]))",
      "execution_count": 14,
      "outputs": [
        {
          "output_type": "display_data",
          "data": {
            "text/plain": "          [,1]  [,2]  [,3]  [,4]  [,5] [,6] [,7] [,8] [,9] [,10] [,11] [,12]\ndk_salary 10800 10500 10300 10000 9800 9600 9400 9200 9100 9000  ...   6500 \nones          1     1     1     1    1    1    1    1    1    1  ...      1 \n          [,13] [,14] [,15] [,16] [,17] [,18] [,19] [,20] [,21]\ndk_salary 6400  6400  6300  6200  6200  6100  6100  6000  6000 \nones         1     1     1     1     1     1     1     1     1 ",
            "text/latex": "A matrix: 2 x 61 of type int\n\\begin{tabular}{r|lllllllllllllllllllllllllllllllllllllllllllllllllllllllllllll}\n\tdk\\_salary & 10800 & 10500 & 10300 & 10000 & 9800 & 9600 & 9400 & 9200 & 9100 & 9000 & 8900 & 8800 & 8700 & 8600 & 8500 & 8400 & 8300 & 8200 & 8100 & 8000 & 8000 & 7900 & 7800 & 7800 & 7700 & 7700 & 7600 & 7600 & 7500 & 7500 & 7500 & 7400 & 7400 & 7300 & 7300 & 7200 & 7200 & 7100 & 7100 & 7000 & 7000 & 7000 & 6900 & 6900 & 6800 & 6800 & 6700 & 6700 & 6600 & 6600 & 6500 & 6500 & 6400 & 6400 & 6300 & 6200 & 6200 & 6100 & 6100 & 6000 & 6000\\\\\n\tones &     1 &     1 &     1 &     1 &    1 &    1 &    1 &    1 &    1 &    1 &    1 &    1 &    1 &    1 &    1 &    1 &    1 &    1 &    1 &    1 &    1 &    1 &    1 &    1 &    1 &    1 &    1 &    1 &    1 &    1 &    1 &    1 &    1 &    1 &    1 &    1 &    1 &    1 &    1 &    1 &    1 &    1 &    1 &    1 &    1 &    1 &    1 &    1 &    1 &    1 &    1 &    1 &    1 &    1 &    1 &    1 &    1 &    1 &    1 &    1 &    1\\\\\n\\end{tabular}\n",
            "text/markdown": "\nA matrix: 2 x 61 of type int\n\n| dk_salary | 10800 | 10500 | 10300 | 10000 | 9800 | 9600 | 9400 | 9200 | 9100 | 9000 | ... | 6500 | 6400 | 6400 | 6300 | 6200 | 6200 | 6100 | 6100 | 6000 | 6000 |\n| ones |     1 |     1 |     1 |     1 |    1 |    1 |    1 |    1 |    1 |    1 | ... |    1 |    1 |    1 |    1 |    1 |    1 |    1 |    1 |    1 |    1 |\n\n",
            "text/html": "<table>\n<caption>A matrix: 2 x 61 of type int</caption>\n<tbody>\n\t<tr><th scope=row>dk_salary</th><td>10800</td><td>10500</td><td>10300</td><td>10000</td><td>9800</td><td>9600</td><td>9400</td><td>9200</td><td>9100</td><td>9000</td><td>...</td><td>6500</td><td>6400</td><td>6400</td><td>6300</td><td>6200</td><td>6200</td><td>6100</td><td>6100</td><td>6000</td><td>6000</td></tr>\n\t<tr><th scope=row>ones</th><td>    1</td><td>    1</td><td>    1</td><td>    1</td><td>   1</td><td>   1</td><td>   1</td><td>   1</td><td>   1</td><td>   1</td><td>...</td><td>   1</td><td>   1</td><td>   1</td><td>   1</td><td>   1</td><td>   1</td><td>   1</td><td>   1</td><td>   1</td><td>   1</td></tr>\n</tbody>\n</table>\n"
          },
          "metadata": {}
        }
      ]
    },
    {
      "metadata": {
        "trusted": true
      },
      "cell_type": "code",
      "source": "#Practice finding optimal team\n# Set coefficients of the objective function\nf.obj <- df$points_adj\n\n# Set matrix corresponding to coefficients of constraints by rows\n#f*dk_salary <= 50000\n#f*ones == 6\nf.con <- t(data.matrix(df[c('dk_salary','ones')]))\n\n# Set unequality/equality signs\nf.dir <- c(\"<=\",\n           \"==\")\n\n# Set right hand side coefficients\nf.rhs <- c(50000,\n           6)\n\n# # Variables final values\nopt_team <- lp(\"max\", f.obj, f.con, f.dir, f.rhs, all.bin = TRUE)$solution\ndf['opt_team'] <- opt_team\nsubset(df,opt_team==1)",
      "execution_count": 15,
      "outputs": [
        {
          "output_type": "display_data",
          "data": {
            "text/plain": "   dk_name           dk_id    dk_salary total_points tee_time\n6  Bryson DeChambeau 15448259 9600      33.4         1:30 pm \n10 Hideki Matsuyama  15448263 9000      31.7         1:19 pm \n15 Matthew Wolff     15448268 8500      32.7         1:30 pm \n17 Louis Oosthuizen  15448270 8300      29.1         1:19 pm \n19 Viktor Hovland    15448272 8100      27.6         12:46 pm\n52 Will Zalatoris    15448304 6500      24.6         12:02 pm\n   name_id                      ones tee_time2           delay    points_adj\n6  Bryson DeChambeau (15448259) 1    2020-09-20 13:30:00 5.500000 30.10     \n10 Hideki Matsuyama (15448263)  1    2020-09-20 13:19:00 5.316667 28.51     \n15 Matthew Wolff (15448268)     1    2020-09-20 13:30:00 5.500000 29.40     \n17 Louis Oosthuizen (15448270)  1    2020-09-20 13:19:00 5.316667 25.91     \n19 Viktor Hovland (15448272)    1    2020-09-20 12:46:00 4.766667 24.74     \n52 Will Zalatoris (15448304)    1    2020-09-20 12:02:00 4.033333 22.18     \n   opt_team\n6  1       \n10 1       \n15 1       \n17 1       \n19 1       \n52 1       ",
            "text/latex": "A data.frame: 6 x 11\n\\begin{tabular}{r|lllllllllll}\n  & dk\\_name & dk\\_id & dk\\_salary & total\\_points & tee\\_time & name\\_id & ones & tee\\_time2 & delay & points\\_adj & opt\\_team\\\\\n  & <chr> & <int> & <int> & <dbl> & <chr> & <chr> & <int> & <dttm> & <dbl> & <dbl> & <dbl>\\\\\n\\hline\n\t6 & Bryson DeChambeau & 15448259 & 9600 & 33.4 & 1:30 pm  & Bryson DeChambeau (15448259) & 1 & 2020-09-20 13:30:00 & 5.500000 & 30.10 & 1\\\\\n\t10 & Hideki Matsuyama  & 15448263 & 9000 & 31.7 & 1:19 pm  & Hideki Matsuyama (15448263)  & 1 & 2020-09-20 13:19:00 & 5.316667 & 28.51 & 1\\\\\n\t15 & Matthew Wolff     & 15448268 & 8500 & 32.7 & 1:30 pm  & Matthew Wolff (15448268)     & 1 & 2020-09-20 13:30:00 & 5.500000 & 29.40 & 1\\\\\n\t17 & Louis Oosthuizen  & 15448270 & 8300 & 29.1 & 1:19 pm  & Louis Oosthuizen (15448270)  & 1 & 2020-09-20 13:19:00 & 5.316667 & 25.91 & 1\\\\\n\t19 & Viktor Hovland    & 15448272 & 8100 & 27.6 & 12:46 pm & Viktor Hovland (15448272)    & 1 & 2020-09-20 12:46:00 & 4.766667 & 24.74 & 1\\\\\n\t52 & Will Zalatoris    & 15448304 & 6500 & 24.6 & 12:02 pm & Will Zalatoris (15448304)    & 1 & 2020-09-20 12:02:00 & 4.033333 & 22.18 & 1\\\\\n\\end{tabular}\n",
            "text/markdown": "\nA data.frame: 6 x 11\n\n| <!--/--> | dk_name &lt;chr&gt; | dk_id &lt;int&gt; | dk_salary &lt;int&gt; | total_points &lt;dbl&gt; | tee_time &lt;chr&gt; | name_id &lt;chr&gt; | ones &lt;int&gt; | tee_time2 &lt;dttm&gt; | delay &lt;dbl&gt; | points_adj &lt;dbl&gt; | opt_team &lt;dbl&gt; |\n|---|---|---|---|---|---|---|---|---|---|---|---|\n| 6 | Bryson DeChambeau | 15448259 | 9600 | 33.4 | 1:30 pm  | Bryson DeChambeau (15448259) | 1 | 2020-09-20 13:30:00 | 5.500000 | 30.10 | 1 |\n| 10 | Hideki Matsuyama  | 15448263 | 9000 | 31.7 | 1:19 pm  | Hideki Matsuyama (15448263)  | 1 | 2020-09-20 13:19:00 | 5.316667 | 28.51 | 1 |\n| 15 | Matthew Wolff     | 15448268 | 8500 | 32.7 | 1:30 pm  | Matthew Wolff (15448268)     | 1 | 2020-09-20 13:30:00 | 5.500000 | 29.40 | 1 |\n| 17 | Louis Oosthuizen  | 15448270 | 8300 | 29.1 | 1:19 pm  | Louis Oosthuizen (15448270)  | 1 | 2020-09-20 13:19:00 | 5.316667 | 25.91 | 1 |\n| 19 | Viktor Hovland    | 15448272 | 8100 | 27.6 | 12:46 pm | Viktor Hovland (15448272)    | 1 | 2020-09-20 12:46:00 | 4.766667 | 24.74 | 1 |\n| 52 | Will Zalatoris    | 15448304 | 6500 | 24.6 | 12:02 pm | Will Zalatoris (15448304)    | 1 | 2020-09-20 12:02:00 | 4.033333 | 22.18 | 1 |\n\n",
            "text/html": "<table>\n<caption>A data.frame: 6 x 11</caption>\n<thead>\n\t<tr><th></th><th scope=col>dk_name</th><th scope=col>dk_id</th><th scope=col>dk_salary</th><th scope=col>total_points</th><th scope=col>tee_time</th><th scope=col>name_id</th><th scope=col>ones</th><th scope=col>tee_time2</th><th scope=col>delay</th><th scope=col>points_adj</th><th scope=col>opt_team</th></tr>\n\t<tr><th></th><th scope=col>&lt;chr&gt;</th><th scope=col>&lt;int&gt;</th><th scope=col>&lt;int&gt;</th><th scope=col>&lt;dbl&gt;</th><th scope=col>&lt;chr&gt;</th><th scope=col>&lt;chr&gt;</th><th scope=col>&lt;int&gt;</th><th scope=col>&lt;dttm&gt;</th><th scope=col>&lt;dbl&gt;</th><th scope=col>&lt;dbl&gt;</th><th scope=col>&lt;dbl&gt;</th></tr>\n</thead>\n<tbody>\n\t<tr><th scope=row>6</th><td>Bryson DeChambeau</td><td>15448259</td><td>9600</td><td>33.4</td><td>1:30 pm </td><td>Bryson DeChambeau (15448259)</td><td>1</td><td>2020-09-20 13:30:00</td><td>5.500000</td><td>30.10</td><td>1</td></tr>\n\t<tr><th scope=row>10</th><td>Hideki Matsuyama </td><td>15448263</td><td>9000</td><td>31.7</td><td>1:19 pm </td><td>Hideki Matsuyama (15448263) </td><td>1</td><td>2020-09-20 13:19:00</td><td>5.316667</td><td>28.51</td><td>1</td></tr>\n\t<tr><th scope=row>15</th><td>Matthew Wolff    </td><td>15448268</td><td>8500</td><td>32.7</td><td>1:30 pm </td><td>Matthew Wolff (15448268)    </td><td>1</td><td>2020-09-20 13:30:00</td><td>5.500000</td><td>29.40</td><td>1</td></tr>\n\t<tr><th scope=row>17</th><td>Louis Oosthuizen </td><td>15448270</td><td>8300</td><td>29.1</td><td>1:19 pm </td><td>Louis Oosthuizen (15448270) </td><td>1</td><td>2020-09-20 13:19:00</td><td>5.316667</td><td>25.91</td><td>1</td></tr>\n\t<tr><th scope=row>19</th><td>Viktor Hovland   </td><td>15448272</td><td>8100</td><td>27.6</td><td>12:46 pm</td><td>Viktor Hovland (15448272)   </td><td>1</td><td>2020-09-20 12:46:00</td><td>4.766667</td><td>24.74</td><td>1</td></tr>\n\t<tr><th scope=row>52</th><td>Will Zalatoris   </td><td>15448304</td><td>6500</td><td>24.6</td><td>12:02 pm</td><td>Will Zalatoris (15448304)   </td><td>1</td><td>2020-09-20 12:02:00</td><td>4.033333</td><td>22.18</td><td>1</td></tr>\n</tbody>\n</table>\n"
          },
          "metadata": {}
        }
      ]
    },
    {
      "metadata": {
        "trusted": true
      },
      "cell_type": "code",
      "source": "# Set coefficients of the objective function\nf.obj <- df$total_points\n\n# Set matrix corresponding to coefficients of constraints by rows\n#f*dk_salary <= 50000\n#f*ones == 6\nf.con <- t(data.matrix(df[c('dk_salary','ones')]))\n\n# Set unequality/equality signs\nf.dir <- c(\"<=\",\n           \"==\")\n\n# Set right hand side coefficients\nf.rhs <- c(50000,\n           6)\n\n# # Variables final values\nopt_team <- lp(\"max\", f.obj, f.con, f.dir, f.rhs,all.bin = TRUE)$solution\ndf['opt_team'] <- opt_team\nsubset(df,opt_team==1)",
      "execution_count": 16,
      "outputs": [
        {
          "output_type": "display_data",
          "data": {
            "text/plain": "   dk_name           dk_id    dk_salary total_points tee_time\n6  Bryson DeChambeau 15448259 9600      33.4         1:30 pm \n10 Hideki Matsuyama  15448263 9000      31.7         1:19 pm \n15 Matthew Wolff     15448268 8500      32.7         1:30 pm \n17 Louis Oosthuizen  15448270 8300      29.1         1:19 pm \n19 Viktor Hovland    15448272 8100      27.6         12:46 pm\n52 Will Zalatoris    15448304 6500      24.6         12:02 pm\n   name_id                      ones tee_time2           delay    points_adj\n6  Bryson DeChambeau (15448259) 1    2020-09-20 13:30:00 5.500000 30.10     \n10 Hideki Matsuyama (15448263)  1    2020-09-20 13:19:00 5.316667 28.51     \n15 Matthew Wolff (15448268)     1    2020-09-20 13:30:00 5.500000 29.40     \n17 Louis Oosthuizen (15448270)  1    2020-09-20 13:19:00 5.316667 25.91     \n19 Viktor Hovland (15448272)    1    2020-09-20 12:46:00 4.766667 24.74     \n52 Will Zalatoris (15448304)    1    2020-09-20 12:02:00 4.033333 22.18     \n   opt_team\n6  1       \n10 1       \n15 1       \n17 1       \n19 1       \n52 1       ",
            "text/latex": "A data.frame: 6 x 11\n\\begin{tabular}{r|lllllllllll}\n  & dk\\_name & dk\\_id & dk\\_salary & total\\_points & tee\\_time & name\\_id & ones & tee\\_time2 & delay & points\\_adj & opt\\_team\\\\\n  & <chr> & <int> & <int> & <dbl> & <chr> & <chr> & <int> & <dttm> & <dbl> & <dbl> & <dbl>\\\\\n\\hline\n\t6 & Bryson DeChambeau & 15448259 & 9600 & 33.4 & 1:30 pm  & Bryson DeChambeau (15448259) & 1 & 2020-09-20 13:30:00 & 5.500000 & 30.10 & 1\\\\\n\t10 & Hideki Matsuyama  & 15448263 & 9000 & 31.7 & 1:19 pm  & Hideki Matsuyama (15448263)  & 1 & 2020-09-20 13:19:00 & 5.316667 & 28.51 & 1\\\\\n\t15 & Matthew Wolff     & 15448268 & 8500 & 32.7 & 1:30 pm  & Matthew Wolff (15448268)     & 1 & 2020-09-20 13:30:00 & 5.500000 & 29.40 & 1\\\\\n\t17 & Louis Oosthuizen  & 15448270 & 8300 & 29.1 & 1:19 pm  & Louis Oosthuizen (15448270)  & 1 & 2020-09-20 13:19:00 & 5.316667 & 25.91 & 1\\\\\n\t19 & Viktor Hovland    & 15448272 & 8100 & 27.6 & 12:46 pm & Viktor Hovland (15448272)    & 1 & 2020-09-20 12:46:00 & 4.766667 & 24.74 & 1\\\\\n\t52 & Will Zalatoris    & 15448304 & 6500 & 24.6 & 12:02 pm & Will Zalatoris (15448304)    & 1 & 2020-09-20 12:02:00 & 4.033333 & 22.18 & 1\\\\\n\\end{tabular}\n",
            "text/markdown": "\nA data.frame: 6 x 11\n\n| <!--/--> | dk_name &lt;chr&gt; | dk_id &lt;int&gt; | dk_salary &lt;int&gt; | total_points &lt;dbl&gt; | tee_time &lt;chr&gt; | name_id &lt;chr&gt; | ones &lt;int&gt; | tee_time2 &lt;dttm&gt; | delay &lt;dbl&gt; | points_adj &lt;dbl&gt; | opt_team &lt;dbl&gt; |\n|---|---|---|---|---|---|---|---|---|---|---|---|\n| 6 | Bryson DeChambeau | 15448259 | 9600 | 33.4 | 1:30 pm  | Bryson DeChambeau (15448259) | 1 | 2020-09-20 13:30:00 | 5.500000 | 30.10 | 1 |\n| 10 | Hideki Matsuyama  | 15448263 | 9000 | 31.7 | 1:19 pm  | Hideki Matsuyama (15448263)  | 1 | 2020-09-20 13:19:00 | 5.316667 | 28.51 | 1 |\n| 15 | Matthew Wolff     | 15448268 | 8500 | 32.7 | 1:30 pm  | Matthew Wolff (15448268)     | 1 | 2020-09-20 13:30:00 | 5.500000 | 29.40 | 1 |\n| 17 | Louis Oosthuizen  | 15448270 | 8300 | 29.1 | 1:19 pm  | Louis Oosthuizen (15448270)  | 1 | 2020-09-20 13:19:00 | 5.316667 | 25.91 | 1 |\n| 19 | Viktor Hovland    | 15448272 | 8100 | 27.6 | 12:46 pm | Viktor Hovland (15448272)    | 1 | 2020-09-20 12:46:00 | 4.766667 | 24.74 | 1 |\n| 52 | Will Zalatoris    | 15448304 | 6500 | 24.6 | 12:02 pm | Will Zalatoris (15448304)    | 1 | 2020-09-20 12:02:00 | 4.033333 | 22.18 | 1 |\n\n",
            "text/html": "<table>\n<caption>A data.frame: 6 x 11</caption>\n<thead>\n\t<tr><th></th><th scope=col>dk_name</th><th scope=col>dk_id</th><th scope=col>dk_salary</th><th scope=col>total_points</th><th scope=col>tee_time</th><th scope=col>name_id</th><th scope=col>ones</th><th scope=col>tee_time2</th><th scope=col>delay</th><th scope=col>points_adj</th><th scope=col>opt_team</th></tr>\n\t<tr><th></th><th scope=col>&lt;chr&gt;</th><th scope=col>&lt;int&gt;</th><th scope=col>&lt;int&gt;</th><th scope=col>&lt;dbl&gt;</th><th scope=col>&lt;chr&gt;</th><th scope=col>&lt;chr&gt;</th><th scope=col>&lt;int&gt;</th><th scope=col>&lt;dttm&gt;</th><th scope=col>&lt;dbl&gt;</th><th scope=col>&lt;dbl&gt;</th><th scope=col>&lt;dbl&gt;</th></tr>\n</thead>\n<tbody>\n\t<tr><th scope=row>6</th><td>Bryson DeChambeau</td><td>15448259</td><td>9600</td><td>33.4</td><td>1:30 pm </td><td>Bryson DeChambeau (15448259)</td><td>1</td><td>2020-09-20 13:30:00</td><td>5.500000</td><td>30.10</td><td>1</td></tr>\n\t<tr><th scope=row>10</th><td>Hideki Matsuyama </td><td>15448263</td><td>9000</td><td>31.7</td><td>1:19 pm </td><td>Hideki Matsuyama (15448263) </td><td>1</td><td>2020-09-20 13:19:00</td><td>5.316667</td><td>28.51</td><td>1</td></tr>\n\t<tr><th scope=row>15</th><td>Matthew Wolff    </td><td>15448268</td><td>8500</td><td>32.7</td><td>1:30 pm </td><td>Matthew Wolff (15448268)    </td><td>1</td><td>2020-09-20 13:30:00</td><td>5.500000</td><td>29.40</td><td>1</td></tr>\n\t<tr><th scope=row>17</th><td>Louis Oosthuizen </td><td>15448270</td><td>8300</td><td>29.1</td><td>1:19 pm </td><td>Louis Oosthuizen (15448270) </td><td>1</td><td>2020-09-20 13:19:00</td><td>5.316667</td><td>25.91</td><td>1</td></tr>\n\t<tr><th scope=row>19</th><td>Viktor Hovland   </td><td>15448272</td><td>8100</td><td>27.6</td><td>12:46 pm</td><td>Viktor Hovland (15448272)   </td><td>1</td><td>2020-09-20 12:46:00</td><td>4.766667</td><td>24.74</td><td>1</td></tr>\n\t<tr><th scope=row>52</th><td>Will Zalatoris   </td><td>15448304</td><td>6500</td><td>24.6</td><td>12:02 pm</td><td>Will Zalatoris (15448304)   </td><td>1</td><td>2020-09-20 12:02:00</td><td>4.033333</td><td>22.18</td><td>1</td></tr>\n</tbody>\n</table>\n"
          },
          "metadata": {}
        }
      ]
    },
    {
      "metadata": {
        "trusted": true
      },
      "cell_type": "code",
      "source": "#Grab just the team\ndf_opt <- subset(df,opt_team==1)\nprint('Team 1:')\nprint(paste(df_opt$dk_name))",
      "execution_count": 17,
      "outputs": [
        {
          "output_type": "stream",
          "text": "[1] \"Team 1:\"\n[1] \"Bryson DeChambeau\" \"Hideki Matsuyama\"  \"Matthew Wolff\"    \n[4] \"Louis Oosthuizen\"  \"Viktor Hovland\"    \"Will Zalatoris\"   \n",
          "name": "stdout"
        }
      ]
    },
    {
      "metadata": {
        "trusted": true
      },
      "cell_type": "code",
      "source": "#Find top N teams\n\n#Add tee time penalty\npen = 0.6\ndf$points_adj = df$total_points - pen*df$delay\n\nnum_teams = 7\ndf_now <- df\nto_remove = c('Jason Day',\n              'Jim Furyk',\n              'Steve Stricker',\n             'Brice Garnett',\n             'Patrick Rodgers',\n             'Jason Dufner',\n             'Alex Noren',\n             'Charles Howell III',\n             'Zach Johnson')\nfor (n in to_remove) {\n    df_now <- subset(df_now,dk_name!=n) \n}\n#Max sal\nmax_sal <- 99900\ndf_now <- subset(df_now,dk_salary<=max_sal)\nbase_exposure <- 50\nexposure_gap <- 5\n\n#Identify lock\nlock <- c('Jon Rahm','Justin Thomas')\nlock <- c()\nnum_left <- 6\nsal_left <- 50000\nsal_used <- 0\nlock_full_names <- c()\nif (length(lock) > 0) {\n    df_lock <- subset(df_now,dk_name %in% lock)\n    df_now <- subset(df_now,! dk_name %in% lock)\n    sal_used <- sum(df_lock$dk_salary) \n    num_lock <- length(lock)\n    sal_left <- 50000 - sal_used\n    num_left <- 6-num_lock\n    print(sal_left)\n    lock_full_names <- df_lock$name_id\n} \n\nfor (i in seq(1:num_teams)) {\n    # Set coefficients of the objective function\n    f.obj <- df_now$points_adj\n    #f.obj <- df_now$total_points\n\n    # Set matrix corresponding to coefficients of constraints by rows\n    #f*dk_salary <= 50000\n    #f*ones == 6\n    #f.con <- t(data.matrix(df_now[c('dk_salary','ones','projected_ownership')]))\n    f.con <- t(data.matrix(df_now[c('dk_salary','ones')]))\n    \n    # Set unequality/equality signs\n    f.dir <- c(\"<=\",\n               \"==\")\n    \n    # Set right hand side coefficients\n    f.rhs <- c(sal_left,num_left)\n\n    # # Variables final values\n    #opt_val <- lp(\"max\", f.obj, f.con, f.dir, f.rhs, int.vec = 1:4, all.bin = TRUE)$objective\n    opt_team <- lp(\"max\", f.obj, f.con, f.dir, f.rhs, int.vec = 1:4, all.bin = TRUE)$solution\n    df_now['opt_team'] <- opt_team\n    df_opt <- subset(df_now,opt_team==1)\n    \n    #Print current best team\n    print(paste('Team ',i,':',sep=\"\"))\n    print(paste(df_opt$dk_name))\n    \n    #Add best team to df_teams\n    if (i==1) {\n        df_teams <- df_opt[c('name_id','dk_salary')]\n        df_teams['Exposure'] <- base_exposure\n    } else {\n        df_teams_new <- df_opt[c('name_id','dk_salary')]\n        df_teams_new['Exposure'] <- base_exposure - (i-1)*exposure_gap\n        df_teams <- rbind(df_teams,df_teams_new)\n    }\n    \n    #Remove current opt team\n    df_now <- subset(df_now,opt_team==0)\n} ",
      "execution_count": 20,
      "outputs": [
        {
          "output_type": "stream",
          "text": "[1] \"Team 1:\"\n[1] \"Bryson DeChambeau\" \"Hideki Matsuyama\"  \"Matthew Wolff\"    \n[4] \"Louis Oosthuizen\"  \"Viktor Hovland\"    \"Will Zalatoris\"   \n[1] \"Team 2:\"\n[1] \"Xander Schauffele\" \"Rory McIlroy\"      \"Harris English\"   \n[4] \"Paul Casey\"        \"Lanto Griffin\"     \"Adam Long\"        \n[1] \"Team 3:\"\n[1] \"Justin Thomas\"   \"Webb Simpson\"    \"Joaquin Niemann\" \"Billy Horschel\" \n[5] \"Sungjae Im\"      \"Adam Hadwin\"    \n[1] \"Team 4:\"\n[1] \"Patrick Reed\"  \"Tony Finau\"    \"Jason Kokrak\"  \"Rickie Fowler\"\n[5] \"Bubba Watson\"  \"Lucas Glover\" \n[1] \"Team 5:\"\n[1] \"Jon Rahm\"        \"Dustin Johnson\"  \"Daniel Berger\"   \"Patrick Cantlay\"\n[5] \"Shugo Imahira\"   \"Taylor Pendrith\"\n[1] \"Team 6:\"\n[1] \"Brendon Todd\"            \"Thomas Pieters\"         \n[3] \"Adam Scott\"              \"Abraham Ancer\"          \n[5] \"Christiaan Bezuidenhout\" \"Sebastian Munoz\"        \n[1] \"Team 7:\"\n[1] \"Rafa Cabrera Bello\" \"Shane Lowry\"        \"Thomas Detry\"      \n[4] \"Cameron Smith\"      \"Erik Van Rooyen\"    \"Brian Harman\"      \n",
          "name": "stdout"
        }
      ]
    },
    {
      "metadata": {
        "trusted": true
      },
      "cell_type": "code",
      "source": "#Just keep top n teams and sort by salary\nteams_to_keep = 2\nlow_exposure = base_exposure - (teams_to_keep-1)*exposure_gap\ndf_teams <- subset(df_teams,Exposure >= low_exposure)\ndf_teams <- df_teams[order(-df_teams$dk_salary),]\ndf_teams",
      "execution_count": 36,
      "outputs": [
        {
          "output_type": "display_data",
          "data": {
            "text/plain": "   name_id                      dk_salary Exposure\n3  Xander Schauffele (15448256) 10300     45      \n6  Bryson DeChambeau (15448259)  9600     50      \n8  Rory McIlroy (15448261)       9200     45      \n9  Harris English (15448262)     9100     45      \n10 Hideki Matsuyama (15448263)   9000     50      \n15 Matthew Wolff (15448268)      8500     50      \n17 Louis Oosthuizen (15448270)   8300     50      \n19 Viktor Hovland (15448272)     8100     50      \n23 Joaquin Niemann (15448277)    7800     45      \n45 Adam Long (15448299)          6800     45      \n46 Zach Johnson (15448298)       6800     45      \n52 Will Zalatoris (15448304)     6500     50      ",
            "text/latex": "A data.frame: 12 x 3\n\\begin{tabular}{r|lll}\n  & name\\_id & dk\\_salary & Exposure\\\\\n  & <chr> & <int> & <dbl>\\\\\n\\hline\n\t3 & Xander Schauffele (15448256) & 10300 & 45\\\\\n\t6 & Bryson DeChambeau (15448259) &  9600 & 50\\\\\n\t8 & Rory McIlroy (15448261)      &  9200 & 45\\\\\n\t9 & Harris English (15448262)    &  9100 & 45\\\\\n\t10 & Hideki Matsuyama (15448263)  &  9000 & 50\\\\\n\t15 & Matthew Wolff (15448268)     &  8500 & 50\\\\\n\t17 & Louis Oosthuizen (15448270)  &  8300 & 50\\\\\n\t19 & Viktor Hovland (15448272)    &  8100 & 50\\\\\n\t23 & Joaquin Niemann (15448277)   &  7800 & 45\\\\\n\t45 & Adam Long (15448299)         &  6800 & 45\\\\\n\t46 & Zach Johnson (15448298)      &  6800 & 45\\\\\n\t52 & Will Zalatoris (15448304)    &  6500 & 50\\\\\n\\end{tabular}\n",
            "text/markdown": "\nA data.frame: 12 x 3\n\n| <!--/--> | name_id &lt;chr&gt; | dk_salary &lt;int&gt; | Exposure &lt;dbl&gt; |\n|---|---|---|---|\n| 3 | Xander Schauffele (15448256) | 10300 | 45 |\n| 6 | Bryson DeChambeau (15448259) |  9600 | 50 |\n| 8 | Rory McIlroy (15448261)      |  9200 | 45 |\n| 9 | Harris English (15448262)    |  9100 | 45 |\n| 10 | Hideki Matsuyama (15448263)  |  9000 | 50 |\n| 15 | Matthew Wolff (15448268)     |  8500 | 50 |\n| 17 | Louis Oosthuizen (15448270)  |  8300 | 50 |\n| 19 | Viktor Hovland (15448272)    |  8100 | 50 |\n| 23 | Joaquin Niemann (15448277)   |  7800 | 45 |\n| 45 | Adam Long (15448299)         |  6800 | 45 |\n| 46 | Zach Johnson (15448298)      |  6800 | 45 |\n| 52 | Will Zalatoris (15448304)    |  6500 | 50 |\n\n",
            "text/html": "<table>\n<caption>A data.frame: 12 x 3</caption>\n<thead>\n\t<tr><th></th><th scope=col>name_id</th><th scope=col>dk_salary</th><th scope=col>Exposure</th></tr>\n\t<tr><th></th><th scope=col>&lt;chr&gt;</th><th scope=col>&lt;int&gt;</th><th scope=col>&lt;dbl&gt;</th></tr>\n</thead>\n<tbody>\n\t<tr><th scope=row>3</th><td>Xander Schauffele (15448256)</td><td>10300</td><td>45</td></tr>\n\t<tr><th scope=row>6</th><td>Bryson DeChambeau (15448259)</td><td> 9600</td><td>50</td></tr>\n\t<tr><th scope=row>8</th><td>Rory McIlroy (15448261)     </td><td> 9200</td><td>45</td></tr>\n\t<tr><th scope=row>9</th><td>Harris English (15448262)   </td><td> 9100</td><td>45</td></tr>\n\t<tr><th scope=row>10</th><td>Hideki Matsuyama (15448263) </td><td> 9000</td><td>50</td></tr>\n\t<tr><th scope=row>15</th><td>Matthew Wolff (15448268)    </td><td> 8500</td><td>50</td></tr>\n\t<tr><th scope=row>17</th><td>Louis Oosthuizen (15448270) </td><td> 8300</td><td>50</td></tr>\n\t<tr><th scope=row>19</th><td>Viktor Hovland (15448272)   </td><td> 8100</td><td>50</td></tr>\n\t<tr><th scope=row>23</th><td>Joaquin Niemann (15448277)  </td><td> 7800</td><td>45</td></tr>\n\t<tr><th scope=row>45</th><td>Adam Long (15448299)        </td><td> 6800</td><td>45</td></tr>\n\t<tr><th scope=row>46</th><td>Zach Johnson (15448298)     </td><td> 6800</td><td>45</td></tr>\n\t<tr><th scope=row>52</th><td>Will Zalatoris (15448304)   </td><td> 6500</td><td>50</td></tr>\n</tbody>\n</table>\n"
          },
          "metadata": {}
        }
      ]
    },
    {
      "metadata": {
        "trusted": true
      },
      "cell_type": "code",
      "source": "# #Add some more names\n# more_names = c('Dustin Johnson','Patrick Cantlay','Tom Hoge','Max Homa')\n# more_names = c()\n# df_more <- subset(df,dk_name %in% more_names)[c('name_id','dk_salary')]\n# df_more['Exposure'] = low_exposure - 5\n# df_more",
      "execution_count": 20,
      "outputs": []
    },
    {
      "metadata": {
        "trusted": true
      },
      "cell_type": "code",
      "source": "#Add some more names\nmore_names <- c(\"Adam Hadwin\")\nmore_names <- c('Justin Thomas')\nif (length(more_names)>0) {\n    names_to_add <- setdiff(more_names,df_teams$dk_name)\n    df_more <- subset(df,dk_name %in% names_to_add)[c('name_id','dk_salary')]\n    df_more['Exposure'] = low_exposure - 5\n    df_more\n}",
      "execution_count": 38,
      "outputs": [
        {
          "output_type": "display_data",
          "data": {
            "text/plain": "  name_id                  dk_salary Exposure\n1 Justin Thomas (15448254) 10800     40      ",
            "text/latex": "A data.frame: 1 x 3\n\\begin{tabular}{r|lll}\n name\\_id & dk\\_salary & Exposure\\\\\n <chr> & <int> & <dbl>\\\\\n\\hline\n\t Justin Thomas (15448254) & 10800 & 40\\\\\n\\end{tabular}\n",
            "text/markdown": "\nA data.frame: 1 x 3\n\n| name_id &lt;chr&gt; | dk_salary &lt;int&gt; | Exposure &lt;dbl&gt; |\n|---|---|---|\n| Justin Thomas (15448254) | 10800 | 40 |\n\n",
            "text/html": "<table>\n<caption>A data.frame: 1 x 3</caption>\n<thead>\n\t<tr><th scope=col>name_id</th><th scope=col>dk_salary</th><th scope=col>Exposure</th></tr>\n\t<tr><th scope=col>&lt;chr&gt;</th><th scope=col>&lt;int&gt;</th><th scope=col>&lt;dbl&gt;</th></tr>\n</thead>\n<tbody>\n\t<tr><td>Justin Thomas (15448254)</td><td>10800</td><td>40</td></tr>\n</tbody>\n</table>\n"
          },
          "metadata": {}
        }
      ]
    },
    {
      "metadata": {
        "trusted": true
      },
      "cell_type": "code",
      "source": "",
      "execution_count": null,
      "outputs": []
    },
    {
      "metadata": {
        "trusted": true
      },
      "cell_type": "code",
      "source": "if (length(more_names)>0) {   \n    df_teams <- rbind(df_teams,df_more)\n    df_teams <- df_teams[order(-df_teams$dk_salary),]\n    #replace exposure with probabilities\n}\ndf_teams$Exposure <- df_teams$Exposure / sum(df_teams$Exposure)\ndf_teams",
      "execution_count": 39,
      "outputs": [
        {
          "output_type": "display_data",
          "data": {
            "text/plain": "   name_id                      dk_salary Exposure  \n1  Justin Thomas (15448254)     10800     0.06557377\n3  Xander Schauffele (15448256) 10300     0.07377049\n6  Bryson DeChambeau (15448259)  9600     0.08196721\n8  Rory McIlroy (15448261)       9200     0.07377049\n9  Harris English (15448262)     9100     0.07377049\n10 Hideki Matsuyama (15448263)   9000     0.08196721\n15 Matthew Wolff (15448268)      8500     0.08196721\n17 Louis Oosthuizen (15448270)   8300     0.08196721\n19 Viktor Hovland (15448272)     8100     0.08196721\n23 Joaquin Niemann (15448277)    7800     0.07377049\n45 Adam Long (15448299)          6800     0.07377049\n46 Zach Johnson (15448298)       6800     0.07377049\n52 Will Zalatoris (15448304)     6500     0.08196721",
            "text/latex": "A data.frame: 13 x 3\n\\begin{tabular}{r|lll}\n  & name\\_id & dk\\_salary & Exposure\\\\\n  & <chr> & <int> & <dbl>\\\\\n\\hline\n\t1 & Justin Thomas (15448254)     & 10800 & 0.06557377\\\\\n\t3 & Xander Schauffele (15448256) & 10300 & 0.07377049\\\\\n\t6 & Bryson DeChambeau (15448259) &  9600 & 0.08196721\\\\\n\t8 & Rory McIlroy (15448261)      &  9200 & 0.07377049\\\\\n\t9 & Harris English (15448262)    &  9100 & 0.07377049\\\\\n\t10 & Hideki Matsuyama (15448263)  &  9000 & 0.08196721\\\\\n\t15 & Matthew Wolff (15448268)     &  8500 & 0.08196721\\\\\n\t17 & Louis Oosthuizen (15448270)  &  8300 & 0.08196721\\\\\n\t19 & Viktor Hovland (15448272)    &  8100 & 0.08196721\\\\\n\t23 & Joaquin Niemann (15448277)   &  7800 & 0.07377049\\\\\n\t45 & Adam Long (15448299)         &  6800 & 0.07377049\\\\\n\t46 & Zach Johnson (15448298)      &  6800 & 0.07377049\\\\\n\t52 & Will Zalatoris (15448304)    &  6500 & 0.08196721\\\\\n\\end{tabular}\n",
            "text/markdown": "\nA data.frame: 13 x 3\n\n| <!--/--> | name_id &lt;chr&gt; | dk_salary &lt;int&gt; | Exposure &lt;dbl&gt; |\n|---|---|---|---|\n| 1 | Justin Thomas (15448254)     | 10800 | 0.06557377 |\n| 3 | Xander Schauffele (15448256) | 10300 | 0.07377049 |\n| 6 | Bryson DeChambeau (15448259) |  9600 | 0.08196721 |\n| 8 | Rory McIlroy (15448261)      |  9200 | 0.07377049 |\n| 9 | Harris English (15448262)    |  9100 | 0.07377049 |\n| 10 | Hideki Matsuyama (15448263)  |  9000 | 0.08196721 |\n| 15 | Matthew Wolff (15448268)     |  8500 | 0.08196721 |\n| 17 | Louis Oosthuizen (15448270)  |  8300 | 0.08196721 |\n| 19 | Viktor Hovland (15448272)    |  8100 | 0.08196721 |\n| 23 | Joaquin Niemann (15448277)   |  7800 | 0.07377049 |\n| 45 | Adam Long (15448299)         |  6800 | 0.07377049 |\n| 46 | Zach Johnson (15448298)      |  6800 | 0.07377049 |\n| 52 | Will Zalatoris (15448304)    |  6500 | 0.08196721 |\n\n",
            "text/html": "<table>\n<caption>A data.frame: 13 x 3</caption>\n<thead>\n\t<tr><th></th><th scope=col>name_id</th><th scope=col>dk_salary</th><th scope=col>Exposure</th></tr>\n\t<tr><th></th><th scope=col>&lt;chr&gt;</th><th scope=col>&lt;int&gt;</th><th scope=col>&lt;dbl&gt;</th></tr>\n</thead>\n<tbody>\n\t<tr><th scope=row>1</th><td>Justin Thomas (15448254)    </td><td>10800</td><td>0.06557377</td></tr>\n\t<tr><th scope=row>3</th><td>Xander Schauffele (15448256)</td><td>10300</td><td>0.07377049</td></tr>\n\t<tr><th scope=row>6</th><td>Bryson DeChambeau (15448259)</td><td> 9600</td><td>0.08196721</td></tr>\n\t<tr><th scope=row>8</th><td>Rory McIlroy (15448261)     </td><td> 9200</td><td>0.07377049</td></tr>\n\t<tr><th scope=row>9</th><td>Harris English (15448262)   </td><td> 9100</td><td>0.07377049</td></tr>\n\t<tr><th scope=row>10</th><td>Hideki Matsuyama (15448263) </td><td> 9000</td><td>0.08196721</td></tr>\n\t<tr><th scope=row>15</th><td>Matthew Wolff (15448268)    </td><td> 8500</td><td>0.08196721</td></tr>\n\t<tr><th scope=row>17</th><td>Louis Oosthuizen (15448270) </td><td> 8300</td><td>0.08196721</td></tr>\n\t<tr><th scope=row>19</th><td>Viktor Hovland (15448272)   </td><td> 8100</td><td>0.08196721</td></tr>\n\t<tr><th scope=row>23</th><td>Joaquin Niemann (15448277)  </td><td> 7800</td><td>0.07377049</td></tr>\n\t<tr><th scope=row>45</th><td>Adam Long (15448299)        </td><td> 6800</td><td>0.07377049</td></tr>\n\t<tr><th scope=row>46</th><td>Zach Johnson (15448298)     </td><td> 6800</td><td>0.07377049</td></tr>\n\t<tr><th scope=row>52</th><td>Will Zalatoris (15448304)   </td><td> 6500</td><td>0.08196721</td></tr>\n</tbody>\n</table>\n"
          },
          "metadata": {}
        }
      ]
    },
    {
      "metadata": {},
      "cell_type": "markdown",
      "source": "# Generate lineups"
    },
    {
      "metadata": {
        "trusted": true
      },
      "cell_type": "code",
      "source": "rep('test',6)",
      "execution_count": 23,
      "outputs": [
        {
          "output_type": "display_data",
          "data": {
            "text/plain": "[1] \"test\" \"test\" \"test\" \"test\" \"test\" \"test\"",
            "text/latex": "\\begin{enumerate*}\n\\item 'test'\n\\item 'test'\n\\item 'test'\n\\item 'test'\n\\item 'test'\n\\item 'test'\n\\end{enumerate*}\n",
            "text/markdown": "1. 'test'\n2. 'test'\n3. 'test'\n4. 'test'\n5. 'test'\n6. 'test'\n\n\n",
            "text/html": "<ol class=list-inline>\n\t<li>'test'</li>\n\t<li>'test'</li>\n\t<li>'test'</li>\n\t<li>'test'</li>\n\t<li>'test'</li>\n\t<li>'test'</li>\n</ol>\n"
          },
          "metadata": {}
        }
      ]
    },
    {
      "metadata": {
        "trusted": true
      },
      "cell_type": "code",
      "source": "col_names = c('G1','G2','G3','G4','G5','G6')\ndf_lineups = data.frame('test','test','test','test','test','test',stringsAsFactors=FALSE)\nnames(df_lineups) <- col_names\ndf_lineups",
      "execution_count": 24,
      "outputs": [
        {
          "output_type": "display_data",
          "data": {
            "text/plain": "  G1   G2   G3   G4   G5   G6  \n1 test test test test test test",
            "text/latex": "A data.frame: 1 x 6\n\\begin{tabular}{r|llllll}\n G1 & G2 & G3 & G4 & G5 & G6\\\\\n <chr> & <chr> & <chr> & <chr> & <chr> & <chr>\\\\\n\\hline\n\t test & test & test & test & test & test\\\\\n\\end{tabular}\n",
            "text/markdown": "\nA data.frame: 1 x 6\n\n| G1 &lt;chr&gt; | G2 &lt;chr&gt; | G3 &lt;chr&gt; | G4 &lt;chr&gt; | G5 &lt;chr&gt; | G6 &lt;chr&gt; |\n|---|---|---|---|---|---|\n| test | test | test | test | test | test |\n\n",
            "text/html": "<table>\n<caption>A data.frame: 1 x 6</caption>\n<thead>\n\t<tr><th scope=col>G1</th><th scope=col>G2</th><th scope=col>G3</th><th scope=col>G4</th><th scope=col>G5</th><th scope=col>G6</th></tr>\n\t<tr><th scope=col>&lt;chr&gt;</th><th scope=col>&lt;chr&gt;</th><th scope=col>&lt;chr&gt;</th><th scope=col>&lt;chr&gt;</th><th scope=col>&lt;chr&gt;</th><th scope=col>&lt;chr&gt;</th></tr>\n</thead>\n<tbody>\n\t<tr><td>test</td><td>test</td><td>test</td><td>test</td><td>test</td><td>test</td></tr>\n</tbody>\n</table>\n"
          },
          "metadata": {}
        }
      ]
    },
    {
      "metadata": {
        "trusted": true
      },
      "cell_type": "code",
      "source": "sample(df_teams$name_id,size=6,replace=FALSE,prob = df_teams$Exposure)",
      "execution_count": 25,
      "outputs": [
        {
          "output_type": "display_data",
          "data": {
            "text/plain": "[1] \"Cameron Percy (15346783)\"      \"Jhonattan Vegas (15346798)\"   \n[3] \"James Hahn (15346799)\"         \"Brian Stuard (15346782)\"      \n[5] \"Kristoffer Ventura (15346789)\" \"Kevin Streelman (15346777)\"   ",
            "text/latex": "\\begin{enumerate*}\n\\item 'Cameron Percy (15346783)'\n\\item 'Jhonattan Vegas (15346798)'\n\\item 'James Hahn (15346799)'\n\\item 'Brian Stuard (15346782)'\n\\item 'Kristoffer Ventura (15346789)'\n\\item 'Kevin Streelman (15346777)'\n\\end{enumerate*}\n",
            "text/markdown": "1. 'Cameron Percy (15346783)'\n2. 'Jhonattan Vegas (15346798)'\n3. 'James Hahn (15346799)'\n4. 'Brian Stuard (15346782)'\n5. 'Kristoffer Ventura (15346789)'\n6. 'Kevin Streelman (15346777)'\n\n\n",
            "text/html": "<ol class=list-inline>\n\t<li>'Cameron Percy (15346783)'</li>\n\t<li>'Jhonattan Vegas (15346798)'</li>\n\t<li>'James Hahn (15346799)'</li>\n\t<li>'Brian Stuard (15346782)'</li>\n\t<li>'Kristoffer Ventura (15346789)'</li>\n\t<li>'Kevin Streelman (15346777)'</li>\n</ol>\n"
          },
          "metadata": {}
        }
      ]
    },
    {
      "metadata": {
        "trusted": true
      },
      "cell_type": "code",
      "source": "num_teams <- 44\nn <- 0\nmin_sal <- 48900 - sal_used\nmax_sal <- 49900 - sal_used\n\n#Reste df_teams\ndf_teams['Actual'] <- 0\n\n#Reset df_lineups\ncol_names = c('G1','G2','G3','G4','G5','G6')\ndf_lineups = data.frame('test','test','test','test','test','test',stringsAsFactors=FALSE)\nnames(df_lineups) <- col_names\n\nwhile(n<num_teams) {\n    #Pick random team\n    curr_team <- sample(df_teams$name_id,size=num_left,replace=FALSE,prob = df_teams$Exposure)\n    df_now <- subset(df_teams,name_id %in% curr_team)\n    #Get team in order of descending salary\n    df_now <- df_now[order(-df_now$dk_salary),]\n    curr_team <- df_now$name_id\n    if (sum(df_now$dk_salary)>=min_sal & sum(df_now$dk_salary)<=max_sal) {\n        curr_team <- c(lock_full_names,curr_team)\n        df_lineups <- rbind(df_lineups,curr_team)\n        n <- n+1\n        if (n%%10 == 0) {\n            print(n)\n        }\n        #Update df_teams\n    }\n}\n#delete forst row\n\nhead(df_lineups)",
      "execution_count": 26,
      "outputs": [
        {
          "output_type": "stream",
          "text": "[1] 10\n[1] 20\n[1] 30\n[1] 40\n",
          "name": "stdout"
        },
        {
          "output_type": "display_data",
          "data": {
            "text/plain": "  G1                         G2                      G3                        \n1 test                       test                    test                      \n2 Chez Reavie (15346768)     Pat Perez (15346779)    Cameron Percy (15346783)  \n3 Chez Reavie (15346768)     Sam Burns (15346770)    Kevin Streelman (15346777)\n4 Emiliano Grillo (15346772) Russell Knox (15346776) Bud Cauley (15346781)     \n5 Emiliano Grillo (15346772) Russell Knox (15346776) Bud Cauley (15346781)     \n6 Brendan Steele (15346765)  Pat Perez (15346779)    Brian Stuard (15346782)   \n  G4                            G5                           \n1 test                          test                         \n2 Kristoffer Ventura (15346789) James Hahn (15346799)        \n3 Harry Higgs (15346785)        Sepp Straka (15346812)       \n4 Carlos Ortiz (15346786)       Kristoffer Ventura (15346789)\n5 Harry Higgs (15346785)        Kristoffer Ventura (15346789)\n6 James Hahn (15346799)         Jhonattan Vegas (15346798)   \n  G6                        \n1 test                      \n2 Xinjun Zhang (15346797)   \n3 Sahith Theegala (15346835)\n4 James Hahn (15346799)     \n5 Xinjun Zhang (15346797)   \n6 Sepp Straka (15346812)    ",
            "text/latex": "A data.frame: 6 x 6\n\\begin{tabular}{r|llllll}\n G1 & G2 & G3 & G4 & G5 & G6\\\\\n <chr> & <chr> & <chr> & <chr> & <chr> & <chr>\\\\\n\\hline\n\t test                       & test                    & test                       & test                          & test                          & test                      \\\\\n\t Chez Reavie (15346768)     & Pat Perez (15346779)    & Cameron Percy (15346783)   & Kristoffer Ventura (15346789) & James Hahn (15346799)         & Xinjun Zhang (15346797)   \\\\\n\t Chez Reavie (15346768)     & Sam Burns (15346770)    & Kevin Streelman (15346777) & Harry Higgs (15346785)        & Sepp Straka (15346812)        & Sahith Theegala (15346835)\\\\\n\t Emiliano Grillo (15346772) & Russell Knox (15346776) & Bud Cauley (15346781)      & Carlos Ortiz (15346786)       & Kristoffer Ventura (15346789) & James Hahn (15346799)     \\\\\n\t Emiliano Grillo (15346772) & Russell Knox (15346776) & Bud Cauley (15346781)      & Harry Higgs (15346785)        & Kristoffer Ventura (15346789) & Xinjun Zhang (15346797)   \\\\\n\t Brendan Steele (15346765)  & Pat Perez (15346779)    & Brian Stuard (15346782)    & James Hahn (15346799)         & Jhonattan Vegas (15346798)    & Sepp Straka (15346812)    \\\\\n\\end{tabular}\n",
            "text/markdown": "\nA data.frame: 6 x 6\n\n| G1 &lt;chr&gt; | G2 &lt;chr&gt; | G3 &lt;chr&gt; | G4 &lt;chr&gt; | G5 &lt;chr&gt; | G6 &lt;chr&gt; |\n|---|---|---|---|---|---|\n| test                       | test                    | test                       | test                          | test                          | test                       |\n| Chez Reavie (15346768)     | Pat Perez (15346779)    | Cameron Percy (15346783)   | Kristoffer Ventura (15346789) | James Hahn (15346799)         | Xinjun Zhang (15346797)    |\n| Chez Reavie (15346768)     | Sam Burns (15346770)    | Kevin Streelman (15346777) | Harry Higgs (15346785)        | Sepp Straka (15346812)        | Sahith Theegala (15346835) |\n| Emiliano Grillo (15346772) | Russell Knox (15346776) | Bud Cauley (15346781)      | Carlos Ortiz (15346786)       | Kristoffer Ventura (15346789) | James Hahn (15346799)      |\n| Emiliano Grillo (15346772) | Russell Knox (15346776) | Bud Cauley (15346781)      | Harry Higgs (15346785)        | Kristoffer Ventura (15346789) | Xinjun Zhang (15346797)    |\n| Brendan Steele (15346765)  | Pat Perez (15346779)    | Brian Stuard (15346782)    | James Hahn (15346799)         | Jhonattan Vegas (15346798)    | Sepp Straka (15346812)     |\n\n",
            "text/html": "<table>\n<caption>A data.frame: 6 x 6</caption>\n<thead>\n\t<tr><th scope=col>G1</th><th scope=col>G2</th><th scope=col>G3</th><th scope=col>G4</th><th scope=col>G5</th><th scope=col>G6</th></tr>\n\t<tr><th scope=col>&lt;chr&gt;</th><th scope=col>&lt;chr&gt;</th><th scope=col>&lt;chr&gt;</th><th scope=col>&lt;chr&gt;</th><th scope=col>&lt;chr&gt;</th><th scope=col>&lt;chr&gt;</th></tr>\n</thead>\n<tbody>\n\t<tr><td>test                      </td><td>test                   </td><td>test                      </td><td>test                         </td><td>test                         </td><td>test                      </td></tr>\n\t<tr><td>Chez Reavie (15346768)    </td><td>Pat Perez (15346779)   </td><td>Cameron Percy (15346783)  </td><td>Kristoffer Ventura (15346789)</td><td>James Hahn (15346799)        </td><td>Xinjun Zhang (15346797)   </td></tr>\n\t<tr><td>Chez Reavie (15346768)    </td><td>Sam Burns (15346770)   </td><td>Kevin Streelman (15346777)</td><td>Harry Higgs (15346785)       </td><td>Sepp Straka (15346812)       </td><td>Sahith Theegala (15346835)</td></tr>\n\t<tr><td>Emiliano Grillo (15346772)</td><td>Russell Knox (15346776)</td><td>Bud Cauley (15346781)     </td><td>Carlos Ortiz (15346786)      </td><td>Kristoffer Ventura (15346789)</td><td>James Hahn (15346799)     </td></tr>\n\t<tr><td>Emiliano Grillo (15346772)</td><td>Russell Knox (15346776)</td><td>Bud Cauley (15346781)     </td><td>Harry Higgs (15346785)       </td><td>Kristoffer Ventura (15346789)</td><td>Xinjun Zhang (15346797)   </td></tr>\n\t<tr><td>Brendan Steele (15346765) </td><td>Pat Perez (15346779)   </td><td>Brian Stuard (15346782)   </td><td>James Hahn (15346799)        </td><td>Jhonattan Vegas (15346798)   </td><td>Sepp Straka (15346812)    </td></tr>\n</tbody>\n</table>\n"
          },
          "metadata": {}
        }
      ]
    },
    {
      "metadata": {
        "trusted": true
      },
      "cell_type": "code",
      "source": "df_lineups <- df_lineups[(df_lineups$G1!='test'),]\nhead(df_lineups)",
      "execution_count": 27,
      "outputs": [
        {
          "output_type": "display_data",
          "data": {
            "text/plain": "  G1                         G2                        \n2 Chez Reavie (15346768)     Pat Perez (15346779)      \n3 Chez Reavie (15346768)     Sam Burns (15346770)      \n4 Emiliano Grillo (15346772) Russell Knox (15346776)   \n5 Emiliano Grillo (15346772) Russell Knox (15346776)   \n6 Brendan Steele (15346765)  Pat Perez (15346779)      \n7 Russell Knox (15346776)    Kevin Streelman (15346777)\n  G3                         G4                           \n2 Cameron Percy (15346783)   Kristoffer Ventura (15346789)\n3 Kevin Streelman (15346777) Harry Higgs (15346785)       \n4 Bud Cauley (15346781)      Carlos Ortiz (15346786)      \n5 Bud Cauley (15346781)      Harry Higgs (15346785)       \n6 Brian Stuard (15346782)    James Hahn (15346799)        \n7 Bud Cauley (15346781)      Cameron Percy (15346783)     \n  G5                            G6                        \n2 James Hahn (15346799)         Xinjun Zhang (15346797)   \n3 Sepp Straka (15346812)        Sahith Theegala (15346835)\n4 Kristoffer Ventura (15346789) James Hahn (15346799)     \n5 Kristoffer Ventura (15346789) Xinjun Zhang (15346797)   \n6 Jhonattan Vegas (15346798)    Sepp Straka (15346812)    \n7 Carlos Ortiz (15346786)       Jhonattan Vegas (15346798)",
            "text/latex": "A data.frame: 6 x 6\n\\begin{tabular}{r|llllll}\n  & G1 & G2 & G3 & G4 & G5 & G6\\\\\n  & <chr> & <chr> & <chr> & <chr> & <chr> & <chr>\\\\\n\\hline\n\t2 & Chez Reavie (15346768)     & Pat Perez (15346779)       & Cameron Percy (15346783)   & Kristoffer Ventura (15346789) & James Hahn (15346799)         & Xinjun Zhang (15346797)   \\\\\n\t3 & Chez Reavie (15346768)     & Sam Burns (15346770)       & Kevin Streelman (15346777) & Harry Higgs (15346785)        & Sepp Straka (15346812)        & Sahith Theegala (15346835)\\\\\n\t4 & Emiliano Grillo (15346772) & Russell Knox (15346776)    & Bud Cauley (15346781)      & Carlos Ortiz (15346786)       & Kristoffer Ventura (15346789) & James Hahn (15346799)     \\\\\n\t5 & Emiliano Grillo (15346772) & Russell Knox (15346776)    & Bud Cauley (15346781)      & Harry Higgs (15346785)        & Kristoffer Ventura (15346789) & Xinjun Zhang (15346797)   \\\\\n\t6 & Brendan Steele (15346765)  & Pat Perez (15346779)       & Brian Stuard (15346782)    & James Hahn (15346799)         & Jhonattan Vegas (15346798)    & Sepp Straka (15346812)    \\\\\n\t7 & Russell Knox (15346776)    & Kevin Streelman (15346777) & Bud Cauley (15346781)      & Cameron Percy (15346783)      & Carlos Ortiz (15346786)       & Jhonattan Vegas (15346798)\\\\\n\\end{tabular}\n",
            "text/markdown": "\nA data.frame: 6 x 6\n\n| <!--/--> | G1 &lt;chr&gt; | G2 &lt;chr&gt; | G3 &lt;chr&gt; | G4 &lt;chr&gt; | G5 &lt;chr&gt; | G6 &lt;chr&gt; |\n|---|---|---|---|---|---|---|\n| 2 | Chez Reavie (15346768)     | Pat Perez (15346779)       | Cameron Percy (15346783)   | Kristoffer Ventura (15346789) | James Hahn (15346799)         | Xinjun Zhang (15346797)    |\n| 3 | Chez Reavie (15346768)     | Sam Burns (15346770)       | Kevin Streelman (15346777) | Harry Higgs (15346785)        | Sepp Straka (15346812)        | Sahith Theegala (15346835) |\n| 4 | Emiliano Grillo (15346772) | Russell Knox (15346776)    | Bud Cauley (15346781)      | Carlos Ortiz (15346786)       | Kristoffer Ventura (15346789) | James Hahn (15346799)      |\n| 5 | Emiliano Grillo (15346772) | Russell Knox (15346776)    | Bud Cauley (15346781)      | Harry Higgs (15346785)        | Kristoffer Ventura (15346789) | Xinjun Zhang (15346797)    |\n| 6 | Brendan Steele (15346765)  | Pat Perez (15346779)       | Brian Stuard (15346782)    | James Hahn (15346799)         | Jhonattan Vegas (15346798)    | Sepp Straka (15346812)     |\n| 7 | Russell Knox (15346776)    | Kevin Streelman (15346777) | Bud Cauley (15346781)      | Cameron Percy (15346783)      | Carlos Ortiz (15346786)       | Jhonattan Vegas (15346798) |\n\n",
            "text/html": "<table>\n<caption>A data.frame: 6 x 6</caption>\n<thead>\n\t<tr><th></th><th scope=col>G1</th><th scope=col>G2</th><th scope=col>G3</th><th scope=col>G4</th><th scope=col>G5</th><th scope=col>G6</th></tr>\n\t<tr><th></th><th scope=col>&lt;chr&gt;</th><th scope=col>&lt;chr&gt;</th><th scope=col>&lt;chr&gt;</th><th scope=col>&lt;chr&gt;</th><th scope=col>&lt;chr&gt;</th><th scope=col>&lt;chr&gt;</th></tr>\n</thead>\n<tbody>\n\t<tr><th scope=row>2</th><td>Chez Reavie (15346768)    </td><td>Pat Perez (15346779)      </td><td>Cameron Percy (15346783)  </td><td>Kristoffer Ventura (15346789)</td><td>James Hahn (15346799)        </td><td>Xinjun Zhang (15346797)   </td></tr>\n\t<tr><th scope=row>3</th><td>Chez Reavie (15346768)    </td><td>Sam Burns (15346770)      </td><td>Kevin Streelman (15346777)</td><td>Harry Higgs (15346785)       </td><td>Sepp Straka (15346812)       </td><td>Sahith Theegala (15346835)</td></tr>\n\t<tr><th scope=row>4</th><td>Emiliano Grillo (15346772)</td><td>Russell Knox (15346776)   </td><td>Bud Cauley (15346781)     </td><td>Carlos Ortiz (15346786)      </td><td>Kristoffer Ventura (15346789)</td><td>James Hahn (15346799)     </td></tr>\n\t<tr><th scope=row>5</th><td>Emiliano Grillo (15346772)</td><td>Russell Knox (15346776)   </td><td>Bud Cauley (15346781)     </td><td>Harry Higgs (15346785)       </td><td>Kristoffer Ventura (15346789)</td><td>Xinjun Zhang (15346797)   </td></tr>\n\t<tr><th scope=row>6</th><td>Brendan Steele (15346765) </td><td>Pat Perez (15346779)      </td><td>Brian Stuard (15346782)   </td><td>James Hahn (15346799)        </td><td>Jhonattan Vegas (15346798)   </td><td>Sepp Straka (15346812)    </td></tr>\n\t<tr><th scope=row>7</th><td>Russell Knox (15346776)   </td><td>Kevin Streelman (15346777)</td><td>Bud Cauley (15346781)     </td><td>Cameron Percy (15346783)     </td><td>Carlos Ortiz (15346786)      </td><td>Jhonattan Vegas (15346798)</td></tr>\n</tbody>\n</table>\n"
          },
          "metadata": {}
        }
      ]
    },
    {
      "metadata": {
        "trusted": true
      },
      "cell_type": "code",
      "source": "dim(df_lineups)",
      "execution_count": 28,
      "outputs": [
        {
          "output_type": "display_data",
          "data": {
            "text/plain": "[1] 44  6",
            "text/latex": "\\begin{enumerate*}\n\\item 44\n\\item 6\n\\end{enumerate*}\n",
            "text/markdown": "1. 44\n2. 6\n\n\n",
            "text/html": "<ol class=list-inline>\n\t<li>44</li>\n\t<li>6</li>\n</ol>\n"
          },
          "metadata": {}
        }
      ]
    },
    {
      "metadata": {
        "trusted": true
      },
      "cell_type": "code",
      "source": "names(df_lineups)<-rep('G',\n                      dim(df_lineups)[2])\nhead(df_lineups)",
      "execution_count": 29,
      "outputs": [
        {
          "output_type": "display_data",
          "data": {
            "text/plain": "  G                          G                         \n2 Chez Reavie (15346768)     Pat Perez (15346779)      \n3 Chez Reavie (15346768)     Sam Burns (15346770)      \n4 Emiliano Grillo (15346772) Russell Knox (15346776)   \n5 Emiliano Grillo (15346772) Russell Knox (15346776)   \n6 Brendan Steele (15346765)  Pat Perez (15346779)      \n7 Russell Knox (15346776)    Kevin Streelman (15346777)\n  G                          G                            \n2 Cameron Percy (15346783)   Kristoffer Ventura (15346789)\n3 Kevin Streelman (15346777) Harry Higgs (15346785)       \n4 Bud Cauley (15346781)      Carlos Ortiz (15346786)      \n5 Bud Cauley (15346781)      Harry Higgs (15346785)       \n6 Brian Stuard (15346782)    James Hahn (15346799)        \n7 Bud Cauley (15346781)      Cameron Percy (15346783)     \n  G                             G                         \n2 James Hahn (15346799)         Xinjun Zhang (15346797)   \n3 Sepp Straka (15346812)        Sahith Theegala (15346835)\n4 Kristoffer Ventura (15346789) James Hahn (15346799)     \n5 Kristoffer Ventura (15346789) Xinjun Zhang (15346797)   \n6 Jhonattan Vegas (15346798)    Sepp Straka (15346812)    \n7 Carlos Ortiz (15346786)       Jhonattan Vegas (15346798)",
            "text/latex": "A data.frame: 6 x 6\n\\begin{tabular}{r|llllll}\n  & G & G & G & G & G & G\\\\\n  & <chr> & <chr> & <chr> & <chr> & <chr> & <chr>\\\\\n\\hline\n\t2 & Chez Reavie (15346768)     & Pat Perez (15346779)       & Cameron Percy (15346783)   & Kristoffer Ventura (15346789) & James Hahn (15346799)         & Xinjun Zhang (15346797)   \\\\\n\t3 & Chez Reavie (15346768)     & Sam Burns (15346770)       & Kevin Streelman (15346777) & Harry Higgs (15346785)        & Sepp Straka (15346812)        & Sahith Theegala (15346835)\\\\\n\t4 & Emiliano Grillo (15346772) & Russell Knox (15346776)    & Bud Cauley (15346781)      & Carlos Ortiz (15346786)       & Kristoffer Ventura (15346789) & James Hahn (15346799)     \\\\\n\t5 & Emiliano Grillo (15346772) & Russell Knox (15346776)    & Bud Cauley (15346781)      & Harry Higgs (15346785)        & Kristoffer Ventura (15346789) & Xinjun Zhang (15346797)   \\\\\n\t6 & Brendan Steele (15346765)  & Pat Perez (15346779)       & Brian Stuard (15346782)    & James Hahn (15346799)         & Jhonattan Vegas (15346798)    & Sepp Straka (15346812)    \\\\\n\t7 & Russell Knox (15346776)    & Kevin Streelman (15346777) & Bud Cauley (15346781)      & Cameron Percy (15346783)      & Carlos Ortiz (15346786)       & Jhonattan Vegas (15346798)\\\\\n\\end{tabular}\n",
            "text/markdown": "\nA data.frame: 6 x 6\n\n| <!--/--> | G &lt;chr&gt; | G &lt;chr&gt; | G &lt;chr&gt; | G &lt;chr&gt; | G &lt;chr&gt; | G &lt;chr&gt; |\n|---|---|---|---|---|---|---|\n| 2 | Chez Reavie (15346768)     | Pat Perez (15346779)       | Cameron Percy (15346783)   | Kristoffer Ventura (15346789) | James Hahn (15346799)         | Xinjun Zhang (15346797)    |\n| 3 | Chez Reavie (15346768)     | Sam Burns (15346770)       | Kevin Streelman (15346777) | Harry Higgs (15346785)        | Sepp Straka (15346812)        | Sahith Theegala (15346835) |\n| 4 | Emiliano Grillo (15346772) | Russell Knox (15346776)    | Bud Cauley (15346781)      | Carlos Ortiz (15346786)       | Kristoffer Ventura (15346789) | James Hahn (15346799)      |\n| 5 | Emiliano Grillo (15346772) | Russell Knox (15346776)    | Bud Cauley (15346781)      | Harry Higgs (15346785)        | Kristoffer Ventura (15346789) | Xinjun Zhang (15346797)    |\n| 6 | Brendan Steele (15346765)  | Pat Perez (15346779)       | Brian Stuard (15346782)    | James Hahn (15346799)         | Jhonattan Vegas (15346798)    | Sepp Straka (15346812)     |\n| 7 | Russell Knox (15346776)    | Kevin Streelman (15346777) | Bud Cauley (15346781)      | Cameron Percy (15346783)      | Carlos Ortiz (15346786)       | Jhonattan Vegas (15346798) |\n\n",
            "text/html": "<table>\n<caption>A data.frame: 6 x 6</caption>\n<thead>\n\t<tr><th></th><th scope=col>G</th><th scope=col>G</th><th scope=col>G</th><th scope=col>G</th><th scope=col>G</th><th scope=col>G</th></tr>\n\t<tr><th></th><th scope=col>&lt;chr&gt;</th><th scope=col>&lt;chr&gt;</th><th scope=col>&lt;chr&gt;</th><th scope=col>&lt;chr&gt;</th><th scope=col>&lt;chr&gt;</th><th scope=col>&lt;chr&gt;</th></tr>\n</thead>\n<tbody>\n\t<tr><th scope=row>2</th><td>Chez Reavie (15346768)    </td><td>Pat Perez (15346779)      </td><td>Cameron Percy (15346783)  </td><td>Kristoffer Ventura (15346789)</td><td>James Hahn (15346799)        </td><td>Xinjun Zhang (15346797)   </td></tr>\n\t<tr><th scope=row>3</th><td>Chez Reavie (15346768)    </td><td>Sam Burns (15346770)      </td><td>Kevin Streelman (15346777)</td><td>Harry Higgs (15346785)       </td><td>Sepp Straka (15346812)       </td><td>Sahith Theegala (15346835)</td></tr>\n\t<tr><th scope=row>4</th><td>Emiliano Grillo (15346772)</td><td>Russell Knox (15346776)   </td><td>Bud Cauley (15346781)     </td><td>Carlos Ortiz (15346786)      </td><td>Kristoffer Ventura (15346789)</td><td>James Hahn (15346799)     </td></tr>\n\t<tr><th scope=row>5</th><td>Emiliano Grillo (15346772)</td><td>Russell Knox (15346776)   </td><td>Bud Cauley (15346781)     </td><td>Harry Higgs (15346785)       </td><td>Kristoffer Ventura (15346789)</td><td>Xinjun Zhang (15346797)   </td></tr>\n\t<tr><th scope=row>6</th><td>Brendan Steele (15346765) </td><td>Pat Perez (15346779)      </td><td>Brian Stuard (15346782)   </td><td>James Hahn (15346799)        </td><td>Jhonattan Vegas (15346798)   </td><td>Sepp Straka (15346812)    </td></tr>\n\t<tr><th scope=row>7</th><td>Russell Knox (15346776)   </td><td>Kevin Streelman (15346777)</td><td>Bud Cauley (15346781)     </td><td>Cameron Percy (15346783)     </td><td>Carlos Ortiz (15346786)      </td><td>Jhonattan Vegas (15346798)</td></tr>\n</tbody>\n</table>\n"
          },
          "metadata": {}
        }
      ]
    },
    {
      "metadata": {
        "trusted": true
      },
      "cell_type": "code",
      "source": "write.table(df_lineups,\n          'Lineups/DKEntries.csv',\n         col.names=FALSE,\n         row.names=FALSE,\n           sep=',')",
      "execution_count": 30,
      "outputs": []
    },
    {
      "metadata": {
        "trusted": true
      },
      "cell_type": "code",
      "source": "",
      "execution_count": null,
      "outputs": []
    }
  ],
  "metadata": {
    "kernelspec": {
      "name": "r",
      "display_name": "R",
      "language": "R"
    },
    "language_info": {
      "mimetype": "text/x-r-source",
      "name": "R",
      "pygments_lexer": "r",
      "version": "3.5.3",
      "file_extension": ".r",
      "codemirror_mode": "r"
    }
  },
  "nbformat": 4,
  "nbformat_minor": 1
}