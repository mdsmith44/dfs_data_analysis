{
  "cells": [
    {
      "metadata": {
        "trusted": true
      },
      "cell_type": "code",
      "source": "import pandas as pd\nimport numpy as np",
      "execution_count": 82,
      "outputs": []
    },
    {
      "metadata": {
        "trusted": true
      },
      "cell_type": "code",
      "source": "#!pip install cvxpy",
      "execution_count": 83,
      "outputs": []
    },
    {
      "metadata": {
        "trusted": true
      },
      "cell_type": "code",
      "source": "#import cvxpy as cp",
      "execution_count": 84,
      "outputs": []
    },
    {
      "metadata": {},
      "cell_type": "markdown",
      "source": "# Read in data"
    },
    {
      "metadata": {
        "trusted": true
      },
      "cell_type": "code",
      "source": "url = 'https://www.draftkings.com/lineup/getavailableplayerscsv?contestTypeId=21&draftGroupId=28598'\ndf_dk = pd.read_csv(url)\ndf_dk.head(2)",
      "execution_count": 85,
      "outputs": [
        {
          "output_type": "execute_result",
          "execution_count": 85,
          "data": {
            "text/html": "<div>\n<style scoped>\n    .dataframe tbody tr th:only-of-type {\n        vertical-align: middle;\n    }\n\n    .dataframe tbody tr th {\n        vertical-align: top;\n    }\n\n    .dataframe thead th {\n        text-align: right;\n    }\n</style>\n<table border=\"1\" class=\"dataframe\">\n  <thead>\n    <tr style=\"text-align: right;\">\n      <th></th>\n      <th>Position</th>\n      <th>Name + ID</th>\n      <th>Name</th>\n      <th>ID</th>\n      <th>Roster Position</th>\n      <th>Salary</th>\n      <th>Game Info</th>\n      <th>TeamAbbrev</th>\n      <th>AvgPointsPerGame</th>\n    </tr>\n  </thead>\n  <tbody>\n    <tr>\n      <th>0</th>\n      <td>RB</td>\n      <td>Ezekiel Elliott (13041144)</td>\n      <td>Ezekiel Elliott</td>\n      <td>13041144</td>\n      <td>RB/FLEX</td>\n      <td>9200</td>\n      <td>NYG@DAL 09/08/2019 04:25PM ET</td>\n      <td>DAL</td>\n      <td>23.27</td>\n    </tr>\n    <tr>\n      <th>1</th>\n      <td>RB</td>\n      <td>Saquon Barkley (13041692)</td>\n      <td>Saquon Barkley</td>\n      <td>13041692</td>\n      <td>RB/FLEX</td>\n      <td>9000</td>\n      <td>NYG@DAL 09/08/2019 04:25PM ET</td>\n      <td>NYG</td>\n      <td>25.42</td>\n    </tr>\n  </tbody>\n</table>\n</div>",
            "text/plain": "  Position                   Name + ID             Name        ID  \\\n0       RB  Ezekiel Elliott (13041144)  Ezekiel Elliott  13041144   \n1       RB   Saquon Barkley (13041692)   Saquon Barkley  13041692   \n\n  Roster Position  Salary                      Game Info TeamAbbrev  \\\n0         RB/FLEX    9200  NYG@DAL 09/08/2019 04:25PM ET        DAL   \n1         RB/FLEX    9000  NYG@DAL 09/08/2019 04:25PM ET        NYG   \n\n   AvgPointsPerGame  \n0             23.27  \n1             25.42  "
          },
          "metadata": {}
        }
      ]
    },
    {
      "metadata": {
        "trusted": true
      },
      "cell_type": "code",
      "source": "df_dk.Name = df_dk.Name.str.rstrip()",
      "execution_count": 86,
      "outputs": []
    },
    {
      "metadata": {
        "trusted": true
      },
      "cell_type": "code",
      "source": "# players = ['Kirk Cousins','Matt Ryan','Todd Gurley II','Devin Singletary','Kenny Golladay','Julio Jones',\n#           'Adam Thielen','Stefon Diggs','Brandin Cooks','Robert Woods','Devonta Freeman','Ezekiel Elliot',\n#           'Saquon Barkley','Christian McCaffrey','David Johnson','Kyle Rudolph','Austin Hooper','Damien Williams']\n\n# df = pd.concat([df_dk[df_dk.Name.isin(players)],df_dk[df_dk.Position=='DST']])\n# df",
      "execution_count": 87,
      "outputs": []
    },
    {
      "metadata": {},
      "cell_type": "markdown",
      "source": "### Pairs to swap out:\n- Thielen or Diggs\n- Gurley or David Johnson\n- Cooks or Robert Woods\n- Barkley or McCaffrey or Zeke\n- Goodwin or Samuel (4k)\n\n"
    },
    {
      "metadata": {},
      "cell_type": "markdown",
      "source": "Build 16 teams with Cousins, [Gurley or DJ], Singletary, Golladay, Julio, [Thielen or Diggs], Rudolph, [Cooks or Woods],[MIA or CIN]"
    },
    {
      "metadata": {
        "trusted": true
      },
      "cell_type": "code",
      "source": "a = [1,2,3]\nx,y,z = a\nprint(x,y,z)",
      "execution_count": 88,
      "outputs": [
        {
          "output_type": "stream",
          "text": "1 2 3\n",
          "name": "stdout"
        }
      ]
    },
    {
      "metadata": {
        "trusted": true
      },
      "cell_type": "code",
      "source": "def add_teams(df,team_list):\n    num_new = 0\n    q_list,r1_list,r2_list,w1_list,w2_list,w3_list,t_list,f_list,d_list = team_list\n    for q in q_list:\n        q_name = df_dk[df_dk.Name==q]['Name + ID'].iloc[0]\n        for r1 in r1_list:\n            r1_name = df_dk[df_dk.Name==r1]['Name + ID'].iloc[0]\n            for r2 in r2_list:\n                r2_name = df_dk[df_dk.Name==r2]['Name + ID'].iloc[0]\n                for w1 in w1_list:\n                    w1_name = df_dk[df_dk.Name==w1]['Name + ID'].iloc[0]\n                    for w2 in w2_list:\n                        w2_name = df_dk[df_dk.Name==w2]['Name + ID'].iloc[0]\n                        for w3 in w3_list:\n                            w3_name = df_dk[df_dk.Name==w3]['Name + ID'].iloc[0]\n                            for t in t_list:\n                                t_name = df_dk[df_dk.Name==t]['Name + ID'].iloc[0]\n                                for f in f_list:\n                                    f_name = df_dk[df_dk.Name==f]['Name + ID'].iloc[0]\n                                    for d in d_list:\n                                        d_name = df_dk[df_dk.Name==d]['Name + ID'].iloc[0]\n                                        team = [q_name,r1_name,r2_name,w1_name,w2_name,\n                                                w3_name,t_name,f_name,d_name]\n                                        sal = df_dk[df_dk['Name + ID'].isin(team)].Salary.sum()\n                                        if sal <= 50000:\n                                            num_new += 1\n                                            df.loc[len(df)] = team\n                                        else:\n                                            print('Exceeds Salary:',team)\n    print('Added {} teams'.format(num_new))\n    return df\n",
      "execution_count": 89,
      "outputs": []
    },
    {
      "metadata": {
        "trusted": true
      },
      "cell_type": "code",
      "source": "df_teams = pd.DataFrame(columns=['QB','RB1','RB2','WR1','WR2','WR3','TE','FLEX','DST'])\ndf_teams",
      "execution_count": 90,
      "outputs": [
        {
          "output_type": "execute_result",
          "execution_count": 90,
          "data": {
            "text/html": "<div>\n<style scoped>\n    .dataframe tbody tr th:only-of-type {\n        vertical-align: middle;\n    }\n\n    .dataframe tbody tr th {\n        vertical-align: top;\n    }\n\n    .dataframe thead th {\n        text-align: right;\n    }\n</style>\n<table border=\"1\" class=\"dataframe\">\n  <thead>\n    <tr style=\"text-align: right;\">\n      <th></th>\n      <th>QB</th>\n      <th>RB1</th>\n      <th>RB2</th>\n      <th>WR1</th>\n      <th>WR2</th>\n      <th>WR3</th>\n      <th>TE</th>\n      <th>FLEX</th>\n      <th>DST</th>\n    </tr>\n  </thead>\n  <tbody>\n  </tbody>\n</table>\n</div>",
            "text/plain": "Empty DataFrame\nColumns: [QB, RB1, RB2, WR1, WR2, WR3, TE, FLEX, DST]\nIndex: []"
          },
          "metadata": {}
        }
      ]
    },
    {
      "metadata": {
        "trusted": true
      },
      "cell_type": "code",
      "source": "q_list = ['Kirk Cousins']\nr1_list = ['Devonta Freeman']\nr2_list = ['Christian McCaffrey']\nw1_list = ['Brandin Cooks','Robert Woods']\nw2_list = ['Deebo Samuel','Marquise Goodwin']\nw3_list = ['Adam Thielen']\nt_list = ['Kyle Rudolph']\nf_list = ['Nick Chubb','Kenny Golladay']\nd_list = ['Seahawks','Chargers']\nteam_list = [q_list,r1_list,r2_list,w1_list,w2_list,w3_list,t_list,f_list,d_list]\ndf_teams = add_teams(df_teams,team_list)\ndf_teams.iloc[np.r_[0:2,-2:0]]",
      "execution_count": 91,
      "outputs": [
        {
          "output_type": "stream",
          "text": "Added 16 teams\n",
          "name": "stdout"
        },
        {
          "output_type": "execute_result",
          "execution_count": 91,
          "data": {
            "text/html": "<div>\n<style scoped>\n    .dataframe tbody tr th:only-of-type {\n        vertical-align: middle;\n    }\n\n    .dataframe tbody tr th {\n        vertical-align: top;\n    }\n\n    .dataframe thead th {\n        text-align: right;\n    }\n</style>\n<table border=\"1\" class=\"dataframe\">\n  <thead>\n    <tr style=\"text-align: right;\">\n      <th></th>\n      <th>QB</th>\n      <th>RB1</th>\n      <th>RB2</th>\n      <th>WR1</th>\n      <th>WR2</th>\n      <th>WR3</th>\n      <th>TE</th>\n      <th>FLEX</th>\n      <th>DST</th>\n    </tr>\n  </thead>\n  <tbody>\n    <tr>\n      <th>0</th>\n      <td>Kirk Cousins (13040669)</td>\n      <td>Devonta Freeman (13040871)</td>\n      <td>Christian McCaffrey (13041406)</td>\n      <td>Brandin Cooks (13040951)</td>\n      <td>Deebo Samuel (13041475)</td>\n      <td>Adam Thielen (13041159)</td>\n      <td>Kyle Rudolph (13040720)</td>\n      <td>Nick Chubb (13041370)</td>\n      <td>Seahawks  (13040584)</td>\n    </tr>\n    <tr>\n      <th>1</th>\n      <td>Kirk Cousins (13040669)</td>\n      <td>Devonta Freeman (13040871)</td>\n      <td>Christian McCaffrey (13041406)</td>\n      <td>Brandin Cooks (13040951)</td>\n      <td>Deebo Samuel (13041475)</td>\n      <td>Adam Thielen (13041159)</td>\n      <td>Kyle Rudolph (13040720)</td>\n      <td>Nick Chubb (13041370)</td>\n      <td>Chargers  (13040582)</td>\n    </tr>\n    <tr>\n      <th>14</th>\n      <td>Kirk Cousins (13040669)</td>\n      <td>Devonta Freeman (13040871)</td>\n      <td>Christian McCaffrey (13041406)</td>\n      <td>Robert Woods (13040821)</td>\n      <td>Marquise Goodwin (13040750)</td>\n      <td>Adam Thielen (13041159)</td>\n      <td>Kyle Rudolph (13040720)</td>\n      <td>Kenny Golladay (13041093)</td>\n      <td>Seahawks  (13040584)</td>\n    </tr>\n    <tr>\n      <th>15</th>\n      <td>Kirk Cousins (13040669)</td>\n      <td>Devonta Freeman (13040871)</td>\n      <td>Christian McCaffrey (13041406)</td>\n      <td>Robert Woods (13040821)</td>\n      <td>Marquise Goodwin (13040750)</td>\n      <td>Adam Thielen (13041159)</td>\n      <td>Kyle Rudolph (13040720)</td>\n      <td>Kenny Golladay (13041093)</td>\n      <td>Chargers  (13040582)</td>\n    </tr>\n  </tbody>\n</table>\n</div>",
            "text/plain": "                         QB                         RB1  \\\n0   Kirk Cousins (13040669)  Devonta Freeman (13040871)   \n1   Kirk Cousins (13040669)  Devonta Freeman (13040871)   \n14  Kirk Cousins (13040669)  Devonta Freeman (13040871)   \n15  Kirk Cousins (13040669)  Devonta Freeman (13040871)   \n\n                               RB2                       WR1  \\\n0   Christian McCaffrey (13041406)  Brandin Cooks (13040951)   \n1   Christian McCaffrey (13041406)  Brandin Cooks (13040951)   \n14  Christian McCaffrey (13041406)   Robert Woods (13040821)   \n15  Christian McCaffrey (13041406)   Robert Woods (13040821)   \n\n                            WR2                      WR3  \\\n0       Deebo Samuel (13041475)  Adam Thielen (13041159)   \n1       Deebo Samuel (13041475)  Adam Thielen (13041159)   \n14  Marquise Goodwin (13040750)  Adam Thielen (13041159)   \n15  Marquise Goodwin (13040750)  Adam Thielen (13041159)   \n\n                         TE                       FLEX                   DST  \n0   Kyle Rudolph (13040720)      Nick Chubb (13041370)  Seahawks  (13040584)  \n1   Kyle Rudolph (13040720)      Nick Chubb (13041370)  Chargers  (13040582)  \n14  Kyle Rudolph (13040720)  Kenny Golladay (13041093)  Seahawks  (13040584)  \n15  Kyle Rudolph (13040720)  Kenny Golladay (13041093)  Chargers  (13040582)  "
          },
          "metadata": {}
        }
      ]
    },
    {
      "metadata": {
        "trusted": true
      },
      "cell_type": "code",
      "source": "q_list = ['Kirk Cousins']\nr1_list = ['Devonta Freeman']\nr2_list = ['Saquon Barkley']\nw1_list = ['Brandin Cooks','Robert Woods']\nw2_list = ['Marquise Goodwin','Deebo Samuel']\nw3_list = ['Adam Thielen']\nt_list = ['Kyle Rudolph']\nf_list = ['Kenny Golladay']\nd_list = ['Seahawks']\nteam_list = [q_list,r1_list,r2_list,w1_list,w2_list,w3_list,t_list,f_list,d_list]\ndf_teams = add_teams(df_teams,team_list)\ndf_teams.tail(2)",
      "execution_count": 92,
      "outputs": [
        {
          "output_type": "stream",
          "text": "Added 4 teams\n",
          "name": "stdout"
        },
        {
          "output_type": "execute_result",
          "execution_count": 92,
          "data": {
            "text/html": "<div>\n<style scoped>\n    .dataframe tbody tr th:only-of-type {\n        vertical-align: middle;\n    }\n\n    .dataframe tbody tr th {\n        vertical-align: top;\n    }\n\n    .dataframe thead th {\n        text-align: right;\n    }\n</style>\n<table border=\"1\" class=\"dataframe\">\n  <thead>\n    <tr style=\"text-align: right;\">\n      <th></th>\n      <th>QB</th>\n      <th>RB1</th>\n      <th>RB2</th>\n      <th>WR1</th>\n      <th>WR2</th>\n      <th>WR3</th>\n      <th>TE</th>\n      <th>FLEX</th>\n      <th>DST</th>\n    </tr>\n  </thead>\n  <tbody>\n    <tr>\n      <th>18</th>\n      <td>Kirk Cousins (13040669)</td>\n      <td>Devonta Freeman (13040871)</td>\n      <td>Saquon Barkley (13041692)</td>\n      <td>Robert Woods (13040821)</td>\n      <td>Marquise Goodwin (13040750)</td>\n      <td>Adam Thielen (13041159)</td>\n      <td>Kyle Rudolph (13040720)</td>\n      <td>Kenny Golladay (13041093)</td>\n      <td>Seahawks  (13040584)</td>\n    </tr>\n    <tr>\n      <th>19</th>\n      <td>Kirk Cousins (13040669)</td>\n      <td>Devonta Freeman (13040871)</td>\n      <td>Saquon Barkley (13041692)</td>\n      <td>Robert Woods (13040821)</td>\n      <td>Deebo Samuel (13041475)</td>\n      <td>Adam Thielen (13041159)</td>\n      <td>Kyle Rudolph (13040720)</td>\n      <td>Kenny Golladay (13041093)</td>\n      <td>Seahawks  (13040584)</td>\n    </tr>\n  </tbody>\n</table>\n</div>",
            "text/plain": "                         QB                         RB1  \\\n18  Kirk Cousins (13040669)  Devonta Freeman (13040871)   \n19  Kirk Cousins (13040669)  Devonta Freeman (13040871)   \n\n                          RB2                      WR1  \\\n18  Saquon Barkley (13041692)  Robert Woods (13040821)   \n19  Saquon Barkley (13041692)  Robert Woods (13040821)   \n\n                            WR2                      WR3  \\\n18  Marquise Goodwin (13040750)  Adam Thielen (13041159)   \n19      Deebo Samuel (13041475)  Adam Thielen (13041159)   \n\n                         TE                       FLEX                   DST  \n18  Kyle Rudolph (13040720)  Kenny Golladay (13041093)  Seahawks  (13040584)  \n19  Kyle Rudolph (13040720)  Kenny Golladay (13041093)  Seahawks  (13040584)  "
          },
          "metadata": {}
        }
      ]
    },
    {
      "metadata": {
        "trusted": true
      },
      "cell_type": "code",
      "source": "q_list = ['Kirk Cousins']\nr1_list = ['Devonta Freeman']\nr2_list = ['Christian McCaffrey']\nw1_list = ['Kenny Golladay']\nw2_list = ['Deebo Samuel','Marquise Goodwin']\nw3_list = ['Adam Thielen']\nt_list = ['Kyle Rudolph']\nf_list = ['Todd Gurley II']\nd_list = ['Dolphins']\nteam_list = [q_list,r1_list,r2_list,w1_list,w2_list,w3_list,t_list,f_list,d_list]\ndf_teams = add_teams(df_teams,team_list)\ndf_teams.tail(2)",
      "execution_count": 93,
      "outputs": [
        {
          "output_type": "stream",
          "text": "Added 2 teams\n",
          "name": "stdout"
        },
        {
          "output_type": "execute_result",
          "execution_count": 93,
          "data": {
            "text/html": "<div>\n<style scoped>\n    .dataframe tbody tr th:only-of-type {\n        vertical-align: middle;\n    }\n\n    .dataframe tbody tr th {\n        vertical-align: top;\n    }\n\n    .dataframe thead th {\n        text-align: right;\n    }\n</style>\n<table border=\"1\" class=\"dataframe\">\n  <thead>\n    <tr style=\"text-align: right;\">\n      <th></th>\n      <th>QB</th>\n      <th>RB1</th>\n      <th>RB2</th>\n      <th>WR1</th>\n      <th>WR2</th>\n      <th>WR3</th>\n      <th>TE</th>\n      <th>FLEX</th>\n      <th>DST</th>\n    </tr>\n  </thead>\n  <tbody>\n    <tr>\n      <th>20</th>\n      <td>Kirk Cousins (13040669)</td>\n      <td>Devonta Freeman (13040871)</td>\n      <td>Christian McCaffrey (13041406)</td>\n      <td>Kenny Golladay (13041093)</td>\n      <td>Deebo Samuel (13041475)</td>\n      <td>Adam Thielen (13041159)</td>\n      <td>Kyle Rudolph (13040720)</td>\n      <td>Todd Gurley II (13041058)</td>\n      <td>Dolphins  (13040576)</td>\n    </tr>\n    <tr>\n      <th>21</th>\n      <td>Kirk Cousins (13040669)</td>\n      <td>Devonta Freeman (13040871)</td>\n      <td>Christian McCaffrey (13041406)</td>\n      <td>Kenny Golladay (13041093)</td>\n      <td>Marquise Goodwin (13040750)</td>\n      <td>Adam Thielen (13041159)</td>\n      <td>Kyle Rudolph (13040720)</td>\n      <td>Todd Gurley II (13041058)</td>\n      <td>Dolphins  (13040576)</td>\n    </tr>\n  </tbody>\n</table>\n</div>",
            "text/plain": "                         QB                         RB1  \\\n20  Kirk Cousins (13040669)  Devonta Freeman (13040871)   \n21  Kirk Cousins (13040669)  Devonta Freeman (13040871)   \n\n                               RB2                        WR1  \\\n20  Christian McCaffrey (13041406)  Kenny Golladay (13041093)   \n21  Christian McCaffrey (13041406)  Kenny Golladay (13041093)   \n\n                            WR2                      WR3  \\\n20      Deebo Samuel (13041475)  Adam Thielen (13041159)   \n21  Marquise Goodwin (13040750)  Adam Thielen (13041159)   \n\n                         TE                       FLEX                   DST  \n20  Kyle Rudolph (13040720)  Todd Gurley II (13041058)  Dolphins  (13040576)  \n21  Kyle Rudolph (13040720)  Todd Gurley II (13041058)  Dolphins  (13040576)  "
          },
          "metadata": {}
        }
      ]
    },
    {
      "metadata": {
        "trusted": true
      },
      "cell_type": "code",
      "source": "q_list = ['Kirk Cousins']\nr1_list = ['Devin Singletary']\nr2_list = ['Christian McCaffrey']\nw1_list = ['Julio Jones']\nw2_list = ['Deebo Samuel','Marquise Goodwin']\nw3_list = ['Adam Thielen']\nt_list = ['Kyle Rudolph']\nf_list = ['Todd Gurley II']\nd_list = ['Dolphins']\nteam_list = [q_list,r1_list,r2_list,w1_list,w2_list,w3_list,t_list,f_list,d_list]\ndf_teams = add_teams(df_teams,team_list)\ndf_teams.tail(2)",
      "execution_count": 94,
      "outputs": [
        {
          "output_type": "stream",
          "text": "Added 2 teams\n",
          "name": "stdout"
        },
        {
          "output_type": "execute_result",
          "execution_count": 94,
          "data": {
            "text/html": "<div>\n<style scoped>\n    .dataframe tbody tr th:only-of-type {\n        vertical-align: middle;\n    }\n\n    .dataframe tbody tr th {\n        vertical-align: top;\n    }\n\n    .dataframe thead th {\n        text-align: right;\n    }\n</style>\n<table border=\"1\" class=\"dataframe\">\n  <thead>\n    <tr style=\"text-align: right;\">\n      <th></th>\n      <th>QB</th>\n      <th>RB1</th>\n      <th>RB2</th>\n      <th>WR1</th>\n      <th>WR2</th>\n      <th>WR3</th>\n      <th>TE</th>\n      <th>FLEX</th>\n      <th>DST</th>\n    </tr>\n  </thead>\n  <tbody>\n    <tr>\n      <th>22</th>\n      <td>Kirk Cousins (13040669)</td>\n      <td>Devin Singletary (13041783)</td>\n      <td>Christian McCaffrey (13041406)</td>\n      <td>Julio Jones (13040679)</td>\n      <td>Deebo Samuel (13041475)</td>\n      <td>Adam Thielen (13041159)</td>\n      <td>Kyle Rudolph (13040720)</td>\n      <td>Todd Gurley II (13041058)</td>\n      <td>Dolphins  (13040576)</td>\n    </tr>\n    <tr>\n      <th>23</th>\n      <td>Kirk Cousins (13040669)</td>\n      <td>Devin Singletary (13041783)</td>\n      <td>Christian McCaffrey (13041406)</td>\n      <td>Julio Jones (13040679)</td>\n      <td>Marquise Goodwin (13040750)</td>\n      <td>Adam Thielen (13041159)</td>\n      <td>Kyle Rudolph (13040720)</td>\n      <td>Todd Gurley II (13041058)</td>\n      <td>Dolphins  (13040576)</td>\n    </tr>\n  </tbody>\n</table>\n</div>",
            "text/plain": "                         QB                          RB1  \\\n22  Kirk Cousins (13040669)  Devin Singletary (13041783)   \n23  Kirk Cousins (13040669)  Devin Singletary (13041783)   \n\n                               RB2                     WR1  \\\n22  Christian McCaffrey (13041406)  Julio Jones (13040679)   \n23  Christian McCaffrey (13041406)  Julio Jones (13040679)   \n\n                            WR2                      WR3  \\\n22      Deebo Samuel (13041475)  Adam Thielen (13041159)   \n23  Marquise Goodwin (13040750)  Adam Thielen (13041159)   \n\n                         TE                       FLEX                   DST  \n22  Kyle Rudolph (13040720)  Todd Gurley II (13041058)  Dolphins  (13040576)  \n23  Kyle Rudolph (13040720)  Todd Gurley II (13041058)  Dolphins  (13040576)  "
          },
          "metadata": {}
        }
      ]
    },
    {
      "metadata": {
        "trusted": true
      },
      "cell_type": "code",
      "source": "q_list = ['Carson Wentz']\nr1_list = ['Chris Thompson']\nr2_list = ['Christian McCaffrey']\nw1_list = ['Brandin Cooks','Robert Woods']\nw2_list = ['Deebo Samuel','Marquise Goodwin']\nw3_list = ['Alshon Jeffery']\nt_list = ['Zach Ertz']\nf_list = ['Kenny Golladay','Dalvin Cook','Kerryon Johnson']\nd_list = ['Seahawks']\nteam_list = [q_list,r1_list,r2_list,w1_list,w2_list,w3_list,t_list,f_list,d_list]\ndf_teams = add_teams(df_teams,team_list)\ndf_teams.tail(2)",
      "execution_count": 95,
      "outputs": [
        {
          "output_type": "stream",
          "text": "Added 12 teams\n",
          "name": "stdout"
        },
        {
          "output_type": "execute_result",
          "execution_count": 95,
          "data": {
            "text/html": "<div>\n<style scoped>\n    .dataframe tbody tr th:only-of-type {\n        vertical-align: middle;\n    }\n\n    .dataframe tbody tr th {\n        vertical-align: top;\n    }\n\n    .dataframe thead th {\n        text-align: right;\n    }\n</style>\n<table border=\"1\" class=\"dataframe\">\n  <thead>\n    <tr style=\"text-align: right;\">\n      <th></th>\n      <th>QB</th>\n      <th>RB1</th>\n      <th>RB2</th>\n      <th>WR1</th>\n      <th>WR2</th>\n      <th>WR3</th>\n      <th>TE</th>\n      <th>FLEX</th>\n      <th>DST</th>\n    </tr>\n  </thead>\n  <tbody>\n    <tr>\n      <th>34</th>\n      <td>Carson Wentz (13040977)</td>\n      <td>Chris Thompson (13040758)</td>\n      <td>Christian McCaffrey (13041406)</td>\n      <td>Robert Woods (13040821)</td>\n      <td>Marquise Goodwin (13040750)</td>\n      <td>Alshon Jeffery (13040745)</td>\n      <td>Zach Ertz (13040739)</td>\n      <td>Kenny Golladay (13041093)</td>\n      <td>Seahawks  (13040584)</td>\n    </tr>\n    <tr>\n      <th>35</th>\n      <td>Carson Wentz (13040977)</td>\n      <td>Chris Thompson (13040758)</td>\n      <td>Christian McCaffrey (13041406)</td>\n      <td>Robert Woods (13040821)</td>\n      <td>Marquise Goodwin (13040750)</td>\n      <td>Alshon Jeffery (13040745)</td>\n      <td>Zach Ertz (13040739)</td>\n      <td>Kerryon Johnson (13041675)</td>\n      <td>Seahawks  (13040584)</td>\n    </tr>\n  </tbody>\n</table>\n</div>",
            "text/plain": "                         QB                        RB1  \\\n34  Carson Wentz (13040977)  Chris Thompson (13040758)   \n35  Carson Wentz (13040977)  Chris Thompson (13040758)   \n\n                               RB2                      WR1  \\\n34  Christian McCaffrey (13041406)  Robert Woods (13040821)   \n35  Christian McCaffrey (13041406)  Robert Woods (13040821)   \n\n                            WR2                        WR3  \\\n34  Marquise Goodwin (13040750)  Alshon Jeffery (13040745)   \n35  Marquise Goodwin (13040750)  Alshon Jeffery (13040745)   \n\n                      TE                        FLEX                   DST  \n34  Zach Ertz (13040739)   Kenny Golladay (13041093)  Seahawks  (13040584)  \n35  Zach Ertz (13040739)  Kerryon Johnson (13041675)  Seahawks  (13040584)  "
          },
          "metadata": {}
        }
      ]
    },
    {
      "metadata": {
        "trusted": true
      },
      "cell_type": "code",
      "source": "q_list = ['Jimmy Garoppolo']\nr1_list = ['Dalvin Cook']\nr2_list = ['Christian McCaffrey']\nw1_list = ['Brandin Cooks','Robert Woods']\nw2_list = ['Deebo Samuel','Marquise Goodwin']\nw3_list = ['Kenny Golladay']\nt_list = ['George Kittle']\nf_list = ['Peyton Barber']\nd_list = ['Dolphins']\nteam_list = [q_list,r1_list,r2_list,w1_list,w2_list,w3_list,t_list,f_list,d_list]\ndf_teams = add_teams(df_teams,team_list)\ndf_teams.tail(2)",
      "execution_count": 96,
      "outputs": [
        {
          "output_type": "stream",
          "text": "Exceeds Salary: ['Jimmy Garoppolo (13040818)', 'Dalvin Cook (13041387)', 'Christian McCaffrey (13041406)', 'Brandin Cooks (13040951)', 'Deebo Samuel (13041475)', 'Kenny Golladay (13041093)', 'George Kittle (13041161)', 'Peyton Barber (13041214)', 'Dolphins  (13040576)']\nExceeds Salary: ['Jimmy Garoppolo (13040818)', 'Dalvin Cook (13041387)', 'Christian McCaffrey (13041406)', 'Brandin Cooks (13040951)', 'Marquise Goodwin (13040750)', 'Kenny Golladay (13041093)', 'George Kittle (13041161)', 'Peyton Barber (13041214)', 'Dolphins  (13040576)']\nAdded 2 teams\n",
          "name": "stdout"
        },
        {
          "output_type": "execute_result",
          "execution_count": 96,
          "data": {
            "text/html": "<div>\n<style scoped>\n    .dataframe tbody tr th:only-of-type {\n        vertical-align: middle;\n    }\n\n    .dataframe tbody tr th {\n        vertical-align: top;\n    }\n\n    .dataframe thead th {\n        text-align: right;\n    }\n</style>\n<table border=\"1\" class=\"dataframe\">\n  <thead>\n    <tr style=\"text-align: right;\">\n      <th></th>\n      <th>QB</th>\n      <th>RB1</th>\n      <th>RB2</th>\n      <th>WR1</th>\n      <th>WR2</th>\n      <th>WR3</th>\n      <th>TE</th>\n      <th>FLEX</th>\n      <th>DST</th>\n    </tr>\n  </thead>\n  <tbody>\n    <tr>\n      <th>36</th>\n      <td>Jimmy Garoppolo (13040818)</td>\n      <td>Dalvin Cook (13041387)</td>\n      <td>Christian McCaffrey (13041406)</td>\n      <td>Robert Woods (13040821)</td>\n      <td>Deebo Samuel (13041475)</td>\n      <td>Kenny Golladay (13041093)</td>\n      <td>George Kittle (13041161)</td>\n      <td>Peyton Barber (13041214)</td>\n      <td>Dolphins  (13040576)</td>\n    </tr>\n    <tr>\n      <th>37</th>\n      <td>Jimmy Garoppolo (13040818)</td>\n      <td>Dalvin Cook (13041387)</td>\n      <td>Christian McCaffrey (13041406)</td>\n      <td>Robert Woods (13040821)</td>\n      <td>Marquise Goodwin (13040750)</td>\n      <td>Kenny Golladay (13041093)</td>\n      <td>George Kittle (13041161)</td>\n      <td>Peyton Barber (13041214)</td>\n      <td>Dolphins  (13040576)</td>\n    </tr>\n  </tbody>\n</table>\n</div>",
            "text/plain": "                            QB                     RB1  \\\n36  Jimmy Garoppolo (13040818)  Dalvin Cook (13041387)   \n37  Jimmy Garoppolo (13040818)  Dalvin Cook (13041387)   \n\n                               RB2                      WR1  \\\n36  Christian McCaffrey (13041406)  Robert Woods (13040821)   \n37  Christian McCaffrey (13041406)  Robert Woods (13040821)   \n\n                            WR2                        WR3  \\\n36      Deebo Samuel (13041475)  Kenny Golladay (13041093)   \n37  Marquise Goodwin (13040750)  Kenny Golladay (13041093)   \n\n                          TE                      FLEX                   DST  \n36  George Kittle (13041161)  Peyton Barber (13041214)  Dolphins  (13040576)  \n37  George Kittle (13041161)  Peyton Barber (13041214)  Dolphins  (13040576)  "
          },
          "metadata": {}
        }
      ]
    },
    {
      "metadata": {
        "trusted": true
      },
      "cell_type": "code",
      "source": "q_list = ['Jimmy Garoppolo']\nr1_list = ['Dalvin Cook']\nr2_list = ['Todd Gurley II']\nw1_list = ['Chris Godwin']\nw2_list = ['Deebo Samuel','Marquise Goodwin']\nw3_list = ['Kenny Golladay']\nt_list = ['George Kittle']\nf_list = ['Devin Singletary']\nd_list = ['Seahawks']\nteam_list = [q_list,r1_list,r2_list,w1_list,w2_list,w3_list,t_list,f_list,d_list]\ndf_teams = add_teams(df_teams,team_list)\ndf_teams.tail(2)",
      "execution_count": 97,
      "outputs": [
        {
          "output_type": "stream",
          "text": "Added 2 teams\n",
          "name": "stdout"
        },
        {
          "output_type": "execute_result",
          "execution_count": 97,
          "data": {
            "text/html": "<div>\n<style scoped>\n    .dataframe tbody tr th:only-of-type {\n        vertical-align: middle;\n    }\n\n    .dataframe tbody tr th {\n        vertical-align: top;\n    }\n\n    .dataframe thead th {\n        text-align: right;\n    }\n</style>\n<table border=\"1\" class=\"dataframe\">\n  <thead>\n    <tr style=\"text-align: right;\">\n      <th></th>\n      <th>QB</th>\n      <th>RB1</th>\n      <th>RB2</th>\n      <th>WR1</th>\n      <th>WR2</th>\n      <th>WR3</th>\n      <th>TE</th>\n      <th>FLEX</th>\n      <th>DST</th>\n    </tr>\n  </thead>\n  <tbody>\n    <tr>\n      <th>38</th>\n      <td>Jimmy Garoppolo (13040818)</td>\n      <td>Dalvin Cook (13041387)</td>\n      <td>Todd Gurley II (13041058)</td>\n      <td>Chris Godwin (13041463)</td>\n      <td>Deebo Samuel (13041475)</td>\n      <td>Kenny Golladay (13041093)</td>\n      <td>George Kittle (13041161)</td>\n      <td>Devin Singletary (13041783)</td>\n      <td>Seahawks  (13040584)</td>\n    </tr>\n    <tr>\n      <th>39</th>\n      <td>Jimmy Garoppolo (13040818)</td>\n      <td>Dalvin Cook (13041387)</td>\n      <td>Todd Gurley II (13041058)</td>\n      <td>Chris Godwin (13041463)</td>\n      <td>Marquise Goodwin (13040750)</td>\n      <td>Kenny Golladay (13041093)</td>\n      <td>George Kittle (13041161)</td>\n      <td>Devin Singletary (13041783)</td>\n      <td>Seahawks  (13040584)</td>\n    </tr>\n  </tbody>\n</table>\n</div>",
            "text/plain": "                            QB                     RB1  \\\n38  Jimmy Garoppolo (13040818)  Dalvin Cook (13041387)   \n39  Jimmy Garoppolo (13040818)  Dalvin Cook (13041387)   \n\n                          RB2                      WR1  \\\n38  Todd Gurley II (13041058)  Chris Godwin (13041463)   \n39  Todd Gurley II (13041058)  Chris Godwin (13041463)   \n\n                            WR2                        WR3  \\\n38      Deebo Samuel (13041475)  Kenny Golladay (13041093)   \n39  Marquise Goodwin (13040750)  Kenny Golladay (13041093)   \n\n                          TE                         FLEX  \\\n38  George Kittle (13041161)  Devin Singletary (13041783)   \n39  George Kittle (13041161)  Devin Singletary (13041783)   \n\n                     DST  \n38  Seahawks  (13040584)  \n39  Seahawks  (13040584)  "
          },
          "metadata": {}
        }
      ]
    },
    {
      "metadata": {
        "trusted": true
      },
      "cell_type": "code",
      "source": "q_list = ['Jimmy Garoppolo']\nr1_list = ['Dalvin Cook']\nr2_list = ['Kerryon Johnson']\nw1_list = ['Mike Evans']\nw2_list = ['Deebo Samuel','Marquise Goodwin']\nw3_list = ['Julio Jones']\nt_list = ['George Kittle']\nf_list = ['Devin Singletary']\nd_list = ['Dolphins']\nteam_list = [q_list,r1_list,r2_list,w1_list,w2_list,w3_list,t_list,f_list,d_list]\ndf_teams = add_teams(df_teams,team_list)\ndf_teams.tail(2)",
      "execution_count": 98,
      "outputs": [
        {
          "output_type": "stream",
          "text": "Added 2 teams\n",
          "name": "stdout"
        },
        {
          "output_type": "execute_result",
          "execution_count": 98,
          "data": {
            "text/html": "<div>\n<style scoped>\n    .dataframe tbody tr th:only-of-type {\n        vertical-align: middle;\n    }\n\n    .dataframe tbody tr th {\n        vertical-align: top;\n    }\n\n    .dataframe thead th {\n        text-align: right;\n    }\n</style>\n<table border=\"1\" class=\"dataframe\">\n  <thead>\n    <tr style=\"text-align: right;\">\n      <th></th>\n      <th>QB</th>\n      <th>RB1</th>\n      <th>RB2</th>\n      <th>WR1</th>\n      <th>WR2</th>\n      <th>WR3</th>\n      <th>TE</th>\n      <th>FLEX</th>\n      <th>DST</th>\n    </tr>\n  </thead>\n  <tbody>\n    <tr>\n      <th>40</th>\n      <td>Jimmy Garoppolo (13040818)</td>\n      <td>Dalvin Cook (13041387)</td>\n      <td>Kerryon Johnson (13041675)</td>\n      <td>Mike Evans (13040877)</td>\n      <td>Deebo Samuel (13041475)</td>\n      <td>Julio Jones (13040679)</td>\n      <td>George Kittle (13041161)</td>\n      <td>Devin Singletary (13041783)</td>\n      <td>Dolphins  (13040576)</td>\n    </tr>\n    <tr>\n      <th>41</th>\n      <td>Jimmy Garoppolo (13040818)</td>\n      <td>Dalvin Cook (13041387)</td>\n      <td>Kerryon Johnson (13041675)</td>\n      <td>Mike Evans (13040877)</td>\n      <td>Marquise Goodwin (13040750)</td>\n      <td>Julio Jones (13040679)</td>\n      <td>George Kittle (13041161)</td>\n      <td>Devin Singletary (13041783)</td>\n      <td>Dolphins  (13040576)</td>\n    </tr>\n  </tbody>\n</table>\n</div>",
            "text/plain": "                            QB                     RB1  \\\n40  Jimmy Garoppolo (13040818)  Dalvin Cook (13041387)   \n41  Jimmy Garoppolo (13040818)  Dalvin Cook (13041387)   \n\n                           RB2                    WR1  \\\n40  Kerryon Johnson (13041675)  Mike Evans (13040877)   \n41  Kerryon Johnson (13041675)  Mike Evans (13040877)   \n\n                            WR2                     WR3  \\\n40      Deebo Samuel (13041475)  Julio Jones (13040679)   \n41  Marquise Goodwin (13040750)  Julio Jones (13040679)   \n\n                          TE                         FLEX  \\\n40  George Kittle (13041161)  Devin Singletary (13041783)   \n41  George Kittle (13041161)  Devin Singletary (13041783)   \n\n                     DST  \n40  Dolphins  (13040576)  \n41  Dolphins  (13040576)  "
          },
          "metadata": {}
        }
      ]
    },
    {
      "metadata": {
        "trusted": true
      },
      "cell_type": "code",
      "source": "",
      "execution_count": null,
      "outputs": []
    },
    {
      "metadata": {
        "trusted": true
      },
      "cell_type": "code",
      "source": "q_list = ['Cam Newton']\nr1_list = ['Dalvin Cook']\nr2_list = ['Kerryon Johnson']\nw1_list = ['Mike Evans']\nw2_list = ['Deebo Samuel','Marquise Goodwin']\nw3_list = ['Julio Jones']\nt_list = ['George Kittle']\nf_list = ['Devin Singletary']\nd_list = ['Dolphins']\nteam_list = [q_list,r1_list,r2_list,w1_list,w2_list,w3_list,t_list,f_list,d_list]\ndf_teams = add_teams(df_teams,team_list)\ndf_teams.tail(2)",
      "execution_count": 98,
      "outputs": [
        {
          "output_type": "stream",
          "text": "Added 2 teams\n",
          "name": "stdout"
        },
        {
          "output_type": "execute_result",
          "execution_count": 98,
          "data": {
            "text/html": "<div>\n<style scoped>\n    .dataframe tbody tr th:only-of-type {\n        vertical-align: middle;\n    }\n\n    .dataframe tbody tr th {\n        vertical-align: top;\n    }\n\n    .dataframe thead th {\n        text-align: right;\n    }\n</style>\n<table border=\"1\" class=\"dataframe\">\n  <thead>\n    <tr style=\"text-align: right;\">\n      <th></th>\n      <th>QB</th>\n      <th>RB1</th>\n      <th>RB2</th>\n      <th>WR1</th>\n      <th>WR2</th>\n      <th>WR3</th>\n      <th>TE</th>\n      <th>FLEX</th>\n      <th>DST</th>\n    </tr>\n  </thead>\n  <tbody>\n    <tr>\n      <th>40</th>\n      <td>Jimmy Garoppolo (13040818)</td>\n      <td>Dalvin Cook (13041387)</td>\n      <td>Kerryon Johnson (13041675)</td>\n      <td>Mike Evans (13040877)</td>\n      <td>Deebo Samuel (13041475)</td>\n      <td>Julio Jones (13040679)</td>\n      <td>George Kittle (13041161)</td>\n      <td>Devin Singletary (13041783)</td>\n      <td>Dolphins  (13040576)</td>\n    </tr>\n    <tr>\n      <th>41</th>\n      <td>Jimmy Garoppolo (13040818)</td>\n      <td>Dalvin Cook (13041387)</td>\n      <td>Kerryon Johnson (13041675)</td>\n      <td>Mike Evans (13040877)</td>\n      <td>Marquise Goodwin (13040750)</td>\n      <td>Julio Jones (13040679)</td>\n      <td>George Kittle (13041161)</td>\n      <td>Devin Singletary (13041783)</td>\n      <td>Dolphins  (13040576)</td>\n    </tr>\n  </tbody>\n</table>\n</div>",
            "text/plain": "                            QB                     RB1  \\\n40  Jimmy Garoppolo (13040818)  Dalvin Cook (13041387)   \n41  Jimmy Garoppolo (13040818)  Dalvin Cook (13041387)   \n\n                           RB2                    WR1  \\\n40  Kerryon Johnson (13041675)  Mike Evans (13040877)   \n41  Kerryon Johnson (13041675)  Mike Evans (13040877)   \n\n                            WR2                     WR3  \\\n40      Deebo Samuel (13041475)  Julio Jones (13040679)   \n41  Marquise Goodwin (13040750)  Julio Jones (13040679)   \n\n                          TE                         FLEX  \\\n40  George Kittle (13041161)  Devin Singletary (13041783)   \n41  George Kittle (13041161)  Devin Singletary (13041783)   \n\n                     DST  \n40  Dolphins  (13040576)  \n41  Dolphins  (13040576)  "
          },
          "metadata": {}
        }
      ]
    },
    {
      "metadata": {
        "trusted": true
      },
      "cell_type": "code",
      "source": "",
      "execution_count": null,
      "outputs": []
    },
    {
      "metadata": {
        "trusted": true
      },
      "cell_type": "code",
      "source": "len(df_teams)",
      "execution_count": 99,
      "outputs": [
        {
          "output_type": "execute_result",
          "execution_count": 99,
          "data": {
            "text/plain": "42"
          },
          "metadata": {}
        }
      ]
    },
    {
      "metadata": {
        "trusted": true
      },
      "cell_type": "code",
      "source": "df_teams.to_csv('Lineups/nfl_lineups.csv')",
      "execution_count": 100,
      "outputs": []
    },
    {
      "metadata": {
        "trusted": true
      },
      "cell_type": "code",
      "source": "",
      "execution_count": null,
      "outputs": []
    }
  ],
  "metadata": {
    "kernelspec": {
      "name": "python36",
      "display_name": "Python 3.6",
      "language": "python"
    },
    "language_info": {
      "mimetype": "text/x-python",
      "nbconvert_exporter": "python",
      "name": "python",
      "pygments_lexer": "ipython3",
      "version": "3.6.6",
      "file_extension": ".py",
      "codemirror_mode": {
        "version": 3,
        "name": "ipython"
      }
    }
  },
  "nbformat": 4,
  "nbformat_minor": 1
}