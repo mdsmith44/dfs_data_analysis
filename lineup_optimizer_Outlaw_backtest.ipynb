{
  "cells": [
    {
      "metadata": {
        "trusted": true
      },
      "cell_type": "code",
      "source": "import pandas as pd\nimport numpy as np\nfrom difflib import get_close_matches",
      "execution_count": 1,
      "outputs": []
    },
    {
      "metadata": {
        "trusted": true,
        "scrolled": true
      },
      "cell_type": "code",
      "source": "!pip install cvxpy",
      "execution_count": 2,
      "outputs": [
        {
          "output_type": "stream",
          "text": "Collecting cvxpy\n\u001b[?25l  Downloading https://files.pythonhosted.org/packages/fa/89/6e4f99b36ce2d002f2792529b130fd8ed5d7004c92ce8ae7d56496f51426/cvxpy-1.1.1.tar.gz (990kB)\n\u001b[K     |████████████████████████████████| 993kB 1.6MB/s eta 0:00:01     |████████████                    | 368kB 1.6MB/s eta 0:00:01\n\u001b[?25h  Installing build dependencies ... \u001b[?25ldone\n\u001b[?25h  Getting requirements to build wheel ... \u001b[?25ldone\n\u001b[?25h    Preparing wheel metadata ... \u001b[?25ldone\n\u001b[33mWARNING: Retrying (Retry(total=4, connect=None, read=None, redirect=None, status=None)) after connection broken by 'ReadTimeoutError(\"HTTPSConnectionPool(host='pypi.org', port=443): Read timed out. (read timeout=15)\",)': /simple/scs/\u001b[0m\n\u001b[?25hCollecting scs>=1.1.3\n\u001b[33m  WARNING: Retrying (Retry(total=4, connect=None, read=None, redirect=None, status=None)) after connection broken by 'ReadTimeoutError(\"HTTPSConnectionPool(host='files.pythonhosted.org', port=443): Read timed out. (read timeout=15)\",)': /packages/1a/72/33be87cce255d4e9dbbfef547e9fd6ec7ee94d0d0910bb2b13badea3fbbe/scs-2.1.2.tar.gz\u001b[0m\n\u001b[?25l  Downloading https://files.pythonhosted.org/packages/1a/72/33be87cce255d4e9dbbfef547e9fd6ec7ee94d0d0910bb2b13badea3fbbe/scs-2.1.2.tar.gz (3.5MB)\n\u001b[K     |████████████████████████████████| 3.6MB 3.4MB/s eta 0:00:01     |██████████████████████          | 2.4MB 3.4MB/s eta 0:00:01\n\u001b[?25hRequirement already satisfied: scipy>=1.1.0 in /home/nbuser/anaconda3_501/lib/python3.6/site-packages (from cvxpy) (1.1.0)\nRequirement already satisfied: numpy>=1.15 in /home/nbuser/anaconda3_501/lib/python3.6/site-packages (from cvxpy) (1.16.2)\nCollecting ecos>=2\n\u001b[?25l  Downloading https://files.pythonhosted.org/packages/55/ed/d131ff51f3a8f73420eb1191345eb49f269f23cadef515172e356018cde3/ecos-2.0.7.post1-cp36-cp36m-manylinux1_x86_64.whl (147kB)\n\u001b[K     |████████████████████████████████| 153kB 3.4MB/s eta 0:00:01\n\u001b[?25hCollecting osqp>=0.4.1\n\u001b[?25l  Downloading https://files.pythonhosted.org/packages/8c/9f/0fc0d7ca7e94829e7257c4b18ac5009253f0466232689325b9e0c766d1c9/osqp-0.6.1-cp36-cp36m-manylinux2010_x86_64.whl (210kB)\n\u001b[K     |████████████████████████████████| 215kB 4.5MB/s eta 0:00:01\n\u001b[?25hRequirement already satisfied: future in /home/nbuser/anaconda3_501/lib/python3.6/site-packages (from osqp>=0.4.1->cvxpy) (0.16.0)\nBuilding wheels for collected packages: cvxpy\n  Building wheel for cvxpy (PEP 517) ... \u001b[?25ldone\n\u001b[?25h  Created wheel for cvxpy: filename=cvxpy-1.1.1-cp36-cp36m-linux_x86_64.whl size=2498588 sha256=c1fe4a6dc2759ca4fe78f5be3ccf8998207fdf9599a334bb1454cfb34461c05d\n  Stored in directory: /home/nbuser/.cache/pip/wheels/06/db/59/b5af93d86703e0903b9b94ccc300ac70daf9d273f13e6c0350\nSuccessfully built cvxpy\nBuilding wheels for collected packages: scs\n  Building wheel for scs (setup.py) ... \u001b[?25ldone\n\u001b[?25h  Created wheel for scs: filename=scs-2.1.2-cp36-cp36m-linux_x86_64.whl size=376094 sha256=b6ff74ce7aabb40d81ba8319a05fd77c5d3ebd725d44278f3f97feb13b02281c\n  Stored in directory: /home/nbuser/.cache/pip/wheels/df/d0/79/37ea880586da03c620ca9ecd5e42adbd86bc6ea84363965c5f\nSuccessfully built scs\nInstalling collected packages: scs, ecos, osqp, cvxpy\nSuccessfully installed cvxpy-1.1.1 ecos-2.0.7.post1 osqp-0.6.1 scs-2.1.2\n\u001b[33mWARNING: You are using pip version 19.3.1; however, version 20.1.1 is available.\nYou should consider upgrading via the 'pip install --upgrade pip' command.\u001b[0m\n",
          "name": "stdout"
        }
      ]
    },
    {
      "metadata": {
        "trusted": true
      },
      "cell_type": "code",
      "source": "import cvxpy as cp",
      "execution_count": 3,
      "outputs": []
    },
    {
      "metadata": {
        "trusted": true
      },
      "cell_type": "code",
      "source": "#First, need a function that picks elements from list L with probabilies probs\ndef pick_element_per_probs(L,probs):\n    #make sure probs are normalized\n    probs = [x / sum(probs) for x in probs]\n    #pick a random number\n    r = np.random.random()\n    c = 0 #cumulative sum\n    for i, prob in enumerate(probs):\n        if r < prob + c:\n            return L[i]\n        c += prob",
      "execution_count": 4,
      "outputs": []
    },
    {
      "metadata": {
        "heading_collapsed": true
      },
      "cell_type": "markdown",
      "source": "# Examine wave split"
    },
    {
      "metadata": {
        "trusted": true,
        "hidden": true
      },
      "cell_type": "code",
      "source": "df1=pd.read_csv('Data/outlaw_results_20200512.csv')[['Player','FPTS']]\ndf1 = df1.dropna()\ndf1.iloc[np.r_[0:2,-2:0]]",
      "execution_count": 5,
      "outputs": [
        {
          "output_type": "execute_result",
          "execution_count": 5,
          "data": {
            "text/html": "<div>\n<style scoped>\n    .dataframe tbody tr th:only-of-type {\n        vertical-align: middle;\n    }\n\n    .dataframe tbody tr th {\n        vertical-align: top;\n    }\n\n    .dataframe thead th {\n        text-align: right;\n    }\n</style>\n<table border=\"1\" class=\"dataframe\">\n  <thead>\n    <tr style=\"text-align: right;\">\n      <th></th>\n      <th>Player</th>\n      <th>FPTS</th>\n    </tr>\n  </thead>\n  <tbody>\n    <tr>\n      <th>0</th>\n      <td>Joel Dahmen</td>\n      <td>50.15</td>\n    </tr>\n    <tr>\n      <th>1</th>\n      <td>Nate Lashley</td>\n      <td>67.00</td>\n    </tr>\n    <tr>\n      <th>160</th>\n      <td>Quinn Carbol</td>\n      <td>7.20</td>\n    </tr>\n    <tr>\n      <th>161</th>\n      <td>Marcus Bantel</td>\n      <td>5.10</td>\n    </tr>\n  </tbody>\n</table>\n</div>",
            "text/plain": "            Player   FPTS\n0      Joel Dahmen  50.15\n1     Nate Lashley  67.00\n160   Quinn Carbol   7.20\n161  Marcus Bantel   5.10"
          },
          "metadata": {}
        }
      ]
    },
    {
      "metadata": {
        "trusted": true,
        "hidden": true
      },
      "cell_type": "code",
      "source": "df2=pd.read_csv('Data/outlaw_results_20200513.csv')[['Player','FPTS']]\ndf2 = df2.dropna()\ndf2.iloc[np.r_[0:2,-2:0]]",
      "execution_count": 6,
      "outputs": [
        {
          "output_type": "execute_result",
          "execution_count": 6,
          "data": {
            "text/html": "<div>\n<style scoped>\n    .dataframe tbody tr th:only-of-type {\n        vertical-align: middle;\n    }\n\n    .dataframe tbody tr th {\n        vertical-align: top;\n    }\n\n    .dataframe thead th {\n        text-align: right;\n    }\n</style>\n<table border=\"1\" class=\"dataframe\">\n  <thead>\n    <tr style=\"text-align: right;\">\n      <th></th>\n      <th>Player</th>\n      <th>FPTS</th>\n    </tr>\n  </thead>\n  <tbody>\n    <tr>\n      <th>0</th>\n      <td>Joel Dahmen</td>\n      <td>57.70</td>\n    </tr>\n    <tr>\n      <th>1</th>\n      <td>Nate Lashley</td>\n      <td>31.05</td>\n    </tr>\n    <tr>\n      <th>157</th>\n      <td>Tyler Jessop</td>\n      <td>21.35</td>\n    </tr>\n    <tr>\n      <th>158</th>\n      <td>Marcus Bantel</td>\n      <td>-5.95</td>\n    </tr>\n  </tbody>\n</table>\n</div>",
            "text/plain": "            Player   FPTS\n0      Joel Dahmen  57.70\n1     Nate Lashley  31.05\n157   Tyler Jessop  21.35\n158  Marcus Bantel  -5.95"
          },
          "metadata": {}
        }
      ]
    },
    {
      "metadata": {
        "trusted": true,
        "hidden": true
      },
      "cell_type": "code",
      "source": "#Combine and separate R1 vs R2\ndf1.rename(columns={'FPTS':'FPTS_R1'},inplace=True)\ndf2.rename(columns={'FPTS':'FPTS_R2'},inplace=True)\ndf_waves = pd.merge(df1,df2,how='inner')\ndf_waves.rename(columns={'Player':'Name'},inplace=True)\ndf_waves.head()",
      "execution_count": 7,
      "outputs": [
        {
          "output_type": "execute_result",
          "execution_count": 7,
          "data": {
            "text/html": "<div>\n<style scoped>\n    .dataframe tbody tr th:only-of-type {\n        vertical-align: middle;\n    }\n\n    .dataframe tbody tr th {\n        vertical-align: top;\n    }\n\n    .dataframe thead th {\n        text-align: right;\n    }\n</style>\n<table border=\"1\" class=\"dataframe\">\n  <thead>\n    <tr style=\"text-align: right;\">\n      <th></th>\n      <th>Name</th>\n      <th>FPTS_R1</th>\n      <th>FPTS_R2</th>\n    </tr>\n  </thead>\n  <tbody>\n    <tr>\n      <th>0</th>\n      <td>Joel Dahmen</td>\n      <td>50.15</td>\n      <td>57.70</td>\n    </tr>\n    <tr>\n      <th>1</th>\n      <td>Nate Lashley</td>\n      <td>67.00</td>\n      <td>31.05</td>\n    </tr>\n    <tr>\n      <th>2</th>\n      <td>Brady Calkins</td>\n      <td>53.25</td>\n      <td>38.35</td>\n    </tr>\n    <tr>\n      <th>3</th>\n      <td>Taylor Montgomery</td>\n      <td>45.70</td>\n      <td>44.95</td>\n    </tr>\n    <tr>\n      <th>4</th>\n      <td>Colton Yates</td>\n      <td>36.75</td>\n      <td>41.65</td>\n    </tr>\n  </tbody>\n</table>\n</div>",
            "text/plain": "                Name  FPTS_R1  FPTS_R2\n0        Joel Dahmen    50.15    57.70\n1       Nate Lashley    67.00    31.05\n2      Brady Calkins    53.25    38.35\n3  Taylor Montgomery    45.70    44.95\n4       Colton Yates    36.75    41.65"
          },
          "metadata": {}
        }
      ]
    },
    {
      "metadata": {
        "trusted": true,
        "hidden": true
      },
      "cell_type": "code",
      "source": "#And tee times\n#These are R2 tee times for 20200513\ndf_tees = pd.read_csv('Data/golf_tee_times.csv')\ndf_tees.head(3)",
      "execution_count": 8,
      "outputs": [
        {
          "output_type": "execute_result",
          "execution_count": 8,
          "data": {
            "text/html": "<div>\n<style scoped>\n    .dataframe tbody tr th:only-of-type {\n        vertical-align: middle;\n    }\n\n    .dataframe tbody tr th {\n        vertical-align: top;\n    }\n\n    .dataframe thead th {\n        text-align: right;\n    }\n</style>\n<table border=\"1\" class=\"dataframe\">\n  <thead>\n    <tr style=\"text-align: right;\">\n      <th></th>\n      <th>Player</th>\n      <th>Tee Time</th>\n      <th>Hole</th>\n      <th>Tee</th>\n      <th>Other Players</th>\n    </tr>\n  </thead>\n  <tbody>\n    <tr>\n      <th>0</th>\n      <td>Adams, Cole</td>\n      <td>1:30 PM</td>\n      <td>1</td>\n      <td>Black</td>\n      <td>Burdick, Conner + Vivolo, Luke</td>\n    </tr>\n    <tr>\n      <th>1</th>\n      <td>Alder, Preston</td>\n      <td>9:00 AM</td>\n      <td>1</td>\n      <td>Black</td>\n      <td>Gulugian, Ari + Park, Joey</td>\n    </tr>\n    <tr>\n      <th>2</th>\n      <td>Alker, Steven</td>\n      <td>12:45 PM</td>\n      <td>10</td>\n      <td>Black</td>\n      <td>Allan, Steve + Bobbitt, Redford</td>\n    </tr>\n  </tbody>\n</table>\n</div>",
            "text/plain": "           Player  Tee Time  Hole    Tee                    Other Players\n0     Adams, Cole   1:30 PM     1  Black   Burdick, Conner + Vivolo, Luke\n1  Alder, Preston   9:00 AM     1  Black       Gulugian, Ari + Park, Joey\n2   Alker, Steven  12:45 PM    10  Black  Allan, Steve + Bobbitt, Redford"
          },
          "metadata": {}
        }
      ]
    },
    {
      "metadata": {
        "trusted": true,
        "hidden": true
      },
      "cell_type": "code",
      "source": "#Create Name\ndf_tees['Name'] = df_tees.Player.str.split(', ',expand=True)[1] + \" \" + df_tees.Player.str.split(', ',expand=True)[0]\n\n#And add AM vs PM\ndf_tees['Wave'] = np.where(df_tees['Tee Time'].str.contains('AM'),'AM','PM')\ndf_tees.head()",
      "execution_count": 9,
      "outputs": [
        {
          "output_type": "execute_result",
          "execution_count": 9,
          "data": {
            "text/html": "<div>\n<style scoped>\n    .dataframe tbody tr th:only-of-type {\n        vertical-align: middle;\n    }\n\n    .dataframe tbody tr th {\n        vertical-align: top;\n    }\n\n    .dataframe thead th {\n        text-align: right;\n    }\n</style>\n<table border=\"1\" class=\"dataframe\">\n  <thead>\n    <tr style=\"text-align: right;\">\n      <th></th>\n      <th>Player</th>\n      <th>Tee Time</th>\n      <th>Hole</th>\n      <th>Tee</th>\n      <th>Other Players</th>\n      <th>Name</th>\n      <th>Wave</th>\n    </tr>\n  </thead>\n  <tbody>\n    <tr>\n      <th>0</th>\n      <td>Adams, Cole</td>\n      <td>1:30 PM</td>\n      <td>1</td>\n      <td>Black</td>\n      <td>Burdick, Conner + Vivolo, Luke</td>\n      <td>Cole Adams</td>\n      <td>PM</td>\n    </tr>\n    <tr>\n      <th>1</th>\n      <td>Alder, Preston</td>\n      <td>9:00 AM</td>\n      <td>1</td>\n      <td>Black</td>\n      <td>Gulugian, Ari + Park, Joey</td>\n      <td>Preston Alder</td>\n      <td>AM</td>\n    </tr>\n    <tr>\n      <th>2</th>\n      <td>Alker, Steven</td>\n      <td>12:45 PM</td>\n      <td>10</td>\n      <td>Black</td>\n      <td>Allan, Steve + Bobbitt, Redford</td>\n      <td>Steven Alker</td>\n      <td>PM</td>\n    </tr>\n    <tr>\n      <th>3</th>\n      <td>Allan, Steve</td>\n      <td>12:45 PM</td>\n      <td>10</td>\n      <td>Black</td>\n      <td>Alker, Steven + Bobbitt, Redford</td>\n      <td>Steve Allan</td>\n      <td>PM</td>\n    </tr>\n    <tr>\n      <th>4</th>\n      <td>Allred, Zach</td>\n      <td>8:42 AM</td>\n      <td>1</td>\n      <td>Black</td>\n      <td>Fryer, Joe + Kuest, Peter</td>\n      <td>Zach Allred</td>\n      <td>AM</td>\n    </tr>\n  </tbody>\n</table>\n</div>",
            "text/plain": "           Player  Tee Time  Hole    Tee                     Other Players  \\\n0     Adams, Cole   1:30 PM     1  Black    Burdick, Conner + Vivolo, Luke   \n1  Alder, Preston   9:00 AM     1  Black        Gulugian, Ari + Park, Joey   \n2   Alker, Steven  12:45 PM    10  Black   Allan, Steve + Bobbitt, Redford   \n3    Allan, Steve  12:45 PM    10  Black  Alker, Steven + Bobbitt, Redford   \n4    Allred, Zach   8:42 AM     1  Black         Fryer, Joe + Kuest, Peter   \n\n            Name Wave  \n0     Cole Adams   PM  \n1  Preston Alder   AM  \n2   Steven Alker   PM  \n3    Steve Allan   PM  \n4    Zach Allred   AM  "
          },
          "metadata": {}
        }
      ]
    },
    {
      "metadata": {
        "trusted": true,
        "hidden": true
      },
      "cell_type": "code",
      "source": "#Replace Player with Name from df1\nfrom difflib import get_close_matches\n#df['Name'] = \"\"\nfor i in np.arange(len(df_tees)):\n    curr_name = df_tees['Name'].iloc[i]\n    try:\n        new_name = get_close_matches(curr_name,df_waves['Name'],cutoff=.8)[0]\n        if new_name != curr_name:\n            print(\"{} replaced with {}\".format(curr_name,new_name))\n    except:\n        new_name = 'No Name'\n        print('NO MATCH: curr_name = {}, new_name = {}'.format(curr_name,new_name))\n    df_tees['Name'].iloc[i] = new_name\n#df2['Name'] = df2['Name'].apply(lambda x: get_close_matches(x,df2_sal['Name']))\ndf_tees.head(5)",
      "execution_count": 10,
      "outputs": [
        {
          "output_type": "stream",
          "text": "/home/nbuser/anaconda3_501/lib/python3.6/site-packages/pandas/core/indexing.py:189: SettingWithCopyWarning: \nA value is trying to be set on a copy of a slice from a DataFrame\n\nSee the caveats in the documentation: http://pandas.pydata.org/pandas-docs/stable/indexing.html#indexing-view-versus-copy\n  self._setitem_with_indexer(indexer, value)\n",
          "name": "stderr"
        },
        {
          "output_type": "stream",
          "text": "NO MATCH: curr_name = Quinn Carbol, new_name = No Name\nNO MATCH: curr_name = Lamar Carlile, new_name = No Name\nMitch Carlson replaced with Mitchel Carlson\nTerry Cook (AM) replaced with Terry Cook\nSamuel Cyr replaced with Sam Cyr\nNO MATCH: curr_name = Patrick Fishburn, new_name = No Name\nJared Hack replaced with Jhared Hack\nNO MATCH: curr_name = Rodney Hamblin, new_name = No Name\nNO MATCH: curr_name = Scott Harrington, new_name = No Name\nMatthew Liringis replaced with Matt Liringis\nNO MATCH: curr_name = Manny Manzone, new_name = No Name\nDoug Quinones replaced with Douglas Quinones\nOliver Roberts replaced with Ollie Roberts\nNO MATCH: curr_name = Ben Shur, new_name = No Name\nNO MATCH: curr_name = Nicholas Timm, new_name = No Name\n",
          "name": "stdout"
        },
        {
          "output_type": "execute_result",
          "execution_count": 10,
          "data": {
            "text/html": "<div>\n<style scoped>\n    .dataframe tbody tr th:only-of-type {\n        vertical-align: middle;\n    }\n\n    .dataframe tbody tr th {\n        vertical-align: top;\n    }\n\n    .dataframe thead th {\n        text-align: right;\n    }\n</style>\n<table border=\"1\" class=\"dataframe\">\n  <thead>\n    <tr style=\"text-align: right;\">\n      <th></th>\n      <th>Player</th>\n      <th>Tee Time</th>\n      <th>Hole</th>\n      <th>Tee</th>\n      <th>Other Players</th>\n      <th>Name</th>\n      <th>Wave</th>\n    </tr>\n  </thead>\n  <tbody>\n    <tr>\n      <th>0</th>\n      <td>Adams, Cole</td>\n      <td>1:30 PM</td>\n      <td>1</td>\n      <td>Black</td>\n      <td>Burdick, Conner + Vivolo, Luke</td>\n      <td>Cole Adams</td>\n      <td>PM</td>\n    </tr>\n    <tr>\n      <th>1</th>\n      <td>Alder, Preston</td>\n      <td>9:00 AM</td>\n      <td>1</td>\n      <td>Black</td>\n      <td>Gulugian, Ari + Park, Joey</td>\n      <td>Preston Alder</td>\n      <td>AM</td>\n    </tr>\n    <tr>\n      <th>2</th>\n      <td>Alker, Steven</td>\n      <td>12:45 PM</td>\n      <td>10</td>\n      <td>Black</td>\n      <td>Allan, Steve + Bobbitt, Redford</td>\n      <td>Steven Alker</td>\n      <td>PM</td>\n    </tr>\n    <tr>\n      <th>3</th>\n      <td>Allan, Steve</td>\n      <td>12:45 PM</td>\n      <td>10</td>\n      <td>Black</td>\n      <td>Alker, Steven + Bobbitt, Redford</td>\n      <td>Steve Allan</td>\n      <td>PM</td>\n    </tr>\n    <tr>\n      <th>4</th>\n      <td>Allred, Zach</td>\n      <td>8:42 AM</td>\n      <td>1</td>\n      <td>Black</td>\n      <td>Fryer, Joe + Kuest, Peter</td>\n      <td>Zach Allred</td>\n      <td>AM</td>\n    </tr>\n  </tbody>\n</table>\n</div>",
            "text/plain": "           Player  Tee Time  Hole    Tee                     Other Players  \\\n0     Adams, Cole   1:30 PM     1  Black    Burdick, Conner + Vivolo, Luke   \n1  Alder, Preston   9:00 AM     1  Black        Gulugian, Ari + Park, Joey   \n2   Alker, Steven  12:45 PM    10  Black   Allan, Steve + Bobbitt, Redford   \n3    Allan, Steve  12:45 PM    10  Black  Alker, Steven + Bobbitt, Redford   \n4    Allred, Zach   8:42 AM     1  Black         Fryer, Joe + Kuest, Peter   \n\n            Name Wave  \n0     Cole Adams   PM  \n1  Preston Alder   AM  \n2   Steven Alker   PM  \n3    Steve Allan   PM  \n4    Zach Allred   AM  "
          },
          "metadata": {}
        }
      ]
    },
    {
      "metadata": {
        "trusted": true,
        "hidden": true
      },
      "cell_type": "code",
      "source": "df_waves = pd.merge(df_waves,df_tees[['Name','Wave']])\ndf_waves.head(3)",
      "execution_count": 11,
      "outputs": [
        {
          "output_type": "execute_result",
          "execution_count": 11,
          "data": {
            "text/html": "<div>\n<style scoped>\n    .dataframe tbody tr th:only-of-type {\n        vertical-align: middle;\n    }\n\n    .dataframe tbody tr th {\n        vertical-align: top;\n    }\n\n    .dataframe thead th {\n        text-align: right;\n    }\n</style>\n<table border=\"1\" class=\"dataframe\">\n  <thead>\n    <tr style=\"text-align: right;\">\n      <th></th>\n      <th>Name</th>\n      <th>FPTS_R1</th>\n      <th>FPTS_R2</th>\n      <th>Wave</th>\n    </tr>\n  </thead>\n  <tbody>\n    <tr>\n      <th>0</th>\n      <td>Joel Dahmen</td>\n      <td>50.15</td>\n      <td>57.70</td>\n      <td>PM</td>\n    </tr>\n    <tr>\n      <th>1</th>\n      <td>Nate Lashley</td>\n      <td>67.00</td>\n      <td>31.05</td>\n      <td>PM</td>\n    </tr>\n    <tr>\n      <th>2</th>\n      <td>Brady Calkins</td>\n      <td>53.25</td>\n      <td>38.35</td>\n      <td>PM</td>\n    </tr>\n  </tbody>\n</table>\n</div>",
            "text/plain": "            Name  FPTS_R1  FPTS_R2 Wave\n0    Joel Dahmen    50.15    57.70   PM\n1   Nate Lashley    67.00    31.05   PM\n2  Brady Calkins    53.25    38.35   PM"
          },
          "metadata": {}
        }
      ]
    },
    {
      "metadata": {
        "trusted": true,
        "hidden": true
      },
      "cell_type": "code",
      "source": "df_waves.rename(columns={'Wave':'Wave_R2'},inplace=True)\ndf_waves['Wave_R1'] = df_waves.Wave_R2.map({'PM':'AM','AM':'PM'})\n\ndf_waves.head(15)",
      "execution_count": 12,
      "outputs": [
        {
          "output_type": "execute_result",
          "execution_count": 12,
          "data": {
            "text/html": "<div>\n<style scoped>\n    .dataframe tbody tr th:only-of-type {\n        vertical-align: middle;\n    }\n\n    .dataframe tbody tr th {\n        vertical-align: top;\n    }\n\n    .dataframe thead th {\n        text-align: right;\n    }\n</style>\n<table border=\"1\" class=\"dataframe\">\n  <thead>\n    <tr style=\"text-align: right;\">\n      <th></th>\n      <th>Name</th>\n      <th>FPTS_R1</th>\n      <th>FPTS_R2</th>\n      <th>Wave_R2</th>\n      <th>Wave_R1</th>\n    </tr>\n  </thead>\n  <tbody>\n    <tr>\n      <th>0</th>\n      <td>Joel Dahmen</td>\n      <td>50.15</td>\n      <td>57.70</td>\n      <td>PM</td>\n      <td>AM</td>\n    </tr>\n    <tr>\n      <th>1</th>\n      <td>Nate Lashley</td>\n      <td>67.00</td>\n      <td>31.05</td>\n      <td>PM</td>\n      <td>AM</td>\n    </tr>\n    <tr>\n      <th>2</th>\n      <td>Brady Calkins</td>\n      <td>53.25</td>\n      <td>38.35</td>\n      <td>PM</td>\n      <td>AM</td>\n    </tr>\n    <tr>\n      <th>3</th>\n      <td>Taylor Montgomery</td>\n      <td>45.70</td>\n      <td>44.95</td>\n      <td>PM</td>\n      <td>AM</td>\n    </tr>\n    <tr>\n      <th>4</th>\n      <td>Colton Yates</td>\n      <td>36.75</td>\n      <td>41.65</td>\n      <td>PM</td>\n      <td>AM</td>\n    </tr>\n    <tr>\n      <th>5</th>\n      <td>Patrick Flavin</td>\n      <td>44.95</td>\n      <td>42.40</td>\n      <td>PM</td>\n      <td>AM</td>\n    </tr>\n    <tr>\n      <th>6</th>\n      <td>Nick Mason</td>\n      <td>36.45</td>\n      <td>40.70</td>\n      <td>PM</td>\n      <td>AM</td>\n    </tr>\n    <tr>\n      <th>7</th>\n      <td>Matt Picanso</td>\n      <td>38.60</td>\n      <td>24.65</td>\n      <td>PM</td>\n      <td>AM</td>\n    </tr>\n    <tr>\n      <th>8</th>\n      <td>JJ Spaun</td>\n      <td>36.45</td>\n      <td>40.35</td>\n      <td>PM</td>\n      <td>AM</td>\n    </tr>\n    <tr>\n      <th>9</th>\n      <td>KK Limbhasut</td>\n      <td>44.75</td>\n      <td>45.90</td>\n      <td>PM</td>\n      <td>AM</td>\n    </tr>\n    <tr>\n      <th>10</th>\n      <td>Mark Anguiano</td>\n      <td>33.15</td>\n      <td>61.75</td>\n      <td>AM</td>\n      <td>PM</td>\n    </tr>\n    <tr>\n      <th>11</th>\n      <td>Blake Cannon</td>\n      <td>22.30</td>\n      <td>21.35</td>\n      <td>PM</td>\n      <td>AM</td>\n    </tr>\n    <tr>\n      <th>12</th>\n      <td>Jimmy Gunn</td>\n      <td>33.15</td>\n      <td>49.20</td>\n      <td>PM</td>\n      <td>AM</td>\n    </tr>\n    <tr>\n      <th>13</th>\n      <td>Jeremy Paul</td>\n      <td>31.05</td>\n      <td>49.20</td>\n      <td>PM</td>\n      <td>AM</td>\n    </tr>\n    <tr>\n      <th>14</th>\n      <td>Brent Grant</td>\n      <td>30.80</td>\n      <td>58.50</td>\n      <td>AM</td>\n      <td>PM</td>\n    </tr>\n  </tbody>\n</table>\n</div>",
            "text/plain": "                 Name  FPTS_R1  FPTS_R2 Wave_R2 Wave_R1\n0         Joel Dahmen    50.15    57.70      PM      AM\n1        Nate Lashley    67.00    31.05      PM      AM\n2       Brady Calkins    53.25    38.35      PM      AM\n3   Taylor Montgomery    45.70    44.95      PM      AM\n4        Colton Yates    36.75    41.65      PM      AM\n5      Patrick Flavin    44.95    42.40      PM      AM\n6          Nick Mason    36.45    40.70      PM      AM\n7        Matt Picanso    38.60    24.65      PM      AM\n8            JJ Spaun    36.45    40.35      PM      AM\n9        KK Limbhasut    44.75    45.90      PM      AM\n10      Mark Anguiano    33.15    61.75      AM      PM\n11       Blake Cannon    22.30    21.35      PM      AM\n12         Jimmy Gunn    33.15    49.20      PM      AM\n13        Jeremy Paul    31.05    49.20      PM      AM\n14        Brent Grant    30.80    58.50      AM      PM"
          },
          "metadata": {}
        }
      ]
    },
    {
      "metadata": {
        "trusted": true,
        "hidden": true
      },
      "cell_type": "code",
      "source": "df_R1 = df_waves.groupby('Wave_R1')['FPTS_R1'].mean()\ndf_R1",
      "execution_count": 13,
      "outputs": [
        {
          "output_type": "execute_result",
          "execution_count": 13,
          "data": {
            "text/plain": "Wave_R1\nAM    31.098026\nPM    19.862179\nName: FPTS_R1, dtype: float64"
          },
          "metadata": {}
        }
      ]
    },
    {
      "metadata": {
        "trusted": true,
        "hidden": true
      },
      "cell_type": "code",
      "source": "df_R2 = df_waves.groupby('Wave_R2')['FPTS_R2'].mean()\ndf_R2",
      "execution_count": 14,
      "outputs": [
        {
          "output_type": "execute_result",
          "execution_count": 14,
          "data": {
            "text/plain": "Wave_R2\nAM    27.491026\nPM    32.247368\nName: FPTS_R2, dtype: float64"
          },
          "metadata": {}
        }
      ]
    },
    {
      "metadata": {
        "trusted": true,
        "hidden": true
      },
      "cell_type": "code",
      "source": "#find advantage of AM\nam = (df_R1.loc['AM']+df_R2.loc['AM'])/2\npm = (df_R1.loc['PM']+df_R2.loc['PM'])/2\nprint(am,pm,am-pm)\n ",
      "execution_count": 15,
      "outputs": [
        {
          "output_type": "stream",
          "text": "29.294525978407563 26.054773954116065 3.239752024291498\n",
          "name": "stdout"
        }
      ]
    },
    {
      "metadata": {
        "trusted": true,
        "hidden": true
      },
      "cell_type": "code",
      "source": "ap = np.mean([df_R1.loc['AM'],df_R2.loc['PM']])\npa = np.mean([df_R1.loc['PM'],df_R2.loc['AM']])\nprint(ap,pa)",
      "execution_count": 16,
      "outputs": [
        {
          "output_type": "stream",
          "text": "31.672697368421062 23.676602564102566\n",
          "name": "stdout"
        }
      ]
    },
    {
      "metadata": {
        "trusted": true,
        "hidden": true
      },
      "cell_type": "code",
      "source": "ap+pa",
      "execution_count": 17,
      "outputs": [
        {
          "output_type": "execute_result",
          "execution_count": 17,
          "data": {
            "text/plain": "55.34929993252363"
          },
          "metadata": {}
        }
      ]
    },
    {
      "metadata": {},
      "cell_type": "markdown",
      "source": "# Read in Data"
    },
    {
      "metadata": {
        "trusted": true
      },
      "cell_type": "code",
      "source": "#Read in DK Salaries\ndays = ['20200415','20200421','20200422','20200428','20200429','20200430',\n        '20200504','20200505','20200506','20200512','20200513','20200514',\n       '20200519','20200520','20200521','20200526','20200601']\ndf_sal_list = []\nfor d in days:\n    df_sal_list.append(pd.read_csv('Data/DKSalaries_outlaw_{}.csv'.format(d)))\ndf_sal_list[0].head()",
      "execution_count": 18,
      "outputs": [
        {
          "output_type": "execute_result",
          "execution_count": 18,
          "data": {
            "text/html": "<div>\n<style scoped>\n    .dataframe tbody tr th:only-of-type {\n        vertical-align: middle;\n    }\n\n    .dataframe tbody tr th {\n        vertical-align: top;\n    }\n\n    .dataframe thead th {\n        text-align: right;\n    }\n</style>\n<table border=\"1\" class=\"dataframe\">\n  <thead>\n    <tr style=\"text-align: right;\">\n      <th></th>\n      <th>Unnamed: 0</th>\n      <th>Position</th>\n      <th>Name + ID</th>\n      <th>Name</th>\n      <th>ID</th>\n      <th>Roster Position</th>\n      <th>Salary</th>\n      <th>Game Info</th>\n      <th>TeamAbbrev</th>\n      <th>AvgPointsPerGame</th>\n    </tr>\n  </thead>\n  <tbody>\n    <tr>\n      <th>0</th>\n      <td>0</td>\n      <td>G</td>\n      <td>Jimmy Gunn (14482079) (LOCKED)</td>\n      <td>Jimmy Gunn</td>\n      <td>14482079</td>\n      <td>G</td>\n      <td>10800</td>\n      <td>Arrowhead Classic</td>\n      <td>Golf</td>\n      <td>0.00</td>\n    </tr>\n    <tr>\n      <th>1</th>\n      <td>1</td>\n      <td>G</td>\n      <td>Alex Cejka (14482080) (LOCKED)</td>\n      <td>Alex Cejka</td>\n      <td>14482080</td>\n      <td>G</td>\n      <td>10500</td>\n      <td>Arrowhead Classic</td>\n      <td>Golf</td>\n      <td>51.57</td>\n    </tr>\n    <tr>\n      <th>2</th>\n      <td>2</td>\n      <td>G</td>\n      <td>Carson Roberts (14482081) (LOCKED)</td>\n      <td>Carson Roberts</td>\n      <td>14482081</td>\n      <td>G</td>\n      <td>10300</td>\n      <td>Arrowhead Classic</td>\n      <td>Golf</td>\n      <td>0.00</td>\n    </tr>\n    <tr>\n      <th>3</th>\n      <td>3</td>\n      <td>G</td>\n      <td>Nick Mason (14482082) (LOCKED)</td>\n      <td>Nick Mason</td>\n      <td>14482082</td>\n      <td>G</td>\n      <td>10000</td>\n      <td>Arrowhead Classic</td>\n      <td>Golf</td>\n      <td>0.00</td>\n    </tr>\n    <tr>\n      <th>4</th>\n      <td>4</td>\n      <td>G</td>\n      <td>Andrew Yun (14482083) (LOCKED)</td>\n      <td>Andrew Yun</td>\n      <td>14482083</td>\n      <td>G</td>\n      <td>9800</td>\n      <td>Arrowhead Classic</td>\n      <td>Golf</td>\n      <td>0.00</td>\n    </tr>\n  </tbody>\n</table>\n</div>",
            "text/plain": "   Unnamed: 0 Position                           Name + ID            Name  \\\n0           0        G      Jimmy Gunn (14482079) (LOCKED)      Jimmy Gunn   \n1           1        G      Alex Cejka (14482080) (LOCKED)      Alex Cejka   \n2           2        G  Carson Roberts (14482081) (LOCKED)  Carson Roberts   \n3           3        G      Nick Mason (14482082) (LOCKED)      Nick Mason   \n4           4        G      Andrew Yun (14482083) (LOCKED)      Andrew Yun   \n\n         ID Roster Position  Salary          Game Info TeamAbbrev  \\\n0  14482079               G   10800  Arrowhead Classic       Golf   \n1  14482080               G   10500  Arrowhead Classic       Golf   \n2  14482081               G   10300  Arrowhead Classic       Golf   \n3  14482082               G   10000  Arrowhead Classic       Golf   \n4  14482083               G    9800  Arrowhead Classic       Golf   \n\n   AvgPointsPerGame  \n0              0.00  \n1             51.57  \n2              0.00  \n3              0.00  \n4              0.00  "
          },
          "metadata": {}
        }
      ]
    },
    {
      "metadata": {
        "trusted": true
      },
      "cell_type": "code",
      "source": "#Read in odds\ndays_odds = ['20200414','20200421','20200421','20200428','20200428','20200428',\n             '20200504','20200504','20200504','20200512','20200512','20200512',\n            '20200519','20200519','20200519','20200526','20200601']\ndf_odds_list = []\nfor d in days_odds:\n    df_odds_list.append(pd.read_csv('Data/Outlaw_odds_{}.csv'.format(d)))\ndf_odds_list[-1].head()",
      "execution_count": 19,
      "outputs": [
        {
          "output_type": "execute_result",
          "execution_count": 19,
          "data": {
            "text/html": "<div>\n<style scoped>\n    .dataframe tbody tr th:only-of-type {\n        vertical-align: middle;\n    }\n\n    .dataframe tbody tr th {\n        vertical-align: top;\n    }\n\n    .dataframe thead th {\n        text-align: right;\n    }\n</style>\n<table border=\"1\" class=\"dataframe\">\n  <thead>\n    <tr style=\"text-align: right;\">\n      <th></th>\n      <th>Name</th>\n      <th>Odds</th>\n    </tr>\n  </thead>\n  <tbody>\n    <tr>\n      <th>0</th>\n      <td>Brady Calkins</td>\n      <td>7.0</td>\n    </tr>\n    <tr>\n      <th>1</th>\n      <td>Sahith Theegala</td>\n      <td>7.5</td>\n    </tr>\n    <tr>\n      <th>2</th>\n      <td>Tyler Weworski</td>\n      <td>9.5</td>\n    </tr>\n    <tr>\n      <th>3</th>\n      <td>Nicolo Galletti</td>\n      <td>11.0</td>\n    </tr>\n    <tr>\n      <th>4</th>\n      <td>Alistair Docherty</td>\n      <td>12.0</td>\n    </tr>\n  </tbody>\n</table>\n</div>",
            "text/plain": "                Name  Odds\n0      Brady Calkins   7.0\n1    Sahith Theegala   7.5\n2     Tyler Weworski   9.5\n3    Nicolo Galletti  11.0\n4  Alistair Docherty  12.0"
          },
          "metadata": {}
        }
      ]
    },
    {
      "metadata": {
        "trusted": true
      },
      "cell_type": "code",
      "source": "#Read in results\ndf_results_list = []\nfor d in days:\n    df_results_list.append(pd.read_csv('Data/outlaw_results_{}.csv'.format(d)))\n    \ndf_results_list[-1].head()",
      "execution_count": 20,
      "outputs": [
        {
          "output_type": "execute_result",
          "execution_count": 20,
          "data": {
            "text/html": "<div>\n<style scoped>\n    .dataframe tbody tr th:only-of-type {\n        vertical-align: middle;\n    }\n\n    .dataframe tbody tr th {\n        vertical-align: top;\n    }\n\n    .dataframe thead th {\n        text-align: right;\n    }\n</style>\n<table border=\"1\" class=\"dataframe\">\n  <thead>\n    <tr style=\"text-align: right;\">\n      <th></th>\n      <th>Rank</th>\n      <th>EntryId</th>\n      <th>EntryName</th>\n      <th>TimeRemaining</th>\n      <th>Points</th>\n      <th>Lineup</th>\n      <th>Unnamed: 6</th>\n      <th>Player</th>\n      <th>Roster Position</th>\n      <th>%Drafted</th>\n      <th>FPTS</th>\n    </tr>\n  </thead>\n  <tbody>\n    <tr>\n      <th>0</th>\n      <td>1</td>\n      <td>1966096713</td>\n      <td>forfamily (2/2)</td>\n      <td>0</td>\n      <td>381.35</td>\n      <td>G Sahith Theegala G Andrew Funk G Trevor Lamps...</td>\n      <td>NaN</td>\n      <td>Andrew Funk</td>\n      <td>G</td>\n      <td>34.64%</td>\n      <td>75.25</td>\n    </tr>\n    <tr>\n      <th>1</th>\n      <td>2</td>\n      <td>1965906979</td>\n      <td>CecPetes (11/30)</td>\n      <td>0</td>\n      <td>354.65</td>\n      <td>G Alistair Docherty G Nicolo Galletti G Andrew...</td>\n      <td>NaN</td>\n      <td>Noah Hofman</td>\n      <td>G</td>\n      <td>33.17%</td>\n      <td>28.90</td>\n    </tr>\n    <tr>\n      <th>2</th>\n      <td>3</td>\n      <td>1962734147</td>\n      <td>benchico (2/6)</td>\n      <td>0</td>\n      <td>349.80</td>\n      <td>G Alistair Docherty G Andrew Funk G Trevor Lam...</td>\n      <td>NaN</td>\n      <td>Trevor Lampson</td>\n      <td>G</td>\n      <td>28.80%</td>\n      <td>57.50</td>\n    </tr>\n    <tr>\n      <th>3</th>\n      <td>3</td>\n      <td>1965736764</td>\n      <td>Bentley888Bentley (34/150)</td>\n      <td>0</td>\n      <td>349.80</td>\n      <td>G Alistair Docherty G Andrew Funk G Trevor Lam...</td>\n      <td>NaN</td>\n      <td>Brandon Bauman</td>\n      <td>G</td>\n      <td>26.61%</td>\n      <td>42.60</td>\n    </tr>\n    <tr>\n      <th>4</th>\n      <td>5</td>\n      <td>1965453594</td>\n      <td>ajkdrfc (4/78)</td>\n      <td>0</td>\n      <td>348.85</td>\n      <td>G Alistair Docherty G Neil Johnson G Andrew Fu...</td>\n      <td>NaN</td>\n      <td>Daniel Hudson</td>\n      <td>G</td>\n      <td>24.99%</td>\n      <td>57.50</td>\n    </tr>\n  </tbody>\n</table>\n</div>",
            "text/plain": "   Rank     EntryId                   EntryName  TimeRemaining  Points  \\\n0     1  1966096713             forfamily (2/2)              0  381.35   \n1     2  1965906979            CecPetes (11/30)              0  354.65   \n2     3  1962734147              benchico (2/6)              0  349.80   \n3     3  1965736764  Bentley888Bentley (34/150)              0  349.80   \n4     5  1965453594              ajkdrfc (4/78)              0  348.85   \n\n                                              Lineup  Unnamed: 6  \\\n0  G Sahith Theegala G Andrew Funk G Trevor Lamps...         NaN   \n1  G Alistair Docherty G Nicolo Galletti G Andrew...         NaN   \n2  G Alistair Docherty G Andrew Funk G Trevor Lam...         NaN   \n3  G Alistair Docherty G Andrew Funk G Trevor Lam...         NaN   \n4  G Alistair Docherty G Neil Johnson G Andrew Fu...         NaN   \n\n           Player Roster Position %Drafted   FPTS  \n0     Andrew Funk               G   34.64%  75.25  \n1     Noah Hofman               G   33.17%  28.90  \n2  Trevor Lampson               G   28.80%  57.50  \n3  Brandon Bauman               G   26.61%  42.60  \n4   Daniel Hudson               G   24.99%  57.50  "
          },
          "metadata": {}
        }
      ]
    },
    {
      "metadata": {
        "trusted": true
      },
      "cell_type": "markdown",
      "source": "### Combine data\nFor each day, get one single df with Name, Salary, Odds, Win, FPTS\n\nNote: Odds could be 5 or 500 for 5 to 1.  Check if all odds are over 100, and if so divide by 100"
    },
    {
      "metadata": {
        "trusted": true
      },
      "cell_type": "code",
      "source": "#Scratch work\ni = len(df_odds_list)-1\n\ndf = df_sal_list[i][['Name','Salary']]\ndf.head()\n\n#Get everyone's final FPTS\ndf_results = df_results_list[i]\ndf_results.rename(columns={'Player':'Name'},inplace=True)\ndf_results.head()\n\n#Add FPTS\ndf = pd.merge(df,df_results[['Name','FPTS']],on='Name',how='left')\ndf.head()\n\n#Only keep entries with FPTS > 0\ndf = df.dropna()\ndf = df[df.FPTS>0]\ndf.tail()\n\n#Add in odds\ndf_odds = df_odds_list[i]\ndf_odds.head()\n#Make sure odds are floats with no commas\ndf_odds.Odds = df_odds.Odds.astype(str).str.replace(',','').astype(float)\n#Make sure odds are number:1, not 100*number:1\nif df_odds.Odds.min()>100:\n    df_odds.Odds = df_odds.Odds / 100\n\n#Apply rstrip to Name since it might have a goofy extra white space\ndf_odds.Name = df_odds.Name.str.rstrip()\n\n#Replace Name in df_odds with closest name in df_sal\nfor j in np.arange(len(df_odds)):\n    curr_name = df_odds['Name'].iloc[j]\n    try:\n        new_name = get_close_matches(curr_name,df['Name'],cutoff=.8)[0]\n        #if new_name != curr_name:\n            #print(\"{} replaced with {}\".format(curr_name,new_name))\n    except:\n        new_name = 'No Name'\n        #print('NO MATCH: curr_name = {}, new_name = {}'.format(curr_name,new_name))\n    df_odds['Name'].iloc[j] = new_name\n\ndf_odds.head()\n\n#Add odds to df_sal\ndf = pd.merge(df,df_odds,how='left')\ndf = df.dropna()\ndf.iloc[np.r_[0:8,-2:0]]",
      "execution_count": 21,
      "outputs": [
        {
          "output_type": "execute_result",
          "execution_count": 21,
          "data": {
            "text/html": "<div>\n<style scoped>\n    .dataframe tbody tr th:only-of-type {\n        vertical-align: middle;\n    }\n\n    .dataframe tbody tr th {\n        vertical-align: top;\n    }\n\n    .dataframe thead th {\n        text-align: right;\n    }\n</style>\n<table border=\"1\" class=\"dataframe\">\n  <thead>\n    <tr style=\"text-align: right;\">\n      <th></th>\n      <th>Name</th>\n      <th>Salary</th>\n      <th>FPTS</th>\n      <th>Odds</th>\n    </tr>\n  </thead>\n  <tbody>\n    <tr>\n      <th>0</th>\n      <td>Brady Calkins</td>\n      <td>10800</td>\n      <td>50.05</td>\n      <td>7.0</td>\n    </tr>\n    <tr>\n      <th>1</th>\n      <td>Tyler Weworski</td>\n      <td>10600</td>\n      <td>57.50</td>\n      <td>9.5</td>\n    </tr>\n    <tr>\n      <th>2</th>\n      <td>Sahith Theegala</td>\n      <td>10400</td>\n      <td>76.25</td>\n      <td>7.5</td>\n    </tr>\n    <tr>\n      <th>3</th>\n      <td>Alistair Docherty</td>\n      <td>10200</td>\n      <td>67.95</td>\n      <td>12.0</td>\n    </tr>\n    <tr>\n      <th>4</th>\n      <td>Mark Baldwin</td>\n      <td>10000</td>\n      <td>41.65</td>\n      <td>12.0</td>\n    </tr>\n    <tr>\n      <th>5</th>\n      <td>Nicolo Galletti</td>\n      <td>9800</td>\n      <td>55.15</td>\n      <td>11.0</td>\n    </tr>\n    <tr>\n      <th>6</th>\n      <td>Steven Alker</td>\n      <td>9700</td>\n      <td>45.90</td>\n      <td>17.0</td>\n    </tr>\n    <tr>\n      <th>7</th>\n      <td>Neil Johnson</td>\n      <td>9400</td>\n      <td>53.45</td>\n      <td>15.0</td>\n    </tr>\n    <tr>\n      <th>46</th>\n      <td>Anthony Quezada</td>\n      <td>6100</td>\n      <td>34.15</td>\n      <td>401.0</td>\n    </tr>\n    <tr>\n      <th>47</th>\n      <td>Adam Petrocelli</td>\n      <td>6000</td>\n      <td>1.60</td>\n      <td>751.0</td>\n    </tr>\n  </tbody>\n</table>\n</div>",
            "text/plain": "                 Name  Salary   FPTS   Odds\n0       Brady Calkins   10800  50.05    7.0\n1      Tyler Weworski   10600  57.50    9.5\n2     Sahith Theegala   10400  76.25    7.5\n3   Alistair Docherty   10200  67.95   12.0\n4        Mark Baldwin   10000  41.65   12.0\n5     Nicolo Galletti    9800  55.15   11.0\n6        Steven Alker    9700  45.90   17.0\n7        Neil Johnson    9400  53.45   15.0\n46    Anthony Quezada    6100  34.15  401.0\n47    Adam Petrocelli    6000   1.60  751.0"
          },
          "metadata": {}
        }
      ]
    },
    {
      "metadata": {
        "trusted": true
      },
      "cell_type": "code",
      "source": "#If someone has two separate odds, only keep lower ones\ndf.groupby(['Name','Salary','FPTS'])['Odds'].min().reset_index().sort_values(by='Salary',ascending=False).head(8)",
      "execution_count": 22,
      "outputs": [
        {
          "output_type": "execute_result",
          "execution_count": 22,
          "data": {
            "text/html": "<div>\n<style scoped>\n    .dataframe tbody tr th:only-of-type {\n        vertical-align: middle;\n    }\n\n    .dataframe tbody tr th {\n        vertical-align: top;\n    }\n\n    .dataframe thead th {\n        text-align: right;\n    }\n</style>\n<table border=\"1\" class=\"dataframe\">\n  <thead>\n    <tr style=\"text-align: right;\">\n      <th></th>\n      <th>Name</th>\n      <th>Salary</th>\n      <th>FPTS</th>\n      <th>Odds</th>\n    </tr>\n  </thead>\n  <tbody>\n    <tr>\n      <th>9</th>\n      <td>Brady Calkins</td>\n      <td>10800</td>\n      <td>50.05</td>\n      <td>7.0</td>\n    </tr>\n    <tr>\n      <th>44</th>\n      <td>Tyler Weworski</td>\n      <td>10600</td>\n      <td>57.50</td>\n      <td>9.5</td>\n    </tr>\n    <tr>\n      <th>35</th>\n      <td>Sahith Theegala</td>\n      <td>10400</td>\n      <td>76.25</td>\n      <td>7.5</td>\n    </tr>\n    <tr>\n      <th>3</th>\n      <td>Alistair Docherty</td>\n      <td>10200</td>\n      <td>67.95</td>\n      <td>12.0</td>\n    </tr>\n    <tr>\n      <th>20</th>\n      <td>Mark Baldwin</td>\n      <td>10000</td>\n      <td>41.65</td>\n      <td>12.0</td>\n    </tr>\n    <tr>\n      <th>29</th>\n      <td>Nicolo Galletti</td>\n      <td>9800</td>\n      <td>55.15</td>\n      <td>11.0</td>\n    </tr>\n    <tr>\n      <th>39</th>\n      <td>Steven Alker</td>\n      <td>9700</td>\n      <td>45.90</td>\n      <td>17.0</td>\n    </tr>\n    <tr>\n      <th>28</th>\n      <td>Neil Johnson</td>\n      <td>9400</td>\n      <td>53.45</td>\n      <td>15.0</td>\n    </tr>\n  </tbody>\n</table>\n</div>",
            "text/plain": "                 Name  Salary   FPTS  Odds\n9       Brady Calkins   10800  50.05   7.0\n44     Tyler Weworski   10600  57.50   9.5\n35    Sahith Theegala   10400  76.25   7.5\n3   Alistair Docherty   10200  67.95  12.0\n20       Mark Baldwin   10000  41.65  12.0\n29    Nicolo Galletti    9800  55.15  11.0\n39       Steven Alker    9700  45.90  17.0\n28       Neil Johnson    9400  53.45  15.0"
          },
          "metadata": {}
        }
      ]
    },
    {
      "metadata": {
        "trusted": true
      },
      "cell_type": "code",
      "source": "df_list = []\nfor i in range(len(df_sal_list)):\n    df = df_sal_list[i][['Name','Salary']]\n\n    #Get everyone's final FPTS\n    df_results = df_results_list[i]\n    df_results.rename(columns={'Player':'Name'},inplace=True)\n\n    #Add FPTS\n    df = pd.merge(df,df_results[['Name','FPTS']],on='Name',how='left')\n\n    #Only keep entries with FPTS > 0\n    df = df.dropna()\n    df = df[df.FPTS>0]\n\n    #Add in odds\n    df_odds = df_odds_list[i][['Name','Odds']]\n    #Make sure odds are floats with no commas\n    df_odds.Odds = df_odds.Odds.astype(str).str.replace(',','').astype(float)\n    #Make sur eodds are number:1, not 100*number:1\n    if df_odds.Odds.min()>100:\n        df_odds.Odds = df_odds.Odds / 100\n    #Apply rstrip to Name since it might have a goofy extra white space\n    df_odds.Name = df_odds.Name.str.rstrip()\n\n    #Replace Name in df_odds with closest name in df_sal\n    for j in np.arange(len(df_odds)):\n        curr_name = df_odds['Name'].iloc[j]\n        try:\n            new_name = get_close_matches(curr_name,df['Name'],cutoff=.8)[0]\n            #if new_name != curr_name:\n                #print(\"{} replaced with {}\".format(curr_name,new_name))\n        except:\n            new_name = 'No Name'\n            #print('NO MATCH: curr_name = {}, new_name = {}'.format(curr_name,new_name))\n        df_odds['Name'].iloc[j] = new_name\n\n    #Add odds to df_sal\n    df = pd.merge(df,df_odds,how='left')\n    df = df.dropna()\n    \n    #Make sure name isn't repeated with 2 different odds\n    df = df.groupby(['Name','Salary','FPTS'])['Odds'].min().reset_index().sort_values(by='Salary',ascending=False)\n    #Add Win probability as well\n    df['Win'] = 1 / (df.Odds+1)\n    \n    df_list.append(df)",
      "execution_count": null,
      "outputs": [
        {
          "output_type": "stream",
          "text": "/home/nbuser/anaconda3_501/lib/python3.6/site-packages/pandas/core/generic.py:4405: SettingWithCopyWarning: \nA value is trying to be set on a copy of a slice from a DataFrame.\nTry using .loc[row_indexer,col_indexer] = value instead\n\nSee the caveats in the documentation: http://pandas.pydata.org/pandas-docs/stable/indexing.html#indexing-view-versus-copy\n  self[name] = value\n/home/nbuser/anaconda3_501/lib/python3.6/site-packages/ipykernel/__main__.py:36: SettingWithCopyWarning: \nA value is trying to be set on a copy of a slice from a DataFrame\n\nSee the caveats in the documentation: http://pandas.pydata.org/pandas-docs/stable/indexing.html#indexing-view-versus-copy\n",
          "name": "stderr"
        }
      ]
    },
    {
      "metadata": {
        "trusted": true
      },
      "cell_type": "code",
      "source": "df_list[-1].iloc[np.r_[0:8,-4:0]]",
      "execution_count": null,
      "outputs": []
    },
    {
      "metadata": {},
      "cell_type": "markdown",
      "source": "# Now Optimize in different ways"
    },
    {
      "metadata": {
        "trusted": true
      },
      "cell_type": "code",
      "source": "num_teams_deep = 3",
      "execution_count": null,
      "outputs": []
    },
    {
      "metadata": {
        "trusted": true
      },
      "cell_type": "code",
      "source": "pd.DataFrame(data={day:np.zeros(num_teams_deep) for day in days})",
      "execution_count": null,
      "outputs": []
    },
    {
      "metadata": {
        "trusted": true
      },
      "cell_type": "code",
      "source": "#start to record truly optimal teams\ndf_outlaw_optimals = pd.DataFrame(columns=['Team','Salary','FPTS'])\ndf_outlaw_optimals",
      "execution_count": null,
      "outputs": []
    },
    {
      "metadata": {
        "trusted": true
      },
      "cell_type": "code",
      "source": "#Explore truly optimal teams\nnum_teams_deep = 1\ndf_scores = pd.DataFrame(data={day:np.zeros(num_teams_deep) for day in days})\n#start to record truly optimal teams\ndf_outlaw_optimals = pd.DataFrame(columns=['Optimal Team','Salary','FPTS'])\nopt_scores = []\nfor day, df in zip(days,df_list):\n    print(day)\n    df_now = df.copy()\n    min_sal = 60\n    max_sal = 12000\n    df_now = df_now[(df_now.Salary>=min_sal)&(df_now.Salary<=max_sal)]\n    opt_teams = []\n    for i in range(num_teams_deep):\n        n = len(df_now)\n        x = cp.Variable(n,boolean=True)\n        s = df_now.Salary.values\n        w = df_now.Win.values\n        o = df_now.Odds.values\n        p = df_now.FPTS.values\n\n        cap = 50000\n        constraints = [cp.sum(x) == 6,\n                     x*s <= cap]\n\n        #Objective\n        #obj = cp.Minimize(x*o)\n        obj = cp.Maximize(x*p)\n\n        # Form and solve problem.\n        prob = cp.Problem(obj, constraints)\n        prob.solve()  \n        opt_team = df_now['Name'][x.value>.5].tolist()\n        sal=df_now['Salary'][x.value>.5].sum()\n        opt_teams = opt_teams + opt_team\n        score = df_now[x.value>.5]['FPTS'].sum()\n        print('  Team {} ({:.1f} pts): {}'.format(i+1,score,opt_team))\n        df_scores.at[i,day] = score\n        \n        #Remove these players\n        df_now = df_now[~df_now.Name.isin(opt_team)]\n        \n    #Now find the best team you could possibly make from this player pool\n    df_now = df[df.Name.isin(opt_teams)]\n    n = len(df_now)\n    x = cp.Variable(n,boolean=True)\n    s = df_now.Salary.values\n    p = df_now.FPTS.values\n    w = df_now.Win.values\n    o = df_now.Odds.values\n\n    cap = 50000\n    constraints = [cp.sum(x) == 6,\n                 x*s <= cap]\n\n    #Minimize Winning Odds\n    obj = cp.Maximize(x*p)\n\n    # Form and solve problem.\n    prob = cp.Problem(obj, constraints)\n    prob.solve()  \n    opt_team = df_now['Name'][x.value>.5].tolist()\n    sal = df_now[x.value>.5].Salary.sum()\n    #opt_teams = opt_teams + opt_team\n    score = df_now[x.value>.5]['FPTS'].sum()\n    print('  Best Team ({:.1f} pts, sal={}): {}'.format(score,sal,opt_team))\n    opt_scores.append(score)\n    \n    #Update df_outlaw_optimals\n    df_outlaw_optimals = pd.concat([df_outlaw_optimals,\n                                  pd.DataFrame(data={'Optimal Team':[\", \".join(opt_team)],\n                                                    'Salary':sal,\n                                                    'FPTS':score})])\n    \n        \ndf_scores['Total'] = df_scores.mean(axis=1)\nprint('\\nOverall Average Score: {:.1f}'.format(df_scores.Total.mean()))\nprint('Average Optimal Score: {:.1f}'.format(np.mean(opt_scores)))\ndf_scores\ndf_outlaw_optimals.index = days\ndf_outlaw_optimals.index.name = 'Date'\ndf_outlaw_optimals   ",
      "execution_count": null,
      "outputs": []
    },
    {
      "metadata": {
        "trusted": true
      },
      "cell_type": "code",
      "source": "df_outlaw_optimals.Salary = df_outlaw_optimals.Salary.astype(int)",
      "execution_count": null,
      "outputs": []
    },
    {
      "metadata": {
        "trusted": true
      },
      "cell_type": "code",
      "source": "df_outlaw_optimals.Salary.mean()",
      "execution_count": null,
      "outputs": []
    },
    {
      "metadata": {
        "trusted": true
      },
      "cell_type": "code",
      "source": "from IPython.display import display, HTML",
      "execution_count": null,
      "outputs": []
    },
    {
      "metadata": {
        "trusted": true
      },
      "cell_type": "code",
      "source": "pd.set_option('display.max_colwidth', -1)",
      "execution_count": null,
      "outputs": []
    },
    {
      "metadata": {
        "trusted": true
      },
      "cell_type": "code",
      "source": "opt_sal_text= '<h4>Average Optimal Outlaw Tour Salary: {:.1f}</h4>'.format(int(df_outlaw_optimals.Salary.mean()))\nfull_html = opt_sal_text + df_outlaw_optimals.to_html()\ndisplay(HTML(full_html))",
      "execution_count": null,
      "outputs": []
    },
    {
      "metadata": {
        "trusted": true
      },
      "cell_type": "code",
      "source": "from bokeh.io import show, output_notebook, save, export_png\nfrom bokeh.resources import INLINE\nfrom bokeh.layouts import row, widgetbox, column\nfrom bokeh.models import ColumnDataSource, CustomJS\nfrom bokeh.models.widgets import Button, DataTable, TableColumn, Div\nfrom bokeh.plotting import figure\noutput_notebook(INLINE)",
      "execution_count": null,
      "outputs": []
    },
    {
      "metadata": {
        "trusted": true
      },
      "cell_type": "code",
      "source": "p = Div()\np.text = full_html\nshow(p)",
      "execution_count": null,
      "outputs": []
    },
    {
      "metadata": {
        "trusted": true
      },
      "cell_type": "code",
      "source": "import matplotlib.pyplot as plt\n%matplotlib notebook",
      "execution_count": null,
      "outputs": []
    },
    {
      "metadata": {
        "trusted": true
      },
      "cell_type": "code",
      "source": "d = {'x{}'.format(i): range(30) for i in range(10)}\n\ntable = pd.DataFrame(d)\n\nplt.figure()\n\n# table\nplt.subplot(121)\n\ncell_text = []\nfor row in range(len(table)):\n    cell_text.append(table.iloc[row])\n\nplt.table(cellText=cell_text, colLabels=table.columns, loc='center')\nplt.axis('off')\n\n# plot\nplt.subplot(222)\nplt.plot(table['x1'],table['x2'])\n\n# plot\nplt.subplot(224)\nplt.plot(table['x1'],table['x2'])\n\nplt.show()",
      "execution_count": null,
      "outputs": []
    },
    {
      "metadata": {
        "trusted": true
      },
      "cell_type": "code",
      "source": "plt.figure()\ntable = df_outlaw_optimals.reset_index().copy()\n# table\nplt.subplot(121)\n\ncell_text = []\nfor row in range(len(table)):\n    cell_text.append(table.iloc[row])\n\nplt.table(cellText=cell_text, colLabels=table.columns, loc='center',\n         fontsize=19)\nplt.axis('off')\n\n# plot\n# plt.subplot(222)\n# plt.plot(table['x1'],table['x2'])\n\n# # plot\n# plt.subplot(224)\n# plt.plot(table['x1'],table['x2'])\n\nplt.show()",
      "execution_count": null,
      "outputs": []
    },
    {
      "metadata": {
        "trusted": true
      },
      "cell_type": "code",
      "source": "",
      "execution_count": null,
      "outputs": []
    },
    {
      "metadata": {
        "trusted": true
      },
      "cell_type": "code",
      "source": "#Max win probability\n#Explore truly optimal teams\nnum_teams_deep = 3\ndf_scores = pd.DataFrame(data={day:np.zeros(num_teams_deep) for day in days})\nopt_scores = []\nfor day, df in zip(days,df_list):\n    print(day)\n    df_now = df.copy()\n    min_sal = 6200\n    max_sal = 12000\n    df_now = df_now[(df_now.Salary>=min_sal)&(df_now.Salary<=max_sal)]\n    opt_teams = []\n    for i in range(num_teams_deep):\n        n = len(df_now)\n        x = cp.Variable(n,boolean=True)\n        s = df_now.Salary.values\n        w = df_now.Win.values\n        o = df_now.Odds.values\n        p = df_now.FPTS.values\n\n        cap = 50000\n        constraints = [cp.sum(x) == 6,\n                     x*s <= cap]\n\n        #Objective\n        #obj = cp.Minimize(x*o)\n        obj = cp.Maximize(x*w)\n\n        # Form and solve problem.\n        prob = cp.Problem(obj, constraints)\n        prob.solve()  \n        opt_team = df_now['Name'][x.value>.5].tolist()\n        sal=df_now['Salary'][x.value>.5].sum()\n        opt_teams = opt_teams + opt_team\n        score = df_now[x.value>.5]['FPTS'].sum()\n        print('  Team {} ({:.1f} pts): {}'.format(i+1,score,opt_team))\n        df_scores.at[i,day] = score\n        \n        #Remove these players\n        df_now = df_now[~df_now.Name.isin(opt_team)]\n        \n    #Now find the best team you could possibly make from this player pool\n    df_now = df[df.Name.isin(opt_teams)]\n    n = len(df_now)\n    x = cp.Variable(n,boolean=True)\n    s = df_now.Salary.values\n    p = df_now.FPTS.values\n    w = df_now.Win.values\n    o = df_now.Odds.values\n\n    cap = 50000\n    constraints = [cp.sum(x) == 6,\n                 x*s <= cap]\n\n    #Minimize Winning Odds\n    obj = cp.Maximize(x*p)\n\n    # Form and solve problem.\n    prob = cp.Problem(obj, constraints)\n    prob.solve()  \n    opt_team = df_now['Name'][x.value>.5].tolist()\n    sal = df_now[x.value>.5].Salary.sum()\n    #opt_teams = opt_teams + opt_team\n    score = df_now[x.value>.5]['FPTS'].sum()\n    print('  Best Team ({:.1f} pts, sal={}): {}'.format(score,sal,opt_team))\n    opt_scores.append(score)\n    \n        \ndf_scores['Total'] = df_scores.mean(axis=1)\nprint('\\nOverall Average Score: {:.1f}'.format(df_scores.Total.mean()))\nprint('Average Optimal Score: {:.1f}'.format(np.mean(opt_scores)))\ndf_scores",
      "execution_count": null,
      "outputs": []
    },
    {
      "metadata": {
        "trusted": true
      },
      "cell_type": "code",
      "source": "#Minimize Odds\nnum_teams_deep = 3\ndf_scores = pd.DataFrame(data={day:np.zeros(num_teams_deep) for day in days})\nopt_scores = []\nfor day, df in zip(days,df_list):\n    print(day)\n    df_now = df.copy()\n    to_remove = ['JJ Spaun']\n    df_now = df_now[~df_now.Name.isin(to_remove)]\n    #df_now = df_now[df_now.Name!='Yuki Moriyama']\n    min_sal = 6700\n    df_now = df_now[df_now.Salary>=min_sal]\n    opt_teams = []\n    for i in range(num_teams_deep):\n        n = len(df_now)\n        x = cp.Variable(n,boolean=True)\n        s = df_now.Salary.values\n        w = df_now.Win.values\n        o = df_now.Odds.values\n\n        cap = 50000\n        constraints = [cp.sum(x) == 6,\n                     x*s <= cap]\n\n        #Minimize Winning Odds\n        obj = cp.Minimize(x*o)\n\n        # Form and solve problem.\n        prob = cp.Problem(obj, constraints)\n        prob.solve()  \n        opt_team = df_now['Name'][x.value>.5].tolist()\n        opt_teams = opt_teams + opt_team\n        score = df_now[x.value>.5]['FPTS'].sum()\n        print('  Team {} ({:.1f} pts): {}'.format(i+1,score,opt_team))\n        df_scores.at[i,day] = score\n        \n        #Remove these players\n        df_now = df_now[~df_now.Name.isin(opt_team)]\n        \n    #Now find the best team you could possibly make from this player pool\n    df_now = df[df.Name.isin(opt_teams)]\n    n = len(df_now)\n    x = cp.Variable(n,boolean=True)\n    s = df_now.Salary.values\n    p = df_now.FPTS.values\n    w = df_now.Win.values\n    o = df_now.Odds.values\n\n    cap = 50000\n    constraints = [cp.sum(x) == 6,\n                 x*s <= cap]\n\n    #Minimize Winning Odds\n    obj = cp.Maximize(x*p)\n\n    # Form and solve problem.\n    prob = cp.Problem(obj, constraints)\n    prob.solve()  \n    opt_team = df_now['Name'][x.value>.5].tolist()\n    sal = df_now[x.value>.5].Salary.sum()\n    #opt_teams = opt_teams + opt_team\n    score = df_now[x.value>.5]['FPTS'].sum()\n    print('  Best Team ({:.1f} pts, sal={}): {}'.format(score,sal,opt_team))\n    opt_scores.append(score)\n    \n        \ndf_scores['Total'] = df_scores.mean(axis=1)\nprint('\\nOverall Average Score: {:.1f}'.format(df_scores.Total.mean()))\nprint('Average Optimal Score: {:.1f}'.format(np.mean(opt_scores)))\ndf_scores",
      "execution_count": null,
      "outputs": []
    },
    {
      "metadata": {
        "trusted": true
      },
      "cell_type": "code",
      "source": "#Check out some kind of value metric to pick top 15 players\ndf = df_list[2]\ndf['Value'] = np.power(df.Win,.5) / df.Salary*1e6\ndf.sort_values(by='Value',ascending=False,inplace=True)\ndf.reset_index(drop=True,inplace=True)\ndf.head(25)",
      "execution_count": null,
      "outputs": []
    },
    {
      "metadata": {
        "trusted": true
      },
      "cell_type": "markdown",
      "source": "# plot DK pts gained vs odds"
    },
    {
      "metadata": {
        "trusted": true
      },
      "cell_type": "code",
      "source": "df_gained = pd.DataFrame()\nfor df in df_list:\n    df['gained']=df.FPTS-df.FPTS.mean()\n    df_gained=pd.concat([df_gained,\n                        df[['Odds','gained']]])\ndf_gained.iloc[np.r_[0:4,-4:0]]",
      "execution_count": null,
      "outputs": []
    },
    {
      "metadata": {
        "trusted": true
      },
      "cell_type": "code",
      "source": "import matplotlib.pyplot as plt\n%matplotlib notebook",
      "execution_count": null,
      "outputs": []
    },
    {
      "metadata": {
        "trusted": true
      },
      "cell_type": "code",
      "source": "df_gained.plot(kind='scatter',\n              x='Odds',\n              y='gained')",
      "execution_count": null,
      "outputs": []
    },
    {
      "metadata": {
        "trusted": true
      },
      "cell_type": "code",
      "source": "from scipy.stats import linregress",
      "execution_count": null,
      "outputs": []
    },
    {
      "metadata": {
        "trusted": true
      },
      "cell_type": "code",
      "source": "L =linregress(x=df_gained)\nL",
      "execution_count": null,
      "outputs": []
    },
    {
      "metadata": {
        "trusted": true
      },
      "cell_type": "code",
      "source": "L.intercept",
      "execution_count": null,
      "outputs": []
    },
    {
      "metadata": {
        "trusted": true
      },
      "cell_type": "code",
      "source": "\nfrom bokeh.io import curdoc, show, output_notebook, save\nfrom bokeh.resources import INLINE\nfrom bokeh.layouts import row, widgetbox, column\nfrom bokeh.models import ColumnDataSource, CustomJS\nfrom bokeh.models.widgets import Button, DataTable, TableColumn\nfrom bokeh.plotting import figure\noutput_notebook(INLINE)",
      "execution_count": null,
      "outputs": []
    },
    {
      "metadata": {
        "trusted": true
      },
      "cell_type": "code",
      "source": "from sklearn.linear_model import LinearRegression \nlin = LinearRegression()\nfrom sklearn.preprocessing import PolynomialFeatures  \n\npoly = PolynomialFeatures(degree = 4) \nX=df_gained[['Odds']]\nX_poly = poly.fit_transform(X) \n\ny=df_gained.gained\npoly.fit(X_poly, y) \n\nlin2 = LinearRegression() \nlin2.fit(X_poly, y)",
      "execution_count": null,
      "outputs": []
    },
    {
      "metadata": {
        "trusted": true
      },
      "cell_type": "code",
      "source": "p = figure()\np.circle(x=df_gained.Odds,\n        y=df_gained.gained)\nx_plot=np.arange(0,df_gained.Odds.max())\nx_plot_poly = poly.fit_transform(pd.DataFrame(x_plot))\ny_predicted = lin2.predict(x_plot_poly)\np.line(x=x_plot,y=y_predicted)\np.line(x=x_plot,y=L.intercept + L.slope*x_plot,color='red')\nshow(p)",
      "execution_count": null,
      "outputs": []
    },
    {
      "metadata": {
        "trusted": true
      },
      "cell_type": "code",
      "source": "#see what dispersion looks like around expected pts\ndf_gained['proj']=lin2.predict(poly.fit_transform(df_gained[['Odds']]))\ndf_gained['diff']=df_gained.gained-df_gained.proj\ndf_gained.head()",
      "execution_count": null,
      "outputs": []
    },
    {
      "metadata": {
        "trusted": true
      },
      "cell_type": "code",
      "source": "df_gained.hist('diff',bins=12)",
      "execution_count": null,
      "outputs": []
    },
    {
      "metadata": {
        "trusted": true
      },
      "cell_type": "code",
      "source": "#what is sd of doff\ndf_gained['diff'].describe()",
      "execution_count": null,
      "outputs": []
    },
    {
      "metadata": {
        "trusted": true
      },
      "cell_type": "code",
      "source": "#save the sd for scores\nsd = df_gained['diff'].describe().loc['std']\nsd",
      "execution_count": null,
      "outputs": []
    },
    {
      "metadata": {
        "trusted": true
      },
      "cell_type": "code",
      "source": "#Does sd differ for different odds levels?\nnum_tiers = 10\ndf_gained['tier'] = pd.qcut(df_gained.Odds,q=num_tiers,labels=[str(i+1) for i in range(num_tiers)])\ndf_gained.head()",
      "execution_count": null,
      "outputs": []
    },
    {
      "metadata": {
        "trusted": true
      },
      "cell_type": "code",
      "source": "df_gained.groupby('tier')['diff'].agg(lambda x: np.std(x))",
      "execution_count": null,
      "outputs": []
    },
    {
      "metadata": {
        "trusted": true
      },
      "cell_type": "code",
      "source": "#Add projected points (Proj) to each df\nfor i, df in enumerate(df_list):\n    df_now = df.copy()\n    df_now['Proj'] = lin2.predict(poly.fit_transform(df_now[['Odds']]))\n    df_list[i] = df_now\ndf_list[-1].head()",
      "execution_count": null,
      "outputs": []
    },
    {
      "metadata": {
        "trusted": true
      },
      "cell_type": "code",
      "source": "#Max projected points\nnum_teams_deep = 3\ndf_scores = pd.DataFrame(data={day:np.zeros(num_teams_deep) for day in days})\nopt_scores = []\nfor day, df in zip(days,df_list):\n    print(day)\n    df_now = df.copy()\n    to_remove = ['JJ Spaun']\n    df_now = df_now[~df_now.Name.isin(to_remove)]\n    #df_now = df_now[df_now.Name!='Yuki Moriyama']\n    min_sal = 6400\n    df_now = df_now[df_now.Salary>=min_sal]\n    \n    #Add proj\n    #df_now['Proj'] = lin2.predict(poly.fit_transform(df_now[['Odds']]))\n    opt_teams = []\n    for i in range(num_teams_deep):\n        n = len(df_now)\n        x = cp.Variable(n,boolean=True)\n        s = df_now.Salary.values\n        w = df_now.Win.values\n        o = df_now.Odds.values\n        p = df_now.Proj.values\n\n        cap = 50000\n        constraints = [cp.sum(x) == 6,\n                     x*s <= cap]\n\n        #Minimize Winning Odds\n        #obj = cp.Minimize(x*o)\n        obj = cp.Maximize(x*p)\n\n        # Form and solve problem.\n        prob = cp.Problem(obj, constraints)\n        prob.solve()  \n        opt_team = df_now['Name'][x.value>.5].tolist()\n        opt_teams = opt_teams + opt_team\n        score = df_now[x.value>.5]['FPTS'].sum()\n        print('  Team {} ({:.1f} pts): {}'.format(i+1,score,opt_team))\n        df_scores.at[i,day] = score\n        \n        #Remove these players\n        df_now = df_now[~df_now.Name.isin(opt_team)]\n        \n    #Now find the best team you could possibly make from this player pool\n    df_now = df[df.Name.isin(opt_teams)]\n    n = len(df_now)\n    x = cp.Variable(n,boolean=True)\n    s = df_now.Salary.values\n    p = df_now.FPTS.values\n    w = df_now.Win.values\n    o = df_now.Odds.values\n\n    cap = 50000\n    constraints = [cp.sum(x) == 6,\n                 x*s <= cap]\n\n    #Minimize Winning Odds\n    obj = cp.Maximize(x*p)\n\n    # Form and solve problem.\n    prob = cp.Problem(obj, constraints)\n    prob.solve()  \n    opt_team = df_now['Name'][x.value>.5].tolist()\n    sal = df_now[x.value>.5].Salary.sum()\n    #opt_teams = opt_teams + opt_team\n    score = df_now[x.value>.5]['FPTS'].sum()\n    print('  Best Team ({:.1f} pts, sal={}): {}'.format(score,sal,opt_team))\n    opt_scores.append(score)\n    \n        \ndf_scores['Total'] = df_scores.mean(axis=1)\nprint('\\nOverall Average Score: {:.1f}'.format(df_scores.Total.mean()))\nprint('Average Optimal Score: {:.1f}'.format(np.mean(opt_scores)))\ndf_scores",
      "execution_count": null,
      "outputs": []
    },
    {
      "metadata": {
        "trusted": true
      },
      "cell_type": "markdown",
      "source": "### Save (pickle) trained model"
    },
    {
      "metadata": {
        "trusted": true
      },
      "cell_type": "code",
      "source": "import pickle\n\n# Dump the trained model with Pickle\npkl_filename = 'outlaw_proj_model.pkl'\n# Open the file to save as pkl file\noutlaw_proj_model_pkl = open(pkl_filename, 'wb')\npickle.dump(lin2, outlaw_proj_model_pkl)\n# Close the pickle instances\noutlaw_proj_model_pkl.close()",
      "execution_count": null,
      "outputs": []
    },
    {
      "metadata": {
        "trusted": true
      },
      "cell_type": "code",
      "source": "#Loading the saved model pickle\noutlaw_proj_model_pkl = open(pkl_filename, 'rb')\noutlaw_proj_model = pickle.load(outlaw_proj_model_pkl)\nprint (\"Loaded Outlaw model :: \", outlaw_proj_model)",
      "execution_count": null,
      "outputs": []
    },
    {
      "metadata": {
        "trusted": true
      },
      "cell_type": "code",
      "source": "outlaw_proj_model.predict(x_plot_poly)",
      "execution_count": null,
      "outputs": []
    },
    {
      "metadata": {
        "trusted": true
      },
      "cell_type": "markdown",
      "source": "# Optimize by number of times players appear in optimal lineups"
    },
    {
      "metadata": {},
      "cell_type": "markdown",
      "source": "### First, simulate to add num_opt to each df"
    },
    {
      "metadata": {
        "trusted": true
      },
      "cell_type": "code",
      "source": "df_list[-1].head()",
      "execution_count": null,
      "outputs": []
    },
    {
      "metadata": {
        "trusted": true
      },
      "cell_type": "code",
      "source": "def sim_optimal_team(df,sd=10.8):\n    #df needs column called Points\n    # sd is standard dev for added normal points.  Set lower for less shuffling of teams away from pure max expectation\n    #sd = 10.8\n    df_now = df.copy()\n    df_now['sim_pts']=df.Proj+sd*np.random.randn(len(df_now))\n    n = len(df_now)\n    x = cp.Variable(n,boolean=True)\n    s = df_now.Salary.values\n    sim_pts = df_now.sim_pts.values\n\n    cap = 50000\n    constraints = [cp.sum(x) == 6,\n             x*s <= cap]\n    obj = cp.Maximize(x*sim_pts)\n    prob = cp.Problem(obj, constraints)\n    prob.solve()  \n    opt_team = df_now['Name'][x.value>.5].tolist()\n    return opt_team\n\nsim_optimal_team(df_list[-1])",
      "execution_count": null,
      "outputs": []
    },
    {
      "metadata": {
        "trusted": true
      },
      "cell_type": "code",
      "source": "#Simulate to add num_opt to each df\nnum_sims = 1000\nfor i, df in enumerate(df_list):\n    df_now = df.copy()\n    df_now['num_opt'] = 0\n    for n in range(num_sims):\n#         if i%(int(num_sims/4))==0:\n#             print('i = {}'.format(i))\n        opt_team=sim_optimal_team(df_now,sd=sd)\n#         opt_sal=df_all[df_all.Name.isin(opt_team)].Salary.sum()\n#         total_sal+=opt_sal\n        df_now.num_opt=np.where(df_now.Name.isin(opt_team),\n                               df_now.num_opt +1,df_now.num_opt)\n    \n    df_list[i] = df_now\n    print(\"Done with {} of {} df's\".format(i+1,len(df_list)))",
      "execution_count": null,
      "outputs": []
    },
    {
      "metadata": {
        "trusted": true
      },
      "cell_type": "code",
      "source": "df_list[-1]",
      "execution_count": null,
      "outputs": []
    },
    {
      "metadata": {
        "trusted": true
      },
      "cell_type": "code",
      "source": "#Max by num_opt\nnum_teams_deep = 3\ndf_scores = pd.DataFrame(data={day:np.zeros(num_teams_deep) for day in days})\nopt_scores = []\nfor day, df in zip(days,df_list):\n    print(day)\n    df_now = df.copy()\n    to_remove = ['JJ Spaun']\n    df_now = df_now[~df_now.Name.isin(to_remove)]\n    #df_now = df_now[df_now.Name!='Yuki Moriyama']\n    min_sal = 6000\n    df_now = df_now[df_now.Salary>=min_sal]\n    \n    #Add proj\n    #df_now['Proj'] = lin2.predict(poly.fit_transform(df_now[['Odds']]))\n    opt_teams = []\n    for i in range(num_teams_deep):\n        n = len(df_now)\n        x = cp.Variable(n,boolean=True)\n        s = df_now.Salary.values\n        w = df_now.Win.values\n        o = df_now.Odds.values\n        p = df_now.num_opt.values\n\n        cap = 50000\n        constraints = [cp.sum(x) == 6,\n                     x*s <= cap]\n\n        #Minimize Winning Odds\n        #obj = cp.Minimize(x*o)\n        obj = cp.Maximize(x*p)\n\n        # Form and solve problem.\n        prob = cp.Problem(obj, constraints)\n        prob.solve()  \n        opt_team = df_now['Name'][x.value>.5].tolist()\n        opt_teams = opt_teams + opt_team\n        score = df_now[x.value>.5]['FPTS'].sum()\n        print('  Team {} ({:.1f} pts): {}'.format(i+1,score,opt_team))\n        df_scores.at[i,day] = score\n        \n        #Remove these players\n        df_now = df_now[~df_now.Name.isin(opt_team)]\n        \n    #Now find the best team you could possibly make from this player pool\n    df_now = df[df.Name.isin(opt_teams)]\n    n = len(df_now)\n    x = cp.Variable(n,boolean=True)\n    s = df_now.Salary.values\n    p = df_now.FPTS.values\n    w = df_now.Win.values\n    o = df_now.Odds.values\n\n    cap = 50000\n    constraints = [cp.sum(x) == 6,\n                 x*s <= cap]\n\n    #Minimize Winning Odds\n    obj = cp.Maximize(x*p)\n\n    # Form and solve problem.\n    prob = cp.Problem(obj, constraints)\n    prob.solve()  \n    opt_team = df_now['Name'][x.value>.5].tolist()\n    sal = df_now[x.value>.5].Salary.sum()\n    #opt_teams = opt_teams + opt_team\n    score = df_now[x.value>.5]['FPTS'].sum()\n    print('  Best Team ({:.1f} pts, sal={}): {}'.format(score,sal,opt_team))\n    opt_scores.append(score)\n    \n        \ndf_scores['Total'] = df_scores.mean(axis=1)\nprint('\\nOverall Average Score: {:.1f}'.format(df_scores.Total.mean()))\nprint('Average Optimal Score: {:.1f}'.format(np.mean(opt_scores)))\ndf_scores",
      "execution_count": null,
      "outputs": []
    },
    {
      "metadata": {
        "trusted": true
      },
      "cell_type": "code",
      "source": "",
      "execution_count": null,
      "outputs": []
    },
    {
      "metadata": {
        "trusted": true
      },
      "cell_type": "code",
      "source": "",
      "execution_count": null,
      "outputs": []
    }
  ],
  "metadata": {
    "kernelspec": {
      "name": "python36",
      "display_name": "Python 3.6",
      "language": "python"
    },
    "language_info": {
      "mimetype": "text/x-python",
      "nbconvert_exporter": "python",
      "name": "python",
      "pygments_lexer": "ipython3",
      "version": "3.6.6",
      "file_extension": ".py",
      "codemirror_mode": {
        "version": 3,
        "name": "ipython"
      }
    }
  },
  "nbformat": 4,
  "nbformat_minor": 2
}