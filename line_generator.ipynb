{
  "cells": [
    {
      "metadata": {
        "trusted": true
      },
      "cell_type": "code",
      "source": "import pandas as pd\nimport numpy as np",
      "execution_count": 1,
      "outputs": []
    },
    {
      "metadata": {
        "trusted": true
      },
      "cell_type": "code",
      "source": "url = 'https://www.draftkings.com/lineup/getavailableplayerscsv?contestTypeId=29&draftGroupId=35468'\ndf = pd.read_csv(url)\ndf.head()",
      "execution_count": 4,
      "outputs": [
        {
          "output_type": "execute_result",
          "execution_count": 4,
          "data": {
            "text/html": "<div>\n<style scoped>\n    .dataframe tbody tr th:only-of-type {\n        vertical-align: middle;\n    }\n\n    .dataframe tbody tr th {\n        vertical-align: top;\n    }\n\n    .dataframe thead th {\n        text-align: right;\n    }\n</style>\n<table border=\"1\" class=\"dataframe\">\n  <thead>\n    <tr style=\"text-align: right;\">\n      <th></th>\n      <th>Position</th>\n      <th>Name + ID</th>\n      <th>Name</th>\n      <th>ID</th>\n      <th>Roster Position</th>\n      <th>Salary</th>\n      <th>Game Info</th>\n      <th>TeamAbbrev</th>\n      <th>AvgPointsPerGame</th>\n    </tr>\n  </thead>\n  <tbody>\n    <tr>\n      <th>0</th>\n      <td>G</td>\n      <td>Rory McIlroy (14594113)</td>\n      <td>Rory McIlroy</td>\n      <td>14594113</td>\n      <td>G</td>\n      <td>11800</td>\n      <td>Charles Schwab Challenge</td>\n      <td>Golf</td>\n      <td>103.08</td>\n    </tr>\n    <tr>\n      <th>1</th>\n      <td>G</td>\n      <td>Jon Rahm (14594114)</td>\n      <td>Jon Rahm</td>\n      <td>14594114</td>\n      <td>G</td>\n      <td>11000</td>\n      <td>Charles Schwab Challenge</td>\n      <td>Golf</td>\n      <td>99.42</td>\n    </tr>\n    <tr>\n      <th>2</th>\n      <td>G</td>\n      <td>Justin Thomas (14594115)</td>\n      <td>Justin Thomas</td>\n      <td>14594115</td>\n      <td>G</td>\n      <td>10600</td>\n      <td>Charles Schwab Challenge</td>\n      <td>Golf</td>\n      <td>87.67</td>\n    </tr>\n    <tr>\n      <th>3</th>\n      <td>G</td>\n      <td>Bryson DeChambeau (14594116)</td>\n      <td>Bryson DeChambeau</td>\n      <td>14594116</td>\n      <td>G</td>\n      <td>10100</td>\n      <td>Charles Schwab Challenge</td>\n      <td>Golf</td>\n      <td>78.20</td>\n    </tr>\n    <tr>\n      <th>4</th>\n      <td>G</td>\n      <td>Webb Simpson (14594117)</td>\n      <td>Webb Simpson</td>\n      <td>14594117</td>\n      <td>G</td>\n      <td>9800</td>\n      <td>Charles Schwab Challenge</td>\n      <td>Golf</td>\n      <td>99.25</td>\n    </tr>\n  </tbody>\n</table>\n</div>",
            "text/plain": "  Position                     Name + ID               Name        ID  \\\n0        G       Rory McIlroy (14594113)       Rory McIlroy  14594113   \n1        G           Jon Rahm (14594114)           Jon Rahm  14594114   \n2        G      Justin Thomas (14594115)      Justin Thomas  14594115   \n3        G  Bryson DeChambeau (14594116)  Bryson DeChambeau  14594116   \n4        G       Webb Simpson (14594117)       Webb Simpson  14594117   \n\n  Roster Position  Salary                 Game Info TeamAbbrev  \\\n0               G   11800  Charles Schwab Challenge       Golf   \n1               G   11000  Charles Schwab Challenge       Golf   \n2               G   10600  Charles Schwab Challenge       Golf   \n3               G   10100  Charles Schwab Challenge       Golf   \n4               G    9800  Charles Schwab Challenge       Golf   \n\n   AvgPointsPerGame  \n0            103.08  \n1             99.42  \n2             87.67  \n3             78.20  \n4             99.25  "
          },
          "metadata": {}
        }
      ]
    },
    {
      "metadata": {
        "trusted": true
      },
      "cell_type": "code",
      "source": "lock = ['Jon Rahm','Justin Thomas']\nlock = []\n\nlock_full_names = df[df.Name.isin(lock)]['Name + ID'].tolist()\nsal_used = df[df.Name.isin(lock)]['Salary'].sum()\nsal_left = 50000-sal_used\nplayers_left = 6-len(lock)",
      "execution_count": 8,
      "outputs": []
    },
    {
      "metadata": {
        "trusted": true
      },
      "cell_type": "code",
      "source": "",
      "execution_count": 7,
      "outputs": [
        {
          "output_type": "execute_result",
          "execution_count": 7,
          "data": {
            "text/plain": "50000"
          },
          "metadata": {}
        }
      ]
    },
    {
      "metadata": {
        "trusted": true
      },
      "cell_type": "code",
      "source": "",
      "execution_count": null,
      "outputs": []
    }
  ],
  "metadata": {
    "kernelspec": {
      "name": "python36",
      "display_name": "Python 3.6",
      "language": "python"
    },
    "language_info": {
      "mimetype": "text/x-python",
      "nbconvert_exporter": "python",
      "name": "python",
      "pygments_lexer": "ipython3",
      "version": "3.6.6",
      "file_extension": ".py",
      "codemirror_mode": {
        "version": 3,
        "name": "ipython"
      }
    }
  },
  "nbformat": 4,
  "nbformat_minor": 1
}