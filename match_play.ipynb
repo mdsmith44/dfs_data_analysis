{
  "cells": [
    {
      "metadata": {
        "trusted": true
      },
      "cell_type": "code",
      "source": "!pip install cvxpy",
      "execution_count": 16,
      "outputs": [
        {
          "output_type": "stream",
          "text": "Collecting cvxpy\n\u001b[?25l  Downloading https://files.pythonhosted.org/packages/82/d5/0b787694c85297e36d3afd4c8574973809a7cc52aa2c602413012da8999d/cvxpy-1.0.21.tar.gz (917kB)\n\u001b[K    100% |████████████████████████████████| 921kB 11.6MB/s ta 0:00:01\n\u001b[?25hCollecting osqp (from cvxpy)\n\u001b[?25l  Downloading https://files.pythonhosted.org/packages/c0/01/8becb29b0d38e0c40eab9e3d54aa8138fa62a010d519caf65e9210021bd3/osqp-0.5.0-cp36-cp36m-manylinux1_x86_64.whl (147kB)\n\u001b[K    100% |████████████████████████████████| 153kB 11.3MB/s ta 0:00:01\n\u001b[?25hCollecting ecos>=2 (from cvxpy)\n\u001b[?25l  Downloading https://files.pythonhosted.org/packages/55/ed/d131ff51f3a8f73420eb1191345eb49f269f23cadef515172e356018cde3/ecos-2.0.7.post1-cp36-cp36m-manylinux1_x86_64.whl (147kB)\n\u001b[K    100% |████████████████████████████████| 153kB 18.4MB/s ta 0:00:01\n\u001b[?25hCollecting scs>=1.1.3 (from cvxpy)\n\u001b[?25l  Downloading https://files.pythonhosted.org/packages/07/a7/0b19c8f9476a4762d296c6c5fa860f2fe580a4f579fa53aaa8515f4ca217/scs-2.1.0.tar.gz (154kB)\n\u001b[K    100% |████████████████████████████████| 163kB 17.5MB/s ta 0:00:01\n\u001b[?25hCollecting multiprocess (from cvxpy)\n\u001b[?25l  Downloading https://files.pythonhosted.org/packages/31/60/6d74caa02b54ca43092e745640c7d98f367f07160441682a01602ce00bc5/multiprocess-0.70.7.tar.gz (1.4MB)\n\u001b[K    100% |████████████████████████████████| 1.4MB 5.8MB/s eta 0:00:01\n\u001b[?25hRequirement already satisfied: fastcache in /home/nbuser/anaconda3_501/lib/python3.6/site-packages (from cvxpy) (1.0.2)\nRequirement already satisfied: six in /home/nbuser/anaconda3_501/lib/python3.6/site-packages (from cvxpy) (1.11.0)\nCollecting numpy>=1.15 (from cvxpy)\n\u001b[?25l  Downloading https://files.pythonhosted.org/packages/35/d5/4f8410ac303e690144f0a0603c4b8fd3b986feb2749c435f7cdbb288f17e/numpy-1.16.2-cp36-cp36m-manylinux1_x86_64.whl (17.3MB)\n\u001b[K    100% |████████████████████████████████| 17.3MB 64kB/s eta 0:00:011    79% |█████████████████████████▍      | 13.7MB 7.3MB/s eta 0:00:01    91% |█████████████████████████████▍  | 15.9MB 7.3MB/s eta 0:00:01\n\u001b[?25hRequirement already satisfied: scipy>=1.1.0 in /home/nbuser/anaconda3_501/lib/python3.6/site-packages (from cvxpy) (1.1.0)\nRequirement already satisfied: future in /home/nbuser/anaconda3_501/lib/python3.6/site-packages (from osqp->cvxpy) (0.16.0)\nRequirement already satisfied: dill>=0.2.9 in /home/nbuser/anaconda3_501/lib/python3.6/site-packages (from multiprocess->cvxpy) (0.2.9)\nBuilding wheels for collected packages: cvxpy, scs, multiprocess\n  Building wheel for cvxpy (setup.py) ... \u001b[?25ldone\n\u001b[?25h  Stored in directory: /home/nbuser/.cache/pip/wheels/5c/b7/db/a45957512b8e6191ac26315d3847917321775b3d1b4aeceb35\n  Building wheel for scs (setup.py) ... \u001b[?25ldone\n\u001b[?25h  Stored in directory: /home/nbuser/.cache/pip/wheels/94/e2/a6/64db723051c54017c248ea5a26e7f1459c0242d735a496dd55\n  Building wheel for multiprocess (setup.py) ... \u001b[?25ldone\n\u001b[?25h  Stored in directory: /home/nbuser/.cache/pip/wheels/3a/ed/51/77c833462c3e757ce50c4b2b68bdf53f5d1745542fe567d740\nSuccessfully built cvxpy scs multiprocess\n\u001b[31mscikit-bio 0.5.4 has requirement numpy<1.14.0,>=1.9.2, but you'll have numpy 1.16.2 which is incompatible.\u001b[0m\n\u001b[31mkeras 2.2.2 has requirement keras_applications==1.0.4, but you'll have keras-applications 1.0.7 which is incompatible.\u001b[0m\n\u001b[31mkeras 2.2.2 has requirement keras_preprocessing==1.0.2, but you'll have keras-preprocessing 1.0.9 which is incompatible.\u001b[0m\n\u001b[31mazureml-train-automl 1.0.17.1 has requirement numpy<1.15.0,>=1.11.0, but you'll have numpy 1.16.2 which is incompatible.\u001b[0m\nInstalling collected packages: numpy, osqp, ecos, scs, multiprocess, cvxpy\n  Found existing installation: numpy 1.14.6\n    Uninstalling numpy-1.14.6:\n      Successfully uninstalled numpy-1.14.6\nSuccessfully installed cvxpy-1.0.21 ecos-2.0.7.post1 multiprocess-0.70.7 numpy-1.16.2 osqp-0.5.0 scs-2.1.0\n",
          "name": "stdout"
        }
      ]
    },
    {
      "metadata": {
        "trusted": true
      },
      "cell_type": "code",
      "source": "import pandas as pd\nimport numpy as np\nimport cvxpy as cp",
      "execution_count": 17,
      "outputs": []
    },
    {
      "metadata": {
        "trusted": true
      },
      "cell_type": "code",
      "source": "df = pd.read_csv('Data/DKSalaries Match Play 20190326.csv')\ndf.head()",
      "execution_count": 2,
      "outputs": [
        {
          "output_type": "execute_result",
          "execution_count": 2,
          "data": {
            "text/html": "<div>\n<style scoped>\n    .dataframe tbody tr th:only-of-type {\n        vertical-align: middle;\n    }\n\n    .dataframe tbody tr th {\n        vertical-align: top;\n    }\n\n    .dataframe thead th {\n        text-align: right;\n    }\n</style>\n<table border=\"1\" class=\"dataframe\">\n  <thead>\n    <tr style=\"text-align: right;\">\n      <th></th>\n      <th>Name + ID</th>\n      <th>Name</th>\n      <th>Salary</th>\n      <th>Win Group</th>\n      <th>Win Event</th>\n      <th>Group</th>\n      <th>Quarter</th>\n    </tr>\n  </thead>\n  <tbody>\n    <tr>\n      <th>0</th>\n      <td>Rory McIlroy (12300482)</td>\n      <td>Rory McIlroy</td>\n      <td>11700</td>\n      <td>42.8</td>\n      <td>5.2</td>\n      <td>4</td>\n      <td>NaN</td>\n    </tr>\n    <tr>\n      <th>1</th>\n      <td>Dustin Johnson (12300483)</td>\n      <td>Dustin Johnson</td>\n      <td>11400</td>\n      <td>40.8</td>\n      <td>5.4</td>\n      <td>1</td>\n      <td>NaN</td>\n    </tr>\n    <tr>\n      <th>2</th>\n      <td>Justin Thomas (12300484)</td>\n      <td>Justin Thomas</td>\n      <td>11000</td>\n      <td>37.7</td>\n      <td>3.8</td>\n      <td>5</td>\n      <td>NaN</td>\n    </tr>\n    <tr>\n      <th>3</th>\n      <td>Jon Rahm (12300485)</td>\n      <td>Jon Rahm</td>\n      <td>10600</td>\n      <td>37.4</td>\n      <td>3.5</td>\n      <td>8</td>\n      <td>NaN</td>\n    </tr>\n    <tr>\n      <th>4</th>\n      <td>Brooks Koepka (12300486)</td>\n      <td>Brooks Koepka</td>\n      <td>10300</td>\n      <td>33.3</td>\n      <td>2.1</td>\n      <td>3</td>\n      <td>NaN</td>\n    </tr>\n  </tbody>\n</table>\n</div>",
            "text/plain": "                   Name + ID            Name  Salary  Win Group  Win Event  \\\n0    Rory McIlroy (12300482)    Rory McIlroy   11700       42.8        5.2   \n1  Dustin Johnson (12300483)  Dustin Johnson   11400       40.8        5.4   \n2   Justin Thomas (12300484)   Justin Thomas   11000       37.7        3.8   \n3        Jon Rahm (12300485)        Jon Rahm   10600       37.4        3.5   \n4   Brooks Koepka (12300486)   Brooks Koepka   10300       33.3        2.1   \n\n   Group  Quarter  \n0      4      NaN  \n1      1      NaN  \n2      5      NaN  \n3      8      NaN  \n4      3      NaN  "
          },
          "metadata": {}
        }
      ]
    },
    {
      "metadata": {
        "trusted": true
      },
      "cell_type": "code",
      "source": "quarters = {1:1,16:1,9:2,8:2,\n          5:3,12:3,13:4,4:4,\n          2:5,15:5,10:6,7:6,\n          6:7,11:7,14:8,3:8}\ndf['Quarter'] = df.Group.map(quarters)\ndf.head()",
      "execution_count": 3,
      "outputs": [
        {
          "output_type": "execute_result",
          "execution_count": 3,
          "data": {
            "text/html": "<div>\n<style scoped>\n    .dataframe tbody tr th:only-of-type {\n        vertical-align: middle;\n    }\n\n    .dataframe tbody tr th {\n        vertical-align: top;\n    }\n\n    .dataframe thead th {\n        text-align: right;\n    }\n</style>\n<table border=\"1\" class=\"dataframe\">\n  <thead>\n    <tr style=\"text-align: right;\">\n      <th></th>\n      <th>Name + ID</th>\n      <th>Name</th>\n      <th>Salary</th>\n      <th>Win Group</th>\n      <th>Win Event</th>\n      <th>Group</th>\n      <th>Quarter</th>\n    </tr>\n  </thead>\n  <tbody>\n    <tr>\n      <th>0</th>\n      <td>Rory McIlroy (12300482)</td>\n      <td>Rory McIlroy</td>\n      <td>11700</td>\n      <td>42.8</td>\n      <td>5.2</td>\n      <td>4</td>\n      <td>4</td>\n    </tr>\n    <tr>\n      <th>1</th>\n      <td>Dustin Johnson (12300483)</td>\n      <td>Dustin Johnson</td>\n      <td>11400</td>\n      <td>40.8</td>\n      <td>5.4</td>\n      <td>1</td>\n      <td>1</td>\n    </tr>\n    <tr>\n      <th>2</th>\n      <td>Justin Thomas (12300484)</td>\n      <td>Justin Thomas</td>\n      <td>11000</td>\n      <td>37.7</td>\n      <td>3.8</td>\n      <td>5</td>\n      <td>3</td>\n    </tr>\n    <tr>\n      <th>3</th>\n      <td>Jon Rahm (12300485)</td>\n      <td>Jon Rahm</td>\n      <td>10600</td>\n      <td>37.4</td>\n      <td>3.5</td>\n      <td>8</td>\n      <td>2</td>\n    </tr>\n    <tr>\n      <th>4</th>\n      <td>Brooks Koepka (12300486)</td>\n      <td>Brooks Koepka</td>\n      <td>10300</td>\n      <td>33.3</td>\n      <td>2.1</td>\n      <td>3</td>\n      <td>8</td>\n    </tr>\n  </tbody>\n</table>\n</div>",
            "text/plain": "                   Name + ID            Name  Salary  Win Group  Win Event  \\\n0    Rory McIlroy (12300482)    Rory McIlroy   11700       42.8        5.2   \n1  Dustin Johnson (12300483)  Dustin Johnson   11400       40.8        5.4   \n2   Justin Thomas (12300484)   Justin Thomas   11000       37.7        3.8   \n3        Jon Rahm (12300485)        Jon Rahm   10600       37.4        3.5   \n4   Brooks Koepka (12300486)   Brooks Koepka   10300       33.3        2.1   \n\n   Group  Quarter  \n0      4        4  \n1      1        1  \n2      5        3  \n3      8        2  \n4      3        8  "
          },
          "metadata": {}
        }
      ]
    },
    {
      "metadata": {
        "trusted": true
      },
      "cell_type": "code",
      "source": "df['Semi'] = (df.Quarter-1) // 2 + 1\ndf.head()",
      "execution_count": 4,
      "outputs": [
        {
          "output_type": "execute_result",
          "execution_count": 4,
          "data": {
            "text/html": "<div>\n<style scoped>\n    .dataframe tbody tr th:only-of-type {\n        vertical-align: middle;\n    }\n\n    .dataframe tbody tr th {\n        vertical-align: top;\n    }\n\n    .dataframe thead th {\n        text-align: right;\n    }\n</style>\n<table border=\"1\" class=\"dataframe\">\n  <thead>\n    <tr style=\"text-align: right;\">\n      <th></th>\n      <th>Name + ID</th>\n      <th>Name</th>\n      <th>Salary</th>\n      <th>Win Group</th>\n      <th>Win Event</th>\n      <th>Group</th>\n      <th>Quarter</th>\n      <th>Semi</th>\n    </tr>\n  </thead>\n  <tbody>\n    <tr>\n      <th>0</th>\n      <td>Rory McIlroy (12300482)</td>\n      <td>Rory McIlroy</td>\n      <td>11700</td>\n      <td>42.8</td>\n      <td>5.2</td>\n      <td>4</td>\n      <td>4</td>\n      <td>2</td>\n    </tr>\n    <tr>\n      <th>1</th>\n      <td>Dustin Johnson (12300483)</td>\n      <td>Dustin Johnson</td>\n      <td>11400</td>\n      <td>40.8</td>\n      <td>5.4</td>\n      <td>1</td>\n      <td>1</td>\n      <td>1</td>\n    </tr>\n    <tr>\n      <th>2</th>\n      <td>Justin Thomas (12300484)</td>\n      <td>Justin Thomas</td>\n      <td>11000</td>\n      <td>37.7</td>\n      <td>3.8</td>\n      <td>5</td>\n      <td>3</td>\n      <td>2</td>\n    </tr>\n    <tr>\n      <th>3</th>\n      <td>Jon Rahm (12300485)</td>\n      <td>Jon Rahm</td>\n      <td>10600</td>\n      <td>37.4</td>\n      <td>3.5</td>\n      <td>8</td>\n      <td>2</td>\n      <td>1</td>\n    </tr>\n    <tr>\n      <th>4</th>\n      <td>Brooks Koepka (12300486)</td>\n      <td>Brooks Koepka</td>\n      <td>10300</td>\n      <td>33.3</td>\n      <td>2.1</td>\n      <td>3</td>\n      <td>8</td>\n      <td>4</td>\n    </tr>\n  </tbody>\n</table>\n</div>",
            "text/plain": "                   Name + ID            Name  Salary  Win Group  Win Event  \\\n0    Rory McIlroy (12300482)    Rory McIlroy   11700       42.8        5.2   \n1  Dustin Johnson (12300483)  Dustin Johnson   11400       40.8        5.4   \n2   Justin Thomas (12300484)   Justin Thomas   11000       37.7        3.8   \n3        Jon Rahm (12300485)        Jon Rahm   10600       37.4        3.5   \n4   Brooks Koepka (12300486)   Brooks Koepka   10300       33.3        2.1   \n\n   Group  Quarter  Semi  \n0      4        4     2  \n1      1        1     1  \n2      5        3     2  \n3      8        2     1  \n4      3        8     4  "
          },
          "metadata": {}
        }
      ]
    },
    {
      "metadata": {
        "trusted": true
      },
      "cell_type": "code",
      "source": "df[df.Name.isin(['Webb Simpson','Patrick Cantlay','Tony Finau','Sergio Garcia','Xander Schauffele'])]",
      "execution_count": 5,
      "outputs": [
        {
          "output_type": "execute_result",
          "execution_count": 5,
          "data": {
            "text/html": "<div>\n<style scoped>\n    .dataframe tbody tr th:only-of-type {\n        vertical-align: middle;\n    }\n\n    .dataframe tbody tr th {\n        vertical-align: top;\n    }\n\n    .dataframe thead th {\n        text-align: right;\n    }\n</style>\n<table border=\"1\" class=\"dataframe\">\n  <thead>\n    <tr style=\"text-align: right;\">\n      <th></th>\n      <th>Name + ID</th>\n      <th>Name</th>\n      <th>Salary</th>\n      <th>Win Group</th>\n      <th>Win Event</th>\n      <th>Group</th>\n      <th>Quarter</th>\n      <th>Semi</th>\n    </tr>\n  </thead>\n  <tbody>\n    <tr>\n      <th>9</th>\n      <td>Xander Schauffele (12300491)</td>\n      <td>Xander Schauffele</td>\n      <td>9400</td>\n      <td>33.7</td>\n      <td>2.7</td>\n      <td>9</td>\n      <td>2</td>\n      <td>1</td>\n    </tr>\n    <tr>\n      <th>13</th>\n      <td>Tony Finau (12300495)</td>\n      <td>Tony Finau</td>\n      <td>9000</td>\n      <td>34.7</td>\n      <td>3.0</td>\n      <td>14</td>\n      <td>8</td>\n      <td>4</td>\n    </tr>\n    <tr>\n      <th>18</th>\n      <td>Sergio Garcia (12300500)</td>\n      <td>Sergio Garcia</td>\n      <td>8500</td>\n      <td>33.9</td>\n      <td>2.1</td>\n      <td>16</td>\n      <td>1</td>\n      <td>1</td>\n    </tr>\n    <tr>\n      <th>19</th>\n      <td>Patrick Cantlay (12300501)</td>\n      <td>Patrick Cantlay</td>\n      <td>8400</td>\n      <td>31.1</td>\n      <td>2.3</td>\n      <td>13</td>\n      <td>4</td>\n      <td>2</td>\n    </tr>\n    <tr>\n      <th>20</th>\n      <td>Webb Simpson (12300502)</td>\n      <td>Webb Simpson</td>\n      <td>8300</td>\n      <td>34.4</td>\n      <td>2.2</td>\n      <td>7</td>\n      <td>6</td>\n      <td>3</td>\n    </tr>\n  </tbody>\n</table>\n</div>",
            "text/plain": "                       Name + ID               Name  Salary  Win Group  \\\n9   Xander Schauffele (12300491)  Xander Schauffele    9400       33.7   \n13         Tony Finau (12300495)         Tony Finau    9000       34.7   \n18      Sergio Garcia (12300500)      Sergio Garcia    8500       33.9   \n19    Patrick Cantlay (12300501)    Patrick Cantlay    8400       31.1   \n20       Webb Simpson (12300502)       Webb Simpson    8300       34.4   \n\n    Win Event  Group  Quarter  Semi  \n9         2.7      9        2     1  \n13        3.0     14        8     4  \n18        2.1     16        1     1  \n19        2.3     13        4     2  \n20        2.2      7        6     3  "
          },
          "metadata": {}
        }
      ]
    },
    {
      "metadata": {
        "trusted": true
      },
      "cell_type": "code",
      "source": "#Add one column for each Quarter, and one column for each Semi\ndf_quarters = pd.get_dummies(df['Quarter']).add_prefix('Quarter_')\ndf_quarters.head()",
      "execution_count": 6,
      "outputs": [
        {
          "output_type": "execute_result",
          "execution_count": 6,
          "data": {
            "text/html": "<div>\n<style scoped>\n    .dataframe tbody tr th:only-of-type {\n        vertical-align: middle;\n    }\n\n    .dataframe tbody tr th {\n        vertical-align: top;\n    }\n\n    .dataframe thead th {\n        text-align: right;\n    }\n</style>\n<table border=\"1\" class=\"dataframe\">\n  <thead>\n    <tr style=\"text-align: right;\">\n      <th></th>\n      <th>Quarter_1</th>\n      <th>Quarter_2</th>\n      <th>Quarter_3</th>\n      <th>Quarter_4</th>\n      <th>Quarter_5</th>\n      <th>Quarter_6</th>\n      <th>Quarter_7</th>\n      <th>Quarter_8</th>\n    </tr>\n  </thead>\n  <tbody>\n    <tr>\n      <th>0</th>\n      <td>0</td>\n      <td>0</td>\n      <td>0</td>\n      <td>1</td>\n      <td>0</td>\n      <td>0</td>\n      <td>0</td>\n      <td>0</td>\n    </tr>\n    <tr>\n      <th>1</th>\n      <td>1</td>\n      <td>0</td>\n      <td>0</td>\n      <td>0</td>\n      <td>0</td>\n      <td>0</td>\n      <td>0</td>\n      <td>0</td>\n    </tr>\n    <tr>\n      <th>2</th>\n      <td>0</td>\n      <td>0</td>\n      <td>1</td>\n      <td>0</td>\n      <td>0</td>\n      <td>0</td>\n      <td>0</td>\n      <td>0</td>\n    </tr>\n    <tr>\n      <th>3</th>\n      <td>0</td>\n      <td>1</td>\n      <td>0</td>\n      <td>0</td>\n      <td>0</td>\n      <td>0</td>\n      <td>0</td>\n      <td>0</td>\n    </tr>\n    <tr>\n      <th>4</th>\n      <td>0</td>\n      <td>0</td>\n      <td>0</td>\n      <td>0</td>\n      <td>0</td>\n      <td>0</td>\n      <td>0</td>\n      <td>1</td>\n    </tr>\n  </tbody>\n</table>\n</div>",
            "text/plain": "   Quarter_1  Quarter_2  Quarter_3  Quarter_4  Quarter_5  Quarter_6  \\\n0          0          0          0          1          0          0   \n1          1          0          0          0          0          0   \n2          0          0          1          0          0          0   \n3          0          1          0          0          0          0   \n4          0          0          0          0          0          0   \n\n   Quarter_7  Quarter_8  \n0          0          0  \n1          0          0  \n2          0          0  \n3          0          0  \n4          0          1  "
          },
          "metadata": {}
        }
      ]
    },
    {
      "metadata": {
        "trusted": true
      },
      "cell_type": "code",
      "source": "df = pd.merge(df,df_quarters,left_index=True,right_index=True)\ndf.head()",
      "execution_count": 7,
      "outputs": [
        {
          "output_type": "execute_result",
          "execution_count": 7,
          "data": {
            "text/html": "<div>\n<style scoped>\n    .dataframe tbody tr th:only-of-type {\n        vertical-align: middle;\n    }\n\n    .dataframe tbody tr th {\n        vertical-align: top;\n    }\n\n    .dataframe thead th {\n        text-align: right;\n    }\n</style>\n<table border=\"1\" class=\"dataframe\">\n  <thead>\n    <tr style=\"text-align: right;\">\n      <th></th>\n      <th>Name + ID</th>\n      <th>Name</th>\n      <th>Salary</th>\n      <th>Win Group</th>\n      <th>Win Event</th>\n      <th>Group</th>\n      <th>Quarter</th>\n      <th>Semi</th>\n      <th>Quarter_1</th>\n      <th>Quarter_2</th>\n      <th>Quarter_3</th>\n      <th>Quarter_4</th>\n      <th>Quarter_5</th>\n      <th>Quarter_6</th>\n      <th>Quarter_7</th>\n      <th>Quarter_8</th>\n    </tr>\n  </thead>\n  <tbody>\n    <tr>\n      <th>0</th>\n      <td>Rory McIlroy (12300482)</td>\n      <td>Rory McIlroy</td>\n      <td>11700</td>\n      <td>42.8</td>\n      <td>5.2</td>\n      <td>4</td>\n      <td>4</td>\n      <td>2</td>\n      <td>0</td>\n      <td>0</td>\n      <td>0</td>\n      <td>1</td>\n      <td>0</td>\n      <td>0</td>\n      <td>0</td>\n      <td>0</td>\n    </tr>\n    <tr>\n      <th>1</th>\n      <td>Dustin Johnson (12300483)</td>\n      <td>Dustin Johnson</td>\n      <td>11400</td>\n      <td>40.8</td>\n      <td>5.4</td>\n      <td>1</td>\n      <td>1</td>\n      <td>1</td>\n      <td>1</td>\n      <td>0</td>\n      <td>0</td>\n      <td>0</td>\n      <td>0</td>\n      <td>0</td>\n      <td>0</td>\n      <td>0</td>\n    </tr>\n    <tr>\n      <th>2</th>\n      <td>Justin Thomas (12300484)</td>\n      <td>Justin Thomas</td>\n      <td>11000</td>\n      <td>37.7</td>\n      <td>3.8</td>\n      <td>5</td>\n      <td>3</td>\n      <td>2</td>\n      <td>0</td>\n      <td>0</td>\n      <td>1</td>\n      <td>0</td>\n      <td>0</td>\n      <td>0</td>\n      <td>0</td>\n      <td>0</td>\n    </tr>\n    <tr>\n      <th>3</th>\n      <td>Jon Rahm (12300485)</td>\n      <td>Jon Rahm</td>\n      <td>10600</td>\n      <td>37.4</td>\n      <td>3.5</td>\n      <td>8</td>\n      <td>2</td>\n      <td>1</td>\n      <td>0</td>\n      <td>1</td>\n      <td>0</td>\n      <td>0</td>\n      <td>0</td>\n      <td>0</td>\n      <td>0</td>\n      <td>0</td>\n    </tr>\n    <tr>\n      <th>4</th>\n      <td>Brooks Koepka (12300486)</td>\n      <td>Brooks Koepka</td>\n      <td>10300</td>\n      <td>33.3</td>\n      <td>2.1</td>\n      <td>3</td>\n      <td>8</td>\n      <td>4</td>\n      <td>0</td>\n      <td>0</td>\n      <td>0</td>\n      <td>0</td>\n      <td>0</td>\n      <td>0</td>\n      <td>0</td>\n      <td>1</td>\n    </tr>\n  </tbody>\n</table>\n</div>",
            "text/plain": "                   Name + ID            Name  Salary  Win Group  Win Event  \\\n0    Rory McIlroy (12300482)    Rory McIlroy   11700       42.8        5.2   \n1  Dustin Johnson (12300483)  Dustin Johnson   11400       40.8        5.4   \n2   Justin Thomas (12300484)   Justin Thomas   11000       37.7        3.8   \n3        Jon Rahm (12300485)        Jon Rahm   10600       37.4        3.5   \n4   Brooks Koepka (12300486)   Brooks Koepka   10300       33.3        2.1   \n\n   Group  Quarter  Semi  Quarter_1  Quarter_2  Quarter_3  Quarter_4  \\\n0      4        4     2          0          0          0          1   \n1      1        1     1          1          0          0          0   \n2      5        3     2          0          0          1          0   \n3      8        2     1          0          1          0          0   \n4      3        8     4          0          0          0          0   \n\n   Quarter_5  Quarter_6  Quarter_7  Quarter_8  \n0          0          0          0          0  \n1          0          0          0          0  \n2          0          0          0          0  \n3          0          0          0          0  \n4          0          0          0          1  "
          },
          "metadata": {}
        }
      ]
    },
    {
      "metadata": {
        "trusted": true
      },
      "cell_type": "code",
      "source": "#Add semis as well\ndf_semis = pd.get_dummies(df.Semi).add_prefix('Semi_')\ndf_semis.head()",
      "execution_count": 8,
      "outputs": [
        {
          "output_type": "execute_result",
          "execution_count": 8,
          "data": {
            "text/html": "<div>\n<style scoped>\n    .dataframe tbody tr th:only-of-type {\n        vertical-align: middle;\n    }\n\n    .dataframe tbody tr th {\n        vertical-align: top;\n    }\n\n    .dataframe thead th {\n        text-align: right;\n    }\n</style>\n<table border=\"1\" class=\"dataframe\">\n  <thead>\n    <tr style=\"text-align: right;\">\n      <th></th>\n      <th>Semi_1</th>\n      <th>Semi_2</th>\n      <th>Semi_3</th>\n      <th>Semi_4</th>\n    </tr>\n  </thead>\n  <tbody>\n    <tr>\n      <th>0</th>\n      <td>0</td>\n      <td>1</td>\n      <td>0</td>\n      <td>0</td>\n    </tr>\n    <tr>\n      <th>1</th>\n      <td>1</td>\n      <td>0</td>\n      <td>0</td>\n      <td>0</td>\n    </tr>\n    <tr>\n      <th>2</th>\n      <td>0</td>\n      <td>1</td>\n      <td>0</td>\n      <td>0</td>\n    </tr>\n    <tr>\n      <th>3</th>\n      <td>1</td>\n      <td>0</td>\n      <td>0</td>\n      <td>0</td>\n    </tr>\n    <tr>\n      <th>4</th>\n      <td>0</td>\n      <td>0</td>\n      <td>0</td>\n      <td>1</td>\n    </tr>\n  </tbody>\n</table>\n</div>",
            "text/plain": "   Semi_1  Semi_2  Semi_3  Semi_4\n0       0       1       0       0\n1       1       0       0       0\n2       0       1       0       0\n3       1       0       0       0\n4       0       0       0       1"
          },
          "metadata": {}
        }
      ]
    },
    {
      "metadata": {
        "trusted": true
      },
      "cell_type": "code",
      "source": "df = pd.merge(df,df_semis,left_index=True,right_index=True)\ndf.head()",
      "execution_count": 9,
      "outputs": [
        {
          "output_type": "execute_result",
          "execution_count": 9,
          "data": {
            "text/html": "<div>\n<style scoped>\n    .dataframe tbody tr th:only-of-type {\n        vertical-align: middle;\n    }\n\n    .dataframe tbody tr th {\n        vertical-align: top;\n    }\n\n    .dataframe thead th {\n        text-align: right;\n    }\n</style>\n<table border=\"1\" class=\"dataframe\">\n  <thead>\n    <tr style=\"text-align: right;\">\n      <th></th>\n      <th>Name + ID</th>\n      <th>Name</th>\n      <th>Salary</th>\n      <th>Win Group</th>\n      <th>Win Event</th>\n      <th>Group</th>\n      <th>Quarter</th>\n      <th>Semi</th>\n      <th>Quarter_1</th>\n      <th>Quarter_2</th>\n      <th>Quarter_3</th>\n      <th>Quarter_4</th>\n      <th>Quarter_5</th>\n      <th>Quarter_6</th>\n      <th>Quarter_7</th>\n      <th>Quarter_8</th>\n      <th>Semi_1</th>\n      <th>Semi_2</th>\n      <th>Semi_3</th>\n      <th>Semi_4</th>\n    </tr>\n  </thead>\n  <tbody>\n    <tr>\n      <th>0</th>\n      <td>Rory McIlroy (12300482)</td>\n      <td>Rory McIlroy</td>\n      <td>11700</td>\n      <td>42.8</td>\n      <td>5.2</td>\n      <td>4</td>\n      <td>4</td>\n      <td>2</td>\n      <td>0</td>\n      <td>0</td>\n      <td>0</td>\n      <td>1</td>\n      <td>0</td>\n      <td>0</td>\n      <td>0</td>\n      <td>0</td>\n      <td>0</td>\n      <td>1</td>\n      <td>0</td>\n      <td>0</td>\n    </tr>\n    <tr>\n      <th>1</th>\n      <td>Dustin Johnson (12300483)</td>\n      <td>Dustin Johnson</td>\n      <td>11400</td>\n      <td>40.8</td>\n      <td>5.4</td>\n      <td>1</td>\n      <td>1</td>\n      <td>1</td>\n      <td>1</td>\n      <td>0</td>\n      <td>0</td>\n      <td>0</td>\n      <td>0</td>\n      <td>0</td>\n      <td>0</td>\n      <td>0</td>\n      <td>1</td>\n      <td>0</td>\n      <td>0</td>\n      <td>0</td>\n    </tr>\n    <tr>\n      <th>2</th>\n      <td>Justin Thomas (12300484)</td>\n      <td>Justin Thomas</td>\n      <td>11000</td>\n      <td>37.7</td>\n      <td>3.8</td>\n      <td>5</td>\n      <td>3</td>\n      <td>2</td>\n      <td>0</td>\n      <td>0</td>\n      <td>1</td>\n      <td>0</td>\n      <td>0</td>\n      <td>0</td>\n      <td>0</td>\n      <td>0</td>\n      <td>0</td>\n      <td>1</td>\n      <td>0</td>\n      <td>0</td>\n    </tr>\n    <tr>\n      <th>3</th>\n      <td>Jon Rahm (12300485)</td>\n      <td>Jon Rahm</td>\n      <td>10600</td>\n      <td>37.4</td>\n      <td>3.5</td>\n      <td>8</td>\n      <td>2</td>\n      <td>1</td>\n      <td>0</td>\n      <td>1</td>\n      <td>0</td>\n      <td>0</td>\n      <td>0</td>\n      <td>0</td>\n      <td>0</td>\n      <td>0</td>\n      <td>1</td>\n      <td>0</td>\n      <td>0</td>\n      <td>0</td>\n    </tr>\n    <tr>\n      <th>4</th>\n      <td>Brooks Koepka (12300486)</td>\n      <td>Brooks Koepka</td>\n      <td>10300</td>\n      <td>33.3</td>\n      <td>2.1</td>\n      <td>3</td>\n      <td>8</td>\n      <td>4</td>\n      <td>0</td>\n      <td>0</td>\n      <td>0</td>\n      <td>0</td>\n      <td>0</td>\n      <td>0</td>\n      <td>0</td>\n      <td>1</td>\n      <td>0</td>\n      <td>0</td>\n      <td>0</td>\n      <td>1</td>\n    </tr>\n  </tbody>\n</table>\n</div>",
            "text/plain": "                   Name + ID            Name  Salary  Win Group  Win Event  \\\n0    Rory McIlroy (12300482)    Rory McIlroy   11700       42.8        5.2   \n1  Dustin Johnson (12300483)  Dustin Johnson   11400       40.8        5.4   \n2   Justin Thomas (12300484)   Justin Thomas   11000       37.7        3.8   \n3        Jon Rahm (12300485)        Jon Rahm   10600       37.4        3.5   \n4   Brooks Koepka (12300486)   Brooks Koepka   10300       33.3        2.1   \n\n   Group  Quarter  Semi  Quarter_1  Quarter_2  Quarter_3  Quarter_4  \\\n0      4        4     2          0          0          0          1   \n1      1        1     1          1          0          0          0   \n2      5        3     2          0          0          1          0   \n3      8        2     1          0          1          0          0   \n4      3        8     4          0          0          0          0   \n\n   Quarter_5  Quarter_6  Quarter_7  Quarter_8  Semi_1  Semi_2  Semi_3  Semi_4  \n0          0          0          0          0       0       1       0       0  \n1          0          0          0          0       1       0       0       0  \n2          0          0          0          0       0       1       0       0  \n3          0          0          0          0       1       0       0       0  \n4          0          0          0          1       0       0       0       1  "
          },
          "metadata": {}
        }
      ]
    },
    {
      "metadata": {},
      "cell_type": "markdown",
      "source": "### Optimize"
    },
    {
      "metadata": {
        "trusted": true
      },
      "cell_type": "code",
      "source": "sal = df.Salary.values\nW = df['Win Group'].values\nq1 = df.Quarter_1\nq2 = df.Quarter_2\nq3 = df.Quarter_3\nq4 = df.Quarter_4\nq5 = df.Quarter_5\nq6 = df.Quarter_6\nq7 = df.Quarter_7\nq8 = df.Quarter_8\ns1 = df.Semi_1\ns2 = df.Semi_2\ns3 = df.Semi_3\ns4 = df.Semi_4\n\nn = len(df)\nx = cp.Variable(n,boolean=True)\n\n#Contraints\n#1. total sal under cap\n#2. use exactly 6\n#3. no 2 from same quarter\n#4. at least one from every semi\n\npenalty = 0\ncap = 50000\nconstraints = [cp.sum(x) == 6,\n             x*sal <= cap,\n             x*q1 <= 1,x*q2 <= 1,x*q3 <= 1,x*q4 <= 1,\n              x*q5 <= 1,x*q6 <= 1,x*q7 <= 1,x*q8 <= 1,\n              x*s1 >= 1, x*s2 >= 1, x*s3 >= 1, x*s4 >= 1]\n\n# Form objective.\nobj = cp.Maximize(x*W)\n\n# Form and solve problem.\nprob = cp.Problem(obj, constraints)\nprob.solve()  # Returns the optimal value.\nprint(\"status:\", prob.status)\nprint(\"optimal objective value\", prob.value)\nopt_team = df['Name + ID'][x.value>.5].tolist()\nprint(opt_team)",
      "execution_count": 18,
      "outputs": [
        {
          "output_type": "stream",
          "text": "status: optimal\noptimal objective value 194.0000000046871\n['Xander Schauffele (12300491)', 'Tony Finau (12300495)', 'Sergio Garcia (12300500)', 'Patrick Cantlay (12300501)', 'Webb Simpson (12300502)', 'Byeong-Hun An (12300538)']\n",
          "name": "stdout"
        }
      ]
    },
    {
      "metadata": {
        "trusted": true
      },
      "cell_type": "code",
      "source": "#Start a df with teams\ndf_teams = pd.DataFrame(columns=['p1','p2','p3','p4','p5','p6'])\ndf_teams.loc[0] = opt_team\ndf_teams",
      "execution_count": 19,
      "outputs": [
        {
          "output_type": "execute_result",
          "execution_count": 19,
          "data": {
            "text/html": "<div>\n<style scoped>\n    .dataframe tbody tr th:only-of-type {\n        vertical-align: middle;\n    }\n\n    .dataframe tbody tr th {\n        vertical-align: top;\n    }\n\n    .dataframe thead th {\n        text-align: right;\n    }\n</style>\n<table border=\"1\" class=\"dataframe\">\n  <thead>\n    <tr style=\"text-align: right;\">\n      <th></th>\n      <th>p1</th>\n      <th>p2</th>\n      <th>p3</th>\n      <th>p4</th>\n      <th>p5</th>\n      <th>p6</th>\n    </tr>\n  </thead>\n  <tbody>\n    <tr>\n      <th>0</th>\n      <td>Xander Schauffele (12300491)</td>\n      <td>Tony Finau (12300495)</td>\n      <td>Sergio Garcia (12300500)</td>\n      <td>Patrick Cantlay (12300501)</td>\n      <td>Webb Simpson (12300502)</td>\n      <td>Byeong-Hun An (12300538)</td>\n    </tr>\n  </tbody>\n</table>\n</div>",
            "text/plain": "                             p1                     p2  \\\n0  Xander Schauffele (12300491)  Tony Finau (12300495)   \n\n                         p3                          p4  \\\n0  Sergio Garcia (12300500)  Patrick Cantlay (12300501)   \n\n                        p5                        p6  \n0  Webb Simpson (12300502)  Byeong-Hun An (12300538)  "
          },
          "metadata": {}
        }
      ]
    },
    {
      "metadata": {
        "trusted": true
      },
      "cell_type": "code",
      "source": "#Remove each one (run immediately after cell above)\n\nfor player in opt_team:\n    df2 = df[df['Name + ID'] != player]\n    sal = df2.Salary.values\n    W = df2['Win Group'].values\n    q1 = df2.Quarter_1\n    q2 = df2.Quarter_2\n    q3 = df2.Quarter_3\n    q4 = df2.Quarter_4\n    q5 = df2.Quarter_5\n    q6 = df2.Quarter_6\n    q7 = df2.Quarter_7\n    q8 = df2.Quarter_8\n    s1 = df2.Semi_1\n    s2 = df2.Semi_2\n    s3 = df2.Semi_3\n    s4 = df2.Semi_4\n\n    n = len(df2)\n    x = cp.Variable(n,boolean=True)\n\n    #Contraints\n    #1. total sal under cap\n    #2. use exactly 6\n    #3. no 2 from same quarter\n    #4. at least one from every semi\n\n    penalty = 0\n    cap = 50000\n    constraints = [cp.sum(x) == 6,\n                 x*sal <= cap,\n                 x*q1 <= 1,x*q2 <= 1,x*q3 <= 1,x*q4 <= 1,\n                  x*q5 <= 1,x*q6 <= 1,x*q7 <= 1,x*q8 <= 1,\n                  x*s1 >= 1, x*s2 >= 1, x*s3 >= 1, x*s4 >= 1]\n\n    # Form objective.\n    obj = cp.Maximize(x*W)\n\n    # Form and solve problem.\n    prob = cp.Problem(obj, constraints)\n    prob.solve()  # Returns the optimal value.\n    #print(\"status:\", prob.status)\n    #print(\"optimal objective value\", prob.value)\n    opt_team = df2['Name + ID'][x.value>.5].tolist()\n    #print('No {} (obj = {:.1f}): '.format(player,prob.value),opt_team)\n    df_teams.loc[len(df_teams)] = opt_team\n    \ndf_teams",
      "execution_count": 20,
      "outputs": [
        {
          "output_type": "execute_result",
          "execution_count": 20,
          "data": {
            "text/html": "<div>\n<style scoped>\n    .dataframe tbody tr th:only-of-type {\n        vertical-align: middle;\n    }\n\n    .dataframe tbody tr th {\n        vertical-align: top;\n    }\n\n    .dataframe thead th {\n        text-align: right;\n    }\n</style>\n<table border=\"1\" class=\"dataframe\">\n  <thead>\n    <tr style=\"text-align: right;\">\n      <th></th>\n      <th>p1</th>\n      <th>p2</th>\n      <th>p3</th>\n      <th>p4</th>\n      <th>p5</th>\n      <th>p6</th>\n    </tr>\n  </thead>\n  <tbody>\n    <tr>\n      <th>0</th>\n      <td>Xander Schauffele (12300491)</td>\n      <td>Tony Finau (12300495)</td>\n      <td>Sergio Garcia (12300500)</td>\n      <td>Patrick Cantlay (12300501)</td>\n      <td>Webb Simpson (12300502)</td>\n      <td>Byeong-Hun An (12300538)</td>\n    </tr>\n    <tr>\n      <th>1</th>\n      <td>Rory McIlroy (12300482)</td>\n      <td>Sergio Garcia (12300500)</td>\n      <td>Webb Simpson (12300502)</td>\n      <td>Gary Woodland (12300508)</td>\n      <td>Hao-Tong Li (12300528)</td>\n      <td>Byeong-Hun An (12300538)</td>\n    </tr>\n    <tr>\n      <th>2</th>\n      <td>Rory McIlroy (12300482)</td>\n      <td>Sergio Garcia (12300500)</td>\n      <td>Webb Simpson (12300502)</td>\n      <td>Gary Woodland (12300508)</td>\n      <td>Hao-Tong Li (12300528)</td>\n      <td>Byeong-Hun An (12300538)</td>\n    </tr>\n    <tr>\n      <th>3</th>\n      <td>Dustin Johnson (12300483)</td>\n      <td>Tony Finau (12300495)</td>\n      <td>Webb Simpson (12300502)</td>\n      <td>Gary Woodland (12300508)</td>\n      <td>Keegan Bradley (12300520)</td>\n      <td>Byeong-Hun An (12300538)</td>\n    </tr>\n    <tr>\n      <th>4</th>\n      <td>Rory McIlroy (12300482)</td>\n      <td>Sergio Garcia (12300500)</td>\n      <td>Webb Simpson (12300502)</td>\n      <td>Gary Woodland (12300508)</td>\n      <td>Hao-Tong Li (12300528)</td>\n      <td>Byeong-Hun An (12300538)</td>\n    </tr>\n    <tr>\n      <th>5</th>\n      <td>Rory McIlroy (12300482)</td>\n      <td>Tony Finau (12300495)</td>\n      <td>Sergio Garcia (12300500)</td>\n      <td>Gary Woodland (12300508)</td>\n      <td>Thorbjorn Olesen (12300533)</td>\n      <td>Byeong-Hun An (12300538)</td>\n    </tr>\n    <tr>\n      <th>6</th>\n      <td>Tiger Woods (12300493)</td>\n      <td>Tony Finau (12300495)</td>\n      <td>Sergio Garcia (12300500)</td>\n      <td>Webb Simpson (12300502)</td>\n      <td>Gary Woodland (12300508)</td>\n      <td>Keegan Bradley (12300520)</td>\n    </tr>\n  </tbody>\n</table>\n</div>",
            "text/plain": "                             p1                        p2  \\\n0  Xander Schauffele (12300491)     Tony Finau (12300495)   \n1       Rory McIlroy (12300482)  Sergio Garcia (12300500)   \n2       Rory McIlroy (12300482)  Sergio Garcia (12300500)   \n3     Dustin Johnson (12300483)     Tony Finau (12300495)   \n4       Rory McIlroy (12300482)  Sergio Garcia (12300500)   \n5       Rory McIlroy (12300482)     Tony Finau (12300495)   \n6        Tiger Woods (12300493)     Tony Finau (12300495)   \n\n                         p3                          p4  \\\n0  Sergio Garcia (12300500)  Patrick Cantlay (12300501)   \n1   Webb Simpson (12300502)    Gary Woodland (12300508)   \n2   Webb Simpson (12300502)    Gary Woodland (12300508)   \n3   Webb Simpson (12300502)    Gary Woodland (12300508)   \n4   Webb Simpson (12300502)    Gary Woodland (12300508)   \n5  Sergio Garcia (12300500)    Gary Woodland (12300508)   \n6  Sergio Garcia (12300500)     Webb Simpson (12300502)   \n\n                            p5                         p6  \n0      Webb Simpson (12300502)   Byeong-Hun An (12300538)  \n1       Hao-Tong Li (12300528)   Byeong-Hun An (12300538)  \n2       Hao-Tong Li (12300528)   Byeong-Hun An (12300538)  \n3    Keegan Bradley (12300520)   Byeong-Hun An (12300538)  \n4       Hao-Tong Li (12300528)   Byeong-Hun An (12300538)  \n5  Thorbjorn Olesen (12300533)   Byeong-Hun An (12300538)  \n6     Gary Woodland (12300508)  Keegan Bradley (12300520)  "
          },
          "metadata": {}
        }
      ]
    },
    {
      "metadata": {
        "trusted": true
      },
      "cell_type": "code",
      "source": "#Randomly add more teams\n\n#First add value field to serve as proxy for selection probability\ndf['value'] = df['Win Group'] / df.Salary * 1000\ndf.sort_values(by='value',ascending=False).head()",
      "execution_count": 21,
      "outputs": [
        {
          "output_type": "execute_result",
          "execution_count": 21,
          "data": {
            "text/html": "<div>\n<style scoped>\n    .dataframe tbody tr th:only-of-type {\n        vertical-align: middle;\n    }\n\n    .dataframe tbody tr th {\n        vertical-align: top;\n    }\n\n    .dataframe thead th {\n        text-align: right;\n    }\n</style>\n<table border=\"1\" class=\"dataframe\">\n  <thead>\n    <tr style=\"text-align: right;\">\n      <th></th>\n      <th>Name + ID</th>\n      <th>Name</th>\n      <th>Salary</th>\n      <th>Win Group</th>\n      <th>Win Event</th>\n      <th>Group</th>\n      <th>Quarter</th>\n      <th>Semi</th>\n      <th>Quarter_1</th>\n      <th>Quarter_2</th>\n      <th>...</th>\n      <th>Quarter_4</th>\n      <th>Quarter_5</th>\n      <th>Quarter_6</th>\n      <th>Quarter_7</th>\n      <th>Quarter_8</th>\n      <th>Semi_1</th>\n      <th>Semi_2</th>\n      <th>Semi_3</th>\n      <th>Semi_4</th>\n      <th>value</th>\n    </tr>\n  </thead>\n  <tbody>\n    <tr>\n      <th>56</th>\n      <td>Byeong-Hun An (12300538)</td>\n      <td>Byeong-Hun An</td>\n      <td>6300</td>\n      <td>26.2</td>\n      <td>1.5</td>\n      <td>11</td>\n      <td>7</td>\n      <td>4</td>\n      <td>0</td>\n      <td>0</td>\n      <td>...</td>\n      <td>0</td>\n      <td>0</td>\n      <td>0</td>\n      <td>1</td>\n      <td>0</td>\n      <td>0</td>\n      <td>0</td>\n      <td>0</td>\n      <td>1</td>\n      <td>4.158730</td>\n    </tr>\n    <tr>\n      <th>20</th>\n      <td>Webb Simpson (12300502)</td>\n      <td>Webb Simpson</td>\n      <td>8300</td>\n      <td>34.4</td>\n      <td>2.2</td>\n      <td>7</td>\n      <td>6</td>\n      <td>3</td>\n      <td>0</td>\n      <td>0</td>\n      <td>...</td>\n      <td>0</td>\n      <td>0</td>\n      <td>1</td>\n      <td>0</td>\n      <td>0</td>\n      <td>0</td>\n      <td>0</td>\n      <td>1</td>\n      <td>0</td>\n      <td>4.144578</td>\n    </tr>\n    <tr>\n      <th>18</th>\n      <td>Sergio Garcia (12300500)</td>\n      <td>Sergio Garcia</td>\n      <td>8500</td>\n      <td>33.9</td>\n      <td>2.1</td>\n      <td>16</td>\n      <td>1</td>\n      <td>1</td>\n      <td>1</td>\n      <td>0</td>\n      <td>...</td>\n      <td>0</td>\n      <td>0</td>\n      <td>0</td>\n      <td>0</td>\n      <td>0</td>\n      <td>1</td>\n      <td>0</td>\n      <td>0</td>\n      <td>0</td>\n      <td>3.988235</td>\n    </tr>\n    <tr>\n      <th>13</th>\n      <td>Tony Finau (12300495)</td>\n      <td>Tony Finau</td>\n      <td>9000</td>\n      <td>34.7</td>\n      <td>3.0</td>\n      <td>14</td>\n      <td>8</td>\n      <td>4</td>\n      <td>0</td>\n      <td>0</td>\n      <td>...</td>\n      <td>0</td>\n      <td>0</td>\n      <td>0</td>\n      <td>0</td>\n      <td>1</td>\n      <td>0</td>\n      <td>0</td>\n      <td>0</td>\n      <td>1</td>\n      <td>3.855556</td>\n    </tr>\n    <tr>\n      <th>46</th>\n      <td>Hao-Tong Li (12300528)</td>\n      <td>Hao-Tong Li</td>\n      <td>6800</td>\n      <td>26.0</td>\n      <td>1.2</td>\n      <td>3</td>\n      <td>8</td>\n      <td>4</td>\n      <td>0</td>\n      <td>0</td>\n      <td>...</td>\n      <td>0</td>\n      <td>0</td>\n      <td>0</td>\n      <td>0</td>\n      <td>1</td>\n      <td>0</td>\n      <td>0</td>\n      <td>0</td>\n      <td>1</td>\n      <td>3.823529</td>\n    </tr>\n  </tbody>\n</table>\n<p>5 rows × 21 columns</p>\n</div>",
            "text/plain": "                   Name + ID           Name  Salary  Win Group  Win Event  \\\n56  Byeong-Hun An (12300538)  Byeong-Hun An    6300       26.2        1.5   \n20   Webb Simpson (12300502)   Webb Simpson    8300       34.4        2.2   \n18  Sergio Garcia (12300500)  Sergio Garcia    8500       33.9        2.1   \n13     Tony Finau (12300495)     Tony Finau    9000       34.7        3.0   \n46    Hao-Tong Li (12300528)    Hao-Tong Li    6800       26.0        1.2   \n\n    Group  Quarter  Semi  Quarter_1  Quarter_2    ...     Quarter_4  \\\n56     11        7     4          0          0    ...             0   \n20      7        6     3          0          0    ...             0   \n18     16        1     1          1          0    ...             0   \n13     14        8     4          0          0    ...             0   \n46      3        8     4          0          0    ...             0   \n\n    Quarter_5  Quarter_6  Quarter_7  Quarter_8  Semi_1  Semi_2  Semi_3  \\\n56          0          0          1          0       0       0       0   \n20          0          1          0          0       0       0       1   \n18          0          0          0          0       1       0       0   \n13          0          0          0          1       0       0       0   \n46          0          0          0          1       0       0       0   \n\n    Semi_4     value  \n56       1  4.158730  \n20       0  4.144578  \n18       0  3.988235  \n13       1  3.855556  \n46       1  3.823529  \n\n[5 rows x 21 columns]"
          },
          "metadata": {}
        }
      ]
    },
    {
      "metadata": {
        "trusted": true
      },
      "cell_type": "code",
      "source": "def pick_element_per_probs(L,probs):\n    #make sure probs are normalized\n    #print(len(L),len(probs))\n    probs = [x / sum(probs) for x in probs]\n    #pick a random number\n    r = np.random.random()\n    c = 0 #cumulative sum\n    for i, prob in enumerate(probs):\n        if r < prob + c:\n            return L[i]\n        c += prob",
      "execution_count": 22,
      "outputs": []
    },
    {
      "metadata": {
        "trusted": true
      },
      "cell_type": "code",
      "source": "p = pick_element_per_probs(df['Name + ID'],df.value)\np",
      "execution_count": 23,
      "outputs": [
        {
          "output_type": "execute_result",
          "execution_count": 23,
          "data": {
            "text/plain": "'Marc Leishman (12300497)'"
          },
          "metadata": {}
        }
      ]
    },
    {
      "metadata": {
        "trusted": true
      },
      "cell_type": "code",
      "source": "df['Quarter'][df['Name + ID']==p].iloc[0]",
      "execution_count": 24,
      "outputs": [
        {
          "output_type": "execute_result",
          "execution_count": 24,
          "data": {
            "text/plain": "7"
          },
          "metadata": {}
        }
      ]
    },
    {
      "metadata": {
        "trusted": true
      },
      "cell_type": "code",
      "source": "a = {1,2,3}\nall_semis = {1,2,3,4}\nlist(all_semis - a)[0]",
      "execution_count": 25,
      "outputs": [
        {
          "output_type": "execute_result",
          "execution_count": 25,
          "data": {
            "text/plain": "4"
          },
          "metadata": {}
        }
      ]
    },
    {
      "metadata": {
        "trusted": true
      },
      "cell_type": "code",
      "source": "cap = 200 #add this many more teams to 7 above\nnum_teams = 0\ndf_teams = pd.DataFrame(columns=['p1','p2','p3','p4','p5','p6'])\ndf_all_teams = df_teams.copy()\nwhile num_teams < cap:\n    #print('New Team')\n    df_now = df.copy()\n    curr_team = []\n    semis_chosen = set([])\n    all_semis = {1,2,3,4}\n    for k in range(6):\n        #If we're at the last and still have an empty semi, pick player from there\n        if ((k==5) & (len(semis_chosen) < 4)):\n            semi_left = list(all_semis - semis_chosen)[0]\n            df_now = df_now[df_now.Semi == semi_left]\n            #print('One semi left: {}'.format(semi_left))\n            \n        player = pick_element_per_probs(df_now['Name + ID'].tolist(),df_now.value.tolist())\n        curr_team.append(player)\n        #Remove anyone from the same quarter\n        curr_qtr = df_now['Quarter'][df_now['Name + ID']==player].iloc[0]\n        curr_semi = df_now['Semi'][df_now['Name + ID']==player].iloc[0]\n        semis_chosen = semis_chosen.union({curr_semi})\n        df_now = df_now[df_now['Quarter']!= curr_qtr]\n        #print('  Quarter {}, Semi {}'.format(curr_qtr,curr_semi))\n    #Now see if team has right salary\n    df_this_team = df[df['Name + ID'].isin(curr_team)].sort_values(by='Salary',ascending=False)\n    curr_team = df_this_team['Name + ID'].tolist()\n    curr_sal = df_this_team.Salary.sum()\n    if ((curr_sal <= 50000) & (curr_sal >= 48000)):\n        #make sure team is unique\n        #print(curr_team,curr_sal)\n        df_all_teams.loc[len(df_all_teams)] = curr_team\n        num_teams += 1\n        \n#df_all_teams.head(10)",
      "execution_count": 106,
      "outputs": []
    },
    {
      "metadata": {
        "trusted": true
      },
      "cell_type": "code",
      "source": "\n#df_all_teams.to_csv('Lineups/match_play_lineups.csv')",
      "execution_count": 107,
      "outputs": []
    },
    {
      "metadata": {
        "trusted": true
      },
      "cell_type": "markdown",
      "source": "# See how teams are doing"
    },
    {
      "metadata": {
        "trusted": true
      },
      "cell_type": "code",
      "source": "# df_teams= pd.read_csv('Lineups/match_play_lineups.csv')\n# df_teams = df_teams[['p' + str(i) for i in np.arange(1,7)]]\n# df_teams.head()\n\ndf_teams = df_all_teams.copy()\n#df_teams.head()",
      "execution_count": 108,
      "outputs": []
    },
    {
      "metadata": {
        "trusted": true
      },
      "cell_type": "code",
      "source": "players_left = ['Bjerr',\n                'Tiger',\n                'Kuchar',\n                'Sergio',\n               'Kisner',\n                'Molinari',\n                'Kevin Na',\n                'Oosth'\n               ]\nfull_names_left = []\nfor p in players_left:\n    if len (df[df.Name.str.contains(p)]) > 1:\n        print('Multiple matches for {}'.format(p))\n    full_names_left.append(df[df.Name.str.contains(p)].iloc[0]['Name + ID'])\n    \n#print(full_names_left)",
      "execution_count": 109,
      "outputs": []
    },
    {
      "metadata": {
        "trusted": true
      },
      "cell_type": "code",
      "source": "df_teams['Total'] = 0\ndf_teams['Semi1'] = 0\ndf_teams['Semi2'] = 0\ndf_teams['Semi3'] = 0\ndf_teams['Semi4'] = 0\n#df_teams.head()",
      "execution_count": 110,
      "outputs": []
    },
    {
      "metadata": {
        "trusted": true
      },
      "cell_type": "code",
      "source": "#Add number left from each semi to teams\ndef add_remaining(row):\n    T = 0\n    semis = [0,0,0,0]\n    for c in df_teams.columns:\n        p = row[c] #current player\n        #see if he's still alive\n        if p in full_names_left:\n            T += 1\n            #Find which semi\n            curr_semi = df[df['Name + ID']==p].iloc[0]['Semi'] #should be 1, 2, 3, 4\n            semis[curr_semi-1] += 1\n    total_semis = 0\n    for i, s in enumerate(semis):\n        row['Semi' + str(i+1)] = s\n        total_semis += int(s>0)\n    row['Total Semis'] = total_semis\n    row['Total'] = T\n    return row\ndf_teams = df_teams.apply(add_remaining,axis=1)\n#df_teams.head()",
      "execution_count": 111,
      "outputs": []
    },
    {
      "metadata": {
        "trusted": true
      },
      "cell_type": "code",
      "source": "#Sort and view!\ndf_teams.sort_values(by=['Total Semis','Total'],ascending=[False,False],inplace=True)\ndf_teams[df_teams.Total >= 3]",
      "execution_count": 112,
      "outputs": [
        {
          "output_type": "execute_result",
          "execution_count": 112,
          "data": {
            "text/html": "<div>\n<style scoped>\n    .dataframe tbody tr th:only-of-type {\n        vertical-align: middle;\n    }\n\n    .dataframe tbody tr th {\n        vertical-align: top;\n    }\n\n    .dataframe thead th {\n        text-align: right;\n    }\n</style>\n<table border=\"1\" class=\"dataframe\">\n  <thead>\n    <tr style=\"text-align: right;\">\n      <th></th>\n      <th>p1</th>\n      <th>p2</th>\n      <th>p3</th>\n      <th>p4</th>\n      <th>p5</th>\n      <th>p6</th>\n      <th>Total</th>\n      <th>Semi1</th>\n      <th>Semi2</th>\n      <th>Semi3</th>\n      <th>Semi4</th>\n      <th>Total Semis</th>\n    </tr>\n  </thead>\n  <tbody>\n    <tr>\n      <th>16</th>\n      <td>Dustin Johnson (12300483)</td>\n      <td>Bryson DeChambeau (12300490)</td>\n      <td>Matt Kuchar (12300504)</td>\n      <td>Keegan Bradley (12300520)</td>\n      <td>Kevin Kisner (12300523)</td>\n      <td>Kevin Na (12300537)</td>\n      <td>3</td>\n      <td>1</td>\n      <td>0</td>\n      <td>1</td>\n      <td>1</td>\n      <td>3</td>\n    </tr>\n    <tr>\n      <th>84</th>\n      <td>Bryson DeChambeau (12300490)</td>\n      <td>Tiger Woods (12300493)</td>\n      <td>Matt Kuchar (12300504)</td>\n      <td>Charles Howell (12300516)</td>\n      <td>Keegan Bradley (12300520)</td>\n      <td>Kevin Kisner (12300523)</td>\n      <td>3</td>\n      <td>1</td>\n      <td>1</td>\n      <td>0</td>\n      <td>1</td>\n      <td>3</td>\n    </tr>\n    <tr>\n      <th>125</th>\n      <td>Tommy Fleetwood (12300489)</td>\n      <td>Xander Schauffele (12300491)</td>\n      <td>Tiger Woods (12300493)</td>\n      <td>Jim Furyk (12300519)</td>\n      <td>Kevin Kisner (12300523)</td>\n      <td>Kevin Na (12300537)</td>\n      <td>3</td>\n      <td>0</td>\n      <td>1</td>\n      <td>1</td>\n      <td>1</td>\n      <td>3</td>\n    </tr>\n    <tr>\n      <th>126</th>\n      <td>Justin Rose (12300488)</td>\n      <td>Francesco Molinari (12300492)</td>\n      <td>Sergio Garcia (12300500)</td>\n      <td>Louis Oosthuizen (12300513)</td>\n      <td>J.B. Holmes (12300522)</td>\n      <td>Justin Harding (12300539)</td>\n      <td>3</td>\n      <td>1</td>\n      <td>0</td>\n      <td>1</td>\n      <td>1</td>\n      <td>3</td>\n    </tr>\n    <tr>\n      <th>140</th>\n      <td>Justin Rose (12300488)</td>\n      <td>Francesco Molinari (12300492)</td>\n      <td>Tiger Woods (12300493)</td>\n      <td>Henrik Stenson (12300512)</td>\n      <td>Kevin Kisner (12300523)</td>\n      <td>Lee Westwood (12300531)</td>\n      <td>3</td>\n      <td>0</td>\n      <td>1</td>\n      <td>1</td>\n      <td>1</td>\n      <td>3</td>\n    </tr>\n    <tr>\n      <th>57</th>\n      <td>Rory McIlroy (12300482)</td>\n      <td>Sergio Garcia (12300500)</td>\n      <td>Webb Simpson (12300502)</td>\n      <td>Matt Kuchar (12300504)</td>\n      <td>Hao-Tong Li (12300528)</td>\n      <td>Lucas Bjerregaard (12300540)</td>\n      <td>3</td>\n      <td>2</td>\n      <td>1</td>\n      <td>0</td>\n      <td>0</td>\n      <td>2</td>\n    </tr>\n    <tr>\n      <th>161</th>\n      <td>Brooks Koepka (12300486)</td>\n      <td>Justin Rose (12300488)</td>\n      <td>Sergio Garcia (12300500)</td>\n      <td>Matt Kuchar (12300504)</td>\n      <td>Abraham Ancer (12300535)</td>\n      <td>Lucas Bjerregaard (12300540)</td>\n      <td>3</td>\n      <td>2</td>\n      <td>1</td>\n      <td>0</td>\n      <td>0</td>\n      <td>2</td>\n    </tr>\n  </tbody>\n</table>\n</div>",
            "text/plain": "                               p1                             p2  \\\n16      Dustin Johnson (12300483)   Bryson DeChambeau (12300490)   \n84   Bryson DeChambeau (12300490)         Tiger Woods (12300493)   \n125    Tommy Fleetwood (12300489)   Xander Schauffele (12300491)   \n126        Justin Rose (12300488)  Francesco Molinari (12300492)   \n140        Justin Rose (12300488)  Francesco Molinari (12300492)   \n57        Rory McIlroy (12300482)       Sergio Garcia (12300500)   \n161      Brooks Koepka (12300486)         Justin Rose (12300488)   \n\n                           p3                           p4  \\\n16     Matt Kuchar (12300504)    Keegan Bradley (12300520)   \n84     Matt Kuchar (12300504)    Charles Howell (12300516)   \n125    Tiger Woods (12300493)         Jim Furyk (12300519)   \n126  Sergio Garcia (12300500)  Louis Oosthuizen (12300513)   \n140    Tiger Woods (12300493)    Henrik Stenson (12300512)   \n57    Webb Simpson (12300502)       Matt Kuchar (12300504)   \n161  Sergio Garcia (12300500)       Matt Kuchar (12300504)   \n\n                            p5                            p6  Total  Semi1  \\\n16     Kevin Kisner (12300523)           Kevin Na (12300537)      3      1   \n84   Keegan Bradley (12300520)       Kevin Kisner (12300523)      3      1   \n125    Kevin Kisner (12300523)           Kevin Na (12300537)      3      0   \n126     J.B. Holmes (12300522)     Justin Harding (12300539)      3      1   \n140    Kevin Kisner (12300523)       Lee Westwood (12300531)      3      0   \n57      Hao-Tong Li (12300528)  Lucas Bjerregaard (12300540)      3      2   \n161   Abraham Ancer (12300535)  Lucas Bjerregaard (12300540)      3      2   \n\n     Semi2  Semi3  Semi4  Total Semis  \n16       0      1      1            3  \n84       1      0      1            3  \n125      1      1      1            3  \n126      0      1      1            3  \n140      1      1      1            3  \n57       1      0      0            2  \n161      1      0      0            2  "
          },
          "metadata": {}
        }
      ]
    },
    {
      "metadata": {
        "trusted": true
      },
      "cell_type": "code",
      "source": "",
      "execution_count": null,
      "outputs": []
    }
  ],
  "metadata": {
    "kernelspec": {
      "name": "python36",
      "display_name": "Python 3.6",
      "language": "python"
    },
    "language_info": {
      "mimetype": "text/x-python",
      "nbconvert_exporter": "python",
      "name": "python",
      "pygments_lexer": "ipython3",
      "version": "3.6.6",
      "file_extension": ".py",
      "codemirror_mode": {
        "version": 3,
        "name": "ipython"
      }
    }
  },
  "nbformat": 4,
  "nbformat_minor": 1
}