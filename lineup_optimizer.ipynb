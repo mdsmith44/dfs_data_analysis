{
  "cells": [
    {
      "metadata": {
        "trusted": true
      },
      "cell_type": "code",
      "source": "import pandas as pd\nimport numpy as np",
      "execution_count": 1,
      "outputs": []
    },
    {
      "metadata": {
        "trusted": true,
        "scrolled": true
      },
      "cell_type": "code",
      "source": "!pip install cvxpy",
      "execution_count": 2,
      "outputs": [
        {
          "output_type": "stream",
          "text": "Collecting cvxpy\n\u001b[?25l  Downloading https://files.pythonhosted.org/packages/fa/89/6e4f99b36ce2d002f2792529b130fd8ed5d7004c92ce8ae7d56496f51426/cvxpy-1.1.1.tar.gz (990kB)\n\u001b[K     |████████████████████████████████| 993kB 1.8MB/s eta 0:00:01\n\u001b[?25h  Installing build dependencies ... \u001b[?25ldone\n\u001b[?25h  Getting requirements to build wheel ... \u001b[?25ldone\n\u001b[?25h    Preparing wheel metadata ... \u001b[?25ldone\n\u001b[?25hRequirement already satisfied: scipy>=1.1.0 in /home/nbuser/anaconda3_501/lib/python3.6/site-packages (from cvxpy) (1.1.0)\nCollecting osqp>=0.4.1\n\u001b[?25l  Downloading https://files.pythonhosted.org/packages/8c/9f/0fc0d7ca7e94829e7257c4b18ac5009253f0466232689325b9e0c766d1c9/osqp-0.6.1-cp36-cp36m-manylinux2010_x86_64.whl (210kB)\n\u001b[K     |████████████████████████████████| 215kB 5.5MB/s eta 0:00:01\n\u001b[?25hRequirement already satisfied: numpy>=1.15 in /home/nbuser/anaconda3_501/lib/python3.6/site-packages (from cvxpy) (1.16.2)\nCollecting scs>=1.1.3\n\u001b[?25l  Downloading https://files.pythonhosted.org/packages/1a/72/33be87cce255d4e9dbbfef547e9fd6ec7ee94d0d0910bb2b13badea3fbbe/scs-2.1.2.tar.gz (3.5MB)\n\u001b[K     |████████████████████████████████| 3.6MB 6.0MB/s eta 0:00:01     |████████████████▋               | 1.8MB 6.0MB/s eta 0:00:01\n\u001b[?25hCollecting ecos>=2\n\u001b[?25l  Downloading https://files.pythonhosted.org/packages/55/ed/d131ff51f3a8f73420eb1191345eb49f269f23cadef515172e356018cde3/ecos-2.0.7.post1-cp36-cp36m-manylinux1_x86_64.whl (147kB)\n\u001b[K     |████████████████████████████████| 153kB 13.9MB/s eta 0:00:01\n\u001b[?25hRequirement already satisfied: future in /home/nbuser/anaconda3_501/lib/python3.6/site-packages (from osqp>=0.4.1->cvxpy) (0.16.0)\nBuilding wheels for collected packages: cvxpy\n  Building wheel for cvxpy (PEP 517) ... \u001b[?25ldone\n\u001b[?25h  Created wheel for cvxpy: filename=cvxpy-1.1.1-cp36-cp36m-linux_x86_64.whl size=2498580 sha256=98d3574c6892eead00276ad5bc261d0c64df419ecaec247badefa17dfd6c3c05\n  Stored in directory: /home/nbuser/.cache/pip/wheels/06/db/59/b5af93d86703e0903b9b94ccc300ac70daf9d273f13e6c0350\nSuccessfully built cvxpy\nBuilding wheels for collected packages: scs\n  Building wheel for scs (setup.py) ... \u001b[?25ldone\n\u001b[?25h  Created wheel for scs: filename=scs-2.1.2-cp36-cp36m-linux_x86_64.whl size=376276 sha256=6ba898ccbbe7f0a67ab0e5505cb9766be22975ea2f9667b3ba42b10cccf8a585\n  Stored in directory: /home/nbuser/.cache/pip/wheels/df/d0/79/37ea880586da03c620ca9ecd5e42adbd86bc6ea84363965c5f\nSuccessfully built scs\nInstalling collected packages: osqp, scs, ecos, cvxpy\nSuccessfully installed cvxpy-1.1.1 ecos-2.0.7.post1 osqp-0.6.1 scs-2.1.2\n\u001b[33mWARNING: You are using pip version 19.3.1; however, version 20.1.1 is available.\nYou should consider upgrading via the 'pip install --upgrade pip' command.\u001b[0m\n",
          "name": "stdout"
        }
      ]
    },
    {
      "metadata": {
        "trusted": true
      },
      "cell_type": "code",
      "source": "!pip install cvxopt",
      "execution_count": 17,
      "outputs": [
        {
          "output_type": "stream",
          "text": "Collecting cvxopt\n\u001b[?25l  Downloading https://files.pythonhosted.org/packages/bd/da/385b85d3ef47e72a242abe304a03cea098cb9ba6cdb795b044e8c7806b18/cvxopt-1.2.5-cp36-cp36m-manylinux1_x86_64.whl (11.6MB)\n\u001b[K     |████████████████████████████████| 11.7MB 145kB/s eta 0:00:01    |█                               | 389kB 3.3MB/s eta 0:00:04     |████▌                           | 1.6MB 3.3MB/s eta 0:00:04      | 6.8MB 7.8MB/s eta 0:00:01     |████████████████████████████▎   | 10.3MB 7.8MB/s eta 0:00:01\n\u001b[?25hInstalling collected packages: cvxopt\nSuccessfully installed cvxopt-1.2.5\n\u001b[33mWARNING: You are using pip version 19.3.1; however, version 20.1.1 is available.\nYou should consider upgrading via the 'pip install --upgrade pip' command.\u001b[0m\n",
          "name": "stdout"
        }
      ]
    },
    {
      "metadata": {
        "trusted": true
      },
      "cell_type": "code",
      "source": "!pip install pulp",
      "execution_count": 19,
      "outputs": [
        {
          "output_type": "stream",
          "text": "Collecting pulp\n\u001b[?25l  Downloading https://files.pythonhosted.org/packages/41/34/757c88c320f80ce602199603afe63aed1e0bc11180b9a9fb6018fb2ce7ef/PuLP-2.1-py3-none-any.whl (40.6MB)\n\u001b[K     |████████████████████████████████| 40.6MB 44kB/s  eta 0:00:01    |█▎                              | 1.7MB 1.2MB/s eta 0:00:34     |████████                        | 10.2MB 3.2MB/s eta 0:00:10     |████████▎                       | 10.5MB 3.2MB/s eta 0:00:10     |████████████████▎               | 20.7MB 4.9MB/s eta 0:00:05     |██████████████████              | 22.9MB 4.9MB/s eta 0:00:04\n\u001b[?25hRequirement already satisfied: pyparsing>=2.0.1 in /home/nbuser/anaconda3_501/lib/python3.6/site-packages (from pulp) (2.3.0)\nInstalling collected packages: pulp\nSuccessfully installed pulp-2.1\n\u001b[33mWARNING: You are using pip version 19.3.1; however, version 20.1.1 is available.\nYou should consider upgrading via the 'pip install --upgrade pip' command.\u001b[0m\n",
          "name": "stdout"
        }
      ]
    },
    {
      "metadata": {
        "trusted": true
      },
      "cell_type": "code",
      "source": "import cvxpy as cp",
      "execution_count": 3,
      "outputs": []
    },
    {
      "metadata": {
        "trusted": true
      },
      "cell_type": "code",
      "source": "#First, need a function that picks elements from list L with probabilies probs\ndef pick_element_per_probs(L,probs):\n    #make sure probs are normalized\n    probs = [x / sum(probs) for x in probs]\n    #pick a random number\n    r = np.random.random()\n    c = 0 #cumulative sum\n    for i, prob in enumerate(probs):\n        if r < prob + c:\n            return L[i]\n        c += prob",
      "execution_count": 4,
      "outputs": []
    },
    {
      "metadata": {},
      "cell_type": "markdown",
      "source": "# Read in Data"
    },
    {
      "metadata": {},
      "cell_type": "markdown",
      "source": "### Option 1: Read in DR projections and DK salaries, and make sure names match"
    },
    {
      "metadata": {
        "trusted": true
      },
      "cell_type": "code",
      "source": "df = pd.read_csv('Data/DailyRotoPGAProjections_THE PLAYERS Championship.csv')\n#del df['Salary']\ndf.head()",
      "execution_count": 5,
      "outputs": [
        {
          "output_type": "execute_result",
          "execution_count": 5,
          "data": {
            "text/html": "<div>\n<style scoped>\n    .dataframe tbody tr th:only-of-type {\n        vertical-align: middle;\n    }\n\n    .dataframe tbody tr th {\n        vertical-align: top;\n    }\n\n    .dataframe thead th {\n        text-align: right;\n    }\n</style>\n<table border=\"1\" class=\"dataframe\">\n  <thead>\n    <tr style=\"text-align: right;\">\n      <th></th>\n      <th>Player</th>\n      <th>SlatePlayerID</th>\n      <th>Ownership</th>\n      <th>Sample</th>\n      <th>%:</th>\n      <th>Cut</th>\n      <th>Top 20</th>\n      <th>Top 5</th>\n      <th>Win</th>\n      <th>DK:</th>\n      <th>...</th>\n      <th>Finish Pts.1</th>\n      <th>Scoring Pts.1</th>\n      <th>Points.1</th>\n      <th>Value.1</th>\n      <th>Yahoo:</th>\n      <th>Salary.2</th>\n      <th>Finish Pts.2</th>\n      <th>Scoring Pts.2</th>\n      <th>Points.2</th>\n      <th>Value.2</th>\n    </tr>\n  </thead>\n  <tbody>\n    <tr>\n      <th>0</th>\n      <td>Rory McIlroy</td>\n      <td>14421198</td>\n      <td>25.24</td>\n      <td>150</td>\n      <td>NaN</td>\n      <td>0.826750</td>\n      <td>0.553700</td>\n      <td>0.256750</td>\n      <td>0.081825</td>\n      <td>NaN</td>\n      <td>...</td>\n      <td>5.8478</td>\n      <td>79.20276</td>\n      <td>85.05</td>\n      <td>10.42</td>\n      <td>NaN</td>\n      <td>NaN</td>\n      <td>5.2590</td>\n      <td>74.72942</td>\n      <td>79.99</td>\n      <td>-3027.56</td>\n    </tr>\n    <tr>\n      <th>1</th>\n      <td>Jon Rahm</td>\n      <td>14421199</td>\n      <td>13.48</td>\n      <td>150</td>\n      <td>NaN</td>\n      <td>0.815275</td>\n      <td>0.523800</td>\n      <td>0.227475</td>\n      <td>0.065825</td>\n      <td>NaN</td>\n      <td>...</td>\n      <td>5.5163</td>\n      <td>76.45304</td>\n      <td>81.97</td>\n      <td>10.88</td>\n      <td>NaN</td>\n      <td>NaN</td>\n      <td>4.9214</td>\n      <td>72.07905</td>\n      <td>77.00</td>\n      <td>-2566.39</td>\n    </tr>\n    <tr>\n      <th>2</th>\n      <td>Justin Thomas</td>\n      <td>14421200</td>\n      <td>21.81</td>\n      <td>150</td>\n      <td>NaN</td>\n      <td>0.764025</td>\n      <td>0.430325</td>\n      <td>0.166250</td>\n      <td>0.045175</td>\n      <td>NaN</td>\n      <td>...</td>\n      <td>4.3448</td>\n      <td>70.71232</td>\n      <td>75.06</td>\n      <td>5.64</td>\n      <td>NaN</td>\n      <td>NaN</td>\n      <td>3.7515</td>\n      <td>66.14987</td>\n      <td>69.90</td>\n      <td>-2439.64</td>\n    </tr>\n    <tr>\n      <th>3</th>\n      <td>Hideki Matsuyama</td>\n      <td>14421211</td>\n      <td>19.96</td>\n      <td>150</td>\n      <td>NaN</td>\n      <td>0.740175</td>\n      <td>0.384625</td>\n      <td>0.135275</td>\n      <td>0.034450</td>\n      <td>NaN</td>\n      <td>...</td>\n      <td>3.8778</td>\n      <td>68.98552</td>\n      <td>72.86</td>\n      <td>12.82</td>\n      <td>NaN</td>\n      <td>NaN</td>\n      <td>3.2191</td>\n      <td>64.44148</td>\n      <td>67.66</td>\n      <td>-1116.98</td>\n    </tr>\n    <tr>\n      <th>4</th>\n      <td>Tommy Fleetwood</td>\n      <td>14421209</td>\n      <td>17.47</td>\n      <td>150</td>\n      <td>NaN</td>\n      <td>0.716900</td>\n      <td>0.346500</td>\n      <td>0.116250</td>\n      <td>0.028600</td>\n      <td>NaN</td>\n      <td>...</td>\n      <td>3.5399</td>\n      <td>66.57491</td>\n      <td>70.11</td>\n      <td>9.46</td>\n      <td>NaN</td>\n      <td>NaN</td>\n      <td>2.9198</td>\n      <td>62.05923</td>\n      <td>64.98</td>\n      <td>-1251.58</td>\n    </tr>\n  </tbody>\n</table>\n<p>5 rows × 29 columns</p>\n</div>",
            "text/plain": "             Player  SlatePlayerID  Ownership  Sample  %:       Cut    Top 20  \\\n0      Rory McIlroy       14421198      25.24     150 NaN  0.826750  0.553700   \n1          Jon Rahm       14421199      13.48     150 NaN  0.815275  0.523800   \n2     Justin Thomas       14421200      21.81     150 NaN  0.764025  0.430325   \n3  Hideki Matsuyama       14421211      19.96     150 NaN  0.740175  0.384625   \n4   Tommy Fleetwood       14421209      17.47     150 NaN  0.716900  0.346500   \n\n      Top 5       Win  DK:   ...     Finish Pts.1  Scoring Pts.1  Points.1  \\\n0  0.256750  0.081825  NaN   ...           5.8478       79.20276     85.05   \n1  0.227475  0.065825  NaN   ...           5.5163       76.45304     81.97   \n2  0.166250  0.045175  NaN   ...           4.3448       70.71232     75.06   \n3  0.135275  0.034450  NaN   ...           3.8778       68.98552     72.86   \n4  0.116250  0.028600  NaN   ...           3.5399       66.57491     70.11   \n\n   Value.1  Yahoo:  Salary.2  Finish Pts.2  Scoring Pts.2  Points.2  Value.2  \n0    10.42     NaN       NaN        5.2590       74.72942     79.99 -3027.56  \n1    10.88     NaN       NaN        4.9214       72.07905     77.00 -2566.39  \n2     5.64     NaN       NaN        3.7515       66.14987     69.90 -2439.64  \n3    12.82     NaN       NaN        3.2191       64.44148     67.66 -1116.98  \n4     9.46     NaN       NaN        2.9198       62.05923     64.98 -1251.58  \n\n[5 rows x 29 columns]"
          },
          "metadata": {}
        }
      ]
    },
    {
      "metadata": {
        "trusted": true
      },
      "cell_type": "code",
      "source": "df.columns",
      "execution_count": 6,
      "outputs": [
        {
          "output_type": "execute_result",
          "execution_count": 6,
          "data": {
            "text/plain": "Index(['Player', 'SlatePlayerID', 'Ownership', 'Sample', '%:', 'Cut', 'Top 20',\n       'Top 5', 'Win', 'DK:', 'SD', 'Salary', 'Finish Pts', 'Scoring Pts',\n       'Points', 'Value', 'FD:', 'SD.1', 'Salary.1', 'Finish Pts.1',\n       'Scoring Pts.1', 'Points.1', 'Value.1', 'Yahoo:', 'Salary.2',\n       'Finish Pts.2', 'Scoring Pts.2', 'Points.2', 'Value.2'],\n      dtype='object')"
          },
          "metadata": {}
        }
      ]
    },
    {
      "metadata": {
        "trusted": true
      },
      "cell_type": "code",
      "source": "df.SlatePlayerID = df.SlatePlayerID.astype('str')\ndf['Name + ID'] = df.Player + \" (\" + df.SlatePlayerID + \")\"\ndf = df.sort_values(by='Salary',ascending=False)\ndf[['Player','Salary','Name + ID']].head(15)",
      "execution_count": 7,
      "outputs": [
        {
          "output_type": "execute_result",
          "execution_count": 7,
          "data": {
            "text/html": "<div>\n<style scoped>\n    .dataframe tbody tr th:only-of-type {\n        vertical-align: middle;\n    }\n\n    .dataframe tbody tr th {\n        vertical-align: top;\n    }\n\n    .dataframe thead th {\n        text-align: right;\n    }\n</style>\n<table border=\"1\" class=\"dataframe\">\n  <thead>\n    <tr style=\"text-align: right;\">\n      <th></th>\n      <th>Player</th>\n      <th>Salary</th>\n      <th>Name + ID</th>\n    </tr>\n  </thead>\n  <tbody>\n    <tr>\n      <th>0</th>\n      <td>Rory McIlroy</td>\n      <td>11700</td>\n      <td>Rory McIlroy (14421198)</td>\n    </tr>\n    <tr>\n      <th>1</th>\n      <td>Jon Rahm</td>\n      <td>11000</td>\n      <td>Jon Rahm (14421199)</td>\n    </tr>\n    <tr>\n      <th>2</th>\n      <td>Justin Thomas</td>\n      <td>10800</td>\n      <td>Justin Thomas (14421200)</td>\n    </tr>\n    <tr>\n      <th>29</th>\n      <td>Brooks Koepka</td>\n      <td>10200</td>\n      <td>Brooks Koepka (14421202)</td>\n    </tr>\n    <tr>\n      <th>21</th>\n      <td>Dustin Johnson</td>\n      <td>10000</td>\n      <td>Dustin Johnson (14421203)</td>\n    </tr>\n    <tr>\n      <th>10</th>\n      <td>Patrick Cantlay</td>\n      <td>9800</td>\n      <td>Patrick Cantlay (14421204)</td>\n    </tr>\n    <tr>\n      <th>9</th>\n      <td>Adam Scott</td>\n      <td>9600</td>\n      <td>Adam Scott (14421205)</td>\n    </tr>\n    <tr>\n      <th>6</th>\n      <td>Xander Schauffele</td>\n      <td>9400</td>\n      <td>Xander Schauffele (14421206)</td>\n    </tr>\n    <tr>\n      <th>5</th>\n      <td>Webb Simpson</td>\n      <td>9200</td>\n      <td>Webb Simpson (14421207)</td>\n    </tr>\n    <tr>\n      <th>8</th>\n      <td>Bryson DeChambeau</td>\n      <td>9100</td>\n      <td>Bryson DeChambeau (14421208)</td>\n    </tr>\n    <tr>\n      <th>4</th>\n      <td>Tommy Fleetwood</td>\n      <td>9000</td>\n      <td>Tommy Fleetwood (14421209)</td>\n    </tr>\n    <tr>\n      <th>15</th>\n      <td>Rickie Fowler</td>\n      <td>8900</td>\n      <td>Rickie Fowler (14421210)</td>\n    </tr>\n    <tr>\n      <th>3</th>\n      <td>Hideki Matsuyama</td>\n      <td>8800</td>\n      <td>Hideki Matsuyama (14421211)</td>\n    </tr>\n    <tr>\n      <th>38</th>\n      <td>Justin Rose</td>\n      <td>8700</td>\n      <td>Justin Rose (14421212)</td>\n    </tr>\n    <tr>\n      <th>7</th>\n      <td>Sungjae Im</td>\n      <td>8600</td>\n      <td>Sungjae Im (14421213)</td>\n    </tr>\n  </tbody>\n</table>\n</div>",
            "text/plain": "               Player  Salary                     Name + ID\n0        Rory McIlroy   11700       Rory McIlroy (14421198)\n1            Jon Rahm   11000           Jon Rahm (14421199)\n2       Justin Thomas   10800      Justin Thomas (14421200)\n29      Brooks Koepka   10200      Brooks Koepka (14421202)\n21     Dustin Johnson   10000     Dustin Johnson (14421203)\n10    Patrick Cantlay    9800    Patrick Cantlay (14421204)\n9          Adam Scott    9600         Adam Scott (14421205)\n6   Xander Schauffele    9400  Xander Schauffele (14421206)\n5        Webb Simpson    9200       Webb Simpson (14421207)\n8   Bryson DeChambeau    9100  Bryson DeChambeau (14421208)\n4     Tommy Fleetwood    9000    Tommy Fleetwood (14421209)\n15      Rickie Fowler    8900      Rickie Fowler (14421210)\n3    Hideki Matsuyama    8800   Hideki Matsuyama (14421211)\n38        Justin Rose    8700        Justin Rose (14421212)\n7          Sungjae Im    8600         Sungjae Im (14421213)"
          },
          "metadata": {}
        }
      ]
    },
    {
      "metadata": {
        "trusted": true
      },
      "cell_type": "code",
      "source": "#df[(df.Salary<6500)][['Player','Salary','Points']].sort_values(by='Points',ascending=False)",
      "execution_count": 8,
      "outputs": []
    },
    {
      "metadata": {
        "trusted": true
      },
      "cell_type": "code",
      "source": "# from difflib import get_close_matches\n# #df_DK = pd.read_csv('Data/DKSalaries Open 2019.csv')\n# url = 'https://www.draftkings.com/lineup/getavailableplayerscsv?contestTypeId=29&draftGroupId=29781'\n# df_DK = pd.read_csv(url)\n# df_DK.head()",
      "execution_count": 9,
      "outputs": []
    },
    {
      "metadata": {
        "trusted": true
      },
      "cell_type": "code",
      "source": "# df['Name'] = \"\"\n# for i in np.arange(len(df)):\n#     curr_name = df['Player'].iloc[i]\n#     try:\n#         new_name = get_close_matches(curr_name,df_DK['Name'])[0]\n#         if new_name != curr_name:\n#             print('{} (from DR) changed to {} to match DK'.format(curr_name,new_name))\n#     except:\n#         new_name = 'No Name'\n#         print('NO MATCH: curr_name = {}, new_name = {}'.format(curr_name,new_name))\n#     df['Name'].iloc[i] = new_name\n# #df2['Name'] = df2['Name'].apply(lambda x: get_close_matches(x,df2_sal['Name']))\n# df.head(2)",
      "execution_count": 10,
      "outputs": []
    },
    {
      "metadata": {
        "trusted": true
      },
      "cell_type": "code",
      "source": "# df = pd.merge(df,df_DK[['Name','Name + ID','Salary']], on='Name')\n# df[['Player','Salary','Points','Ownership']].head()",
      "execution_count": 11,
      "outputs": []
    },
    {
      "metadata": {
        "trusted": true
      },
      "cell_type": "code",
      "source": "#df.sort_values(by='Salary',ascending=False).head(10)",
      "execution_count": 12,
      "outputs": []
    },
    {
      "metadata": {
        "trusted": true
      },
      "cell_type": "code",
      "source": "df.columns",
      "execution_count": 13,
      "outputs": [
        {
          "output_type": "execute_result",
          "execution_count": 13,
          "data": {
            "text/plain": "Index(['Player', 'SlatePlayerID', 'Ownership', 'Sample', '%:', 'Cut', 'Top 20',\n       'Top 5', 'Win', 'DK:', 'SD', 'Salary', 'Finish Pts', 'Scoring Pts',\n       'Points', 'Value', 'FD:', 'SD.1', 'Salary.1', 'Finish Pts.1',\n       'Scoring Pts.1', 'Points.1', 'Value.1', 'Yahoo:', 'Salary.2',\n       'Finish Pts.2', 'Scoring Pts.2', 'Points.2', 'Value.2', 'Name + ID'],\n      dtype='object')"
          },
          "metadata": {}
        }
      ]
    },
    {
      "metadata": {},
      "cell_type": "markdown",
      "source": "# Optimize with Pulp"
    },
    {
      "metadata": {
        "trusted": true
      },
      "cell_type": "code",
      "source": "",
      "execution_count": null,
      "outputs": []
    },
    {
      "metadata": {
        "trusted": true
      },
      "cell_type": "code",
      "source": "",
      "execution_count": null,
      "outputs": []
    },
    {
      "metadata": {
        "trusted": true
      },
      "cell_type": "code",
      "source": "",
      "execution_count": null,
      "outputs": []
    },
    {
      "metadata": {},
      "cell_type": "markdown",
      "source": "# Now Optimize in different ways"
    },
    {
      "metadata": {
        "trusted": true
      },
      "cell_type": "code",
      "source": "#OPTIONAL: Filter down data\ndf_all = df.copy()\n#df[(df.Salary>=min_sal) & (df.Salary<= max_sal)][['Player','Salary']].sort_values(by='Salary')",
      "execution_count": 14,
      "outputs": []
    },
    {
      "metadata": {
        "trusted": true
      },
      "cell_type": "code",
      "source": "df_all.head()",
      "execution_count": 15,
      "outputs": [
        {
          "output_type": "execute_result",
          "execution_count": 15,
          "data": {
            "text/html": "<div>\n<style scoped>\n    .dataframe tbody tr th:only-of-type {\n        vertical-align: middle;\n    }\n\n    .dataframe tbody tr th {\n        vertical-align: top;\n    }\n\n    .dataframe thead th {\n        text-align: right;\n    }\n</style>\n<table border=\"1\" class=\"dataframe\">\n  <thead>\n    <tr style=\"text-align: right;\">\n      <th></th>\n      <th>Player</th>\n      <th>SlatePlayerID</th>\n      <th>Ownership</th>\n      <th>Sample</th>\n      <th>%:</th>\n      <th>Cut</th>\n      <th>Top 20</th>\n      <th>Top 5</th>\n      <th>Win</th>\n      <th>DK:</th>\n      <th>...</th>\n      <th>Scoring Pts.1</th>\n      <th>Points.1</th>\n      <th>Value.1</th>\n      <th>Yahoo:</th>\n      <th>Salary.2</th>\n      <th>Finish Pts.2</th>\n      <th>Scoring Pts.2</th>\n      <th>Points.2</th>\n      <th>Value.2</th>\n      <th>Name + ID</th>\n    </tr>\n  </thead>\n  <tbody>\n    <tr>\n      <th>0</th>\n      <td>Rory McIlroy</td>\n      <td>14421198</td>\n      <td>25.24</td>\n      <td>150</td>\n      <td>NaN</td>\n      <td>0.826750</td>\n      <td>0.553700</td>\n      <td>0.256750</td>\n      <td>0.081825</td>\n      <td>NaN</td>\n      <td>...</td>\n      <td>79.20276</td>\n      <td>85.05</td>\n      <td>10.42</td>\n      <td>NaN</td>\n      <td>NaN</td>\n      <td>5.2590</td>\n      <td>74.72942</td>\n      <td>79.99</td>\n      <td>-3027.56</td>\n      <td>Rory McIlroy (14421198)</td>\n    </tr>\n    <tr>\n      <th>1</th>\n      <td>Jon Rahm</td>\n      <td>14421199</td>\n      <td>13.48</td>\n      <td>150</td>\n      <td>NaN</td>\n      <td>0.815275</td>\n      <td>0.523800</td>\n      <td>0.227475</td>\n      <td>0.065825</td>\n      <td>NaN</td>\n      <td>...</td>\n      <td>76.45304</td>\n      <td>81.97</td>\n      <td>10.88</td>\n      <td>NaN</td>\n      <td>NaN</td>\n      <td>4.9214</td>\n      <td>72.07905</td>\n      <td>77.00</td>\n      <td>-2566.39</td>\n      <td>Jon Rahm (14421199)</td>\n    </tr>\n    <tr>\n      <th>2</th>\n      <td>Justin Thomas</td>\n      <td>14421200</td>\n      <td>21.81</td>\n      <td>150</td>\n      <td>NaN</td>\n      <td>0.764025</td>\n      <td>0.430325</td>\n      <td>0.166250</td>\n      <td>0.045175</td>\n      <td>NaN</td>\n      <td>...</td>\n      <td>70.71232</td>\n      <td>75.06</td>\n      <td>5.64</td>\n      <td>NaN</td>\n      <td>NaN</td>\n      <td>3.7515</td>\n      <td>66.14987</td>\n      <td>69.90</td>\n      <td>-2439.64</td>\n      <td>Justin Thomas (14421200)</td>\n    </tr>\n    <tr>\n      <th>29</th>\n      <td>Brooks Koepka</td>\n      <td>14421202</td>\n      <td>13.93</td>\n      <td>150</td>\n      <td>NaN</td>\n      <td>0.594925</td>\n      <td>0.196650</td>\n      <td>0.050100</td>\n      <td>0.010075</td>\n      <td>NaN</td>\n      <td>...</td>\n      <td>55.62843</td>\n      <td>57.52</td>\n      <td>-7.24</td>\n      <td>NaN</td>\n      <td>NaN</td>\n      <td>1.3990</td>\n      <td>50.93915</td>\n      <td>52.34</td>\n      <td>-2056.39</td>\n      <td>Brooks Koepka (14421202)</td>\n    </tr>\n    <tr>\n      <th>21</th>\n      <td>Dustin Johnson</td>\n      <td>14421203</td>\n      <td>21.58</td>\n      <td>150</td>\n      <td>NaN</td>\n      <td>0.631825</td>\n      <td>0.239900</td>\n      <td>0.065050</td>\n      <td>0.013525</td>\n      <td>NaN</td>\n      <td>...</td>\n      <td>58.78089</td>\n      <td>61.08</td>\n      <td>-3.15</td>\n      <td>NaN</td>\n      <td>NaN</td>\n      <td>1.7469</td>\n      <td>54.07675</td>\n      <td>55.82</td>\n      <td>-1921.16</td>\n      <td>Dustin Johnson (14421203)</td>\n    </tr>\n  </tbody>\n</table>\n<p>5 rows × 30 columns</p>\n</div>",
            "text/plain": "            Player SlatePlayerID  Ownership  Sample  %:       Cut    Top 20  \\\n0     Rory McIlroy      14421198      25.24     150 NaN  0.826750  0.553700   \n1         Jon Rahm      14421199      13.48     150 NaN  0.815275  0.523800   \n2    Justin Thomas      14421200      21.81     150 NaN  0.764025  0.430325   \n29   Brooks Koepka      14421202      13.93     150 NaN  0.594925  0.196650   \n21  Dustin Johnson      14421203      21.58     150 NaN  0.631825  0.239900   \n\n       Top 5       Win  DK:            ...              Scoring Pts.1  \\\n0   0.256750  0.081825  NaN            ...                   79.20276   \n1   0.227475  0.065825  NaN            ...                   76.45304   \n2   0.166250  0.045175  NaN            ...                   70.71232   \n29  0.050100  0.010075  NaN            ...                   55.62843   \n21  0.065050  0.013525  NaN            ...                   58.78089   \n\n    Points.1  Value.1  Yahoo:  Salary.2  Finish Pts.2  Scoring Pts.2  \\\n0      85.05    10.42     NaN       NaN        5.2590       74.72942   \n1      81.97    10.88     NaN       NaN        4.9214       72.07905   \n2      75.06     5.64     NaN       NaN        3.7515       66.14987   \n29     57.52    -7.24     NaN       NaN        1.3990       50.93915   \n21     61.08    -3.15     NaN       NaN        1.7469       54.07675   \n\n    Points.2  Value.2                  Name + ID  \n0      79.99 -3027.56    Rory McIlroy (14421198)  \n1      77.00 -2566.39        Jon Rahm (14421199)  \n2      69.90 -2439.64   Justin Thomas (14421200)  \n29     52.34 -2056.39   Brooks Koepka (14421202)  \n21     55.82 -1921.16  Dustin Johnson (14421203)  \n\n[5 rows x 30 columns]"
          },
          "metadata": {}
        }
      ]
    },
    {
      "metadata": {
        "trusted": true
      },
      "cell_type": "code",
      "source": "pen_vals = np.arange(0,1,.1)\nfor pen in pen_vals:\n    df_now = df_all.copy()\n    df_now = df_now[df_now.Salary<99999]\n    n = len(df_now)\n    x = cp.Variable(n,boolean=True)\n    s = df_now.Salary.values\n    p = df_now.Points.values\n    c = df_now.Cut.values\n    T20 = df_now['Top 20'].values\n    own = df_now.Ownership.values\n    cap = 50000\n    constraints = [cp.sum(x) == 6,\n                 x*s <= cap]\n\n    # Form objective.\n    obj = cp.Maximize(x*(p-pen*own))\n\n    # Form and solve problem.\n    prob = cp.Problem(obj, constraints)\n    prob.solve()  # Returns the optimal value\n    opt_team = df_now['Player'][x.value>.5].tolist()\n    print('(pen = {:.1f}): '.format(pen),opt_team)",
      "execution_count": 18,
      "outputs": [
        {
          "output_type": "stream",
          "text": "/home/nbuser/anaconda3_501/lib/python3.6/site-packages/cvxpy/expressions/expression.py:516: UserWarning: \nThis use of ``*`` has resulted in matrix multiplication.\nUsing ``*`` for matrix multiplication has been deprecated since CVXPY 1.1.\n    Use ``*`` for matrix-scalar and vector-scalar multiplication.\n    Use ``@`` for matrix-matrix and matrix-vector multiplication.\n    Use ``multiply`` for elementwise multiplication.\n\n  warnings.warn(__STAR_MATMUL_WARNING__, UserWarning)\n/home/nbuser/anaconda3_501/lib/python3.6/site-packages/cvxpy/expressions/expression.py:516: UserWarning: \nThis use of ``*`` has resulted in matrix multiplication.\nUsing ``*`` for matrix multiplication has been deprecated since CVXPY 1.1.\n    Use ``*`` for matrix-scalar and vector-scalar multiplication.\n    Use ``@`` for matrix-matrix and matrix-vector multiplication.\n    Use ``multiply`` for elementwise multiplication.\n\n  warnings.warn(__STAR_MATMUL_WARNING__, UserWarning)\n",
          "name": "stderr"
        },
        {
          "output_type": "error",
          "ename": "SolverError",
          "evalue": "\n\n                    CVXPY needs additional software (a `mixed-integer solver`) to handle this model.\n                    The web documentation\n                        https://www.cvxpy.org/tutorial/advanced/index.html#mixed-integer-programs\n                    reviews open-source and commercial options for mixed-integer solvers.\n\n                    Quick fix: if you install the python package CVXOPT (pip install cvxopt),\n                    then CVXPY can use the open-source mixed-integer solver `GLPK`.\n                ",
          "traceback": [
            "\u001b[0;31m---------------------------------------------------------------------------\u001b[0m",
            "\u001b[0;31mSolverError\u001b[0m                               Traceback (most recent call last)",
            "\u001b[0;32m<ipython-input-18-5c915279cff2>\u001b[0m in \u001b[0;36m<module>\u001b[0;34m\u001b[0m\n\u001b[1;32m     19\u001b[0m     \u001b[0;31m# Form and solve problem.\u001b[0m\u001b[0;34m\u001b[0m\u001b[0;34m\u001b[0m\u001b[0m\n\u001b[1;32m     20\u001b[0m     \u001b[0mprob\u001b[0m \u001b[0;34m=\u001b[0m \u001b[0mcp\u001b[0m\u001b[0;34m.\u001b[0m\u001b[0mProblem\u001b[0m\u001b[0;34m(\u001b[0m\u001b[0mobj\u001b[0m\u001b[0;34m,\u001b[0m \u001b[0mconstraints\u001b[0m\u001b[0;34m)\u001b[0m\u001b[0;34m\u001b[0m\u001b[0m\n\u001b[0;32m---> 21\u001b[0;31m     \u001b[0mprob\u001b[0m\u001b[0;34m.\u001b[0m\u001b[0msolve\u001b[0m\u001b[0;34m(\u001b[0m\u001b[0;34m)\u001b[0m  \u001b[0;31m# Returns the optimal value\u001b[0m\u001b[0;34m\u001b[0m\u001b[0m\n\u001b[0m\u001b[1;32m     22\u001b[0m     \u001b[0mopt_team\u001b[0m \u001b[0;34m=\u001b[0m \u001b[0mdf_now\u001b[0m\u001b[0;34m[\u001b[0m\u001b[0;34m'Player'\u001b[0m\u001b[0;34m]\u001b[0m\u001b[0;34m[\u001b[0m\u001b[0mx\u001b[0m\u001b[0;34m.\u001b[0m\u001b[0mvalue\u001b[0m\u001b[0;34m>\u001b[0m\u001b[0;36m.5\u001b[0m\u001b[0;34m]\u001b[0m\u001b[0;34m.\u001b[0m\u001b[0mtolist\u001b[0m\u001b[0;34m(\u001b[0m\u001b[0;34m)\u001b[0m\u001b[0;34m\u001b[0m\u001b[0m\n\u001b[1;32m     23\u001b[0m     \u001b[0mprint\u001b[0m\u001b[0;34m(\u001b[0m\u001b[0;34m'(pen = {:.1f}): '\u001b[0m\u001b[0;34m.\u001b[0m\u001b[0mformat\u001b[0m\u001b[0;34m(\u001b[0m\u001b[0mpen\u001b[0m\u001b[0;34m)\u001b[0m\u001b[0;34m,\u001b[0m\u001b[0mopt_team\u001b[0m\u001b[0;34m)\u001b[0m\u001b[0;34m\u001b[0m\u001b[0m\n",
            "\u001b[0;32m~/anaconda3_501/lib/python3.6/site-packages/cvxpy/problems/problem.py\u001b[0m in \u001b[0;36msolve\u001b[0;34m(self, *args, **kwargs)\u001b[0m\n\u001b[1;32m    393\u001b[0m         \u001b[0;32melse\u001b[0m\u001b[0;34m:\u001b[0m\u001b[0;34m\u001b[0m\u001b[0m\n\u001b[1;32m    394\u001b[0m             \u001b[0msolve_func\u001b[0m \u001b[0;34m=\u001b[0m \u001b[0mProblem\u001b[0m\u001b[0;34m.\u001b[0m\u001b[0m_solve\u001b[0m\u001b[0;34m\u001b[0m\u001b[0m\n\u001b[0;32m--> 395\u001b[0;31m         \u001b[0;32mreturn\u001b[0m \u001b[0msolve_func\u001b[0m\u001b[0;34m(\u001b[0m\u001b[0mself\u001b[0m\u001b[0;34m,\u001b[0m \u001b[0;34m*\u001b[0m\u001b[0margs\u001b[0m\u001b[0;34m,\u001b[0m \u001b[0;34m**\u001b[0m\u001b[0mkwargs\u001b[0m\u001b[0;34m)\u001b[0m\u001b[0;34m\u001b[0m\u001b[0m\n\u001b[0m\u001b[1;32m    396\u001b[0m \u001b[0;34m\u001b[0m\u001b[0m\n\u001b[1;32m    397\u001b[0m     \u001b[0;34m@\u001b[0m\u001b[0mclassmethod\u001b[0m\u001b[0;34m\u001b[0m\u001b[0m\n",
            "\u001b[0;32m~/anaconda3_501/lib/python3.6/site-packages/cvxpy/problems/problem.py\u001b[0m in \u001b[0;36m_solve\u001b[0;34m(self, solver, warm_start, verbose, gp, qcp, requires_grad, enforce_dpp, **kwargs)\u001b[0m\n\u001b[1;32m    742\u001b[0m \u001b[0;34m\u001b[0m\u001b[0m\n\u001b[1;32m    743\u001b[0m         data, solving_chain, inverse_data = self.get_problem_data(\n\u001b[0;32m--> 744\u001b[0;31m             solver, gp, enforce_dpp)\n\u001b[0m\u001b[1;32m    745\u001b[0m         solution = solving_chain.solve_via_data(\n\u001b[1;32m    746\u001b[0m             self, data, warm_start, verbose, kwargs)\n",
            "\u001b[0;32m~/anaconda3_501/lib/python3.6/site-packages/cvxpy/problems/problem.py\u001b[0m in \u001b[0;36mget_problem_data\u001b[0;34m(self, solver, gp, enforce_dpp)\u001b[0m\n\u001b[1;32m    497\u001b[0m             \u001b[0mself\u001b[0m\u001b[0;34m.\u001b[0m\u001b[0m_cache\u001b[0m\u001b[0;34m.\u001b[0m\u001b[0minvalidate\u001b[0m\u001b[0;34m(\u001b[0m\u001b[0;34m)\u001b[0m\u001b[0;34m\u001b[0m\u001b[0m\n\u001b[1;32m    498\u001b[0m             solving_chain = self._construct_chain(\n\u001b[0;32m--> 499\u001b[0;31m                 solver=solver, gp=gp, enforce_dpp=enforce_dpp)\n\u001b[0m\u001b[1;32m    500\u001b[0m             \u001b[0mself\u001b[0m\u001b[0;34m.\u001b[0m\u001b[0m_cache\u001b[0m\u001b[0;34m.\u001b[0m\u001b[0mkey\u001b[0m \u001b[0;34m=\u001b[0m \u001b[0mkey\u001b[0m\u001b[0;34m\u001b[0m\u001b[0m\n\u001b[1;32m    501\u001b[0m             \u001b[0mself\u001b[0m\u001b[0;34m.\u001b[0m\u001b[0m_cache\u001b[0m\u001b[0;34m.\u001b[0m\u001b[0msolving_chain\u001b[0m \u001b[0;34m=\u001b[0m \u001b[0msolving_chain\u001b[0m\u001b[0;34m\u001b[0m\u001b[0m\n",
            "\u001b[0;32m~/anaconda3_501/lib/python3.6/site-packages/cvxpy/problems/problem.py\u001b[0m in \u001b[0;36m_construct_chain\u001b[0;34m(self, solver, gp, enforce_dpp)\u001b[0m\n\u001b[1;32m    648\u001b[0m         \u001b[0mA\u001b[0m \u001b[0msolving\u001b[0m \u001b[0mchain\u001b[0m\u001b[0;34m\u001b[0m\u001b[0m\n\u001b[1;32m    649\u001b[0m         \"\"\"\n\u001b[0;32m--> 650\u001b[0;31m         \u001b[0mcandidate_solvers\u001b[0m \u001b[0;34m=\u001b[0m \u001b[0mself\u001b[0m\u001b[0;34m.\u001b[0m\u001b[0m_find_candidate_solvers\u001b[0m\u001b[0;34m(\u001b[0m\u001b[0msolver\u001b[0m\u001b[0;34m=\u001b[0m\u001b[0msolver\u001b[0m\u001b[0;34m,\u001b[0m \u001b[0mgp\u001b[0m\u001b[0;34m=\u001b[0m\u001b[0mgp\u001b[0m\u001b[0;34m)\u001b[0m\u001b[0;34m\u001b[0m\u001b[0m\n\u001b[0m\u001b[1;32m    651\u001b[0m         return construct_solving_chain(self, candidate_solvers, gp=gp,\n\u001b[1;32m    652\u001b[0m                                        enforce_dpp=enforce_dpp)\n",
            "\u001b[0;32m~/anaconda3_501/lib/python3.6/site-packages/cvxpy/problems/problem.py\u001b[0m in \u001b[0;36m_find_candidate_solvers\u001b[0;34m(self, solver, gp)\u001b[0m\n\u001b[1;32m    607\u001b[0m                     \u001b[0mthen\u001b[0m \u001b[0mCVXPY\u001b[0m \u001b[0mcan\u001b[0m \u001b[0muse\u001b[0m \u001b[0mthe\u001b[0m \u001b[0mopen\u001b[0m\u001b[0;34m-\u001b[0m\u001b[0msource\u001b[0m \u001b[0mmixed\u001b[0m\u001b[0;34m-\u001b[0m\u001b[0minteger\u001b[0m \u001b[0msolver\u001b[0m\u001b[0;31m \u001b[0m\u001b[0;31m`\u001b[0m\u001b[0mGLPK\u001b[0m\u001b[0;31m`\u001b[0m\u001b[0;34m.\u001b[0m\u001b[0;34m\u001b[0m\u001b[0m\n\u001b[1;32m    608\u001b[0m                 \"\"\"\n\u001b[0;32m--> 609\u001b[0;31m                 \u001b[0;32mraise\u001b[0m \u001b[0merror\u001b[0m\u001b[0;34m.\u001b[0m\u001b[0mSolverError\u001b[0m\u001b[0;34m(\u001b[0m\u001b[0mmsg\u001b[0m\u001b[0;34m)\u001b[0m\u001b[0;34m\u001b[0m\u001b[0m\n\u001b[0m\u001b[1;32m    610\u001b[0m             candidates['qp_solvers'] = [\n\u001b[1;32m    611\u001b[0m                 \u001b[0ms\u001b[0m \u001b[0;32mfor\u001b[0m \u001b[0ms\u001b[0m \u001b[0;32min\u001b[0m \u001b[0mcandidates\u001b[0m\u001b[0;34m[\u001b[0m\u001b[0;34m'qp_solvers'\u001b[0m\u001b[0;34m]\u001b[0m\u001b[0;34m\u001b[0m\u001b[0m\n",
            "\u001b[0;31mSolverError\u001b[0m: \n\n                    CVXPY needs additional software (a `mixed-integer solver`) to handle this model.\n                    The web documentation\n                        https://www.cvxpy.org/tutorial/advanced/index.html#mixed-integer-programs\n                    reviews open-source and commercial options for mixed-integer solvers.\n\n                    Quick fix: if you install the python package CVXOPT (pip install cvxopt),\n                    then CVXPY can use the open-source mixed-integer solver `GLPK`.\n                "
          ]
        }
      ]
    },
    {
      "metadata": {
        "trusted": true
      },
      "cell_type": "code",
      "source": "caps = np.arange(110,35,-5)\nfor owncap in caps:\n    df_now = df_all.copy()\n    df_now = df_now[df_now.Salary<=12000]\n    n = len(df_now)\n    x = cp.Variable(n,boolean=True)\n    s = df_now.Salary.values\n    p = df_now.Points.values\n    c = df_now.Cut.values\n    T20 = df_now['Top 20'].values\n    own = df_now.Ownership.values\n    cap = 50000\n    constraints = [cp.sum(x) == 6,\n                 x*s <= cap,\n                  x*own <= owncap]\n\n    # Form objective.\n    obj = cp.Maximize(x*(p))\n\n    # Form and solve problem.\n    prob = cp.Problem(obj, constraints)\n    prob.solve()  # Returns the optimal value\n    opt_team = df_now['Player'][x.value>.5].tolist()\n    print('(own cap = {}%): '.format(owncap),opt_team)",
      "execution_count": 23,
      "outputs": [
        {
          "output_type": "stream",
          "text": "(own cap = 110%):  ['Jon Rahm', 'Hideki Matsuyama', 'Collin Morikawa', 'Billy Horschel', 'Tyrrell Hatton', 'Abraham Ancer']\n(own cap = 105%):  ['Jon Rahm', 'Hideki Matsuyama', 'Collin Morikawa', 'Billy Horschel', 'Tyrrell Hatton', 'Abraham Ancer']\n(own cap = 100%):  ['Jon Rahm', 'Hideki Matsuyama', 'Collin Morikawa', 'Billy Horschel', 'Tyrrell Hatton', 'Abraham Ancer']\n(own cap = 95%):  ['Jon Rahm', 'Hideki Matsuyama', 'Collin Morikawa', 'Tyrrell Hatton', 'Matthew Fitzpatrick', 'Abraham Ancer']\n(own cap = 90%):  ['Jon Rahm', 'Hideki Matsuyama', 'Collin Morikawa', 'Billy Horschel', 'Matthew Fitzpatrick', 'Abraham Ancer']\n(own cap = 85%):  ['Jon Rahm', 'Hideki Matsuyama', 'Collin Morikawa', 'Billy Horschel', 'Matthew Fitzpatrick', 'Abraham Ancer']\n(own cap = 80%):  ['Jon Rahm', 'Hideki Matsuyama', 'Sungjae Im', 'Matthew Fitzpatrick', 'Abraham Ancer', 'Joel Dahmen']\n(own cap = 75%):  ['Jon Rahm', 'Hideki Matsuyama', 'Sungjae Im', 'Billy Horschel', 'Abraham Ancer', 'Jim Furyk']\n(own cap = 70%):  ['Jon Rahm', 'Hideki Matsuyama', 'Sungjae Im', 'Billy Horschel', 'Abraham Ancer', 'Jim Furyk']\n(own cap = 65%):  ['Jon Rahm', 'Hideki Matsuyama', 'Sungjae Im', 'Billy Horschel', 'Matthew Fitzpatrick', 'Jim Furyk']\n(own cap = 60%):  ['Jon Rahm', 'Hideki Matsuyama', 'Sungjae Im', 'Billy Horschel', 'Matthew Fitzpatrick', 'Vaughn Taylor']\n(own cap = 55%):  ['Jon Rahm', 'Hideki Matsuyama', 'Sungjae Im', 'Matthew Fitzpatrick', 'Ryan Moore', 'Jim Furyk']\n(own cap = 50%):  ['Jon Rahm', 'Sungjae Im', 'Paul Casey', 'Billy Horschel', 'Matthew Fitzpatrick', 'Ryan Moore']\n(own cap = 45%):  ['Jon Rahm', 'Sungjae Im', 'Henrik Stenson', 'Billy Horschel', 'Matthew Fitzpatrick', 'Ryan Moore']\n(own cap = 40%):  ['Jon Rahm', 'Rickie Fowler', 'Sungjae Im', 'Matthew Fitzpatrick', 'Ryan Moore', 'Adam Hadwin']\n",
          "name": "stdout"
        }
      ]
    },
    {
      "metadata": {
        "trusted": true
      },
      "cell_type": "code",
      "source": "#specify team settings\n\nlock = ['Bryson DeChambeau','Viktor Hovland']\nlock = ['Jon Rahm','Justin Thomas']\nlock = []\nlock_full_names = []\nfor i, p in enumerate(lock):\n    lock_full_names.append(df[df.Player==p]['Name + ID'].iloc[0])\n#print(lock_full_names)\n\nto_remove = ['Charley Hoffman','Sam Ryder','Zach Johnson',\n            'Jason Day','Sergio Garcia','Tiger Woods','Rafa Cabrera Bello',\n            'Scott Piercy']\nto_remove = ['Aaron Wise','Lucas Glover','Tom Lewis','Kevin Tway','Abraham Ancer','Jim Furyk',\n            'Jason Day','Louis Oosthuizen','Billy Horschel','Paul Casey','Rickie Fowler']\nmax_sal = 9800\nmin_sal = 6000\n\nnumteams=8",
      "execution_count": 27,
      "outputs": []
    },
    {
      "metadata": {
        "trusted": true,
        "scrolled": false
      },
      "cell_type": "code",
      "source": "#Now pick a penalty, and find 1st, 2nd, 3rd, ... opt teams\n#df = df_all.copy()\ndf_now = df_all.copy()\n\nsal_used = df_now[df_now.Player.isin(lock)].Salary.sum()\nsal_left = 50000-sal_used\nplayers_left = 6-len(lock)\n\n#Filter down remaining players by sal\ndf_now = df_now[(df_now.Salary>=min_sal) &\n               (df_now.Salary<=max_sal)]\ndf_now = df_now[~df_now.Player.isin(lock)]\ndf_now = df_now[~df_now.Player.isin(to_remove)]\n\npenalty = 0.4\nopt_teams = []\nfor i in np.arange(numteams): #number of teams\n    n = len(df_now)\n    x = cp.Variable(n,boolean=True)\n    s = df_now.Salary.values\n    p = df_now.Points.values\n    c = df_now.Cut.values\n    T20 = df_now['Top 20'].values\n    own = df_now.Ownership.values\n    cap = sal_left\n    constraints = [cp.sum(x) == players_left,\n                 x*s <= cap]\n\n    # Form objective.\n    obj = cp.Maximize(x*(p-penalty*own))\n\n    # Form and solve problem.\n    prob = cp.Problem(obj, constraints)\n    prob.solve()  # Returns the optimal value\n    opt_team = df_now['Player'][x.value>.5].tolist()\n    print('Team {} (obj = {:.2f}): '.format(i+1,prob.value),opt_team)\n    opt_teams.append(opt_team)\n    #Remove team and go again\n    df_now = df_now[~ df_now.Player.isin(opt_team)]\n",
      "execution_count": 28,
      "outputs": [
        {
          "output_type": "stream",
          "text": "Team 1 (obj = 373.48):  ['Xander Schauffele', 'Hideki Matsuyama', 'Sungjae Im', 'Patrick Reed', 'Matthew Fitzpatrick', 'Ryan Moore']\nTeam 2 (obj = 359.32):  ['Webb Simpson', 'Bryson DeChambeau', 'Tommy Fleetwood', 'Henrik Stenson', 'Scottie Scheffler', 'Brandt Snedeker']\nTeam 3 (obj = 346.81):  ['Patrick Cantlay', 'Adam Scott', 'Gary Woodland', 'Viktor Hovland', 'Tyrrell Hatton', 'Chez Reavie']\nTeam 4 (obj = 333.80):  ['Collin Morikawa', 'Byeong Hun An', 'Matt Kuchar', 'Shane Lowry', 'Adam Hadwin', 'Vaughn Taylor']\nTeam 5 (obj = 328.42):  ['Justin Rose', 'Marc Leishman', 'Brendon Todd', 'Corey Conners', 'Rory Sabbatini', 'Nick Taylor']\nTeam 6 (obj = 321.97):  ['Harris English', 'Kevin Na', 'Harold Varner III', 'Tom Hoge', 'Brian Harman', 'Bud Cauley']\nTeam 7 (obj = 316.62):  ['Sergio Garcia', 'Kevin Kisner', 'Erik Van Rooyen', 'Daniel Berger', 'Carlos Ortiz', 'Christiaan Bezuidenhout']\nTeam 8 (obj = 312.90):  ['Tony Finau', 'Rafa Cabrera Bello', 'Russell Knox', 'Joel Dahmen', 'J.T. Poston', 'Sebastian Munoz']\n",
          "name": "stdout"
        }
      ]
    },
    {
      "metadata": {
        "trusted": true
      },
      "cell_type": "code",
      "source": "#Find opt teams with max own cap\n\ndf=df_all.copy()\n\ndf_now = df.copy()\ndf_now = df_now[(df_now.Salary>=min_sal) & (df_now.Salary<=max_sal)]\n\nsal_used = df_now[df_now.Player.isin(lock)].Salary.sum()\nown_used = df_now[df_now.Player.isin(lock)].Ownership.sum()\n#print(own_used)\nsal_left = 50000-sal_used\nplayers_left = 6-len(lock)\ndf_now = df_now[~df_now.Player.isin(lock)]\ndf_now = df_now[~df_now.Player.isin(to_remove)]\n\n\nown_cap = 68 - own_used\n#print(own_cap)\nopt_teams_cap = []\nfor i in np.arange(numteams): #number of teams\n    n = len(df_now)\n    x = cp.Variable(n,boolean=True)\n    s = df_now.Salary.values\n    p = df_now.Points.values\n    c = df_now.Cut.values\n    T20 = df_now['Top 20'].values\n    own = df_now.Ownership.values\n    cap = sal_left\n    constraints = [cp.sum(x) == players_left,\n                 x*s <= cap,\n                  x*own <= own_cap]\n\n    # Form objective.\n    obj = cp.Maximize(x*(p))\n\n    # Form and solve problem.\n    prob = cp.Problem(obj, constraints)\n    prob.solve()  # Returns the optimal value\n    opt_team = df_now['Player'][x.value>.5].tolist()\n    print('Team {} (obj = {:.2f}): '.format(i+1,prob.value),opt_team)\n    opt_teams_cap.append(opt_team)\n    #Remove team and go again\n    df_now = df_now[~ df_now.Player.isin(opt_team)]",
      "execution_count": 29,
      "outputs": [
        {
          "output_type": "stream",
          "text": "Team 1 (obj = 399.28):  ['Tommy Fleetwood', 'Hideki Matsuyama', 'Sungjae Im', 'Patrick Reed', 'Matthew Fitzpatrick', 'Ryan Moore']\nTeam 2 (obj = 384.01):  ['Xander Schauffele', 'Webb Simpson', 'Bryson DeChambeau', 'Henrik Stenson', 'Scottie Scheffler', 'Vaughn Taylor']\nTeam 3 (obj = 372.90):  ['Patrick Cantlay', 'Adam Scott', 'Collin Morikawa', 'Viktor Hovland', 'Brandt Snedeker', 'Chez Reavie']\nTeam 4 (obj = 362.30):  ['Justin Rose', 'Gary Woodland', 'Byeong Hun An', 'Matt Kuchar', 'Shane Lowry', 'Tyrrell Hatton']\nTeam 5 (obj = 346.92):  ['Tony Finau', 'Sergio Garcia', 'Marc Leishman', 'Daniel Berger', 'Adam Hadwin', 'Joel Dahmen']\nTeam 6 (obj = 330.83):  ['Kevin Kisner', 'Ian Poulter', 'Harris English', 'Corey Conners', 'Rory Sabbatini', 'Nick Taylor']\nTeam 7 (obj = 325.37):  ['Brendon Todd', 'Kevin Na', 'Harold Varner III', 'Tom Hoge', 'Brian Harman', 'Bud Cauley']\nTeam 8 (obj = 318.94):  ['Erik Van Rooyen', 'Christiaan Bezuidenhout', 'Jason Kokrak', 'Max Homa', 'Ryan Palmer', 'J.T. Poston']\n",
          "name": "stdout"
        }
      ]
    },
    {
      "metadata": {
        "trusted": true
      },
      "cell_type": "code",
      "source": "#Who's in one opt but not the other\nfor num_teams in np.arange(1,6):\n    print('In top {} teams:'.format(num_teams))\n    pen_not_cap = set(np.hstack(opt_teams[:num_teams])) - set(np.hstack(opt_teams_cap[:num_teams]))\n    cap_not_pen = set(np.hstack(opt_teams_cap[:num_teams])) - set(np.hstack(opt_teams[:num_teams]))\n    print('\\tIn pen, not cap',pen_not_cap)\n    print('\\tIn cap, not pen:',cap_not_pen)",
      "execution_count": 30,
      "outputs": [
        {
          "output_type": "stream",
          "text": "In top 1 teams:\n\tIn pen, not cap {'Xander Schauffele'}\n\tIn cap, not pen: {'Tommy Fleetwood'}\nIn top 2 teams:\n\tIn pen, not cap {'Brandt Snedeker'}\n\tIn cap, not pen: {'Vaughn Taylor'}\nIn top 3 teams:\n\tIn pen, not cap {'Tyrrell Hatton', 'Gary Woodland'}\n\tIn cap, not pen: {'Collin Morikawa', 'Vaughn Taylor'}\nIn top 4 teams:\n\tIn pen, not cap {'Adam Hadwin'}\n\tIn cap, not pen: {'Justin Rose'}\nIn top 5 teams:\n\tIn pen, not cap {'Nick Taylor', 'Corey Conners', 'Rory Sabbatini', 'Brendon Todd'}\n\tIn cap, not pen: {'Joel Dahmen', 'Tony Finau', 'Sergio Garcia', 'Daniel Berger'}\n",
          "name": "stdout"
        }
      ]
    },
    {
      "metadata": {
        "trusted": true
      },
      "cell_type": "code",
      "source": "#pick the num of teams to use",
      "execution_count": 59,
      "outputs": []
    },
    {
      "metadata": {},
      "cell_type": "markdown",
      "source": "## Generate lineups!"
    },
    {
      "metadata": {
        "trusted": true
      },
      "cell_type": "code",
      "source": "### Assign exposures for top j teams\nnum_teams_deep = 3\nown_gap = 5\nexposures = list(np.arange(50,50-own_gap*num_teams_deep,-own_gap))\nif len(exposures)<len(opt_teams_cap):\n    exposures = exposures + [0]*(len(opt_teams)-len(exposures))\nexposures",
      "execution_count": 31,
      "outputs": [
        {
          "output_type": "execute_result",
          "execution_count": 31,
          "data": {
            "text/plain": "[50, 45, 40, 0, 0, 0, 0, 0]"
          },
          "metadata": {}
        }
      ]
    },
    {
      "metadata": {
        "trusted": true
      },
      "cell_type": "code",
      "source": "#Create df to hold player pool\ndf_teams = df[['Name + ID','Player','Salary','Ownership']]\ndf_teams.sort_values(by='Salary',ascending=False,inplace=True)\ndf_teams['Exposure'] = 0\ndf_teams['Actual Exposure'] = 0\ndf_teams.head()",
      "execution_count": 32,
      "outputs": [
        {
          "output_type": "stream",
          "text": "/home/nbuser/anaconda3_501/lib/python3.6/site-packages/ipykernel/__main__.py:3: SettingWithCopyWarning: \nA value is trying to be set on a copy of a slice from a DataFrame\n\nSee the caveats in the documentation: http://pandas.pydata.org/pandas-docs/stable/indexing.html#indexing-view-versus-copy\n  app.launch_new_instance()\n/home/nbuser/anaconda3_501/lib/python3.6/site-packages/ipykernel/__main__.py:4: SettingWithCopyWarning: \nA value is trying to be set on a copy of a slice from a DataFrame.\nTry using .loc[row_indexer,col_indexer] = value instead\n\nSee the caveats in the documentation: http://pandas.pydata.org/pandas-docs/stable/indexing.html#indexing-view-versus-copy\n/home/nbuser/anaconda3_501/lib/python3.6/site-packages/ipykernel/__main__.py:5: SettingWithCopyWarning: \nA value is trying to be set on a copy of a slice from a DataFrame.\nTry using .loc[row_indexer,col_indexer] = value instead\n\nSee the caveats in the documentation: http://pandas.pydata.org/pandas-docs/stable/indexing.html#indexing-view-versus-copy\n",
          "name": "stderr"
        },
        {
          "output_type": "execute_result",
          "execution_count": 32,
          "data": {
            "text/html": "<div>\n<style scoped>\n    .dataframe tbody tr th:only-of-type {\n        vertical-align: middle;\n    }\n\n    .dataframe tbody tr th {\n        vertical-align: top;\n    }\n\n    .dataframe thead th {\n        text-align: right;\n    }\n</style>\n<table border=\"1\" class=\"dataframe\">\n  <thead>\n    <tr style=\"text-align: right;\">\n      <th></th>\n      <th>Name + ID</th>\n      <th>Player</th>\n      <th>Salary</th>\n      <th>Ownership</th>\n      <th>Exposure</th>\n      <th>Actual Exposure</th>\n    </tr>\n  </thead>\n  <tbody>\n    <tr>\n      <th>0</th>\n      <td>Rory McIlroy (14421198)</td>\n      <td>Rory McIlroy</td>\n      <td>11700</td>\n      <td>25.24</td>\n      <td>0</td>\n      <td>0</td>\n    </tr>\n    <tr>\n      <th>1</th>\n      <td>Jon Rahm (14421199)</td>\n      <td>Jon Rahm</td>\n      <td>11000</td>\n      <td>13.48</td>\n      <td>0</td>\n      <td>0</td>\n    </tr>\n    <tr>\n      <th>2</th>\n      <td>Justin Thomas (14421200)</td>\n      <td>Justin Thomas</td>\n      <td>10800</td>\n      <td>21.81</td>\n      <td>0</td>\n      <td>0</td>\n    </tr>\n    <tr>\n      <th>29</th>\n      <td>Brooks Koepka (14421202)</td>\n      <td>Brooks Koepka</td>\n      <td>10200</td>\n      <td>13.93</td>\n      <td>0</td>\n      <td>0</td>\n    </tr>\n    <tr>\n      <th>21</th>\n      <td>Dustin Johnson (14421203)</td>\n      <td>Dustin Johnson</td>\n      <td>10000</td>\n      <td>21.58</td>\n      <td>0</td>\n      <td>0</td>\n    </tr>\n  </tbody>\n</table>\n</div>",
            "text/plain": "                    Name + ID          Player  Salary  Ownership  Exposure  \\\n0     Rory McIlroy (14421198)    Rory McIlroy   11700      25.24         0   \n1         Jon Rahm (14421199)        Jon Rahm   11000      13.48         0   \n2    Justin Thomas (14421200)   Justin Thomas   10800      21.81         0   \n29   Brooks Koepka (14421202)   Brooks Koepka   10200      13.93         0   \n21  Dustin Johnson (14421203)  Dustin Johnson   10000      21.58         0   \n\n    Actual Exposure  \n0                 0  \n1                 0  \n2                 0  \n29                0  \n21                0  "
          },
          "metadata": {}
        }
      ]
    },
    {
      "metadata": {
        "trusted": true
      },
      "cell_type": "code",
      "source": "#Add in exposures for players in player pool\nfor i, team in enumerate(opt_teams):\n    df_teams.Exposure = np.where(df_teams.Player.isin(team),exposures[i],df_teams.Exposure)\n    \n#OPTIONAL: Add or adjust players\n#more_team = {'Francesco Molinari':20,'Henrik Stenson':20,'Lucas Glover':20}\n#more_team = {'Sungjae Im':35}\n# more_team = {}\n# #more_team['Sungjae Im']=100\n# more_players = {}\n# for p in more_players:\n#     more_team[p] = 40\n#     _\n\n#Add teams from other method\nnum_teams = len([e for e in exposures if e>0])\npen_not_cap = set(np.hstack(opt_teams[:num_teams])) - set(np.hstack(opt_teams_cap[:num_teams]))\ncap_not_pen = set(np.hstack(opt_teams_cap[:num_teams])) - set(np.hstack(opt_teams[:num_teams]))\nmore_players={p:40 for p in pen_not_cap}\nmore_players = {}\nmore_team=['Kevin Na','Adam Hadwin','Sebastian Munoz']\n#more_players['Cameron Champ'] = 39\n#more_players['Henrik Stenson']\nfor p in more_team:\n    more_players[p]=30\nfor p in more_players.keys():\n    df_teams.Exposure = np.where(df_teams.Player==p,more_players[p],df_teams.Exposure)\n    \ndf_teams = df_teams[df_teams.Exposure > 0].reset_index(drop=True)\ndf_teams",
      "execution_count": 33,
      "outputs": [
        {
          "output_type": "stream",
          "text": "/home/nbuser/anaconda3_501/lib/python3.6/site-packages/pandas/core/generic.py:4405: SettingWithCopyWarning: \nA value is trying to be set on a copy of a slice from a DataFrame.\nTry using .loc[row_indexer,col_indexer] = value instead\n\nSee the caveats in the documentation: http://pandas.pydata.org/pandas-docs/stable/indexing.html#indexing-view-versus-copy\n  self[name] = value\n",
          "name": "stderr"
        },
        {
          "output_type": "execute_result",
          "execution_count": 33,
          "data": {
            "text/html": "<div>\n<style scoped>\n    .dataframe tbody tr th:only-of-type {\n        vertical-align: middle;\n    }\n\n    .dataframe tbody tr th {\n        vertical-align: top;\n    }\n\n    .dataframe thead th {\n        text-align: right;\n    }\n</style>\n<table border=\"1\" class=\"dataframe\">\n  <thead>\n    <tr style=\"text-align: right;\">\n      <th></th>\n      <th>Name + ID</th>\n      <th>Player</th>\n      <th>Salary</th>\n      <th>Ownership</th>\n      <th>Exposure</th>\n      <th>Actual Exposure</th>\n    </tr>\n  </thead>\n  <tbody>\n    <tr>\n      <th>0</th>\n      <td>Patrick Cantlay (14421204)</td>\n      <td>Patrick Cantlay</td>\n      <td>9800</td>\n      <td>19.53</td>\n      <td>40</td>\n      <td>0</td>\n    </tr>\n    <tr>\n      <th>1</th>\n      <td>Adam Scott (14421205)</td>\n      <td>Adam Scott</td>\n      <td>9600</td>\n      <td>18.84</td>\n      <td>40</td>\n      <td>0</td>\n    </tr>\n    <tr>\n      <th>2</th>\n      <td>Xander Schauffele (14421206)</td>\n      <td>Xander Schauffele</td>\n      <td>9400</td>\n      <td>13.93</td>\n      <td>50</td>\n      <td>0</td>\n    </tr>\n    <tr>\n      <th>3</th>\n      <td>Webb Simpson (14421207)</td>\n      <td>Webb Simpson</td>\n      <td>9200</td>\n      <td>15.19</td>\n      <td>45</td>\n      <td>0</td>\n    </tr>\n    <tr>\n      <th>4</th>\n      <td>Bryson DeChambeau (14421208)</td>\n      <td>Bryson DeChambeau</td>\n      <td>9100</td>\n      <td>21.61</td>\n      <td>45</td>\n      <td>0</td>\n    </tr>\n    <tr>\n      <th>5</th>\n      <td>Tommy Fleetwood (14421209)</td>\n      <td>Tommy Fleetwood</td>\n      <td>9000</td>\n      <td>17.47</td>\n      <td>45</td>\n      <td>0</td>\n    </tr>\n    <tr>\n      <th>6</th>\n      <td>Hideki Matsuyama (14421211)</td>\n      <td>Hideki Matsuyama</td>\n      <td>8800</td>\n      <td>19.96</td>\n      <td>50</td>\n      <td>0</td>\n    </tr>\n    <tr>\n      <th>7</th>\n      <td>Sungjae Im (14421213)</td>\n      <td>Sungjae Im</td>\n      <td>8600</td>\n      <td>11.88</td>\n      <td>50</td>\n      <td>0</td>\n    </tr>\n    <tr>\n      <th>8</th>\n      <td>Patrick Reed (14421214)</td>\n      <td>Patrick Reed</td>\n      <td>8500</td>\n      <td>11.19</td>\n      <td>50</td>\n      <td>0</td>\n    </tr>\n    <tr>\n      <th>9</th>\n      <td>Gary Woodland (14421216)</td>\n      <td>Gary Woodland</td>\n      <td>8300</td>\n      <td>14.62</td>\n      <td>40</td>\n      <td>0</td>\n    </tr>\n    <tr>\n      <th>10</th>\n      <td>Henrik Stenson (14421221)</td>\n      <td>Henrik Stenson</td>\n      <td>7900</td>\n      <td>4.68</td>\n      <td>45</td>\n      <td>0</td>\n    </tr>\n    <tr>\n      <th>11</th>\n      <td>Viktor Hovland (14421226)</td>\n      <td>Viktor Hovland</td>\n      <td>7700</td>\n      <td>0.91</td>\n      <td>40</td>\n      <td>0</td>\n    </tr>\n    <tr>\n      <th>12</th>\n      <td>Scottie Scheffler (14421231)</td>\n      <td>Scottie Scheffler</td>\n      <td>7500</td>\n      <td>8.22</td>\n      <td>45</td>\n      <td>0</td>\n    </tr>\n    <tr>\n      <th>13</th>\n      <td>Tyrrell Hatton (14421232)</td>\n      <td>Tyrrell Hatton</td>\n      <td>7400</td>\n      <td>16.67</td>\n      <td>40</td>\n      <td>0</td>\n    </tr>\n    <tr>\n      <th>14</th>\n      <td>Matthew Fitzpatrick (14421235)</td>\n      <td>Matthew Fitzpatrick</td>\n      <td>7300</td>\n      <td>5.71</td>\n      <td>50</td>\n      <td>0</td>\n    </tr>\n    <tr>\n      <th>15</th>\n      <td>Ryan Moore (14421246)</td>\n      <td>Ryan Moore</td>\n      <td>7200</td>\n      <td>0.46</td>\n      <td>50</td>\n      <td>0</td>\n    </tr>\n    <tr>\n      <th>16</th>\n      <td>Brandt Snedeker (14421242)</td>\n      <td>Brandt Snedeker</td>\n      <td>7200</td>\n      <td>2.97</td>\n      <td>45</td>\n      <td>0</td>\n    </tr>\n    <tr>\n      <th>17</th>\n      <td>Chez Reavie (14421252)</td>\n      <td>Chez Reavie</td>\n      <td>7100</td>\n      <td>0.46</td>\n      <td>40</td>\n      <td>0</td>\n    </tr>\n    <tr>\n      <th>18</th>\n      <td>Adam Hadwin (14421256)</td>\n      <td>Adam Hadwin</td>\n      <td>7000</td>\n      <td>0.80</td>\n      <td>30</td>\n      <td>0</td>\n    </tr>\n    <tr>\n      <th>19</th>\n      <td>Kevin Na (14421258)</td>\n      <td>Kevin Na</td>\n      <td>7000</td>\n      <td>2.06</td>\n      <td>30</td>\n      <td>0</td>\n    </tr>\n    <tr>\n      <th>20</th>\n      <td>Sebastian Munoz (14421324)</td>\n      <td>Sebastian Munoz</td>\n      <td>6100</td>\n      <td>1.37</td>\n      <td>30</td>\n      <td>0</td>\n    </tr>\n  </tbody>\n</table>\n</div>",
            "text/plain": "                         Name + ID               Player  Salary  Ownership  \\\n0       Patrick Cantlay (14421204)      Patrick Cantlay    9800      19.53   \n1            Adam Scott (14421205)           Adam Scott    9600      18.84   \n2     Xander Schauffele (14421206)    Xander Schauffele    9400      13.93   \n3          Webb Simpson (14421207)         Webb Simpson    9200      15.19   \n4     Bryson DeChambeau (14421208)    Bryson DeChambeau    9100      21.61   \n5       Tommy Fleetwood (14421209)      Tommy Fleetwood    9000      17.47   \n6      Hideki Matsuyama (14421211)     Hideki Matsuyama    8800      19.96   \n7            Sungjae Im (14421213)           Sungjae Im    8600      11.88   \n8          Patrick Reed (14421214)         Patrick Reed    8500      11.19   \n9         Gary Woodland (14421216)        Gary Woodland    8300      14.62   \n10       Henrik Stenson (14421221)       Henrik Stenson    7900       4.68   \n11       Viktor Hovland (14421226)       Viktor Hovland    7700       0.91   \n12    Scottie Scheffler (14421231)    Scottie Scheffler    7500       8.22   \n13       Tyrrell Hatton (14421232)       Tyrrell Hatton    7400      16.67   \n14  Matthew Fitzpatrick (14421235)  Matthew Fitzpatrick    7300       5.71   \n15           Ryan Moore (14421246)           Ryan Moore    7200       0.46   \n16      Brandt Snedeker (14421242)      Brandt Snedeker    7200       2.97   \n17          Chez Reavie (14421252)          Chez Reavie    7100       0.46   \n18          Adam Hadwin (14421256)          Adam Hadwin    7000       0.80   \n19             Kevin Na (14421258)             Kevin Na    7000       2.06   \n20      Sebastian Munoz (14421324)      Sebastian Munoz    6100       1.37   \n\n    Exposure  Actual Exposure  \n0         40                0  \n1         40                0  \n2         50                0  \n3         45                0  \n4         45                0  \n5         45                0  \n6         50                0  \n7         50                0  \n8         50                0  \n9         40                0  \n10        45                0  \n11        40                0  \n12        45                0  \n13        40                0  \n14        50                0  \n15        50                0  \n16        45                0  \n17        40                0  \n18        30                0  \n19        30                0  \n20        30                0  "
          },
          "metadata": {}
        }
      ]
    },
    {
      "metadata": {
        "trusted": true
      },
      "cell_type": "code",
      "source": "sal_used\nplayers_left\nmin_sal, max_sal",
      "execution_count": 34,
      "outputs": [
        {
          "output_type": "execute_result",
          "execution_count": 34,
          "data": {
            "text/plain": "(6000, 9800)"
          },
          "metadata": {}
        }
      ]
    },
    {
      "metadata": {
        "trusted": true
      },
      "cell_type": "code",
      "source": "",
      "execution_count": null,
      "outputs": []
    },
    {
      "metadata": {
        "trusted": true,
        "scrolled": false
      },
      "cell_type": "code",
      "source": "#Now start churning\n#Now set parameters for number of teams and salary limits\nnum_teams = 45\nmin_sal = 49300\nmax_sal = 49900\n\n#initialize df_lineups, which will be written to csv\ndf_lineups = pd.DataFrame(columns=['G1','G2','G3','G4','G5','G6'])\ndf_lineups\n\n#Reset df_teams\ndf_teams['Actual Exposure'] = 0\n\nm = 0 #Completed teams so far\nwhile (m < num_teams):\n    #pick 6 players per probabilties\n    curr_team = []\n    df_now = df_teams.copy()\n    players = df_now['Name + ID'].tolist()\n    probs = df_now['Exposure'].tolist()\n    for i in range(players_left):\n        p = pick_element_per_probs(players,probs)\n        curr_team.append(p)\n        #prit('picked player {}'.format(p))\n        df_now = df_now[df_now['Name + ID']!=p]\n        players = df_now['Name + ID'].tolist()\n        probs = df_now['Exposure'].tolist()\n        \n    #Now curr_team is list of 6 names.  Check if salary matches\n    df_now = df_teams[df_teams['Name + ID'].isin(curr_team)]\n    total_own = df_now.Ownership.sum()\n    #total_own = 0 #use for small field where ownership is bonkers\n    total_sal = df_now.Salary.sum() + sal_used\n    ##print(total_sal)\n    if (total_sal < min_sal or total_sal > max_sal or total_own > 75):\n        #print('Team eliminated {}, total_sal = {}, total_own = {}'.format('team',total_sal,total_own))\n        continue\n        \n    #Put team in order of decreasing salary\n    df_now.sort_values(by='Salary',ascending=False,inplace=True)\n    curr_team = lock_full_names + df_now['Name + ID'].tolist()\n    #print('New Team',curr_team)\n    \n    #Check if team has shown up before in df_lineups\n    df3 = (df_lineups == np.array(curr_team))\n    old_team = df3.transpose().all().any() #True if team is already in df_lineups\n    if old_team:\n        #print('Team already exists')\n        continue\n        \n    #OK, so now we have a new team!  Add it to df_lineups\n    df_lineups.loc[m] = curr_team\n    #Also update 'Actual Exposure' in df_teams\n    new_players = np.where(df_teams['Name + ID'].isin(curr_team),1,0)\n    df_teams['Actual Exposure'] = df_teams['Actual Exposure'] + new_players\n    \n    #Finally increment m\n    m += 1\n    if m%10==0:\n        print('m = {}'.format(m))\n\n    #print('Team {}, sal = {}'.format(m,total_sal))\n    \ndf_teams[['Name + ID','Actual Exposure','Exposure','Salary']]",
      "execution_count": 41,
      "outputs": [
        {
          "output_type": "stream",
          "text": "/home/nbuser/anaconda3_501/lib/python3.6/site-packages/ipykernel/__main__.py:40: SettingWithCopyWarning: \nA value is trying to be set on a copy of a slice from a DataFrame\n\nSee the caveats in the documentation: http://pandas.pydata.org/pandas-docs/stable/indexing.html#indexing-view-versus-copy\n",
          "name": "stderr"
        },
        {
          "output_type": "stream",
          "text": "m = 10\nm = 20\nm = 30\nm = 40\n",
          "name": "stdout"
        },
        {
          "output_type": "execute_result",
          "execution_count": 41,
          "data": {
            "text/html": "<div>\n<style scoped>\n    .dataframe tbody tr th:only-of-type {\n        vertical-align: middle;\n    }\n\n    .dataframe tbody tr th {\n        vertical-align: top;\n    }\n\n    .dataframe thead th {\n        text-align: right;\n    }\n</style>\n<table border=\"1\" class=\"dataframe\">\n  <thead>\n    <tr style=\"text-align: right;\">\n      <th></th>\n      <th>Name + ID</th>\n      <th>Actual Exposure</th>\n      <th>Exposure</th>\n      <th>Salary</th>\n    </tr>\n  </thead>\n  <tbody>\n    <tr>\n      <th>0</th>\n      <td>Patrick Cantlay (14421204)</td>\n      <td>19</td>\n      <td>40</td>\n      <td>9800</td>\n    </tr>\n    <tr>\n      <th>1</th>\n      <td>Adam Scott (14421205)</td>\n      <td>13</td>\n      <td>40</td>\n      <td>9600</td>\n    </tr>\n    <tr>\n      <th>2</th>\n      <td>Xander Schauffele (14421206)</td>\n      <td>20</td>\n      <td>50</td>\n      <td>9400</td>\n    </tr>\n    <tr>\n      <th>3</th>\n      <td>Webb Simpson (14421207)</td>\n      <td>19</td>\n      <td>45</td>\n      <td>9200</td>\n    </tr>\n    <tr>\n      <th>4</th>\n      <td>Bryson DeChambeau (14421208)</td>\n      <td>11</td>\n      <td>45</td>\n      <td>9100</td>\n    </tr>\n    <tr>\n      <th>5</th>\n      <td>Tommy Fleetwood (14421209)</td>\n      <td>13</td>\n      <td>45</td>\n      <td>9000</td>\n    </tr>\n    <tr>\n      <th>6</th>\n      <td>Hideki Matsuyama (14421211)</td>\n      <td>14</td>\n      <td>50</td>\n      <td>8800</td>\n    </tr>\n    <tr>\n      <th>7</th>\n      <td>Sungjae Im (14421213)</td>\n      <td>14</td>\n      <td>50</td>\n      <td>8600</td>\n    </tr>\n    <tr>\n      <th>8</th>\n      <td>Patrick Reed (14421214)</td>\n      <td>7</td>\n      <td>50</td>\n      <td>8500</td>\n    </tr>\n    <tr>\n      <th>9</th>\n      <td>Gary Woodland (14421216)</td>\n      <td>15</td>\n      <td>40</td>\n      <td>8300</td>\n    </tr>\n    <tr>\n      <th>10</th>\n      <td>Henrik Stenson (14421221)</td>\n      <td>17</td>\n      <td>45</td>\n      <td>7900</td>\n    </tr>\n    <tr>\n      <th>11</th>\n      <td>Viktor Hovland (14421226)</td>\n      <td>13</td>\n      <td>40</td>\n      <td>7700</td>\n    </tr>\n    <tr>\n      <th>12</th>\n      <td>Scottie Scheffler (14421231)</td>\n      <td>14</td>\n      <td>45</td>\n      <td>7500</td>\n    </tr>\n    <tr>\n      <th>13</th>\n      <td>Tyrrell Hatton (14421232)</td>\n      <td>9</td>\n      <td>40</td>\n      <td>7400</td>\n    </tr>\n    <tr>\n      <th>14</th>\n      <td>Matthew Fitzpatrick (14421235)</td>\n      <td>13</td>\n      <td>50</td>\n      <td>7300</td>\n    </tr>\n    <tr>\n      <th>15</th>\n      <td>Ryan Moore (14421246)</td>\n      <td>14</td>\n      <td>50</td>\n      <td>7200</td>\n    </tr>\n    <tr>\n      <th>16</th>\n      <td>Brandt Snedeker (14421242)</td>\n      <td>15</td>\n      <td>45</td>\n      <td>7200</td>\n    </tr>\n    <tr>\n      <th>17</th>\n      <td>Chez Reavie (14421252)</td>\n      <td>8</td>\n      <td>40</td>\n      <td>7100</td>\n    </tr>\n    <tr>\n      <th>18</th>\n      <td>Adam Hadwin (14421256)</td>\n      <td>5</td>\n      <td>30</td>\n      <td>7000</td>\n    </tr>\n    <tr>\n      <th>19</th>\n      <td>Kevin Na (14421258)</td>\n      <td>9</td>\n      <td>30</td>\n      <td>7000</td>\n    </tr>\n    <tr>\n      <th>20</th>\n      <td>Sebastian Munoz (14421324)</td>\n      <td>8</td>\n      <td>30</td>\n      <td>6100</td>\n    </tr>\n  </tbody>\n</table>\n</div>",
            "text/plain": "                         Name + ID  Actual Exposure  Exposure  Salary\n0       Patrick Cantlay (14421204)               19        40    9800\n1            Adam Scott (14421205)               13        40    9600\n2     Xander Schauffele (14421206)               20        50    9400\n3          Webb Simpson (14421207)               19        45    9200\n4     Bryson DeChambeau (14421208)               11        45    9100\n5       Tommy Fleetwood (14421209)               13        45    9000\n6      Hideki Matsuyama (14421211)               14        50    8800\n7            Sungjae Im (14421213)               14        50    8600\n8          Patrick Reed (14421214)                7        50    8500\n9         Gary Woodland (14421216)               15        40    8300\n10       Henrik Stenson (14421221)               17        45    7900\n11       Viktor Hovland (14421226)               13        40    7700\n12    Scottie Scheffler (14421231)               14        45    7500\n13       Tyrrell Hatton (14421232)                9        40    7400\n14  Matthew Fitzpatrick (14421235)               13        50    7300\n15           Ryan Moore (14421246)               14        50    7200\n16      Brandt Snedeker (14421242)               15        45    7200\n17          Chez Reavie (14421252)                8        40    7100\n18          Adam Hadwin (14421256)                5        30    7000\n19             Kevin Na (14421258)                9        30    7000\n20      Sebastian Munoz (14421324)                8        30    6100"
          },
          "metadata": {}
        }
      ]
    },
    {
      "metadata": {
        "trusted": true
      },
      "cell_type": "code",
      "source": "for c in df_lineups.columns:\n    df_lineups.rename(columns={c:'G'},inplace=True)",
      "execution_count": 42,
      "outputs": []
    },
    {
      "metadata": {
        "trusted": true
      },
      "cell_type": "code",
      "source": "#If you're good with actual exposure, then write it!\ndf_lineups.to_csv('Lineups/DK Entires.csv',index=False)",
      "execution_count": 43,
      "outputs": []
    },
    {
      "metadata": {
        "trusted": true
      },
      "cell_type": "code",
      "source": "df_lineups.head()",
      "execution_count": 68,
      "outputs": [
        {
          "output_type": "execute_result",
          "execution_count": 68,
          "data": {
            "text/html": "<div>\n<style scoped>\n    .dataframe tbody tr th:only-of-type {\n        vertical-align: middle;\n    }\n\n    .dataframe tbody tr th {\n        vertical-align: top;\n    }\n\n    .dataframe thead th {\n        text-align: right;\n    }\n</style>\n<table border=\"1\" class=\"dataframe\">\n  <thead>\n    <tr style=\"text-align: right;\">\n      <th></th>\n      <th>G</th>\n      <th>G</th>\n      <th>G</th>\n      <th>G</th>\n      <th>G</th>\n      <th>G</th>\n    </tr>\n  </thead>\n  <tbody>\n    <tr>\n      <th>0</th>\n      <td>Rory McIlroy (14421198)</td>\n      <td>Bryson DeChambeau (14421208)</td>\n      <td>Collin Morikawa (14421222)</td>\n      <td>Scottie Scheffler (14421231)</td>\n      <td>Jim Furyk (14421270)</td>\n      <td>Joel Dahmen (14421285)</td>\n    </tr>\n    <tr>\n      <th>1</th>\n      <td>Rory McIlroy (14421198)</td>\n      <td>Sungjae Im (14421213)</td>\n      <td>Patrick Reed (14421214)</td>\n      <td>Tyrrell Hatton (14421232)</td>\n      <td>Cameron Champ (14421264)</td>\n      <td>Brian Harman (14421299)</td>\n    </tr>\n    <tr>\n      <th>2</th>\n      <td>Rory McIlroy (14421198)</td>\n      <td>Tommy Fleetwood (14421209)</td>\n      <td>Patrick Reed (14421214)</td>\n      <td>Tyrrell Hatton (14421232)</td>\n      <td>Cameron Champ (14421264)</td>\n      <td>Bud Cauley (14421314)</td>\n    </tr>\n    <tr>\n      <th>3</th>\n      <td>Rory McIlroy (14421198)</td>\n      <td>Sungjae Im (14421213)</td>\n      <td>Collin Morikawa (14421222)</td>\n      <td>Scottie Scheffler (14421231)</td>\n      <td>Billy Horschel (14421230)</td>\n      <td>Jim Furyk (14421270)</td>\n    </tr>\n    <tr>\n      <th>4</th>\n      <td>Rory McIlroy (14421198)</td>\n      <td>Bryson DeChambeau (14421208)</td>\n      <td>Tommy Fleetwood (14421209)</td>\n      <td>Cameron Champ (14421264)</td>\n      <td>Corey Conners (14421273)</td>\n      <td>Bud Cauley (14421314)</td>\n    </tr>\n  </tbody>\n</table>\n</div>",
            "text/plain": "                         G                             G  \\\n0  Rory McIlroy (14421198)  Bryson DeChambeau (14421208)   \n1  Rory McIlroy (14421198)         Sungjae Im (14421213)   \n2  Rory McIlroy (14421198)    Tommy Fleetwood (14421209)   \n3  Rory McIlroy (14421198)         Sungjae Im (14421213)   \n4  Rory McIlroy (14421198)  Bryson DeChambeau (14421208)   \n\n                            G                             G  \\\n0  Collin Morikawa (14421222)  Scottie Scheffler (14421231)   \n1     Patrick Reed (14421214)     Tyrrell Hatton (14421232)   \n2     Patrick Reed (14421214)     Tyrrell Hatton (14421232)   \n3  Collin Morikawa (14421222)  Scottie Scheffler (14421231)   \n4  Tommy Fleetwood (14421209)      Cameron Champ (14421264)   \n\n                           G                        G  \n0       Jim Furyk (14421270)   Joel Dahmen (14421285)  \n1   Cameron Champ (14421264)  Brian Harman (14421299)  \n2   Cameron Champ (14421264)    Bud Cauley (14421314)  \n3  Billy Horschel (14421230)     Jim Furyk (14421270)  \n4   Corey Conners (14421273)    Bud Cauley (14421314)  "
          },
          "metadata": {}
        }
      ]
    },
    {
      "metadata": {
        "trusted": true
      },
      "cell_type": "markdown",
      "source": "# FD"
    },
    {
      "metadata": {
        "trusted": true
      },
      "cell_type": "code",
      "source": "df2 = pd.read_csv('Data/DailyRotoPGAProjections_Shriners Hospital for Children Open FD.csv')\n#del df['Salary']\ndf2.head()",
      "execution_count": 69,
      "outputs": [
        {
          "output_type": "execute_result",
          "execution_count": 69,
          "data": {
            "text/html": "<div>\n<style scoped>\n    .dataframe tbody tr th:only-of-type {\n        vertical-align: middle;\n    }\n\n    .dataframe tbody tr th {\n        vertical-align: top;\n    }\n\n    .dataframe thead th {\n        text-align: right;\n    }\n</style>\n<table border=\"1\" class=\"dataframe\">\n  <thead>\n    <tr style=\"text-align: right;\">\n      <th></th>\n      <th>Player</th>\n      <th>SlatePlayerID</th>\n      <th>Ownership</th>\n      <th>Sample</th>\n      <th>%:</th>\n      <th>Cut</th>\n      <th>Top 20</th>\n      <th>Top 5</th>\n      <th>Win</th>\n      <th>DK:</th>\n      <th>...</th>\n      <th>Scoring Pts</th>\n      <th>Points</th>\n      <th>Value</th>\n      <th>FD:</th>\n      <th>SD.1</th>\n      <th>Salary.1</th>\n      <th>Finish Pts.1</th>\n      <th>Scoring Pts.1</th>\n      <th>Points.1</th>\n      <th>Value.1</th>\n    </tr>\n  </thead>\n  <tbody>\n    <tr>\n      <th>0</th>\n      <td>Brooks Koepka</td>\n      <td>38974-78367</td>\n      <td>16.54</td>\n      <td>150</td>\n      <td>NaN</td>\n      <td>0.810825</td>\n      <td>0.511350</td>\n      <td>0.214650</td>\n      <td>0.063875</td>\n      <td>NaN</td>\n      <td>...</td>\n      <td>83.711385</td>\n      <td>91.11</td>\n      <td>11.44</td>\n      <td>NaN</td>\n      <td>37.787783</td>\n      <td>12200.0</td>\n      <td>5.305312</td>\n      <td>88.744152</td>\n      <td>94.05</td>\n      <td>12.77</td>\n    </tr>\n    <tr>\n      <th>1</th>\n      <td>Patrick Cantlay</td>\n      <td>38974-79435</td>\n      <td>22.64</td>\n      <td>150</td>\n      <td>NaN</td>\n      <td>0.823925</td>\n      <td>0.522425</td>\n      <td>0.213650</td>\n      <td>0.060775</td>\n      <td>NaN</td>\n      <td>...</td>\n      <td>83.614958</td>\n      <td>91.05</td>\n      <td>12.53</td>\n      <td>NaN</td>\n      <td>36.715761</td>\n      <td>11800.0</td>\n      <td>5.375305</td>\n      <td>89.097241</td>\n      <td>94.47</td>\n      <td>14.19</td>\n    </tr>\n    <tr>\n      <th>2</th>\n      <td>Adam Scott</td>\n      <td>38974-78780</td>\n      <td>18.98</td>\n      <td>150</td>\n      <td>NaN</td>\n      <td>0.797225</td>\n      <td>0.471825</td>\n      <td>0.185025</td>\n      <td>0.050925</td>\n      <td>NaN</td>\n      <td>...</td>\n      <td>81.334255</td>\n      <td>88.07</td>\n      <td>11.53</td>\n      <td>NaN</td>\n      <td>37.297350</td>\n      <td>11400.0</td>\n      <td>4.880586</td>\n      <td>86.375940</td>\n      <td>91.26</td>\n      <td>13.03</td>\n    </tr>\n    <tr>\n      <th>3</th>\n      <td>Webb Simpson</td>\n      <td>38974-78804</td>\n      <td>13.54</td>\n      <td>150</td>\n      <td>NaN</td>\n      <td>0.786125</td>\n      <td>0.445225</td>\n      <td>0.165175</td>\n      <td>0.043200</td>\n      <td>NaN</td>\n      <td>...</td>\n      <td>79.074530</td>\n      <td>85.08</td>\n      <td>9.68</td>\n      <td>NaN</td>\n      <td>37.045458</td>\n      <td>11300.0</td>\n      <td>4.364660</td>\n      <td>83.958062</td>\n      <td>88.32</td>\n      <td>11.22</td>\n    </tr>\n    <tr>\n      <th>4</th>\n      <td>Hideki Matsuyama</td>\n      <td>38974-78508</td>\n      <td>17.87</td>\n      <td>150</td>\n      <td>NaN</td>\n      <td>0.765225</td>\n      <td>0.421750</td>\n      <td>0.153825</td>\n      <td>0.040150</td>\n      <td>NaN</td>\n      <td>...</td>\n      <td>78.440117</td>\n      <td>84.09</td>\n      <td>9.54</td>\n      <td>NaN</td>\n      <td>37.204530</td>\n      <td>11100.0</td>\n      <td>4.101694</td>\n      <td>83.068275</td>\n      <td>87.17</td>\n      <td>10.97</td>\n    </tr>\n  </tbody>\n</table>\n<p>5 rows × 23 columns</p>\n</div>",
            "text/plain": "             Player SlatePlayerID  Ownership  Sample  %:       Cut    Top 20  \\\n0     Brooks Koepka   38974-78367      16.54     150 NaN  0.810825  0.511350   \n1   Patrick Cantlay   38974-79435      22.64     150 NaN  0.823925  0.522425   \n2        Adam Scott   38974-78780      18.98     150 NaN  0.797225  0.471825   \n3      Webb Simpson   38974-78804      13.54     150 NaN  0.786125  0.445225   \n4  Hideki Matsuyama   38974-78508      17.87     150 NaN  0.765225  0.421750   \n\n      Top 5       Win  DK:   ...     Scoring Pts  Points  Value  FD:  \\\n0  0.214650  0.063875  NaN   ...       83.711385   91.11  11.44  NaN   \n1  0.213650  0.060775  NaN   ...       83.614958   91.05  12.53  NaN   \n2  0.185025  0.050925  NaN   ...       81.334255   88.07  11.53  NaN   \n3  0.165175  0.043200  NaN   ...       79.074530   85.08   9.68  NaN   \n4  0.153825  0.040150  NaN   ...       78.440117   84.09   9.54  NaN   \n\n        SD.1  Salary.1  Finish Pts.1  Scoring Pts.1  Points.1  Value.1  \n0  37.787783   12200.0      5.305312      88.744152     94.05    12.77  \n1  36.715761   11800.0      5.375305      89.097241     94.47    14.19  \n2  37.297350   11400.0      4.880586      86.375940     91.26    13.03  \n3  37.045458   11300.0      4.364660      83.958062     88.32    11.22  \n4  37.204530   11100.0      4.101694      83.068275     87.17    10.97  \n\n[5 rows x 23 columns]"
          },
          "metadata": {}
        }
      ]
    },
    {
      "metadata": {
        "trusted": true
      },
      "cell_type": "code",
      "source": "",
      "execution_count": null,
      "outputs": []
    },
    {
      "metadata": {
        "trusted": true
      },
      "cell_type": "code",
      "source": "df2.columns",
      "execution_count": 70,
      "outputs": [
        {
          "output_type": "execute_result",
          "execution_count": 70,
          "data": {
            "text/plain": "Index(['Player', 'SlatePlayerID', 'Ownership', 'Sample', '%:', 'Cut', 'Top 20',\n       'Top 5', 'Win', 'DK:', 'SD', 'Salary', 'Finish Pts', 'Scoring Pts',\n       'Points', 'Value', 'FD:', 'SD.1', 'Salary.1', 'Finish Pts.1',\n       'Scoring Pts.1', 'Points.1', 'Value.1'],\n      dtype='object')"
          },
          "metadata": {}
        }
      ]
    },
    {
      "metadata": {
        "trusted": true
      },
      "cell_type": "code",
      "source": "#DF salary is in Salary.1 column\ndel df2['Salary']\ndf2.rename(columns={'Salary.1':'Salary'},inplace=True)\ndf2.sort_values(by='Salary',ascending=False).head()",
      "execution_count": 71,
      "outputs": [
        {
          "output_type": "execute_result",
          "execution_count": 71,
          "data": {
            "text/html": "<div>\n<style scoped>\n    .dataframe tbody tr th:only-of-type {\n        vertical-align: middle;\n    }\n\n    .dataframe tbody tr th {\n        vertical-align: top;\n    }\n\n    .dataframe thead th {\n        text-align: right;\n    }\n</style>\n<table border=\"1\" class=\"dataframe\">\n  <thead>\n    <tr style=\"text-align: right;\">\n      <th></th>\n      <th>Player</th>\n      <th>SlatePlayerID</th>\n      <th>Ownership</th>\n      <th>Sample</th>\n      <th>%:</th>\n      <th>Cut</th>\n      <th>Top 20</th>\n      <th>Top 5</th>\n      <th>Win</th>\n      <th>DK:</th>\n      <th>...</th>\n      <th>Scoring Pts</th>\n      <th>Points</th>\n      <th>Value</th>\n      <th>FD:</th>\n      <th>SD.1</th>\n      <th>Salary</th>\n      <th>Finish Pts.1</th>\n      <th>Scoring Pts.1</th>\n      <th>Points.1</th>\n      <th>Value.1</th>\n    </tr>\n  </thead>\n  <tbody>\n    <tr>\n      <th>0</th>\n      <td>Brooks Koepka</td>\n      <td>38974-78367</td>\n      <td>16.54</td>\n      <td>150</td>\n      <td>NaN</td>\n      <td>0.810825</td>\n      <td>0.511350</td>\n      <td>0.214650</td>\n      <td>0.063875</td>\n      <td>NaN</td>\n      <td>...</td>\n      <td>83.711385</td>\n      <td>91.11</td>\n      <td>11.44</td>\n      <td>NaN</td>\n      <td>37.787783</td>\n      <td>12200.0</td>\n      <td>5.305312</td>\n      <td>88.744152</td>\n      <td>94.05</td>\n      <td>12.77</td>\n    </tr>\n    <tr>\n      <th>1</th>\n      <td>Patrick Cantlay</td>\n      <td>38974-79435</td>\n      <td>22.64</td>\n      <td>150</td>\n      <td>NaN</td>\n      <td>0.823925</td>\n      <td>0.522425</td>\n      <td>0.213650</td>\n      <td>0.060775</td>\n      <td>NaN</td>\n      <td>...</td>\n      <td>83.614958</td>\n      <td>91.05</td>\n      <td>12.53</td>\n      <td>NaN</td>\n      <td>36.715761</td>\n      <td>11800.0</td>\n      <td>5.375305</td>\n      <td>89.097241</td>\n      <td>94.47</td>\n      <td>14.19</td>\n    </tr>\n    <tr>\n      <th>8</th>\n      <td>Bryson DeChambeau</td>\n      <td>38974-78005</td>\n      <td>12.43</td>\n      <td>150</td>\n      <td>NaN</td>\n      <td>0.722925</td>\n      <td>0.337950</td>\n      <td>0.108250</td>\n      <td>0.024250</td>\n      <td>NaN</td>\n      <td>...</td>\n      <td>74.359083</td>\n      <td>79.14</td>\n      <td>4.61</td>\n      <td>NaN</td>\n      <td>37.008679</td>\n      <td>11600.0</td>\n      <td>3.447313</td>\n      <td>78.506735</td>\n      <td>81.95</td>\n      <td>5.85</td>\n    </tr>\n    <tr>\n      <th>2</th>\n      <td>Adam Scott</td>\n      <td>38974-78780</td>\n      <td>18.98</td>\n      <td>150</td>\n      <td>NaN</td>\n      <td>0.797225</td>\n      <td>0.471825</td>\n      <td>0.185025</td>\n      <td>0.050925</td>\n      <td>NaN</td>\n      <td>...</td>\n      <td>81.334255</td>\n      <td>88.07</td>\n      <td>11.53</td>\n      <td>NaN</td>\n      <td>37.297350</td>\n      <td>11400.0</td>\n      <td>4.880586</td>\n      <td>86.375940</td>\n      <td>91.26</td>\n      <td>13.03</td>\n    </tr>\n    <tr>\n      <th>3</th>\n      <td>Webb Simpson</td>\n      <td>38974-78804</td>\n      <td>13.54</td>\n      <td>150</td>\n      <td>NaN</td>\n      <td>0.786125</td>\n      <td>0.445225</td>\n      <td>0.165175</td>\n      <td>0.043200</td>\n      <td>NaN</td>\n      <td>...</td>\n      <td>79.074530</td>\n      <td>85.08</td>\n      <td>9.68</td>\n      <td>NaN</td>\n      <td>37.045458</td>\n      <td>11300.0</td>\n      <td>4.364660</td>\n      <td>83.958062</td>\n      <td>88.32</td>\n      <td>11.22</td>\n    </tr>\n  </tbody>\n</table>\n<p>5 rows × 22 columns</p>\n</div>",
            "text/plain": "              Player SlatePlayerID  Ownership  Sample  %:       Cut    Top 20  \\\n0      Brooks Koepka   38974-78367      16.54     150 NaN  0.810825  0.511350   \n1    Patrick Cantlay   38974-79435      22.64     150 NaN  0.823925  0.522425   \n8  Bryson DeChambeau   38974-78005      12.43     150 NaN  0.722925  0.337950   \n2         Adam Scott   38974-78780      18.98     150 NaN  0.797225  0.471825   \n3       Webb Simpson   38974-78804      13.54     150 NaN  0.786125  0.445225   \n\n      Top 5       Win  DK:   ...     Scoring Pts  Points  Value  FD:  \\\n0  0.214650  0.063875  NaN   ...       83.711385   91.11  11.44  NaN   \n1  0.213650  0.060775  NaN   ...       83.614958   91.05  12.53  NaN   \n8  0.108250  0.024250  NaN   ...       74.359083   79.14   4.61  NaN   \n2  0.185025  0.050925  NaN   ...       81.334255   88.07  11.53  NaN   \n3  0.165175  0.043200  NaN   ...       79.074530   85.08   9.68  NaN   \n\n        SD.1   Salary  Finish Pts.1  Scoring Pts.1  Points.1  Value.1  \n0  37.787783  12200.0      5.305312      88.744152     94.05    12.77  \n1  36.715761  11800.0      5.375305      89.097241     94.47    14.19  \n8  37.008679  11600.0      3.447313      78.506735     81.95     5.85  \n2  37.297350  11400.0      4.880586      86.375940     91.26    13.03  \n3  37.045458  11300.0      4.364660      83.958062     88.32    11.22  \n\n[5 rows x 22 columns]"
          },
          "metadata": {}
        }
      ]
    },
    {
      "metadata": {
        "trusted": true
      },
      "cell_type": "code",
      "source": "#Add field with the player:SlatePlayerID that will go into lineup csvs\ndf2['Name + ID'] =  df2.SlatePlayerID  + \":\" + df2.Player",
      "execution_count": 72,
      "outputs": []
    },
    {
      "metadata": {
        "trusted": true
      },
      "cell_type": "code",
      "source": "#specify team settings\n\nlock = ['Bryson DeChambeau','Viktor Hovland']\nlock = ['Marc Leishman','Bubba Watson']\nlock = ['Patrick Cantlay','Dustin Johnson']\n#lock = []\n\nto_remove = ['Charley Hoffman','Sam Ryder','Zach Johnson',\n            'Jason Day','Sergio Garcia','Tiger Woods','Rafa Cabrera Bello',\n            'Scott Piercy']\nto_remove = ['Kevin Chappell','Matt Jones']\n\nmax_sal = 910200",
      "execution_count": 73,
      "outputs": []
    },
    {
      "metadata": {
        "trusted": true
      },
      "cell_type": "code",
      "source": "#Now pick a penalty, and find 1st, 2nd, 3rd, ... opt teams\n#df = df_all.copy()\ndf_now = df2.copy()\n\nlock_full_names = []\nfor i, p in enumerate(lock):\n    lock_full_names.append(df_now[df_now.Player==p]['Name + ID'].iloc[0])\nsal_used = df_now[df_now.Player.isin(lock)].Salary.sum()\nsal_left = 60000-sal_used\nplayers_left = 6-len(lock)\nprint(lock_full_names)\n\n#Filter down remaining players by sal\ndf_now = df_now[(df_now.Salary<=max_sal)]\ndf_now = df_now[~df_now.Player.isin(lock)]\ndf_now = df_now[~df_now.Player.isin(to_remove)]\n\npenalty = 0.3\nopt_teams = []\nfor i in np.arange(5): #number of teams\n    n = len(df_now)\n    x = cp.Variable(n,boolean=True)\n    s = df_now.Salary.values\n    p = df_now.Points.values\n    c = df_now.Cut.values\n    T20 = df_now['Top 20'].values\n    own = df_now.Ownership.values\n    cap = sal_left\n    constraints = [cp.sum(x) == players_left,\n                 x*s <= cap]\n\n    # Form objective.\n    obj = cp.Maximize(x*(p-penalty*own))\n\n    # Form and solve problem.\n    prob = cp.Problem(obj, constraints)\n    prob.solve()  # Returns the optimal value\n    opt_team = df_now['Player'][x.value>.5].tolist()\n    print('Team {} (obj = {:.2f}): '.format(i+1,prob.value),opt_team)\n    opt_teams.append(opt_team)\n    #Remove team and go again\n    df_now = df_now[~ df_now.Player.isin(opt_team)]\n",
      "execution_count": 74,
      "outputs": [
        {
          "output_type": "error",
          "ename": "IndexError",
          "evalue": "single positional indexer is out-of-bounds",
          "traceback": [
            "\u001b[0;31m---------------------------------------------------------------------------\u001b[0m",
            "\u001b[0;31mIndexError\u001b[0m                                Traceback (most recent call last)",
            "\u001b[0;32m<ipython-input-74-4f96dac2a0a3>\u001b[0m in \u001b[0;36m<module>\u001b[0;34m\u001b[0m\n\u001b[1;32m      5\u001b[0m \u001b[0mlock_full_names\u001b[0m \u001b[0;34m=\u001b[0m \u001b[0;34m[\u001b[0m\u001b[0;34m]\u001b[0m\u001b[0;34m\u001b[0m\u001b[0m\n\u001b[1;32m      6\u001b[0m \u001b[0;32mfor\u001b[0m \u001b[0mi\u001b[0m\u001b[0;34m,\u001b[0m \u001b[0mp\u001b[0m \u001b[0;32min\u001b[0m \u001b[0menumerate\u001b[0m\u001b[0;34m(\u001b[0m\u001b[0mlock\u001b[0m\u001b[0;34m)\u001b[0m\u001b[0;34m:\u001b[0m\u001b[0;34m\u001b[0m\u001b[0m\n\u001b[0;32m----> 7\u001b[0;31m     \u001b[0mlock_full_names\u001b[0m\u001b[0;34m.\u001b[0m\u001b[0mappend\u001b[0m\u001b[0;34m(\u001b[0m\u001b[0mdf_now\u001b[0m\u001b[0;34m[\u001b[0m\u001b[0mdf_now\u001b[0m\u001b[0;34m.\u001b[0m\u001b[0mPlayer\u001b[0m\u001b[0;34m==\u001b[0m\u001b[0mp\u001b[0m\u001b[0;34m]\u001b[0m\u001b[0;34m[\u001b[0m\u001b[0;34m'Name + ID'\u001b[0m\u001b[0;34m]\u001b[0m\u001b[0;34m.\u001b[0m\u001b[0miloc\u001b[0m\u001b[0;34m[\u001b[0m\u001b[0;36m0\u001b[0m\u001b[0;34m]\u001b[0m\u001b[0;34m)\u001b[0m\u001b[0;34m\u001b[0m\u001b[0m\n\u001b[0m\u001b[1;32m      8\u001b[0m \u001b[0msal_used\u001b[0m \u001b[0;34m=\u001b[0m \u001b[0mdf_now\u001b[0m\u001b[0;34m[\u001b[0m\u001b[0mdf_now\u001b[0m\u001b[0;34m.\u001b[0m\u001b[0mPlayer\u001b[0m\u001b[0;34m.\u001b[0m\u001b[0misin\u001b[0m\u001b[0;34m(\u001b[0m\u001b[0mlock\u001b[0m\u001b[0;34m)\u001b[0m\u001b[0;34m]\u001b[0m\u001b[0;34m.\u001b[0m\u001b[0mSalary\u001b[0m\u001b[0;34m.\u001b[0m\u001b[0msum\u001b[0m\u001b[0;34m(\u001b[0m\u001b[0;34m)\u001b[0m\u001b[0;34m\u001b[0m\u001b[0m\n\u001b[1;32m      9\u001b[0m \u001b[0msal_left\u001b[0m \u001b[0;34m=\u001b[0m \u001b[0;36m60000\u001b[0m\u001b[0;34m-\u001b[0m\u001b[0msal_used\u001b[0m\u001b[0;34m\u001b[0m\u001b[0m\n",
            "\u001b[0;32m~/anaconda3_501/lib/python3.6/site-packages/pandas/core/indexing.py\u001b[0m in \u001b[0;36m__getitem__\u001b[0;34m(self, key)\u001b[0m\n\u001b[1;32m   1476\u001b[0m \u001b[0;34m\u001b[0m\u001b[0m\n\u001b[1;32m   1477\u001b[0m             \u001b[0mmaybe_callable\u001b[0m \u001b[0;34m=\u001b[0m \u001b[0mcom\u001b[0m\u001b[0;34m.\u001b[0m\u001b[0m_apply_if_callable\u001b[0m\u001b[0;34m(\u001b[0m\u001b[0mkey\u001b[0m\u001b[0;34m,\u001b[0m \u001b[0mself\u001b[0m\u001b[0;34m.\u001b[0m\u001b[0mobj\u001b[0m\u001b[0;34m)\u001b[0m\u001b[0;34m\u001b[0m\u001b[0m\n\u001b[0;32m-> 1478\u001b[0;31m             \u001b[0;32mreturn\u001b[0m \u001b[0mself\u001b[0m\u001b[0;34m.\u001b[0m\u001b[0m_getitem_axis\u001b[0m\u001b[0;34m(\u001b[0m\u001b[0mmaybe_callable\u001b[0m\u001b[0;34m,\u001b[0m \u001b[0maxis\u001b[0m\u001b[0;34m=\u001b[0m\u001b[0maxis\u001b[0m\u001b[0;34m)\u001b[0m\u001b[0;34m\u001b[0m\u001b[0m\n\u001b[0m\u001b[1;32m   1479\u001b[0m \u001b[0;34m\u001b[0m\u001b[0m\n\u001b[1;32m   1480\u001b[0m     \u001b[0;32mdef\u001b[0m \u001b[0m_is_scalar_access\u001b[0m\u001b[0;34m(\u001b[0m\u001b[0mself\u001b[0m\u001b[0;34m,\u001b[0m \u001b[0mkey\u001b[0m\u001b[0;34m)\u001b[0m\u001b[0;34m:\u001b[0m\u001b[0;34m\u001b[0m\u001b[0m\n",
            "\u001b[0;32m~/anaconda3_501/lib/python3.6/site-packages/pandas/core/indexing.py\u001b[0m in \u001b[0;36m_getitem_axis\u001b[0;34m(self, key, axis)\u001b[0m\n\u001b[1;32m   2100\u001b[0m \u001b[0;34m\u001b[0m\u001b[0m\n\u001b[1;32m   2101\u001b[0m             \u001b[0;31m# validate the location\u001b[0m\u001b[0;34m\u001b[0m\u001b[0;34m\u001b[0m\u001b[0m\n\u001b[0;32m-> 2102\u001b[0;31m             \u001b[0mself\u001b[0m\u001b[0;34m.\u001b[0m\u001b[0m_validate_integer\u001b[0m\u001b[0;34m(\u001b[0m\u001b[0mkey\u001b[0m\u001b[0;34m,\u001b[0m \u001b[0maxis\u001b[0m\u001b[0;34m)\u001b[0m\u001b[0;34m\u001b[0m\u001b[0m\n\u001b[0m\u001b[1;32m   2103\u001b[0m \u001b[0;34m\u001b[0m\u001b[0m\n\u001b[1;32m   2104\u001b[0m             \u001b[0;32mreturn\u001b[0m \u001b[0mself\u001b[0m\u001b[0;34m.\u001b[0m\u001b[0m_get_loc\u001b[0m\u001b[0;34m(\u001b[0m\u001b[0mkey\u001b[0m\u001b[0;34m,\u001b[0m \u001b[0maxis\u001b[0m\u001b[0;34m=\u001b[0m\u001b[0maxis\u001b[0m\u001b[0;34m)\u001b[0m\u001b[0;34m\u001b[0m\u001b[0m\n",
            "\u001b[0;32m~/anaconda3_501/lib/python3.6/site-packages/pandas/core/indexing.py\u001b[0m in \u001b[0;36m_validate_integer\u001b[0;34m(self, key, axis)\u001b[0m\n\u001b[1;32m   2007\u001b[0m         \u001b[0ml\u001b[0m \u001b[0;34m=\u001b[0m \u001b[0mlen\u001b[0m\u001b[0;34m(\u001b[0m\u001b[0max\u001b[0m\u001b[0;34m)\u001b[0m\u001b[0;34m\u001b[0m\u001b[0m\n\u001b[1;32m   2008\u001b[0m         \u001b[0;32mif\u001b[0m \u001b[0mkey\u001b[0m \u001b[0;34m>=\u001b[0m \u001b[0ml\u001b[0m \u001b[0;32mor\u001b[0m \u001b[0mkey\u001b[0m \u001b[0;34m<\u001b[0m \u001b[0;34m-\u001b[0m\u001b[0ml\u001b[0m\u001b[0;34m:\u001b[0m\u001b[0;34m\u001b[0m\u001b[0m\n\u001b[0;32m-> 2009\u001b[0;31m             \u001b[0;32mraise\u001b[0m \u001b[0mIndexError\u001b[0m\u001b[0;34m(\u001b[0m\u001b[0;34m\"single positional indexer is out-of-bounds\"\u001b[0m\u001b[0;34m)\u001b[0m\u001b[0;34m\u001b[0m\u001b[0m\n\u001b[0m\u001b[1;32m   2010\u001b[0m \u001b[0;34m\u001b[0m\u001b[0m\n\u001b[1;32m   2011\u001b[0m     \u001b[0;32mdef\u001b[0m \u001b[0m_getitem_tuple\u001b[0m\u001b[0;34m(\u001b[0m\u001b[0mself\u001b[0m\u001b[0;34m,\u001b[0m \u001b[0mtup\u001b[0m\u001b[0;34m)\u001b[0m\u001b[0;34m:\u001b[0m\u001b[0;34m\u001b[0m\u001b[0m\n",
            "\u001b[0;31mIndexError\u001b[0m: single positional indexer is out-of-bounds"
          ]
        }
      ]
    },
    {
      "metadata": {
        "trusted": true
      },
      "cell_type": "code",
      "source": "#Find opt teams with max own cap\n\ndf_now = df2.copy()\n\nlock_full_names = []\nfor i, p in enumerate(lock):\n    lock_full_names.append(df_now[df_now.Player==p]['SlatePlayerID'].iloc[0]+\":\"+p)\nsal_used = df_now[df_now.Player.isin(lock)].Salary.sum()\nown_used = df_now[df_now.Player.isin(lock)].Ownership.sum()\nsal_left = 60000-sal_used\nplayers_left = 6-len(lock)\nprint(lock_full_names)\n\n#Filter down remaining players by sal\ndf_now = df_now[(df_now.Salary<=max_sal)]\ndf_now = df_now[~df_now.Player.isin(lock)]\ndf_now = df_now[~df_now.Player.isin(to_remove)]\n\n\nown_cap = 100 - own_used\n#print(own_cap)\nopt_teams_cap = []\nfor i in np.arange(11): #number of teams\n    n = len(df_now)\n    x = cp.Variable(n,boolean=True)\n    s = df_now.Salary.values\n    p = df_now.Points.values\n    c = df_now.Cut.values\n    T20 = df_now['Top 20'].values\n    own = df_now.Ownership.values\n    cap = sal_left\n    constraints = [cp.sum(x) == players_left,\n                 x*s <= cap,\n                  x*own <= own_cap]\n\n    # Form objective.\n    obj = cp.Maximize(x*(p))\n\n    # Form and solve problem.\n    prob = cp.Problem(obj, constraints)\n    prob.solve()  # Returns the optimal value\n    opt_team = df_now['Player'][x.value>.5].tolist()\n    print('Team {} (obj = {:.2f}): '.format(i+1,prob.value),opt_team)\n    opt_teams_cap.append(opt_team)\n    #Remove team and go again\n    df_now = df_now[~ df_now.Player.isin(opt_team)]",
      "execution_count": null,
      "outputs": []
    },
    {
      "metadata": {
        "trusted": true
      },
      "cell_type": "code",
      "source": "### Assign exposures for top j teams\nexposures = [50,45]\nif len(exposures)<len(opt_teams):\n    exposures = exposures + [0]*(len(opt_teams)-len(exposures))\nexposures",
      "execution_count": null,
      "outputs": []
    },
    {
      "metadata": {
        "trusted": true
      },
      "cell_type": "code",
      "source": "#Create df to hold player pool\ndf_teams = df2[['Name + ID','Player','Salary','Ownership']]\ndf_teams.sort_values(by='Salary',ascending=False,inplace=True)\ndf_teams['Exposure'] = 0\ndf_teams['Actual Exposure'] = 0\ndf_teams.head()",
      "execution_count": null,
      "outputs": []
    },
    {
      "metadata": {
        "trusted": true
      },
      "cell_type": "code",
      "source": "#Add in exposures for players in player pool\nfor i, team in enumerate(opt_teams):\n    df_teams.Exposure = np.where(df_teams.Player.isin(team),exposures[i],df_teams.Exposure)\n    \n#OPTIONAL: Add or adjust players\n#more_team = {'Francesco Molinari':20,'Henrik Stenson':20,'Lucas Glover':20}\nmore_team = {'Xinjun Zhang':35}\n#more_team = {}\nfor p in more_team.keys():\n    df_teams.Exposure = np.where(df_teams.Player==p,more_team[p],df_teams.Exposure)\n    \ndf_teams = df_teams[df_teams.Exposure > 0].reset_index(drop=True)\ndf_teams",
      "execution_count": null,
      "outputs": []
    },
    {
      "metadata": {
        "trusted": true
      },
      "cell_type": "code",
      "source": "#initialize df_lineups, which will be written to csv\ndf_lineups = pd.DataFrame(columns=['G1','G2','G3','G4','G5','G6'])\ndf_lineups",
      "execution_count": null,
      "outputs": []
    },
    {
      "metadata": {
        "trusted": true
      },
      "cell_type": "code",
      "source": "#Now start churning\n#Now set parameters for number of teams and salary limits\nnum_teams = 32\nmin_sal = 58500\nmax_sal = 59800\n\n#Reset df_teams\ndf_teams['Actual Exposure'] = 0\n\nm = 0 #Completed teams so far\nwhile (m < num_teams):\n    #pick 6 players per probabilties\n    curr_team = []\n    df_now = df_teams.copy()\n    players = df_now['Name + ID'].tolist()\n    probs = df_now['Exposure'].tolist()\n    for i in range(players_left):\n        p = pick_element_per_probs(players,probs)\n        curr_team.append(p)\n        #prit('picked player {}'.format(p))\n        df_now = df_now[df_now['Name + ID']!=p]\n        players = df_now['Name + ID'].tolist()\n        probs = df_now['Exposure'].tolist()\n        \n    #Now curr_team is list of 6 names.  Check if salary matches\n    df_now = df_teams[df_teams['Name + ID'].isin(curr_team)]\n    total_own = df_now.Ownership.sum()\n    total_sal = df_now.Salary.sum() + sal_used\n    ##print(total_sal)\n    if (total_sal < min_sal or total_sal > max_sal or total_own > 85):\n        continue\n        \n    #Put team in order of decreasing salary\n    df_now.sort_values(by='Salary',ascending=False,inplace=True)\n    curr_team = lock_full_names + df_now['Name + ID'].tolist()\n    \n    #Check if team has shown up before in df_lineups\n    df3 = (df_lineups == np.array(curr_team))\n    old_team = df3.transpose().all().any() #True if team is already in df_lineups\n    if old_team:\n        continue\n        \n    #OK, so now we have a new team!  Add it to df_lineups\n    df_lineups.loc[m] = curr_team\n    #Also update 'Actual Exposure' in df_teams\n    new_players = np.where(df_teams['Name + ID'].isin(curr_team),1,0)\n    df_teams['Actual Exposure'] = df_teams['Actual Exposure'] + new_players\n    \n    #Finally increment m\n    m += 1\n    #print('m = {}'.format(m))\n    #print('Team {}, sal = {}'.format(m,total_sal))\n    \ndf_teams[['Player','Name + ID','Actual Exposure']]",
      "execution_count": null,
      "outputs": []
    },
    {
      "metadata": {
        "trusted": true
      },
      "cell_type": "code",
      "source": "#If you're good with actual exposure, then write it!\ndf_lineups.to_csv('Lineups/FD Entires.csv')",
      "execution_count": null,
      "outputs": []
    },
    {
      "metadata": {
        "trusted": true
      },
      "cell_type": "code",
      "source": "df_lineups",
      "execution_count": null,
      "outputs": []
    },
    {
      "metadata": {
        "trusted": true
      },
      "cell_type": "code",
      "source": "",
      "execution_count": null,
      "outputs": []
    }
  ],
  "metadata": {
    "kernelspec": {
      "name": "python36",
      "display_name": "Python 3.6",
      "language": "python"
    },
    "language_info": {
      "mimetype": "text/x-python",
      "nbconvert_exporter": "python",
      "name": "python",
      "pygments_lexer": "ipython3",
      "version": "3.6.6",
      "file_extension": ".py",
      "codemirror_mode": {
        "version": 3,
        "name": "ipython"
      }
    }
  },
  "nbformat": 4,
  "nbformat_minor": 2
}